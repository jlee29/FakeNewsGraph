{
 "cells": [
  {
   "cell_type": "code",
   "execution_count": 1,
   "metadata": {
    "collapsed": true
   },
   "outputs": [],
   "source": [
    "%matplotlib inline\n",
    "import csv\n",
    "from datetime import datetime\n",
    "from urlparse import urlparse\n",
    "import json\n",
    "import snap"
   ]
  },
  {
   "cell_type": "code",
   "execution_count": 2,
   "metadata": {
    "collapsed": true
   },
   "outputs": [],
   "source": [
    "def extractDomain(rawURL):\n",
    "\tparsedUrl = urlparse(rawURL)\n",
    "\tif parsedUrl.netloc.startswith('www.'):\n",
    "\t\treturn parsedUrl.netloc[4:]\n",
    "\treturn parsedUrl.netloc\n",
    "\n",
    "def isUninteresting(url):\n",
    "    if 'facebook' in url:\n",
    "        return True\n",
    "    elif 'instagram' in url:\n",
    "        return True\n",
    "    elif 'twitter' in url:\n",
    "        return True\n",
    "    elif 'google' in url:\n",
    "        return True\n",
    "    elif 'youtube' in url:\n",
    "        return True\n",
    "    elif url == 'https://t.co/':\n",
    "        return True\n",
    "    elif 'bit.ly' in url:\n",
    "        return True\n",
    "    else:\n",
    "        return False"
   ]
  },
  {
   "cell_type": "code",
   "execution_count": 3,
   "metadata": {
    "collapsed": true
   },
   "outputs": [],
   "source": [
    "domainToNodeID = json.load(open(\"domainToNodeID_ALL.txt\"))\n",
    "nodeIDToDomain = {v: k for k, v in domainToNodeID.iteritems()}\n",
    "\n",
    "LinkGraph = snap.LoadEdgeList(snap.PNGraph, \"LinkGraph_ALL_pruned.txt\", 0, 1)"
   ]
  },
  {
   "cell_type": "code",
   "execution_count": 4,
   "metadata": {
    "collapsed": true
   },
   "outputs": [],
   "source": [
    "leftSet = set(['drudge.com', 'washingtonsources.org', 'akkadiantimes.com', 'deadstate.org', 'thelasource.com', 'americablog.com', 'meduza.io', 'thenewcivilrightsmovement.com', 'newstatesman.com', 'wonkette.com', 'mirror.co.uk', 'libcom.org', 'deepleftfield.info', 'intrepidreport.com', 'rawprogressive.com', 'viraltitle.com', 'worldcantwait.net', 'happy-foxie.com', 'newint.org', 'revcom.us', 'lavendermagazine.com', 'newrepublic.com', 'washingtonpress.com', 'theimproper.com', 'nationofchange.org', 'projectcensored.org', 'peacock-panache.com', 'newpol.org', 'democracyguardian.com', 'dallasvoice.com', 'uproxx.com', 'jezebel.com', 'bluedotdaily.com', 'content.news', 'boingboing.net', 'blacklivesmatter.com', 'reverepress.com', 'whatmattersnews.com', 'au.org', 'hrc.org', 'impeachdjtnow.com', 'leftoverrights.com', 'progressivefrontier.com', 'putintrump.org', 'progressive.org', 'newshounds.us', 'liberationnews.org', 'certifiedpolitics.com', 'angrywhitemen.org', 'forwardprogressives.com', 'theintellectualist.co', 'smirkingchimp.com', 'elitedaily.com', 'leftwingnation.org', 'daily49er.com', 'itsgoingdown.org', 'jacobinmag.com', 'tribunemagazine.org', 'leftscoop.com', 'democraticunderground.com', 'yesmagazine.org', 'newyorker.com', 'theroot.com', 'fifthestate.org', 'electronicintifada.net', 'allthatsfab.com', 'upworthy.com', 'moonofalabama.org', 'themaven.net', 'freepress.org', 'salon.com', 'carbonated.tv', 'mondoweiss.net', 'austinchronicle.com', 'globalvoices.org', 'thedailyvox.co.za', 'yourblackworld.net', 'meanlefthook.com', 'backedbyfact.com', 'gizmodo.com', 'liberalexaminer.com', 'care2.com', 'dctribune.org', 'leftfootforward.org', 'workers.org', 'newslogue.com', 'rewire.news', 'pravdareport.com', 'gq.com', 'foreignpolicyjournal.com', 'redpepper.org.uk', 'act.tv', 'leftsideofhistory.com', 'redyouth.org', 'politicaldig.com', 'crooksandliars.com', 'americanbridgepac.org', 'commondreams.org', 'chicagoreader.com', 'marxist.com', 'dailydot.com', 'nymag.com', 'guardianlv.com', 'telesurtv.net', 'pinknews.co.uk', 'filmingcops.com', 'photographyisnotacrime.com', 'washingtonmonthly.com', 'republicanssucks.org', 'theuspoliticalpost.com', 'ebar.com', 'politicususa.com', 'iowastartingline.com', 'lgbtqnation.com', 'blackagendareport.com', 'foreignpolicynews.org', 'opednews.com', 'thenation.com', 'pastemagazine.com', 'proudemocrat.com', 'thedailybanter.com', 'washingtonjournal.com', 'loveknowledge.org', 'codepink.org', 'worldsocialism.org', 'breitbartunmasked.com', 'samuel-warde.com', 'dailydems.com', 'advocate.com', 'internationalviewpoint.org', 'progressivearmy.com', 'aidc.org.za', 'samefacts.com', 'thefloridasqueeze.com', 'freedomnews.org.uk', 'people.com', 'elisabethparker.com', 'politicalupdater.com', 'earthfirstjournal.org', 'nowthisnews.com', 'wearyourvoicemag.com', 'chroniclesofdemocracy.com', 'thefrisky.com', 'modernliberals.com', 'blue-route.org', 'resilience.org', 'afj.org', 'gopocalypse.org', 'north99.org', 'curvemag.com', 'esquire.com', 'citizencritics.org', 'shadowproof.com', 'readingthepictures.org', 'ir.net', 'leftvoice.org', 'takepart.com', 'democracynow.org', 'other98.com', 'inthesetimes.com', 'scarymommy.com', 'dailykos.com', 'deepstatenation.com', 'feministcurrent.com', 'verrit.com', 'morningstaronline.co.uk', 'currentaffairs.org', 'bust.com', 'dieharddemocrat.com', 'rantt.com', 'littlegreenfootballs.com', 'citypaper.com', 'usuncut.com', 'extranewsfeed.com', 'evonomics.com', 'mashable.com', 'americanprogress.org', 'towleroad.com', 'verifiedpolitics.com', 'syriana-analysis.com', 'nap-sack.org', 'nova-magazine.net', 'tytnetwork.com', 'truth-out.org', 'dissentmagazine.org', 'theguardiansofdemocracy.com', 'redstatedisaster.com', 'nationalmemo.com', 'truthagainstthemachine.com', 'thinkprogress.org', 'countercurrents.org', 'frnewsreport.com', 'zcomm.org', 'mediamatters.org', 'theoswatch.com', 'thegrio.com', 'splinternews.com', 'the-daily.buzz', 'economyincrisis.org', 'texasobserver.org', 'electoral-vote.com', 'antifascistnews.net', 'truthdig.com', 'desmogblog.com', 'liberalamerica.org', 'motherjones.com', 'talkingpointsmemo.com', 'pressprogress.ca', 'ourvoiceny.com', 'addictinginfo.com', 'vox.com', 'everydayfeminism.com', 'merryjane.com', 'vanityfair.com', 'change.org', 'deadspin.com', 'inequalitymedia.org', 'queerty.com', 'rightwingwatch.org', 'front.moveon.org', 'theestablishment.co', 'cnntimes.online', 'pfaw.org', 'revolution-news.com', 'onegreenplanet.org', 'vermontindependent.org', 'prwatch.org', 'slate.com', 'bluenationreview.com', 'greenleft.org.au', 'themilitant.com', 'popularresistance.org', 'ips-dc.org', 'thelily.com', 'whowhatwhy.org', 'readersupportednews.org', 'news.groopspeak.com', 'thesternfacts.com', 'canadiandimension.com', 'rawstory.com', 'vote.us.org', 'molad.org', 'newscorpse.com', 'nowtoronto.com', 'dailynewsbin.com', 'bradford-delong.com', 'dailyrecord.co.uk', 'rabble.ca', 'progressiveliberal.net', 'theburningspear.com', 'bitchmedia.org', 'good.is', 'cnn.com', 'americanindependent.com', 'feministing.com', 'counterpunch.org', 'crimethinc.com', 'middleeastmonitor.com', 'crooked.com', 'huffingtonpost.com', 'freespeech.org', 'climaterealityproject.org', 'firstpost.com', 'egbertowillies.com', 'theoutline.com', 'stpete4peace.org', 'bluestatedaily.com', 'prospect.org', 'msmagazine.com', 'cosmopolitan.com', 'mediaite.com', 'rappler.com', 'villagevoice.com', 'thedailybeast.com', 'socialistworker.org', 'autostraddle.com', 'alternet.org', 'latest.com', 'shareblue.com', 'trofire.com', 'newsweek.com', 'palmerreport.com', 'sourcewatch.org', 'americannewsx.com', 'globetoday.com', 'miaminewtimes.com', 'themarysue.com', 'thewalrus.ca', 'this.org', 'thelondoneconomic.com', 'democratichub.com', 'thecanary.co', 'juancole.com', 'greenvillegazette.com'])"
   ]
  },
  {
   "cell_type": "code",
   "execution_count": 5,
   "metadata": {
    "collapsed": true
   },
   "outputs": [],
   "source": [
    "leftCenterSet = set(['helsinkitimes.fi', 'indystar.com', 'news.trust.org', 'canadalandshow.com', 'lapresse.ca', 'timescolonist.com', 'ahtribune.com', 'rudaw.net', 'berkshireeagle.com', 'almasdarnews.com', 'theatlantic.com', 'wgntv.com', 'thenewstribune.com', 'ozy.com', 'politico.com', 'syriahr.com', 'billmoyers.com', 'denverpost.com', 'thelocal.no', 'populationconnection.org', 'elpasotimes.com', 'nakedcapitalism.com', 'buffalonews.com', 'thecitizen.org.au', 'ynetnews.com', 'timesofisrael.com', 'glamour.com', 'windsorstar.com', 'sfgate.com', 'stltoday.com', 'politicsthatwork.com', 'newsandgutsmedia.com', 'jointcenter.org', 'ydr.com', 'democratandchronicle.com', 'credoaction.com', 'vancouversun.com', 'outsidethebeltway.com', 'twincities.com', 'thenewtropic.com', 'scroll.in', 'phoenixnewtimes.com', 'taxjustice.net', 'mediafiledc.com', 'thefifthcolumnnews.com', 'freep.com', 'emirates247.com', 'wnyc.org', 'spiegel.de', 'thetab.com', 'al-monitor.com', 'saudigazette.com.sa', 'lethbridgeherald.com', 'atlantablackstar.com', 'urban.org', 'revealnews.org', 'bustle.com', 'legitgov.org', 'mwcnews.net', 'thewire.in', 'hindustantimes.com', 'themoscowtimes.com', 'humanium.org', 'cbsnews.com', 'fair.org', 'insidehighered.com', 'rfa.org', 'deccanherald.com', 'youthradio.org', 'qz.com', 'resourcegovernance.org', 'wingsoverscotland.com', 'dutchdailynews.com', 'sojo.net', 'lawfareblog.com', 'jihadica.com', 'panampost.com', 'economictimes.indiatimes.com', 'tomdispatch.com', 'greensboro.com', 'nj.com', 'caribbeanlifenews.com', 'insideclimatenews.org', 'inquirer.net', 'ohio.com', 'capitalgazette.com', 'diversityinc.com', 'therealnews.com', 'newsite.thehindu.com', 'shameproject.com', 'themonthly.com.au', 'abcnews.go.com', 'citizen.org', 'votevets.org', 'dawn.com', 'sandiegofreepress.org', 'kmov.com', 'newsy.com', 'heavy.com', 'staradvertiser.com', 'tucson.com', 'dailyclimate.org', 'bbc.com', 'neweurope.eu', 'alhayat.com', 'birminghammail.co.uk', 'commoncause.org', 'roanoke.com', 'cleantechnica.com', 'ajc.com', 'monthlyreview.org', 'bluestemprairie.com', 'courant.com', 'emptywheel.net', 'rooseveltinstitute.org', 'citizensforethics.org', 'silive.com', 'earthjustice.org', 'sootoday.com', 'necn.com', 'engadget.com', 'newser.com', 'morningconsult.com', 'ndtv.com', 'economicshelp.org', 'annistonstar.com', 'kotaku.com', 'nbcnews.com', 'berkeleyside.com', 'insidephilanthropy.com', 'opendemocracy.net', 'fpif.org', 'abc11.com', 'worldpolicy.org', 'gaystarnews.com', 'nationinstitute.org', 'news.cn', 'koreatimes.co.kr', 'newsday.com', 'independent.com', 'courier-journal.com', 'ncpolicywatch.com', 'propublica.org', 'time.com', 'positive.news', 'fresnobee.com', 'globalcitizen.org', 'sbs.com.au', 'inverse.com', 'prospectmagazine.co.uk', 'sfexaminer.com', 'news.sky.com', 'indymedia.org', 'news.mongabay.com', 'kurdistan24.net', 'msn.com', 'vice.com', 'icenews.is', 'carolinapublicpress.org', 'irrawaddy.com', 'fightforthefuture.org', 'euractiv.com', 'theneed2know.com', 'cctv-america.com', 'presstv.com', 'digg.com', 'inquisitr.com', 'fusion.net', 'factmyth.com', 'affinitymagazine.us', 'uawire.org', 'alliedprogress.org', 'miamiherald.com', 'tabletmag.com', 'statesman.com', 'seattletimes.com', 'taxpolicycenter.org', 'nydailynews.com', 'ctvnews.ca', 'greentechmedia.com', 'fastcompany.com', 'ctj.org', 'thestranger.com', 'chicago.suntimes.com', 'ciponline.org', 'theautomaticearth.com', 'calgaryherald.com', 'cnbc.com', 'wvgazettemail.com', 'republicworld.com', 'al-sura.com', 'thisisthezerohour.com', 'metro.co.uk', 'politicalcritique.org', 'hurriyetdailynews.com', 'feministfrequency.com', 'inews.co.uk', 'startribune.com', 'tampabay.com', 'eff.org', 'macleans.ca', 'lawnewz.com', 'psmag.com', 'adn.com', 'nrdc.org', 'freakonomics.com', 'metro.us', 'liberalmountain.com', 'natmonitor.com', 'newstimes.com', 'globalriskinsights.com', 'baltimoresun.com', 'nature.org', 'rationalwiki.org', 'sfglobe.com', 'timesheadline.com', 'delawareonline.com', 'swissinfo.ch', 'freepress.net', 'wilderness.org', 'sltrib.com', 'guttmacher.org', 'baptistnews.com', 'ibtimes.com', 'geopoliticsalert.com', 'budapestbeacon.com', 'pilotonline.com', 'euobserver.com', 'muncievoice.com', 'thetyee.ca', 'thechristianleft.org', 'stopfake.org', 'cjr.org', 'koco.com', 'bangordailynews.com', 'pluralist.com', 'minnpost.com', 'nytimes.com', 'newmatilda.com', 'bostonglobe.com', 'citizentruth.org', 'demos.org', 'populardemocracy.org', 'colombiareports.com', 'ifamericaknew.org', 'healthyway.com', 'attn.com', 'thebaffler.com', 'mprnews.org', 'theringer.com', 'thestar.com', 'worldaffairsjournal.org', 'theguardian.com', 'imeu.org', 'globaltimes.cn', 'citizen-times.com', 'sacbee.com', 'migrationpolicy.org', 'hollywoodreporter.com', 'mysanantonio.com', 'northjersey.com', 'yahoo.com', 'corporatepresidency.org', 'irinnews.org', 'hcn.org', 'backchannel.com', 'upr.org', 'fivethirtyeight.com', 'businessinsider.com', 'tcf.org', 'atlanticmedia.com', 'thehill.com', 'charlotteobserver.com', 'knightfoundation.org', 'medium.com', 'thevarsity.ca', 'santafenewmexican.com', 'oilandwaterdontmix.org', 'wired.com', 'pressdemocrat.com', 'pbs.org', 'canadians.org', 'pressherald.com', 'philly.com', 'ocweekly.com', 'thesaturdaypaper.com.au', 'lifehacker.com', 'theoslotimes.com', 'aol.com', 'npr.org', 'commonwealmagazine.org', 'ips.org', 'leftjustified.com', 'nationalobserver.com', 'interpretermag.com', 'adl.org', 'sentencingproject.org', 'bloomberg.com', 'hrw.org', 'investigaterussia.org', 'chicagoreporter.com', 'rollingstone.com', 'theintercept.com', 'nationalnewswatch.com', 'pri.org', 'oneindia.com', 'dailytarheel.com', 'theweek.com', 'uft.org', 'cleveland.com', 'councilforthenationalinterest.org', 'theage.com.au', 'theolympian.com', 'africanarguments.org', 'ourworldindata.org', 'magazine.atavist.com', 'newsdeeply.com', 'dutchreview.com', 'dw.com', 'stocksnewsdaily.com', 'deadline.com', 'aljazeera.com', 'mainebeacon.com', 'abovethelaw.com', 'aclu.org', 'forward.com', 'thestate.com', 'liveleak.com', 'providencejournal.com', 'mic.com', 'kuow.org', 'mtdemocrat.com', 'ecfr.eu', 'irishtimes.com', 'elpais.com', 'thetrace.org', 'commonwealthfund.org', 'newsone.com', 'france24.com', 'newsobserver.com', 'wallstreetonparade.com', 'aranews.net', 'mintpressnews.com', 'fairvote.org', 'thesunmagazine.org', 'eastbaytimes.com', 'independentaustralia.net', 'usatoday.com', 'calwatchdog.com', 'zeit.de', 'exposingtruth.com', 'latimes.com', 'cbc.ca', 'news.com.au', 'toinformistoinfluence.com', 'thenextweb.com', 'universitybusiness.com', 'kentucky.com', 'smh.com.au', 'texasmonthly.com', 'worldcrunch.com', 'buzzfeed.com', 'newmoderate.com', 'dailyhive.com', 'amny.com', 'heraldnet.com', 'haaretz.com', 'timesunion.com', 'jsonline.com', 'washingtonblade.com', 'itep.org', 'newsgru.com', 'sfchronicle.com', 'brookings.edu', 'alaraby.co.uk', 'axios.com', 'lohud.com', 'youthrights.org', 'independent.co.uk', 'egyptianstreets.com', 'stepfeed.com', 'harpers.org', 'americamagazine.org', 'vulture.com', 'seattlepi.com', 'patrioticmillionaires.org', 'newleftreview.org', 'scoopwhoop.com', 'fwweekly.com', 'nola.com', 'pennlive.com', 'mexiconewsdaily.com', 'ipolitics.ca', 'jpost.com', 'kfor.com', 'rightweb.irc-online.org', 'usnews.com', 'crosscut.com', 'washingtonpost.com', 'icrw.org', 'historynewsnetwork.org', 'thenevadaindependent.com', 'sandiegoreader.com', 'bjreview.com', 'techdirt.com', 'crisisgroup.org', 'techcrunch.com', 'religionnews.com', 'latintimes.com', 'stuff.co.nz', 'epi.org', 'montrealgazette.com', 'globalnews.ca', 'unicornriot.ninja', 'opposingviews.com', 'democracy21.org', 'grist.org', 'naacp.org', 'azdailysun.com', 'pulsegulfcoast.com', 'us.blastingnews.com', 'governing.com', 'edmontonjournal.com', 'highline.huffingtonpost.com', 'secondnexus.com', 'theverge.com', 'kansascity.com', 'mercurynews.com', 'aeon.co', 'apmreports.org', 'dcreport.org', 'cbpp.org', 'theodysseyonline.com', 'transequality.org', 'factbox.tv', 'timeline.com', 'mnn.com', 'splcenter.org', 'brennancenter.org'])"
   ]
  },
  {
   "cell_type": "code",
   "execution_count": 6,
   "metadata": {
    "collapsed": true
   },
   "outputs": [],
   "source": [
    "rightCenterSet = set(['newsheist.com', 'theobjectivestandard.com', 'washingtontimes.com', 'hpenews.com', 'gazette.com', 'cfr.org', 'al.com', 'richmond.com', 'pe.com', 'lexingtoninstitute.org', 'realcleardefense.com', 'policyed.org', 'theihs.org', 'newsrescue.com', 'thesmokinggun.com', 'financialpost.com', 'thegazette.com', 'hoover.org', 'cjnews.com', 'duluthnewstribune.com', 'manhattan-institute.org', 'cincinnati.com', 'studentnewsdaily.com', 'jamestown.org', 'columbiadailyherald.com', 'lbc.co.uk', 'breakingdefense.com', 'thefiscaltimes.com', 'militarytimes.com', 'lfpress.com', 'checkyourfact.com', 'desertsun.com', 'watchdog.org', 'nationalaffairs.com', 'taxpayer.com', 'heraldsun.com.au', 'thenewatlantis.com', 'nationalpost.com', 'postbulletin.com', 'cjonline.com', 'thereaganbattalion.com', 'dallasnews.com', 'post-gazette.com', 'jewishpress.com', 'christianitytoday.com', 'fortnightlyreview.co.uk', 'chicagotribune.com', '9news.com.au', 'realclearreligion.org', 'washingtonbabylon.com', 'srnnews.com', 'volkskrant.nl', 'lynx.media', 'thenational.ae', 'commdiginews.com', 'thebreakthrough.org', 'rstreet.org', 'algemeiner.com', 'honestreporting.com', 'circa.com', 'news-gazette.com', 'arkansasonline.com', 'theamericanconservative.com', 'tennessean.com', 'eppc.org', 'the-japan-news.com', 'savannahnow.com', 'tbo.com', 'americanfirearms.org', 'fpri.org', 'israelnationalnews.com', 'acsh.org', 'thelibertarianrepublic.com', 'valuewalk.com', 'manilatimes.net', 'realclearpolitics.com', 'rep-am.com', 'thechronicleherald.ca', 'deseretnews.com', 'spectator.co.uk', 'justfacts.com', 'heterodoxacademy.org', 'thetimes.co.uk', 'couriermail.com.au', 'ottawacitizen.com', 'guns.com', 'nation.com.pk', 'westmonster.com', 'antiwar.com', 'swarajyamag.com', 'sungazette.com', 'remingtonresearchgroup.com', 'americanactionforum.org', 'tulsaworld.com', 'theaustralian.com.au', 'thehindubusinessline.com', 'straitstimes.com', 'peninsuladailynews.com', 'japantoday.com', 'foreignpolicyi.org', 'deccanchronicle.com', 'statesmanjournal.com', 'fbherald.com', 'independent.ie', 'standard.co.uk', 'independent.org', 'nypost.com', '71republic.com', 'downsizinggovernment.org', 'sofrep.com', 'cato.org', 'reviewjournal.com', 'gulfnews.com', 'orlandosentinel.com', 'thetimesherald.com', 'forbes.com', 'dispatch.com', 'spokesman.com', 'oklahoman.com', 'freedomhouse.org', 'the-american-interest.com', 'thestarphoenix.com', 'cei.org', 'afpc.org', 'sbsun.com', 'israelhayom.com', 'itv.com', 'mises.org', 'tharawat-magazine.com', 'thequint.com', 'rasmussenreports.com', 'justfactsdaily.com', 'telegraph.co.uk', 'billingsgazette.com', 'azcentral.com', 'mackinac.org', 'tass.com', 'learnliberty.org', 'taxfoundation.org', 'omaha.com', 'oilprice.com', 'jewishbreakingnews.com', 'jns.org', 'capoliticalreview.com', 'campaignforliberty.org', 'reason.com', 'triblive.com', 'punchingbagpost.com', 'franklincenterhq.org', 'sputniknews.com', 'inhomelandsecurity.com', 'realclearinvestigations.com', 'tnonline.com', 'insidesources.com', 'oaoa.com', 'ocregister.com', 'group30.org', 'koreaherald.com', 'realclearpolicy.com', 'arabnews.com', 'fortune.com', 'russia-insider.com', 'theepochtimes.com', 'daltondailycitizen.com', 'dailynews.com', 'wsj.com', 'nationalinterest.org', 'fraserinstitute.org', 'sun-sentinel.com', 'calgarysun.com', 'fee.org', 'c4ss.org', 'jacksonville.com', 'thewest.com.au', 'bostonherald.com', 'nos.nl', 'pacificresearch.org', 'edmontonsun.com', 'theglobeandmail.com', 'newsline.com', 'theecjournal.com', 'timeslive.co.za', 'mynorthwest.com', 'kutv.com', 'detroitnews.com', 'ntd.tv', 'journalnow.com', 'humanprogress.org', 'tallahassee.com', 'oregonlive.com', 'mlive.com', 'star-telegram.com', 'international.thenewslens.com', 'toledoblade.com', 'chronicle.augusta.com', 'dailyherald.com', 'valleynewslive.com', 'libertyviral.com', 'faithfamilyamerica.com', 'wikileaks.org', 'dailypress.com', 'armstrongeconomics.com', 'kansas.com', 'thejacknews.com', 'strategic-culture.org', 'quillette.com', 'bipartisanpolicy.org', 'americasquarterly.org'])"
   ]
  },
  {
   "cell_type": "code",
   "execution_count": 7,
   "metadata": {
    "collapsed": true
   },
   "outputs": [],
   "source": [
    "rightSet = set(['twitchy.com', 'hermancain.com', 'politifeed.net', 'capitalresearch.org', 'politicsnote.com', 'powerlineblog.com', 'clear-politics.com', 'thecitizenpress.com', 'redflagnews.com', 'lifenews.com', 'bluelivesmatter.blue', 'mrc.org', 'commentarymagazine.com', 'nccivitas.org', 'gopusa.com', 'controversialtimes.com', 'thesun.co.uk', 'tennesseestar.com', 'unbiasedamerica.com', 'thenewamerican.com', 'aa.com.tr', 'redalertpolitics.com', 'cowgernation.com', 'opslens.com', 'therightscoop.com', 'hoover.org', 'onenewsnow.com', 'teapartytribune.com', 'therealstrategy.com', 'faithwire.com', 'ronpaullibertyreport.com', 'theblaze.com', 'westernjournal.com', 'crimeresearch.org', 'christiannewsalerts.com', 'beinglibertarian.com', 'unitynewsnetwork.co.uk', 'fedsoc.org', 'vesselnews.io', 'unionleader.com', 'notliberal.com', 'adelaidenow.com.au', 'erlc.com', 'alphanewsmn.com', 'factsandlogic.org', 'campaignlifecoalition.com', 'drudgereport.com', 'firstinfreedomdaily.com', 'libertyhangout.org', 'conservativedailynews.com', 'offgridsurvival.com', 'ibleedredwhiteblue.com', 'ac2news.com', 'whatfinger.com', 'thedailyliberator.com', 'dcstatesman.com', 'acculturated.com', 'politichicks.com', 'order-order.com', 'freedomworks.org', 'theblacksphere.net', 'dailysignal.com', 'express.co.uk', 'ronpaulinstitute.org', 'americanthinker.com', 'mediaequalizer.com', 'jewishworldreview.com', 'gop.com', 'nationalreview.com', 'ipatriot.com', 'newrevolutionnow.org', 'kansaspolicy.org', 'libertynation.com', 'economicpolicyjournal.com', 'renewedright.com', 'thefederalist.com', 'lyincomey.com', 'freerepublic.com', 'freewestmedia.com', 'altnewsmedia.net', 'conservativetoday.com', 'sbgi.net', 'chicksontheright.com', 'debatepost.com', 'restoreamericanglory.com', 'farleftwatch.com', 'ussanews.com', 'futureinamerica.com', 'colddeadhands.us', 'unwatch.org', 'en.mehrnews.com', 'illinoispolicy.org', 'uspoliticsinfo.com', 'americanmilitarynews.com', 'defenddemocracy.org', 'home.nra.org', 'projectveritas.com', 'americanewshub.com', 'dangerous.com', 'conservativewoman.co.uk', 'theconservativenut.gop', 'theamericancause.org', 'biggovernment.news', 'whitehouse.gov', 'tasnimnews.com', 'observer.com', 'humanevents.com', 'bigleaguepolitics.com', 'publicinterestlegal.org', 'nextnewsnetwork.com', 'ammoland.com', 'spectator.org', 'patriotpost.us', 'numbersusa.com', 'ijr.com', 'legalinsurrection.com', 'loneconservative.com', 'therebel.media', 'quadrant.org.au', 'wnd.com', 'dailytelegraph.com.au', 'brexitcentral.com', 'newbostonpost.com', 'regated.com', 'thedailydefender.com', 'townhall.com', 'dcwhispers.com', 'silenceisconsent.net', 'worldtribune.com', 'conservativebase.com', 'newlypress.com', 'foxnews.com', 'iwf.org', 'rd.com', 'westernfreepress.com', 'ca-political.com', 'citizensunited.org', 'keepandbear.com', 'judicialnetwork.com', 'youngcons.com', 'freebeacon.com', 'jewishpolicycenter.org', 'citizenfreepress.com', 'lifesitenews.com', 'aclj.org', 'academia.org', 'conservativereview.com', 'sonorannews.com', 'teapartypatriots.org', 'beliefnet.com', 'nationalcenter.org', 'firstthings.com', 'dailymail.co.uk', 'tpusa.com', '2ndvote.com', 'awm.com', 'newsbusters.org', 'dailycaller.com', 'weaselzippers.us', 'heritage.org', 'americandailynews.org', 'mercatornet.com', 'ontarioproud.ca', 'federalistpress.com', 'ntknetwork.com', 'acting-man.com', 'conservativeshere.com', 'politi.site', 'weeklystandard.com', 'ricochet.com', 'mediacircus.com', 'libertyheadlines.com', 'g-a-i.org', 'investors.com', 'hillarydaily.com', 'imprimis.hillsdale.edu', 'bearingarms.com', 'chroniclesmagazine.org', 'guerrilla.news', 'knoxreport.com', 'westernjournalism.com', 'louderwithcrowder.com', 'allenbwest.com', 'tehrantimes.com', 'standpointmag.co.uk', 'oann.com', 'getreligion.org', 'deplorablesreport.com', 'energycitizens.org', 'crisismagazine.com', 'fightpp.org', 'tribunist.com', 'themilreview.com', 'alec.org', 'churchmilitant.com', 'hudson.org', 'ifstudies.org', 'gatestoneinstitute.org', 'aei.org', 'campusreform.org', 'patriotretort.com', 'populistwire.com', 'world.wng.org', 'amgreatness.com', 'city-journal.org', 'washingtonexaminer.com', 'intellectualtakeout.org', 'thehayride.com', 'arizonadailyindependent.com', 'therantidote.com', 'theresurgent.com', 'americanlibertyreport.com', 'dailysurge.com', 'disobedientmedia.com', 'libertytalk.fm', 'theconservativetreehouse.com', 'conservativeoutfitters.com', 'americanconsequences.com', 'libertynews.com', 'bizpacreview.com', 'thetruthaboutguns.com', 'newsmax.com', 'torontosun.com', 'lifezette.com', 'heartland.org', 'secureamericanow.org', 'thepostemail.com', 'ff.org', 'cscmediagroupus.com', 'thecollegefix.com', 'carepublican.com', 'heatst.com', 'trtworld.com', 'conservativesus.party', 'independentsentinel.com', 'vivaliberty.com', 'aim.org', 'familysecuritymatters.org', 'yellowhammernews.com', 'lifeandabout.com', 'offendedamerica.com', 'sentinelksmo.org', 'savejersey.com', 'resistancemedia.org', 'christianpost.com', 'thepostmillennial.com', 'conservativeinstitute.org', 'thepoliticalinsider.com', 'yaf.org', 'dailysabah.com', 'pjmedia.com', 'spiked-online.com', 'freedomcrossroads.com', 'dailywire.com', 'patriotnewsdaily.com', 'usapoliticstoday.com', 'conservativehq.com'])"
   ]
  },
  {
   "cell_type": "code",
   "execution_count": 12,
   "metadata": {},
   "outputs": [
    {
     "name": "stdout",
     "output_type": "stream",
     "text": [
      "8517\n"
     ]
    }
   ],
   "source": [
    "prunedNodeIDs = set()\n",
    "for Node in LinkGraph.Nodes():\n",
    "    prunedNodeIDs.add(Node.GetId())"
   ]
  },
  {
   "cell_type": "code",
   "execution_count": 13,
   "metadata": {},
   "outputs": [
    {
     "name": "stdout",
     "output_type": "stream",
     "text": [
      "0.229464490611\n",
      "105\n"
     ]
    }
   ],
   "source": [
    "leftClusteringCoefficient = 0\n",
    "leftCount = 0\n",
    "for link in leftSet:\n",
    "    if link in domainToNodeID:\n",
    "        if domainToNodeID[link] in prunedNodeIDs:\n",
    "            leftCount += 1\n",
    "            leftClusteringCoefficient += snap.GetNodeClustCf(LinkGraph, domainToNodeID[link])\n",
    "print leftClusteringCoefficient*1.0/leftCount\n",
    "print leftCount"
   ]
  },
  {
   "cell_type": "code",
   "execution_count": 14,
   "metadata": {},
   "outputs": [
    {
     "name": "stdout",
     "output_type": "stream",
     "text": [
      "0.19727042878\n",
      "277\n"
     ]
    }
   ],
   "source": [
    "leftCenterClusteringCoefficient = 0\n",
    "leftCenterCount = 0\n",
    "for link in leftCenterSet:\n",
    "    if link in domainToNodeID:\n",
    "        if domainToNodeID[link] in prunedNodeIDs:\n",
    "            leftCenterCount += 1\n",
    "            leftCenterClusteringCoefficient += snap.GetNodeClustCf(LinkGraph, domainToNodeID[link])\n",
    "print leftCenterClusteringCoefficient*1.0/leftCenterCount\n",
    "print leftCenterCount"
   ]
  },
  {
   "cell_type": "code",
   "execution_count": 15,
   "metadata": {},
   "outputs": [
    {
     "name": "stdout",
     "output_type": "stream",
     "text": [
      "0.190933969074\n",
      "122\n"
     ]
    }
   ],
   "source": [
    "rightCenterClusteringCoefficient = 0\n",
    "rightCenterCount = 0\n",
    "for link in rightCenterSet:\n",
    "    if link in domainToNodeID:\n",
    "        if domainToNodeID[link] in prunedNodeIDs:\n",
    "            rightCenterCount += 1\n",
    "            rightCenterClusteringCoefficient += snap.GetNodeClustCf(LinkGraph, domainToNodeID[link])\n",
    "print rightCenterClusteringCoefficient*1.0/rightCenterCount\n",
    "print rightCenterCount"
   ]
  },
  {
   "cell_type": "code",
   "execution_count": 16,
   "metadata": {},
   "outputs": [
    {
     "name": "stdout",
     "output_type": "stream",
     "text": [
      "0.234843308957\n",
      "74\n"
     ]
    }
   ],
   "source": [
    "rightClusteringCoefficient = 0\n",
    "rightCount = 0\n",
    "for link in rightSet:\n",
    "    if link in domainToNodeID:\n",
    "        if domainToNodeID[link] in prunedNodeIDs:\n",
    "            rightCount += 1\n",
    "            rightClusteringCoefficient += snap.GetNodeClustCf(LinkGraph, domainToNodeID[link])\n",
    "print rightClusteringCoefficient*1.0/rightCount\n",
    "print rightCount"
   ]
  },
  {
   "cell_type": "code",
   "execution_count": 17,
   "metadata": {},
   "outputs": [
    {
     "name": "stdout",
     "output_type": "stream",
     "text": [
      "0.220514220531\n"
     ]
    }
   ],
   "source": [
    "GraphClustCoeff = snap.GetClustCf (LinkGraph, -1)\n",
    "print GraphClustCoeff"
   ]
  },
  {
   "cell_type": "code",
   "execution_count": 27,
   "metadata": {
    "collapsed": true
   },
   "outputs": [],
   "source": [
    "def plot_degree_distribution():\n",
    "    \"\"\"\n",
    "    Code for HW1 Q1.1\n",
    "    \"\"\"\n",
    "    global LinkGraph\n",
    "    plt.title(\"Node Degree Distribution\")\n",
    "    plt.xlabel(\"Polarity\")\n",
    "    plt.ylabel(\"Clustering Coefficient\")\n",
    "    plt.bar([-1, -0.5, 0.5, 1], [0.108985685024, 0.0890784282588, 0.0890784282588, 0.118718631538])\n"
   ]
  },
  {
   "cell_type": "code",
   "execution_count": 28,
   "metadata": {},
   "outputs": [
    {
     "data": {
      "image/png": "[encoded data removed]",
      "text/plain": [
       "<matplotlib.figure.Figure at 0x11f9bbad0>"
      ]
     },
     "metadata": {},
     "output_type": "display_data"
    }
   ],
   "source": [
    "import matplotlib.pyplot as plt\n",
    "plot_degree_distribution()"
   ]
  },
  {
   "cell_type": "code",
   "execution_count": 55,
   "metadata": {},
   "outputs": [
    {
     "name": "stdout",
     "output_type": "stream",
     "text": [
      "497\n",
      "24147\n"
     ]
    }
   ],
   "source": [
    "from operator import itemgetter\n",
    "import operator \n",
    "def getDataPointsToPlot(Graph):\n",
    "    \"\"\"\n",
    "    :param - Graph: snap.PUNGraph object representing an undirected graph\n",
    "\n",
    "    return values:\n",
    "    X: list of degrees\n",
    "    Y: list of frequencies: Y[i] = fraction of nodes with degree X[i]\n",
    "    \"\"\"\n",
    "    ############################################################################\n",
    "    # TODO: Your code here!\n",
    "    X, Y = [], []\n",
    "\n",
    "    frequencies = {}\n",
    "    for node in Graph.Nodes():\n",
    "        count = node.GetDeg() \n",
    "        if count not in frequencies:\n",
    "            frequencies[count] = 1\n",
    "        else:\n",
    "            frequencies[count] += 1\n",
    "    curr_count = 0\n",
    "    print len(frequencies)\n",
    "    max_number = max(frequencies.iteritems(), key=operator.itemgetter(0))[0]\n",
    "    print max_number\n",
    "    cumulative_counts = []\n",
    "    for i in range(max_number): \n",
    "        if i in frequencies: \n",
    "            curr_count += frequencies[i] * i\n",
    "        cumulative_counts.append(curr_count)\n",
    "    \n",
    "    return cumulative_counts\n",
    "\n",
    "cumulative_counts = getDataPointsToPlot(LinkGraph)\n"
   ]
  },
  {
   "cell_type": "code",
   "execution_count": 59,
   "metadata": {},
   "outputs": [
    {
     "data": {
      "text/plain": [
       "[<matplotlib.lines.Line2D at 0x15520a490>]"
      ]
     },
     "execution_count": 59,
     "metadata": {},
     "output_type": "execute_result"
    },
    {
     "data": {
      "image/png": "[encoded data removed]",
      "text/plain": [
       "<matplotlib.figure.Figure at 0x1547b6590>"
      ]
     },
     "metadata": {},
     "output_type": "display_data"
    }
   ],
   "source": [
    "plt.title(\"Cumulative Node Degree Distribution\")\n",
    "plt.xlabel(\"Node Degree\")\n",
    "plt.ylabel(\"Cumulative Count\")\n",
    "plt.plot(range(len(cumulative_counts)), cumulative_counts)"
   ]
  },
  {
   "cell_type": "code",
   "execution_count": 61,
   "metadata": {},
   "outputs": [
    {
     "data": {
      "text/plain": [
       "344"
      ]
     },
     "execution_count": 61,
     "metadata": {},
     "output_type": "execute_result"
    }
   ],
   "source": [
    "DomainCounts['dailynews.com']"
   ]
  },
  {
   "cell_type": "code",
   "execution_count": 64,
   "metadata": {
    "collapsed": true
   },
   "outputs": [],
   "source": [
    "top_news_sources = ['abcnews.go.com', 'cbsnews.com', 'cnn.com', 'foxnews.com', 'msnbc.com', 'nytimes.com', 'latimes.com',\\\n",
    "                   'usatoday.com', 'wsj.com', 'washingtonpost.com', 'bloomberg.com', 'vice.com', 'huffingtonpost.com', 'npr.org']"
   ]
  },
  {
   "cell_type": "code",
   "execution_count": 96,
   "metadata": {},
   "outputs": [
    {
     "data": {
      "text/plain": [
       "14"
      ]
     },
     "execution_count": 96,
     "metadata": {},
     "output_type": "execute_result"
    }
   ],
   "source": [
    "len(top_news_sources)"
   ]
  },
  {
   "cell_type": "code",
   "execution_count": null,
   "metadata": {
    "collapsed": true
   },
   "outputs": [],
   "source": [
    "conservative = ['foxnews.com', 'washingtonpost.com', 'theguardian.com', 'nypost.com', 'bloomberg.com', '']\n",
    "liberal = ['nytimes.com', 'theatlantic.com', 'washingtonpost.com', 'huffingtonpost.com', 'vice.com', 'sfgate.com', '']\n",
    "neutral = ['usatoday.com', 'cnn.com', 'bbc.com']"
   ]
  },
  {
   "cell_type": "code",
   "execution_count": 48,
   "metadata": {
    "collapsed": true
   },
   "outputs": [],
   "source": [
    "def printNeighborsAtHop(url, hops):\n",
    "    node_id = domainToNodeID[url]\n",
    "    NodeVec = snap.TIntV()\n",
    "    snap.GetNodesAtHop(LinkGraph, node_id, hops, NodeVec, True)\n",
    "    print NodeVec.Len()\n",
    "    for item in NodeVec:\n",
    "        domain = IDtoDomain[item]\n",
    "        if domain in TopDomains:\n",
    "            print domain"
   ]
  },
  {
   "cell_type": "code",
   "execution_count": 70,
   "metadata": {},
   "outputs": [
    {
     "name": "stdout",
     "output_type": "stream",
     "text": [
      "[('abcnews.go.com', 2), ('cbsnews.com', 1), ('cnn.com', 1), ('foxnews.com', 0), ('msnbc.com', 2), ('nytimes.com', 1), ('latimes.com', 1), ('usatoday.com', 1), ('wsj.com', 1), ('washingtonpost.com', 1), ('bloomberg.com', 1), ('vice.com', 2), ('huffingtonpost.com', 1), ('npr.org', 2)]\n"
     ]
    }
   ],
   "source": [
    "start_id = domainToNodeID[\"foxnews.com\"]\n",
    "results = []\n",
    "\n",
    "for news_source in top_news_sources: \n",
    "    node_id = domainToNodeID[news_source]\n",
    "    Length = snap.GetShortPath(LinkGraph, start_id, node_id)\n",
    "    results.append((news_source, Length))\n",
    "print results"
   ]
  },
  {
   "cell_type": "code",
   "execution_count": 71,
   "metadata": {},
   "outputs": [
    {
     "name": "stdout",
     "output_type": "stream",
     "text": [
      "[('abcnews.go.com', 1), ('cbsnews.com', 1), ('cnn.com', 1), ('foxnews.com', 1), ('msnbc.com', 1), ('nytimes.com', 0), ('latimes.com', 1), ('usatoday.com', 1), ('wsj.com', 1), ('washingtonpost.com', 1), ('bloomberg.com', 1), ('vice.com', 1), ('huffingtonpost.com', 1), ('npr.org', 1)]\n"
     ]
    }
   ],
   "source": [
    "start_id = domainToNodeID[\"nytimes.com\"]\n",
    "results = []\n",
    "\n",
    "for news_source in top_news_sources: \n",
    "    node_id = domainToNodeID[news_source]\n",
    "    Length = snap.GetShortPath(LinkGraph, start_id, node_id)\n",
    "    results.append((news_source, Length))\n",
    "print results"
   ]
  },
  {
   "cell_type": "code",
   "execution_count": 99,
   "metadata": {
    "collapsed": true
   },
   "outputs": [],
   "source": [
    "farthest_distance = -1\n",
    "max_pair = ()\n",
    "results = []\n",
    "\n",
    "for news_source1 in top_news_sources:\n",
    "    for news_source2 in top_news_sources: \n",
    "        if news_source1==news_source2:\n",
    "            continue\n",
    "        node_id1 = domainToNodeID[news_source1]\n",
    "        node_id2 = domainToNodeID[news_source2]\n",
    "        Length1 = snap.GetShortPath(LinkGraph, node_id1, node_id2)\n",
    "        Length2 = snap.GetShortPath(LinkGraph, node_id2, node_id1)\n",
    "        distance = max(Length1, Length2)\n",
    "        results.append(((news_source1, news_source2), distance))"
   ]
  },
  {
   "cell_type": "code",
   "execution_count": 107,
   "metadata": {},
   "outputs": [
    {
     "name": "stdout",
     "output_type": "stream",
     "text": [
      "91\n"
     ]
    }
   ],
   "source": [
    "count = 0\n",
    "for i in range(14):\n",
    "    count += i\n",
    "print count"
   ]
  },
  {
   "cell_type": "code",
   "execution_count": 102,
   "metadata": {
    "collapsed": true
   },
   "outputs": [],
   "source": [
    "count1 = 0\n",
    "count2 = 0\n",
    "count3 = 0\n",
    "\n",
    "for result in results:\n",
    "    if result[1] == 1:\n",
    "        count1 += 1\n",
    "    elif result[1] == 2:\n",
    "        count2 += 1\n",
    "    else:\n",
    "        count3 += 1\n",
    "    "
   ]
  },
  {
   "cell_type": "code",
   "execution_count": 104,
   "metadata": {},
   "outputs": [
    {
     "data": {
      "text/plain": [
       "[(('abcnews.go.com', 'cbsnews.com'), 2),\n",
       " (('abcnews.go.com', 'cnn.com'), 1),\n",
       " (('abcnews.go.com', 'foxnews.com'), 2),\n",
       " (('abcnews.go.com', 'msnbc.com'), 2),\n",
       " (('abcnews.go.com', 'nytimes.com'), 1),\n",
       " (('abcnews.go.com', 'latimes.com'), 2),\n",
       " (('abcnews.go.com', 'usatoday.com'), 1),\n",
       " (('abcnews.go.com', 'wsj.com'), 2),\n",
       " (('abcnews.go.com', 'washingtonpost.com'), 1),\n",
       " (('abcnews.go.com', 'bloomberg.com'), 2),\n",
       " (('abcnews.go.com', 'vice.com'), 2),\n",
       " (('abcnews.go.com', 'huffingtonpost.com'), 1),\n",
       " (('abcnews.go.com', 'npr.org'), 1),\n",
       " (('cbsnews.com', 'abcnews.go.com'), 2),\n",
       " (('cbsnews.com', 'cnn.com'), 1),\n",
       " (('cbsnews.com', 'foxnews.com'), 1),\n",
       " (('cbsnews.com', 'msnbc.com'), 2),\n",
       " (('cbsnews.com', 'nytimes.com'), 1),\n",
       " (('cbsnews.com', 'latimes.com'), 1),\n",
       " (('cbsnews.com', 'usatoday.com'), 1),\n",
       " (('cbsnews.com', 'wsj.com'), 1),\n",
       " (('cbsnews.com', 'washingtonpost.com'), 1),\n",
       " (('cbsnews.com', 'bloomberg.com'), 2),\n",
       " (('cbsnews.com', 'vice.com'), 2),\n",
       " (('cbsnews.com', 'huffingtonpost.com'), 1),\n",
       " (('cbsnews.com', 'npr.org'), 1),\n",
       " (('cnn.com', 'abcnews.go.com'), 1),\n",
       " (('cnn.com', 'cbsnews.com'), 1),\n",
       " (('cnn.com', 'foxnews.com'), 1),\n",
       " (('cnn.com', 'msnbc.com'), 1),\n",
       " (('cnn.com', 'nytimes.com'), 1),\n",
       " (('cnn.com', 'latimes.com'), 1),\n",
       " (('cnn.com', 'usatoday.com'), 1),\n",
       " (('cnn.com', 'wsj.com'), 1),\n",
       " (('cnn.com', 'washingtonpost.com'), 1),\n",
       " (('cnn.com', 'bloomberg.com'), 1),\n",
       " (('cnn.com', 'vice.com'), 1),\n",
       " (('cnn.com', 'huffingtonpost.com'), 1),\n",
       " (('cnn.com', 'npr.org'), 1),\n",
       " (('foxnews.com', 'abcnews.go.com'), 2),\n",
       " (('foxnews.com', 'cbsnews.com'), 1),\n",
       " (('foxnews.com', 'cnn.com'), 1),\n",
       " (('foxnews.com', 'msnbc.com'), 2),\n",
       " (('foxnews.com', 'nytimes.com'), 1),\n",
       " (('foxnews.com', 'latimes.com'), 1),\n",
       " (('foxnews.com', 'usatoday.com'), 1),\n",
       " (('foxnews.com', 'wsj.com'), 1),\n",
       " (('foxnews.com', 'washingtonpost.com'), 1),\n",
       " (('foxnews.com', 'bloomberg.com'), 1),\n",
       " (('foxnews.com', 'vice.com'), 2),\n",
       " (('foxnews.com', 'huffingtonpost.com'), 1),\n",
       " (('foxnews.com', 'npr.org'), 2),\n",
       " (('msnbc.com', 'abcnews.go.com'), 2),\n",
       " (('msnbc.com', 'cbsnews.com'), 2),\n",
       " (('msnbc.com', 'cnn.com'), 1),\n",
       " (('msnbc.com', 'foxnews.com'), 2),\n",
       " (('msnbc.com', 'nytimes.com'), 1),\n",
       " (('msnbc.com', 'latimes.com'), 2),\n",
       " (('msnbc.com', 'usatoday.com'), 1),\n",
       " (('msnbc.com', 'wsj.com'), 1),\n",
       " (('msnbc.com', 'washingtonpost.com'), 1),\n",
       " (('msnbc.com', 'bloomberg.com'), 2),\n",
       " (('msnbc.com', 'vice.com'), 2),\n",
       " (('msnbc.com', 'huffingtonpost.com'), 1),\n",
       " (('msnbc.com', 'npr.org'), 1),\n",
       " (('nytimes.com', 'abcnews.go.com'), 1),\n",
       " (('nytimes.com', 'cbsnews.com'), 1),\n",
       " (('nytimes.com', 'cnn.com'), 1),\n",
       " (('nytimes.com', 'foxnews.com'), 1),\n",
       " (('nytimes.com', 'msnbc.com'), 1),\n",
       " (('nytimes.com', 'latimes.com'), 1),\n",
       " (('nytimes.com', 'usatoday.com'), 1),\n",
       " (('nytimes.com', 'wsj.com'), 1),\n",
       " (('nytimes.com', 'washingtonpost.com'), 1),\n",
       " (('nytimes.com', 'bloomberg.com'), 1),\n",
       " (('nytimes.com', 'vice.com'), 1),\n",
       " (('nytimes.com', 'huffingtonpost.com'), 1),\n",
       " (('nytimes.com', 'npr.org'), 1),\n",
       " (('latimes.com', 'abcnews.go.com'), 2),\n",
       " (('latimes.com', 'cbsnews.com'), 1),\n",
       " (('latimes.com', 'cnn.com'), 1),\n",
       " (('latimes.com', 'foxnews.com'), 1),\n",
       " (('latimes.com', 'msnbc.com'), 2),\n",
       " (('latimes.com', 'nytimes.com'), 1),\n",
       " (('latimes.com', 'usatoday.com'), 2),\n",
       " (('latimes.com', 'wsj.com'), 2),\n",
       " (('latimes.com', 'washingtonpost.com'), 1),\n",
       " (('latimes.com', 'bloomberg.com'), 1),\n",
       " (('latimes.com', 'vice.com'), 1),\n",
       " (('latimes.com', 'huffingtonpost.com'), 1),\n",
       " (('latimes.com', 'npr.org'), 1),\n",
       " (('usatoday.com', 'abcnews.go.com'), 1),\n",
       " (('usatoday.com', 'cbsnews.com'), 1),\n",
       " (('usatoday.com', 'cnn.com'), 1),\n",
       " (('usatoday.com', 'foxnews.com'), 1),\n",
       " (('usatoday.com', 'msnbc.com'), 1),\n",
       " (('usatoday.com', 'nytimes.com'), 1),\n",
       " (('usatoday.com', 'latimes.com'), 2),\n",
       " (('usatoday.com', 'wsj.com'), 1),\n",
       " (('usatoday.com', 'washingtonpost.com'), 1),\n",
       " (('usatoday.com', 'bloomberg.com'), 1),\n",
       " (('usatoday.com', 'vice.com'), 1),\n",
       " (('usatoday.com', 'huffingtonpost.com'), 1),\n",
       " (('usatoday.com', 'npr.org'), 1),\n",
       " (('wsj.com', 'abcnews.go.com'), 2),\n",
       " (('wsj.com', 'cbsnews.com'), 1),\n",
       " (('wsj.com', 'cnn.com'), 1),\n",
       " (('wsj.com', 'foxnews.com'), 1),\n",
       " (('wsj.com', 'msnbc.com'), 1),\n",
       " (('wsj.com', 'nytimes.com'), 1),\n",
       " (('wsj.com', 'latimes.com'), 2),\n",
       " (('wsj.com', 'usatoday.com'), 1),\n",
       " (('wsj.com', 'washingtonpost.com'), 1),\n",
       " (('wsj.com', 'bloomberg.com'), 2),\n",
       " (('wsj.com', 'vice.com'), 1),\n",
       " (('wsj.com', 'huffingtonpost.com'), 1),\n",
       " (('wsj.com', 'npr.org'), 2),\n",
       " (('washingtonpost.com', 'abcnews.go.com'), 1),\n",
       " (('washingtonpost.com', 'cbsnews.com'), 1),\n",
       " (('washingtonpost.com', 'cnn.com'), 1),\n",
       " (('washingtonpost.com', 'foxnews.com'), 1),\n",
       " (('washingtonpost.com', 'msnbc.com'), 1),\n",
       " (('washingtonpost.com', 'nytimes.com'), 1),\n",
       " (('washingtonpost.com', 'latimes.com'), 1),\n",
       " (('washingtonpost.com', 'usatoday.com'), 1),\n",
       " (('washingtonpost.com', 'wsj.com'), 1),\n",
       " (('washingtonpost.com', 'bloomberg.com'), 1),\n",
       " (('washingtonpost.com', 'vice.com'), 1),\n",
       " (('washingtonpost.com', 'huffingtonpost.com'), 1),\n",
       " (('washingtonpost.com', 'npr.org'), 1),\n",
       " (('bloomberg.com', 'abcnews.go.com'), 2),\n",
       " (('bloomberg.com', 'cbsnews.com'), 2),\n",
       " (('bloomberg.com', 'cnn.com'), 1),\n",
       " (('bloomberg.com', 'foxnews.com'), 1),\n",
       " (('bloomberg.com', 'msnbc.com'), 2),\n",
       " (('bloomberg.com', 'nytimes.com'), 1),\n",
       " (('bloomberg.com', 'latimes.com'), 1),\n",
       " (('bloomberg.com', 'usatoday.com'), 1),\n",
       " (('bloomberg.com', 'wsj.com'), 2),\n",
       " (('bloomberg.com', 'washingtonpost.com'), 1),\n",
       " (('bloomberg.com', 'vice.com'), 1),\n",
       " (('bloomberg.com', 'huffingtonpost.com'), 1),\n",
       " (('bloomberg.com', 'npr.org'), 1),\n",
       " (('vice.com', 'abcnews.go.com'), 2),\n",
       " (('vice.com', 'cbsnews.com'), 2),\n",
       " (('vice.com', 'cnn.com'), 1),\n",
       " (('vice.com', 'foxnews.com'), 2),\n",
       " (('vice.com', 'msnbc.com'), 2),\n",
       " (('vice.com', 'nytimes.com'), 1),\n",
       " (('vice.com', 'latimes.com'), 1),\n",
       " (('vice.com', 'usatoday.com'), 1),\n",
       " (('vice.com', 'wsj.com'), 1),\n",
       " (('vice.com', 'washingtonpost.com'), 1),\n",
       " (('vice.com', 'bloomberg.com'), 1),\n",
       " (('vice.com', 'huffingtonpost.com'), 1),\n",
       " (('vice.com', 'npr.org'), 2),\n",
       " (('huffingtonpost.com', 'abcnews.go.com'), 1),\n",
       " (('huffingtonpost.com', 'cbsnews.com'), 1),\n",
       " (('huffingtonpost.com', 'cnn.com'), 1),\n",
       " (('huffingtonpost.com', 'foxnews.com'), 1),\n",
       " (('huffingtonpost.com', 'msnbc.com'), 1),\n",
       " (('huffingtonpost.com', 'nytimes.com'), 1),\n",
       " (('huffingtonpost.com', 'latimes.com'), 1),\n",
       " (('huffingtonpost.com', 'usatoday.com'), 1),\n",
       " (('huffingtonpost.com', 'wsj.com'), 1),\n",
       " (('huffingtonpost.com', 'washingtonpost.com'), 1),\n",
       " (('huffingtonpost.com', 'bloomberg.com'), 1),\n",
       " (('huffingtonpost.com', 'vice.com'), 1),\n",
       " (('huffingtonpost.com', 'npr.org'), 1),\n",
       " (('npr.org', 'abcnews.go.com'), 1),\n",
       " (('npr.org', 'cbsnews.com'), 1),\n",
       " (('npr.org', 'cnn.com'), 1),\n",
       " (('npr.org', 'foxnews.com'), 2),\n",
       " (('npr.org', 'msnbc.com'), 1),\n",
       " (('npr.org', 'nytimes.com'), 1),\n",
       " (('npr.org', 'latimes.com'), 1),\n",
       " (('npr.org', 'usatoday.com'), 1),\n",
       " (('npr.org', 'wsj.com'), 2),\n",
       " (('npr.org', 'washingtonpost.com'), 1),\n",
       " (('npr.org', 'bloomberg.com'), 1),\n",
       " (('npr.org', 'vice.com'), 2),\n",
       " (('npr.org', 'huffingtonpost.com'), 1)]"
      ]
     },
     "execution_count": 104,
     "metadata": {},
     "output_type": "execute_result"
    }
   ],
   "source": [
    "results"
   ]
  },
  {
   "cell_type": "code",
   "execution_count": null,
   "metadata": {
    "collapsed": true
   },
   "outputs": [],
   "source": [
    "farthest_distance = -1\n",
    "max_pair = ()\n",
    "common_neighbors = []\n",
    "\n",
    "for news_source1 in top_news_sources:\n",
    "    for news_source2 in top_news_sources: \n",
    "        if news_source1 == news_source2:\n",
    "            continue\n",
    "        node_id1 = domainToNodeID[news_source1]\n",
    "        node_id2 = domainToNodeID[news_source2]\n",
    "        Nbrs = snap.TIntV()\n",
    "        snap.GetCmnNbrs(LinkGraph, node_id1, node_id2, Nbrs)\n",
    "        \n",
    "        distance = Nbrs.Len()\n",
    "        \n",
    "        NodeVec = snap.TIntV()\n",
    "        snap.GetNodesAtHop(LinkGraph, node_id1, 1, NodeVec, False)\n",
    "        count1 = NodeVec.Len() \n",
    "        NodeVec = snap.TIntV()\n",
    "        snap.GetNodesAtHop(LinkGraph, node_id2, 1, NodeVec, False)\n",
    "        count2 = NodeVec.Len()\n",
    "        denominator = min(count1, count2)        \n",
    "        common_neighbors.append(((news_source1, news_source2), distance/float(denominator)))"
   ]
  },
  {
   "cell_type": "code",
   "execution_count": 93,
   "metadata": {},
   "outputs": [
    {
     "data": {
      "text/plain": [
       "[(('abcnews.go.com', 'cbsnews.com'), 0.3514644351464435),\n",
       " (('abcnews.go.com', 'cnn.com'), 0.4726962457337884),\n",
       " (('abcnews.go.com', 'foxnews.com'), 0.2883959044368601),\n",
       " (('abcnews.go.com', 'msnbc.com'), 0.4117647058823529),\n",
       " (('abcnews.go.com', 'nytimes.com'), 0.5665529010238908),\n",
       " (('abcnews.go.com', 'latimes.com'), 0.31399317406143346),\n",
       " (('abcnews.go.com', 'usatoday.com'), 0.3703071672354949),\n",
       " (('abcnews.go.com', 'wsj.com'), 0.3447098976109215),\n",
       " (('abcnews.go.com', 'washingtonpost.com'), 0.5546075085324232),\n",
       " (('abcnews.go.com', 'bloomberg.com'), 0.30204778156996587),\n",
       " (('abcnews.go.com', 'vice.com'), 0.18592964824120603),\n",
       " (('abcnews.go.com', 'huffingtonpost.com'), 0.40955631399317405),\n",
       " (('abcnews.go.com', 'npr.org'), 0.27474402730375425),\n",
       " (('cbsnews.com', 'abcnews.go.com'), 0.3514644351464435),\n",
       " (('cbsnews.com', 'cnn.com'), 0.4560669456066946),\n",
       " (('cbsnews.com', 'foxnews.com'), 0.29916317991631797),\n",
       " (('cbsnews.com', 'msnbc.com'), 0.36764705882352944),\n",
       " (('cbsnews.com', 'nytimes.com'), 0.5774058577405857),\n",
       " (('cbsnews.com', 'latimes.com'), 0.3179916317991632),\n",
       " (('cbsnews.com', 'usatoday.com'), 0.39330543933054396),\n",
       " (('cbsnews.com', 'wsj.com'), 0.34518828451882844),\n",
       " (('cbsnews.com', 'washingtonpost.com'), 0.5271966527196653),\n",
       " (('cbsnews.com', 'bloomberg.com'), 0.3158995815899582),\n",
       " (('cbsnews.com', 'vice.com'), 0.19597989949748743),\n",
       " (('cbsnews.com', 'huffingtonpost.com'), 0.41631799163179917),\n",
       " (('cbsnews.com', 'npr.org'), 0.2824267782426778),\n",
       " (('cnn.com', 'abcnews.go.com'), 0.4726962457337884),\n",
       " (('cnn.com', 'cbsnews.com'), 0.4560669456066946),\n",
       " (('cnn.com', 'foxnews.com'), 0.3294964028776978),\n",
       " (('cnn.com', 'msnbc.com'), 0.5220588235294118),\n",
       " (('cnn.com', 'nytimes.com'), 0.5043936731107206),\n",
       " (('cnn.com', 'latimes.com'), 0.33292831105710813),\n",
       " (('cnn.com', 'usatoday.com'), 0.3673469387755102),\n",
       " (('cnn.com', 'wsj.com'), 0.3090507726269316),\n",
       " (('cnn.com', 'washingtonpost.com'), 0.4806678383128295),\n",
       " (('cnn.com', 'bloomberg.com'), 0.2958380202474691),\n",
       " (('cnn.com', 'vice.com'), 0.2964824120603015),\n",
       " (('cnn.com', 'huffingtonpost.com'), 0.3189806678383128),\n",
       " (('cnn.com', 'npr.org'), 0.26632653061224487),\n",
       " (('foxnews.com', 'abcnews.go.com'), 0.2883959044368601),\n",
       " (('foxnews.com', 'cbsnews.com'), 0.29916317991631797),\n",
       " (('foxnews.com', 'cnn.com'), 0.3294964028776978),\n",
       " (('foxnews.com', 'msnbc.com'), 0.375),\n",
       " (('foxnews.com', 'nytimes.com'), 0.4273381294964029),\n",
       " (('foxnews.com', 'latimes.com'), 0.22877697841726619),\n",
       " (('foxnews.com', 'usatoday.com'), 0.2489208633093525),\n",
       " (('foxnews.com', 'wsj.com'), 0.27050359712230215),\n",
       " (('foxnews.com', 'washingtonpost.com'), 0.40863309352517985),\n",
       " (('foxnews.com', 'bloomberg.com'), 0.22589928057553957),\n",
       " (('foxnews.com', 'vice.com'), 0.23115577889447236),\n",
       " (('foxnews.com', 'huffingtonpost.com'), 0.33237410071942447),\n",
       " (('foxnews.com', 'npr.org'), 0.218705035971223),\n",
       " (('msnbc.com', 'abcnews.go.com'), 0.4117647058823529),\n",
       " (('msnbc.com', 'cbsnews.com'), 0.36764705882352944),\n",
       " (('msnbc.com', 'cnn.com'), 0.5220588235294118),\n",
       " (('msnbc.com', 'foxnews.com'), 0.375),\n",
       " (('msnbc.com', 'nytimes.com'), 0.6985294117647058),\n",
       " (('msnbc.com', 'latimes.com'), 0.4411764705882353),\n",
       " (('msnbc.com', 'usatoday.com'), 0.4485294117647059),\n",
       " (('msnbc.com', 'wsj.com'), 0.36764705882352944),\n",
       " (('msnbc.com', 'washingtonpost.com'), 0.6029411764705882),\n",
       " (('msnbc.com', 'bloomberg.com'), 0.4411764705882353),\n",
       " (('msnbc.com', 'vice.com'), 0.1323529411764706),\n",
       " (('msnbc.com', 'huffingtonpost.com'), 0.6176470588235294),\n",
       " (('msnbc.com', 'npr.org'), 0.4632352941176471),\n",
       " (('nytimes.com', 'abcnews.go.com'), 0.5665529010238908),\n",
       " (('nytimes.com', 'cbsnews.com'), 0.5774058577405857),\n",
       " (('nytimes.com', 'cnn.com'), 0.5043936731107206),\n",
       " (('nytimes.com', 'foxnews.com'), 0.4273381294964029),\n",
       " (('nytimes.com', 'msnbc.com'), 0.6985294117647058),\n",
       " (('nytimes.com', 'latimes.com'), 0.4787363304981774),\n",
       " (('nytimes.com', 'usatoday.com'), 0.4954648526077097),\n",
       " (('nytimes.com', 'wsj.com'), 0.5275938189845475),\n",
       " (('nytimes.com', 'washingtonpost.com'), 0.43922369765066394),\n",
       " (('nytimes.com', 'bloomberg.com'), 0.45219347581552305),\n",
       " (('nytimes.com', 'vice.com'), 0.3869346733668342),\n",
       " (('nytimes.com', 'huffingtonpost.com'), 0.28705533596837945),\n",
       " (('nytimes.com', 'npr.org'), 0.42857142857142855),\n",
       " (('latimes.com', 'abcnews.go.com'), 0.31399317406143346),\n",
       " (('latimes.com', 'cbsnews.com'), 0.3179916317991632),\n",
       " (('latimes.com', 'cnn.com'), 0.33292831105710813),\n",
       " (('latimes.com', 'foxnews.com'), 0.22877697841726619),\n",
       " (('latimes.com', 'msnbc.com'), 0.4411764705882353),\n",
       " (('latimes.com', 'nytimes.com'), 0.4787363304981774),\n",
       " (('latimes.com', 'usatoday.com'), 0.275820170109356),\n",
       " (('latimes.com', 'wsj.com'), 0.29040097205346294),\n",
       " (('latimes.com', 'washingtonpost.com'), 0.4374240583232078),\n",
       " (('latimes.com', 'bloomberg.com'), 0.23815309842041313),\n",
       " (('latimes.com', 'vice.com'), 0.22613065326633167),\n",
       " (('latimes.com', 'huffingtonpost.com'), 0.33171324422843257),\n",
       " (('latimes.com', 'npr.org'), 0.25759416767922233),\n",
       " (('usatoday.com', 'abcnews.go.com'), 0.3703071672354949),\n",
       " (('usatoday.com', 'cbsnews.com'), 0.39330543933054396),\n",
       " (('usatoday.com', 'cnn.com'), 0.3673469387755102),\n",
       " (('usatoday.com', 'foxnews.com'), 0.2489208633093525),\n",
       " (('usatoday.com', 'msnbc.com'), 0.4485294117647059),\n",
       " (('usatoday.com', 'nytimes.com'), 0.4954648526077097),\n",
       " (('usatoday.com', 'latimes.com'), 0.275820170109356),\n",
       " (('usatoday.com', 'wsj.com'), 0.29591836734693877),\n",
       " (('usatoday.com', 'washingtonpost.com'), 0.445578231292517),\n",
       " (('usatoday.com', 'bloomberg.com'), 0.2585034013605442),\n",
       " (('usatoday.com', 'vice.com'), 0.23618090452261306),\n",
       " (('usatoday.com', 'huffingtonpost.com'), 0.31859410430839),\n",
       " (('usatoday.com', 'npr.org'), 0.2256235827664399),\n",
       " (('wsj.com', 'abcnews.go.com'), 0.3447098976109215),\n",
       " (('wsj.com', 'cbsnews.com'), 0.34518828451882844),\n",
       " (('wsj.com', 'cnn.com'), 0.3090507726269316),\n",
       " (('wsj.com', 'foxnews.com'), 0.27050359712230215),\n",
       " (('wsj.com', 'msnbc.com'), 0.36764705882352944),\n",
       " (('wsj.com', 'nytimes.com'), 0.5275938189845475),\n",
       " (('wsj.com', 'latimes.com'), 0.29040097205346294),\n",
       " (('wsj.com', 'usatoday.com'), 0.29591836734693877),\n",
       " (('wsj.com', 'washingtonpost.com'), 0.45253863134657835),\n",
       " (('wsj.com', 'bloomberg.com'), 0.35883014623172105),\n",
       " (('wsj.com', 'vice.com'), 0.2562814070351759),\n",
       " (('wsj.com', 'huffingtonpost.com'), 0.31015452538631344),\n",
       " (('wsj.com', 'npr.org'), 0.2306843267108168),\n",
       " (('washingtonpost.com', 'abcnews.go.com'), 0.5546075085324232),\n",
       " (('washingtonpost.com', 'cbsnews.com'), 0.5271966527196653),\n",
       " (('washingtonpost.com', 'cnn.com'), 0.4806678383128295),\n",
       " (('washingtonpost.com', 'foxnews.com'), 0.40863309352517985),\n",
       " (('washingtonpost.com', 'msnbc.com'), 0.6029411764705882),\n",
       " (('washingtonpost.com', 'nytimes.com'), 0.43922369765066394),\n",
       " (('washingtonpost.com', 'latimes.com'), 0.4374240583232078),\n",
       " (('washingtonpost.com', 'usatoday.com'), 0.445578231292517),\n",
       " (('washingtonpost.com', 'wsj.com'), 0.45253863134657835),\n",
       " (('washingtonpost.com', 'bloomberg.com'), 0.4026996625421822),\n",
       " (('washingtonpost.com', 'vice.com'), 0.39195979899497485),\n",
       " (('washingtonpost.com', 'huffingtonpost.com'), 0.2676200204290092),\n",
       " (('washingtonpost.com', 'npr.org'), 0.3816326530612245),\n",
       " (('bloomberg.com', 'abcnews.go.com'), 0.30204778156996587),\n",
       " (('bloomberg.com', 'cbsnews.com'), 0.3158995815899582),\n",
       " (('bloomberg.com', 'cnn.com'), 0.2958380202474691),\n",
       " (('bloomberg.com', 'foxnews.com'), 0.22589928057553957),\n",
       " (('bloomberg.com', 'msnbc.com'), 0.4411764705882353),\n",
       " (('bloomberg.com', 'nytimes.com'), 0.45219347581552305),\n",
       " (('bloomberg.com', 'latimes.com'), 0.23815309842041313),\n",
       " (('bloomberg.com', 'usatoday.com'), 0.2585034013605442),\n",
       " (('bloomberg.com', 'wsj.com'), 0.35883014623172105),\n",
       " (('bloomberg.com', 'washingtonpost.com'), 0.4026996625421822),\n",
       " (('bloomberg.com', 'vice.com'), 0.19597989949748743),\n",
       " (('bloomberg.com', 'huffingtonpost.com'), 0.2722159730033746),\n",
       " (('bloomberg.com', 'npr.org'), 0.20584926884139482),\n",
       " (('vice.com', 'abcnews.go.com'), 0.18592964824120603),\n",
       " (('vice.com', 'cbsnews.com'), 0.19597989949748743),\n",
       " (('vice.com', 'cnn.com'), 0.2964824120603015),\n",
       " (('vice.com', 'foxnews.com'), 0.23115577889447236),\n",
       " (('vice.com', 'msnbc.com'), 0.1323529411764706),\n",
       " (('vice.com', 'nytimes.com'), 0.3869346733668342),\n",
       " (('vice.com', 'latimes.com'), 0.22613065326633167),\n",
       " (('vice.com', 'usatoday.com'), 0.23618090452261306),\n",
       " (('vice.com', 'wsj.com'), 0.2562814070351759),\n",
       " (('vice.com', 'washingtonpost.com'), 0.39195979899497485),\n",
       " (('vice.com', 'bloomberg.com'), 0.19597989949748743),\n",
       " (('vice.com', 'huffingtonpost.com'), 0.3768844221105528),\n",
       " (('vice.com', 'npr.org'), 0.2663316582914573),\n",
       " (('huffingtonpost.com', 'abcnews.go.com'), 0.40955631399317405),\n",
       " (('huffingtonpost.com', 'cbsnews.com'), 0.41631799163179917),\n",
       " (('huffingtonpost.com', 'cnn.com'), 0.3189806678383128),\n",
       " (('huffingtonpost.com', 'foxnews.com'), 0.33237410071942447),\n",
       " (('huffingtonpost.com', 'msnbc.com'), 0.6176470588235294),\n",
       " (('huffingtonpost.com', 'nytimes.com'), 0.28705533596837945),\n",
       " (('huffingtonpost.com', 'latimes.com'), 0.33171324422843257),\n",
       " (('huffingtonpost.com', 'usatoday.com'), 0.31859410430839),\n",
       " (('huffingtonpost.com', 'wsj.com'), 0.31015452538631344),\n",
       " (('huffingtonpost.com', 'washingtonpost.com'), 0.2676200204290092),\n",
       " (('huffingtonpost.com', 'bloomberg.com'), 0.2722159730033746),\n",
       " (('huffingtonpost.com', 'vice.com'), 0.3768844221105528),\n",
       " (('huffingtonpost.com', 'npr.org'), 0.2979591836734694),\n",
       " (('npr.org', 'abcnews.go.com'), 0.27474402730375425),\n",
       " (('npr.org', 'cbsnews.com'), 0.2824267782426778),\n",
       " (('npr.org', 'cnn.com'), 0.26632653061224487),\n",
       " (('npr.org', 'foxnews.com'), 0.218705035971223),\n",
       " (('npr.org', 'msnbc.com'), 0.4632352941176471),\n",
       " (('npr.org', 'nytimes.com'), 0.42857142857142855),\n",
       " (('npr.org', 'latimes.com'), 0.25759416767922233),\n",
       " (('npr.org', 'usatoday.com'), 0.2256235827664399),\n",
       " (('npr.org', 'wsj.com'), 0.2306843267108168),\n",
       " (('npr.org', 'washingtonpost.com'), 0.3816326530612245),\n",
       " (('npr.org', 'bloomberg.com'), 0.20584926884139482),\n",
       " (('npr.org', 'vice.com'), 0.2663316582914573),\n",
       " (('npr.org', 'huffingtonpost.com'), 0.2979591836734694)]"
      ]
     },
     "execution_count": 93,
     "metadata": {},
     "output_type": "execute_result"
    }
   ],
   "source": [
    "common_neighbors"
   ]
  },
  {
   "cell_type": "code",
   "execution_count": 95,
   "metadata": {},
   "outputs": [
    {
     "name": "stdout",
     "output_type": "stream",
     "text": [
      "(('msnbc.com', 'nytimes.com'), 0.6985294117647058)\n",
      "(('msnbc.com', 'vice.com'), 0.1323529411764706)\n"
     ]
    }
   ],
   "source": [
    "from operator import itemgetter\n",
    "\n",
    "print max(common_neighbors,key=itemgetter(1))\n",
    "print min(common_neighbors,key=itemgetter(1))"
   ]
  },
  {
   "cell_type": "code",
   "execution_count": 113,
   "metadata": {
    "collapsed": true
   },
   "outputs": [],
   "source": [
    "farthest_distance = -1\n",
    "max_pair = ()\n",
    "common_neighbors = []\n",
    "\n",
    "for news_source1 in top_news_sources:\n",
    "    for news_source2 in top_news_sources: \n",
    "        if news_source1 == news_source2:\n",
    "            continue\n",
    "        node_id1 = domainToNodeID[news_source1]\n",
    "        node_id2 = domainToNodeID[news_source2]\n",
    "        \n",
    "        NodeVec1 = snap.TIntV()\n",
    "        snap.GetNodesAtHop(LinkGraph, node_id1, 2, NodeVec1, False)\n",
    "        count1 = NodeVec1.Len() \n",
    "        \n",
    "        NodeVec2 = snap.TIntV()\n",
    "        snap.GetNodesAtHop(LinkGraph, node_id2, 2, NodeVec2, False)\n",
    "        count2 = NodeVec2.Len()\n",
    "        \n",
    "        nodes_1 = []\n",
    "        nodes_2 = []\n",
    "        for item in NodeVec1:\n",
    "            nodes_1.append(item)\n",
    "        for item in NodeVec2: \n",
    "            nodes_2.append(item)\n",
    "            \n",
    "        intersection = len(list(set(nodes_1) & set(nodes_2)))\n",
    "        \n",
    "        denominator = min(len(nodes_1), len(nodes_2))        \n",
    "        common_neighbors.append(((news_source1, news_source2), intersection/float(denominator)))"
   ]
  },
  {
   "cell_type": "code",
   "execution_count": 114,
   "metadata": {},
   "outputs": [
    {
     "name": "stdout",
     "output_type": "stream",
     "text": [
      "(('msnbc.com', 'latimes.com'), 0.9641341980787048)\n",
      "(('wsj.com', 'npr.org'), 0.7527530641448392)\n"
     ]
    }
   ],
   "source": [
    "print max(common_neighbors,key=itemgetter(1))\n",
    "print min(common_neighbors,key=itemgetter(1))"
   ]
  },
  {
   "cell_type": "code",
   "execution_count": 121,
   "metadata": {},
   "outputs": [
    {
     "name": "stdout",
     "output_type": "stream",
     "text": [
      "(('msnbc.com', 'nytimes.com'), 0.9328278148924758)\n",
      "(('cbsnews.com', 'nytimes.com'), 0.9288963860348617)\n",
      "(('cnn.com', 'nytimes.com'), 0.92171736798744)\n",
      "(('abcnews.go.com', 'nytimes.com'), 0.9216555022240976)\n",
      "(('vice.com', 'nytimes.com'), 0.9144191426918875)\n",
      "(('npr.org', 'nytimes.com'), 0.9087911404218254)\n",
      "(('foxnews.com', 'nytimes.com'), 0.8958316457951949)\n",
      "(('latimes.com', 'nytimes.com'), 0.8868552903035661)\n",
      "(('wsj.com', 'nytimes.com'), 0.8832681391723772)\n",
      "(('usatoday.com', 'nytimes.com'), 0.8777611856192945)\n",
      "(('bloomberg.com', 'nytimes.com'), 0.8694601469756925)\n",
      "(('washingtonpost.com', 'nytimes.com'), 0.8577147445738174)\n",
      "(('huffingtonpost.com', 'nytimes.com'), 0.8434992079389393)\n"
     ]
    }
   ],
   "source": [
    "common_neighbors = sorted(common_neighbors, key=itemgetter(1), reverse=True)\n",
    "for result in common_neighbors:\n",
    "    if result[0][1] == 'nytimes.com': \n",
    "        print result"
   ]
  },
  {
   "cell_type": "code",
   "execution_count": 120,
   "metadata": {},
   "outputs": [
    {
     "name": "stdout",
     "output_type": "stream",
     "text": [
      "(('npr.org', 'foxnews.com'), 0.7932347271048326)\n",
      "(('latimes.com', 'foxnews.com'), 0.8052229980397557)\n",
      "(('cnn.com', 'foxnews.com'), 0.813501385131304)\n",
      "(('huffingtonpost.com', 'foxnews.com'), 0.8171950686085505)\n",
      "(('wsj.com', 'foxnews.com'), 0.8183614949697863)\n",
      "(('abcnews.go.com', 'foxnews.com'), 0.8360321395291594)\n",
      "(('cbsnews.com', 'foxnews.com'), 0.8437526623387688)\n",
      "(('usatoday.com', 'foxnews.com'), 0.8507136261279505)\n",
      "(('bloomberg.com', 'foxnews.com'), 0.8537268942278096)\n",
      "(('nytimes.com', 'foxnews.com'), 0.8958316457951949)\n",
      "(('washingtonpost.com', 'foxnews.com'), 0.9007403567320621)\n",
      "(('vice.com', 'foxnews.com'), 0.9025085152417471)\n",
      "(('msnbc.com', 'foxnews.com'), 0.9306578241576047)\n"
     ]
    }
   ],
   "source": [
    "for result in common_neighbors:\n",
    "    if result[0][1] == 'foxnews.com': \n",
    "        print result"
   ]
  },
  {
   "cell_type": "code",
   "execution_count": null,
   "metadata": {
    "collapsed": true
   },
   "outputs": [],
   "source": [
    "keys = IDtoDomain.keys()\n",
    "\n",
    "key_list = []\n",
    "\n",
    "for i in range(len(keys)):\n",
    "    for j in range(i + 1, len(keys)): \n",
    "        node_1 = keys[i]\n",
    "        node_2 = keys[j]\n",
    "        Length1 = snap.GetShortPath(LinkGraph, node_1, node_2)\n",
    "        Length2 = snap.GetShortPath(LinkGraph, node_2, node_1)\n",
    "        min_length = min(Length1, Length2)\n",
    "        max_length = max(Length1, Length2)\n",
    "        key_list.append( ((node_1, node_2), min_length, max_length))"
   ]
  },
  {
   "cell_type": "code",
   "execution_count": 61,
   "metadata": {},
   "outputs": [
    {
     "data": {
      "text/plain": [
       "380807"
      ]
     },
     "execution_count": 61,
     "metadata": {},
     "output_type": "execute_result"
    }
   ],
   "source": [
    "LinkGraph.GetNodes()"
   ]
  },
  {
   "cell_type": "code",
   "execution_count": 62,
   "metadata": {
    "collapsed": true
   },
   "outputs": [],
   "source": [
    "right = set(['https://www.libertynation.com', 'http://brexitcentral.com', 'http://www.oann.com', 'http://dailysignal.com', 'http://www.heritage.org', 'https://www.yaf.org', 'https://americanmilitarynews.com', 'http://controversialtimes.com', 'https://www.americanewshub.com', 'http://www.youngcons.com', 'http://www.jewishworldreview.com', 'https://www.conservativewoman.co.uk', 'http://libertynews.com', 'http://libertytalk.fm', 'http://patriotnewsdaily.com', 'http://knoxreport.com', 'https://acculturated.com', 'https://www.firstthings.com', 'http://disobedientmedia.com', 'http://www.foxnews.com', 'http://www.futureinamerica.com', 'http://www.mrc.org', 'http://www.torontosun.com', 'https://www.ontarioproud.ca', 'http://www.g-a-i.org', 'https://www.conservativeshere.com', 'http://notliberal.com', 'http://www.thenewamerican.com', 'http://humanevents.com', 'https://ca-political.com', 'https://offgridsurvival.com', 'http://www.teapartytribune.com', 'http://spiked-online.com', 'https://www.citizenfreepress.com', 'http://www.opslens.com', 'https://conservativetoday.com', 'https://renewedright.com', 'http://debatepost.com', 'http://redalertpolitics.com', 'https://lifeandabout.com', 'http://www.wnd.com', 'https://www.alec.org', 'https://hillarydaily.com', 'https://theconservativetreehouse.com', 'http://www.ronpaullibertyreport.com', 'http://therightscoop.com', 'https://aclj.org', 'https://www.dangerous.com', 'https://www.westernjournal.com', 'https://www.chroniclesmagazine.org', 'https://www.christiannewsalerts.com', 'https://patriotpost.us', 'https://www.whitehouse.gov', 'https://www.campusreform.org', 'http://www.freerepublic.com', 'http://www.redflagnews.com', 'https://www.thesun.co.uk', 'http://www.newsmax.com', 'https://sentinelksmo.org', 'http://crimeresearch.org', 'http://ipatriot.com', 'http://www.campaignlifecoalition.com', 'http://thedailydefender.com', 'https://altnewsmedia.net', 'http://www.cscmediagroupus.com', 'http://www.therebel.media', 'https://www.conservativereview.com', 'http://www.onenewsnow.com', 'http://silenceisconsent.net', 'http://theresurgent.com', 'http://www.hudson.org', 'http://www.resistancemedia.org', 'http://newlypress.com', 'http://www.weeklystandard.com', 'https://ifstudies.org', 'https://ricochet.com', 'https://uspoliticsinfo.com', 'http://www.westernjournalism.com', 'http://www.independentsentinel.com', 'http://www.dcstatesman.com', 'http://observer.com', 'https://www.americandailynews.org', 'https://www.mercatornet.com', 'https://loneconservative.com', 'http://www.standpointmag.co.uk', 'http://libertyhangout.org', 'https://mediaequalizer.com', 'http://www.americanlibertyreport.com', 'http://www.colddeadhands.us', 'http://biggovernment.news', 'https://themilreview.com', 'http://townhall.com', 'https://www.aei.org', 'https://keepandbear.com', 'https://www.commentarymagazine.com', 'http://thehayride.com', 'http://erlc.com', 'http://www.dailytelegraph.com.au', 'https://www.hermancain.com', 'http://www.dailywire.com', 'http://www.christianpost.com', 'http://www.defenddemocracy.org', 'https://www.nccivitas.org', 'https://conservativebase.com', 'http://www.allenbwest.com', 'https://www.lifesitenews.com', 'http://iwf.org', 'http://www.thepostemail.com', 'http://tennesseestar.com', 'https://kansaspolicy.org', 'http://www.conservativehq.com', 'https://farleftwatch.com', 'http://cowgernation.com', 'https://www.conservativeoutfitters.com', 'http://twitchy.com', 'http://www.adelaidenow.com.au', 'http://politi.site', 'https://www.churchmilitant.com', 'https://www.illinoispolicy.org', 'http://www.teapartypatriots.org', 'https://2ndvote.com', 'http://www.familysecuritymatters.org', 'https://americanconsequences.com', 'http://www.acting-man.com', 'http://dailycaller.com', 'https://pjmedia.com', 'http://www.usapoliticstoday.com', 'http://www.newsbusters.org', 'http://politichicks.com', 'https://home.nra.org', 'http://politifeed.net', 'https://bearingarms.com', 'http://projectveritas.com', 'http://www.drudgereport.com', 'http://firstinfreedomdaily.com', 'http://www.newrevolutionnow.org', 'https://order-order.com', 'http://sonorannews.com', 'http://www.lifezette.com', 'https://www.ac2news.com', 'https://www.tpusa.com', 'http://freedomcrossroads.com', 'http://www.americanthinker.com', 'https://deplorablesreport.com', 'http://thefederalist.com', 'http://awm.com', 'http://conservativesus.party', 'https://www.populistwire.com', 'http://www.investors.com', 'http://dcwhispers.com', 'http://federalistpress.com', 'http://www.theamericancause.org', 'http://legalinsurrection.com', 'https://regated.com', 'http://www.westernfreepress.com', 'https://ntknetwork.com', 'https://energycitizens.org', 'http://www.aim.org', 'http://www.nationalreview.com', 'https://unitynewsnetwork.co.uk', 'http://www.ronpaulinstitute.org', 'http://www.thecollegefix.com', 'http://www.thepoliticalinsider.com', 'http://tribunist.com', 'https://beinglibertarian.com', 'http://bigleaguepolitics.com', 'http://www.whatfinger.com', 'https://ijr.com', 'http://www.beliefnet.com', 'https://www.guerrilla.news', 'https://www.unwatch.org', 'http://www.weaselzippers.us', 'http://therantidote.com', 'https://world.wng.org', 'http://spectator.org', 'http://offendedamerica.com', 'http://www.gopusa.com', 'http://www.secureamericanow.org', 'http://www.crisismagazine.com', 'http://www.unbiasedamerica.com', 'http://dailysurge.com', 'https://savejersey.com', 'http://www.bizpacreview.com', 'https://www.rd.com', 'https://www.jewishpolicycenter.org', 'http://www.dailysabah.com', 'http://www.thedailyliberator.com', 'https://www.theconservativenut.gop', 'http://www.unionleader.com', 'http://nextnewsnetwork.com', 'http://www.washingtonexaminer.com', 'https://arizonadailyindependent.com', 'https://imprimis.hillsdale.edu', 'https://www.mediacircus.com', 'http://freewestmedia.com', 'http://www.vivaliberty.com', 'https://therealstrategy.com', 'https://www.numbersusa.com', 'http://worldtribune.com', 'http://ibleedredwhiteblue.com', 'http://www.thetruthaboutguns.com', 'http://www.ammoland.com', 'https://fedsoc.org', 'http://fightpp.org', 'https://www.heartland.org', 'http://bluelivesmatter.blue', 'http://www.theblaze.com', 'http://vesselnews.io', 'https://thecitizenpress.com', 'http://theblacksphere.net', 'http://www.intellectualtakeout.org', 'http://www.express.co.uk', 'https://capitalresearch.org', 'https://www.aa.com.tr', 'http://heatst.com', 'http://freebeacon.com', 'https://www.tasnimnews.com', 'http://citizensunited.org', 'https://judicialnetwork.com', 'http://www.lifenews.com', 'http://politicsnote.com', 'https://www.conservativeinstitute.org', 'http://www.powerlineblog.com', 'http://www.conservativedailynews.com', 'https://publicinterestlegal.org', 'http://www.faithwire.com', 'https://www.clear-politics.com', 'https://www.ff.org', 'https://www.getreligion.org', 'http://carepublican.com', 'http://www.restoreamericanglory.com', 'http://www.libertyheadlines.com', 'http://factsandlogic.org', 'http://alphanewsmn.com', 'http://sbgi.net', 'https://www.lyincomey.com', 'http://yellowhammernews.com', 'http://ussanews.com', 'http://www.economicpolicyjournal.com', 'http://www.tehrantimes.com', 'http://patriotretort.com', 'https://www.academia.org', 'https://quadrant.org.au', 'http://www.hoover.org', 'https://www.thepostmillennial.com', 'http://www.freedomworks.org', 'http://www.dailymail.co.uk', 'http://newbostonpost.com', 'https://amgreatness.com', 'https://www.gatestoneinstitute.org', 'http://www.city-journal.org', 'http://www.chicksontheright.com', 'https://en.mehrnews.com', 'https://www.gop.com', 'http://www.nationalcenter.org', 'https://www.trtworld.com', 'http://louderwithcrowder.com'])"
   ]
  },
  {
   "cell_type": "code",
   "execution_count": 63,
   "metadata": {
    "collapsed": true
   },
   "outputs": [],
   "source": [
    "left = set(['drudge.com', 'washingtonsources.org', 'akkadiantimes.com', 'deadstate.org', 'thelasource.com', 'americablog.com', 'meduza.io', 'thenewcivilrightsmovement.com', 'newstatesman.com', 'wonkette.com', 'mirror.co.uk', 'libcom.org', 'deepleftfield.info', 'intrepidreport.com', 'rawprogressive.com', 'viraltitle.com', 'worldcantwait.net', 'happy-foxie.com', 'newint.org', 'revcom.us', 'lavendermagazine.com', 'newrepublic.com', 'washingtonpress.com', 'theimproper.com', 'nationofchange.org', 'projectcensored.org', 'peacock-panache.com', 'newpol.org', 'democracyguardian.com', 'dallasvoice.com', 'uproxx.com', 'jezebel.com', 'bluedotdaily.com', 'content.news', 'boingboing.net', 'blacklivesmatter.com', 'reverepress.com', 'whatmattersnews.com', 'au.org', 'hrc.org', 'impeachdjtnow.com', 'leftoverrights.com', 'progressivefrontier.com', 'putintrump.org', 'progressive.org', 'newshounds.us', 'liberationnews.org', 'certifiedpolitics.com', 'angrywhitemen.org', 'forwardprogressives.com', 'theintellectualist.co', 'smirkingchimp.com', 'elitedaily.com', 'leftwingnation.org', 'daily49er.com', 'itsgoingdown.org', 'jacobinmag.com', 'tribunemagazine.org', 'leftscoop.com', 'democraticunderground.com', 'yesmagazine.org', 'newyorker.com', 'theroot.com', 'fifthestate.org', 'electronicintifada.net', 'allthatsfab.com', 'upworthy.com', 'moonofalabama.org', 'themaven.net', 'freepress.org', 'salon.com', 'carbonated.tv', 'mondoweiss.net', 'austinchronicle.com', 'globalvoices.org', 'thedailyvox.co.za', 'yourblackworld.net', 'meanlefthook.com', 'backedbyfact.com', 'gizmodo.com', 'liberalexaminer.com', 'care2.com', 'dctribune.org', 'leftfootforward.org', 'workers.org', 'newslogue.com', 'rewire.news', 'pravdareport.com', 'gq.com', 'foreignpolicyjournal.com', 'redpepper.org.uk', 'act.tv', 'leftsideofhistory.com', 'redyouth.org', 'politicaldig.com', 'crooksandliars.com', 'americanbridgepac.org', 'commondreams.org', 'chicagoreader.com', 'marxist.com', 'dailydot.com', 'nymag.com', 'guardianlv.com', 'telesurtv.net', 'pinknews.co.uk', 'filmingcops.com', 'photographyisnotacrime.com', 'washingtonmonthly.com', 'republicanssucks.org', 'theuspoliticalpost.com', 'ebar.com', 'politicususa.com', 'iowastartingline.com', 'lgbtqnation.com', 'blackagendareport.com', 'foreignpolicynews.org', 'opednews.com', 'thenation.com', 'pastemagazine.com', 'proudemocrat.com', 'thedailybanter.com', 'washingtonjournal.com', 'loveknowledge.org', 'codepink.org', 'worldsocialism.org', 'breitbartunmasked.com', 'samuel-warde.com', 'dailydems.com', 'advocate.com', 'internationalviewpoint.org', 'progressivearmy.com', 'aidc.org.za', 'samefacts.com', 'thefloridasqueeze.com', 'freedomnews.org.uk', 'people.com', 'elisabethparker.com', 'politicalupdater.com', 'earthfirstjournal.org', 'nowthisnews.com', 'wearyourvoicemag.com', 'chroniclesofdemocracy.com', 'thefrisky.com', 'modernliberals.com', 'blue-route.org', 'resilience.org', 'afj.org', 'gopocalypse.org', 'north99.org', 'curvemag.com', 'esquire.com', 'citizencritics.org', 'shadowproof.com', 'readingthepictures.org', 'ir.net', 'leftvoice.org', 'takepart.com', 'democracynow.org', 'other98.com', 'inthesetimes.com', 'scarymommy.com', 'dailykos.com', 'deepstatenation.com', 'feministcurrent.com', 'verrit.com', 'morningstaronline.co.uk', 'currentaffairs.org', 'bust.com', 'dieharddemocrat.com', 'rantt.com', 'littlegreenfootballs.com', 'citypaper.com', 'usuncut.com', 'extranewsfeed.com', 'evonomics.com', 'mashable.com', 'americanprogress.org', 'towleroad.com', 'verifiedpolitics.com', 'syriana-analysis.com', 'nap-sack.org', 'nova-magazine.net', 'tytnetwork.com', 'truth-out.org', 'dissentmagazine.org', 'theguardiansofdemocracy.com', 'redstatedisaster.com', 'nationalmemo.com', 'truthagainstthemachine.com', 'thinkprogress.org', 'countercurrents.org', 'frnewsreport.com', 'zcomm.org', 'mediamatters.org', 'theoswatch.com', 'thegrio.com', 'splinternews.com', 'the-daily.buzz', 'economyincrisis.org', 'texasobserver.org', 'electoral-vote.com', 'antifascistnews.net', 'truthdig.com', 'desmogblog.com', 'liberalamerica.org', 'motherjones.com', 'talkingpointsmemo.com', 'pressprogress.ca', 'ourvoiceny.com', 'addictinginfo.com', 'vox.com', 'everydayfeminism.com', 'merryjane.com', 'vanityfair.com', 'change.org', 'deadspin.com', 'inequalitymedia.org', 'queerty.com', 'rightwingwatch.org', 'front.moveon.org', 'theestablishment.co', 'cnntimes.online', 'pfaw.org', 'revolution-news.com', 'onegreenplanet.org', 'vermontindependent.org', 'prwatch.org', 'slate.com', 'bluenationreview.com', 'greenleft.org.au', 'themilitant.com', 'popularresistance.org', 'ips-dc.org', 'thelily.com', 'whowhatwhy.org', 'readersupportednews.org', 'news.groopspeak.com', 'thesternfacts.com', 'canadiandimension.com', 'rawstory.com', 'vote.us.org', 'molad.org', 'newscorpse.com', 'nowtoronto.com', 'dailynewsbin.com', 'bradford-delong.com', 'dailyrecord.co.uk', 'rabble.ca', 'progressiveliberal.net', 'theburningspear.com', 'bitchmedia.org', 'good.is', 'cnn.com', 'americanindependent.com', 'feministing.com', 'counterpunch.org', 'crimethinc.com', 'middleeastmonitor.com', 'crooked.com', 'huffingtonpost.com', 'freespeech.org', 'climaterealityproject.org', 'firstpost.com', 'egbertowillies.com', 'theoutline.com', 'stpete4peace.org', 'bluestatedaily.com', 'prospect.org', 'msmagazine.com', 'cosmopolitan.com', 'mediaite.com', 'rappler.com', 'villagevoice.com', 'thedailybeast.com', 'socialistworker.org', 'autostraddle.com', 'alternet.org', 'latest.com', 'shareblue.com', 'trofire.com', 'newsweek.com', 'palmerreport.com', 'sourcewatch.org', 'americannewsx.com', 'globetoday.com', 'miaminewtimes.com', 'themarysue.com', 'thewalrus.ca', 'this.org', 'thelondoneconomic.com', 'democratichub.com', 'thecanary.co', 'juancole.com', 'greenvillegazette.com'])"
   ]
  },
  {
   "cell_type": "code",
   "execution_count": 64,
   "metadata": {},
   "outputs": [
    {
     "data": {
      "text/plain": [
       "257"
      ]
     },
     "execution_count": 64,
     "metadata": {},
     "output_type": "execute_result"
    }
   ],
   "source": [
    "len(right)"
   ]
  },
  {
   "cell_type": "code",
   "execution_count": 65,
   "metadata": {},
   "outputs": [
    {
     "data": {
      "text/plain": [
       "294"
      ]
     },
     "execution_count": 65,
     "metadata": {},
     "output_type": "execute_result"
    }
   ],
   "source": [
    "len(left)"
   ]
  },
  {
   "cell_type": "code",
   "execution_count": 66,
   "metadata": {},
   "outputs": [
    {
     "data": {
      "text/plain": [
       "76"
      ]
     },
     "execution_count": 66,
     "metadata": {},
     "output_type": "execute_result"
    }
   ],
   "source": [
    "domainToNodeID[\"foxnews.com\"]"
   ]
  },
  {
   "cell_type": "code",
   "execution_count": 67,
   "metadata": {},
   "outputs": [
    {
     "data": {
      "text/plain": [
       "191"
      ]
     },
     "execution_count": 67,
     "metadata": {},
     "output_type": "execute_result"
    }
   ],
   "source": [
    "domainToNodeID[\"nytimes.com\"]"
   ]
  },
  {
   "cell_type": "code",
   "execution_count": 99,
   "metadata": {
    "collapsed": true
   },
   "outputs": [],
   "source": [
    "right_mapping = []\n",
    "left_mapping = []\n",
    "fox_news_id =  domainToNodeID[\"foxnews.com\"]\n",
    "ny_times_id = domainToNodeID[\"nytimes.com\"]\n",
    "\n",
    "\n",
    "NIdCCfH = snap.TIntFltH()\n",
    "snap.GetNodeClustCf(LinkGraph, NIdCCfH)\n",
    "\n",
    "def commonNeighbors(node_id1, node_id2):\n",
    "    Nbrs = snap.TIntV()\n",
    "    snap.GetCmnNbrs(LinkGraph, node_id1, node_id2, Nbrs)\n",
    "\n",
    "    distance = Nbrs.Len()\n",
    "    if distance == 0: \n",
    "        return 0\n",
    "\n",
    "    NodeVec = snap.TIntV()\n",
    "    snap.GetNodesAtHop(LinkGraph, node_id1, 1, NodeVec, False)\n",
    "    count1 = NodeVec.Len() \n",
    "    NodeVec = snap.TIntV()\n",
    "    snap.GetNodesAtHop(LinkGraph, node_id2, 1, NodeVec, False)\n",
    "    count2 = NodeVec.Len()\n",
    "    denominator = min(count1, count2) \n",
    "    \n",
    "    return float(distance)/denominator\n",
    "\n",
    "for r_article in right: \n",
    "    if r_article not in domainToNodeID:\n",
    "        continue \n",
    "    node_id = domainToNodeID[r_article]\n",
    "    node = LinkGraph.GetNI(node_id)\n",
    "    node_degree = node.GetDeg() \n",
    "    clustering_coefficient = NIdCCfH[node_id]\n",
    "    Length1 = snap.GetShortPath(LinkGraph, node_id, ny_times_id)\n",
    "    Length2 = snap.GetShortPath(LinkGraph, node_id, fox_news_id)\n",
    "    distance = max(Length1, Length2)\n",
    "    \n",
    "    NYTimesNeighbors = commonNeighbors(node_id, ny_times_id)\n",
    "    FoxNewsNeighbors = commonNeighbors(node_id, fox_news_id)\n",
    "    right_mapping.append([node_degree, clustering_coefficient, Length1, Length2, NYTimesNeighbors, FoxNewsNeighbors])\n",
    "\n",
    "for l_article in left: \n",
    "    if l_article not in domainToNodeID:\n",
    "        continue \n",
    "    node_id = domainToNodeID[l_article]\n",
    "    node = LinkGraph.GetNI(node_id)\n",
    "    node_degree = node.GetDeg() \n",
    "    clustering_coefficient = NIdCCfH[node_id]\n",
    "    Length1 = snap.GetShortPath(LinkGraph, node_id, ny_times_id)\n",
    "    Length2 = snap.GetShortPath(LinkGraph, node_id, fox_news_id)\n",
    "    distance = max(Length1, Length2)\n",
    "    \n",
    "    NYTimesNeighbors = commonNeighbors(node_id, ny_times_id)\n",
    "    FoxNewsNeighbors = commonNeighbors(node_id, fox_news_id)\n",
    "    left_mapping.append([node_degree, clustering_coefficient, Length1, Length2, NYTimesNeighbors, FoxNewsNeighbors])\n",
    "\n",
    "\n",
    "    \n"
   ]
  },
  {
   "cell_type": "code",
   "execution_count": 103,
   "metadata": {},
   "outputs": [
    {
     "data": {
      "text/plain": [
       "[[1, 0.0, 3, 3, 0, 0],\n",
       " [2, 0.0, 2, 3, 1.0, 0],\n",
       " [1, 0.0, 3, 3, 0, 0],\n",
       " [63, 0.18688524590163935, 1, 2, 0.5901639344262295, 0.3442622950819672],\n",
       " [39, 0.06906906906906907, 1, 2, 0.32432432432432434, 0.2702702702702703],\n",
       " [4, 0.0, 2, 2, 0.5, 0.5],\n",
       " [227, 0.09538950715421304, 1, 1, 0.47297297297297297, 0.2702702702702703],\n",
       " [1, 0.0, 2, 2, 1.0, 1.0],\n",
       " [46, 0.049682875264270614, 2, 2, 0.36363636363636365, 0.1590909090909091],\n",
       " [28, 0.16, 2, 2, 0.5384615384615384, 0.3076923076923077],\n",
       " [4, 0.0, 2, 3, 0.25, 0],\n",
       " [106, 0.1498738109105028, 1, 2, 0.5392156862745098, 0.30392156862745096],\n",
       " [3, 0.3333333333333333, 2, 2, 0.6666666666666666, 0.6666666666666666],\n",
       " [3, 0.0, 2, 2, 0.6666666666666666, 0.6666666666666666],\n",
       " [15, 0.10256410256410256, 2, 2, 0.3076923076923077, 0.15384615384615385],\n",
       " [60, 0.05513784461152882, 2, 2, 0.40350877192982454, 0.21052631578947367],\n",
       " [79, 0.08526315789473685, 2, 2, 0.3815789473684211, 0.23684210526315788],\n",
       " [15, 0.15384615384615385, 2, 2, 0.5384615384615384, 0.38461538461538464],\n",
       " [265, 0.1073206044701837, 1, 1, 0.5658914728682171, 0.2713178294573643],\n",
       " [1, 0.0, 2, 2, 1.0, 1.0],\n",
       " [22, 0.08225108225108226, 2, 2, 0.45454545454545453, 0.13636363636363635],\n",
       " [12, 0.015151515151515152, 2, 2, 0.5833333333333334, 0.16666666666666666],\n",
       " [4, 0.16666666666666666, 2, 3, 0.75, 0],\n",
       " [3, 0.0, 2, 3, 0.3333333333333333, 0],\n",
       " [10, 0.06666666666666667, 2, 2, 0.6, 0.1],\n",
       " [2, 0.0, 2, 2, 0.5, 0.5],\n",
       " [2, 0.0, 2, 2, 0.5, 0.5],\n",
       " [5, 0.2, 2, 2, 0.8, 0.6],\n",
       " [8, 0.14285714285714285, 2, 2, 0.625, 0.5],\n",
       " [2, 1.0, 2, 2, 1.0, 0.5],\n",
       " [63, 0.11420765027322405, 2, 2, 0.639344262295082, 0.32786885245901637],\n",
       " [4, 0.16666666666666666, 2, 2, 0.75, 0.5],\n",
       " [5, 0.0, 2, 2, 0.4, 0.2],\n",
       " [56, 0.06988120195667366, 1, 2, 0.35185185185185186, 0.16666666666666666],\n",
       " [12, 0.4888888888888889, 1, 2, 0.7, 0.6],\n",
       " [16, 0.27472527472527475, 1, 2, 0.5, 0.42857142857142855],\n",
       " [3, 0.0, 4, 4, 0, 0],\n",
       " [52, 0.13959183673469389, 1, 2, 0.48, 0.34],\n",
       " [348, 0.10175923367412729, 1, 1, 0.6575757575757576, 0.3303030303030303],\n",
       " [2, 0.0, 3, 3, 0, 0],\n",
       " [116, 0.08170037926675094, 1, 2, 0.45132743362831856, 0.23008849557522124],\n",
       " [1, 0.0, 2, 2, 1.0, 1.0],\n",
       " [27, 0.20666666666666667, 1, 2, 0.48, 0.4],\n",
       " [146, 0.1829048979160055, 1, 1, 0.6739130434782609, 0.3695652173913043],\n",
       " [18, 0.058333333333333334, 2, 2, 0.5, 0.1875],\n",
       " [378, 0.07565769111730114, 1, 2, 0.5972222222222222, 0.2361111111111111],\n",
       " [6, 0.26666666666666666, 2, 2, 0.8333333333333334, 0.6666666666666666],\n",
       " [2, 0.0, 2, 3, 1.0, 0],\n",
       " [2, 0.0, 2, 2, 0.5, 0.5],\n",
       " [32, 0.07816091954022988, 2, 2, 0.36666666666666664, 0.26666666666666666],\n",
       " [271, 0.11464460784313725, 1, 1, 0.609375, 0.2890625],\n",
       " [8, 0.0, 2, 3, 0.3333333333333333, 0],\n",
       " [175, 0.05263157894736842, 1, 2, 0.29651162790697677, 0.1744186046511628],\n",
       " [3, 0.0, 2, 2, 1.0, 1.0],\n",
       " [4, 0.0, 2, 2, 0.5, 0.5],\n",
       " [49, 0.272895467160037, 1, 2, 0.6808510638297872, 0.40425531914893614],\n",
       " [3, 0.3333333333333333, 2, 2, 0.6666666666666666, 0.3333333333333333],\n",
       " [230, 0.07776835131095221, 1, 1, 0.47085201793721976, 0.242152466367713],\n",
       " [75, 0.05835010060362173, 1, 2, 0.30985915492957744, 0.11267605633802817],\n",
       " [22, 0.23529411764705882, 2, 2, 0.6111111111111112, 0.2777777777777778],\n",
       " [3, 0.0, 2, 3, 0.3333333333333333, 0],\n",
       " [1, 0.0, 3, 3, 0, 0],\n",
       " [1, 0.0, 2, 2, 1.0, 1.0],\n",
       " [34, 0.3245967741935484, 1, 1, 0.6875, 0.46875],\n",
       " [115, 0.11695624195624196, 1, 2, 0.4017857142857143, 0.25892857142857145],\n",
       " [39, 0.05398110661268556, 2, 2, 0.10256410256410256, 0.05128205128205128],\n",
       " [31, 0.05172413793103448, 2, 2, 0.3448275862068966, 0.13793103448275862],\n",
       " [18, 0.23333333333333334, 1, 2, 0.625, 0.5625],\n",
       " [146, 0.11367495754669864, 1, 2, 0.6126760563380281, 0.3380281690140845],\n",
       " [319, 0.05324813631522897, 1, 2, 0.3354632587859425, 0.2012779552715655],\n",
       " [190, 0.051348398596975445, 1, 2, 0.37433155080213903, 0.11764705882352941],\n",
       " [3, 0.0, 2, 2, 1.0, 0.3333333333333333],\n",
       " [246, 0.06614999485614348, 1, 2, 0.39669421487603307, 0.16942148760330578],\n",
       " [12, 0.2222222222222222, 2, 2, 0.6, 0.4],\n",
       " [1170, 0.02656452632571454, 1, 1, 0.5043936731107206, 0.3294964028776978],\n",
       " [27, 0.0, 2, 2, 0.04, 0.04],\n",
       " [53, 0.15372549019607842, 1, 2, 0.49019607843137253, 0.37254901960784315],\n",
       " [13, 0.12727272727272726, 2, 2, 0.7272727272727273, 0.2727272727272727],\n",
       " [7, 0.5, 2, 2, 0.8, 0.6],\n",
       " [267, 0.09177309177309177, 1, 2, 0.5769230769230769, 0.3192307692307692],\n",
       " [64, 0.05817028027498678, 2, 2, 0.3225806451612903, 0.14516129032258066],\n",
       " [68, 0.09807692307692308, 1, 2, 0.38461538461538464, 0.26153846153846155],\n",
       " [260, 0.07894820717131475, 1, 2, 0.701195219123506, 0.26693227091633465],\n",
       " [1, 0.0, 2, 3, 1.0, 0],\n",
       " [6, 0.16666666666666666, 2, 2, 0.5, 0.5],\n",
       " [16, 0.08974358974358974, 2, 2, 0.6153846153846154, 0.3076923076923077],\n",
       " [215, 0.09559643255295429, 1, 2, 0.5432692307692307, 0.3125],\n",
       " [7, 0.09523809523809523, 2, 2, 0.5714285714285714, 0.14285714285714285],\n",
       " [1, 0.0, 3, 3, 0, 0],\n",
       " [1, 0.0, 2, 2, 1.0, 1.0],\n",
       " [55, 0.2100340136054422, 1, 2, 0.5918367346938775, 0.2857142857142857],\n",
       " [1, 0.0, 2, 2, 1.0, 1.0],\n",
       " [1, 0.0, 3, 4, 0, 0],\n",
       " [83, 0.0310126582278481, 2, 2, 0.25, 0.1375],\n",
       " [42, 0.13363363363363365, 2, 2, 0.2702702702702703, 0.24324324324324326],\n",
       " [22, 0.09473684210526316, 1, 2, 0.35, 0.2],\n",
       " [136, 0.14750440399295361, 1, 2, 0.7786259541984732, 0.366412213740458],\n",
       " [34, 0.15524193548387097, 2, 2, 0.59375, 0.375],\n",
       " [216, 0.11645299145299146, 1, 2, 0.7163461538461539, 0.35096153846153844],\n",
       " [18, 0.008333333333333333, 2, 2, 0.1875, 0.125],\n",
       " [437, 0.07181645078633725, 1, 1, 0.5811138014527845, 0.25181598062953997],\n",
       " [2, 0.0, 2, 2, 1.0, 1.0],\n",
       " [2115, 0.011580265679859482, 1, 1, 0.28705533596837945, 0.33237410071942447],\n",
       " [5, 0.0, 2, 2, 0.3333333333333333, 0.6666666666666666],\n",
       " [3, 0.6666666666666666, 2, 2, 0.6666666666666666, 0.3333333333333333],\n",
       " [5, 0.5, 2, 2, 0.8, 0.4],\n",
       " [147, 0.11946858455698732, 1, 2, 0.676056338028169, 0.2605633802816901],\n",
       " [39, 0.1816816816816817, 2, 2, 0.6216216216216216, 0.40540540540540543],\n",
       " [374, 0.03424636335499845, 2, 2, 0.28888888888888886, 0.1527777777777778],\n",
       " [3, 0.0, 2, 2, 1.0, 0.6666666666666666],\n",
       " [2, 1.0, 2, 2, 1.0, 1.0],\n",
       " [237, 0.022404073467903254, 2, 2, 0.34893617021276596, 0.13191489361702127],\n",
       " [3, 0.0, 2, 3, 0.6666666666666666, 0],\n",
       " [75, 0.06690140845070422, 2, 2, 0.3611111111111111, 0.16666666666666666],\n",
       " [288, 0.09248629976884919, 1, 1, 0.5611510791366906, 0.2949640287769784],\n",
       " [8, 0.10714285714285714, 2, 2, 0.875, 0.5],\n",
       " [23, 0.1523809523809524, 2, 2, 0.2857142857142857, 0.23809523809523808],\n",
       " [409, 0.05544887780548628, 1, 2, 0.41895261845386533, 0.18204488778054864],\n",
       " [27, 0.14333333333333334, 2, 2, 0.44, 0.36],\n",
       " [63, 0.06830601092896176, 1, 2, 0.3770491803278688, 0.22950819672131148],\n",
       " [44, 0.06387921022067364, 1, 2, 0.42857142857142855, 0.11904761904761904],\n",
       " [71, 0.060528559249786874, 1, 2, 0.2608695652173913, 0.17391304347826086],\n",
       " [6, 0.26666666666666666, 2, 2, 0.6666666666666666, 0.6666666666666666],\n",
       " [6, 0.0, 2, 2, 0.25, 0.25],\n",
       " [264, 0.05420370536649607, 1, 1, 0.38996138996138996, 0.16216216216216217],\n",
       " [44, 0.16707317073170733, 1, 2, 0.7073170731707317, 0.3902439024390244],\n",
       " [41, 0.20242914979757085, 1, 1, 0.5128205128205128, 0.358974358974359],\n",
       " [19, 0.16911764705882354, 1, 2, 0.47058823529411764, 0.29411764705882354],\n",
       " [1, 0.0, 2, 2, 1.0, 1.0],\n",
       " [6, 0.0, 2, 2, 0.6666666666666666, 0.3333333333333333],\n",
       " [2, 0.0, 2, 3, 0.5, 0],\n",
       " [119, 0.060123784261715295, 1, 2, 0.358974358974359, 0.1452991452991453],\n",
       " [1, 0.0, 2, 2, 1.0, 1.0],\n",
       " [64, 0.013749338974087784, 2, 2, 0.14516129032258066, 0.08064516129032258],\n",
       " [3, 0.0, 2, 3, 0.6666666666666666, 0],\n",
       " [102, 0.12070446735395189, 1, 2, 0.5051546391752577, 0.24742268041237114],\n",
       " [163, 0.17239623121976064, 1, 1, 0.6948051948051948, 0.4805194805194805],\n",
       " [14, 0.0, 2, 2, 0.35714285714285715, 0.14285714285714285],\n",
       " [11, 0.09090909090909091, 2, 2, 0.7272727272727273, 0.09090909090909091],\n",
       " [332, 0.07434162748920231, 1, 2, 0.5185185185185185, 0.2345679012345679],\n",
       " [8, 0.06666666666666667, 2, 2, 0.16666666666666666, 0.16666666666666666],\n",
       " [4, 0.0, 2, 3, 0.25, 0],\n",
       " [144, 0.11479512042539881, 1, 1, 0.5611510791366906, 0.26618705035971224],\n",
       " [13, 0.0, 2, 2, 0.09090909090909091, 0.09090909090909091],\n",
       " [1, 0.0, 3, 2, 0, 1.0],\n",
       " [8, 0.0, 3, 4, 0, 0],\n",
       " [4, 0.0, 3, 3, 0, 0],\n",
       " [89, 0.17572729944166912, 1, 1, 0.5662650602409639, 0.39759036144578314],\n",
       " [251, 0.032520325203252036, 1, 2, 0.26720647773279355, 0.14979757085020243],\n",
       " [7, 0.2, 2, 2, 0.4, 0.4],\n",
       " [21, 0.023391812865497075, 2, 2, 0.21052631578947367, 0.10526315789473684],\n",
       " [1, 0.0, 3, 3, 0, 0],\n",
       " [18, 0.075, 2, 2, 0.4375, 0.3125],\n",
       " [79, 0.12936936936936938, 1, 2, 0.4, 0.28],\n",
       " [229, 0.09991772932949404, 1, 1, 0.5113122171945701, 0.2669683257918552],\n",
       " [7, 0.3, 2, 2, 0.4, 0.6],\n",
       " [74, 0.1267605633802817, 2, 2, 0.5, 0.2916666666666667],\n",
       " [9, 0.027777777777777776, 2, 2, 0.7777777777777778, 0.1111111111111111],\n",
       " [345, 0.05538379530916844, 1, 1, 0.47023809523809523, 0.19940476190476192],\n",
       " [40, 0.044096728307254626, 2, 2, 0.34210526315789475, 0.21052631578947367],\n",
       " [1, 0.0, 2, 2, 1.0, 1.0],\n",
       " [2, 1.0, 2, 2, 1.0, 1.0],\n",
       " [23, 0.06666666666666667, 2, 2, 0.38095238095238093, 0.14285714285714285],\n",
       " [686, 0.031062053350314867, 1, 1, 0.3476968796433878, 0.1515601783060921],\n",
       " [5, 0.3333333333333333, 2, 2, 0.6666666666666666, 0.3333333333333333],\n",
       " [52, 0.35374149659863946, 1, 2, 0.8367346938775511, 0.4897959183673469],\n",
       " [26, 0.08923076923076922, 2, 2, 0.6923076923076923, 0.38461538461538464],\n",
       " [1, 0.0, 2, 2, 1.0, 1.0],\n",
       " [201, 0.08775087260034904, 1, 2, 0.4635416666666667, 0.265625],\n",
       " [11, 0.08333333333333333, 2, 2, 1.0, 0.4444444444444444],\n",
       " [64, 0.15917503966155475, 1, 2, 0.5483870967741935, 0.25806451612903225],\n",
       " [2, 0.0, 3, 3, 0, 0],\n",
       " [10, 0.35555555555555557, 2, 2, 0.7, 0.2],\n",
       " [35, 0.3162878787878788, 2, 2, 0.696969696969697, 0.6666666666666666],\n",
       " [3, 0.0, 2, 2, 0.3333333333333333, 0.3333333333333333],\n",
       " [9, 0.19047619047619047, 2, 2, 0.5714285714285714, 0.2857142857142857],\n",
       " [13, 0.21794871794871795, 2, 2, 0.6923076923076923, 0.38461538461538464],\n",
       " [27, 0.21333333333333335, 1, 2, 0.76, 0.44],\n",
       " [35, 0.33669354838709675, 1, 2, 0.6875, 0.5625],\n",
       " [12, 0.022222222222222223, 2, 2, 0.1, 0.1],\n",
       " [394, 0.060989086890454486, 1, 1, 0.47506561679790027, 0.2572178477690289],\n",
       " [6, 0.06666666666666667, 2, 2, 0.6666666666666666, 0.5],\n",
       " [19, 0.04411764705882353, 2, 2, 0.29411764705882354, 0.17647058823529413],\n",
       " [1, 0.0, 3, 4, 0, 0],\n",
       " [1, 0.0, 2, 3, 1.0, 0],\n",
       " [74, 0.07120500782472614, 1, 2, 0.20833333333333334, 0.1388888888888889],\n",
       " [3, 0.0, 2, 2, 1.0, 0.6666666666666666],\n",
       " [63, 0.16229508196721312, 1, 2, 0.5901639344262295, 0.2786885245901639],\n",
       " [24, 0.05714285714285714, 2, 2, 0.38095238095238093, 0.23809523809523808],\n",
       " [15, 0.05714285714285714, 2, 2, 0.3333333333333333, 0.26666666666666666],\n",
       " [379, 0.09460862996884147, 1, 1, 0.6330532212885154, 0.2801120448179272],\n",
       " [264, 0.0692848309353603, 1, 2, 0.43023255813953487, 0.16666666666666666]]"
      ]
     },
     "execution_count": 103,
     "metadata": {},
     "output_type": "execute_result"
    }
   ],
   "source": [
    "left_mapping"
   ]
  },
  {
   "cell_type": "code",
   "execution_count": 86,
   "metadata": {
    "collapsed": true
   },
   "outputs": [],
   "source": [
    "node = LinkGraph.GetNI(277784)"
   ]
  },
  {
   "cell_type": "code",
   "execution_count": 87,
   "metadata": {},
   "outputs": [
    {
     "data": {
      "text/plain": [
       "2"
      ]
     },
     "execution_count": 87,
     "metadata": {},
     "output_type": "execute_result"
    }
   ],
   "source": [
    "node.GetDeg()"
   ]
  },
  {
   "cell_type": "code",
   "execution_count": 72,
   "metadata": {},
   "outputs": [
    {
     "name": "stdout",
     "output_type": "stream",
     "text": [
      "192\n"
     ]
    }
   ],
   "source": [
    "print len(left_mapping)"
   ]
  },
  {
   "cell_type": "code",
   "execution_count": 92,
   "metadata": {},
   "outputs": [
    {
     "name": "stdout",
     "output_type": "stream",
     "text": [
      "156\n"
     ]
    }
   ],
   "source": [
    "print len(right_mapping)"
   ]
  },
  {
   "cell_type": "code",
   "execution_count": 80,
   "metadata": {},
   "outputs": [
    {
     "name": "stdout",
     "output_type": "stream",
     "text": [
      "www.libertynation.com\n"
     ]
    }
   ],
   "source": [
    "a = 'https://www.libertynation.com'\n",
    "print a[len(\"https://\"):]"
   ]
  },
  {
   "cell_type": "code",
   "execution_count": 83,
   "metadata": {
    "collapsed": true
   },
   "outputs": [],
   "source": [
    "new_right = []\n",
    "for right_domain in right:\n",
    "    def extractDomain(rawURL):\n",
    "        parsedUrl = urlparse(rawURL)\n",
    "        if parsedUrl.netloc.startswith('www.'):\n",
    "            return parsedUrl.netloc[4:]\n",
    "        return parsedUrl.netloc\n",
    "    domain = extractDomain(right_domain)\n",
    "    new_right.append(domain)\n",
    "right = new_right"
   ]
  },
  {
   "cell_type": "code",
   "execution_count": 94,
   "metadata": {},
   "outputs": [
    {
     "data": {
      "text/plain": [
       "[12, 0.4888888888888889, 1, 2, 0.7, 0.6]"
      ]
     },
     "execution_count": 94,
     "metadata": {},
     "output_type": "execute_result"
    }
   ],
   "source": [
    "left_mapping[\"drudge.com\"]"
   ]
  },
  {
   "cell_type": "code",
   "execution_count": 98,
   "metadata": {
    "collapsed": true
   },
   "outputs": [],
   "source": [
    "from sklearn import ensemble\n",
    "\n",
    "clf = ensemble.GradientBoostingClassifier()"
   ]
  },
  {
   "cell_type": "code",
   "execution_count": 107,
   "metadata": {
    "collapsed": true
   },
   "outputs": [],
   "source": [
    "from random import shuffle\n",
    "\n",
    "left = shuffle(left_mapping)\n",
    "right = shuffle(right_mapping) \n",
    "\n",
    "idx = int(len(left_mapping) * 0.8)\n",
    "left_train = left_mapping[:idx]\n",
    "left_test = left_mapping[idx:]\n",
    "\n",
    "idx = int(len(right_mapping) * 0.8)\n",
    "right_train = right_mapping[:idx]\n",
    "right_test = right_mapping[idx:]\n"
   ]
  },
  {
   "cell_type": "code",
   "execution_count": 110,
   "metadata": {
    "collapsed": true
   },
   "outputs": [],
   "source": [
    "import numpy as np\n",
    "left_numpy =np.array([np.array(xi) for xi in left_train])\n",
    "right_numpy = np.array([np.array(xi) for xi in right_train])\n",
    "total_array = np.vstack([left_numpy, right_numpy])"
   ]
  },
  {
   "cell_type": "code",
   "execution_count": 112,
   "metadata": {
    "collapsed": true
   },
   "outputs": [],
   "source": [
    "y = [0] * len(left_train) + [1] * len(right_train)"
   ]
  },
  {
   "cell_type": "code",
   "execution_count": 114,
   "metadata": {},
   "outputs": [
    {
     "data": {
      "text/plain": [
       "277"
      ]
     },
     "execution_count": 114,
     "metadata": {},
     "output_type": "execute_result"
    }
   ],
   "source": [
    "len(y)\n"
   ]
  },
  {
   "cell_type": "code",
   "execution_count": 115,
   "metadata": {},
   "outputs": [
    {
     "data": {
      "text/plain": [
       "GradientBoostingClassifier(criterion='friedman_mse', init=None,\n",
       "              learning_rate=0.1, loss='deviance', max_depth=3,\n",
       "              max_features=None, max_leaf_nodes=None,\n",
       "              min_impurity_decrease=0.0, min_impurity_split=None,\n",
       "              min_samples_leaf=1, min_samples_split=2,\n",
       "              min_weight_fraction_leaf=0.0, n_estimators=100,\n",
       "              n_iter_no_change=None, presort='auto', random_state=None,\n",
       "              subsample=1.0, tol=0.0001, validation_fraction=0.1,\n",
       "              verbose=0, warm_start=False)"
      ]
     },
     "execution_count": 115,
     "metadata": {},
     "output_type": "execute_result"
    }
   ],
   "source": [
    "clf.fit(total_array, y)"
   ]
  },
  {
   "cell_type": "code",
   "execution_count": 117,
   "metadata": {},
   "outputs": [
    {
     "name": "stdout",
     "output_type": "stream",
     "text": [
      "[0 0 1 0 0 0 0 0 1 0 0 0 0 1 0 0 1 0 1 0 0 0 0 1 0 0 0 0 0 0 0 0 1 0 0 0 0\n",
      " 1 0 0 0 1 1 0 0 0 0 0 0 0 1 0 0 0 0 1 0 0 0 0 0 0 0 0 0 1 0 1 0 0 0 0 0 0\n",
      " 0 0 0 0 0 0 0 1 0 1 0 0 0 1 0 0 1 0 0 0 0 1 1 0 1 0 0 0 0 0 1 0 0 0 0 0 0\n",
      " 0 0 0 1 0 0 0 0 1 0 0 0 0 0 0 0 1 0 0 0 0 0 0 0 0 0 0 0 0 0 0 0 1 1 0 0 0\n",
      " 0 0 0 0 0 1 1 1 1 1 1 1 1 1 1 1 1 1 1 1 1 1 1 1 1 1 1 1 0 1 1 1 1 1 1 1 1\n",
      " 0 1 1 1 1 1 0 1 1 1 1 1 1 1 1 1 1 1 1 1 1 1 1 1 1 1 1 1 1 0 1 1 1 1 1 1 1\n",
      " 1 1 1 1 1 1 1 1 1 1 1 1 1 1 1 1 1 1 1 1 1 1 1 1 1 1 1 1 1 1 1 1 1 1 0 0 1\n",
      " 1 1 1 0 1 1 1 1 1 1 1 1 0 1 1 1 1 1]\n",
      "Gradient Boosting Tree F1-score: 0.873646209386\n"
     ]
    }
   ],
   "source": [
    "#mau lihat F1-Score\n",
    "from sklearn.metrics import f1_score\n",
    "\n",
    "Y_pred = clf.predict(total_array) #prediksi data cross validation menggunakan model tadi\n",
    "print Y_pred\n",
    "score = f1_score(y, Y_pred, average=\"micro\") \n",
    "\n",
    "print(\"Gradient Boosting Tree F1-score: \"+str(score)) # I got 0.86 F1-Score"
   ]
  },
  {
   "cell_type": "code",
   "execution_count": 118,
   "metadata": {
    "collapsed": true
   },
   "outputs": [],
   "source": [
    "import numpy as np\n",
    "left_numpy =np.array([np.array(xi) for xi in left_test])\n",
    "right_numpy = np.array([np.array(xi) for xi in right_test])\n",
    "total_array = np.vstack([left_numpy, right_numpy])\n",
    "\n",
    "y = [0] * len(left_test) + [1] * len(right_test)"
   ]
  },
  {
   "cell_type": "code",
   "execution_count": 120,
   "metadata": {},
   "outputs": [
    {
     "name": "stdout",
     "output_type": "stream",
     "text": [
      "0.661971830986\n"
     ]
    }
   ],
   "source": [
    "Y_pred = clf.predict(total_array)\n",
    "score = f1_score(y, Y_pred, average=\"micro\") \n",
    "print score"
   ]
  },
  {
   "cell_type": "code",
   "execution_count": 123,
   "metadata": {},
   "outputs": [
    {
     "name": "stdout",
     "output_type": "stream",
     "text": [
      "[0]\tvalidation_0-logloss:0.676134\tvalidation_1-logloss:0.675901\n",
      "[1]\tvalidation_0-logloss:0.662501\tvalidation_1-logloss:0.664279\n",
      "[2]\tvalidation_0-logloss:0.649726\tvalidation_1-logloss:0.653522\n",
      "[3]\tvalidation_0-logloss:0.639399\tvalidation_1-logloss:0.643212\n",
      "[4]\tvalidation_0-logloss:0.628305\tvalidation_1-logloss:0.63858\n",
      "[5]\tvalidation_0-logloss:0.619998\tvalidation_1-logloss:0.629545\n",
      "[6]\tvalidation_0-logloss:0.610921\tvalidation_1-logloss:0.622544\n",
      "[7]\tvalidation_0-logloss:0.600986\tvalidation_1-logloss:0.617111\n",
      "[8]\tvalidation_0-logloss:0.594104\tvalidation_1-logloss:0.611735\n",
      "[9]\tvalidation_0-logloss:0.586839\tvalidation_1-logloss:0.606247\n",
      "[10]\tvalidation_0-logloss:0.580611\tvalidation_1-logloss:0.601603\n",
      "[11]\tvalidation_0-logloss:0.575816\tvalidation_1-logloss:0.59613\n",
      "[12]\tvalidation_0-logloss:0.571297\tvalidation_1-logloss:0.592755\n",
      "[13]\tvalidation_0-logloss:0.565437\tvalidation_1-logloss:0.589025\n",
      "[14]\tvalidation_0-logloss:0.560733\tvalidation_1-logloss:0.58702\n",
      "[15]\tvalidation_0-logloss:0.555576\tvalidation_1-logloss:0.585086\n",
      "[16]\tvalidation_0-logloss:0.552079\tvalidation_1-logloss:0.583306\n",
      "[17]\tvalidation_0-logloss:0.547528\tvalidation_1-logloss:0.581271\n",
      "[18]\tvalidation_0-logloss:0.54288\tvalidation_1-logloss:0.580537\n",
      "[19]\tvalidation_0-logloss:0.539241\tvalidation_1-logloss:0.580976\n",
      "[20]\tvalidation_0-logloss:0.535139\tvalidation_1-logloss:0.578792\n",
      "[21]\tvalidation_0-logloss:0.53074\tvalidation_1-logloss:0.579093\n",
      "[22]\tvalidation_0-logloss:0.525339\tvalidation_1-logloss:0.57857\n",
      "[23]\tvalidation_0-logloss:0.521584\tvalidation_1-logloss:0.578989\n",
      "[24]\tvalidation_0-logloss:0.519035\tvalidation_1-logloss:0.577669\n",
      "[25]\tvalidation_0-logloss:0.515018\tvalidation_1-logloss:0.575961\n",
      "[26]\tvalidation_0-logloss:0.512489\tvalidation_1-logloss:0.573755\n",
      "[27]\tvalidation_0-logloss:0.510397\tvalidation_1-logloss:0.573509\n",
      "[28]\tvalidation_0-logloss:0.505916\tvalidation_1-logloss:0.571921\n",
      "[29]\tvalidation_0-logloss:0.504145\tvalidation_1-logloss:0.571687\n",
      "[30]\tvalidation_0-logloss:0.501566\tvalidation_1-logloss:0.570923\n",
      "[31]\tvalidation_0-logloss:0.500078\tvalidation_1-logloss:0.570808\n",
      "[32]\tvalidation_0-logloss:0.497295\tvalidation_1-logloss:0.570169\n",
      "[33]\tvalidation_0-logloss:0.495052\tvalidation_1-logloss:0.57032\n",
      "[34]\tvalidation_0-logloss:0.491721\tvalidation_1-logloss:0.568986\n",
      "[35]\tvalidation_0-logloss:0.488538\tvalidation_1-logloss:0.567832\n",
      "[36]\tvalidation_0-logloss:0.487254\tvalidation_1-logloss:0.568036\n",
      "[37]\tvalidation_0-logloss:0.483641\tvalidation_1-logloss:0.566816\n",
      "[38]\tvalidation_0-logloss:0.482484\tvalidation_1-logloss:0.567072\n",
      "[39]\tvalidation_0-logloss:0.479693\tvalidation_1-logloss:0.566612\n",
      "[40]\tvalidation_0-logloss:0.476847\tvalidation_1-logloss:0.565591\n",
      "[41]\tvalidation_0-logloss:0.475844\tvalidation_1-logloss:0.56578\n",
      "[42]\tvalidation_0-logloss:0.472768\tvalidation_1-logloss:0.564606\n",
      "[43]\tvalidation_0-logloss:0.470928\tvalidation_1-logloss:0.566677\n",
      "[44]\tvalidation_0-logloss:0.468437\tvalidation_1-logloss:0.565996\n",
      "[45]\tvalidation_0-logloss:0.467557\tvalidation_1-logloss:0.566904\n",
      "[46]\tvalidation_0-logloss:0.465347\tvalidation_1-logloss:0.566517\n",
      "[47]\tvalidation_0-logloss:0.463673\tvalidation_1-logloss:0.567205\n",
      "[48]\tvalidation_0-logloss:0.462897\tvalidation_1-logloss:0.567341\n",
      "[49]\tvalidation_0-logloss:0.46067\tvalidation_1-logloss:0.566962\n",
      "[50]\tvalidation_0-logloss:0.459075\tvalidation_1-logloss:0.568131\n",
      "[51]\tvalidation_0-logloss:0.457494\tvalidation_1-logloss:0.566644\n",
      "[52]\tvalidation_0-logloss:0.455017\tvalidation_1-logloss:0.565563\n",
      "[53]\tvalidation_0-logloss:0.453211\tvalidation_1-logloss:0.565566\n",
      "[54]\tvalidation_0-logloss:0.450696\tvalidation_1-logloss:0.564907\n",
      "[55]\tvalidation_0-logloss:0.448855\tvalidation_1-logloss:0.564256\n",
      "[56]\tvalidation_0-logloss:0.44773\tvalidation_1-logloss:0.563277\n",
      "[57]\tvalidation_0-logloss:0.445309\tvalidation_1-logloss:0.563141\n",
      "[58]\tvalidation_0-logloss:0.443763\tvalidation_1-logloss:0.563528\n",
      "[59]\tvalidation_0-logloss:0.441222\tvalidation_1-logloss:0.561708\n",
      "[60]\tvalidation_0-logloss:0.439829\tvalidation_1-logloss:0.56277\n",
      "[61]\tvalidation_0-logloss:0.438818\tvalidation_1-logloss:0.561278\n",
      "[62]\tvalidation_0-logloss:0.436277\tvalidation_1-logloss:0.560838\n",
      "[63]\tvalidation_0-logloss:0.434282\tvalidation_1-logloss:0.560614\n",
      "[64]\tvalidation_0-logloss:0.432178\tvalidation_1-logloss:0.563067\n",
      "[65]\tvalidation_0-logloss:0.430388\tvalidation_1-logloss:0.5637\n",
      "[66]\tvalidation_0-logloss:0.428417\tvalidation_1-logloss:0.563261\n",
      "[67]\tvalidation_0-logloss:0.427579\tvalidation_1-logloss:0.562282\n",
      "[68]\tvalidation_0-logloss:0.425756\tvalidation_1-logloss:0.564792\n",
      "[69]\tvalidation_0-logloss:0.424394\tvalidation_1-logloss:0.5661\n",
      "[70]\tvalidation_0-logloss:0.422336\tvalidation_1-logloss:0.565079\n",
      "[71]\tvalidation_0-logloss:0.421789\tvalidation_1-logloss:0.565929\n",
      "[72]\tvalidation_0-logloss:0.420296\tvalidation_1-logloss:0.567321\n",
      "[73]\tvalidation_0-logloss:0.419808\tvalidation_1-logloss:0.567267\n",
      "[74]\tvalidation_0-logloss:0.418793\tvalidation_1-logloss:0.56837\n",
      "[75]\tvalidation_0-logloss:0.416853\tvalidation_1-logloss:0.568512\n",
      "[76]\tvalidation_0-logloss:0.416069\tvalidation_1-logloss:0.567165\n",
      "[77]\tvalidation_0-logloss:0.414597\tvalidation_1-logloss:0.567588\n",
      "[78]\tvalidation_0-logloss:0.412544\tvalidation_1-logloss:0.570657\n",
      "[79]\tvalidation_0-logloss:0.410615\tvalidation_1-logloss:0.570496\n",
      "[80]\tvalidation_0-logloss:0.408811\tvalidation_1-logloss:0.572693\n",
      "[81]\tvalidation_0-logloss:0.407235\tvalidation_1-logloss:0.572112\n",
      "[82]\tvalidation_0-logloss:0.40632\tvalidation_1-logloss:0.57341\n",
      "[83]\tvalidation_0-logloss:0.404816\tvalidation_1-logloss:0.57357\n",
      "[84]\tvalidation_0-logloss:0.403093\tvalidation_1-logloss:0.574874\n",
      "[85]\tvalidation_0-logloss:0.401477\tvalidation_1-logloss:0.57698\n",
      "[86]\tvalidation_0-logloss:0.400243\tvalidation_1-logloss:0.576741\n",
      "[87]\tvalidation_0-logloss:0.39847\tvalidation_1-logloss:0.579697\n",
      "[88]\tvalidation_0-logloss:0.397026\tvalidation_1-logloss:0.581115\n",
      "[89]\tvalidation_0-logloss:0.396145\tvalidation_1-logloss:0.581603\n",
      "[90]\tvalidation_0-logloss:0.394964\tvalidation_1-logloss:0.582128\n",
      "[91]\tvalidation_0-logloss:0.393661\tvalidation_1-logloss:0.584\n",
      "[92]\tvalidation_0-logloss:0.393175\tvalidation_1-logloss:0.584301\n",
      "[93]\tvalidation_0-logloss:0.392206\tvalidation_1-logloss:0.584859\n",
      "[94]\tvalidation_0-logloss:0.391003\tvalidation_1-logloss:0.586238\n",
      "[95]\tvalidation_0-logloss:0.389605\tvalidation_1-logloss:0.586851\n",
      "[96]\tvalidation_0-logloss:0.388625\tvalidation_1-logloss:0.587449\n",
      "[97]\tvalidation_0-logloss:0.387588\tvalidation_1-logloss:0.588195\n",
      "[98]\tvalidation_0-logloss:0.38649\tvalidation_1-logloss:0.589441\n",
      "[99]\tvalidation_0-logloss:0.385797\tvalidation_1-logloss:0.59065\n"
     ]
    },
    {
     "ename": "AttributeError",
     "evalue": "'GradientBoostingClassifier' object has no attribute 'evals_result'",
     "output_type": "error",
     "traceback": [
      "\u001b[0;31m---------------------------------------------------------------------------\u001b[0m",
      "\u001b[0;31mAttributeError\u001b[0m                            Traceback (most recent call last)",
      "\u001b[0;32m<ipython-input-123-e6a9beea0c80>\u001b[0m in \u001b[0;36m<module>\u001b[0;34m()\u001b[0m\n\u001b[1;32m     20\u001b[0m         verbose=True)\n\u001b[1;32m     21\u001b[0m \u001b[0;34m\u001b[0m\u001b[0m\n\u001b[0;32m---> 22\u001b[0;31m \u001b[0mevals_result\u001b[0m \u001b[0;34m=\u001b[0m \u001b[0mclf\u001b[0m\u001b[0;34m.\u001b[0m\u001b[0mevals_result\u001b[0m\u001b[0;34m(\u001b[0m\u001b[0;34m)\u001b[0m\u001b[0;34m\u001b[0m\u001b[0m\n\u001b[0m",
      "\u001b[0;31mAttributeError\u001b[0m: 'GradientBoostingClassifier' object has no attribute 'evals_result'"
     ]
    }
   ],
   "source": [
    "from xgboost import XGBClassifier \n",
    "model = XGBClassifier() \n",
    "\n",
    "import numpy as np\n",
    "left_numpy =np.array([np.array(xi) for xi in left_train])\n",
    "right_numpy = np.array([np.array(xi) for xi in right_train])\n",
    "x_train_array = np.vstack([left_numpy, right_numpy])\n",
    "y_train = [0] * len(left_train) + [1] * len(right_train)\n",
    "\n",
    "left_numpy =np.array([np.array(xi) for xi in left_test])\n",
    "right_numpy = np.array([np.array(xi) for xi in right_test])\n",
    "x_test_array = np.vstack([left_numpy, right_numpy])\n",
    "\n",
    "y_test = [0] * len(left_test) + [1] * len(right_test)\n",
    "\n",
    "\n",
    "model.fit(x_train_array, y_train,\n",
    "        eval_set=[(x_train_array, y_train), (x_test_array, y_test)],\n",
    "        eval_metric='logloss',\n",
    "        verbose=True)\n",
    "\n",
    "evals_result = clf.evals_result()"
   ]
  },
  {
   "cell_type": "code",
   "execution_count": 124,
   "metadata": {
    "collapsed": true
   },
   "outputs": [],
   "source": [
    "Y_pred = clf.predict(x_train_array) #prediksi data cross validation menggunakan model tadi\n",
    "score = f1_score(y_train, Y_pred, average=\"micro\") "
   ]
  },
  {
   "cell_type": "code",
   "execution_count": 125,
   "metadata": {},
   "outputs": [
    {
     "data": {
      "text/plain": [
       "0.87364620938628157"
      ]
     },
     "execution_count": 125,
     "metadata": {},
     "output_type": "execute_result"
    }
   ],
   "source": [
    "score"
   ]
  },
  {
   "cell_type": "code",
   "execution_count": 126,
   "metadata": {
    "collapsed": true
   },
   "outputs": [],
   "source": [
    "Y_pred = clf.predict(x_test_array) #prediksi data cross validation menggunakan model tadi\n",
    "score = f1_score(y_test, Y_pred, average=\"micro\") "
   ]
  },
  {
   "cell_type": "code",
   "execution_count": 127,
   "metadata": {},
   "outputs": [
    {
     "data": {
      "text/plain": [
       "0.6619718309859155"
      ]
     },
     "execution_count": 127,
     "metadata": {},
     "output_type": "execute_result"
    }
   ],
   "source": [
    "score"
   ]
  },
  {
   "cell_type": "code",
   "execution_count": 130,
   "metadata": {},
   "outputs": [
    {
     "data": {
      "text/plain": [
       "<Container object of 6 artists>"
      ]
     },
     "execution_count": 130,
     "metadata": {},
     "output_type": "execute_result"
    },
    {
     "data": {
      "image/png": "[encoded data removed]",
      "text/plain": [
       "<matplotlib.figure.Figure at 0x1551dfc10>"
      ]
     },
     "metadata": {},
     "output_type": "display_data"
    }
   ],
   "source": [
    "plt.title(\"Importance of Various Features\")\n",
    "plt.xlabel(\"Feature Number\")\n",
    "plt.ylabel(\"Relative Feature Importance\")\n",
    "plt.bar(range(len(model.feature_importances_)), model.feature_importances_)\n"
   ]
  },
  {
   "cell_type": "code",
   "execution_count": null,
   "metadata": {
    "collapsed": true
   },
   "outputs": [],
   "source": []
  }
 ],
 "metadata": {
  "kernelspec": {
   "display_name": "Python 2",
   "language": "python",
   "name": "python2"
  },
  "language_info": {
   "codemirror_mode": {
    "name": "ipython",
    "version": 2
   },
   "file_extension": ".py",
   "mimetype": "text/x-python",
   "name": "python",
   "nbconvert_exporter": "python",
   "pygments_lexer": "ipython2",
   "version": "2.7.13"
  }
 },
 "nbformat": 4,
 "nbformat_minor": 2
}
