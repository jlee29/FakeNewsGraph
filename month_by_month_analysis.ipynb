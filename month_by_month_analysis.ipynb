{
 "cells": [
  {
   "cell_type": "code",
   "execution_count": 7,
   "metadata": {
    "collapsed": true
   },
   "outputs": [],
   "source": [
    "%matplotlib inline\n",
    "import csv\n",
    "from datetime import datetime\n",
    "from urlparse import urlparse\n",
    "import json\n",
    "import snap"
   ]
  },
  {
   "cell_type": "code",
   "execution_count": 8,
   "metadata": {
    "collapsed": true
   },
   "outputs": [],
   "source": [
    "\n",
    "def extractDomain(rawURL):\n",
    "\tparsedUrl = urlparse(rawURL)\n",
    "\treturn '{uri.scheme}://{uri.netloc}/'.format(uri=parsedUrl)\n",
    "\n",
    "def isUninteresting(url):\n",
    "\tif 'facebook' in url:\n",
    "\t\treturn True\n",
    "\telif 'instagram' in url:\n",
    "\t\treturn True\n",
    "\telif 'twitter' in url:\n",
    "\t\treturn True\n",
    "\telif 'google' in url:\n",
    "\t\treturn True\n",
    "\telif 'youtube' in url:\n",
    "\t\treturn True\n",
    "\telif url == 'https://t.co/':\n",
    "\t\treturn True\n",
    "\telse:\n",
    "\t\treturn False"
   ]
  },
  {
   "cell_type": "code",
   "execution_count": 9,
   "metadata": {
    "collapsed": false
   },
   "outputs": [],
   "source": [
    "currIDs = {}\n",
    "domainToNodeID = {}\n",
    "years = {}\n",
    "months = {}\n",
    "months_graph = {}\n",
    "\n",
    "progress = 0\n",
    "\n",
    "for i in [1, 2, 3, 5]: \n",
    "    with open(\"web-2016-09-links-clean-{}.txt\".format(i)) as tsvfile:\n",
    "        linkReader = csv.reader(tsvfile, delimiter='\\t')\n",
    "        for row in linkReader:\n",
    "            if row[1][:4] == \"2016\": \n",
    "                month = row[1][5:7] \n",
    "                if month not in months_graph: \n",
    "                    months_graph[month] = snap.TNGraph.New()\n",
    "                    domainToNodeID[month] = {}\n",
    "                    currIDs[month] = 0\n",
    "                curr_graph = months_graph[month]\n",
    "\n",
    "                fromDomain = extractDomain(row[0])\n",
    "                if isUninteresting(fromDomain):\n",
    "                    continue\n",
    "                if fromDomain not in domainToNodeID[month]:\n",
    "                    domainToNodeID[month][fromDomain] = currIDs[month]\n",
    "                    curr_graph.AddNode(currIDs[month])\n",
    "                    currIDs[month] += 1\n",
    "\n",
    "                uniqueToDomains = set()\n",
    "\n",
    "                for link in row[2:]:\n",
    "                    try:\n",
    "                        toDomain = extractDomain(link)\n",
    "                        if isUninteresting(toDomain):\n",
    "                            continue\n",
    "                        if toDomain not in domainToNodeID[month]:\n",
    "                            domainToNodeID[month][toDomain] = currIDs[month]\n",
    "                            curr_graph.AddNode(currIDs[month])\n",
    "                            currIDs[month] += 1\n",
    "                        if toDomain not in uniqueToDomains:\n",
    "                            curr_graph.AddEdge(domainToNodeID[month][fromDomain],domainToNodeID[month][toDomain])\n",
    "                            uniqueToDomains.add(toDomain)\n",
    "                    except ValueError:\n",
    "                        pass"
   ]
  },
  {
   "cell_type": "code",
   "execution_count": 11,
   "metadata": {
    "collapsed": true
   },
   "outputs": [],
   "source": [
    "clustering_coefficients = {}\n",
    "for month, graph in months_graph.iteritems(): \n",
    "    cf = snap.GetClustCf(graph)\n",
    "    clustering_coefficients[month] = cf\n"
   ]
  },
  {
   "cell_type": "code",
   "execution_count": 12,
   "metadata": {
    "collapsed": false
   },
   "outputs": [
    {
     "data": {
      "text/plain": [
       "{'01': 0.0015228322702841388,\n",
       " '02': 0.0033974520853303604,\n",
       " '03': 0.0030751717624627325,\n",
       " '04': 0.003195216181983668,\n",
       " '05': 0.00560904175443839,\n",
       " '06': 0.006948611049265535,\n",
       " '07': 0.004054532165213228,\n",
       " '08': 0.007661128172344247,\n",
       " '09': 0.020660106427558684,\n",
       " '10': 0.02866986193191952}"
      ]
     },
     "execution_count": 12,
     "metadata": {},
     "output_type": "execute_result"
    }
   ],
   "source": [
    "clustering_coefficients"
   ]
  },
  {
   "cell_type": "code",
   "execution_count": 14,
   "metadata": {
    "collapsed": false
   },
   "outputs": [
    {
     "data": {
      "text/plain": [
       "[<matplotlib.lines.Line2D at 0x11db50850>]"
      ]
     },
     "execution_count": 14,
     "metadata": {},
     "output_type": "execute_result"
    },
    {
     "data": {
      "image/png": "[encoded data removed]",
      "text/plain": [
       "<matplotlib.figure.Figure at 0x11db58cd0>"
      ]
     },
     "metadata": {},
     "output_type": "display_data"
    }
   ],
   "source": [
    "import matplotlib.pylab as plt\n",
    "\n",
    "lists = sorted(clustering_coefficients.items()) # sorted by key, return a list of tuples\n",
    "\n",
    "x, y = zip(*lists) # unpack a list of pairs into two tuples\n",
    "x = [int(month) for month in x]\n",
    "\n",
    "plt.xlabel('Month')\n",
    "plt.ylabel('Clustering Coefficient')\n",
    "plt.title('Clustering Coefficients by Month (2016)')\n",
    "\n",
    "plt.plot(x, y)"
   ]
  },
  {
   "cell_type": "code",
   "execution_count": 15,
   "metadata": {
    "collapsed": false
   },
   "outputs": [],
   "source": [
    "diameters = {}\n",
    "for month, graph in months_graph.iteritems(): \n",
    "    diam = snap.GetBfsFullDiam(graph, 100, False)\n",
    "    diameters[month] = diam"
   ]
  },
  {
   "cell_type": "code",
   "execution_count": 17,
   "metadata": {
    "collapsed": false
   },
   "outputs": [
    {
     "data": {
      "text/plain": [
       "{'01': 13,\n",
       " '02': 11,\n",
       " '03': 13,\n",
       " '04': 13,\n",
       " '05': 12,\n",
       " '06': 13,\n",
       " '07': 10,\n",
       " '08': 14,\n",
       " '09': 15,\n",
       " '10': 13}"
      ]
     },
     "execution_count": 17,
     "metadata": {},
     "output_type": "execute_result"
    }
   ],
   "source": [
    "diameters"
   ]
  },
  {
   "cell_type": "code",
   "execution_count": 18,
   "metadata": {
    "collapsed": false
   },
   "outputs": [
    {
     "data": {
      "text/plain": [
       "[('01', 13),\n",
       " ('02', 11),\n",
       " ('03', 13),\n",
       " ('04', 13),\n",
       " ('05', 12),\n",
       " ('06', 13),\n",
       " ('07', 10),\n",
       " ('08', 14),\n",
       " ('09', 15),\n",
       " ('10', 13)]"
      ]
     },
     "execution_count": 18,
     "metadata": {},
     "output_type": "execute_result"
    }
   ],
   "source": [
    "lists"
   ]
  },
  {
   "cell_type": "code",
   "execution_count": 20,
   "metadata": {
    "collapsed": false
   },
   "outputs": [
    {
     "name": "stdout",
     "output_type": "stream",
     "text": [
      "[1, 2, 3, 4, 5, 6, 7, 8, 9, 10]\n",
      "(13, 11, 13, 13, 12, 13, 10, 14, 15, 13)\n"
     ]
    }
   ],
   "source": [
    "print x\n",
    "print y"
   ]
  },
  {
   "cell_type": "code",
   "execution_count": 21,
   "metadata": {
    "collapsed": false
   },
   "outputs": [
    {
     "data": {
      "text/plain": [
       "[<matplotlib.lines.Line2D at 0x116c27c10>]"
      ]
     },
     "execution_count": 21,
     "metadata": {},
     "output_type": "execute_result"
    },
    {
     "data": {
      "image/png": "[encoded data removed]",
      "text/plain": [
       "<matplotlib.figure.Figure at 0x11e05b150>"
      ]
     },
     "metadata": {},
     "output_type": "display_data"
    }
   ],
   "source": [
    "import matplotlib.pyplot as plt\n",
    "\n",
    "\n",
    "lists = sorted(diameters.items()) # sorted by key, return a list of tuples\n",
    "\n",
    "x, y = zip(*lists) # unpack a list of pairs into two tuples\n",
    "x = [int(month) for month in x]\n",
    "\n",
    "month_keys = [int(month) for month in x]\n",
    "plt.xlabel('Month')\n",
    "plt.ylabel('Diameter')\n",
    "plt.title('Diameter by Month (2016)')\n",
    "plt.plot(month_keys, y, color='g')\n",
    "\n"
   ]
  },
  {
   "cell_type": "code",
   "execution_count": null,
   "metadata": {
    "collapsed": true
   },
   "outputs": [],
   "source": []
  }
 ],
 "metadata": {
  "kernelspec": {
   "display_name": "Python 2",
   "language": "python",
   "name": "python2"
  },
  "language_info": {
   "codemirror_mode": {
    "name": "ipython",
    "version": 2
   },
   "file_extension": ".py",
   "mimetype": "text/x-python",
   "name": "python",
   "nbconvert_exporter": "python",
   "pygments_lexer": "ipython2",
   "version": "2.7.10"
  }
 },
 "nbformat": 4,
 "nbformat_minor": 2
}
