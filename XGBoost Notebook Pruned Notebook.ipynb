{
 "cells": [
  {
   "cell_type": "markdown",
   "metadata": {},
   "source": [
    "# Set-Up"
   ]
  },
  {
   "cell_type": "code",
   "execution_count": 52,
   "metadata": {
    "collapsed": true
   },
   "outputs": [],
   "source": [
    "%matplotlib inline\n",
    "import csv\n",
    "from datetime import datetime\n",
    "from urlparse import urlparse\n",
    "import json\n",
    "import snap"
   ]
  },
  {
   "cell_type": "code",
   "execution_count": 79,
   "metadata": {
    "collapsed": false
   },
   "outputs": [],
   "source": [
    "import ast\n",
    "\n",
    "dirLinkGraph = snap.LoadEdgeList(snap.PNGraph, \"LinkGraph_ALL_pruned.txt\", 0, 1)\n",
    "undirLinkGraph = snap.LoadEdgeList(snap.PUNGraph, \"LinkGraph_ALL_pruned.txt\", 0, 1)\n",
    "\n",
    "domainToNodeID = json.load(open(\"domainToNodeID_ALL.txt\"))\n",
    "nodeIDToDomain = {v: k for k, v in domainToNodeID.iteritems()}\n",
    "\n",
    "prunedNodeIDs = set()\n",
    "for Node in dirLinkGraph.Nodes():\n",
    "    prunedNodeIDs.add(Node.GetId())\n",
    "\n",
    "prunedDomainToNodeID = {k: v for k, v in domainToNodeID.iteritems() if v in prunedNodeIDs}\n",
    "prunedNodeIDToDomain = {v: k for k, v in prunedDomainToNodeID.iteritems()}"
   ]
  },
  {
   "cell_type": "code",
   "execution_count": 54,
   "metadata": {
    "collapsed": false
   },
   "outputs": [
    {
     "name": "stdout",
     "output_type": "stream",
     "text": [
      "Nodes in Graph 8517\n",
      "Edges in Graph 79051\n",
      "Number of Domains in Domain Dictionary 380815\n"
     ]
    }
   ],
   "source": [
    "print \"Nodes in Graph\", dirLinkGraph.GetNodes()\n",
    "print \"Edges in Graph\", dirLinkGraph.GetEdges()\n",
    "print \"Number of Domains in Domain Dictionary\", len(domains)"
   ]
  },
  {
   "cell_type": "code",
   "execution_count": 55,
   "metadata": {
    "collapsed": false
   },
   "outputs": [
    {
     "name": "stdout",
     "output_type": "stream",
     "text": [
      "Num Far Left 294\n",
      "Num Left Center 439\n",
      "Num Far Right 257\n",
      "Num Right Center 208\n",
      "====================\n",
      "Num Left 733\n",
      "Num Right 464\n"
     ]
    }
   ],
   "source": [
    "left_far_urls = set(['drudge.com', 'washingtonsources.org', 'akkadiantimes.com', 'deadstate.org', 'thelasource.com', 'americablog.com', 'meduza.io', 'thenewcivilrightsmovement.com', 'newstatesman.com', 'wonkette.com', 'mirror.co.uk', 'libcom.org', 'deepleftfield.info', 'intrepidreport.com', 'rawprogressive.com', 'viraltitle.com', 'worldcantwait.net', 'happy-foxie.com', 'newint.org', 'revcom.us', 'lavendermagazine.com', 'newrepublic.com', 'washingtonpress.com', 'theimproper.com', 'nationofchange.org', 'projectcensored.org', 'peacock-panache.com', 'newpol.org', 'democracyguardian.com', 'dallasvoice.com', 'uproxx.com', 'jezebel.com', 'bluedotdaily.com', 'content.news', 'boingboing.net', 'blacklivesmatter.com', 'reverepress.com', 'whatmattersnews.com', 'au.org', 'hrc.org', 'impeachdjtnow.com', 'leftoverrights.com', 'progressivefrontier.com', 'putintrump.org', 'progressive.org', 'newshounds.us', 'liberationnews.org', 'certifiedpolitics.com', 'angrywhitemen.org', 'forwardprogressives.com', 'theintellectualist.co', 'smirkingchimp.com', 'elitedaily.com', 'leftwingnation.org', 'daily49er.com', 'itsgoingdown.org', 'jacobinmag.com', 'tribunemagazine.org', 'leftscoop.com', 'democraticunderground.com', 'yesmagazine.org', 'newyorker.com', 'theroot.com', 'fifthestate.org', 'electronicintifada.net', 'allthatsfab.com', 'upworthy.com', 'moonofalabama.org', 'themaven.net', 'freepress.org', 'salon.com', 'carbonated.tv', 'mondoweiss.net', 'austinchronicle.com', 'globalvoices.org', 'thedailyvox.co.za', 'yourblackworld.net', 'meanlefthook.com', 'backedbyfact.com', 'gizmodo.com', 'liberalexaminer.com', 'care2.com', 'dctribune.org', 'leftfootforward.org', 'workers.org', 'newslogue.com', 'rewire.news', 'pravdareport.com', 'gq.com', 'foreignpolicyjournal.com', 'redpepper.org.uk', 'act.tv', 'leftsideofhistory.com', 'redyouth.org', 'politicaldig.com', 'crooksandliars.com', 'americanbridgepac.org', 'commondreams.org', 'chicagoreader.com', 'marxist.com', 'dailydot.com', 'nymag.com', 'guardianlv.com', 'telesurtv.net', 'pinknews.co.uk', 'filmingcops.com', 'photographyisnotacrime.com', 'washingtonmonthly.com', 'republicanssucks.org', 'theuspoliticalpost.com', 'ebar.com', 'politicususa.com', 'iowastartingline.com', 'lgbtqnation.com', 'blackagendareport.com', 'foreignpolicynews.org', 'opednews.com', 'thenation.com', 'pastemagazine.com', 'proudemocrat.com', 'thedailybanter.com', 'washingtonjournal.com', 'loveknowledge.org', 'codepink.org', 'worldsocialism.org', 'breitbartunmasked.com', 'samuel-warde.com', 'dailydems.com', 'advocate.com', 'internationalviewpoint.org', 'progressivearmy.com', 'aidc.org.za', 'samefacts.com', 'thefloridasqueeze.com', 'freedomnews.org.uk', 'people.com', 'elisabethparker.com', 'politicalupdater.com', 'earthfirstjournal.org', 'nowthisnews.com', 'wearyourvoicemag.com', 'chroniclesofdemocracy.com', 'thefrisky.com', 'modernliberals.com', 'blue-route.org', 'resilience.org', 'afj.org', 'gopocalypse.org', 'north99.org', 'curvemag.com', 'esquire.com', 'citizencritics.org', 'shadowproof.com', 'readingthepictures.org', 'ir.net', 'leftvoice.org', 'takepart.com', 'democracynow.org', 'other98.com', 'inthesetimes.com', 'scarymommy.com', 'dailykos.com', 'deepstatenation.com', 'feministcurrent.com', 'verrit.com', 'morningstaronline.co.uk', 'currentaffairs.org', 'bust.com', 'dieharddemocrat.com', 'rantt.com', 'littlegreenfootballs.com', 'citypaper.com', 'usuncut.com', 'extranewsfeed.com', 'evonomics.com', 'mashable.com', 'americanprogress.org', 'towleroad.com', 'verifiedpolitics.com', 'syriana-analysis.com', 'nap-sack.org', 'nova-magazine.net', 'tytnetwork.com', 'truth-out.org', 'dissentmagazine.org', 'theguardiansofdemocracy.com', 'redstatedisaster.com', 'nationalmemo.com', 'truthagainstthemachine.com', 'thinkprogress.org', 'countercurrents.org', 'frnewsreport.com', 'zcomm.org', 'mediamatters.org', 'theoswatch.com', 'thegrio.com', 'splinternews.com', 'the-daily.buzz', 'economyincrisis.org', 'texasobserver.org', 'electoral-vote.com', 'antifascistnews.net', 'truthdig.com', 'desmogblog.com', 'liberalamerica.org', 'motherjones.com', 'talkingpointsmemo.com', 'pressprogress.ca', 'ourvoiceny.com', 'addictinginfo.com', 'vox.com', 'everydayfeminism.com', 'merryjane.com', 'vanityfair.com', 'change.org', 'deadspin.com', 'inequalitymedia.org', 'queerty.com', 'rightwingwatch.org', 'front.moveon.org', 'theestablishment.co', 'cnntimes.online', 'pfaw.org', 'revolution-news.com', 'onegreenplanet.org', 'vermontindependent.org', 'prwatch.org', 'slate.com', 'bluenationreview.com', 'greenleft.org.au', 'themilitant.com', 'popularresistance.org', 'ips-dc.org', 'thelily.com', 'whowhatwhy.org', 'readersupportednews.org', 'news.groopspeak.com', 'thesternfacts.com', 'canadiandimension.com', 'rawstory.com', 'vote.us.org', 'molad.org', 'newscorpse.com', 'nowtoronto.com', 'dailynewsbin.com', 'bradford-delong.com', 'dailyrecord.co.uk', 'rabble.ca', 'progressiveliberal.net', 'theburningspear.com', 'bitchmedia.org', 'good.is', 'cnn.com', 'americanindependent.com', 'feministing.com', 'counterpunch.org', 'crimethinc.com', 'middleeastmonitor.com', 'crooked.com', 'huffingtonpost.com', 'freespeech.org', 'climaterealityproject.org', 'firstpost.com', 'egbertowillies.com', 'theoutline.com', 'stpete4peace.org', 'bluestatedaily.com', 'prospect.org', 'msmagazine.com', 'cosmopolitan.com', 'mediaite.com', 'rappler.com', 'villagevoice.com', 'thedailybeast.com', 'socialistworker.org', 'autostraddle.com', 'alternet.org', 'latest.com', 'shareblue.com', 'trofire.com', 'newsweek.com', 'palmerreport.com', 'sourcewatch.org', 'americannewsx.com', 'globetoday.com', 'miaminewtimes.com', 'themarysue.com', 'thewalrus.ca', 'this.org', 'thelondoneconomic.com', 'democratichub.com', 'thecanary.co', 'juancole.com', 'greenvillegazette.com'])\n",
    "left_center_urls = set(['helsinkitimes.fi', 'indystar.com', 'news.trust.org', 'canadalandshow.com', 'lapresse.ca', 'timescolonist.com', 'ahtribune.com', 'rudaw.net', 'berkshireeagle.com', 'almasdarnews.com', 'theatlantic.com', 'wgntv.com', 'thenewstribune.com', 'ozy.com', 'politico.com', 'syriahr.com', 'billmoyers.com', 'denverpost.com', 'thelocal.no', 'populationconnection.org', 'elpasotimes.com', 'nakedcapitalism.com', 'buffalonews.com', 'thecitizen.org.au', 'ynetnews.com', 'timesofisrael.com', 'glamour.com', 'windsorstar.com', 'sfgate.com', 'stltoday.com', 'politicsthatwork.com', 'newsandgutsmedia.com', 'jointcenter.org', 'ydr.com', 'democratandchronicle.com', 'credoaction.com', 'vancouversun.com', 'outsidethebeltway.com', 'twincities.com', 'thenewtropic.com', 'scroll.in', 'phoenixnewtimes.com', 'taxjustice.net', 'mediafiledc.com', 'thefifthcolumnnews.com', 'freep.com', 'emirates247.com', 'wnyc.org', 'spiegel.de', 'thetab.com', 'al-monitor.com', 'saudigazette.com.sa', 'lethbridgeherald.com', 'atlantablackstar.com', 'urban.org', 'revealnews.org', 'bustle.com', 'legitgov.org', 'mwcnews.net', 'thewire.in', 'hindustantimes.com', 'themoscowtimes.com', 'humanium.org', 'cbsnews.com', 'fair.org', 'insidehighered.com', 'rfa.org', 'deccanherald.com', 'youthradio.org', 'qz.com', 'resourcegovernance.org', 'wingsoverscotland.com', 'dutchdailynews.com', 'sojo.net', 'lawfareblog.com', 'jihadica.com', 'panampost.com', 'economictimes.indiatimes.com', 'tomdispatch.com', 'greensboro.com', 'nj.com', 'caribbeanlifenews.com', 'insideclimatenews.org', 'inquirer.net', 'ohio.com', 'capitalgazette.com', 'diversityinc.com', 'therealnews.com', 'newsite.thehindu.com', 'shameproject.com', 'themonthly.com.au', 'abcnews.go.com', 'citizen.org', 'votevets.org', 'dawn.com', 'sandiegofreepress.org', 'kmov.com', 'newsy.com', 'heavy.com', 'staradvertiser.com', 'tucson.com', 'dailyclimate.org', 'bbc.com', 'neweurope.eu', 'alhayat.com', 'birminghammail.co.uk', 'commoncause.org', 'roanoke.com', 'cleantechnica.com', 'ajc.com', 'monthlyreview.org', 'bluestemprairie.com', 'courant.com', 'emptywheel.net', 'rooseveltinstitute.org', 'citizensforethics.org', 'silive.com', 'earthjustice.org', 'sootoday.com', 'necn.com', 'engadget.com', 'newser.com', 'morningconsult.com', 'ndtv.com', 'economicshelp.org', 'annistonstar.com', 'kotaku.com', 'nbcnews.com', 'berkeleyside.com', 'insidephilanthropy.com', 'opendemocracy.net', 'fpif.org', 'abc11.com', 'worldpolicy.org', 'gaystarnews.com', 'nationinstitute.org', 'news.cn', 'koreatimes.co.kr', 'newsday.com', 'independent.com', 'courier-journal.com', 'ncpolicywatch.com', 'propublica.org', 'time.com', 'positive.news', 'fresnobee.com', 'globalcitizen.org', 'sbs.com.au', 'inverse.com', 'prospectmagazine.co.uk', 'sfexaminer.com', 'news.sky.com', 'indymedia.org', 'news.mongabay.com', 'kurdistan24.net', 'msn.com', 'vice.com', 'icenews.is', 'carolinapublicpress.org', 'irrawaddy.com', 'fightforthefuture.org', 'euractiv.com', 'theneed2know.com', 'cctv-america.com', 'presstv.com', 'digg.com', 'inquisitr.com', 'fusion.net', 'factmyth.com', 'affinitymagazine.us', 'uawire.org', 'alliedprogress.org', 'miamiherald.com', 'tabletmag.com', 'statesman.com', 'seattletimes.com', 'taxpolicycenter.org', 'nydailynews.com', 'ctvnews.ca', 'greentechmedia.com', 'fastcompany.com', 'ctj.org', 'thestranger.com', 'chicago.suntimes.com', 'ciponline.org', 'theautomaticearth.com', 'calgaryherald.com', 'cnbc.com', 'wvgazettemail.com', 'republicworld.com', 'al-sura.com', 'thisisthezerohour.com', 'metro.co.uk', 'politicalcritique.org', 'hurriyetdailynews.com', 'feministfrequency.com', 'inews.co.uk', 'startribune.com', 'tampabay.com', 'eff.org', 'macleans.ca', 'lawnewz.com', 'psmag.com', 'adn.com', 'nrdc.org', 'freakonomics.com', 'metro.us', 'liberalmountain.com', 'natmonitor.com', 'newstimes.com', 'globalriskinsights.com', 'baltimoresun.com', 'nature.org', 'rationalwiki.org', 'sfglobe.com', 'timesheadline.com', 'delawareonline.com', 'swissinfo.ch', 'freepress.net', 'wilderness.org', 'sltrib.com', 'guttmacher.org', 'baptistnews.com', 'ibtimes.com', 'geopoliticsalert.com', 'budapestbeacon.com', 'pilotonline.com', 'euobserver.com', 'muncievoice.com', 'thetyee.ca', 'thechristianleft.org', 'stopfake.org', 'cjr.org', 'koco.com', 'bangordailynews.com', 'pluralist.com', 'minnpost.com', 'nytimes.com', 'newmatilda.com', 'bostonglobe.com', 'citizentruth.org', 'demos.org', 'populardemocracy.org', 'colombiareports.com', 'ifamericaknew.org', 'healthyway.com', 'attn.com', 'thebaffler.com', 'mprnews.org', 'theringer.com', 'thestar.com', 'worldaffairsjournal.org', 'theguardian.com', 'imeu.org', 'globaltimes.cn', 'citizen-times.com', 'sacbee.com', 'migrationpolicy.org', 'hollywoodreporter.com', 'mysanantonio.com', 'northjersey.com', 'yahoo.com', 'corporatepresidency.org', 'irinnews.org', 'hcn.org', 'backchannel.com', 'upr.org', 'fivethirtyeight.com', 'businessinsider.com', 'tcf.org', 'atlanticmedia.com', 'thehill.com', 'charlotteobserver.com', 'knightfoundation.org', 'medium.com', 'thevarsity.ca', 'santafenewmexican.com', 'oilandwaterdontmix.org', 'wired.com', 'pressdemocrat.com', 'pbs.org', 'canadians.org', 'pressherald.com', 'philly.com', 'ocweekly.com', 'thesaturdaypaper.com.au', 'lifehacker.com', 'theoslotimes.com', 'aol.com', 'npr.org', 'commonwealmagazine.org', 'ips.org', 'leftjustified.com', 'nationalobserver.com', 'interpretermag.com', 'adl.org', 'sentencingproject.org', 'bloomberg.com', 'hrw.org', 'investigaterussia.org', 'chicagoreporter.com', 'rollingstone.com', 'theintercept.com', 'nationalnewswatch.com', 'pri.org', 'oneindia.com', 'dailytarheel.com', 'theweek.com', 'uft.org', 'cleveland.com', 'councilforthenationalinterest.org', 'theage.com.au', 'theolympian.com', 'africanarguments.org', 'ourworldindata.org', 'magazine.atavist.com', 'newsdeeply.com', 'dutchreview.com', 'dw.com', 'stocksnewsdaily.com', 'deadline.com', 'aljazeera.com', 'mainebeacon.com', 'abovethelaw.com', 'aclu.org', 'forward.com', 'thestate.com', 'liveleak.com', 'providencejournal.com', 'mic.com', 'kuow.org', 'mtdemocrat.com', 'ecfr.eu', 'irishtimes.com', 'elpais.com', 'thetrace.org', 'commonwealthfund.org', 'newsone.com', 'france24.com', 'newsobserver.com', 'wallstreetonparade.com', 'aranews.net', 'mintpressnews.com', 'fairvote.org', 'thesunmagazine.org', 'eastbaytimes.com', 'independentaustralia.net', 'usatoday.com', 'calwatchdog.com', 'zeit.de', 'exposingtruth.com', 'latimes.com', 'cbc.ca', 'news.com.au', 'toinformistoinfluence.com', 'thenextweb.com', 'universitybusiness.com', 'kentucky.com', 'smh.com.au', 'texasmonthly.com', 'worldcrunch.com', 'buzzfeed.com', 'newmoderate.com', 'dailyhive.com', 'amny.com', 'heraldnet.com', 'haaretz.com', 'timesunion.com', 'jsonline.com', 'washingtonblade.com', 'itep.org', 'newsgru.com', 'sfchronicle.com', 'brookings.edu', 'alaraby.co.uk', 'axios.com', 'lohud.com', 'youthrights.org', 'independent.co.uk', 'egyptianstreets.com', 'stepfeed.com', 'harpers.org', 'americamagazine.org', 'vulture.com', 'seattlepi.com', 'patrioticmillionaires.org', 'newleftreview.org', 'scoopwhoop.com', 'fwweekly.com', 'nola.com', 'pennlive.com', 'mexiconewsdaily.com', 'ipolitics.ca', 'jpost.com', 'kfor.com', 'rightweb.irc-online.org', 'usnews.com', 'crosscut.com', 'washingtonpost.com', 'icrw.org', 'historynewsnetwork.org', 'thenevadaindependent.com', 'sandiegoreader.com', 'bjreview.com', 'techdirt.com', 'crisisgroup.org', 'techcrunch.com', 'religionnews.com', 'latintimes.com', 'stuff.co.nz', 'epi.org', 'montrealgazette.com', 'globalnews.ca', 'unicornriot.ninja', 'opposingviews.com', 'democracy21.org', 'grist.org', 'naacp.org', 'azdailysun.com', 'pulsegulfcoast.com', 'us.blastingnews.com', 'governing.com', 'edmontonjournal.com', 'highline.huffingtonpost.com', 'secondnexus.com', 'theverge.com', 'kansascity.com', 'mercurynews.com', 'aeon.co', 'apmreports.org', 'dcreport.org', 'cbpp.org', 'theodysseyonline.com', 'transequality.org', 'factbox.tv', 'timeline.com', 'mnn.com', 'splcenter.org', 'brennancenter.org'])\n",
    "right_center_urls = set(['newsheist.com', 'theobjectivestandard.com', 'washingtontimes.com', 'hpenews.com', 'gazette.com', 'cfr.org', 'al.com', 'richmond.com', 'pe.com', 'lexingtoninstitute.org', 'realcleardefense.com', 'policyed.org', 'theihs.org', 'newsrescue.com', 'thesmokinggun.com', 'financialpost.com', 'thegazette.com', 'hoover.org', 'cjnews.com', 'duluthnewstribune.com', 'manhattan-institute.org', 'cincinnati.com', 'studentnewsdaily.com', 'jamestown.org', 'columbiadailyherald.com', 'lbc.co.uk', 'breakingdefense.com', 'thefiscaltimes.com', 'militarytimes.com', 'lfpress.com', 'checkyourfact.com', 'desertsun.com', 'watchdog.org', 'nationalaffairs.com', 'taxpayer.com', 'heraldsun.com.au', 'thenewatlantis.com', 'nationalpost.com', 'postbulletin.com', 'cjonline.com', 'thereaganbattalion.com', 'dallasnews.com', 'post-gazette.com', 'jewishpress.com', 'christianitytoday.com', 'fortnightlyreview.co.uk', 'chicagotribune.com', '9news.com.au', 'realclearreligion.org', 'washingtonbabylon.com', 'srnnews.com', 'volkskrant.nl', 'lynx.media', 'thenational.ae', 'commdiginews.com', 'thebreakthrough.org', 'rstreet.org', 'algemeiner.com', 'honestreporting.com', 'circa.com', 'news-gazette.com', 'arkansasonline.com', 'theamericanconservative.com', 'tennessean.com', 'eppc.org', 'the-japan-news.com', 'savannahnow.com', 'tbo.com', 'americanfirearms.org', 'fpri.org', 'israelnationalnews.com', 'acsh.org', 'thelibertarianrepublic.com', 'valuewalk.com', 'manilatimes.net', 'realclearpolitics.com', 'rep-am.com', 'thechronicleherald.ca', 'deseretnews.com', 'spectator.co.uk', 'justfacts.com', 'heterodoxacademy.org', 'thetimes.co.uk', 'couriermail.com.au', 'ottawacitizen.com', 'guns.com', 'nation.com.pk', 'westmonster.com', 'antiwar.com', 'swarajyamag.com', 'sungazette.com', 'remingtonresearchgroup.com', 'americanactionforum.org', 'tulsaworld.com', 'theaustralian.com.au', 'thehindubusinessline.com', 'straitstimes.com', 'peninsuladailynews.com', 'japantoday.com', 'foreignpolicyi.org', 'deccanchronicle.com', 'statesmanjournal.com', 'fbherald.com', 'independent.ie', 'standard.co.uk', 'independent.org', 'nypost.com', '71republic.com', 'downsizinggovernment.org', 'sofrep.com', 'cato.org', 'reviewjournal.com', 'gulfnews.com', 'orlandosentinel.com', 'thetimesherald.com', 'forbes.com', 'dispatch.com', 'spokesman.com', 'oklahoman.com', 'freedomhouse.org', 'the-american-interest.com', 'thestarphoenix.com', 'cei.org', 'afpc.org', 'sbsun.com', 'israelhayom.com', 'itv.com', 'mises.org', 'tharawat-magazine.com', 'thequint.com', 'rasmussenreports.com', 'justfactsdaily.com', 'telegraph.co.uk', 'billingsgazette.com', 'azcentral.com', 'mackinac.org', 'tass.com', 'learnliberty.org', 'taxfoundation.org', 'omaha.com', 'oilprice.com', 'jewishbreakingnews.com', 'jns.org', 'capoliticalreview.com', 'campaignforliberty.org', 'reason.com', 'triblive.com', 'punchingbagpost.com', 'franklincenterhq.org', 'sputniknews.com', 'inhomelandsecurity.com', 'realclearinvestigations.com', 'tnonline.com', 'insidesources.com', 'oaoa.com', 'ocregister.com', 'group30.org', 'koreaherald.com', 'realclearpolicy.com', 'arabnews.com', 'fortune.com', 'russia-insider.com', 'theepochtimes.com', 'daltondailycitizen.com', 'dailynews.com', 'wsj.com', 'nationalinterest.org', 'fraserinstitute.org', 'sun-sentinel.com', 'calgarysun.com', 'fee.org', 'c4ss.org', 'jacksonville.com', 'thewest.com.au', 'bostonherald.com', 'nos.nl', 'pacificresearch.org', 'edmontonsun.com', 'theglobeandmail.com', 'newsline.com', 'theecjournal.com', 'timeslive.co.za', 'mynorthwest.com', 'kutv.com', 'detroitnews.com', 'ntd.tv', 'journalnow.com', 'humanprogress.org', 'tallahassee.com', 'oregonlive.com', 'mlive.com', 'star-telegram.com', 'international.thenewslens.com', 'toledoblade.com', 'chronicle.augusta.com', 'dailyherald.com', 'valleynewslive.com', 'libertyviral.com', 'faithfamilyamerica.com', 'wikileaks.org', 'dailypress.com', 'armstrongeconomics.com', 'kansas.com', 'thejacknews.com', 'strategic-culture.org', 'quillette.com', 'bipartisanpolicy.org', 'americasquarterly.org'])\n",
    "right_far_urls = set(['twitchy.com', 'hermancain.com', 'politifeed.net', 'capitalresearch.org', 'politicsnote.com', 'powerlineblog.com', 'clear-politics.com', 'thecitizenpress.com', 'redflagnews.com', 'lifenews.com', 'bluelivesmatter.blue', 'mrc.org', 'commentarymagazine.com', 'nccivitas.org', 'gopusa.com', 'controversialtimes.com', 'thesun.co.uk', 'tennesseestar.com', 'unbiasedamerica.com', 'thenewamerican.com', 'aa.com.tr', 'redalertpolitics.com', 'cowgernation.com', 'opslens.com', 'therightscoop.com', 'hoover.org', 'onenewsnow.com', 'teapartytribune.com', 'therealstrategy.com', 'faithwire.com', 'ronpaullibertyreport.com', 'theblaze.com', 'westernjournal.com', 'crimeresearch.org', 'christiannewsalerts.com', 'beinglibertarian.com', 'unitynewsnetwork.co.uk', 'fedsoc.org', 'vesselnews.io', 'unionleader.com', 'notliberal.com', 'adelaidenow.com.au', 'erlc.com', 'alphanewsmn.com', 'factsandlogic.org', 'campaignlifecoalition.com', 'drudgereport.com', 'firstinfreedomdaily.com', 'libertyhangout.org', 'conservativedailynews.com', 'offgridsurvival.com', 'ibleedredwhiteblue.com', 'ac2news.com', 'whatfinger.com', 'thedailyliberator.com', 'dcstatesman.com', 'acculturated.com', 'politichicks.com', 'order-order.com', 'freedomworks.org', 'theblacksphere.net', 'dailysignal.com', 'express.co.uk', 'ronpaulinstitute.org', 'americanthinker.com', 'mediaequalizer.com', 'jewishworldreview.com', 'gop.com', 'nationalreview.com', 'ipatriot.com', 'newrevolutionnow.org', 'kansaspolicy.org', 'libertynation.com', 'economicpolicyjournal.com', 'renewedright.com', 'thefederalist.com', 'lyincomey.com', 'freerepublic.com', 'freewestmedia.com', 'altnewsmedia.net', 'conservativetoday.com', 'sbgi.net', 'chicksontheright.com', 'debatepost.com', 'restoreamericanglory.com', 'farleftwatch.com', 'ussanews.com', 'futureinamerica.com', 'colddeadhands.us', 'unwatch.org', 'en.mehrnews.com', 'illinoispolicy.org', 'uspoliticsinfo.com', 'americanmilitarynews.com', 'defenddemocracy.org', 'home.nra.org', 'projectveritas.com', 'americanewshub.com', 'dangerous.com', 'conservativewoman.co.uk', 'theconservativenut.gop', 'theamericancause.org', 'biggovernment.news', 'whitehouse.gov', 'tasnimnews.com', 'observer.com', 'humanevents.com', 'bigleaguepolitics.com', 'publicinterestlegal.org', 'nextnewsnetwork.com', 'ammoland.com', 'spectator.org', 'patriotpost.us', 'numbersusa.com', 'ijr.com', 'legalinsurrection.com', 'loneconservative.com', 'therebel.media', 'quadrant.org.au', 'wnd.com', 'dailytelegraph.com.au', 'brexitcentral.com', 'newbostonpost.com', 'regated.com', 'thedailydefender.com', 'townhall.com', 'dcwhispers.com', 'silenceisconsent.net', 'worldtribune.com', 'conservativebase.com', 'newlypress.com', 'foxnews.com', 'iwf.org', 'rd.com', 'westernfreepress.com', 'ca-political.com', 'citizensunited.org', 'keepandbear.com', 'judicialnetwork.com', 'youngcons.com', 'freebeacon.com', 'jewishpolicycenter.org', 'citizenfreepress.com', 'lifesitenews.com', 'aclj.org', 'academia.org', 'conservativereview.com', 'sonorannews.com', 'teapartypatriots.org', 'beliefnet.com', 'nationalcenter.org', 'firstthings.com', 'dailymail.co.uk', 'tpusa.com', '2ndvote.com', 'awm.com', 'newsbusters.org', 'dailycaller.com', 'weaselzippers.us', 'heritage.org', 'americandailynews.org', 'mercatornet.com', 'ontarioproud.ca', 'federalistpress.com', 'ntknetwork.com', 'acting-man.com', 'conservativeshere.com', 'politi.site', 'weeklystandard.com', 'ricochet.com', 'mediacircus.com', 'libertyheadlines.com', 'g-a-i.org', 'investors.com', 'hillarydaily.com', 'imprimis.hillsdale.edu', 'bearingarms.com', 'chroniclesmagazine.org', 'guerrilla.news', 'knoxreport.com', 'westernjournalism.com', 'louderwithcrowder.com', 'allenbwest.com', 'tehrantimes.com', 'standpointmag.co.uk', 'oann.com', 'getreligion.org', 'deplorablesreport.com', 'energycitizens.org', 'crisismagazine.com', 'fightpp.org', 'tribunist.com', 'themilreview.com', 'alec.org', 'churchmilitant.com', 'hudson.org', 'ifstudies.org', 'gatestoneinstitute.org', 'aei.org', 'campusreform.org', 'patriotretort.com', 'populistwire.com', 'world.wng.org', 'amgreatness.com', 'city-journal.org', 'washingtonexaminer.com', 'intellectualtakeout.org', 'thehayride.com', 'arizonadailyindependent.com', 'therantidote.com', 'theresurgent.com', 'americanlibertyreport.com', 'dailysurge.com', 'disobedientmedia.com', 'libertytalk.fm', 'theconservativetreehouse.com', 'conservativeoutfitters.com', 'americanconsequences.com', 'libertynews.com', 'bizpacreview.com', 'thetruthaboutguns.com', 'newsmax.com', 'torontosun.com', 'lifezette.com', 'heartland.org', 'secureamericanow.org', 'thepostemail.com', 'ff.org', 'cscmediagroupus.com', 'thecollegefix.com', 'carepublican.com', 'heatst.com', 'trtworld.com', 'conservativesus.party', 'independentsentinel.com', 'vivaliberty.com', 'aim.org', 'familysecuritymatters.org', 'yellowhammernews.com', 'lifeandabout.com', 'offendedamerica.com', 'sentinelksmo.org', 'savejersey.com', 'resistancemedia.org', 'christianpost.com', 'thepostmillennial.com', 'conservativeinstitute.org', 'thepoliticalinsider.com', 'yaf.org', 'dailysabah.com', 'pjmedia.com', 'spiked-online.com', 'freedomcrossroads.com', 'dailywire.com', 'patriotnewsdaily.com', 'usapoliticstoday.com', 'conservativehq.com'])\n",
    "\n",
    "left_urls = left_far_urls | left_center_urls\n",
    "right_urls = right_far_urls | right_center_urls\n",
    "\n",
    "print \"Num Far Left\", len(left_far_urls)\n",
    "print \"Num Left Center\", len(left_center_urls)\n",
    "print \"Num Far Right\", len(right_far_urls)\n",
    "print \"Num Right Center\", len(right_center_urls)\n",
    "print \"=\" * 20\n",
    "print \"Num Left\", len(left_urls)\n",
    "print \"Num Right\", len(right_urls)"
   ]
  },
  {
   "cell_type": "code",
   "execution_count": 112,
   "metadata": {
    "collapsed": false
   },
   "outputs": [],
   "source": [
    "import gensim\n",
    "depth_embedding = gensim.models.Word2Vec.load_word2vec_format('graph_p01q10.emb', binary=False)\n",
    "breadth_embedding = gensim.models.Word2Vec.load_word2vec_format('graph_p10q01.emb', binary=False)"
   ]
  },
  {
   "cell_type": "code",
   "execution_count": 57,
   "metadata": {
    "collapsed": false
   },
   "outputs": [
    {
     "data": {
      "text/plain": [
       "33094"
      ]
     },
     "execution_count": 57,
     "metadata": {},
     "output_type": "execute_result"
    }
   ],
   "source": [
    "domains['twitchy.com']"
   ]
  },
  {
   "cell_type": "markdown",
   "metadata": {},
   "source": [
    "# Create Feature Vectors"
   ]
  },
  {
   "cell_type": "code",
   "execution_count": 59,
   "metadata": {
    "collapsed": false
   },
   "outputs": [
    {
     "name": "stdout",
     "output_type": "stream",
     "text": [
      "linkedin.com 0.0143242908405\n",
      "dx.doi.org 0.00810336976483\n",
      "forbes.com 0.0046803604255\n",
      "bit.ly 0.00375990449147\n",
      "change.org 0.00334012266881\n",
      "sciencedirect.com 0.00250448802421\n",
      "itunes.apple.com 0.00236098620359\n",
      "nytimes.com 0.00224409975992\n",
      "dailymotion.com 0.00218511054107\n",
      "en.wikipedia.org 0.00215115675958\n"
     ]
    }
   ],
   "source": [
    "PRankH = snap.TIntFltH()\n",
    "snap.GetPageRank(dirLinkGraph, PRankH)\n",
    "PRankH.SortByDat()\n",
    "prank_keys = snap.TIntV()\n",
    "PRankH.GetKeyV(prank_keys)\n",
    "last_index = prank_keys.LastValN()\n",
    "\n",
    "for i in range(10): \n",
    "    key = prank_keys[last_index - i]\n",
    "    print node_to_domain[key], PRankH[key]"
   ]
  },
  {
   "cell_type": "code",
   "execution_count": 60,
   "metadata": {
    "collapsed": false
   },
   "outputs": [
    {
     "name": "stdout",
     "output_type": "stream",
     "text": [
      "linkedin.com 0.0488291918408\n",
      "dx.doi.org 0.00886865955436\n",
      "forbes.com 0.0582526894455\n",
      "bit.ly 0.0702367326944\n",
      "change.org 0.0206494726795\n",
      "sciencedirect.com 0.0230831151885\n",
      "itunes.apple.com 0.0621929521621\n",
      "nytimes.com 0.177323811532\n",
      "dailymotion.com 0.00865616812125\n",
      "en.wikipedia.org 0.0938286822044\n"
     ]
    }
   ],
   "source": [
    "EigenVC = snap.TIntFltH()\n",
    "snap.GetEigenVectorCentr(undirLinkGraph, EigenVC)\n",
    "EigenVC.SortByDat()\n",
    "eigen_keys = snap.TIntV()\n",
    "PRankH.GetKeyV(eigen_keys)\n",
    "last_index = eigen_keys.LastValN()\n",
    "\n",
    "for i in range(10): \n",
    "    key = eigen_keys[last_index - i]\n",
    "    print node_to_domain[key], EigenVC[key]"
   ]
  },
  {
   "cell_type": "code",
   "execution_count": 80,
   "metadata": {
    "collapsed": true
   },
   "outputs": [],
   "source": [
    "import math \n",
    "\n",
    "def commonNeighbors(node_id1, node_id2):\n",
    "    Nbrs = snap.TIntV()\n",
    "    snap.GetCmnNbrs(LinkGraph, node_id1, node_id2, Nbrs)\n",
    "\n",
    "    common_neighbors = Nbrs.Len()\n",
    "    \n",
    "    NodeVec = snap.TIntV()\n",
    "    snap.GetNodesAtHop(LinkGraph, node_id1, 1, NodeVec, False)\n",
    "    node1_neighbors = set()\n",
    "    for item in NodeVec:\n",
    "        node1_neighbors.add(item)\n",
    "    \n",
    "    NodeVec = snap.TIntV()\n",
    "    snap.GetNodesAtHop(LinkGraph, node_id2, 1, NodeVec, False)\n",
    "    node2_neighbors = set()\n",
    "    for item in NodeVec:\n",
    "        node2_neighbors.add(item)\n",
    "    \n",
    "    union = node1_neighbors | node2_neighbors\n",
    "    jaccard = float(common_neighbors)/len(union)\n",
    "    \n",
    "    pref_attach = len(node1_neighbors) * len(node2_neighbors)\n",
    "    \n",
    "    adamic = 0\n",
    "    for node in union: \n",
    "        NodeVec = snap.TIntV()\n",
    "        snap.GetNodesAtHop(LinkGraph, node, 1, NodeVec, False)\n",
    "        length = NodeVec.Len()\n",
    "        if length == 1:\n",
    "            continue\n",
    "        adamic += 1/float(math.log(length)) \n",
    "    \n",
    "    return [common_neighbors, jaccard, pref_attach, adamic]"
   ]
  },
  {
   "cell_type": "code",
   "execution_count": 413,
   "metadata": {
    "collapsed": false
   },
   "outputs": [],
   "source": [
    "def pruneArticleList(articles):\n",
    "    item = []\n",
    "    for article in articles: \n",
    "        if article not in prunedDomainToNodeID:\n",
    "            continue \n",
    "        item.append(article)\n",
    "    return item\n",
    "    \n",
    "left = pruneArticleList(left_urls)\n",
    "right = pruneArticleList(right_urls)\n",
    "\n",
    "import random \n",
    "\n",
    "random.seed(311)\n",
    "\n",
    "random.shuffle(left)\n",
    "random.shuffle(right)\n",
    "\n",
    "idx1 = int(len(left) * 0.7)\n",
    "idx2 = int(len(left) * 0.8)\n",
    "left_train = left[:idx1]\n",
    "left_test = left[idx1:idx2]\n",
    "left_val = left[idx2:]\n",
    "\n",
    "idx1 = int(len(right) * 0.7)\n",
    "idx2 = int(len(right) * 0.8)\n",
    "right_train = right[:idx1]\n",
    "right_val = right[idx1:idx2]\n",
    "right_test= right[idx2:]"
   ]
  },
  {
   "cell_type": "code",
   "execution_count": 414,
   "metadata": {
    "collapsed": false
   },
   "outputs": [
    {
     "name": "stdout",
     "output_type": "stream",
     "text": [
      "267 38\n",
      "136 39\n"
     ]
    }
   ],
   "source": [
    "print len(left_train), len(left_test)\n",
    "print len(right_train), len(right_test)"
   ]
  },
  {
   "cell_type": "code",
   "execution_count": 415,
   "metadata": {
    "collapsed": false
   },
   "outputs": [
    {
     "data": {
      "text/plain": [
       "'eastbaytimes.com'"
      ]
     },
     "execution_count": 415,
     "metadata": {},
     "output_type": "execute_result"
    }
   ],
   "source": [
    "left[0]"
   ]
  },
  {
   "cell_type": "code",
   "execution_count": 416,
   "metadata": {
    "collapsed": false
   },
   "outputs": [],
   "source": [
    "import pickle\n",
    "\n",
    "with open('left_train', 'wb') as fp:\n",
    "    pickle.dump(left_train, fp)\n",
    "with open('right_train', 'wb') as fp: \n",
    "    pickle.dump(right_train, fp)\n",
    "with open('left_test', 'wb') as fp:\n",
    "    pickle.dump(left_test, fp)\n",
    "with open('right_test', 'wb') as fp:\n",
    "    pickle.dump(right_test, fp)"
   ]
  },
  {
   "cell_type": "code",
   "execution_count": 417,
   "metadata": {
    "collapsed": false
   },
   "outputs": [],
   "source": [
    "# Oversample right_train to be equal to left_train\n",
    "original_right_train = list(left_train)\n",
    "\n",
    "for i in range(len(left_train) - len(right_train)):\n",
    "    idx = random.randint(0, len(original_right_train) - 1)\n",
    "    right_train.append(original_right_train[idx])"
   ]
  },
  {
   "cell_type": "code",
   "execution_count": 468,
   "metadata": {
    "collapsed": false
   },
   "outputs": [],
   "source": [
    "fox_news_id =  prunedDomainToNodeID[\"foxnews.com\"]\n",
    "ny_times_id = prunedDomainToNodeID[\"nytimes.com\"]\n",
    "\n",
    "NIdCCfH = snap.TIntFltH()\n",
    "snap.GetNodeClustCf(LinkGraph, NIdCCfH)\n",
    "\n",
    "def createFeatureVec(article_set):\n",
    "    mapping = []\n",
    "    for article in article_set: \n",
    "        node_id = prunedDomainToNodeID[article]\n",
    "        node = dirLinkGraph.GetNI(node_id)\n",
    "        node_degree = node.GetDeg() \n",
    "        clustering_coefficient = NIdCCfH[node_id]\n",
    "        Length1 = snap.GetShortPath(dirLinkGraph, node_id, ny_times_id, True)\n",
    "        Length2 = snap.GetShortPath(dirLinkGraph, node_id, fox_news_id, True)\n",
    "        Length3 = snap.GetShortPath(dirLinkGraph, node_id, fox_news_id)\n",
    "\n",
    "        NYTimesNeighbors = commonNeighbors(node_id, ny_times_id)\n",
    "        FoxNewsNeighbors = commonNeighbors(node_id, fox_news_id)\n",
    "        feature_vec = [node_degree, clustering_coefficient, Length1, Length2, Length3] + NYTimesNeighbors + FoxNewsNeighbors\n",
    "        mapping.append(feature_vec)\n",
    "    return mapping\n",
    "\n",
    "hand_left_train_features = createFeatureVec(left_train)\n",
    "hand_left_test_features = createFeatureVec(left_test)\n",
    "hand_right_train_features = createFeatureVec(right_train)\n",
    "hand_right_test_features = createFeatureVec(right_test)"
   ]
  },
  {
   "cell_type": "code",
   "execution_count": 469,
   "metadata": {
    "collapsed": false
   },
   "outputs": [],
   "source": [
    "import numpy as np\n",
    "\n",
    "def createEvalSet(right, left): \n",
    "    left_numpy =np.array([np.array(xi) for xi in left])\n",
    "    right_numpy = np.array([np.array(xi) for xi in right])\n",
    "    total_array = np.vstack([left_numpy, right_numpy])\n",
    "    labels = [0] * len(left) + [1] * len(right)\n",
    "    \n",
    "    return total_array, labels\n",
    "hand_train_input, hand_train_output = createEvalSet(hand_right_train_features, hand_left_train_features)\n",
    "hand_test_input, hand_test_output = createEvalSet(hand_right_test_features, hand_left_test_features)"
   ]
  },
  {
   "cell_type": "code",
   "execution_count": 470,
   "metadata": {
    "collapsed": false
   },
   "outputs": [
    {
     "name": "stdout",
     "output_type": "stream",
     "text": [
      "[0]\tvalidation_0-logloss:0.689321\tvalidation_1-logloss:0.690004\n",
      "[1]\tvalidation_0-logloss:0.685802\tvalidation_1-logloss:0.688119\n",
      "[2]\tvalidation_0-logloss:0.682575\tvalidation_1-logloss:0.68448\n",
      "[3]\tvalidation_0-logloss:0.679706\tvalidation_1-logloss:0.683375\n",
      "[4]\tvalidation_0-logloss:0.677307\tvalidation_1-logloss:0.682316\n",
      "[5]\tvalidation_0-logloss:0.673287\tvalidation_1-logloss:0.682714\n",
      "[6]\tvalidation_0-logloss:0.669411\tvalidation_1-logloss:0.682011\n",
      "[7]\tvalidation_0-logloss:0.664389\tvalidation_1-logloss:0.67895\n",
      "[8]\tvalidation_0-logloss:0.661482\tvalidation_1-logloss:0.679472\n",
      "[9]\tvalidation_0-logloss:0.658773\tvalidation_1-logloss:0.681159\n",
      "[10]\tvalidation_0-logloss:0.656799\tvalidation_1-logloss:0.678681\n",
      "[11]\tvalidation_0-logloss:0.654485\tvalidation_1-logloss:0.680539\n",
      "[12]\tvalidation_0-logloss:0.651113\tvalidation_1-logloss:0.682862\n",
      "[13]\tvalidation_0-logloss:0.649269\tvalidation_1-logloss:0.682043\n",
      "[14]\tvalidation_0-logloss:0.646301\tvalidation_1-logloss:0.683385\n",
      "[15]\tvalidation_0-logloss:0.645365\tvalidation_1-logloss:0.682858\n",
      "[16]\tvalidation_0-logloss:0.643727\tvalidation_1-logloss:0.68157\n",
      "[17]\tvalidation_0-logloss:0.64216\tvalidation_1-logloss:0.681059\n",
      "[18]\tvalidation_0-logloss:0.639497\tvalidation_1-logloss:0.684191\n",
      "[19]\tvalidation_0-logloss:0.637894\tvalidation_1-logloss:0.682974\n",
      "[20]\tvalidation_0-logloss:0.636878\tvalidation_1-logloss:0.681913\n",
      "[21]\tvalidation_0-logloss:0.635978\tvalidation_1-logloss:0.680963\n",
      "[22]\tvalidation_0-logloss:0.634554\tvalidation_1-logloss:0.680323\n",
      "[23]\tvalidation_0-logloss:0.632048\tvalidation_1-logloss:0.683263\n",
      "[24]\tvalidation_0-logloss:0.63124\tvalidation_1-logloss:0.682157\n",
      "[25]\tvalidation_0-logloss:0.629161\tvalidation_1-logloss:0.682933\n",
      "[26]\tvalidation_0-logloss:0.627939\tvalidation_1-logloss:0.682482\n",
      "[27]\tvalidation_0-logloss:0.627031\tvalidation_1-logloss:0.681002\n",
      "[28]\tvalidation_0-logloss:0.624974\tvalidation_1-logloss:0.683789\n",
      "[29]\tvalidation_0-logloss:0.623302\tvalidation_1-logloss:0.683091\n",
      "[30]\tvalidation_0-logloss:0.621951\tvalidation_1-logloss:0.682997\n",
      "[31]\tvalidation_0-logloss:0.620822\tvalidation_1-logloss:0.682205\n",
      "[32]\tvalidation_0-logloss:0.618909\tvalidation_1-logloss:0.681618\n",
      "[33]\tvalidation_0-logloss:0.618237\tvalidation_1-logloss:0.680634\n",
      "[34]\tvalidation_0-logloss:0.616423\tvalidation_1-logloss:0.682923\n",
      "[35]\tvalidation_0-logloss:0.61482\tvalidation_1-logloss:0.684109\n",
      "[36]\tvalidation_0-logloss:0.613668\tvalidation_1-logloss:0.682844\n",
      "[37]\tvalidation_0-logloss:0.61308\tvalidation_1-logloss:0.682177\n",
      "[38]\tvalidation_0-logloss:0.611512\tvalidation_1-logloss:0.681803\n",
      "[39]\tvalidation_0-logloss:0.610988\tvalidation_1-logloss:0.680833\n",
      "[40]\tvalidation_0-logloss:0.610014\tvalidation_1-logloss:0.679757\n",
      "[41]\tvalidation_0-logloss:0.608602\tvalidation_1-logloss:0.678752\n",
      "[42]\tvalidation_0-logloss:0.607315\tvalidation_1-logloss:0.677526\n",
      "[43]\tvalidation_0-logloss:0.606458\tvalidation_1-logloss:0.677132\n",
      "[44]\tvalidation_0-logloss:0.605266\tvalidation_1-logloss:0.677514\n",
      "[45]\tvalidation_0-logloss:0.602831\tvalidation_1-logloss:0.677756\n",
      "[46]\tvalidation_0-logloss:0.602029\tvalidation_1-logloss:0.677513\n",
      "[47]\tvalidation_0-logloss:0.600956\tvalidation_1-logloss:0.677564\n",
      "[48]\tvalidation_0-logloss:0.598981\tvalidation_1-logloss:0.676841\n",
      "[49]\tvalidation_0-logloss:0.597949\tvalidation_1-logloss:0.675725\n",
      "[50]\tvalidation_0-logloss:0.597035\tvalidation_1-logloss:0.675271\n",
      "[51]\tvalidation_0-logloss:0.595936\tvalidation_1-logloss:0.673779\n",
      "[52]\tvalidation_0-logloss:0.594531\tvalidation_1-logloss:0.673339\n",
      "[53]\tvalidation_0-logloss:0.593811\tvalidation_1-logloss:0.673063\n",
      "[54]\tvalidation_0-logloss:0.592548\tvalidation_1-logloss:0.673506\n",
      "[55]\tvalidation_0-logloss:0.591578\tvalidation_1-logloss:0.672164\n",
      "[56]\tvalidation_0-logloss:0.590847\tvalidation_1-logloss:0.671346\n",
      "[57]\tvalidation_0-logloss:0.590184\tvalidation_1-logloss:0.670302\n",
      "[58]\tvalidation_0-logloss:0.588209\tvalidation_1-logloss:0.670889\n",
      "[59]\tvalidation_0-logloss:0.586389\tvalidation_1-logloss:0.671824\n",
      "[60]\tvalidation_0-logloss:0.585458\tvalidation_1-logloss:0.672367\n",
      "[61]\tvalidation_0-logloss:0.584376\tvalidation_1-logloss:0.672861\n",
      "[62]\tvalidation_0-logloss:0.582519\tvalidation_1-logloss:0.673362\n",
      "[63]\tvalidation_0-logloss:0.581579\tvalidation_1-logloss:0.673128\n",
      "[64]\tvalidation_0-logloss:0.580999\tvalidation_1-logloss:0.673697\n",
      "[65]\tvalidation_0-logloss:0.580089\tvalidation_1-logloss:0.674614\n",
      "[66]\tvalidation_0-logloss:0.578206\tvalidation_1-logloss:0.679335\n",
      "[67]\tvalidation_0-logloss:0.576392\tvalidation_1-logloss:0.678041\n",
      "[68]\tvalidation_0-logloss:0.574923\tvalidation_1-logloss:0.678345\n",
      "[69]\tvalidation_0-logloss:0.574306\tvalidation_1-logloss:0.678325\n",
      "[70]\tvalidation_0-logloss:0.573943\tvalidation_1-logloss:0.677739\n",
      "[71]\tvalidation_0-logloss:0.572771\tvalidation_1-logloss:0.677233\n",
      "[72]\tvalidation_0-logloss:0.571795\tvalidation_1-logloss:0.676273\n",
      "[73]\tvalidation_0-logloss:0.571174\tvalidation_1-logloss:0.676585\n",
      "[74]\tvalidation_0-logloss:0.570336\tvalidation_1-logloss:0.676111\n",
      "[75]\tvalidation_0-logloss:0.56965\tvalidation_1-logloss:0.675889\n",
      "[76]\tvalidation_0-logloss:0.56891\tvalidation_1-logloss:0.674831\n",
      "[77]\tvalidation_0-logloss:0.568365\tvalidation_1-logloss:0.674593\n",
      "[78]\tvalidation_0-logloss:0.56761\tvalidation_1-logloss:0.675459\n",
      "[79]\tvalidation_0-logloss:0.565984\tvalidation_1-logloss:0.676288\n",
      "[80]\tvalidation_0-logloss:0.56448\tvalidation_1-logloss:0.675669\n",
      "[81]\tvalidation_0-logloss:0.56395\tvalidation_1-logloss:0.675786\n",
      "[82]\tvalidation_0-logloss:0.563127\tvalidation_1-logloss:0.674332\n",
      "[83]\tvalidation_0-logloss:0.562263\tvalidation_1-logloss:0.673617\n",
      "[84]\tvalidation_0-logloss:0.560427\tvalidation_1-logloss:0.676428\n",
      "[85]\tvalidation_0-logloss:0.559756\tvalidation_1-logloss:0.676976\n",
      "[86]\tvalidation_0-logloss:0.558638\tvalidation_1-logloss:0.678919\n",
      "[87]\tvalidation_0-logloss:0.558048\tvalidation_1-logloss:0.678083\n",
      "[88]\tvalidation_0-logloss:0.557305\tvalidation_1-logloss:0.677085\n",
      "[89]\tvalidation_0-logloss:0.556119\tvalidation_1-logloss:0.675957\n",
      "[90]\tvalidation_0-logloss:0.555641\tvalidation_1-logloss:0.676347\n",
      "[91]\tvalidation_0-logloss:0.554888\tvalidation_1-logloss:0.67746\n",
      "[92]\tvalidation_0-logloss:0.553924\tvalidation_1-logloss:0.679634\n",
      "[93]\tvalidation_0-logloss:0.553149\tvalidation_1-logloss:0.678888\n",
      "[94]\tvalidation_0-logloss:0.551529\tvalidation_1-logloss:0.680905\n",
      "[95]\tvalidation_0-logloss:0.550493\tvalidation_1-logloss:0.682023\n",
      "[96]\tvalidation_0-logloss:0.549788\tvalidation_1-logloss:0.680947\n",
      "[97]\tvalidation_0-logloss:0.54927\tvalidation_1-logloss:0.680532\n",
      "[98]\tvalidation_0-logloss:0.548374\tvalidation_1-logloss:0.679908\n",
      "[99]\tvalidation_0-logloss:0.547828\tvalidation_1-logloss:0.679534\n"
     ]
    }
   ],
   "source": [
    "from xgboost import XGBClassifier \n",
    "hand_clf = XGBClassifier(n_estimators=100) \n",
    "\n",
    "hand_full = hand_clf.fit(hand_train_input, hand_train_output,\n",
    "        eval_set=[(hand_train_input, hand_train_output), (hand_test_input, hand_test_output)],\n",
    "        eval_metric='logloss',\n",
    "        verbose=True)"
   ]
  },
  {
   "cell_type": "code",
   "execution_count": 621,
   "metadata": {
    "collapsed": false
   },
   "outputs": [
    {
     "data": {
      "image/png": "[encoded data removed]",
      "text/plain": [
       "<matplotlib.figure.Figure at 0x136904a90>"
      ]
     },
     "metadata": {},
     "output_type": "display_data"
    }
   ],
   "source": [
    "import matplotlib.pyplot as plt\n",
    "\n",
    "hand_results_full = hand_full.evals_result()\n",
    "\n",
    "plt.plot(range(len(hand_results_full['validation_0']['logloss'])), hand_results_full['validation_0']['logloss'], label='Train')\n",
    "plt.plot(range(len(hand_results_full['validation_1']['logloss'])), hand_results_full['validation_1']['logloss'], label='Test')\n",
    "\n",
    "plt.xlabel('Iteration')\n",
    "plt.ylabel('Log Loss')\n",
    "plt.title('Log Loss for Hand Features Models')\n",
    "plt.legend()\n",
    "plt.savefig('logloss_hand.png')"
   ]
  },
  {
   "cell_type": "code",
   "execution_count": 537,
   "metadata": {
    "collapsed": false
   },
   "outputs": [
    {
     "name": "stdout",
     "output_type": "stream",
     "text": [
      "534 534\n",
      "Train f1:  0.743925233645\n",
      "Train AUC:  0.84456928839\n",
      "Train Accuracy:  0.743445692884\n",
      "Test f1:  0.545454545455\n",
      "Test AUC:  0.546558704453\n",
      "Test Accuracy:  0.545454545455\n"
     ]
    }
   ],
   "source": [
    "from sklearn.metrics import f1_score, roc_auc_score, accuracy_score\n",
    "\n",
    "Y_pred = hand_clf.predict(hand_train_input) #prediksi data cross validation menggunakan model tadi\n",
    "Y_pred_margin = hand_clf.predict(hand_train_input, output_margin=\"True\")\n",
    "print len(Y_pred_margin), len(hand_train_output)\n",
    "\n",
    "train_f1score = f1_score(hand_train_output, Y_pred)\n",
    "train_rocscore = roc_auc_score(hand_train_output, Y_pred_margin)\n",
    "train_accuracy_score = accuracy_score(hand_train_output, Y_pred)\n",
    "\n",
    "Y_pred_margin = hand_clf.predict(hand_test_input)\n",
    "Y_pred = hand_clf.predict(hand_test_input) #prediksi data cross validation menggunakan model tadi\n",
    "test_f1score = f1_score(hand_test_output, Y_pred, average=\"micro\")\n",
    "test_rocscore = roc_auc_score(hand_test_output, Y_pred_margin)\n",
    "test_accuracy_score = accuracy_score(hand_test_output, Y_pred)\n",
    "\n",
    "print \"Train f1: \", train_f1score\n",
    "print \"Train AUC: \", train_rocscore\n",
    "print \"Train Accuracy: \", train_accuracy_score\n",
    "\n",
    "print \"Test f1: \", test_f1score\n",
    "print \"Test AUC: \", test_rocscore\n",
    "print \"Test Accuracy: \", test_accuracy_score\n",
    "\n"
   ]
  },
  {
   "cell_type": "code",
   "execution_count": 524,
   "metadata": {
    "collapsed": false
   },
   "outputs": [
    {
     "name": "stdout",
     "output_type": "stream",
     "text": [
      "Left Accuracy 0.741573033708\n",
      "0.741573033708\n",
      "0.74531835206\n",
      "Right Accuracy 0.74531835206\n"
     ]
    }
   ],
   "source": [
    "Y_pred = hand_clf.predict(hand_left_train_features) #prediksi data cross validation menggunakan model tadi\n",
    "left_accuracy = accuracy_score(Y_pred, len(Y_pred) * [0])\n",
    "print \"Left Accuracy\", left_accuracy \n",
    "\n",
    "Y_pred = hand_clf.predict(hand_right_train_features) #prediksi data cross validation menggunakan model tadi\n",
    "right_accuracy = accuracy_score(Y_pred, len(Y_pred) * [1])\n",
    "print \"Right Accuracy\", right_accuracy \n"
   ]
  },
  {
   "cell_type": "code",
   "execution_count": 476,
   "metadata": {
    "collapsed": false,
    "scrolled": true
   },
   "outputs": [
    {
     "name": "stdout",
     "output_type": "stream",
     "text": [
      "Left Accuracy 0.631578947368\n",
      "Right Accuracy 0.461538461538\n"
     ]
    }
   ],
   "source": [
    "Y_pred = hand_clf.predict(hand_left_test_features) #prediksi data cross validation menggunakan model tadi\n",
    "left_accuracy = accuracy_score(Y_pred, len(Y_pred) * [0])\n",
    "print \"Left Accuracy\", left_accuracy \n",
    "\n",
    "Y_pred = hand_clf.predict(hand_right_test_features) #prediksi data cross validation menggunakan model tadi\n",
    "right_accuracy = accuracy_score(Y_pred, len(Y_pred) * [1])\n",
    "print \"Right Accuracy\", right_accuracy \n",
    "\n"
   ]
  },
  {
   "cell_type": "markdown",
   "metadata": {},
   "source": [
    "# Node2Vec Embeddings"
   ]
  },
  {
   "cell_type": "code",
   "execution_count": 477,
   "metadata": {
    "collapsed": true
   },
   "outputs": [],
   "source": [
    "def urlToEmbedding(url, embedding):\n",
    "    node_id = prunedDomainToNodeID[url]\n",
    "    if embedding == \"depth\":\n",
    "        return depth_embedding[str(node_id)]\n",
    "    else:\n",
    "        return breadth_embedding[str(node_id)]\n",
    "\n",
    "depth_left_train_features = [urlToEmbedding(url, \"depth\") for url in left_train]\n",
    "depth_left_test_features = [urlToEmbedding(url, \"depth\") for url in left_test]\n",
    "depth_right_train_features = [urlToEmbedding(url, \"depth\") for url in right_train]\n",
    "depth_right_test_features = [urlToEmbedding(url, \"depth\") for url in right_test]"
   ]
  },
  {
   "cell_type": "code",
   "execution_count": 482,
   "metadata": {
    "collapsed": false
   },
   "outputs": [
    {
     "name": "stdout",
     "output_type": "stream",
     "text": [
      "[0]\tvalidation_0-logloss:0.682565\tvalidation_1-logloss:0.690926\n",
      "[1]\tvalidation_0-logloss:0.673112\tvalidation_1-logloss:0.686757\n",
      "[2]\tvalidation_0-logloss:0.666076\tvalidation_1-logloss:0.680454\n",
      "[3]\tvalidation_0-logloss:0.656627\tvalidation_1-logloss:0.675294\n",
      "[4]\tvalidation_0-logloss:0.647597\tvalidation_1-logloss:0.676187\n",
      "[5]\tvalidation_0-logloss:0.63872\tvalidation_1-logloss:0.674208\n",
      "[6]\tvalidation_0-logloss:0.630968\tvalidation_1-logloss:0.675259\n",
      "[7]\tvalidation_0-logloss:0.62583\tvalidation_1-logloss:0.674353\n",
      "[8]\tvalidation_0-logloss:0.618101\tvalidation_1-logloss:0.664371\n",
      "[9]\tvalidation_0-logloss:0.611142\tvalidation_1-logloss:0.661829\n",
      "[10]\tvalidation_0-logloss:0.603623\tvalidation_1-logloss:0.662571\n",
      "[11]\tvalidation_0-logloss:0.597612\tvalidation_1-logloss:0.662451\n",
      "[12]\tvalidation_0-logloss:0.591629\tvalidation_1-logloss:0.657725\n",
      "[13]\tvalidation_0-logloss:0.58762\tvalidation_1-logloss:0.653264\n",
      "[14]\tvalidation_0-logloss:0.584548\tvalidation_1-logloss:0.656631\n",
      "[15]\tvalidation_0-logloss:0.578734\tvalidation_1-logloss:0.655736\n",
      "[16]\tvalidation_0-logloss:0.573401\tvalidation_1-logloss:0.660708\n",
      "[17]\tvalidation_0-logloss:0.56799\tvalidation_1-logloss:0.655273\n",
      "[18]\tvalidation_0-logloss:0.563606\tvalidation_1-logloss:0.652119\n",
      "[19]\tvalidation_0-logloss:0.557834\tvalidation_1-logloss:0.647548\n",
      "[20]\tvalidation_0-logloss:0.554967\tvalidation_1-logloss:0.644719\n",
      "[21]\tvalidation_0-logloss:0.551521\tvalidation_1-logloss:0.644229\n",
      "[22]\tvalidation_0-logloss:0.547012\tvalidation_1-logloss:0.649296\n",
      "[23]\tvalidation_0-logloss:0.54205\tvalidation_1-logloss:0.649621\n",
      "[24]\tvalidation_0-logloss:0.537505\tvalidation_1-logloss:0.648142\n",
      "[25]\tvalidation_0-logloss:0.533602\tvalidation_1-logloss:0.643887\n",
      "[26]\tvalidation_0-logloss:0.530634\tvalidation_1-logloss:0.642774\n",
      "[27]\tvalidation_0-logloss:0.526337\tvalidation_1-logloss:0.641621\n",
      "[28]\tvalidation_0-logloss:0.523824\tvalidation_1-logloss:0.641086\n",
      "[29]\tvalidation_0-logloss:0.520165\tvalidation_1-logloss:0.63717\n",
      "[30]\tvalidation_0-logloss:0.517004\tvalidation_1-logloss:0.636104\n",
      "[31]\tvalidation_0-logloss:0.51343\tvalidation_1-logloss:0.636476\n",
      "[32]\tvalidation_0-logloss:0.511985\tvalidation_1-logloss:0.637589\n",
      "[33]\tvalidation_0-logloss:0.509024\tvalidation_1-logloss:0.635096\n",
      "[34]\tvalidation_0-logloss:0.50623\tvalidation_1-logloss:0.633536\n",
      "[35]\tvalidation_0-logloss:0.502755\tvalidation_1-logloss:0.632593\n",
      "[36]\tvalidation_0-logloss:0.501492\tvalidation_1-logloss:0.631464\n",
      "[37]\tvalidation_0-logloss:0.498394\tvalidation_1-logloss:0.632307\n",
      "[38]\tvalidation_0-logloss:0.496711\tvalidation_1-logloss:0.632207\n",
      "[39]\tvalidation_0-logloss:0.494873\tvalidation_1-logloss:0.630446\n",
      "[40]\tvalidation_0-logloss:0.491825\tvalidation_1-logloss:0.633132\n",
      "[41]\tvalidation_0-logloss:0.489064\tvalidation_1-logloss:0.635184\n",
      "[42]\tvalidation_0-logloss:0.486184\tvalidation_1-logloss:0.635531\n",
      "[43]\tvalidation_0-logloss:0.485102\tvalidation_1-logloss:0.637589\n",
      "[44]\tvalidation_0-logloss:0.482178\tvalidation_1-logloss:0.637986\n",
      "[45]\tvalidation_0-logloss:0.478895\tvalidation_1-logloss:0.638328\n",
      "[46]\tvalidation_0-logloss:0.476129\tvalidation_1-logloss:0.636837\n",
      "[47]\tvalidation_0-logloss:0.475179\tvalidation_1-logloss:0.636964\n",
      "[48]\tvalidation_0-logloss:0.472794\tvalidation_1-logloss:0.638899\n",
      "[49]\tvalidation_0-logloss:0.47026\tvalidation_1-logloss:0.637559\n",
      "[50]\tvalidation_0-logloss:0.467928\tvalidation_1-logloss:0.637761\n",
      "[51]\tvalidation_0-logloss:0.466229\tvalidation_1-logloss:0.636888\n",
      "[52]\tvalidation_0-logloss:0.464639\tvalidation_1-logloss:0.639003\n",
      "[53]\tvalidation_0-logloss:0.463076\tvalidation_1-logloss:0.638967\n",
      "[54]\tvalidation_0-logloss:0.461927\tvalidation_1-logloss:0.638119\n",
      "[55]\tvalidation_0-logloss:0.459078\tvalidation_1-logloss:0.637146\n",
      "[56]\tvalidation_0-logloss:0.4579\tvalidation_1-logloss:0.64039\n",
      "[57]\tvalidation_0-logloss:0.455354\tvalidation_1-logloss:0.635442\n",
      "[58]\tvalidation_0-logloss:0.454555\tvalidation_1-logloss:0.636413\n",
      "[59]\tvalidation_0-logloss:0.451779\tvalidation_1-logloss:0.637842\n",
      "[60]\tvalidation_0-logloss:0.449467\tvalidation_1-logloss:0.637086\n",
      "[61]\tvalidation_0-logloss:0.447388\tvalidation_1-logloss:0.640294\n",
      "[62]\tvalidation_0-logloss:0.445678\tvalidation_1-logloss:0.640621\n",
      "[63]\tvalidation_0-logloss:0.444607\tvalidation_1-logloss:0.64117\n",
      "[64]\tvalidation_0-logloss:0.44324\tvalidation_1-logloss:0.640037\n",
      "[65]\tvalidation_0-logloss:0.441531\tvalidation_1-logloss:0.64022\n",
      "[66]\tvalidation_0-logloss:0.440623\tvalidation_1-logloss:0.638557\n",
      "[67]\tvalidation_0-logloss:0.438769\tvalidation_1-logloss:0.636882\n",
      "[68]\tvalidation_0-logloss:0.436755\tvalidation_1-logloss:0.636755\n",
      "[69]\tvalidation_0-logloss:0.435055\tvalidation_1-logloss:0.636334\n",
      "[70]\tvalidation_0-logloss:0.433969\tvalidation_1-logloss:0.636287\n",
      "[71]\tvalidation_0-logloss:0.432408\tvalidation_1-logloss:0.634692\n",
      "[72]\tvalidation_0-logloss:0.43099\tvalidation_1-logloss:0.631434\n",
      "[73]\tvalidation_0-logloss:0.429029\tvalidation_1-logloss:0.631745\n",
      "[74]\tvalidation_0-logloss:0.428218\tvalidation_1-logloss:0.63073\n",
      "[75]\tvalidation_0-logloss:0.426338\tvalidation_1-logloss:0.631504\n",
      "[76]\tvalidation_0-logloss:0.425021\tvalidation_1-logloss:0.632869\n",
      "[77]\tvalidation_0-logloss:0.424229\tvalidation_1-logloss:0.634025\n",
      "[78]\tvalidation_0-logloss:0.423392\tvalidation_1-logloss:0.635106\n",
      "[79]\tvalidation_0-logloss:0.422729\tvalidation_1-logloss:0.6357\n",
      "[80]\tvalidation_0-logloss:0.421573\tvalidation_1-logloss:0.633558\n",
      "[81]\tvalidation_0-logloss:0.420988\tvalidation_1-logloss:0.630901\n",
      "[82]\tvalidation_0-logloss:0.419475\tvalidation_1-logloss:0.634597\n",
      "[83]\tvalidation_0-logloss:0.418561\tvalidation_1-logloss:0.634824\n",
      "[84]\tvalidation_0-logloss:0.417084\tvalidation_1-logloss:0.634698\n",
      "[85]\tvalidation_0-logloss:0.416221\tvalidation_1-logloss:0.636316\n",
      "[86]\tvalidation_0-logloss:0.415324\tvalidation_1-logloss:0.636306\n",
      "[87]\tvalidation_0-logloss:0.413862\tvalidation_1-logloss:0.637116\n",
      "[88]\tvalidation_0-logloss:0.413101\tvalidation_1-logloss:0.636703\n",
      "[89]\tvalidation_0-logloss:0.412366\tvalidation_1-logloss:0.636157\n",
      "[90]\tvalidation_0-logloss:0.411031\tvalidation_1-logloss:0.634514\n",
      "[91]\tvalidation_0-logloss:0.409892\tvalidation_1-logloss:0.63387\n",
      "[92]\tvalidation_0-logloss:0.408588\tvalidation_1-logloss:0.637086\n",
      "[93]\tvalidation_0-logloss:0.407578\tvalidation_1-logloss:0.638573\n",
      "[94]\tvalidation_0-logloss:0.407062\tvalidation_1-logloss:0.636762\n",
      "[95]\tvalidation_0-logloss:0.406592\tvalidation_1-logloss:0.636281\n",
      "[96]\tvalidation_0-logloss:0.405166\tvalidation_1-logloss:0.634715\n",
      "[97]\tvalidation_0-logloss:0.404544\tvalidation_1-logloss:0.635079\n",
      "[98]\tvalidation_0-logloss:0.403678\tvalidation_1-logloss:0.635748\n",
      "[99]\tvalidation_0-logloss:0.403028\tvalidation_1-logloss:0.63657\n"
     ]
    }
   ],
   "source": [
    "depth_train_input, depth_train_output = createEvalSet(depth_right_train_features, depth_left_train_features)\n",
    "depth_test_input, depth_test_output = createEvalSet(depth_right_test_features, depth_left_test_features)\n",
    "\n",
    "depth_clf = XGBClassifier(n_estimators=100) \n",
    "\n",
    "depth_full = depth_clf.fit(depth_train_input, depth_train_output,\n",
    "        eval_set=[(depth_train_input, depth_train_output), (depth_test_input, depth_test_output)],\n",
    "        eval_metric='logloss',\n",
    "        verbose=True)"
   ]
  },
  {
   "cell_type": "code",
   "execution_count": 640,
   "metadata": {
    "collapsed": false
   },
   "outputs": [
    {
     "data": {
      "image/png": "[encoded data removed]",
      "text/plain": [
       "<matplotlib.figure.Figure at 0x135c6edd0>"
      ]
     },
     "metadata": {},
     "output_type": "display_data"
    }
   ],
   "source": [
    "import matplotlib.pyplot as plt\n",
    "\n",
    "depth_results_full = depth_full.evals_result()\n",
    "\n",
    "plt.plot(range(len(depth_results_full['validation_0']['logloss'])), depth_results_full['validation_0']['logloss'], label='Train')\n",
    "plt.plot(range(len(depth_results_full['validation_1']['logloss'])), depth_results_full['validation_1']['logloss'], label='Test')\n",
    "\n",
    "plt.xlabel('Iteration')\n",
    "plt.ylabel('Log Loss')\n",
    "plt.title('Log Loss for Depth Features Models')\n",
    "plt.legend()\n",
    "plt.savefig('logloss_depth.png')\n"
   ]
  },
  {
   "cell_type": "code",
   "execution_count": 532,
   "metadata": {
    "collapsed": false
   },
   "outputs": [
    {
     "name": "stdout",
     "output_type": "stream",
     "text": [
      "Train f1:  0.813432835821\n",
      "Train AUC:  0.923192918964\n",
      "Train Accuracy:  0.812734082397\n",
      "Test f1:  0.583333333333\n",
      "Test AUC:  0.663967611336\n",
      "Test Accuracy:  0.61038961039\n"
     ]
    }
   ],
   "source": [
    "from sklearn.metrics import f1_score, roc_auc_score, accuracy_score\n",
    "\n",
    "Y_pred = depth_clf.predict(depth_train_input,output_margin=True) #prediksi data cross validation menggunakan model tadi\n",
    "#train_f1score = f1_score(depth_train_output, Y_pred)\n",
    "train_rocscore = roc_auc_score(depth_train_output, Y_pred)\n",
    "#train_accuracy_score = accuracy_score(depth_train_output, Y_pred)\n",
    "\n",
    "Y_pred = depth_clf.predict(test_input, output_margin=True) #prediksi data cross validation menggunakan model tadi\n",
    "#test_f1score = f1_score(depth_test_output, Y_pred)\n",
    "test_rocscore = roc_auc_score(depth_test_output, Y_pred)\n",
    "#test_accuracy_score = accuracy_score(depth_test_output, Y_pred)\n",
    "\n",
    "print \"Train f1: \", train_f1score\n",
    "print \"Train AUC: \", train_rocscore\n",
    "print \"Train Accuracy: \", train_accuracy_score\n",
    "\n",
    "print \"Test f1: \", test_f1score\n",
    "print \"Test AUC: \", test_rocscore\n",
    "print \"Test Accuracy: \", test_accuracy_score\n",
    "\n"
   ]
  },
  {
   "cell_type": "code",
   "execution_count": 527,
   "metadata": {
    "collapsed": false
   },
   "outputs": [
    {
     "data": {
      "text/plain": [
       "0.81273408239700373"
      ]
     },
     "execution_count": 527,
     "metadata": {},
     "output_type": "execute_result"
    }
   ],
   "source": [
    "train_f1score"
   ]
  },
  {
   "cell_type": "code",
   "execution_count": 485,
   "metadata": {
    "collapsed": false
   },
   "outputs": [
    {
     "name": "stdout",
     "output_type": "stream",
     "text": [
      "Left Train Accuracy 0.85393258427\n",
      "Right Train Accuracy 0.426966292135\n"
     ]
    }
   ],
   "source": [
    "Y_pred = depth_clf.predict(left_train_features) #prediksi data cross validation menggunakan model tadi\n",
    "left_accuracy = accuracy_score(Y_pred, len(Y_pred) * [0])\n",
    "print \"Left Train Accuracy\", left_accuracy \n",
    "\n",
    "Y_pred = depth_clf.predict(right_train_features) #prediksi data cross validation menggunakan model tadi\n",
    "right_accuracy = accuracy_score(Y_pred, len(Y_pred) * [1])\n",
    "print \"Right Train Accuracy\", right_accuracy \n"
   ]
  },
  {
   "cell_type": "code",
   "execution_count": 486,
   "metadata": {
    "collapsed": false
   },
   "outputs": [
    {
     "name": "stdout",
     "output_type": "stream",
     "text": [
      "Left Test Accuracy 0.684210526316\n",
      "Right Test Accuracy 0.538461538462\n"
     ]
    }
   ],
   "source": [
    "Y_pred = depth_clf.predict(left_test_features) #prediksi data cross validation menggunakan model tadi\n",
    "left_accuracy = accuracy_score(Y_pred, len(Y_pred) * [0])\n",
    "print \"Left Test Accuracy\", left_accuracy \n",
    "\n",
    "Y_pred = depth_clf.predict(right_test_features) #prediksi data cross validation menggunakan model tadi\n",
    "right_accuracy = accuracy_score(Y_pred, len(Y_pred) * [1])\n",
    "print \"Right Test Accuracy\", right_accuracy \n"
   ]
  },
  {
   "cell_type": "code",
   "execution_count": 631,
   "metadata": {
    "collapsed": false
   },
   "outputs": [
    {
     "name": "stdout",
     "output_type": "stream",
     "text": [
      "[0]\tvalidation_0-logloss:0.681786\tvalidation_1-logloss:0.6871\n",
      "[1]\tvalidation_0-logloss:0.671379\tvalidation_1-logloss:0.67714\n",
      "[2]\tvalidation_0-logloss:0.661887\tvalidation_1-logloss:0.675844\n",
      "[3]\tvalidation_0-logloss:0.652449\tvalidation_1-logloss:0.670307\n",
      "[4]\tvalidation_0-logloss:0.644194\tvalidation_1-logloss:0.66834\n",
      "[5]\tvalidation_0-logloss:0.635367\tvalidation_1-logloss:0.66313\n",
      "[6]\tvalidation_0-logloss:0.62769\tvalidation_1-logloss:0.659695\n",
      "[7]\tvalidation_0-logloss:0.62017\tvalidation_1-logloss:0.653985\n",
      "[8]\tvalidation_0-logloss:0.613072\tvalidation_1-logloss:0.648775\n",
      "[9]\tvalidation_0-logloss:0.60719\tvalidation_1-logloss:0.644405\n",
      "[10]\tvalidation_0-logloss:0.600081\tvalidation_1-logloss:0.644288\n",
      "[11]\tvalidation_0-logloss:0.59345\tvalidation_1-logloss:0.640873\n",
      "[12]\tvalidation_0-logloss:0.587478\tvalidation_1-logloss:0.636488\n",
      "[13]\tvalidation_0-logloss:0.58129\tvalidation_1-logloss:0.634631\n",
      "[14]\tvalidation_0-logloss:0.575533\tvalidation_1-logloss:0.634051\n",
      "[15]\tvalidation_0-logloss:0.568252\tvalidation_1-logloss:0.631269\n",
      "[16]\tvalidation_0-logloss:0.564635\tvalidation_1-logloss:0.626651\n",
      "[17]\tvalidation_0-logloss:0.559847\tvalidation_1-logloss:0.626765\n",
      "[18]\tvalidation_0-logloss:0.555273\tvalidation_1-logloss:0.625574\n",
      "[19]\tvalidation_0-logloss:0.550724\tvalidation_1-logloss:0.627691\n",
      "[20]\tvalidation_0-logloss:0.547405\tvalidation_1-logloss:0.627051\n",
      "[21]\tvalidation_0-logloss:0.543393\tvalidation_1-logloss:0.627684\n",
      "[22]\tvalidation_0-logloss:0.539149\tvalidation_1-logloss:0.630268\n",
      "[23]\tvalidation_0-logloss:0.534469\tvalidation_1-logloss:0.630957\n",
      "[24]\tvalidation_0-logloss:0.529458\tvalidation_1-logloss:0.629918\n",
      "[25]\tvalidation_0-logloss:0.525267\tvalidation_1-logloss:0.628663\n",
      "[26]\tvalidation_0-logloss:0.521641\tvalidation_1-logloss:0.628571\n",
      "[27]\tvalidation_0-logloss:0.517561\tvalidation_1-logloss:0.628272\n",
      "[28]\tvalidation_0-logloss:0.51361\tvalidation_1-logloss:0.626549\n",
      "[29]\tvalidation_0-logloss:0.510556\tvalidation_1-logloss:0.622945\n",
      "[30]\tvalidation_0-logloss:0.507242\tvalidation_1-logloss:0.620935\n",
      "[31]\tvalidation_0-logloss:0.505182\tvalidation_1-logloss:0.623059\n",
      "[32]\tvalidation_0-logloss:0.501684\tvalidation_1-logloss:0.621332\n",
      "[33]\tvalidation_0-logloss:0.499112\tvalidation_1-logloss:0.620637\n",
      "[34]\tvalidation_0-logloss:0.496467\tvalidation_1-logloss:0.617875\n",
      "[35]\tvalidation_0-logloss:0.493438\tvalidation_1-logloss:0.617325\n",
      "[36]\tvalidation_0-logloss:0.491188\tvalidation_1-logloss:0.615842\n",
      "[37]\tvalidation_0-logloss:0.489751\tvalidation_1-logloss:0.614272\n",
      "[38]\tvalidation_0-logloss:0.487018\tvalidation_1-logloss:0.612392\n",
      "[39]\tvalidation_0-logloss:0.484985\tvalidation_1-logloss:0.613053\n",
      "[40]\tvalidation_0-logloss:0.481633\tvalidation_1-logloss:0.612161\n",
      "[41]\tvalidation_0-logloss:0.479036\tvalidation_1-logloss:0.614472\n",
      "[42]\tvalidation_0-logloss:0.476571\tvalidation_1-logloss:0.613105\n",
      "[43]\tvalidation_0-logloss:0.473763\tvalidation_1-logloss:0.608088\n",
      "[44]\tvalidation_0-logloss:0.470897\tvalidation_1-logloss:0.605845\n",
      "[45]\tvalidation_0-logloss:0.468749\tvalidation_1-logloss:0.60506\n",
      "[46]\tvalidation_0-logloss:0.467033\tvalidation_1-logloss:0.604946\n",
      "[47]\tvalidation_0-logloss:0.464941\tvalidation_1-logloss:0.604869\n",
      "[48]\tvalidation_0-logloss:0.462563\tvalidation_1-logloss:0.606966\n",
      "[49]\tvalidation_0-logloss:0.460244\tvalidation_1-logloss:0.604708\n",
      "[50]\tvalidation_0-logloss:0.458354\tvalidation_1-logloss:0.60406\n",
      "[51]\tvalidation_0-logloss:0.456959\tvalidation_1-logloss:0.603874\n",
      "[52]\tvalidation_0-logloss:0.455588\tvalidation_1-logloss:0.6026\n",
      "[53]\tvalidation_0-logloss:0.453832\tvalidation_1-logloss:0.602684\n",
      "[54]\tvalidation_0-logloss:0.451947\tvalidation_1-logloss:0.600861\n",
      "[55]\tvalidation_0-logloss:0.45041\tvalidation_1-logloss:0.599081\n",
      "[56]\tvalidation_0-logloss:0.449183\tvalidation_1-logloss:0.599041\n",
      "[57]\tvalidation_0-logloss:0.446928\tvalidation_1-logloss:0.597369\n",
      "[58]\tvalidation_0-logloss:0.444782\tvalidation_1-logloss:0.598739\n",
      "[59]\tvalidation_0-logloss:0.443722\tvalidation_1-logloss:0.598651\n",
      "[60]\tvalidation_0-logloss:0.441808\tvalidation_1-logloss:0.601229\n",
      "[61]\tvalidation_0-logloss:0.439667\tvalidation_1-logloss:0.599847\n",
      "[62]\tvalidation_0-logloss:0.437808\tvalidation_1-logloss:0.596894\n",
      "[63]\tvalidation_0-logloss:0.435818\tvalidation_1-logloss:0.599097\n",
      "[64]\tvalidation_0-logloss:0.434579\tvalidation_1-logloss:0.598991\n",
      "[65]\tvalidation_0-logloss:0.432687\tvalidation_1-logloss:0.596804\n",
      "[66]\tvalidation_0-logloss:0.43066\tvalidation_1-logloss:0.595871\n",
      "[67]\tvalidation_0-logloss:0.428999\tvalidation_1-logloss:0.597134\n",
      "[68]\tvalidation_0-logloss:0.426873\tvalidation_1-logloss:0.596405\n",
      "[69]\tvalidation_0-logloss:0.425019\tvalidation_1-logloss:0.595482\n",
      "[70]\tvalidation_0-logloss:0.423795\tvalidation_1-logloss:0.593141\n",
      "[71]\tvalidation_0-logloss:0.422117\tvalidation_1-logloss:0.591171\n",
      "[72]\tvalidation_0-logloss:0.420908\tvalidation_1-logloss:0.590141\n",
      "[73]\tvalidation_0-logloss:0.419355\tvalidation_1-logloss:0.592716\n",
      "[74]\tvalidation_0-logloss:0.417895\tvalidation_1-logloss:0.592104\n",
      "[75]\tvalidation_0-logloss:0.416418\tvalidation_1-logloss:0.592327\n",
      "[76]\tvalidation_0-logloss:0.414838\tvalidation_1-logloss:0.591203\n",
      "[77]\tvalidation_0-logloss:0.412985\tvalidation_1-logloss:0.590109\n",
      "[78]\tvalidation_0-logloss:0.412034\tvalidation_1-logloss:0.592049\n",
      "[79]\tvalidation_0-logloss:0.410414\tvalidation_1-logloss:0.590253\n",
      "[80]\tvalidation_0-logloss:0.409351\tvalidation_1-logloss:0.590609\n",
      "[81]\tvalidation_0-logloss:0.408362\tvalidation_1-logloss:0.590714\n",
      "[82]\tvalidation_0-logloss:0.407209\tvalidation_1-logloss:0.589351\n",
      "[83]\tvalidation_0-logloss:0.405774\tvalidation_1-logloss:0.589528\n",
      "[84]\tvalidation_0-logloss:0.404632\tvalidation_1-logloss:0.587881\n",
      "[85]\tvalidation_0-logloss:0.403285\tvalidation_1-logloss:0.586096\n",
      "[86]\tvalidation_0-logloss:0.4022\tvalidation_1-logloss:0.584214\n",
      "[87]\tvalidation_0-logloss:0.401385\tvalidation_1-logloss:0.584647\n",
      "[88]\tvalidation_0-logloss:0.400185\tvalidation_1-logloss:0.587569\n",
      "[89]\tvalidation_0-logloss:0.399758\tvalidation_1-logloss:0.587293\n",
      "[90]\tvalidation_0-logloss:0.39828\tvalidation_1-logloss:0.585978\n",
      "[91]\tvalidation_0-logloss:0.397393\tvalidation_1-logloss:0.585786\n",
      "[92]\tvalidation_0-logloss:0.396142\tvalidation_1-logloss:0.585481\n",
      "[93]\tvalidation_0-logloss:0.394694\tvalidation_1-logloss:0.584871\n",
      "[94]\tvalidation_0-logloss:0.393616\tvalidation_1-logloss:0.585729\n",
      "[95]\tvalidation_0-logloss:0.39234\tvalidation_1-logloss:0.585363\n",
      "[96]\tvalidation_0-logloss:0.391388\tvalidation_1-logloss:0.583002\n",
      "[97]\tvalidation_0-logloss:0.390002\tvalidation_1-logloss:0.585496\n",
      "[98]\tvalidation_0-logloss:0.389338\tvalidation_1-logloss:0.584357\n",
      "[99]\tvalidation_0-logloss:0.388707\tvalidation_1-logloss:0.584148\n",
      "[100]\tvalidation_0-logloss:0.388084\tvalidation_1-logloss:0.583791\n",
      "[101]\tvalidation_0-logloss:0.387189\tvalidation_1-logloss:0.585005\n",
      "[102]\tvalidation_0-logloss:0.386569\tvalidation_1-logloss:0.584737\n",
      "[103]\tvalidation_0-logloss:0.385807\tvalidation_1-logloss:0.585874\n",
      "[104]\tvalidation_0-logloss:0.38488\tvalidation_1-logloss:0.585903\n",
      "[105]\tvalidation_0-logloss:0.383735\tvalidation_1-logloss:0.584042\n",
      "[106]\tvalidation_0-logloss:0.383023\tvalidation_1-logloss:0.584381\n",
      "[107]\tvalidation_0-logloss:0.381854\tvalidation_1-logloss:0.584139\n",
      "[108]\tvalidation_0-logloss:0.381228\tvalidation_1-logloss:0.583934\n",
      "[109]\tvalidation_0-logloss:0.380795\tvalidation_1-logloss:0.585488\n",
      "[110]\tvalidation_0-logloss:0.38027\tvalidation_1-logloss:0.584679\n",
      "[111]\tvalidation_0-logloss:0.379356\tvalidation_1-logloss:0.584705\n",
      "[112]\tvalidation_0-logloss:0.37859\tvalidation_1-logloss:0.581618\n",
      "[113]\tvalidation_0-logloss:0.3781\tvalidation_1-logloss:0.580956\n",
      "[114]\tvalidation_0-logloss:0.377466\tvalidation_1-logloss:0.579961\n",
      "[115]\tvalidation_0-logloss:0.376523\tvalidation_1-logloss:0.57995\n",
      "[116]\tvalidation_0-logloss:0.375967\tvalidation_1-logloss:0.580099\n",
      "[117]\tvalidation_0-logloss:0.375098\tvalidation_1-logloss:0.578705\n",
      "[118]\tvalidation_0-logloss:0.374511\tvalidation_1-logloss:0.578979\n",
      "[119]\tvalidation_0-logloss:0.373771\tvalidation_1-logloss:0.576576\n",
      "[120]\tvalidation_0-logloss:0.373032\tvalidation_1-logloss:0.576307\n",
      "[121]\tvalidation_0-logloss:0.372138\tvalidation_1-logloss:0.575311\n",
      "[122]\tvalidation_0-logloss:0.371762\tvalidation_1-logloss:0.575202\n",
      "[123]\tvalidation_0-logloss:0.370816\tvalidation_1-logloss:0.575617\n",
      "[124]\tvalidation_0-logloss:0.370307\tvalidation_1-logloss:0.574763\n",
      "[125]\tvalidation_0-logloss:0.369909\tvalidation_1-logloss:0.574437\n",
      "[126]\tvalidation_0-logloss:0.369098\tvalidation_1-logloss:0.573751\n",
      "[127]\tvalidation_0-logloss:0.368328\tvalidation_1-logloss:0.573389\n",
      "[128]\tvalidation_0-logloss:0.367528\tvalidation_1-logloss:0.572184\n",
      "[129]\tvalidation_0-logloss:0.367195\tvalidation_1-logloss:0.571399\n",
      "[130]\tvalidation_0-logloss:0.366435\tvalidation_1-logloss:0.572077\n",
      "[131]\tvalidation_0-logloss:0.365878\tvalidation_1-logloss:0.571975\n",
      "[132]\tvalidation_0-logloss:0.364917\tvalidation_1-logloss:0.571425\n",
      "[133]\tvalidation_0-logloss:0.36457\tvalidation_1-logloss:0.571108\n",
      "[134]\tvalidation_0-logloss:0.363932\tvalidation_1-logloss:0.571014\n",
      "[135]\tvalidation_0-logloss:0.36324\tvalidation_1-logloss:0.571718\n",
      "[136]\tvalidation_0-logloss:0.362418\tvalidation_1-logloss:0.572377\n",
      "[137]\tvalidation_0-logloss:0.361743\tvalidation_1-logloss:0.572011\n",
      "[138]\tvalidation_0-logloss:0.361423\tvalidation_1-logloss:0.573286\n",
      "[139]\tvalidation_0-logloss:0.361029\tvalidation_1-logloss:0.573201\n",
      "[140]\tvalidation_0-logloss:0.360409\tvalidation_1-logloss:0.572009\n",
      "[141]\tvalidation_0-logloss:0.359982\tvalidation_1-logloss:0.571859\n",
      "[142]\tvalidation_0-logloss:0.359676\tvalidation_1-logloss:0.570789\n",
      "[143]\tvalidation_0-logloss:0.358918\tvalidation_1-logloss:0.569525\n",
      "[144]\tvalidation_0-logloss:0.358119\tvalidation_1-logloss:0.568991\n",
      "[145]\tvalidation_0-logloss:0.357423\tvalidation_1-logloss:0.5675\n",
      "[146]\tvalidation_0-logloss:0.356982\tvalidation_1-logloss:0.567569\n",
      "[147]\tvalidation_0-logloss:0.356356\tvalidation_1-logloss:0.566017\n",
      "[148]\tvalidation_0-logloss:0.355589\tvalidation_1-logloss:0.566181\n",
      "[149]\tvalidation_0-logloss:0.354955\tvalidation_1-logloss:0.567217\n",
      "[150]\tvalidation_0-logloss:0.354653\tvalidation_1-logloss:0.566413\n",
      "[151]\tvalidation_0-logloss:0.354099\tvalidation_1-logloss:0.566145\n",
      "[152]\tvalidation_0-logloss:0.353779\tvalidation_1-logloss:0.566795\n",
      "[153]\tvalidation_0-logloss:0.353482\tvalidation_1-logloss:0.566436\n",
      "[154]\tvalidation_0-logloss:0.353\tvalidation_1-logloss:0.566824\n",
      "[155]\tvalidation_0-logloss:0.352384\tvalidation_1-logloss:0.565192\n",
      "[156]\tvalidation_0-logloss:0.352107\tvalidation_1-logloss:0.565364\n",
      "[157]\tvalidation_0-logloss:0.351443\tvalidation_1-logloss:0.565779\n",
      "[158]\tvalidation_0-logloss:0.350952\tvalidation_1-logloss:0.565617\n",
      "[159]\tvalidation_0-logloss:0.350568\tvalidation_1-logloss:0.564548\n",
      "[160]\tvalidation_0-logloss:0.350174\tvalidation_1-logloss:0.563584\n",
      "[161]\tvalidation_0-logloss:0.349844\tvalidation_1-logloss:0.563516\n",
      "[162]\tvalidation_0-logloss:0.349321\tvalidation_1-logloss:0.563041\n",
      "[163]\tvalidation_0-logloss:0.348837\tvalidation_1-logloss:0.563204\n",
      "[164]\tvalidation_0-logloss:0.348438\tvalidation_1-logloss:0.562113\n",
      "[165]\tvalidation_0-logloss:0.347836\tvalidation_1-logloss:0.562999\n",
      "[166]\tvalidation_0-logloss:0.347603\tvalidation_1-logloss:0.562921\n",
      "[167]\tvalidation_0-logloss:0.347337\tvalidation_1-logloss:0.563101\n",
      "[168]\tvalidation_0-logloss:0.34683\tvalidation_1-logloss:0.562248\n",
      "[169]\tvalidation_0-logloss:0.346667\tvalidation_1-logloss:0.562012\n",
      "[170]\tvalidation_0-logloss:0.346283\tvalidation_1-logloss:0.563186\n",
      "[171]\tvalidation_0-logloss:0.345713\tvalidation_1-logloss:0.561234\n",
      "[172]\tvalidation_0-logloss:0.345315\tvalidation_1-logloss:0.560713\n",
      "[173]\tvalidation_0-logloss:0.345034\tvalidation_1-logloss:0.559829\n",
      "[174]\tvalidation_0-logloss:0.344688\tvalidation_1-logloss:0.559564\n",
      "[175]\tvalidation_0-logloss:0.34422\tvalidation_1-logloss:0.561489\n",
      "[176]\tvalidation_0-logloss:0.343793\tvalidation_1-logloss:0.561122\n",
      "[177]\tvalidation_0-logloss:0.343317\tvalidation_1-logloss:0.561233\n",
      "[178]\tvalidation_0-logloss:0.34287\tvalidation_1-logloss:0.559108\n",
      "[179]\tvalidation_0-logloss:0.342674\tvalidation_1-logloss:0.559121\n",
      "[180]\tvalidation_0-logloss:0.342345\tvalidation_1-logloss:0.559909\n",
      "[181]\tvalidation_0-logloss:0.341861\tvalidation_1-logloss:0.558865\n",
      "[182]\tvalidation_0-logloss:0.341465\tvalidation_1-logloss:0.55935\n",
      "[183]\tvalidation_0-logloss:0.34101\tvalidation_1-logloss:0.559358\n",
      "[184]\tvalidation_0-logloss:0.340534\tvalidation_1-logloss:0.559509\n",
      "[185]\tvalidation_0-logloss:0.34021\tvalidation_1-logloss:0.560147\n",
      "[186]\tvalidation_0-logloss:0.339972\tvalidation_1-logloss:0.559912\n",
      "[187]\tvalidation_0-logloss:0.339506\tvalidation_1-logloss:0.559992\n",
      "[188]\tvalidation_0-logloss:0.339143\tvalidation_1-logloss:0.560886\n",
      "[189]\tvalidation_0-logloss:0.338711\tvalidation_1-logloss:0.560684\n",
      "[190]\tvalidation_0-logloss:0.338529\tvalidation_1-logloss:0.56064\n",
      "[191]\tvalidation_0-logloss:0.338353\tvalidation_1-logloss:0.56043\n",
      "[192]\tvalidation_0-logloss:0.338059\tvalidation_1-logloss:0.560056\n",
      "[193]\tvalidation_0-logloss:0.337635\tvalidation_1-logloss:0.560463\n",
      "[194]\tvalidation_0-logloss:0.337244\tvalidation_1-logloss:0.562003\n",
      "[195]\tvalidation_0-logloss:0.336995\tvalidation_1-logloss:0.561319\n",
      "[196]\tvalidation_0-logloss:0.336646\tvalidation_1-logloss:0.561316\n",
      "[197]\tvalidation_0-logloss:0.336437\tvalidation_1-logloss:0.56173\n",
      "[198]\tvalidation_0-logloss:0.336122\tvalidation_1-logloss:0.562109\n",
      "[199]\tvalidation_0-logloss:0.33595\tvalidation_1-logloss:0.562454\n",
      "[200]\tvalidation_0-logloss:0.335784\tvalidation_1-logloss:0.563636\n",
      "[201]\tvalidation_0-logloss:0.335571\tvalidation_1-logloss:0.563248\n",
      "[202]\tvalidation_0-logloss:0.335131\tvalidation_1-logloss:0.563319\n",
      "[203]\tvalidation_0-logloss:0.334781\tvalidation_1-logloss:0.561639\n",
      "[204]\tvalidation_0-logloss:0.334454\tvalidation_1-logloss:0.563149\n",
      "[205]\tvalidation_0-logloss:0.334266\tvalidation_1-logloss:0.563255\n",
      "[206]\tvalidation_0-logloss:0.333924\tvalidation_1-logloss:0.562049\n",
      "[207]\tvalidation_0-logloss:0.333668\tvalidation_1-logloss:0.561282\n",
      "[208]\tvalidation_0-logloss:0.333357\tvalidation_1-logloss:0.561406\n",
      "[209]\tvalidation_0-logloss:0.332932\tvalidation_1-logloss:0.559636\n",
      "[210]\tvalidation_0-logloss:0.332626\tvalidation_1-logloss:0.560951\n",
      "[211]\tvalidation_0-logloss:0.332528\tvalidation_1-logloss:0.560355\n",
      "[212]\tvalidation_0-logloss:0.332216\tvalidation_1-logloss:0.561188\n",
      "[213]\tvalidation_0-logloss:0.332074\tvalidation_1-logloss:0.560411\n",
      "[214]\tvalidation_0-logloss:0.331921\tvalidation_1-logloss:0.560632\n",
      "[215]\tvalidation_0-logloss:0.331777\tvalidation_1-logloss:0.559249\n",
      "[216]\tvalidation_0-logloss:0.331621\tvalidation_1-logloss:0.558546\n",
      "[217]\tvalidation_0-logloss:0.331349\tvalidation_1-logloss:0.559828\n",
      "[218]\tvalidation_0-logloss:0.331011\tvalidation_1-logloss:0.559579\n",
      "[219]\tvalidation_0-logloss:0.330831\tvalidation_1-logloss:0.559926\n",
      "[220]\tvalidation_0-logloss:0.330531\tvalidation_1-logloss:0.559224\n",
      "[221]\tvalidation_0-logloss:0.330317\tvalidation_1-logloss:0.559382\n",
      "[222]\tvalidation_0-logloss:0.330161\tvalidation_1-logloss:0.559884\n",
      "[223]\tvalidation_0-logloss:0.329919\tvalidation_1-logloss:0.560149\n",
      "[224]\tvalidation_0-logloss:0.329573\tvalidation_1-logloss:0.559466\n",
      "[225]\tvalidation_0-logloss:0.32919\tvalidation_1-logloss:0.55832\n",
      "[226]\tvalidation_0-logloss:0.328972\tvalidation_1-logloss:0.558274\n",
      "[227]\tvalidation_0-logloss:0.328758\tvalidation_1-logloss:0.559157\n",
      "[228]\tvalidation_0-logloss:0.328431\tvalidation_1-logloss:0.558697\n",
      "[229]\tvalidation_0-logloss:0.328291\tvalidation_1-logloss:0.558836\n",
      "[230]\tvalidation_0-logloss:0.328039\tvalidation_1-logloss:0.558236\n",
      "[231]\tvalidation_0-logloss:0.327765\tvalidation_1-logloss:0.558099\n",
      "[232]\tvalidation_0-logloss:0.327469\tvalidation_1-logloss:0.557208\n",
      "[233]\tvalidation_0-logloss:0.327141\tvalidation_1-logloss:0.557416\n",
      "[234]\tvalidation_0-logloss:0.327033\tvalidation_1-logloss:0.557629\n",
      "[235]\tvalidation_0-logloss:0.326776\tvalidation_1-logloss:0.556975\n",
      "[236]\tvalidation_0-logloss:0.326566\tvalidation_1-logloss:0.556048\n",
      "[237]\tvalidation_0-logloss:0.326257\tvalidation_1-logloss:0.556134\n",
      "[238]\tvalidation_0-logloss:0.325956\tvalidation_1-logloss:0.55583\n",
      "[239]\tvalidation_0-logloss:0.325751\tvalidation_1-logloss:0.555972\n",
      "[240]\tvalidation_0-logloss:0.325475\tvalidation_1-logloss:0.555227\n",
      "[241]\tvalidation_0-logloss:0.325349\tvalidation_1-logloss:0.554806\n",
      "[242]\tvalidation_0-logloss:0.325139\tvalidation_1-logloss:0.555128\n",
      "[243]\tvalidation_0-logloss:0.325022\tvalidation_1-logloss:0.554886\n",
      "[244]\tvalidation_0-logloss:0.324854\tvalidation_1-logloss:0.554068\n",
      "[245]\tvalidation_0-logloss:0.324673\tvalidation_1-logloss:0.553259\n",
      "[246]\tvalidation_0-logloss:0.324461\tvalidation_1-logloss:0.553299\n",
      "[247]\tvalidation_0-logloss:0.324348\tvalidation_1-logloss:0.552773\n",
      "[248]\tvalidation_0-logloss:0.32425\tvalidation_1-logloss:0.552844\n",
      "[249]\tvalidation_0-logloss:0.324011\tvalidation_1-logloss:0.551252\n",
      "[250]\tvalidation_0-logloss:0.323819\tvalidation_1-logloss:0.552\n",
      "[251]\tvalidation_0-logloss:0.323717\tvalidation_1-logloss:0.551408\n",
      "[252]\tvalidation_0-logloss:0.323576\tvalidation_1-logloss:0.551861\n",
      "[253]\tvalidation_0-logloss:0.323459\tvalidation_1-logloss:0.551428\n",
      "[254]\tvalidation_0-logloss:0.323348\tvalidation_1-logloss:0.550291\n",
      "[255]\tvalidation_0-logloss:0.323112\tvalidation_1-logloss:0.551979\n",
      "[256]\tvalidation_0-logloss:0.322933\tvalidation_1-logloss:0.551453\n",
      "[257]\tvalidation_0-logloss:0.322714\tvalidation_1-logloss:0.551764\n",
      "[258]\tvalidation_0-logloss:0.322615\tvalidation_1-logloss:0.551725\n",
      "[259]\tvalidation_0-logloss:0.322488\tvalidation_1-logloss:0.55128\n",
      "[260]\tvalidation_0-logloss:0.322271\tvalidation_1-logloss:0.550692\n",
      "[261]\tvalidation_0-logloss:0.322134\tvalidation_1-logloss:0.549583\n",
      "[262]\tvalidation_0-logloss:0.322047\tvalidation_1-logloss:0.549962\n",
      "[263]\tvalidation_0-logloss:0.321815\tvalidation_1-logloss:0.548593\n",
      "[264]\tvalidation_0-logloss:0.321632\tvalidation_1-logloss:0.54932\n",
      "[265]\tvalidation_0-logloss:0.321448\tvalidation_1-logloss:0.549628\n",
      "[266]\tvalidation_0-logloss:0.321295\tvalidation_1-logloss:0.549012\n",
      "[267]\tvalidation_0-logloss:0.321058\tvalidation_1-logloss:0.549066\n",
      "[268]\tvalidation_0-logloss:0.320935\tvalidation_1-logloss:0.549074\n",
      "[269]\tvalidation_0-logloss:0.320769\tvalidation_1-logloss:0.549641\n",
      "[270]\tvalidation_0-logloss:0.320626\tvalidation_1-logloss:0.549635\n",
      "[271]\tvalidation_0-logloss:0.320485\tvalidation_1-logloss:0.549935\n",
      "[272]\tvalidation_0-logloss:0.320309\tvalidation_1-logloss:0.550923\n",
      "[273]\tvalidation_0-logloss:0.320123\tvalidation_1-logloss:0.549505\n",
      "[274]\tvalidation_0-logloss:0.319956\tvalidation_1-logloss:0.549114\n",
      "[275]\tvalidation_0-logloss:0.31976\tvalidation_1-logloss:0.548643\n",
      "[276]\tvalidation_0-logloss:0.319544\tvalidation_1-logloss:0.548614\n",
      "[277]\tvalidation_0-logloss:0.319348\tvalidation_1-logloss:0.547811\n",
      "[278]\tvalidation_0-logloss:0.319196\tvalidation_1-logloss:0.548625\n",
      "[279]\tvalidation_0-logloss:0.319018\tvalidation_1-logloss:0.549927\n",
      "[280]\tvalidation_0-logloss:0.318917\tvalidation_1-logloss:0.550167\n",
      "[281]\tvalidation_0-logloss:0.318808\tvalidation_1-logloss:0.549888\n",
      "[282]\tvalidation_0-logloss:0.318706\tvalidation_1-logloss:0.551512\n",
      "[283]\tvalidation_0-logloss:0.318637\tvalidation_1-logloss:0.552566\n",
      "[284]\tvalidation_0-logloss:0.318524\tvalidation_1-logloss:0.551894\n",
      "[285]\tvalidation_0-logloss:0.318454\tvalidation_1-logloss:0.551316\n",
      "[286]\tvalidation_0-logloss:0.318267\tvalidation_1-logloss:0.551247\n",
      "[287]\tvalidation_0-logloss:0.318194\tvalidation_1-logloss:0.551591\n",
      "[288]\tvalidation_0-logloss:0.318047\tvalidation_1-logloss:0.55185\n",
      "[289]\tvalidation_0-logloss:0.317934\tvalidation_1-logloss:0.552058\n",
      "[290]\tvalidation_0-logloss:0.317828\tvalidation_1-logloss:0.552238\n",
      "[291]\tvalidation_0-logloss:0.317754\tvalidation_1-logloss:0.551885\n",
      "[292]\tvalidation_0-logloss:0.317676\tvalidation_1-logloss:0.551945\n",
      "[293]\tvalidation_0-logloss:0.31756\tvalidation_1-logloss:0.551309\n",
      "[294]\tvalidation_0-logloss:0.317443\tvalidation_1-logloss:0.551094\n",
      "[295]\tvalidation_0-logloss:0.317336\tvalidation_1-logloss:0.552537\n",
      "[296]\tvalidation_0-logloss:0.317187\tvalidation_1-logloss:0.553767\n",
      "[297]\tvalidation_0-logloss:0.317054\tvalidation_1-logloss:0.553651\n",
      "[298]\tvalidation_0-logloss:0.316912\tvalidation_1-logloss:0.553785\n",
      "[299]\tvalidation_0-logloss:0.316744\tvalidation_1-logloss:0.552539\n",
      "[300]\tvalidation_0-logloss:0.31659\tvalidation_1-logloss:0.552414\n",
      "[301]\tvalidation_0-logloss:0.316516\tvalidation_1-logloss:0.552469\n",
      "[302]\tvalidation_0-logloss:0.316364\tvalidation_1-logloss:0.552276\n",
      "[303]\tvalidation_0-logloss:0.316235\tvalidation_1-logloss:0.552328\n",
      "[304]\tvalidation_0-logloss:0.316113\tvalidation_1-logloss:0.550984\n",
      "[305]\tvalidation_0-logloss:0.316003\tvalidation_1-logloss:0.550156\n",
      "[306]\tvalidation_0-logloss:0.315916\tvalidation_1-logloss:0.550478\n",
      "[307]\tvalidation_0-logloss:0.315834\tvalidation_1-logloss:0.550474\n",
      "[308]\tvalidation_0-logloss:0.315662\tvalidation_1-logloss:0.549508\n",
      "[309]\tvalidation_0-logloss:0.315547\tvalidation_1-logloss:0.549602\n",
      "[310]\tvalidation_0-logloss:0.31545\tvalidation_1-logloss:0.549623\n",
      "[311]\tvalidation_0-logloss:0.315319\tvalidation_1-logloss:0.548456\n",
      "[312]\tvalidation_0-logloss:0.315189\tvalidation_1-logloss:0.548146\n",
      "[313]\tvalidation_0-logloss:0.315058\tvalidation_1-logloss:0.548708\n",
      "[314]\tvalidation_0-logloss:0.314942\tvalidation_1-logloss:0.54766\n",
      "[315]\tvalidation_0-logloss:0.314849\tvalidation_1-logloss:0.547586\n",
      "[316]\tvalidation_0-logloss:0.314679\tvalidation_1-logloss:0.547219\n",
      "[317]\tvalidation_0-logloss:0.31456\tvalidation_1-logloss:0.547039\n",
      "[318]\tvalidation_0-logloss:0.314426\tvalidation_1-logloss:0.546441\n",
      "[319]\tvalidation_0-logloss:0.314279\tvalidation_1-logloss:0.547511\n",
      "[320]\tvalidation_0-logloss:0.314146\tvalidation_1-logloss:0.548402\n",
      "[321]\tvalidation_0-logloss:0.314067\tvalidation_1-logloss:0.548374\n",
      "[322]\tvalidation_0-logloss:0.313941\tvalidation_1-logloss:0.548285\n",
      "[323]\tvalidation_0-logloss:0.313811\tvalidation_1-logloss:0.548191\n",
      "[324]\tvalidation_0-logloss:0.313677\tvalidation_1-logloss:0.547755\n",
      "[325]\tvalidation_0-logloss:0.313619\tvalidation_1-logloss:0.546947\n",
      "[326]\tvalidation_0-logloss:0.313503\tvalidation_1-logloss:0.546797\n",
      "[327]\tvalidation_0-logloss:0.313435\tvalidation_1-logloss:0.547333\n",
      "[328]\tvalidation_0-logloss:0.313371\tvalidation_1-logloss:0.547364\n",
      "[329]\tvalidation_0-logloss:0.313218\tvalidation_1-logloss:0.547149\n",
      "[330]\tvalidation_0-logloss:0.313134\tvalidation_1-logloss:0.547276\n",
      "[331]\tvalidation_0-logloss:0.313079\tvalidation_1-logloss:0.547647\n",
      "[332]\tvalidation_0-logloss:0.312987\tvalidation_1-logloss:0.547229\n",
      "[333]\tvalidation_0-logloss:0.312851\tvalidation_1-logloss:0.546706\n",
      "[334]\tvalidation_0-logloss:0.312785\tvalidation_1-logloss:0.546993\n",
      "[335]\tvalidation_0-logloss:0.312685\tvalidation_1-logloss:0.546362\n",
      "[336]\tvalidation_0-logloss:0.312596\tvalidation_1-logloss:0.547046\n",
      "[337]\tvalidation_0-logloss:0.312473\tvalidation_1-logloss:0.546414\n",
      "[338]\tvalidation_0-logloss:0.312375\tvalidation_1-logloss:0.544755\n",
      "[339]\tvalidation_0-logloss:0.312273\tvalidation_1-logloss:0.545421\n",
      "[340]\tvalidation_0-logloss:0.312196\tvalidation_1-logloss:0.54476\n",
      "[341]\tvalidation_0-logloss:0.312077\tvalidation_1-logloss:0.5449\n",
      "[342]\tvalidation_0-logloss:0.311962\tvalidation_1-logloss:0.545773\n",
      "[343]\tvalidation_0-logloss:0.311846\tvalidation_1-logloss:0.545399\n",
      "[344]\tvalidation_0-logloss:0.311794\tvalidation_1-logloss:0.545905\n",
      "[345]\tvalidation_0-logloss:0.311691\tvalidation_1-logloss:0.544945\n",
      "[346]\tvalidation_0-logloss:0.311631\tvalidation_1-logloss:0.545065\n",
      "[347]\tvalidation_0-logloss:0.311599\tvalidation_1-logloss:0.545147\n",
      "[348]\tvalidation_0-logloss:0.311543\tvalidation_1-logloss:0.545379\n",
      "[349]\tvalidation_0-logloss:0.311495\tvalidation_1-logloss:0.545607\n",
      "[350]\tvalidation_0-logloss:0.311448\tvalidation_1-logloss:0.545751\n",
      "[351]\tvalidation_0-logloss:0.311339\tvalidation_1-logloss:0.545709\n",
      "[352]\tvalidation_0-logloss:0.311248\tvalidation_1-logloss:0.545231\n",
      "[353]\tvalidation_0-logloss:0.311117\tvalidation_1-logloss:0.545067\n",
      "[354]\tvalidation_0-logloss:0.31099\tvalidation_1-logloss:0.544557\n",
      "[355]\tvalidation_0-logloss:0.310883\tvalidation_1-logloss:0.544048\n",
      "[356]\tvalidation_0-logloss:0.310764\tvalidation_1-logloss:0.544567\n",
      "[357]\tvalidation_0-logloss:0.310718\tvalidation_1-logloss:0.544883\n",
      "[358]\tvalidation_0-logloss:0.310657\tvalidation_1-logloss:0.544089\n",
      "[359]\tvalidation_0-logloss:0.310592\tvalidation_1-logloss:0.544024\n",
      "[360]\tvalidation_0-logloss:0.310505\tvalidation_1-logloss:0.543814\n",
      "[361]\tvalidation_0-logloss:0.310453\tvalidation_1-logloss:0.543899\n",
      "[362]\tvalidation_0-logloss:0.310362\tvalidation_1-logloss:0.543775\n",
      "[363]\tvalidation_0-logloss:0.31029\tvalidation_1-logloss:0.543961\n",
      "[364]\tvalidation_0-logloss:0.310196\tvalidation_1-logloss:0.543782\n",
      "[365]\tvalidation_0-logloss:0.310161\tvalidation_1-logloss:0.543942\n",
      "[366]\tvalidation_0-logloss:0.310115\tvalidation_1-logloss:0.544024\n",
      "[367]\tvalidation_0-logloss:0.310028\tvalidation_1-logloss:0.544302\n",
      "[368]\tvalidation_0-logloss:0.309982\tvalidation_1-logloss:0.544521\n",
      "[369]\tvalidation_0-logloss:0.309924\tvalidation_1-logloss:0.543846\n",
      "[370]\tvalidation_0-logloss:0.309841\tvalidation_1-logloss:0.543547\n",
      "[371]\tvalidation_0-logloss:0.309785\tvalidation_1-logloss:0.543318\n",
      "[372]\tvalidation_0-logloss:0.309672\tvalidation_1-logloss:0.542493\n",
      "[373]\tvalidation_0-logloss:0.30958\tvalidation_1-logloss:0.54294\n",
      "[374]\tvalidation_0-logloss:0.30949\tvalidation_1-logloss:0.542466\n",
      "[375]\tvalidation_0-logloss:0.30941\tvalidation_1-logloss:0.541608\n",
      "[376]\tvalidation_0-logloss:0.309309\tvalidation_1-logloss:0.541078\n",
      "[377]\tvalidation_0-logloss:0.309214\tvalidation_1-logloss:0.541688\n",
      "[378]\tvalidation_0-logloss:0.309176\tvalidation_1-logloss:0.542082\n",
      "[379]\tvalidation_0-logloss:0.309073\tvalidation_1-logloss:0.540934\n",
      "[380]\tvalidation_0-logloss:0.30899\tvalidation_1-logloss:0.540858\n",
      "[381]\tvalidation_0-logloss:0.308963\tvalidation_1-logloss:0.541835\n",
      "[382]\tvalidation_0-logloss:0.308927\tvalidation_1-logloss:0.541965\n",
      "[383]\tvalidation_0-logloss:0.308815\tvalidation_1-logloss:0.541581\n",
      "[384]\tvalidation_0-logloss:0.308711\tvalidation_1-logloss:0.541323\n",
      "[385]\tvalidation_0-logloss:0.308626\tvalidation_1-logloss:0.541397\n",
      "[386]\tvalidation_0-logloss:0.308538\tvalidation_1-logloss:0.542287\n",
      "[387]\tvalidation_0-logloss:0.308453\tvalidation_1-logloss:0.542478\n",
      "[388]\tvalidation_0-logloss:0.30838\tvalidation_1-logloss:0.542376\n",
      "[389]\tvalidation_0-logloss:0.308294\tvalidation_1-logloss:0.543121\n",
      "[390]\tvalidation_0-logloss:0.308198\tvalidation_1-logloss:0.542315\n",
      "[391]\tvalidation_0-logloss:0.308105\tvalidation_1-logloss:0.542509\n",
      "[392]\tvalidation_0-logloss:0.308035\tvalidation_1-logloss:0.542051\n",
      "[393]\tvalidation_0-logloss:0.307963\tvalidation_1-logloss:0.541777\n",
      "[394]\tvalidation_0-logloss:0.307871\tvalidation_1-logloss:0.542421\n",
      "[395]\tvalidation_0-logloss:0.307838\tvalidation_1-logloss:0.543504\n",
      "[396]\tvalidation_0-logloss:0.307813\tvalidation_1-logloss:0.544249\n",
      "[397]\tvalidation_0-logloss:0.307776\tvalidation_1-logloss:0.543977\n",
      "[398]\tvalidation_0-logloss:0.307701\tvalidation_1-logloss:0.543215\n",
      "[399]\tvalidation_0-logloss:0.30768\tvalidation_1-logloss:0.543972\n",
      "[400]\tvalidation_0-logloss:0.307626\tvalidation_1-logloss:0.544211\n",
      "[401]\tvalidation_0-logloss:0.307573\tvalidation_1-logloss:0.544243\n",
      "[402]\tvalidation_0-logloss:0.307507\tvalidation_1-logloss:0.544146\n",
      "[403]\tvalidation_0-logloss:0.307474\tvalidation_1-logloss:0.544319\n",
      "[404]\tvalidation_0-logloss:0.307406\tvalidation_1-logloss:0.545142\n",
      "[405]\tvalidation_0-logloss:0.307316\tvalidation_1-logloss:0.544841\n",
      "[406]\tvalidation_0-logloss:0.307266\tvalidation_1-logloss:0.545292\n",
      "[407]\tvalidation_0-logloss:0.307181\tvalidation_1-logloss:0.545207\n",
      "[408]\tvalidation_0-logloss:0.307117\tvalidation_1-logloss:0.545298\n",
      "[409]\tvalidation_0-logloss:0.307079\tvalidation_1-logloss:0.545138\n",
      "[410]\tvalidation_0-logloss:0.307007\tvalidation_1-logloss:0.545111\n",
      "[411]\tvalidation_0-logloss:0.306951\tvalidation_1-logloss:0.545663\n",
      "[412]\tvalidation_0-logloss:0.306894\tvalidation_1-logloss:0.545789\n",
      "[413]\tvalidation_0-logloss:0.306811\tvalidation_1-logloss:0.545855\n",
      "[414]\tvalidation_0-logloss:0.306712\tvalidation_1-logloss:0.545934\n",
      "[415]\tvalidation_0-logloss:0.306657\tvalidation_1-logloss:0.546063\n",
      "[416]\tvalidation_0-logloss:0.306609\tvalidation_1-logloss:0.546022\n",
      "[417]\tvalidation_0-logloss:0.30658\tvalidation_1-logloss:0.546373\n",
      "[418]\tvalidation_0-logloss:0.306549\tvalidation_1-logloss:0.546265\n",
      "[419]\tvalidation_0-logloss:0.306497\tvalidation_1-logloss:0.546041\n",
      "[420]\tvalidation_0-logloss:0.306434\tvalidation_1-logloss:0.545729\n",
      "[421]\tvalidation_0-logloss:0.306402\tvalidation_1-logloss:0.545462\n",
      "[422]\tvalidation_0-logloss:0.306336\tvalidation_1-logloss:0.545115\n",
      "[423]\tvalidation_0-logloss:0.306303\tvalidation_1-logloss:0.545221\n",
      "[424]\tvalidation_0-logloss:0.306236\tvalidation_1-logloss:0.545308\n",
      "[425]\tvalidation_0-logloss:0.306174\tvalidation_1-logloss:0.545659\n",
      "[426]\tvalidation_0-logloss:0.306108\tvalidation_1-logloss:0.546062\n",
      "[427]\tvalidation_0-logloss:0.306042\tvalidation_1-logloss:0.546255\n",
      "[428]\tvalidation_0-logloss:0.30597\tvalidation_1-logloss:0.546995\n",
      "[429]\tvalidation_0-logloss:0.305942\tvalidation_1-logloss:0.547241\n",
      "[430]\tvalidation_0-logloss:0.305864\tvalidation_1-logloss:0.546697\n",
      "[431]\tvalidation_0-logloss:0.305808\tvalidation_1-logloss:0.546434\n",
      "[432]\tvalidation_0-logloss:0.305773\tvalidation_1-logloss:0.546133\n",
      "[433]\tvalidation_0-logloss:0.305717\tvalidation_1-logloss:0.546641\n",
      "[434]\tvalidation_0-logloss:0.305683\tvalidation_1-logloss:0.546714\n",
      "[435]\tvalidation_0-logloss:0.305654\tvalidation_1-logloss:0.546655\n",
      "[436]\tvalidation_0-logloss:0.305596\tvalidation_1-logloss:0.545656\n",
      "[437]\tvalidation_0-logloss:0.305534\tvalidation_1-logloss:0.545595\n",
      "[438]\tvalidation_0-logloss:0.305501\tvalidation_1-logloss:0.545473\n",
      "[439]\tvalidation_0-logloss:0.305427\tvalidation_1-logloss:0.545268\n",
      "[440]\tvalidation_0-logloss:0.305379\tvalidation_1-logloss:0.545423\n",
      "[441]\tvalidation_0-logloss:0.30535\tvalidation_1-logloss:0.54526\n",
      "[442]\tvalidation_0-logloss:0.305329\tvalidation_1-logloss:0.545088\n",
      "[443]\tvalidation_0-logloss:0.305269\tvalidation_1-logloss:0.545377\n",
      "[444]\tvalidation_0-logloss:0.305225\tvalidation_1-logloss:0.545287\n",
      "[445]\tvalidation_0-logloss:0.305158\tvalidation_1-logloss:0.545523\n",
      "[446]\tvalidation_0-logloss:0.305137\tvalidation_1-logloss:0.545333\n",
      "[447]\tvalidation_0-logloss:0.305084\tvalidation_1-logloss:0.545358\n",
      "[448]\tvalidation_0-logloss:0.305019\tvalidation_1-logloss:0.544986\n",
      "[449]\tvalidation_0-logloss:0.304965\tvalidation_1-logloss:0.545257\n",
      "[450]\tvalidation_0-logloss:0.304911\tvalidation_1-logloss:0.54563\n",
      "[451]\tvalidation_0-logloss:0.304881\tvalidation_1-logloss:0.545864\n",
      "[452]\tvalidation_0-logloss:0.304853\tvalidation_1-logloss:0.545974\n",
      "[453]\tvalidation_0-logloss:0.304781\tvalidation_1-logloss:0.545246\n",
      "[454]\tvalidation_0-logloss:0.304737\tvalidation_1-logloss:0.545526\n",
      "[455]\tvalidation_0-logloss:0.304705\tvalidation_1-logloss:0.545159\n",
      "[456]\tvalidation_0-logloss:0.304678\tvalidation_1-logloss:0.545242\n",
      "[457]\tvalidation_0-logloss:0.304643\tvalidation_1-logloss:0.545337\n",
      "[458]\tvalidation_0-logloss:0.304595\tvalidation_1-logloss:0.54496\n",
      "[459]\tvalidation_0-logloss:0.30457\tvalidation_1-logloss:0.544843\n",
      "[460]\tvalidation_0-logloss:0.30452\tvalidation_1-logloss:0.544449\n",
      "[461]\tvalidation_0-logloss:0.304465\tvalidation_1-logloss:0.54486\n",
      "[462]\tvalidation_0-logloss:0.304441\tvalidation_1-logloss:0.544867\n",
      "[463]\tvalidation_0-logloss:0.304394\tvalidation_1-logloss:0.545811\n",
      "[464]\tvalidation_0-logloss:0.304355\tvalidation_1-logloss:0.545829\n",
      "[465]\tvalidation_0-logloss:0.304308\tvalidation_1-logloss:0.546036\n",
      "[466]\tvalidation_0-logloss:0.304271\tvalidation_1-logloss:0.545653\n",
      "[467]\tvalidation_0-logloss:0.304224\tvalidation_1-logloss:0.545475\n",
      "[468]\tvalidation_0-logloss:0.304199\tvalidation_1-logloss:0.545227\n",
      "[469]\tvalidation_0-logloss:0.304159\tvalidation_1-logloss:0.545461\n",
      "[470]\tvalidation_0-logloss:0.304105\tvalidation_1-logloss:0.546118\n",
      "[471]\tvalidation_0-logloss:0.304052\tvalidation_1-logloss:0.546629\n",
      "[472]\tvalidation_0-logloss:0.304\tvalidation_1-logloss:0.547016\n",
      "[473]\tvalidation_0-logloss:0.303964\tvalidation_1-logloss:0.547392\n",
      "[474]\tvalidation_0-logloss:0.303905\tvalidation_1-logloss:0.546941\n",
      "[475]\tvalidation_0-logloss:0.303882\tvalidation_1-logloss:0.54692\n",
      "[476]\tvalidation_0-logloss:0.303837\tvalidation_1-logloss:0.546692\n",
      "[477]\tvalidation_0-logloss:0.303799\tvalidation_1-logloss:0.546523\n",
      "[478]\tvalidation_0-logloss:0.303762\tvalidation_1-logloss:0.546604\n",
      "[479]\tvalidation_0-logloss:0.303741\tvalidation_1-logloss:0.546738\n",
      "[480]\tvalidation_0-logloss:0.3037\tvalidation_1-logloss:0.546695\n",
      "[481]\tvalidation_0-logloss:0.303646\tvalidation_1-logloss:0.546507\n",
      "[482]\tvalidation_0-logloss:0.303602\tvalidation_1-logloss:0.546718\n",
      "[483]\tvalidation_0-logloss:0.30355\tvalidation_1-logloss:0.546605\n",
      "[484]\tvalidation_0-logloss:0.3035\tvalidation_1-logloss:0.546537\n",
      "[485]\tvalidation_0-logloss:0.303475\tvalidation_1-logloss:0.54637\n",
      "[486]\tvalidation_0-logloss:0.303425\tvalidation_1-logloss:0.546583\n",
      "[487]\tvalidation_0-logloss:0.303379\tvalidation_1-logloss:0.54633\n",
      "[488]\tvalidation_0-logloss:0.303346\tvalidation_1-logloss:0.54636\n",
      "[489]\tvalidation_0-logloss:0.303299\tvalidation_1-logloss:0.545416\n",
      "[490]\tvalidation_0-logloss:0.303275\tvalidation_1-logloss:0.545554\n",
      "[491]\tvalidation_0-logloss:0.303253\tvalidation_1-logloss:0.54553\n",
      "[492]\tvalidation_0-logloss:0.303234\tvalidation_1-logloss:0.545763\n",
      "[493]\tvalidation_0-logloss:0.303187\tvalidation_1-logloss:0.546949\n",
      "[494]\tvalidation_0-logloss:0.303138\tvalidation_1-logloss:0.54673\n",
      "[495]\tvalidation_0-logloss:0.303116\tvalidation_1-logloss:0.547005\n",
      "[496]\tvalidation_0-logloss:0.30309\tvalidation_1-logloss:0.547008\n",
      "[497]\tvalidation_0-logloss:0.303044\tvalidation_1-logloss:0.547025\n",
      "[498]\tvalidation_0-logloss:0.303026\tvalidation_1-logloss:0.547273\n",
      "[499]\tvalidation_0-logloss:0.302991\tvalidation_1-logloss:0.547133\n"
     ]
    }
   ],
   "source": [
    "breadth_left_train_features = [urlToEmbedding(url, \"breadth\") for url in left_train]\n",
    "breadth_left_test_features = [urlToEmbedding(url, \"breadth\") for url in left_test]\n",
    "breadth_right_train_features = [urlToEmbedding(url, \"breadth\") for url in right_train]\n",
    "breadth_right_test_features = [urlToEmbedding(url, \"breadth\") for url in right_test]\n",
    "\n",
    "breadth_train_input, breadth_train_output = createEvalSet(breadth_right_train_features, breadth_left_train_features)\n",
    "breadth_test_input, breadth_test_output = createEvalSet(breadth_right_test_features, breadth_left_test_features)\n",
    "\n",
    "breadth_clf = XGBClassifier(n_estimators=500) \n",
    "\n",
    "breadth_full = breadth_clf.fit(breadth_train_input, breadth_train_output,\n",
    "        eval_set=[(breadth_train_input, breadth_train_output), (breadth_test_input, breadth_test_output)],\n",
    "        eval_metric='logloss',\n",
    "        verbose=True)"
   ]
  },
  {
   "cell_type": "code",
   "execution_count": 639,
   "metadata": {
    "collapsed": false
   },
   "outputs": [
    {
     "data": {
      "image/png": "[encoded data removed]",
      "text/plain": [
       "<matplotlib.figure.Figure at 0x10c390a10>"
      ]
     },
     "metadata": {},
     "output_type": "display_data"
    }
   ],
   "source": [
    "import matplotlib.pyplot as plt\n",
    "\n",
    "breadth_results_full = breadth_full.evals_result()\n",
    "\n",
    "plt.plot(range(len(breadth_results_full['validation_0']['logloss'])), breadth_results_full['validation_0']['logloss'], label='Train')\n",
    "plt.plot(range(len(breadth_results_full['validation_1']['logloss'])), breadth_results_full['validation_1']['logloss'], label='Test')\n",
    "\n",
    "plt.xlabel('Iteration')\n",
    "plt.ylabel('Log Loss')\n",
    "plt.title('Log Loss for Breadth Features Models')\n",
    "plt.legend()\n",
    "plt.savefig('logloss_breadth.png')\n"
   ]
  },
  {
   "cell_type": "code",
   "execution_count": 633,
   "metadata": {
    "collapsed": false
   },
   "outputs": [
    {
     "name": "stdout",
     "output_type": "stream",
     "text": [
      "Train f1:  0.811320754717\n",
      "Train AUC:  0.924679824377\n",
      "Train Accuracy:  0.812734082397\n",
      "Test f1:  0.72\n",
      "Test AUC:  0.796221322537\n",
      "Test Accuracy:  0.727272727273\n"
     ]
    }
   ],
   "source": [
    "from sklearn.metrics import f1_score, roc_auc_score, accuracy_score\n",
    "\n",
    "Y_pred = breadth_clf.predict(breadth_train_input) #prediksi data cross validation menggunakan model tadi\n",
    "Y_pred_margin = breadth_clf.predict(breadth_train_input, output_margin=True) #prediksi data cross validation menggunakan model tadi\n",
    "\n",
    "train_f1score = f1_score(breadth_train_output, Y_pred)\n",
    "train_rocscore = roc_auc_score(breadth_train_output, Y_pred_margin)\n",
    "train_accuracy_score = accuracy_score(breadth_train_output, Y_pred)\n",
    "\n",
    "Y_pred = breadth_clf.predict(breadth_test_input) #prediksi data cross validation menggunakan model tadi\n",
    "Y_pred_margin = breadth_clf.predict(breadth_test_input, output_margin=True) #prediksi data cross validation menggunakan model tadi\n",
    "\n",
    "test_f1score = f1_score(test_output, Y_pred)\n",
    "test_rocscore = roc_auc_score(test_output, Y_pred_margin)\n",
    "test_accuracy_score = accuracy_score(test_output, Y_pred)\n",
    "\n",
    "print \"Train f1: \", train_f1score\n",
    "print \"Train AUC: \", train_rocscore\n",
    "print \"Train Accuracy: \", train_accuracy_score\n",
    "\n",
    "print \"Test f1: \", test_f1score\n",
    "print \"Test AUC: \", test_rocscore\n",
    "print \"Test Accuracy: \", test_accuracy_score\n",
    "\n"
   ]
  },
  {
   "cell_type": "code",
   "execution_count": 603,
   "metadata": {
    "collapsed": false
   },
   "outputs": [
    {
     "name": "stdout",
     "output_type": "stream",
     "text": [
      "Left Train Accuracy 0.801498127341\n",
      "Right Train Accuracy 0.823970037453\n"
     ]
    }
   ],
   "source": [
    "Y_pred = breadth_clf.predict(breadth_left_train_features) #prediksi data cross validation menggunakan model tadi\n",
    "left_accuracy = accuracy_score(Y_pred, len(Y_pred) * [0])\n",
    "print \"Left Train Accuracy\", left_accuracy \n",
    "\n",
    "Y_pred = breadth_clf.predict(breadth_right_train_features) #prediksi data cross validation menggunakan model tadi\n",
    "right_accuracy = accuracy_score(Y_pred, len(Y_pred) * [1])\n",
    "print \"Right Train Accuracy\", right_accuracy \n"
   ]
  },
  {
   "cell_type": "code",
   "execution_count": 604,
   "metadata": {
    "collapsed": false
   },
   "outputs": [
    {
     "name": "stdout",
     "output_type": "stream",
     "text": [
      "Left Test Accuracy 0.736842105263\n",
      "Right Test Accuracy 0.666666666667\n"
     ]
    }
   ],
   "source": [
    "Y_pred = breadth_clf.predict(breadth_left_test_features) #prediksi data cross validation menggunakan model tadi\n",
    "left_accuracy = accuracy_score(Y_pred, len(Y_pred) * [0])\n",
    "print \"Left Test Accuracy\", left_accuracy \n",
    "\n",
    "Y_pred = breadth_clf.predict(breadth_right_test_features) #prediksi data cross validation menggunakan model tadi\n",
    "right_accuracy = accuracy_score(Y_pred, len(Y_pred) * [1])\n",
    "print \"Right Test Accuracy\", right_accuracy \n"
   ]
  },
  {
   "cell_type": "code",
   "execution_count": null,
   "metadata": {
    "collapsed": false
   },
   "outputs": [],
   "source": [
    "# from sklearn.linear_model import LogisticRegression\n",
    "\n",
    "# reg = LogisticRegression().fit(train_input, train_output)\n",
    "\n",
    "\n",
    "# from sklearn.metrics import f1_score, roc_auc_score, accuracy_score\n",
    "\n",
    "# Y_pred = reg.predict(train_input) #prediksi data cross validation menggunakan model tadi\n",
    "# train_f1score = f1_score(train_output, Y_pred, average=\"micro\")\n",
    "# train_rocscore = roc_auc_score(train_output, Y_pred)\n",
    "# train_accuracy_score = accuracy_score(train_output, Y_pred)\n",
    "\n",
    "# Y_pred = reg.predict(test_input) #prediksi data cross validation menggunakan model tadi\n",
    "# test_f1score = f1_score(test_output, Y_pred, average=\"micro\")\n",
    "# test_rocscore = roc_auc_score(test_output, Y_pred)\n",
    "# test_accuracy_score = accuracy_score(test_output, Y_pred)\n",
    "\n",
    "# print \"Train f1: \", train_f1score\n",
    "# print \"Train AUC: \", train_rocscore\n",
    "# print \"Train Accuracy: \", train_accuracy_score\n",
    "\n",
    "# print \"Test f1: \", test_f1score\n",
    "# print \"Test AUC: \", test_rocscore\n",
    "# print \"Test Accuracy: \", test_accuracy_score"
   ]
  },
  {
   "cell_type": "code",
   "execution_count": null,
   "metadata": {
    "collapsed": false
   },
   "outputs": [],
   "source": [
    "# Y_pred = reg.predict(left_train_features) #prediksi data cross validation menggunakan model tadi\n",
    "# left_accuracy = accuracy_score(Y_pred, len(Y_pred) * [0])\n",
    "# print \"Left Train Accuracy\", left_accuracy \n",
    "\n",
    "# Y_pred = reg.predict(right_train_features) #prediksi data cross validation menggunakan model tadi\n",
    "# right_accuracy = accuracy_score(Y_pred, len(Y_pred) * [1])\n",
    "# print \"Right Train Accuracy\", right_accuracy \n"
   ]
  },
  {
   "cell_type": "code",
   "execution_count": null,
   "metadata": {
    "collapsed": false
   },
   "outputs": [],
   "source": [
    "# Y_pred = reg.predict(left_test_features) #prediksi data cross validation menggunakan model tadi\n",
    "# left_accuracy = accuracy_score(Y_pred, len(Y_pred) * [0])\n",
    "# print \"Left Test Accuracy\", left_accuracy \n",
    "\n",
    "# Y_pred = reg.predict(right_test_features) #prediksi data cross validation menggunakan model tadi\n",
    "# right_accuracy = accuracy_score(Y_pred, len(Y_pred) * [1])\n",
    "# print \"Right Test Accuracy\", right_accuracy \n"
   ]
  },
  {
   "cell_type": "markdown",
   "metadata": {},
   "source": [
    "Both Node2Vec"
   ]
  },
  {
   "cell_type": "code",
   "execution_count": 649,
   "metadata": {
    "collapsed": false
   },
   "outputs": [
    {
     "name": "stdout",
     "output_type": "stream",
     "text": [
      "[0]\tvalidation_0-logloss:0.681108\tvalidation_1-logloss:0.687666\n",
      "[1]\tvalidation_0-logloss:0.67058\tvalidation_1-logloss:0.679781\n",
      "[2]\tvalidation_0-logloss:0.660604\tvalidation_1-logloss:0.679993\n",
      "[3]\tvalidation_0-logloss:0.650097\tvalidation_1-logloss:0.681573\n",
      "[4]\tvalidation_0-logloss:0.639798\tvalidation_1-logloss:0.676474\n",
      "[5]\tvalidation_0-logloss:0.631193\tvalidation_1-logloss:0.671992\n",
      "[6]\tvalidation_0-logloss:0.623485\tvalidation_1-logloss:0.671526\n",
      "[7]\tvalidation_0-logloss:0.615429\tvalidation_1-logloss:0.672714\n",
      "[8]\tvalidation_0-logloss:0.60782\tvalidation_1-logloss:0.674454\n",
      "[9]\tvalidation_0-logloss:0.600324\tvalidation_1-logloss:0.673708\n",
      "[10]\tvalidation_0-logloss:0.592801\tvalidation_1-logloss:0.6749\n",
      "[11]\tvalidation_0-logloss:0.585841\tvalidation_1-logloss:0.673217\n",
      "[12]\tvalidation_0-logloss:0.579853\tvalidation_1-logloss:0.66945\n",
      "[13]\tvalidation_0-logloss:0.57344\tvalidation_1-logloss:0.663058\n",
      "[14]\tvalidation_0-logloss:0.567163\tvalidation_1-logloss:0.658696\n",
      "[15]\tvalidation_0-logloss:0.561807\tvalidation_1-logloss:0.652848\n",
      "[16]\tvalidation_0-logloss:0.556667\tvalidation_1-logloss:0.647798\n",
      "[17]\tvalidation_0-logloss:0.550992\tvalidation_1-logloss:0.645416\n",
      "[18]\tvalidation_0-logloss:0.545719\tvalidation_1-logloss:0.647579\n",
      "[19]\tvalidation_0-logloss:0.540504\tvalidation_1-logloss:0.645134\n",
      "[20]\tvalidation_0-logloss:0.536834\tvalidation_1-logloss:0.643343\n",
      "[21]\tvalidation_0-logloss:0.532052\tvalidation_1-logloss:0.642656\n",
      "[22]\tvalidation_0-logloss:0.527546\tvalidation_1-logloss:0.643479\n",
      "[23]\tvalidation_0-logloss:0.523945\tvalidation_1-logloss:0.63563\n",
      "[24]\tvalidation_0-logloss:0.519788\tvalidation_1-logloss:0.629547\n",
      "[25]\tvalidation_0-logloss:0.515936\tvalidation_1-logloss:0.633223\n",
      "[26]\tvalidation_0-logloss:0.511608\tvalidation_1-logloss:0.637213\n",
      "[27]\tvalidation_0-logloss:0.507479\tvalidation_1-logloss:0.638413\n",
      "[28]\tvalidation_0-logloss:0.505202\tvalidation_1-logloss:0.640538\n",
      "[29]\tvalidation_0-logloss:0.50125\tvalidation_1-logloss:0.638153\n",
      "[30]\tvalidation_0-logloss:0.497242\tvalidation_1-logloss:0.632474\n",
      "[31]\tvalidation_0-logloss:0.495082\tvalidation_1-logloss:0.632864\n",
      "[32]\tvalidation_0-logloss:0.492702\tvalidation_1-logloss:0.632202\n",
      "[33]\tvalidation_0-logloss:0.4885\tvalidation_1-logloss:0.631428\n",
      "[34]\tvalidation_0-logloss:0.484607\tvalidation_1-logloss:0.629931\n",
      "[35]\tvalidation_0-logloss:0.480961\tvalidation_1-logloss:0.624037\n",
      "[36]\tvalidation_0-logloss:0.478607\tvalidation_1-logloss:0.624634\n",
      "[37]\tvalidation_0-logloss:0.475149\tvalidation_1-logloss:0.624702\n",
      "[38]\tvalidation_0-logloss:0.473451\tvalidation_1-logloss:0.625593\n",
      "[39]\tvalidation_0-logloss:0.470647\tvalidation_1-logloss:0.621813\n",
      "[40]\tvalidation_0-logloss:0.467371\tvalidation_1-logloss:0.622598\n",
      "[41]\tvalidation_0-logloss:0.463843\tvalidation_1-logloss:0.624703\n",
      "[42]\tvalidation_0-logloss:0.461735\tvalidation_1-logloss:0.624432\n",
      "[43]\tvalidation_0-logloss:0.459124\tvalidation_1-logloss:0.623057\n",
      "[44]\tvalidation_0-logloss:0.456635\tvalidation_1-logloss:0.624288\n",
      "[45]\tvalidation_0-logloss:0.455109\tvalidation_1-logloss:0.62342\n",
      "[46]\tvalidation_0-logloss:0.452301\tvalidation_1-logloss:0.62407\n",
      "[47]\tvalidation_0-logloss:0.451337\tvalidation_1-logloss:0.623136\n",
      "[48]\tvalidation_0-logloss:0.449684\tvalidation_1-logloss:0.623103\n",
      "[49]\tvalidation_0-logloss:0.447194\tvalidation_1-logloss:0.622859\n",
      "[50]\tvalidation_0-logloss:0.4447\tvalidation_1-logloss:0.61974\n",
      "[51]\tvalidation_0-logloss:0.442272\tvalidation_1-logloss:0.619388\n",
      "[52]\tvalidation_0-logloss:0.4404\tvalidation_1-logloss:0.620631\n",
      "[53]\tvalidation_0-logloss:0.438542\tvalidation_1-logloss:0.621572\n",
      "[54]\tvalidation_0-logloss:0.437243\tvalidation_1-logloss:0.622886\n",
      "[55]\tvalidation_0-logloss:0.436089\tvalidation_1-logloss:0.62311\n",
      "[56]\tvalidation_0-logloss:0.434856\tvalidation_1-logloss:0.622918\n",
      "[57]\tvalidation_0-logloss:0.433845\tvalidation_1-logloss:0.623267\n",
      "[58]\tvalidation_0-logloss:0.431492\tvalidation_1-logloss:0.625513\n",
      "[59]\tvalidation_0-logloss:0.428846\tvalidation_1-logloss:0.623902\n",
      "[60]\tvalidation_0-logloss:0.427075\tvalidation_1-logloss:0.625834\n",
      "[61]\tvalidation_0-logloss:0.425884\tvalidation_1-logloss:0.623898\n",
      "[62]\tvalidation_0-logloss:0.424848\tvalidation_1-logloss:0.626342\n",
      "[63]\tvalidation_0-logloss:0.422789\tvalidation_1-logloss:0.624156\n",
      "[64]\tvalidation_0-logloss:0.421\tvalidation_1-logloss:0.622928\n",
      "[65]\tvalidation_0-logloss:0.420012\tvalidation_1-logloss:0.623659\n",
      "[66]\tvalidation_0-logloss:0.41804\tvalidation_1-logloss:0.622171\n",
      "[67]\tvalidation_0-logloss:0.416112\tvalidation_1-logloss:0.622774\n",
      "[68]\tvalidation_0-logloss:0.414762\tvalidation_1-logloss:0.619228\n",
      "[69]\tvalidation_0-logloss:0.412978\tvalidation_1-logloss:0.616606\n",
      "[70]\tvalidation_0-logloss:0.411429\tvalidation_1-logloss:0.616301\n",
      "[71]\tvalidation_0-logloss:0.410391\tvalidation_1-logloss:0.614563\n",
      "[72]\tvalidation_0-logloss:0.409427\tvalidation_1-logloss:0.613582\n",
      "[73]\tvalidation_0-logloss:0.408585\tvalidation_1-logloss:0.613208\n",
      "[74]\tvalidation_0-logloss:0.406763\tvalidation_1-logloss:0.611142\n",
      "[75]\tvalidation_0-logloss:0.405703\tvalidation_1-logloss:0.60902\n",
      "[76]\tvalidation_0-logloss:0.404471\tvalidation_1-logloss:0.607789\n",
      "[77]\tvalidation_0-logloss:0.402806\tvalidation_1-logloss:0.607703\n",
      "[78]\tvalidation_0-logloss:0.402077\tvalidation_1-logloss:0.606094\n",
      "[79]\tvalidation_0-logloss:0.40081\tvalidation_1-logloss:0.604767\n",
      "[80]\tvalidation_0-logloss:0.400047\tvalidation_1-logloss:0.604382\n",
      "[81]\tvalidation_0-logloss:0.398534\tvalidation_1-logloss:0.607323\n",
      "[82]\tvalidation_0-logloss:0.39704\tvalidation_1-logloss:0.603543\n",
      "[83]\tvalidation_0-logloss:0.396037\tvalidation_1-logloss:0.604396\n",
      "[84]\tvalidation_0-logloss:0.394626\tvalidation_1-logloss:0.60542\n",
      "[85]\tvalidation_0-logloss:0.393246\tvalidation_1-logloss:0.602973\n",
      "[86]\tvalidation_0-logloss:0.391612\tvalidation_1-logloss:0.603678\n",
      "[87]\tvalidation_0-logloss:0.390447\tvalidation_1-logloss:0.601084\n",
      "[88]\tvalidation_0-logloss:0.389657\tvalidation_1-logloss:0.59954\n",
      "[89]\tvalidation_0-logloss:0.388148\tvalidation_1-logloss:0.599067\n",
      "[90]\tvalidation_0-logloss:0.387148\tvalidation_1-logloss:0.599233\n",
      "[91]\tvalidation_0-logloss:0.386552\tvalidation_1-logloss:0.601091\n",
      "[92]\tvalidation_0-logloss:0.385857\tvalidation_1-logloss:0.59955\n",
      "[93]\tvalidation_0-logloss:0.385318\tvalidation_1-logloss:0.599669\n",
      "[94]\tvalidation_0-logloss:0.383963\tvalidation_1-logloss:0.600815\n",
      "[95]\tvalidation_0-logloss:0.382985\tvalidation_1-logloss:0.602058\n",
      "[96]\tvalidation_0-logloss:0.382187\tvalidation_1-logloss:0.599362\n",
      "[97]\tvalidation_0-logloss:0.381398\tvalidation_1-logloss:0.598855\n",
      "[98]\tvalidation_0-logloss:0.380435\tvalidation_1-logloss:0.597069\n",
      "[99]\tvalidation_0-logloss:0.379285\tvalidation_1-logloss:0.598011\n",
      "[100]\tvalidation_0-logloss:0.378214\tvalidation_1-logloss:0.599318\n",
      "[101]\tvalidation_0-logloss:0.377279\tvalidation_1-logloss:0.597994\n",
      "[102]\tvalidation_0-logloss:0.376231\tvalidation_1-logloss:0.596865\n",
      "[103]\tvalidation_0-logloss:0.375242\tvalidation_1-logloss:0.596191\n",
      "[104]\tvalidation_0-logloss:0.374252\tvalidation_1-logloss:0.596872\n",
      "[105]\tvalidation_0-logloss:0.37325\tvalidation_1-logloss:0.596589\n",
      "[106]\tvalidation_0-logloss:0.372463\tvalidation_1-logloss:0.595983\n",
      "[107]\tvalidation_0-logloss:0.371542\tvalidation_1-logloss:0.595573\n",
      "[108]\tvalidation_0-logloss:0.370617\tvalidation_1-logloss:0.593723\n",
      "[109]\tvalidation_0-logloss:0.369772\tvalidation_1-logloss:0.598439\n",
      "[110]\tvalidation_0-logloss:0.369197\tvalidation_1-logloss:0.599028\n",
      "[111]\tvalidation_0-logloss:0.368404\tvalidation_1-logloss:0.597935\n",
      "[112]\tvalidation_0-logloss:0.367589\tvalidation_1-logloss:0.600954\n",
      "[113]\tvalidation_0-logloss:0.36702\tvalidation_1-logloss:0.600432\n",
      "[114]\tvalidation_0-logloss:0.366506\tvalidation_1-logloss:0.601195\n",
      "[115]\tvalidation_0-logloss:0.365576\tvalidation_1-logloss:0.598872\n",
      "[116]\tvalidation_0-logloss:0.365038\tvalidation_1-logloss:0.599349\n",
      "[117]\tvalidation_0-logloss:0.364407\tvalidation_1-logloss:0.598842\n",
      "[118]\tvalidation_0-logloss:0.363897\tvalidation_1-logloss:0.598648\n",
      "[119]\tvalidation_0-logloss:0.363527\tvalidation_1-logloss:0.598274\n",
      "[120]\tvalidation_0-logloss:0.362637\tvalidation_1-logloss:0.598006\n",
      "[121]\tvalidation_0-logloss:0.361878\tvalidation_1-logloss:0.596838\n",
      "[122]\tvalidation_0-logloss:0.361403\tvalidation_1-logloss:0.597449\n",
      "[123]\tvalidation_0-logloss:0.360655\tvalidation_1-logloss:0.597174\n",
      "[124]\tvalidation_0-logloss:0.359962\tvalidation_1-logloss:0.595753\n",
      "[125]\tvalidation_0-logloss:0.359254\tvalidation_1-logloss:0.596203\n",
      "[126]\tvalidation_0-logloss:0.358344\tvalidation_1-logloss:0.59459\n",
      "[127]\tvalidation_0-logloss:0.357556\tvalidation_1-logloss:0.594275\n",
      "[128]\tvalidation_0-logloss:0.3572\tvalidation_1-logloss:0.593626\n",
      "[129]\tvalidation_0-logloss:0.356867\tvalidation_1-logloss:0.593589\n",
      "[130]\tvalidation_0-logloss:0.356462\tvalidation_1-logloss:0.594477\n",
      "[131]\tvalidation_0-logloss:0.355886\tvalidation_1-logloss:0.594248\n",
      "[132]\tvalidation_0-logloss:0.355214\tvalidation_1-logloss:0.594393\n",
      "[133]\tvalidation_0-logloss:0.354836\tvalidation_1-logloss:0.595195\n",
      "[134]\tvalidation_0-logloss:0.354317\tvalidation_1-logloss:0.596406\n",
      "[135]\tvalidation_0-logloss:0.353771\tvalidation_1-logloss:0.597022\n",
      "[136]\tvalidation_0-logloss:0.353124\tvalidation_1-logloss:0.596168\n",
      "[137]\tvalidation_0-logloss:0.352814\tvalidation_1-logloss:0.595918\n",
      "[138]\tvalidation_0-logloss:0.352114\tvalidation_1-logloss:0.594599\n",
      "[139]\tvalidation_0-logloss:0.351549\tvalidation_1-logloss:0.594204\n",
      "[140]\tvalidation_0-logloss:0.350962\tvalidation_1-logloss:0.593267\n",
      "[141]\tvalidation_0-logloss:0.350682\tvalidation_1-logloss:0.593287\n",
      "[142]\tvalidation_0-logloss:0.350332\tvalidation_1-logloss:0.5921\n",
      "[143]\tvalidation_0-logloss:0.349686\tvalidation_1-logloss:0.593425\n",
      "[144]\tvalidation_0-logloss:0.349129\tvalidation_1-logloss:0.592799\n",
      "[145]\tvalidation_0-logloss:0.348618\tvalidation_1-logloss:0.592181\n",
      "[146]\tvalidation_0-logloss:0.348312\tvalidation_1-logloss:0.591828\n",
      "[147]\tvalidation_0-logloss:0.347867\tvalidation_1-logloss:0.592098\n",
      "[148]\tvalidation_0-logloss:0.347606\tvalidation_1-logloss:0.592638\n",
      "[149]\tvalidation_0-logloss:0.347103\tvalidation_1-logloss:0.592541\n",
      "[150]\tvalidation_0-logloss:0.346547\tvalidation_1-logloss:0.593188\n",
      "[151]\tvalidation_0-logloss:0.346264\tvalidation_1-logloss:0.594684\n",
      "[152]\tvalidation_0-logloss:0.345685\tvalidation_1-logloss:0.594847\n",
      "[153]\tvalidation_0-logloss:0.345343\tvalidation_1-logloss:0.594183\n",
      "[154]\tvalidation_0-logloss:0.344956\tvalidation_1-logloss:0.592532\n",
      "[155]\tvalidation_0-logloss:0.344685\tvalidation_1-logloss:0.593755\n",
      "[156]\tvalidation_0-logloss:0.344268\tvalidation_1-logloss:0.593642\n",
      "[157]\tvalidation_0-logloss:0.3437\tvalidation_1-logloss:0.593034\n",
      "[158]\tvalidation_0-logloss:0.343414\tvalidation_1-logloss:0.591308\n",
      "[159]\tvalidation_0-logloss:0.34299\tvalidation_1-logloss:0.591796\n",
      "[160]\tvalidation_0-logloss:0.342566\tvalidation_1-logloss:0.592231\n",
      "[161]\tvalidation_0-logloss:0.341998\tvalidation_1-logloss:0.592132\n",
      "[162]\tvalidation_0-logloss:0.341766\tvalidation_1-logloss:0.592371\n",
      "[163]\tvalidation_0-logloss:0.341205\tvalidation_1-logloss:0.592089\n",
      "[164]\tvalidation_0-logloss:0.340758\tvalidation_1-logloss:0.591839\n",
      "[165]\tvalidation_0-logloss:0.340285\tvalidation_1-logloss:0.59132\n",
      "[166]\tvalidation_0-logloss:0.339812\tvalidation_1-logloss:0.59194\n",
      "[167]\tvalidation_0-logloss:0.33939\tvalidation_1-logloss:0.590838\n",
      "[168]\tvalidation_0-logloss:0.338978\tvalidation_1-logloss:0.59033\n",
      "[169]\tvalidation_0-logloss:0.338524\tvalidation_1-logloss:0.59302\n",
      "[170]\tvalidation_0-logloss:0.338365\tvalidation_1-logloss:0.593676\n",
      "[171]\tvalidation_0-logloss:0.338228\tvalidation_1-logloss:0.594844\n",
      "[172]\tvalidation_0-logloss:0.337761\tvalidation_1-logloss:0.594151\n",
      "[173]\tvalidation_0-logloss:0.337362\tvalidation_1-logloss:0.595535\n",
      "[174]\tvalidation_0-logloss:0.337001\tvalidation_1-logloss:0.594944\n",
      "[175]\tvalidation_0-logloss:0.336634\tvalidation_1-logloss:0.59491\n",
      "[176]\tvalidation_0-logloss:0.336249\tvalidation_1-logloss:0.594875\n",
      "[177]\tvalidation_0-logloss:0.335806\tvalidation_1-logloss:0.593948\n",
      "[178]\tvalidation_0-logloss:0.335628\tvalidation_1-logloss:0.593281\n",
      "[179]\tvalidation_0-logloss:0.335494\tvalidation_1-logloss:0.594642\n",
      "[180]\tvalidation_0-logloss:0.335216\tvalidation_1-logloss:0.594167\n",
      "[181]\tvalidation_0-logloss:0.334918\tvalidation_1-logloss:0.594355\n",
      "[182]\tvalidation_0-logloss:0.334496\tvalidation_1-logloss:0.592679\n",
      "[183]\tvalidation_0-logloss:0.33413\tvalidation_1-logloss:0.592931\n",
      "[184]\tvalidation_0-logloss:0.333761\tvalidation_1-logloss:0.594553\n",
      "[185]\tvalidation_0-logloss:0.333507\tvalidation_1-logloss:0.594167\n",
      "[186]\tvalidation_0-logloss:0.333099\tvalidation_1-logloss:0.596127\n",
      "[187]\tvalidation_0-logloss:0.33293\tvalidation_1-logloss:0.596223\n",
      "[188]\tvalidation_0-logloss:0.33271\tvalidation_1-logloss:0.596422\n",
      "[189]\tvalidation_0-logloss:0.332333\tvalidation_1-logloss:0.594991\n",
      "[190]\tvalidation_0-logloss:0.332017\tvalidation_1-logloss:0.595218\n",
      "[191]\tvalidation_0-logloss:0.331867\tvalidation_1-logloss:0.59583\n",
      "[192]\tvalidation_0-logloss:0.331666\tvalidation_1-logloss:0.595079\n",
      "[193]\tvalidation_0-logloss:0.331293\tvalidation_1-logloss:0.596817\n",
      "[194]\tvalidation_0-logloss:0.330947\tvalidation_1-logloss:0.596621\n",
      "[195]\tvalidation_0-logloss:0.330726\tvalidation_1-logloss:0.596565\n",
      "[196]\tvalidation_0-logloss:0.330322\tvalidation_1-logloss:0.595656\n",
      "[197]\tvalidation_0-logloss:0.33008\tvalidation_1-logloss:0.594973\n",
      "[198]\tvalidation_0-logloss:0.329946\tvalidation_1-logloss:0.59498\n",
      "[199]\tvalidation_0-logloss:0.329692\tvalidation_1-logloss:0.595001\n",
      "[200]\tvalidation_0-logloss:0.329371\tvalidation_1-logloss:0.597498\n",
      "[201]\tvalidation_0-logloss:0.329127\tvalidation_1-logloss:0.596584\n",
      "[202]\tvalidation_0-logloss:0.328811\tvalidation_1-logloss:0.597756\n",
      "[203]\tvalidation_0-logloss:0.328711\tvalidation_1-logloss:0.598462\n",
      "[204]\tvalidation_0-logloss:0.328543\tvalidation_1-logloss:0.59878\n",
      "[205]\tvalidation_0-logloss:0.328329\tvalidation_1-logloss:0.59856\n",
      "[206]\tvalidation_0-logloss:0.328118\tvalidation_1-logloss:0.598777\n",
      "[207]\tvalidation_0-logloss:0.32784\tvalidation_1-logloss:0.598804\n",
      "[208]\tvalidation_0-logloss:0.327591\tvalidation_1-logloss:0.598895\n",
      "[209]\tvalidation_0-logloss:0.327365\tvalidation_1-logloss:0.598721\n",
      "[210]\tvalidation_0-logloss:0.327087\tvalidation_1-logloss:0.597777\n",
      "[211]\tvalidation_0-logloss:0.32679\tvalidation_1-logloss:0.598324\n",
      "[212]\tvalidation_0-logloss:0.326484\tvalidation_1-logloss:0.596817\n",
      "[213]\tvalidation_0-logloss:0.326266\tvalidation_1-logloss:0.596559\n",
      "[214]\tvalidation_0-logloss:0.32599\tvalidation_1-logloss:0.599204\n",
      "[215]\tvalidation_0-logloss:0.325749\tvalidation_1-logloss:0.599072\n",
      "[216]\tvalidation_0-logloss:0.325549\tvalidation_1-logloss:0.599454\n",
      "[217]\tvalidation_0-logloss:0.325376\tvalidation_1-logloss:0.59916\n",
      "[218]\tvalidation_0-logloss:0.325104\tvalidation_1-logloss:0.599825\n",
      "[219]\tvalidation_0-logloss:0.32492\tvalidation_1-logloss:0.599593\n",
      "[220]\tvalidation_0-logloss:0.324761\tvalidation_1-logloss:0.599139\n",
      "[221]\tvalidation_0-logloss:0.324573\tvalidation_1-logloss:0.598655\n",
      "[222]\tvalidation_0-logloss:0.32437\tvalidation_1-logloss:0.598899\n",
      "[223]\tvalidation_0-logloss:0.324158\tvalidation_1-logloss:0.600156\n",
      "[224]\tvalidation_0-logloss:0.323873\tvalidation_1-logloss:0.60082\n",
      "[225]\tvalidation_0-logloss:0.323787\tvalidation_1-logloss:0.600944\n",
      "[226]\tvalidation_0-logloss:0.323565\tvalidation_1-logloss:0.601216\n",
      "[227]\tvalidation_0-logloss:0.32343\tvalidation_1-logloss:0.601704\n",
      "[228]\tvalidation_0-logloss:0.323299\tvalidation_1-logloss:0.601304\n",
      "[229]\tvalidation_0-logloss:0.323057\tvalidation_1-logloss:0.600737\n",
      "[230]\tvalidation_0-logloss:0.322844\tvalidation_1-logloss:0.598894\n",
      "[231]\tvalidation_0-logloss:0.32261\tvalidation_1-logloss:0.59968\n",
      "[232]\tvalidation_0-logloss:0.322411\tvalidation_1-logloss:0.600513\n",
      "[233]\tvalidation_0-logloss:0.322158\tvalidation_1-logloss:0.599425\n",
      "[234]\tvalidation_0-logloss:0.321926\tvalidation_1-logloss:0.59949\n",
      "[235]\tvalidation_0-logloss:0.321685\tvalidation_1-logloss:0.599753\n",
      "[236]\tvalidation_0-logloss:0.321351\tvalidation_1-logloss:0.60087\n",
      "[237]\tvalidation_0-logloss:0.321156\tvalidation_1-logloss:0.602309\n",
      "[238]\tvalidation_0-logloss:0.32104\tvalidation_1-logloss:0.602885\n",
      "[239]\tvalidation_0-logloss:0.320896\tvalidation_1-logloss:0.603179\n",
      "[240]\tvalidation_0-logloss:0.320772\tvalidation_1-logloss:0.602744\n",
      "[241]\tvalidation_0-logloss:0.320581\tvalidation_1-logloss:0.603105\n",
      "[242]\tvalidation_0-logloss:0.320513\tvalidation_1-logloss:0.603231\n",
      "[243]\tvalidation_0-logloss:0.320302\tvalidation_1-logloss:0.605725\n",
      "[244]\tvalidation_0-logloss:0.320092\tvalidation_1-logloss:0.605499\n",
      "[245]\tvalidation_0-logloss:0.319909\tvalidation_1-logloss:0.605461\n",
      "[246]\tvalidation_0-logloss:0.319659\tvalidation_1-logloss:0.604919\n",
      "[247]\tvalidation_0-logloss:0.319573\tvalidation_1-logloss:0.605008\n",
      "[248]\tvalidation_0-logloss:0.319361\tvalidation_1-logloss:0.605146\n",
      "[249]\tvalidation_0-logloss:0.319154\tvalidation_1-logloss:0.603894\n",
      "[250]\tvalidation_0-logloss:0.319045\tvalidation_1-logloss:0.604569\n",
      "[251]\tvalidation_0-logloss:0.318788\tvalidation_1-logloss:0.603628\n",
      "[252]\tvalidation_0-logloss:0.318549\tvalidation_1-logloss:0.60341\n",
      "[253]\tvalidation_0-logloss:0.318408\tvalidation_1-logloss:0.604546\n",
      "[254]\tvalidation_0-logloss:0.318141\tvalidation_1-logloss:0.606074\n",
      "[255]\tvalidation_0-logloss:0.317949\tvalidation_1-logloss:0.606213\n",
      "[256]\tvalidation_0-logloss:0.317724\tvalidation_1-logloss:0.60507\n",
      "[257]\tvalidation_0-logloss:0.31757\tvalidation_1-logloss:0.605043\n",
      "[258]\tvalidation_0-logloss:0.317462\tvalidation_1-logloss:0.605668\n",
      "[259]\tvalidation_0-logloss:0.317244\tvalidation_1-logloss:0.607414\n",
      "[260]\tvalidation_0-logloss:0.317069\tvalidation_1-logloss:0.606957\n",
      "[261]\tvalidation_0-logloss:0.316929\tvalidation_1-logloss:0.605918\n",
      "[262]\tvalidation_0-logloss:0.316735\tvalidation_1-logloss:0.604834\n",
      "[263]\tvalidation_0-logloss:0.316595\tvalidation_1-logloss:0.605922\n",
      "[264]\tvalidation_0-logloss:0.316377\tvalidation_1-logloss:0.606106\n",
      "[265]\tvalidation_0-logloss:0.316175\tvalidation_1-logloss:0.605711\n",
      "[266]\tvalidation_0-logloss:0.316092\tvalidation_1-logloss:0.605135\n",
      "[267]\tvalidation_0-logloss:0.315928\tvalidation_1-logloss:0.607646\n",
      "[268]\tvalidation_0-logloss:0.315792\tvalidation_1-logloss:0.607452\n",
      "[269]\tvalidation_0-logloss:0.315626\tvalidation_1-logloss:0.606279\n",
      "[270]\tvalidation_0-logloss:0.315498\tvalidation_1-logloss:0.605642\n",
      "[271]\tvalidation_0-logloss:0.315387\tvalidation_1-logloss:0.605308\n",
      "[272]\tvalidation_0-logloss:0.315278\tvalidation_1-logloss:0.604968\n",
      "[273]\tvalidation_0-logloss:0.315104\tvalidation_1-logloss:0.606437\n",
      "[274]\tvalidation_0-logloss:0.314929\tvalidation_1-logloss:0.607061\n",
      "[275]\tvalidation_0-logloss:0.314819\tvalidation_1-logloss:0.60673\n",
      "[276]\tvalidation_0-logloss:0.314607\tvalidation_1-logloss:0.607562\n",
      "[277]\tvalidation_0-logloss:0.314434\tvalidation_1-logloss:0.60741\n",
      "[278]\tvalidation_0-logloss:0.314335\tvalidation_1-logloss:0.607218\n",
      "[279]\tvalidation_0-logloss:0.314181\tvalidation_1-logloss:0.606897\n",
      "[280]\tvalidation_0-logloss:0.314084\tvalidation_1-logloss:0.606368\n",
      "[281]\tvalidation_0-logloss:0.313918\tvalidation_1-logloss:0.606712\n",
      "[282]\tvalidation_0-logloss:0.31376\tvalidation_1-logloss:0.606623\n",
      "[283]\tvalidation_0-logloss:0.313646\tvalidation_1-logloss:0.60684\n",
      "[284]\tvalidation_0-logloss:0.313484\tvalidation_1-logloss:0.607506\n",
      "[285]\tvalidation_0-logloss:0.313396\tvalidation_1-logloss:0.607894\n",
      "[286]\tvalidation_0-logloss:0.313241\tvalidation_1-logloss:0.60845\n",
      "[287]\tvalidation_0-logloss:0.313091\tvalidation_1-logloss:0.608603\n",
      "[288]\tvalidation_0-logloss:0.312926\tvalidation_1-logloss:0.608116\n",
      "[289]\tvalidation_0-logloss:0.312825\tvalidation_1-logloss:0.608267\n",
      "[290]\tvalidation_0-logloss:0.312744\tvalidation_1-logloss:0.608339\n",
      "[291]\tvalidation_0-logloss:0.312667\tvalidation_1-logloss:0.60814\n",
      "[292]\tvalidation_0-logloss:0.312591\tvalidation_1-logloss:0.608267\n",
      "[293]\tvalidation_0-logloss:0.312434\tvalidation_1-logloss:0.607498\n",
      "[294]\tvalidation_0-logloss:0.312299\tvalidation_1-logloss:0.607545\n",
      "[295]\tvalidation_0-logloss:0.312174\tvalidation_1-logloss:0.607744\n",
      "[296]\tvalidation_0-logloss:0.31211\tvalidation_1-logloss:0.608407\n",
      "[297]\tvalidation_0-logloss:0.311956\tvalidation_1-logloss:0.608373\n",
      "[298]\tvalidation_0-logloss:0.311865\tvalidation_1-logloss:0.609097\n",
      "[299]\tvalidation_0-logloss:0.311793\tvalidation_1-logloss:0.608507\n",
      "[300]\tvalidation_0-logloss:0.311668\tvalidation_1-logloss:0.607974\n",
      "[301]\tvalidation_0-logloss:0.31158\tvalidation_1-logloss:0.608076\n",
      "[302]\tvalidation_0-logloss:0.311476\tvalidation_1-logloss:0.608042\n",
      "[303]\tvalidation_0-logloss:0.311409\tvalidation_1-logloss:0.608274\n",
      "[304]\tvalidation_0-logloss:0.311348\tvalidation_1-logloss:0.60901\n",
      "[305]\tvalidation_0-logloss:0.31122\tvalidation_1-logloss:0.609661\n",
      "[306]\tvalidation_0-logloss:0.311135\tvalidation_1-logloss:0.609683\n",
      "[307]\tvalidation_0-logloss:0.311037\tvalidation_1-logloss:0.609241\n",
      "[308]\tvalidation_0-logloss:0.31092\tvalidation_1-logloss:0.609216\n",
      "[309]\tvalidation_0-logloss:0.310809\tvalidation_1-logloss:0.608527\n",
      "[310]\tvalidation_0-logloss:0.310687\tvalidation_1-logloss:0.608725\n",
      "[311]\tvalidation_0-logloss:0.310631\tvalidation_1-logloss:0.609309\n",
      "[312]\tvalidation_0-logloss:0.310484\tvalidation_1-logloss:0.608489\n",
      "[313]\tvalidation_0-logloss:0.310426\tvalidation_1-logloss:0.60777\n",
      "[314]\tvalidation_0-logloss:0.310327\tvalidation_1-logloss:0.607524\n",
      "[315]\tvalidation_0-logloss:0.310206\tvalidation_1-logloss:0.607176\n",
      "[316]\tvalidation_0-logloss:0.310094\tvalidation_1-logloss:0.607094\n",
      "[317]\tvalidation_0-logloss:0.309994\tvalidation_1-logloss:0.607381\n",
      "[318]\tvalidation_0-logloss:0.309904\tvalidation_1-logloss:0.608139\n",
      "[319]\tvalidation_0-logloss:0.30978\tvalidation_1-logloss:0.607098\n",
      "[320]\tvalidation_0-logloss:0.309718\tvalidation_1-logloss:0.606941\n",
      "[321]\tvalidation_0-logloss:0.309662\tvalidation_1-logloss:0.606767\n",
      "[322]\tvalidation_0-logloss:0.309589\tvalidation_1-logloss:0.606839\n",
      "[323]\tvalidation_0-logloss:0.309482\tvalidation_1-logloss:0.606177\n",
      "[324]\tvalidation_0-logloss:0.309381\tvalidation_1-logloss:0.606069\n",
      "[325]\tvalidation_0-logloss:0.309263\tvalidation_1-logloss:0.606248\n",
      "[326]\tvalidation_0-logloss:0.309134\tvalidation_1-logloss:0.605965\n",
      "[327]\tvalidation_0-logloss:0.309087\tvalidation_1-logloss:0.606259\n",
      "[328]\tvalidation_0-logloss:0.30899\tvalidation_1-logloss:0.605758\n",
      "[329]\tvalidation_0-logloss:0.308896\tvalidation_1-logloss:0.605892\n",
      "[330]\tvalidation_0-logloss:0.308854\tvalidation_1-logloss:0.606074\n",
      "[331]\tvalidation_0-logloss:0.308778\tvalidation_1-logloss:0.606248\n",
      "[332]\tvalidation_0-logloss:0.30873\tvalidation_1-logloss:0.605996\n",
      "[333]\tvalidation_0-logloss:0.308619\tvalidation_1-logloss:0.605834\n",
      "[334]\tvalidation_0-logloss:0.308567\tvalidation_1-logloss:0.606262\n",
      "[335]\tvalidation_0-logloss:0.308469\tvalidation_1-logloss:0.606653\n",
      "[336]\tvalidation_0-logloss:0.308403\tvalidation_1-logloss:0.606598\n",
      "[337]\tvalidation_0-logloss:0.308323\tvalidation_1-logloss:0.608587\n",
      "[338]\tvalidation_0-logloss:0.308217\tvalidation_1-logloss:0.608573\n",
      "[339]\tvalidation_0-logloss:0.308128\tvalidation_1-logloss:0.609396\n",
      "[340]\tvalidation_0-logloss:0.308027\tvalidation_1-logloss:0.608179\n",
      "[341]\tvalidation_0-logloss:0.307952\tvalidation_1-logloss:0.607615\n",
      "[342]\tvalidation_0-logloss:0.307871\tvalidation_1-logloss:0.607123\n",
      "[343]\tvalidation_0-logloss:0.307789\tvalidation_1-logloss:0.607414\n",
      "[344]\tvalidation_0-logloss:0.307721\tvalidation_1-logloss:0.607716\n",
      "[345]\tvalidation_0-logloss:0.307683\tvalidation_1-logloss:0.60815\n",
      "[346]\tvalidation_0-logloss:0.307603\tvalidation_1-logloss:0.608615\n",
      "[347]\tvalidation_0-logloss:0.307519\tvalidation_1-logloss:0.608483\n",
      "[348]\tvalidation_0-logloss:0.307422\tvalidation_1-logloss:0.61078\n",
      "[349]\tvalidation_0-logloss:0.307327\tvalidation_1-logloss:0.610378\n",
      "[350]\tvalidation_0-logloss:0.307225\tvalidation_1-logloss:0.610614\n",
      "[351]\tvalidation_0-logloss:0.307134\tvalidation_1-logloss:0.610392\n",
      "[352]\tvalidation_0-logloss:0.307083\tvalidation_1-logloss:0.609899\n",
      "[353]\tvalidation_0-logloss:0.306979\tvalidation_1-logloss:0.60964\n",
      "[354]\tvalidation_0-logloss:0.306895\tvalidation_1-logloss:0.610097\n",
      "[355]\tvalidation_0-logloss:0.306833\tvalidation_1-logloss:0.611728\n",
      "[356]\tvalidation_0-logloss:0.306767\tvalidation_1-logloss:0.611477\n",
      "[357]\tvalidation_0-logloss:0.306673\tvalidation_1-logloss:0.611418\n",
      "[358]\tvalidation_0-logloss:0.306639\tvalidation_1-logloss:0.611635\n",
      "[359]\tvalidation_0-logloss:0.306588\tvalidation_1-logloss:0.611691\n",
      "[360]\tvalidation_0-logloss:0.306509\tvalidation_1-logloss:0.61123\n",
      "[361]\tvalidation_0-logloss:0.306449\tvalidation_1-logloss:0.611595\n",
      "[362]\tvalidation_0-logloss:0.306409\tvalidation_1-logloss:0.611114\n",
      "[363]\tvalidation_0-logloss:0.306348\tvalidation_1-logloss:0.610747\n",
      "[364]\tvalidation_0-logloss:0.306315\tvalidation_1-logloss:0.61096\n",
      "[365]\tvalidation_0-logloss:0.306258\tvalidation_1-logloss:0.610566\n",
      "[366]\tvalidation_0-logloss:0.306145\tvalidation_1-logloss:0.611575\n",
      "[367]\tvalidation_0-logloss:0.3061\tvalidation_1-logloss:0.611306\n",
      "[368]\tvalidation_0-logloss:0.306052\tvalidation_1-logloss:0.611291\n",
      "[369]\tvalidation_0-logloss:0.306013\tvalidation_1-logloss:0.611493\n",
      "[370]\tvalidation_0-logloss:0.305932\tvalidation_1-logloss:0.611239\n",
      "[371]\tvalidation_0-logloss:0.305846\tvalidation_1-logloss:0.612567\n",
      "[372]\tvalidation_0-logloss:0.305775\tvalidation_1-logloss:0.613275\n",
      "[373]\tvalidation_0-logloss:0.3057\tvalidation_1-logloss:0.612881\n",
      "[374]\tvalidation_0-logloss:0.305644\tvalidation_1-logloss:0.614145\n",
      "[375]\tvalidation_0-logloss:0.305568\tvalidation_1-logloss:0.613429\n",
      "[376]\tvalidation_0-logloss:0.305482\tvalidation_1-logloss:0.613833\n",
      "[377]\tvalidation_0-logloss:0.30543\tvalidation_1-logloss:0.613294\n",
      "[378]\tvalidation_0-logloss:0.305373\tvalidation_1-logloss:0.613717\n",
      "[379]\tvalidation_0-logloss:0.305299\tvalidation_1-logloss:0.613717\n",
      "[380]\tvalidation_0-logloss:0.305222\tvalidation_1-logloss:0.613038\n",
      "[381]\tvalidation_0-logloss:0.305169\tvalidation_1-logloss:0.613357\n",
      "[382]\tvalidation_0-logloss:0.305102\tvalidation_1-logloss:0.612767\n",
      "[383]\tvalidation_0-logloss:0.305049\tvalidation_1-logloss:0.612327\n",
      "[384]\tvalidation_0-logloss:0.304977\tvalidation_1-logloss:0.612064\n",
      "[385]\tvalidation_0-logloss:0.304903\tvalidation_1-logloss:0.614387\n",
      "[386]\tvalidation_0-logloss:0.304842\tvalidation_1-logloss:0.614463\n",
      "[387]\tvalidation_0-logloss:0.304811\tvalidation_1-logloss:0.614474\n",
      "[388]\tvalidation_0-logloss:0.304742\tvalidation_1-logloss:0.61385\n",
      "[389]\tvalidation_0-logloss:0.304714\tvalidation_1-logloss:0.614195\n",
      "[390]\tvalidation_0-logloss:0.304615\tvalidation_1-logloss:0.614643\n",
      "[391]\tvalidation_0-logloss:0.304576\tvalidation_1-logloss:0.614869\n",
      "[392]\tvalidation_0-logloss:0.304537\tvalidation_1-logloss:0.614571\n",
      "[393]\tvalidation_0-logloss:0.304503\tvalidation_1-logloss:0.615062\n",
      "[394]\tvalidation_0-logloss:0.304469\tvalidation_1-logloss:0.615048\n",
      "[395]\tvalidation_0-logloss:0.304416\tvalidation_1-logloss:0.615327\n",
      "[396]\tvalidation_0-logloss:0.304362\tvalidation_1-logloss:0.6161\n",
      "[397]\tvalidation_0-logloss:0.304286\tvalidation_1-logloss:0.616489\n",
      "[398]\tvalidation_0-logloss:0.30424\tvalidation_1-logloss:0.61664\n",
      "[399]\tvalidation_0-logloss:0.304176\tvalidation_1-logloss:0.616121\n"
     ]
    }
   ],
   "source": [
    "breadth_depth_left_train_features = [np.concatenate((urlToEmbedding(url, \"breadth\"), urlToEmbedding(url, \"depth\")), axis=None) for url in left_train]\n",
    "breadth_depth_left_test_features = [np.concatenate((urlToEmbedding(url, \"breadth\"), urlToEmbedding(url, \"depth\")), axis=None) for url in left_test]\n",
    "breadth_depth_right_train_features = [np.concatenate((urlToEmbedding(url, \"breadth\"), urlToEmbedding(url, \"depth\")), axis=None) for url in right_train]\n",
    "breadth_depth_right_test_features = [np.concatenate((urlToEmbedding(url, \"breadth\"), urlToEmbedding(url, \"depth\")), axis=None) for url in right_test]\n",
    "\n",
    "breadth_depth_train_input, breadth_depth_train_output = createEvalSet(breadth_depth_right_train_features, breadth_depth_left_train_features)\n",
    "breadth_depth_test_input, breadth_depth_test_output = createEvalSet(breadth_depth_right_test_features, breadth_depth_left_test_features)\n",
    "\n",
    "breadth_depth_clf = XGBClassifier(n_estimators=400) \n",
    "\n",
    "\n",
    "breadth_depth_full = breadth_depth_clf.fit(breadth_depth_train_input, breadth_depth_train_output,\n",
    "        eval_set=[(breadth_depth_train_input, breadth_depth_train_output), (breadth_depth_test_input, breadth_depth_test_output)],\n",
    "        eval_metric='logloss',\n",
    "        verbose=True)"
   ]
  },
  {
   "cell_type": "code",
   "execution_count": 645,
   "metadata": {
    "collapsed": false
   },
   "outputs": [
    {
     "data": {
      "image/png": "[encoded data removed]",
      "text/plain": [
       "<matplotlib.figure.Figure at 0x114de2a90>"
      ]
     },
     "metadata": {},
     "output_type": "display_data"
    }
   ],
   "source": [
    "import matplotlib.pyplot as plt\n",
    "\n",
    "breadth_depth_results_full = breadth_depth_full.evals_result()\n",
    "\n",
    "plt.plot(range(len(breadth_depth_results_full['validation_0']['logloss'])), breadth_depth_results_full['validation_0']['logloss'], label='Train')\n",
    "plt.plot(range(len(breadth_depth_results_full['validation_1']['logloss'])), breadth_depth_results_full['validation_1']['logloss'], label='Test')\n",
    "\n",
    "plt.xlabel('Iteration')\n",
    "plt.ylabel('Log Loss')\n",
    "plt.title('Log Loss for Breadth Depth Sum Models')\n",
    "plt.legend()\n",
    "plt.savefig('logloss_breadth_depth_concat.png')\n"
   ]
  },
  {
   "cell_type": "code",
   "execution_count": 647,
   "metadata": {
    "collapsed": false
   },
   "outputs": [
    {
     "name": "stdout",
     "output_type": "stream",
     "text": [
      "[0]\tvalidation_0-logloss:0.682526\tvalidation_1-logloss:0.691942\n",
      "[1]\tvalidation_0-logloss:0.673904\tvalidation_1-logloss:0.686529\n",
      "[2]\tvalidation_0-logloss:0.665297\tvalidation_1-logloss:0.680607\n",
      "[3]\tvalidation_0-logloss:0.658007\tvalidation_1-logloss:0.670785\n",
      "[4]\tvalidation_0-logloss:0.651388\tvalidation_1-logloss:0.669439\n",
      "[5]\tvalidation_0-logloss:0.643557\tvalidation_1-logloss:0.663879\n",
      "[6]\tvalidation_0-logloss:0.635373\tvalidation_1-logloss:0.659476\n",
      "[7]\tvalidation_0-logloss:0.627131\tvalidation_1-logloss:0.65976\n",
      "[8]\tvalidation_0-logloss:0.62145\tvalidation_1-logloss:0.658955\n",
      "[9]\tvalidation_0-logloss:0.613472\tvalidation_1-logloss:0.650503\n",
      "[10]\tvalidation_0-logloss:0.606614\tvalidation_1-logloss:0.646755\n",
      "[11]\tvalidation_0-logloss:0.599592\tvalidation_1-logloss:0.639937\n",
      "[12]\tvalidation_0-logloss:0.592615\tvalidation_1-logloss:0.636761\n",
      "[13]\tvalidation_0-logloss:0.587066\tvalidation_1-logloss:0.630545\n",
      "[14]\tvalidation_0-logloss:0.581043\tvalidation_1-logloss:0.625925\n",
      "[15]\tvalidation_0-logloss:0.575711\tvalidation_1-logloss:0.627775\n",
      "[16]\tvalidation_0-logloss:0.569553\tvalidation_1-logloss:0.624135\n",
      "[17]\tvalidation_0-logloss:0.563922\tvalidation_1-logloss:0.623679\n",
      "[18]\tvalidation_0-logloss:0.560081\tvalidation_1-logloss:0.622187\n",
      "[19]\tvalidation_0-logloss:0.554922\tvalidation_1-logloss:0.619558\n",
      "[20]\tvalidation_0-logloss:0.551582\tvalidation_1-logloss:0.61697\n",
      "[21]\tvalidation_0-logloss:0.546774\tvalidation_1-logloss:0.618956\n",
      "[22]\tvalidation_0-logloss:0.542379\tvalidation_1-logloss:0.614626\n",
      "[23]\tvalidation_0-logloss:0.539155\tvalidation_1-logloss:0.611601\n",
      "[24]\tvalidation_0-logloss:0.534404\tvalidation_1-logloss:0.610928\n",
      "[25]\tvalidation_0-logloss:0.530412\tvalidation_1-logloss:0.611172\n",
      "[26]\tvalidation_0-logloss:0.527103\tvalidation_1-logloss:0.607626\n",
      "[27]\tvalidation_0-logloss:0.524021\tvalidation_1-logloss:0.605212\n",
      "[28]\tvalidation_0-logloss:0.519472\tvalidation_1-logloss:0.605249\n",
      "[29]\tvalidation_0-logloss:0.517409\tvalidation_1-logloss:0.604054\n",
      "[30]\tvalidation_0-logloss:0.51319\tvalidation_1-logloss:0.603408\n",
      "[31]\tvalidation_0-logloss:0.508916\tvalidation_1-logloss:0.598747\n",
      "[32]\tvalidation_0-logloss:0.505114\tvalidation_1-logloss:0.592559\n",
      "[33]\tvalidation_0-logloss:0.502413\tvalidation_1-logloss:0.593385\n",
      "[34]\tvalidation_0-logloss:0.499877\tvalidation_1-logloss:0.590355\n",
      "[35]\tvalidation_0-logloss:0.496975\tvalidation_1-logloss:0.591318\n",
      "[36]\tvalidation_0-logloss:0.495139\tvalidation_1-logloss:0.591524\n",
      "[37]\tvalidation_0-logloss:0.49264\tvalidation_1-logloss:0.590341\n",
      "[38]\tvalidation_0-logloss:0.489299\tvalidation_1-logloss:0.590481\n",
      "[39]\tvalidation_0-logloss:0.486074\tvalidation_1-logloss:0.59173\n",
      "[40]\tvalidation_0-logloss:0.4833\tvalidation_1-logloss:0.592479\n",
      "[41]\tvalidation_0-logloss:0.481277\tvalidation_1-logloss:0.592836\n",
      "[42]\tvalidation_0-logloss:0.479092\tvalidation_1-logloss:0.592659\n",
      "[43]\tvalidation_0-logloss:0.477123\tvalidation_1-logloss:0.593242\n",
      "[44]\tvalidation_0-logloss:0.475947\tvalidation_1-logloss:0.593305\n",
      "[45]\tvalidation_0-logloss:0.474496\tvalidation_1-logloss:0.591478\n",
      "[46]\tvalidation_0-logloss:0.471988\tvalidation_1-logloss:0.591649\n",
      "[47]\tvalidation_0-logloss:0.470383\tvalidation_1-logloss:0.593949\n",
      "[48]\tvalidation_0-logloss:0.467358\tvalidation_1-logloss:0.594424\n",
      "[49]\tvalidation_0-logloss:0.464561\tvalidation_1-logloss:0.595832\n",
      "[50]\tvalidation_0-logloss:0.462336\tvalidation_1-logloss:0.597875\n",
      "[51]\tvalidation_0-logloss:0.459953\tvalidation_1-logloss:0.598178\n",
      "[52]\tvalidation_0-logloss:0.457506\tvalidation_1-logloss:0.598986\n",
      "[53]\tvalidation_0-logloss:0.454813\tvalidation_1-logloss:0.597143\n",
      "[54]\tvalidation_0-logloss:0.452567\tvalidation_1-logloss:0.594328\n",
      "[55]\tvalidation_0-logloss:0.450025\tvalidation_1-logloss:0.59185\n",
      "[56]\tvalidation_0-logloss:0.448523\tvalidation_1-logloss:0.592088\n",
      "[57]\tvalidation_0-logloss:0.44707\tvalidation_1-logloss:0.591717\n",
      "[58]\tvalidation_0-logloss:0.445297\tvalidation_1-logloss:0.590021\n",
      "[59]\tvalidation_0-logloss:0.443838\tvalidation_1-logloss:0.591099\n",
      "[60]\tvalidation_0-logloss:0.442958\tvalidation_1-logloss:0.59081\n",
      "[61]\tvalidation_0-logloss:0.441815\tvalidation_1-logloss:0.589916\n",
      "[62]\tvalidation_0-logloss:0.439541\tvalidation_1-logloss:0.591751\n",
      "[63]\tvalidation_0-logloss:0.438261\tvalidation_1-logloss:0.593016\n",
      "[64]\tvalidation_0-logloss:0.437065\tvalidation_1-logloss:0.59329\n",
      "[65]\tvalidation_0-logloss:0.436278\tvalidation_1-logloss:0.59236\n",
      "[66]\tvalidation_0-logloss:0.43524\tvalidation_1-logloss:0.590321\n",
      "[67]\tvalidation_0-logloss:0.432814\tvalidation_1-logloss:0.589821\n",
      "[68]\tvalidation_0-logloss:0.431737\tvalidation_1-logloss:0.589451\n",
      "[69]\tvalidation_0-logloss:0.430975\tvalidation_1-logloss:0.587868\n",
      "[70]\tvalidation_0-logloss:0.43003\tvalidation_1-logloss:0.587132\n",
      "[71]\tvalidation_0-logloss:0.428312\tvalidation_1-logloss:0.586248\n",
      "[72]\tvalidation_0-logloss:0.42748\tvalidation_1-logloss:0.587\n",
      "[73]\tvalidation_0-logloss:0.426596\tvalidation_1-logloss:0.585594\n",
      "[74]\tvalidation_0-logloss:0.424832\tvalidation_1-logloss:0.585266\n",
      "[75]\tvalidation_0-logloss:0.42367\tvalidation_1-logloss:0.584183\n",
      "[76]\tvalidation_0-logloss:0.423017\tvalidation_1-logloss:0.584617\n",
      "[77]\tvalidation_0-logloss:0.420683\tvalidation_1-logloss:0.585738\n",
      "[78]\tvalidation_0-logloss:0.419034\tvalidation_1-logloss:0.584312\n",
      "[79]\tvalidation_0-logloss:0.418271\tvalidation_1-logloss:0.58292\n",
      "[80]\tvalidation_0-logloss:0.416746\tvalidation_1-logloss:0.584065\n",
      "[81]\tvalidation_0-logloss:0.415296\tvalidation_1-logloss:0.582916\n",
      "[82]\tvalidation_0-logloss:0.413434\tvalidation_1-logloss:0.582457\n",
      "[83]\tvalidation_0-logloss:0.41174\tvalidation_1-logloss:0.582228\n",
      "[84]\tvalidation_0-logloss:0.410113\tvalidation_1-logloss:0.582265\n",
      "[85]\tvalidation_0-logloss:0.409383\tvalidation_1-logloss:0.582781\n",
      "[86]\tvalidation_0-logloss:0.408323\tvalidation_1-logloss:0.584437\n",
      "[87]\tvalidation_0-logloss:0.406689\tvalidation_1-logloss:0.583908\n",
      "[88]\tvalidation_0-logloss:0.405343\tvalidation_1-logloss:0.584569\n",
      "[89]\tvalidation_0-logloss:0.403749\tvalidation_1-logloss:0.582838\n",
      "[90]\tvalidation_0-logloss:0.402528\tvalidation_1-logloss:0.581317\n",
      "[91]\tvalidation_0-logloss:0.401493\tvalidation_1-logloss:0.582163\n",
      "[92]\tvalidation_0-logloss:0.40068\tvalidation_1-logloss:0.581608\n",
      "[93]\tvalidation_0-logloss:0.398838\tvalidation_1-logloss:0.58235\n",
      "[94]\tvalidation_0-logloss:0.397898\tvalidation_1-logloss:0.581577\n",
      "[95]\tvalidation_0-logloss:0.396627\tvalidation_1-logloss:0.581934\n",
      "[96]\tvalidation_0-logloss:0.396051\tvalidation_1-logloss:0.580975\n",
      "[97]\tvalidation_0-logloss:0.395319\tvalidation_1-logloss:0.581981\n",
      "[98]\tvalidation_0-logloss:0.393967\tvalidation_1-logloss:0.582247\n",
      "[99]\tvalidation_0-logloss:0.39264\tvalidation_1-logloss:0.581806\n",
      "[100]\tvalidation_0-logloss:0.391918\tvalidation_1-logloss:0.580378\n",
      "[101]\tvalidation_0-logloss:0.390731\tvalidation_1-logloss:0.579912\n",
      "[102]\tvalidation_0-logloss:0.389218\tvalidation_1-logloss:0.580701\n",
      "[103]\tvalidation_0-logloss:0.388568\tvalidation_1-logloss:0.579766\n",
      "[104]\tvalidation_0-logloss:0.38754\tvalidation_1-logloss:0.579498\n",
      "[105]\tvalidation_0-logloss:0.387008\tvalidation_1-logloss:0.578946\n",
      "[106]\tvalidation_0-logloss:0.386208\tvalidation_1-logloss:0.577962\n",
      "[107]\tvalidation_0-logloss:0.385208\tvalidation_1-logloss:0.57793\n",
      "[108]\tvalidation_0-logloss:0.384446\tvalidation_1-logloss:0.5772\n",
      "[109]\tvalidation_0-logloss:0.384009\tvalidation_1-logloss:0.576435\n",
      "[110]\tvalidation_0-logloss:0.382818\tvalidation_1-logloss:0.576157\n",
      "[111]\tvalidation_0-logloss:0.381916\tvalidation_1-logloss:0.575511\n",
      "[112]\tvalidation_0-logloss:0.381019\tvalidation_1-logloss:0.575798\n",
      "[113]\tvalidation_0-logloss:0.380597\tvalidation_1-logloss:0.575647\n",
      "[114]\tvalidation_0-logloss:0.379727\tvalidation_1-logloss:0.575651\n",
      "[115]\tvalidation_0-logloss:0.378704\tvalidation_1-logloss:0.57618\n",
      "[116]\tvalidation_0-logloss:0.37827\tvalidation_1-logloss:0.575779\n",
      "[117]\tvalidation_0-logloss:0.377182\tvalidation_1-logloss:0.575643\n",
      "[118]\tvalidation_0-logloss:0.37646\tvalidation_1-logloss:0.57509\n",
      "[119]\tvalidation_0-logloss:0.375698\tvalidation_1-logloss:0.572539\n",
      "[120]\tvalidation_0-logloss:0.375258\tvalidation_1-logloss:0.572933\n",
      "[121]\tvalidation_0-logloss:0.374868\tvalidation_1-logloss:0.57264\n",
      "[122]\tvalidation_0-logloss:0.373978\tvalidation_1-logloss:0.573067\n",
      "[123]\tvalidation_0-logloss:0.37307\tvalidation_1-logloss:0.574125\n",
      "[124]\tvalidation_0-logloss:0.372502\tvalidation_1-logloss:0.575132\n",
      "[125]\tvalidation_0-logloss:0.371814\tvalidation_1-logloss:0.573358\n",
      "[126]\tvalidation_0-logloss:0.370966\tvalidation_1-logloss:0.574012\n",
      "[127]\tvalidation_0-logloss:0.370017\tvalidation_1-logloss:0.572719\n",
      "[128]\tvalidation_0-logloss:0.369395\tvalidation_1-logloss:0.57266\n",
      "[129]\tvalidation_0-logloss:0.368403\tvalidation_1-logloss:0.572587\n",
      "[130]\tvalidation_0-logloss:0.367781\tvalidation_1-logloss:0.572068\n",
      "[131]\tvalidation_0-logloss:0.366992\tvalidation_1-logloss:0.569491\n",
      "[132]\tvalidation_0-logloss:0.366671\tvalidation_1-logloss:0.568831\n",
      "[133]\tvalidation_0-logloss:0.365798\tvalidation_1-logloss:0.5664\n",
      "[134]\tvalidation_0-logloss:0.365247\tvalidation_1-logloss:0.566429\n",
      "[135]\tvalidation_0-logloss:0.364486\tvalidation_1-logloss:0.567534\n",
      "[136]\tvalidation_0-logloss:0.3641\tvalidation_1-logloss:0.567541\n",
      "[137]\tvalidation_0-logloss:0.363687\tvalidation_1-logloss:0.5691\n",
      "[138]\tvalidation_0-logloss:0.362826\tvalidation_1-logloss:0.568488\n",
      "[139]\tvalidation_0-logloss:0.36227\tvalidation_1-logloss:0.567541\n",
      "[140]\tvalidation_0-logloss:0.361815\tvalidation_1-logloss:0.56822\n",
      "[141]\tvalidation_0-logloss:0.361332\tvalidation_1-logloss:0.568245\n",
      "[142]\tvalidation_0-logloss:0.360646\tvalidation_1-logloss:0.566497\n",
      "[143]\tvalidation_0-logloss:0.35994\tvalidation_1-logloss:0.566944\n",
      "[144]\tvalidation_0-logloss:0.35936\tvalidation_1-logloss:0.569087\n",
      "[145]\tvalidation_0-logloss:0.358701\tvalidation_1-logloss:0.567759\n",
      "[146]\tvalidation_0-logloss:0.358117\tvalidation_1-logloss:0.567484\n",
      "[147]\tvalidation_0-logloss:0.357846\tvalidation_1-logloss:0.566681\n",
      "[148]\tvalidation_0-logloss:0.35752\tvalidation_1-logloss:0.566471\n",
      "[149]\tvalidation_0-logloss:0.356885\tvalidation_1-logloss:0.565874\n",
      "[150]\tvalidation_0-logloss:0.356449\tvalidation_1-logloss:0.567032\n",
      "[151]\tvalidation_0-logloss:0.355972\tvalidation_1-logloss:0.566088\n",
      "[152]\tvalidation_0-logloss:0.355544\tvalidation_1-logloss:0.565597\n",
      "[153]\tvalidation_0-logloss:0.355219\tvalidation_1-logloss:0.564968\n",
      "[154]\tvalidation_0-logloss:0.354918\tvalidation_1-logloss:0.565188\n",
      "[155]\tvalidation_0-logloss:0.354719\tvalidation_1-logloss:0.564898\n",
      "[156]\tvalidation_0-logloss:0.353951\tvalidation_1-logloss:0.566976\n",
      "[157]\tvalidation_0-logloss:0.35343\tvalidation_1-logloss:0.568308\n",
      "[158]\tvalidation_0-logloss:0.352773\tvalidation_1-logloss:0.567341\n",
      "[159]\tvalidation_0-logloss:0.352254\tvalidation_1-logloss:0.567629\n",
      "[160]\tvalidation_0-logloss:0.351898\tvalidation_1-logloss:0.568078\n",
      "[161]\tvalidation_0-logloss:0.351648\tvalidation_1-logloss:0.568228\n",
      "[162]\tvalidation_0-logloss:0.35134\tvalidation_1-logloss:0.568903\n",
      "[163]\tvalidation_0-logloss:0.350943\tvalidation_1-logloss:0.569492\n",
      "[164]\tvalidation_0-logloss:0.350651\tvalidation_1-logloss:0.569499\n",
      "[165]\tvalidation_0-logloss:0.350125\tvalidation_1-logloss:0.568054\n",
      "[166]\tvalidation_0-logloss:0.349561\tvalidation_1-logloss:0.567472\n",
      "[167]\tvalidation_0-logloss:0.349003\tvalidation_1-logloss:0.565651\n",
      "[168]\tvalidation_0-logloss:0.34848\tvalidation_1-logloss:0.56399\n",
      "[169]\tvalidation_0-logloss:0.348066\tvalidation_1-logloss:0.564101\n",
      "[170]\tvalidation_0-logloss:0.347457\tvalidation_1-logloss:0.563565\n",
      "[171]\tvalidation_0-logloss:0.347229\tvalidation_1-logloss:0.563467\n",
      "[172]\tvalidation_0-logloss:0.347008\tvalidation_1-logloss:0.563441\n",
      "[173]\tvalidation_0-logloss:0.346473\tvalidation_1-logloss:0.564568\n",
      "[174]\tvalidation_0-logloss:0.346025\tvalidation_1-logloss:0.564403\n",
      "[175]\tvalidation_0-logloss:0.345711\tvalidation_1-logloss:0.563972\n",
      "[176]\tvalidation_0-logloss:0.34531\tvalidation_1-logloss:0.563612\n",
      "[177]\tvalidation_0-logloss:0.344781\tvalidation_1-logloss:0.564396\n",
      "[178]\tvalidation_0-logloss:0.344425\tvalidation_1-logloss:0.56409\n",
      "[179]\tvalidation_0-logloss:0.344248\tvalidation_1-logloss:0.563007\n",
      "[180]\tvalidation_0-logloss:0.34397\tvalidation_1-logloss:0.56212\n",
      "[181]\tvalidation_0-logloss:0.343539\tvalidation_1-logloss:0.562503\n",
      "[182]\tvalidation_0-logloss:0.343239\tvalidation_1-logloss:0.561599\n",
      "[183]\tvalidation_0-logloss:0.34298\tvalidation_1-logloss:0.562051\n",
      "[184]\tvalidation_0-logloss:0.342458\tvalidation_1-logloss:0.561141\n",
      "[185]\tvalidation_0-logloss:0.342291\tvalidation_1-logloss:0.560899\n",
      "[186]\tvalidation_0-logloss:0.341854\tvalidation_1-logloss:0.561583\n",
      "[187]\tvalidation_0-logloss:0.341575\tvalidation_1-logloss:0.560033\n",
      "[188]\tvalidation_0-logloss:0.341081\tvalidation_1-logloss:0.559876\n",
      "[189]\tvalidation_0-logloss:0.340764\tvalidation_1-logloss:0.55972\n",
      "[190]\tvalidation_0-logloss:0.340344\tvalidation_1-logloss:0.55823\n",
      "[191]\tvalidation_0-logloss:0.339885\tvalidation_1-logloss:0.557597\n",
      "[192]\tvalidation_0-logloss:0.339454\tvalidation_1-logloss:0.556816\n",
      "[193]\tvalidation_0-logloss:0.339073\tvalidation_1-logloss:0.555824\n",
      "[194]\tvalidation_0-logloss:0.338831\tvalidation_1-logloss:0.55553\n",
      "[195]\tvalidation_0-logloss:0.33863\tvalidation_1-logloss:0.555731\n",
      "[196]\tvalidation_0-logloss:0.338324\tvalidation_1-logloss:0.55456\n",
      "[197]\tvalidation_0-logloss:0.338119\tvalidation_1-logloss:0.554196\n",
      "[198]\tvalidation_0-logloss:0.337858\tvalidation_1-logloss:0.553768\n",
      "[199]\tvalidation_0-logloss:0.337621\tvalidation_1-logloss:0.553032\n",
      "[200]\tvalidation_0-logloss:0.337208\tvalidation_1-logloss:0.551285\n",
      "[201]\tvalidation_0-logloss:0.336836\tvalidation_1-logloss:0.550376\n",
      "[202]\tvalidation_0-logloss:0.33666\tvalidation_1-logloss:0.550422\n",
      "[203]\tvalidation_0-logloss:0.336366\tvalidation_1-logloss:0.550398\n",
      "[204]\tvalidation_0-logloss:0.335942\tvalidation_1-logloss:0.548585\n",
      "[205]\tvalidation_0-logloss:0.335627\tvalidation_1-logloss:0.547971\n",
      "[206]\tvalidation_0-logloss:0.335297\tvalidation_1-logloss:0.548294\n",
      "[207]\tvalidation_0-logloss:0.334924\tvalidation_1-logloss:0.54803\n",
      "[208]\tvalidation_0-logloss:0.334549\tvalidation_1-logloss:0.548039\n",
      "[209]\tvalidation_0-logloss:0.334149\tvalidation_1-logloss:0.547665\n",
      "[210]\tvalidation_0-logloss:0.33405\tvalidation_1-logloss:0.547033\n",
      "[211]\tvalidation_0-logloss:0.333745\tvalidation_1-logloss:0.546997\n",
      "[212]\tvalidation_0-logloss:0.333377\tvalidation_1-logloss:0.546723\n",
      "[213]\tvalidation_0-logloss:0.333038\tvalidation_1-logloss:0.545691\n",
      "[214]\tvalidation_0-logloss:0.332684\tvalidation_1-logloss:0.543672\n",
      "[215]\tvalidation_0-logloss:0.332352\tvalidation_1-logloss:0.542209\n",
      "[216]\tvalidation_0-logloss:0.332048\tvalidation_1-logloss:0.540488\n",
      "[217]\tvalidation_0-logloss:0.331748\tvalidation_1-logloss:0.541104\n",
      "[218]\tvalidation_0-logloss:0.331545\tvalidation_1-logloss:0.540923\n",
      "[219]\tvalidation_0-logloss:0.331181\tvalidation_1-logloss:0.539925\n",
      "[220]\tvalidation_0-logloss:0.330925\tvalidation_1-logloss:0.539934\n",
      "[221]\tvalidation_0-logloss:0.330621\tvalidation_1-logloss:0.541133\n",
      "[222]\tvalidation_0-logloss:0.330271\tvalidation_1-logloss:0.53933\n",
      "[223]\tvalidation_0-logloss:0.330002\tvalidation_1-logloss:0.538625\n",
      "[224]\tvalidation_0-logloss:0.329711\tvalidation_1-logloss:0.538631\n",
      "[225]\tvalidation_0-logloss:0.329603\tvalidation_1-logloss:0.539078\n",
      "[226]\tvalidation_0-logloss:0.329321\tvalidation_1-logloss:0.539206\n",
      "[227]\tvalidation_0-logloss:0.329069\tvalidation_1-logloss:0.538539\n",
      "[228]\tvalidation_0-logloss:0.328806\tvalidation_1-logloss:0.539395\n",
      "[229]\tvalidation_0-logloss:0.328584\tvalidation_1-logloss:0.539021\n",
      "[230]\tvalidation_0-logloss:0.328366\tvalidation_1-logloss:0.539268\n",
      "[231]\tvalidation_0-logloss:0.327974\tvalidation_1-logloss:0.539677\n",
      "[232]\tvalidation_0-logloss:0.327833\tvalidation_1-logloss:0.539048\n",
      "[233]\tvalidation_0-logloss:0.327549\tvalidation_1-logloss:0.538912\n",
      "[234]\tvalidation_0-logloss:0.327297\tvalidation_1-logloss:0.538941\n",
      "[235]\tvalidation_0-logloss:0.327086\tvalidation_1-logloss:0.539233\n",
      "[236]\tvalidation_0-logloss:0.326887\tvalidation_1-logloss:0.538397\n",
      "[237]\tvalidation_0-logloss:0.326599\tvalidation_1-logloss:0.537614\n",
      "[238]\tvalidation_0-logloss:0.32634\tvalidation_1-logloss:0.537774\n",
      "[239]\tvalidation_0-logloss:0.326147\tvalidation_1-logloss:0.53776\n",
      "[240]\tvalidation_0-logloss:0.325896\tvalidation_1-logloss:0.536977\n",
      "[241]\tvalidation_0-logloss:0.325748\tvalidation_1-logloss:0.536983\n",
      "[242]\tvalidation_0-logloss:0.325599\tvalidation_1-logloss:0.537114\n",
      "[243]\tvalidation_0-logloss:0.325434\tvalidation_1-logloss:0.53737\n",
      "[244]\tvalidation_0-logloss:0.325188\tvalidation_1-logloss:0.537297\n",
      "[245]\tvalidation_0-logloss:0.325071\tvalidation_1-logloss:0.537557\n",
      "[246]\tvalidation_0-logloss:0.324913\tvalidation_1-logloss:0.538308\n",
      "[247]\tvalidation_0-logloss:0.324719\tvalidation_1-logloss:0.538439\n",
      "[248]\tvalidation_0-logloss:0.324631\tvalidation_1-logloss:0.538273\n",
      "[249]\tvalidation_0-logloss:0.324501\tvalidation_1-logloss:0.539449\n",
      "[250]\tvalidation_0-logloss:0.3244\tvalidation_1-logloss:0.539414\n",
      "[251]\tvalidation_0-logloss:0.324241\tvalidation_1-logloss:0.54051\n",
      "[252]\tvalidation_0-logloss:0.324079\tvalidation_1-logloss:0.540202\n",
      "[253]\tvalidation_0-logloss:0.323957\tvalidation_1-logloss:0.539375\n",
      "[254]\tvalidation_0-logloss:0.323782\tvalidation_1-logloss:0.538139\n",
      "[255]\tvalidation_0-logloss:0.323622\tvalidation_1-logloss:0.538325\n",
      "[256]\tvalidation_0-logloss:0.323495\tvalidation_1-logloss:0.538366\n",
      "[257]\tvalidation_0-logloss:0.323413\tvalidation_1-logloss:0.538257\n",
      "[258]\tvalidation_0-logloss:0.32318\tvalidation_1-logloss:0.53756\n",
      "[259]\tvalidation_0-logloss:0.323102\tvalidation_1-logloss:0.537982\n",
      "[260]\tvalidation_0-logloss:0.322996\tvalidation_1-logloss:0.537505\n",
      "[261]\tvalidation_0-logloss:0.322886\tvalidation_1-logloss:0.537499\n",
      "[262]\tvalidation_0-logloss:0.322716\tvalidation_1-logloss:0.537132\n",
      "[263]\tvalidation_0-logloss:0.32248\tvalidation_1-logloss:0.537787\n",
      "[264]\tvalidation_0-logloss:0.322248\tvalidation_1-logloss:0.538365\n",
      "[265]\tvalidation_0-logloss:0.322191\tvalidation_1-logloss:0.538374\n",
      "[266]\tvalidation_0-logloss:0.322055\tvalidation_1-logloss:0.538209\n",
      "[267]\tvalidation_0-logloss:0.321782\tvalidation_1-logloss:0.536581\n",
      "[268]\tvalidation_0-logloss:0.321568\tvalidation_1-logloss:0.537106\n",
      "[269]\tvalidation_0-logloss:0.321345\tvalidation_1-logloss:0.536897\n",
      "[270]\tvalidation_0-logloss:0.321264\tvalidation_1-logloss:0.537372\n",
      "[271]\tvalidation_0-logloss:0.321146\tvalidation_1-logloss:0.537125\n",
      "[272]\tvalidation_0-logloss:0.320944\tvalidation_1-logloss:0.537694\n",
      "[273]\tvalidation_0-logloss:0.320684\tvalidation_1-logloss:0.537116\n",
      "[274]\tvalidation_0-logloss:0.3205\tvalidation_1-logloss:0.536797\n",
      "[275]\tvalidation_0-logloss:0.320338\tvalidation_1-logloss:0.537053\n",
      "[276]\tvalidation_0-logloss:0.320125\tvalidation_1-logloss:0.537069\n",
      "[277]\tvalidation_0-logloss:0.320052\tvalidation_1-logloss:0.537409\n",
      "[278]\tvalidation_0-logloss:0.319845\tvalidation_1-logloss:0.536537\n",
      "[279]\tvalidation_0-logloss:0.319731\tvalidation_1-logloss:0.536822\n",
      "[280]\tvalidation_0-logloss:0.319576\tvalidation_1-logloss:0.536702\n",
      "[281]\tvalidation_0-logloss:0.319374\tvalidation_1-logloss:0.534946\n",
      "[282]\tvalidation_0-logloss:0.319238\tvalidation_1-logloss:0.534845\n",
      "[283]\tvalidation_0-logloss:0.319047\tvalidation_1-logloss:0.533938\n",
      "[284]\tvalidation_0-logloss:0.318881\tvalidation_1-logloss:0.534099\n",
      "[285]\tvalidation_0-logloss:0.318776\tvalidation_1-logloss:0.534018\n",
      "[286]\tvalidation_0-logloss:0.318524\tvalidation_1-logloss:0.533735\n",
      "[287]\tvalidation_0-logloss:0.318416\tvalidation_1-logloss:0.53337\n",
      "[288]\tvalidation_0-logloss:0.318215\tvalidation_1-logloss:0.531938\n",
      "[289]\tvalidation_0-logloss:0.318057\tvalidation_1-logloss:0.531603\n",
      "[290]\tvalidation_0-logloss:0.317902\tvalidation_1-logloss:0.530411\n",
      "[291]\tvalidation_0-logloss:0.317722\tvalidation_1-logloss:0.530311\n",
      "[292]\tvalidation_0-logloss:0.317509\tvalidation_1-logloss:0.530133\n",
      "[293]\tvalidation_0-logloss:0.317467\tvalidation_1-logloss:0.530691\n",
      "[294]\tvalidation_0-logloss:0.31738\tvalidation_1-logloss:0.530712\n",
      "[295]\tvalidation_0-logloss:0.317306\tvalidation_1-logloss:0.531005\n",
      "[296]\tvalidation_0-logloss:0.317178\tvalidation_1-logloss:0.530699\n",
      "[297]\tvalidation_0-logloss:0.317087\tvalidation_1-logloss:0.530792\n",
      "[298]\tvalidation_0-logloss:0.316935\tvalidation_1-logloss:0.531443\n",
      "[299]\tvalidation_0-logloss:0.316785\tvalidation_1-logloss:0.531297\n",
      "[300]\tvalidation_0-logloss:0.316734\tvalidation_1-logloss:0.531107\n",
      "[301]\tvalidation_0-logloss:0.316602\tvalidation_1-logloss:0.530101\n",
      "[302]\tvalidation_0-logloss:0.316435\tvalidation_1-logloss:0.530538\n",
      "[303]\tvalidation_0-logloss:0.316323\tvalidation_1-logloss:0.530448\n",
      "[304]\tvalidation_0-logloss:0.316176\tvalidation_1-logloss:0.530389\n",
      "[305]\tvalidation_0-logloss:0.316096\tvalidation_1-logloss:0.53062\n",
      "[306]\tvalidation_0-logloss:0.316027\tvalidation_1-logloss:0.530437\n",
      "[307]\tvalidation_0-logloss:0.315975\tvalidation_1-logloss:0.530169\n",
      "[308]\tvalidation_0-logloss:0.31584\tvalidation_1-logloss:0.530656\n",
      "[309]\tvalidation_0-logloss:0.315756\tvalidation_1-logloss:0.531217\n",
      "[310]\tvalidation_0-logloss:0.315574\tvalidation_1-logloss:0.531431\n",
      "[311]\tvalidation_0-logloss:0.315442\tvalidation_1-logloss:0.530799\n",
      "[312]\tvalidation_0-logloss:0.315305\tvalidation_1-logloss:0.53037\n",
      "[313]\tvalidation_0-logloss:0.315224\tvalidation_1-logloss:0.530446\n",
      "[314]\tvalidation_0-logloss:0.31504\tvalidation_1-logloss:0.530595\n",
      "[315]\tvalidation_0-logloss:0.314877\tvalidation_1-logloss:0.530659\n",
      "[316]\tvalidation_0-logloss:0.31478\tvalidation_1-logloss:0.530374\n",
      "[317]\tvalidation_0-logloss:0.31469\tvalidation_1-logloss:0.530171\n",
      "[318]\tvalidation_0-logloss:0.314653\tvalidation_1-logloss:0.530358\n",
      "[319]\tvalidation_0-logloss:0.314501\tvalidation_1-logloss:0.529676\n",
      "[320]\tvalidation_0-logloss:0.314364\tvalidation_1-logloss:0.528649\n",
      "[321]\tvalidation_0-logloss:0.314251\tvalidation_1-logloss:0.529122\n",
      "[322]\tvalidation_0-logloss:0.314104\tvalidation_1-logloss:0.529768\n",
      "[323]\tvalidation_0-logloss:0.313963\tvalidation_1-logloss:0.530049\n",
      "[324]\tvalidation_0-logloss:0.313842\tvalidation_1-logloss:0.530663\n",
      "[325]\tvalidation_0-logloss:0.313762\tvalidation_1-logloss:0.530499\n",
      "[326]\tvalidation_0-logloss:0.313685\tvalidation_1-logloss:0.530942\n",
      "[327]\tvalidation_0-logloss:0.313615\tvalidation_1-logloss:0.530973\n",
      "[328]\tvalidation_0-logloss:0.313555\tvalidation_1-logloss:0.531745\n",
      "[329]\tvalidation_0-logloss:0.313465\tvalidation_1-logloss:0.532223\n",
      "[330]\tvalidation_0-logloss:0.313339\tvalidation_1-logloss:0.532372\n",
      "[331]\tvalidation_0-logloss:0.31322\tvalidation_1-logloss:0.532256\n",
      "[332]\tvalidation_0-logloss:0.313097\tvalidation_1-logloss:0.531399\n",
      "[333]\tvalidation_0-logloss:0.312968\tvalidation_1-logloss:0.531807\n",
      "[334]\tvalidation_0-logloss:0.312906\tvalidation_1-logloss:0.530887\n",
      "[335]\tvalidation_0-logloss:0.312785\tvalidation_1-logloss:0.531421\n",
      "[336]\tvalidation_0-logloss:0.31267\tvalidation_1-logloss:0.531314\n",
      "[337]\tvalidation_0-logloss:0.31255\tvalidation_1-logloss:0.530904\n",
      "[338]\tvalidation_0-logloss:0.312516\tvalidation_1-logloss:0.531265\n",
      "[339]\tvalidation_0-logloss:0.312442\tvalidation_1-logloss:0.531646\n",
      "[340]\tvalidation_0-logloss:0.312393\tvalidation_1-logloss:0.531258\n",
      "[341]\tvalidation_0-logloss:0.312338\tvalidation_1-logloss:0.530912\n",
      "[342]\tvalidation_0-logloss:0.312265\tvalidation_1-logloss:0.531385\n",
      "[343]\tvalidation_0-logloss:0.312208\tvalidation_1-logloss:0.531662\n",
      "[344]\tvalidation_0-logloss:0.312117\tvalidation_1-logloss:0.532121\n",
      "[345]\tvalidation_0-logloss:0.311992\tvalidation_1-logloss:0.532825\n",
      "[346]\tvalidation_0-logloss:0.31196\tvalidation_1-logloss:0.532844\n",
      "[347]\tvalidation_0-logloss:0.311855\tvalidation_1-logloss:0.53306\n",
      "[348]\tvalidation_0-logloss:0.31174\tvalidation_1-logloss:0.531878\n",
      "[349]\tvalidation_0-logloss:0.311625\tvalidation_1-logloss:0.532735\n",
      "[350]\tvalidation_0-logloss:0.311584\tvalidation_1-logloss:0.532564\n",
      "[351]\tvalidation_0-logloss:0.311471\tvalidation_1-logloss:0.532563\n",
      "[352]\tvalidation_0-logloss:0.311349\tvalidation_1-logloss:0.531449\n",
      "[353]\tvalidation_0-logloss:0.311279\tvalidation_1-logloss:0.531101\n",
      "[354]\tvalidation_0-logloss:0.311157\tvalidation_1-logloss:0.530947\n",
      "[355]\tvalidation_0-logloss:0.31104\tvalidation_1-logloss:0.530698\n",
      "[356]\tvalidation_0-logloss:0.310947\tvalidation_1-logloss:0.530788\n",
      "[357]\tvalidation_0-logloss:0.310829\tvalidation_1-logloss:0.529645\n",
      "[358]\tvalidation_0-logloss:0.310771\tvalidation_1-logloss:0.529125\n",
      "[359]\tvalidation_0-logloss:0.310708\tvalidation_1-logloss:0.529024\n",
      "[360]\tvalidation_0-logloss:0.310658\tvalidation_1-logloss:0.528907\n",
      "[361]\tvalidation_0-logloss:0.310579\tvalidation_1-logloss:0.529388\n",
      "[362]\tvalidation_0-logloss:0.310472\tvalidation_1-logloss:0.529558\n",
      "[363]\tvalidation_0-logloss:0.310405\tvalidation_1-logloss:0.530601\n",
      "[364]\tvalidation_0-logloss:0.310307\tvalidation_1-logloss:0.530767\n",
      "[365]\tvalidation_0-logloss:0.310199\tvalidation_1-logloss:0.530623\n",
      "[366]\tvalidation_0-logloss:0.310116\tvalidation_1-logloss:0.531488\n",
      "[367]\tvalidation_0-logloss:0.31005\tvalidation_1-logloss:0.531737\n",
      "[368]\tvalidation_0-logloss:0.309945\tvalidation_1-logloss:0.531151\n",
      "[369]\tvalidation_0-logloss:0.309889\tvalidation_1-logloss:0.531148\n",
      "[370]\tvalidation_0-logloss:0.309838\tvalidation_1-logloss:0.531571\n",
      "[371]\tvalidation_0-logloss:0.309748\tvalidation_1-logloss:0.531003\n",
      "[372]\tvalidation_0-logloss:0.309698\tvalidation_1-logloss:0.530847\n",
      "[373]\tvalidation_0-logloss:0.309654\tvalidation_1-logloss:0.530405\n",
      "[374]\tvalidation_0-logloss:0.309548\tvalidation_1-logloss:0.530666\n",
      "[375]\tvalidation_0-logloss:0.309503\tvalidation_1-logloss:0.530821\n",
      "[376]\tvalidation_0-logloss:0.30947\tvalidation_1-logloss:0.530874\n",
      "[377]\tvalidation_0-logloss:0.309418\tvalidation_1-logloss:0.531536\n",
      "[378]\tvalidation_0-logloss:0.30937\tvalidation_1-logloss:0.53124\n",
      "[379]\tvalidation_0-logloss:0.309258\tvalidation_1-logloss:0.530948\n",
      "[380]\tvalidation_0-logloss:0.309171\tvalidation_1-logloss:0.531503\n",
      "[381]\tvalidation_0-logloss:0.309095\tvalidation_1-logloss:0.530873\n",
      "[382]\tvalidation_0-logloss:0.309023\tvalidation_1-logloss:0.530374\n",
      "[383]\tvalidation_0-logloss:0.30898\tvalidation_1-logloss:0.530211\n",
      "[384]\tvalidation_0-logloss:0.30893\tvalidation_1-logloss:0.529958\n",
      "[385]\tvalidation_0-logloss:0.308862\tvalidation_1-logloss:0.529354\n",
      "[386]\tvalidation_0-logloss:0.308818\tvalidation_1-logloss:0.529803\n",
      "[387]\tvalidation_0-logloss:0.308725\tvalidation_1-logloss:0.531099\n",
      "[388]\tvalidation_0-logloss:0.308649\tvalidation_1-logloss:0.530527\n",
      "[389]\tvalidation_0-logloss:0.308571\tvalidation_1-logloss:0.529904\n",
      "[390]\tvalidation_0-logloss:0.308526\tvalidation_1-logloss:0.529754\n",
      "[391]\tvalidation_0-logloss:0.308443\tvalidation_1-logloss:0.530394\n",
      "[392]\tvalidation_0-logloss:0.308416\tvalidation_1-logloss:0.530056\n",
      "[393]\tvalidation_0-logloss:0.308378\tvalidation_1-logloss:0.530247\n",
      "[394]\tvalidation_0-logloss:0.308298\tvalidation_1-logloss:0.529823\n",
      "[395]\tvalidation_0-logloss:0.30823\tvalidation_1-logloss:0.529637\n",
      "[396]\tvalidation_0-logloss:0.308201\tvalidation_1-logloss:0.529188\n",
      "[397]\tvalidation_0-logloss:0.30811\tvalidation_1-logloss:0.529738\n",
      "[398]\tvalidation_0-logloss:0.308033\tvalidation_1-logloss:0.529584\n",
      "[399]\tvalidation_0-logloss:0.307995\tvalidation_1-logloss:0.529958\n",
      "[400]\tvalidation_0-logloss:0.307932\tvalidation_1-logloss:0.530571\n",
      "[401]\tvalidation_0-logloss:0.307865\tvalidation_1-logloss:0.530167\n",
      "[402]\tvalidation_0-logloss:0.307819\tvalidation_1-logloss:0.530443\n",
      "[403]\tvalidation_0-logloss:0.307742\tvalidation_1-logloss:0.53061\n",
      "[404]\tvalidation_0-logloss:0.307667\tvalidation_1-logloss:0.530318\n",
      "[405]\tvalidation_0-logloss:0.307591\tvalidation_1-logloss:0.531022\n",
      "[406]\tvalidation_0-logloss:0.307535\tvalidation_1-logloss:0.531104\n",
      "[407]\tvalidation_0-logloss:0.307493\tvalidation_1-logloss:0.531077\n",
      "[408]\tvalidation_0-logloss:0.307436\tvalidation_1-logloss:0.531166\n",
      "[409]\tvalidation_0-logloss:0.307387\tvalidation_1-logloss:0.531567\n",
      "[410]\tvalidation_0-logloss:0.307358\tvalidation_1-logloss:0.531711\n",
      "[411]\tvalidation_0-logloss:0.30727\tvalidation_1-logloss:0.531843\n",
      "[412]\tvalidation_0-logloss:0.307181\tvalidation_1-logloss:0.531781\n",
      "[413]\tvalidation_0-logloss:0.307088\tvalidation_1-logloss:0.532184\n",
      "[414]\tvalidation_0-logloss:0.307062\tvalidation_1-logloss:0.532172\n",
      "[415]\tvalidation_0-logloss:0.306985\tvalidation_1-logloss:0.531761\n",
      "[416]\tvalidation_0-logloss:0.306911\tvalidation_1-logloss:0.531967\n",
      "[417]\tvalidation_0-logloss:0.306867\tvalidation_1-logloss:0.53246\n",
      "[418]\tvalidation_0-logloss:0.306796\tvalidation_1-logloss:0.53158\n",
      "[419]\tvalidation_0-logloss:0.306765\tvalidation_1-logloss:0.531791\n",
      "[420]\tvalidation_0-logloss:0.306693\tvalidation_1-logloss:0.53218\n",
      "[421]\tvalidation_0-logloss:0.306644\tvalidation_1-logloss:0.53203\n",
      "[422]\tvalidation_0-logloss:0.306568\tvalidation_1-logloss:0.531541\n",
      "[423]\tvalidation_0-logloss:0.306492\tvalidation_1-logloss:0.531429\n",
      "[424]\tvalidation_0-logloss:0.306443\tvalidation_1-logloss:0.531999\n",
      "[425]\tvalidation_0-logloss:0.306376\tvalidation_1-logloss:0.531914\n",
      "[426]\tvalidation_0-logloss:0.306331\tvalidation_1-logloss:0.531838\n",
      "[427]\tvalidation_0-logloss:0.306249\tvalidation_1-logloss:0.531044\n",
      "[428]\tvalidation_0-logloss:0.30618\tvalidation_1-logloss:0.530518\n",
      "[429]\tvalidation_0-logloss:0.306111\tvalidation_1-logloss:0.530136\n",
      "[430]\tvalidation_0-logloss:0.306041\tvalidation_1-logloss:0.529492\n",
      "[431]\tvalidation_0-logloss:0.305959\tvalidation_1-logloss:0.52913\n",
      "[432]\tvalidation_0-logloss:0.305905\tvalidation_1-logloss:0.528863\n",
      "[433]\tvalidation_0-logloss:0.305865\tvalidation_1-logloss:0.528844\n",
      "[434]\tvalidation_0-logloss:0.305796\tvalidation_1-logloss:0.528579\n",
      "[435]\tvalidation_0-logloss:0.305723\tvalidation_1-logloss:0.52902\n",
      "[436]\tvalidation_0-logloss:0.305664\tvalidation_1-logloss:0.529109\n",
      "[437]\tvalidation_0-logloss:0.30559\tvalidation_1-logloss:0.52898\n",
      "[438]\tvalidation_0-logloss:0.305558\tvalidation_1-logloss:0.528788\n",
      "[439]\tvalidation_0-logloss:0.305482\tvalidation_1-logloss:0.528741\n",
      "[440]\tvalidation_0-logloss:0.305419\tvalidation_1-logloss:0.528663\n",
      "[441]\tvalidation_0-logloss:0.305357\tvalidation_1-logloss:0.528798\n",
      "[442]\tvalidation_0-logloss:0.305299\tvalidation_1-logloss:0.528791\n",
      "[443]\tvalidation_0-logloss:0.305232\tvalidation_1-logloss:0.52888\n",
      "[444]\tvalidation_0-logloss:0.305213\tvalidation_1-logloss:0.528712\n",
      "[445]\tvalidation_0-logloss:0.305156\tvalidation_1-logloss:0.528357\n",
      "[446]\tvalidation_0-logloss:0.305139\tvalidation_1-logloss:0.528466\n",
      "[447]\tvalidation_0-logloss:0.305098\tvalidation_1-logloss:0.528702\n",
      "[448]\tvalidation_0-logloss:0.305076\tvalidation_1-logloss:0.528565\n",
      "[449]\tvalidation_0-logloss:0.305003\tvalidation_1-logloss:0.52825\n",
      "[450]\tvalidation_0-logloss:0.304974\tvalidation_1-logloss:0.528331\n",
      "[451]\tvalidation_0-logloss:0.304942\tvalidation_1-logloss:0.52805\n",
      "[452]\tvalidation_0-logloss:0.304889\tvalidation_1-logloss:0.528277\n",
      "[453]\tvalidation_0-logloss:0.30482\tvalidation_1-logloss:0.528269\n",
      "[454]\tvalidation_0-logloss:0.304775\tvalidation_1-logloss:0.528336\n",
      "[455]\tvalidation_0-logloss:0.304746\tvalidation_1-logloss:0.528776\n",
      "[456]\tvalidation_0-logloss:0.304711\tvalidation_1-logloss:0.528593\n",
      "[457]\tvalidation_0-logloss:0.304653\tvalidation_1-logloss:0.528139\n",
      "[458]\tvalidation_0-logloss:0.304634\tvalidation_1-logloss:0.528025\n",
      "[459]\tvalidation_0-logloss:0.30458\tvalidation_1-logloss:0.527891\n",
      "[460]\tvalidation_0-logloss:0.304506\tvalidation_1-logloss:0.528463\n",
      "[461]\tvalidation_0-logloss:0.304441\tvalidation_1-logloss:0.528262\n",
      "[462]\tvalidation_0-logloss:0.304425\tvalidation_1-logloss:0.528305\n",
      "[463]\tvalidation_0-logloss:0.304408\tvalidation_1-logloss:0.528145\n",
      "[464]\tvalidation_0-logloss:0.304354\tvalidation_1-logloss:0.527865\n",
      "[465]\tvalidation_0-logloss:0.30429\tvalidation_1-logloss:0.527412\n",
      "[466]\tvalidation_0-logloss:0.304247\tvalidation_1-logloss:0.527775\n",
      "[467]\tvalidation_0-logloss:0.304232\tvalidation_1-logloss:0.527824\n",
      "[468]\tvalidation_0-logloss:0.304192\tvalidation_1-logloss:0.528365\n",
      "[469]\tvalidation_0-logloss:0.304135\tvalidation_1-logloss:0.528321\n",
      "[470]\tvalidation_0-logloss:0.3041\tvalidation_1-logloss:0.52833\n",
      "[471]\tvalidation_0-logloss:0.304042\tvalidation_1-logloss:0.528242\n",
      "[472]\tvalidation_0-logloss:0.304002\tvalidation_1-logloss:0.528506\n",
      "[473]\tvalidation_0-logloss:0.303971\tvalidation_1-logloss:0.528466\n",
      "[474]\tvalidation_0-logloss:0.303952\tvalidation_1-logloss:0.528206\n",
      "[475]\tvalidation_0-logloss:0.303924\tvalidation_1-logloss:0.52812\n",
      "[476]\tvalidation_0-logloss:0.303866\tvalidation_1-logloss:0.528695\n",
      "[477]\tvalidation_0-logloss:0.303809\tvalidation_1-logloss:0.528501\n",
      "[478]\tvalidation_0-logloss:0.303777\tvalidation_1-logloss:0.528292\n",
      "[479]\tvalidation_0-logloss:0.303716\tvalidation_1-logloss:0.528985\n",
      "[480]\tvalidation_0-logloss:0.303667\tvalidation_1-logloss:0.529317\n",
      "[481]\tvalidation_0-logloss:0.303635\tvalidation_1-logloss:0.529221\n",
      "[482]\tvalidation_0-logloss:0.303584\tvalidation_1-logloss:0.529314\n",
      "[483]\tvalidation_0-logloss:0.30355\tvalidation_1-logloss:0.529294\n",
      "[484]\tvalidation_0-logloss:0.303488\tvalidation_1-logloss:0.529524\n",
      "[485]\tvalidation_0-logloss:0.303469\tvalidation_1-logloss:0.529233\n",
      "[486]\tvalidation_0-logloss:0.303442\tvalidation_1-logloss:0.529493\n",
      "[487]\tvalidation_0-logloss:0.303399\tvalidation_1-logloss:0.529554\n",
      "[488]\tvalidation_0-logloss:0.303368\tvalidation_1-logloss:0.529601\n",
      "[489]\tvalidation_0-logloss:0.303352\tvalidation_1-logloss:0.529278\n",
      "[490]\tvalidation_0-logloss:0.303295\tvalidation_1-logloss:0.528299\n",
      "[491]\tvalidation_0-logloss:0.30328\tvalidation_1-logloss:0.528166\n",
      "[492]\tvalidation_0-logloss:0.303237\tvalidation_1-logloss:0.527977\n",
      "[493]\tvalidation_0-logloss:0.303187\tvalidation_1-logloss:0.527983\n",
      "[494]\tvalidation_0-logloss:0.303163\tvalidation_1-logloss:0.528222\n",
      "[495]\tvalidation_0-logloss:0.303104\tvalidation_1-logloss:0.529105\n",
      "[496]\tvalidation_0-logloss:0.303062\tvalidation_1-logloss:0.529335\n",
      "[497]\tvalidation_0-logloss:0.303017\tvalidation_1-logloss:0.528956\n",
      "[498]\tvalidation_0-logloss:0.302965\tvalidation_1-logloss:0.528671\n",
      "[499]\tvalidation_0-logloss:0.302926\tvalidation_1-logloss:0.528644\n",
      "[500]\tvalidation_0-logloss:0.302901\tvalidation_1-logloss:0.528832\n",
      "[501]\tvalidation_0-logloss:0.302887\tvalidation_1-logloss:0.529069\n",
      "[502]\tvalidation_0-logloss:0.302875\tvalidation_1-logloss:0.529313\n",
      "[503]\tvalidation_0-logloss:0.302816\tvalidation_1-logloss:0.528781\n",
      "[504]\tvalidation_0-logloss:0.302776\tvalidation_1-logloss:0.529\n",
      "[505]\tvalidation_0-logloss:0.30274\tvalidation_1-logloss:0.528937\n",
      "[506]\tvalidation_0-logloss:0.302704\tvalidation_1-logloss:0.528774\n",
      "[507]\tvalidation_0-logloss:0.302684\tvalidation_1-logloss:0.528535\n",
      "[508]\tvalidation_0-logloss:0.30263\tvalidation_1-logloss:0.528845\n",
      "[509]\tvalidation_0-logloss:0.302599\tvalidation_1-logloss:0.528682\n",
      "[510]\tvalidation_0-logloss:0.302561\tvalidation_1-logloss:0.528299\n",
      "[511]\tvalidation_0-logloss:0.302539\tvalidation_1-logloss:0.528632\n",
      "[512]\tvalidation_0-logloss:0.302499\tvalidation_1-logloss:0.528264\n",
      "[513]\tvalidation_0-logloss:0.302473\tvalidation_1-logloss:0.527817\n",
      "[514]\tvalidation_0-logloss:0.302458\tvalidation_1-logloss:0.527941\n",
      "[515]\tvalidation_0-logloss:0.302419\tvalidation_1-logloss:0.527667\n",
      "[516]\tvalidation_0-logloss:0.302395\tvalidation_1-logloss:0.527727\n",
      "[517]\tvalidation_0-logloss:0.302357\tvalidation_1-logloss:0.527813\n",
      "[518]\tvalidation_0-logloss:0.302318\tvalidation_1-logloss:0.527907\n",
      "[519]\tvalidation_0-logloss:0.302296\tvalidation_1-logloss:0.52795\n",
      "[520]\tvalidation_0-logloss:0.302271\tvalidation_1-logloss:0.528279\n",
      "[521]\tvalidation_0-logloss:0.302228\tvalidation_1-logloss:0.52864\n",
      "[522]\tvalidation_0-logloss:0.302192\tvalidation_1-logloss:0.528929\n",
      "[523]\tvalidation_0-logloss:0.302147\tvalidation_1-logloss:0.529262\n",
      "[524]\tvalidation_0-logloss:0.302107\tvalidation_1-logloss:0.529731\n",
      "[525]\tvalidation_0-logloss:0.302068\tvalidation_1-logloss:0.529335\n",
      "[526]\tvalidation_0-logloss:0.302049\tvalidation_1-logloss:0.529611\n",
      "[527]\tvalidation_0-logloss:0.302034\tvalidation_1-logloss:0.52949\n",
      "[528]\tvalidation_0-logloss:0.302011\tvalidation_1-logloss:0.529171\n",
      "[529]\tvalidation_0-logloss:0.301988\tvalidation_1-logloss:0.529214\n",
      "[530]\tvalidation_0-logloss:0.301938\tvalidation_1-logloss:0.529247\n",
      "[531]\tvalidation_0-logloss:0.301884\tvalidation_1-logloss:0.529781\n",
      "[532]\tvalidation_0-logloss:0.301864\tvalidation_1-logloss:0.530055\n",
      "[533]\tvalidation_0-logloss:0.301818\tvalidation_1-logloss:0.53018\n",
      "[534]\tvalidation_0-logloss:0.301778\tvalidation_1-logloss:0.529641\n",
      "[535]\tvalidation_0-logloss:0.301734\tvalidation_1-logloss:0.529465\n",
      "[536]\tvalidation_0-logloss:0.301701\tvalidation_1-logloss:0.529545\n",
      "[537]\tvalidation_0-logloss:0.301651\tvalidation_1-logloss:0.530354\n",
      "[538]\tvalidation_0-logloss:0.301629\tvalidation_1-logloss:0.529941\n",
      "[539]\tvalidation_0-logloss:0.301591\tvalidation_1-logloss:0.529769\n",
      "[540]\tvalidation_0-logloss:0.301547\tvalidation_1-logloss:0.530504\n",
      "[541]\tvalidation_0-logloss:0.301513\tvalidation_1-logloss:0.530561\n",
      "[542]\tvalidation_0-logloss:0.301477\tvalidation_1-logloss:0.530553\n",
      "[543]\tvalidation_0-logloss:0.301437\tvalidation_1-logloss:0.531022\n",
      "[544]\tvalidation_0-logloss:0.301376\tvalidation_1-logloss:0.530801\n",
      "[545]\tvalidation_0-logloss:0.30135\tvalidation_1-logloss:0.53075\n",
      "[546]\tvalidation_0-logloss:0.301335\tvalidation_1-logloss:0.530766\n",
      "[547]\tvalidation_0-logloss:0.301316\tvalidation_1-logloss:0.530935\n",
      "[548]\tvalidation_0-logloss:0.301283\tvalidation_1-logloss:0.530869\n",
      "[549]\tvalidation_0-logloss:0.301241\tvalidation_1-logloss:0.530822\n",
      "[550]\tvalidation_0-logloss:0.301202\tvalidation_1-logloss:0.530843\n",
      "[551]\tvalidation_0-logloss:0.301157\tvalidation_1-logloss:0.532005\n",
      "[552]\tvalidation_0-logloss:0.301111\tvalidation_1-logloss:0.531424\n",
      "[553]\tvalidation_0-logloss:0.301072\tvalidation_1-logloss:0.5316\n",
      "[554]\tvalidation_0-logloss:0.301037\tvalidation_1-logloss:0.531795\n",
      "[555]\tvalidation_0-logloss:0.301018\tvalidation_1-logloss:0.532119\n",
      "[556]\tvalidation_0-logloss:0.301007\tvalidation_1-logloss:0.53218\n",
      "[557]\tvalidation_0-logloss:0.300975\tvalidation_1-logloss:0.531926\n",
      "[558]\tvalidation_0-logloss:0.300957\tvalidation_1-logloss:0.53154\n",
      "[559]\tvalidation_0-logloss:0.300925\tvalidation_1-logloss:0.531449\n",
      "[560]\tvalidation_0-logloss:0.300909\tvalidation_1-logloss:0.531326\n",
      "[561]\tvalidation_0-logloss:0.300894\tvalidation_1-logloss:0.530975\n",
      "[562]\tvalidation_0-logloss:0.30087\tvalidation_1-logloss:0.53089\n",
      "[563]\tvalidation_0-logloss:0.300833\tvalidation_1-logloss:0.530798\n",
      "[564]\tvalidation_0-logloss:0.300809\tvalidation_1-logloss:0.530605\n",
      "[565]\tvalidation_0-logloss:0.300791\tvalidation_1-logloss:0.530797\n",
      "[566]\tvalidation_0-logloss:0.300754\tvalidation_1-logloss:0.531066\n",
      "[567]\tvalidation_0-logloss:0.300744\tvalidation_1-logloss:0.531107\n",
      "[568]\tvalidation_0-logloss:0.300705\tvalidation_1-logloss:0.531595\n",
      "[569]\tvalidation_0-logloss:0.300676\tvalidation_1-logloss:0.531798\n",
      "[570]\tvalidation_0-logloss:0.300647\tvalidation_1-logloss:0.531764\n",
      "[571]\tvalidation_0-logloss:0.300626\tvalidation_1-logloss:0.53182\n",
      "[572]\tvalidation_0-logloss:0.30059\tvalidation_1-logloss:0.531874\n",
      "[573]\tvalidation_0-logloss:0.300575\tvalidation_1-logloss:0.531522\n",
      "[574]\tvalidation_0-logloss:0.300559\tvalidation_1-logloss:0.531374\n",
      "[575]\tvalidation_0-logloss:0.300526\tvalidation_1-logloss:0.531152\n",
      "[576]\tvalidation_0-logloss:0.300489\tvalidation_1-logloss:0.531254\n",
      "[577]\tvalidation_0-logloss:0.30047\tvalidation_1-logloss:0.531348\n",
      "[578]\tvalidation_0-logloss:0.30045\tvalidation_1-logloss:0.530867\n",
      "[579]\tvalidation_0-logloss:0.300414\tvalidation_1-logloss:0.531166\n",
      "[580]\tvalidation_0-logloss:0.300375\tvalidation_1-logloss:0.530826\n",
      "[581]\tvalidation_0-logloss:0.300348\tvalidation_1-logloss:0.531269\n",
      "[582]\tvalidation_0-logloss:0.300317\tvalidation_1-logloss:0.53158\n",
      "[583]\tvalidation_0-logloss:0.300276\tvalidation_1-logloss:0.530968\n",
      "[584]\tvalidation_0-logloss:0.30026\tvalidation_1-logloss:0.530884\n",
      "[585]\tvalidation_0-logloss:0.300233\tvalidation_1-logloss:0.530801\n",
      "[586]\tvalidation_0-logloss:0.300218\tvalidation_1-logloss:0.530892\n",
      "[587]\tvalidation_0-logloss:0.300209\tvalidation_1-logloss:0.530972\n",
      "[588]\tvalidation_0-logloss:0.300179\tvalidation_1-logloss:0.530631\n",
      "[589]\tvalidation_0-logloss:0.300146\tvalidation_1-logloss:0.531067\n",
      "[590]\tvalidation_0-logloss:0.300124\tvalidation_1-logloss:0.530735\n",
      "[591]\tvalidation_0-logloss:0.300108\tvalidation_1-logloss:0.530673\n",
      "[592]\tvalidation_0-logloss:0.300101\tvalidation_1-logloss:0.530553\n",
      "[593]\tvalidation_0-logloss:0.300072\tvalidation_1-logloss:0.530532\n",
      "[594]\tvalidation_0-logloss:0.300046\tvalidation_1-logloss:0.530577\n",
      "[595]\tvalidation_0-logloss:0.300034\tvalidation_1-logloss:0.530677\n",
      "[596]\tvalidation_0-logloss:0.300008\tvalidation_1-logloss:0.53082\n",
      "[597]\tvalidation_0-logloss:0.299992\tvalidation_1-logloss:0.530722\n",
      "[598]\tvalidation_0-logloss:0.299946\tvalidation_1-logloss:0.530446\n",
      "[599]\tvalidation_0-logloss:0.299933\tvalidation_1-logloss:0.530029\n"
     ]
    }
   ],
   "source": [
    "breadth_depth_left_train_features = [urlToEmbedding(url, \"breadth\") + urlToEmbedding(url, \"depth\") for url in left_train]\n",
    "breadth_depth_left_test_features = [urlToEmbedding(url, \"breadth\")  + urlToEmbedding(url, \"depth\") for url in left_test]\n",
    "breadth_depth_right_train_features = [urlToEmbedding(url, \"breadth\")  + urlToEmbedding(url, \"depth\") for url in right_train]\n",
    "breadth_depth_right_test_features = [urlToEmbedding(url, \"breadth\")  + urlToEmbedding(url, \"depth\") for url in right_test]\n",
    "\n",
    "breadth_depth_train_input, breadth_depth_train_output = createEvalSet(breadth_depth_right_train_features, breadth_depth_left_train_features)\n",
    "breadth_depth_test_input, breadth_depth_test_output = createEvalSet(breadth_depth_right_test_features, breadth_depth_left_test_features)\n",
    "\n",
    "breadth_depth_clf = XGBClassifier(n_estimators=600) \n",
    "\n",
    "\n",
    "breadth_depth_full = breadth_depth_clf.fit(breadth_depth_train_input, breadth_depth_train_output,\n",
    "        eval_set=[(breadth_depth_train_input, breadth_depth_train_output), (breadth_depth_test_input, breadth_depth_test_output)],\n",
    "        eval_metric='logloss',\n",
    "        verbose=True)"
   ]
  },
  {
   "cell_type": "code",
   "execution_count": 650,
   "metadata": {
    "collapsed": false,
    "scrolled": true
   },
   "outputs": [
    {
     "data": {
      "image/png": "[encoded data removed]",
      "text/plain": [
       "<matplotlib.figure.Figure at 0x111054710>"
      ]
     },
     "metadata": {},
     "output_type": "display_data"
    }
   ],
   "source": [
    "import matplotlib.pyplot as plt\n",
    "\n",
    "breadth_depth_results_full = breadth_depth_full.evals_result()\n",
    "\n",
    "plt.plot(range(len(breadth_depth_results_full['validation_0']['logloss'])), breadth_depth_results_full['validation_0']['logloss'], label='Train')\n",
    "plt.plot(range(len(breadth_depth_results_full['validation_1']['logloss'])), breadth_depth_results_full['validation_1']['logloss'], label='Test')\n",
    "\n",
    "plt.xlabel('Iteration')\n",
    "plt.ylabel('Log Loss')\n",
    "plt.title('Log Loss for Breadth Depth Concat Models')\n",
    "plt.legend()\n",
    "plt.savefig('logloss_breadth_depth_concat.png')\n"
   ]
  },
  {
   "cell_type": "code",
   "execution_count": 614,
   "metadata": {
    "collapsed": false
   },
   "outputs": [
    {
     "name": "stdout",
     "output_type": "stream",
     "text": [
      "Train f1:  0.809160305344\n",
      "Train AUC:  0.924679824377\n",
      "Train Accuracy:  0.812734082397\n",
      "Test f1:  0.682352941176\n",
      "Test AUC:  0.789473684211\n",
      "Test Accuracy:  0.649350649351\n"
     ]
    }
   ],
   "source": [
    "from sklearn.metrics import f1_score, roc_auc_score, accuracy_score\n",
    "\n",
    "Y_pred = breadth_depth_clf.predict(breadth_depth_train_input) #prediksi data cross validation menggunakan model tadi\n",
    "Y_pred_margin = breadth_depth_clf.predict(breadth_depth_train_input, output_margin=True) #prediksi data cross validation menggunakan model tadi\n",
    "\n",
    "train_f1score = f1_score(breadth_depth_train_output, Y_pred)\n",
    "train_rocscore = roc_auc_score(breadth_depth_train_output, Y_pred_margin)\n",
    "train_accuracy_score = accuracy_score(breadth_depth_train_output, Y_pred)\n",
    "\n",
    "Y_pred = breadth_depth_clf.predict(breadth_depth_test_input) #prediksi data cross validation menggunakan model tadi\n",
    "Y_pred_margin = breadth_depth_clf.predict(breadth_depth_test_input, output_margin=True) #prediksi data cross validation menggunakan model tadi\n",
    "\n",
    "test_f1score = f1_score(breadth_depth_test_output, Y_pred)\n",
    "test_rocscore = roc_auc_score(breadth_depth_test_output, Y_pred_margin)\n",
    "test_accuracy_score = accuracy_score(breadth_depth_test_output, Y_pred)\n",
    "\n",
    "print \"Train f1: \", train_f1score\n",
    "print \"Train AUC: \", train_rocscore\n",
    "print \"Train Accuracy: \", train_accuracy_score\n",
    "\n",
    "print \"Test f1: \", test_f1score\n",
    "print \"Test AUC: \", test_rocscore\n",
    "print \"Test Accuracy: \", test_accuracy_score\n",
    "\n"
   ]
  },
  {
   "cell_type": "code",
   "execution_count": 601,
   "metadata": {
    "collapsed": false
   },
   "outputs": [
    {
     "name": "stdout",
     "output_type": "stream",
     "text": [
      "Left Train Accuracy 0.865168539326\n",
      "Right Train Accuracy 0.760299625468\n"
     ]
    }
   ],
   "source": [
    "Y_pred = breadth_depth_clf.predict(breadth_depth_left_train_features) #prediksi data cross validation menggunakan model tadi\n",
    "left_accuracy = accuracy_score(Y_pred, len(Y_pred) * [0])\n",
    "print \"Left Train Accuracy\", left_accuracy \n",
    "\n",
    "Y_pred = breadth_depth_clf.predict(breadth_depth_right_train_features) #prediksi data cross validation menggunakan model tadi\n",
    "right_accuracy = accuracy_score(Y_pred, len(Y_pred) * [1])\n",
    "print \"Right Train Accuracy\", right_accuracy \n"
   ]
  },
  {
   "cell_type": "code",
   "execution_count": 602,
   "metadata": {
    "collapsed": false
   },
   "outputs": [
    {
     "name": "stdout",
     "output_type": "stream",
     "text": [
      "Left Test Accuracy 0.684210526316\n",
      "Right Test Accuracy 0.615384615385\n"
     ]
    }
   ],
   "source": [
    "Y_pred = breadth_depth_clf.predict(breadth_depth_left_test_features) #prediksi data cross validation menggunakan model tadi\n",
    "left_accuracy = accuracy_score(Y_pred, len(Y_pred) * [0])\n",
    "print \"Left Test Accuracy\", left_accuracy \n",
    "\n",
    "Y_pred = breadth_depth_clf.predict(breadth_depth_right_test_features) #prediksi data cross validation menggunakan model tadi\n",
    "right_accuracy = accuracy_score(Y_pred, len(Y_pred) * [1])\n",
    "print \"Right Test Accuracy\", right_accuracy \n"
   ]
  },
  {
   "cell_type": "code",
   "execution_count": 502,
   "metadata": {
    "collapsed": true
   },
   "outputs": [],
   "source": [
    "left_train_handfeatures = createFeatureVec(left_train)\n",
    "left_test_handfeatures = createFeatureVec(left_test)\n",
    "right_train_handfeatures = createFeatureVec(right_train)\n",
    "right_test_handfeatures = createFeatureVec(right_test)\n",
    "\n",
    "hand_nodes_left_train_features = [urlToEmbedding(url, \"breadth\") + urlToEmbedding(url, \"depth\") for url in left_train]\n",
    "hand_nodes_left_test_features = [urlToEmbedding(url, \"breadth\")  + urlToEmbedding(url, \"depth\") for url in left_test]\n",
    "hand_nodes_right_train_features = [urlToEmbedding(url, \"breadth\")  + urlToEmbedding(url, \"depth\") for url in right_train]\n",
    "hand_nodes_right_test_features = [urlToEmbedding(url, \"breadth\")  + urlToEmbedding(url, \"depth\") for url in right_test]\n"
   ]
  },
  {
   "cell_type": "code",
   "execution_count": 553,
   "metadata": {
    "collapsed": false
   },
   "outputs": [
    {
     "name": "stdout",
     "output_type": "stream",
     "text": [
      "[0]\tvalidation_0-logloss:0.682526\tvalidation_1-logloss:0.691942\n",
      "[1]\tvalidation_0-logloss:0.673267\tvalidation_1-logloss:0.690902\n",
      "[2]\tvalidation_0-logloss:0.6628\tvalidation_1-logloss:0.68986\n",
      "[3]\tvalidation_0-logloss:0.654634\tvalidation_1-logloss:0.684141\n",
      "[4]\tvalidation_0-logloss:0.64713\tvalidation_1-logloss:0.674759\n",
      "[5]\tvalidation_0-logloss:0.639307\tvalidation_1-logloss:0.669632\n",
      "[6]\tvalidation_0-logloss:0.631061\tvalidation_1-logloss:0.664941\n",
      "[7]\tvalidation_0-logloss:0.623504\tvalidation_1-logloss:0.66693\n",
      "[8]\tvalidation_0-logloss:0.615564\tvalidation_1-logloss:0.65887\n",
      "[9]\tvalidation_0-logloss:0.61008\tvalidation_1-logloss:0.65592\n",
      "[10]\tvalidation_0-logloss:0.603313\tvalidation_1-logloss:0.653395\n",
      "[11]\tvalidation_0-logloss:0.596842\tvalidation_1-logloss:0.650681\n",
      "[12]\tvalidation_0-logloss:0.589628\tvalidation_1-logloss:0.645282\n",
      "[13]\tvalidation_0-logloss:0.58307\tvalidation_1-logloss:0.638569\n",
      "[14]\tvalidation_0-logloss:0.576525\tvalidation_1-logloss:0.630886\n",
      "[15]\tvalidation_0-logloss:0.570834\tvalidation_1-logloss:0.628319\n",
      "[16]\tvalidation_0-logloss:0.565741\tvalidation_1-logloss:0.625293\n",
      "[17]\tvalidation_0-logloss:0.560808\tvalidation_1-logloss:0.623299\n",
      "[18]\tvalidation_0-logloss:0.555664\tvalidation_1-logloss:0.619712\n",
      "[19]\tvalidation_0-logloss:0.550557\tvalidation_1-logloss:0.619148\n",
      "[20]\tvalidation_0-logloss:0.545813\tvalidation_1-logloss:0.618578\n",
      "[21]\tvalidation_0-logloss:0.540565\tvalidation_1-logloss:0.611629\n",
      "[22]\tvalidation_0-logloss:0.536496\tvalidation_1-logloss:0.614055\n",
      "[23]\tvalidation_0-logloss:0.532205\tvalidation_1-logloss:0.612951\n",
      "[24]\tvalidation_0-logloss:0.529723\tvalidation_1-logloss:0.611433\n",
      "[25]\tvalidation_0-logloss:0.525139\tvalidation_1-logloss:0.609215\n",
      "[26]\tvalidation_0-logloss:0.520808\tvalidation_1-logloss:0.607432\n",
      "[27]\tvalidation_0-logloss:0.518596\tvalidation_1-logloss:0.606865\n",
      "[28]\tvalidation_0-logloss:0.514915\tvalidation_1-logloss:0.605209\n",
      "[29]\tvalidation_0-logloss:0.511206\tvalidation_1-logloss:0.602698\n",
      "[30]\tvalidation_0-logloss:0.508107\tvalidation_1-logloss:0.603644\n",
      "[31]\tvalidation_0-logloss:0.504232\tvalidation_1-logloss:0.599099\n",
      "[32]\tvalidation_0-logloss:0.500609\tvalidation_1-logloss:0.597076\n",
      "[33]\tvalidation_0-logloss:0.498651\tvalidation_1-logloss:0.596713\n",
      "[34]\tvalidation_0-logloss:0.496025\tvalidation_1-logloss:0.597366\n",
      "[35]\tvalidation_0-logloss:0.493531\tvalidation_1-logloss:0.59434\n",
      "[36]\tvalidation_0-logloss:0.49049\tvalidation_1-logloss:0.593447\n",
      "[37]\tvalidation_0-logloss:0.486951\tvalidation_1-logloss:0.587977\n",
      "[38]\tvalidation_0-logloss:0.483909\tvalidation_1-logloss:0.588101\n",
      "[39]\tvalidation_0-logloss:0.480608\tvalidation_1-logloss:0.587681\n",
      "[40]\tvalidation_0-logloss:0.478499\tvalidation_1-logloss:0.584701\n",
      "[41]\tvalidation_0-logloss:0.475958\tvalidation_1-logloss:0.581767\n",
      "[42]\tvalidation_0-logloss:0.474742\tvalidation_1-logloss:0.58169\n",
      "[43]\tvalidation_0-logloss:0.472191\tvalidation_1-logloss:0.580935\n",
      "[44]\tvalidation_0-logloss:0.469223\tvalidation_1-logloss:0.583602\n",
      "[45]\tvalidation_0-logloss:0.465792\tvalidation_1-logloss:0.580198\n",
      "[46]\tvalidation_0-logloss:0.464755\tvalidation_1-logloss:0.579952\n",
      "[47]\tvalidation_0-logloss:0.46318\tvalidation_1-logloss:0.578991\n",
      "[48]\tvalidation_0-logloss:0.461089\tvalidation_1-logloss:0.577225\n",
      "[49]\tvalidation_0-logloss:0.458566\tvalidation_1-logloss:0.573163\n",
      "[50]\tvalidation_0-logloss:0.457307\tvalidation_1-logloss:0.571462\n",
      "[51]\tvalidation_0-logloss:0.455072\tvalidation_1-logloss:0.571454\n",
      "[52]\tvalidation_0-logloss:0.452652\tvalidation_1-logloss:0.569431\n",
      "[53]\tvalidation_0-logloss:0.450514\tvalidation_1-logloss:0.571591\n",
      "[54]\tvalidation_0-logloss:0.448451\tvalidation_1-logloss:0.571981\n",
      "[55]\tvalidation_0-logloss:0.446206\tvalidation_1-logloss:0.570752\n",
      "[56]\tvalidation_0-logloss:0.443688\tvalidation_1-logloss:0.571393\n",
      "[57]\tvalidation_0-logloss:0.442508\tvalidation_1-logloss:0.571142\n",
      "[58]\tvalidation_0-logloss:0.441673\tvalidation_1-logloss:0.571083\n",
      "[59]\tvalidation_0-logloss:0.43968\tvalidation_1-logloss:0.573462\n",
      "[60]\tvalidation_0-logloss:0.438375\tvalidation_1-logloss:0.5759\n",
      "[61]\tvalidation_0-logloss:0.435983\tvalidation_1-logloss:0.574242\n",
      "[62]\tvalidation_0-logloss:0.433816\tvalidation_1-logloss:0.572101\n",
      "[63]\tvalidation_0-logloss:0.432084\tvalidation_1-logloss:0.572144\n",
      "[64]\tvalidation_0-logloss:0.430152\tvalidation_1-logloss:0.56799\n",
      "[65]\tvalidation_0-logloss:0.429141\tvalidation_1-logloss:0.565095\n",
      "[66]\tvalidation_0-logloss:0.427185\tvalidation_1-logloss:0.564479\n",
      "[67]\tvalidation_0-logloss:0.425115\tvalidation_1-logloss:0.563331\n",
      "[68]\tvalidation_0-logloss:0.423954\tvalidation_1-logloss:0.562871\n",
      "[69]\tvalidation_0-logloss:0.422625\tvalidation_1-logloss:0.564731\n",
      "[70]\tvalidation_0-logloss:0.420975\tvalidation_1-logloss:0.566153\n",
      "[71]\tvalidation_0-logloss:0.419222\tvalidation_1-logloss:0.563019\n",
      "[72]\tvalidation_0-logloss:0.418203\tvalidation_1-logloss:0.56243\n",
      "[73]\tvalidation_0-logloss:0.417287\tvalidation_1-logloss:0.562908\n",
      "[74]\tvalidation_0-logloss:0.415402\tvalidation_1-logloss:0.564201\n",
      "[75]\tvalidation_0-logloss:0.414418\tvalidation_1-logloss:0.565235\n",
      "[76]\tvalidation_0-logloss:0.413415\tvalidation_1-logloss:0.563363\n",
      "[77]\tvalidation_0-logloss:0.412177\tvalidation_1-logloss:0.564295\n",
      "[78]\tvalidation_0-logloss:0.410613\tvalidation_1-logloss:0.56391\n",
      "[79]\tvalidation_0-logloss:0.409831\tvalidation_1-logloss:0.563311\n",
      "[80]\tvalidation_0-logloss:0.409258\tvalidation_1-logloss:0.563485\n",
      "[81]\tvalidation_0-logloss:0.408564\tvalidation_1-logloss:0.563676\n",
      "[82]\tvalidation_0-logloss:0.406913\tvalidation_1-logloss:0.564557\n",
      "[83]\tvalidation_0-logloss:0.406256\tvalidation_1-logloss:0.565155\n",
      "[84]\tvalidation_0-logloss:0.405523\tvalidation_1-logloss:0.562896\n",
      "[85]\tvalidation_0-logloss:0.404739\tvalidation_1-logloss:0.562851\n",
      "[86]\tvalidation_0-logloss:0.403567\tvalidation_1-logloss:0.561644\n",
      "[87]\tvalidation_0-logloss:0.402764\tvalidation_1-logloss:0.559628\n",
      "[88]\tvalidation_0-logloss:0.401872\tvalidation_1-logloss:0.559427\n",
      "[89]\tvalidation_0-logloss:0.400487\tvalidation_1-logloss:0.559428\n",
      "[90]\tvalidation_0-logloss:0.398975\tvalidation_1-logloss:0.558317\n",
      "[91]\tvalidation_0-logloss:0.3982\tvalidation_1-logloss:0.557853\n",
      "[92]\tvalidation_0-logloss:0.397165\tvalidation_1-logloss:0.556248\n",
      "[93]\tvalidation_0-logloss:0.396423\tvalidation_1-logloss:0.556328\n",
      "[94]\tvalidation_0-logloss:0.395517\tvalidation_1-logloss:0.557072\n",
      "[95]\tvalidation_0-logloss:0.395121\tvalidation_1-logloss:0.556724\n",
      "[96]\tvalidation_0-logloss:0.394239\tvalidation_1-logloss:0.554813\n",
      "[97]\tvalidation_0-logloss:0.393395\tvalidation_1-logloss:0.555333\n",
      "[98]\tvalidation_0-logloss:0.392199\tvalidation_1-logloss:0.553939\n",
      "[99]\tvalidation_0-logloss:0.391598\tvalidation_1-logloss:0.553634\n",
      "[100]\tvalidation_0-logloss:0.390865\tvalidation_1-logloss:0.551068\n",
      "[101]\tvalidation_0-logloss:0.390405\tvalidation_1-logloss:0.550226\n",
      "[102]\tvalidation_0-logloss:0.389299\tvalidation_1-logloss:0.5521\n",
      "[103]\tvalidation_0-logloss:0.388663\tvalidation_1-logloss:0.5534\n",
      "[104]\tvalidation_0-logloss:0.387951\tvalidation_1-logloss:0.553434\n",
      "[105]\tvalidation_0-logloss:0.387102\tvalidation_1-logloss:0.552564\n",
      "[106]\tvalidation_0-logloss:0.386484\tvalidation_1-logloss:0.552748\n",
      "[107]\tvalidation_0-logloss:0.385714\tvalidation_1-logloss:0.552922\n",
      "[108]\tvalidation_0-logloss:0.384647\tvalidation_1-logloss:0.553427\n",
      "[109]\tvalidation_0-logloss:0.383553\tvalidation_1-logloss:0.552742\n",
      "[110]\tvalidation_0-logloss:0.382643\tvalidation_1-logloss:0.554019\n",
      "[111]\tvalidation_0-logloss:0.381514\tvalidation_1-logloss:0.553729\n",
      "[112]\tvalidation_0-logloss:0.380482\tvalidation_1-logloss:0.556379\n",
      "[113]\tvalidation_0-logloss:0.379579\tvalidation_1-logloss:0.554339\n",
      "[114]\tvalidation_0-logloss:0.37909\tvalidation_1-logloss:0.552989\n",
      "[115]\tvalidation_0-logloss:0.37834\tvalidation_1-logloss:0.55156\n",
      "[116]\tvalidation_0-logloss:0.377627\tvalidation_1-logloss:0.551787\n",
      "[117]\tvalidation_0-logloss:0.377112\tvalidation_1-logloss:0.551416\n",
      "[118]\tvalidation_0-logloss:0.376631\tvalidation_1-logloss:0.553114\n",
      "[119]\tvalidation_0-logloss:0.375858\tvalidation_1-logloss:0.551661\n",
      "[120]\tvalidation_0-logloss:0.37495\tvalidation_1-logloss:0.5487\n",
      "[121]\tvalidation_0-logloss:0.374559\tvalidation_1-logloss:0.550068\n",
      "[122]\tvalidation_0-logloss:0.374159\tvalidation_1-logloss:0.549919\n",
      "[123]\tvalidation_0-logloss:0.373354\tvalidation_1-logloss:0.549025\n",
      "[124]\tvalidation_0-logloss:0.372439\tvalidation_1-logloss:0.549942\n",
      "[125]\tvalidation_0-logloss:0.371527\tvalidation_1-logloss:0.551243\n",
      "[126]\tvalidation_0-logloss:0.370664\tvalidation_1-logloss:0.551484\n",
      "[127]\tvalidation_0-logloss:0.369721\tvalidation_1-logloss:0.55018\n",
      "[128]\tvalidation_0-logloss:0.369014\tvalidation_1-logloss:0.54886\n",
      "[129]\tvalidation_0-logloss:0.368083\tvalidation_1-logloss:0.549454\n",
      "[130]\tvalidation_0-logloss:0.367293\tvalidation_1-logloss:0.549622\n",
      "[131]\tvalidation_0-logloss:0.366874\tvalidation_1-logloss:0.549177\n",
      "[132]\tvalidation_0-logloss:0.366566\tvalidation_1-logloss:0.54841\n",
      "[133]\tvalidation_0-logloss:0.365797\tvalidation_1-logloss:0.547575\n",
      "[134]\tvalidation_0-logloss:0.365206\tvalidation_1-logloss:0.548456\n",
      "[135]\tvalidation_0-logloss:0.364461\tvalidation_1-logloss:0.548365\n",
      "[136]\tvalidation_0-logloss:0.363725\tvalidation_1-logloss:0.547062\n",
      "[137]\tvalidation_0-logloss:0.36297\tvalidation_1-logloss:0.548307\n",
      "[138]\tvalidation_0-logloss:0.362492\tvalidation_1-logloss:0.547688\n",
      "[139]\tvalidation_0-logloss:0.361808\tvalidation_1-logloss:0.54718\n",
      "[140]\tvalidation_0-logloss:0.361113\tvalidation_1-logloss:0.546533\n",
      "[141]\tvalidation_0-logloss:0.360339\tvalidation_1-logloss:0.545797\n",
      "[142]\tvalidation_0-logloss:0.359728\tvalidation_1-logloss:0.544261\n",
      "[143]\tvalidation_0-logloss:0.359364\tvalidation_1-logloss:0.544134\n",
      "[144]\tvalidation_0-logloss:0.358987\tvalidation_1-logloss:0.543201\n",
      "[145]\tvalidation_0-logloss:0.35845\tvalidation_1-logloss:0.544181\n",
      "[146]\tvalidation_0-logloss:0.357697\tvalidation_1-logloss:0.544816\n",
      "[147]\tvalidation_0-logloss:0.357395\tvalidation_1-logloss:0.542053\n",
      "[148]\tvalidation_0-logloss:0.357011\tvalidation_1-logloss:0.54146\n",
      "[149]\tvalidation_0-logloss:0.356393\tvalidation_1-logloss:0.540295\n",
      "[150]\tvalidation_0-logloss:0.355746\tvalidation_1-logloss:0.540637\n",
      "[151]\tvalidation_0-logloss:0.355093\tvalidation_1-logloss:0.540157\n",
      "[152]\tvalidation_0-logloss:0.354818\tvalidation_1-logloss:0.540038\n",
      "[153]\tvalidation_0-logloss:0.354532\tvalidation_1-logloss:0.540439\n",
      "[154]\tvalidation_0-logloss:0.353931\tvalidation_1-logloss:0.539712\n",
      "[155]\tvalidation_0-logloss:0.353299\tvalidation_1-logloss:0.538248\n",
      "[156]\tvalidation_0-logloss:0.352708\tvalidation_1-logloss:0.539495\n",
      "[157]\tvalidation_0-logloss:0.351965\tvalidation_1-logloss:0.539389\n",
      "[158]\tvalidation_0-logloss:0.351305\tvalidation_1-logloss:0.539795\n",
      "[159]\tvalidation_0-logloss:0.350966\tvalidation_1-logloss:0.539835\n",
      "[160]\tvalidation_0-logloss:0.350448\tvalidation_1-logloss:0.540241\n",
      "[161]\tvalidation_0-logloss:0.349947\tvalidation_1-logloss:0.537796\n",
      "[162]\tvalidation_0-logloss:0.349595\tvalidation_1-logloss:0.536281\n",
      "[163]\tvalidation_0-logloss:0.349074\tvalidation_1-logloss:0.537021\n",
      "[164]\tvalidation_0-logloss:0.348628\tvalidation_1-logloss:0.536191\n",
      "[165]\tvalidation_0-logloss:0.348462\tvalidation_1-logloss:0.535845\n",
      "[166]\tvalidation_0-logloss:0.348064\tvalidation_1-logloss:0.536167\n",
      "[167]\tvalidation_0-logloss:0.347864\tvalidation_1-logloss:0.536454\n",
      "[168]\tvalidation_0-logloss:0.347621\tvalidation_1-logloss:0.53708\n",
      "[169]\tvalidation_0-logloss:0.347134\tvalidation_1-logloss:0.536277\n",
      "[170]\tvalidation_0-logloss:0.346735\tvalidation_1-logloss:0.536379\n",
      "[171]\tvalidation_0-logloss:0.34628\tvalidation_1-logloss:0.535648\n",
      "[172]\tvalidation_0-logloss:0.345779\tvalidation_1-logloss:0.533926\n",
      "[173]\tvalidation_0-logloss:0.345228\tvalidation_1-logloss:0.533572\n",
      "[174]\tvalidation_0-logloss:0.344753\tvalidation_1-logloss:0.531551\n",
      "[175]\tvalidation_0-logloss:0.344246\tvalidation_1-logloss:0.530961\n",
      "[176]\tvalidation_0-logloss:0.343829\tvalidation_1-logloss:0.529004\n",
      "[177]\tvalidation_0-logloss:0.343424\tvalidation_1-logloss:0.530104\n",
      "[178]\tvalidation_0-logloss:0.343063\tvalidation_1-logloss:0.529815\n",
      "[179]\tvalidation_0-logloss:0.342806\tvalidation_1-logloss:0.529535\n",
      "[180]\tvalidation_0-logloss:0.342395\tvalidation_1-logloss:0.527405\n",
      "[181]\tvalidation_0-logloss:0.342054\tvalidation_1-logloss:0.526823\n",
      "[182]\tvalidation_0-logloss:0.34186\tvalidation_1-logloss:0.526282\n",
      "[183]\tvalidation_0-logloss:0.341718\tvalidation_1-logloss:0.526652\n",
      "[184]\tvalidation_0-logloss:0.341191\tvalidation_1-logloss:0.526608\n",
      "[185]\tvalidation_0-logloss:0.340718\tvalidation_1-logloss:0.527089\n",
      "[186]\tvalidation_0-logloss:0.340315\tvalidation_1-logloss:0.526177\n",
      "[187]\tvalidation_0-logloss:0.340019\tvalidation_1-logloss:0.525871\n",
      "[188]\tvalidation_0-logloss:0.339886\tvalidation_1-logloss:0.525854\n",
      "[189]\tvalidation_0-logloss:0.3395\tvalidation_1-logloss:0.525634\n",
      "[190]\tvalidation_0-logloss:0.339195\tvalidation_1-logloss:0.526138\n",
      "[191]\tvalidation_0-logloss:0.338961\tvalidation_1-logloss:0.527352\n",
      "[192]\tvalidation_0-logloss:0.338733\tvalidation_1-logloss:0.527317\n",
      "[193]\tvalidation_0-logloss:0.338396\tvalidation_1-logloss:0.527013\n",
      "[194]\tvalidation_0-logloss:0.338218\tvalidation_1-logloss:0.526565\n",
      "[195]\tvalidation_0-logloss:0.337861\tvalidation_1-logloss:0.524926\n",
      "[196]\tvalidation_0-logloss:0.337581\tvalidation_1-logloss:0.524624\n",
      "[197]\tvalidation_0-logloss:0.337381\tvalidation_1-logloss:0.525687\n",
      "[198]\tvalidation_0-logloss:0.336954\tvalidation_1-logloss:0.524811\n",
      "[199]\tvalidation_0-logloss:0.336552\tvalidation_1-logloss:0.524726\n",
      "[200]\tvalidation_0-logloss:0.336151\tvalidation_1-logloss:0.525521\n",
      "[201]\tvalidation_0-logloss:0.3359\tvalidation_1-logloss:0.524925\n",
      "[202]\tvalidation_0-logloss:0.335645\tvalidation_1-logloss:0.525308\n",
      "[203]\tvalidation_0-logloss:0.335276\tvalidation_1-logloss:0.525122\n",
      "[204]\tvalidation_0-logloss:0.33496\tvalidation_1-logloss:0.525592\n",
      "[205]\tvalidation_0-logloss:0.334635\tvalidation_1-logloss:0.527017\n",
      "[206]\tvalidation_0-logloss:0.334266\tvalidation_1-logloss:0.526178\n",
      "[207]\tvalidation_0-logloss:0.334116\tvalidation_1-logloss:0.524773\n",
      "[208]\tvalidation_0-logloss:0.333986\tvalidation_1-logloss:0.524649\n",
      "[209]\tvalidation_0-logloss:0.333691\tvalidation_1-logloss:0.524029\n",
      "[210]\tvalidation_0-logloss:0.33332\tvalidation_1-logloss:0.525967\n",
      "[211]\tvalidation_0-logloss:0.332921\tvalidation_1-logloss:0.525144\n",
      "[212]\tvalidation_0-logloss:0.332625\tvalidation_1-logloss:0.524406\n",
      "[213]\tvalidation_0-logloss:0.332481\tvalidation_1-logloss:0.524439\n",
      "[214]\tvalidation_0-logloss:0.332247\tvalidation_1-logloss:0.523218\n",
      "[215]\tvalidation_0-logloss:0.332017\tvalidation_1-logloss:0.523712\n",
      "[216]\tvalidation_0-logloss:0.331652\tvalidation_1-logloss:0.524376\n",
      "[217]\tvalidation_0-logloss:0.331293\tvalidation_1-logloss:0.524171\n",
      "[218]\tvalidation_0-logloss:0.331118\tvalidation_1-logloss:0.522765\n",
      "[219]\tvalidation_0-logloss:0.3308\tvalidation_1-logloss:0.521821\n",
      "[220]\tvalidation_0-logloss:0.330491\tvalidation_1-logloss:0.521876\n",
      "[221]\tvalidation_0-logloss:0.33038\tvalidation_1-logloss:0.521202\n",
      "[222]\tvalidation_0-logloss:0.330111\tvalidation_1-logloss:0.521473\n",
      "[223]\tvalidation_0-logloss:0.329828\tvalidation_1-logloss:0.520664\n",
      "[224]\tvalidation_0-logloss:0.329583\tvalidation_1-logloss:0.520083\n",
      "[225]\tvalidation_0-logloss:0.329415\tvalidation_1-logloss:0.520534\n",
      "[226]\tvalidation_0-logloss:0.329189\tvalidation_1-logloss:0.520285\n",
      "[227]\tvalidation_0-logloss:0.328868\tvalidation_1-logloss:0.519045\n",
      "[228]\tvalidation_0-logloss:0.328676\tvalidation_1-logloss:0.518383\n",
      "[229]\tvalidation_0-logloss:0.328359\tvalidation_1-logloss:0.518063\n",
      "[230]\tvalidation_0-logloss:0.328092\tvalidation_1-logloss:0.518052\n",
      "[231]\tvalidation_0-logloss:0.327852\tvalidation_1-logloss:0.516603\n",
      "[232]\tvalidation_0-logloss:0.327568\tvalidation_1-logloss:0.516101\n",
      "[233]\tvalidation_0-logloss:0.327429\tvalidation_1-logloss:0.516213\n",
      "[234]\tvalidation_0-logloss:0.327205\tvalidation_1-logloss:0.51622\n",
      "[235]\tvalidation_0-logloss:0.326969\tvalidation_1-logloss:0.517555\n",
      "[236]\tvalidation_0-logloss:0.326778\tvalidation_1-logloss:0.518294\n",
      "[237]\tvalidation_0-logloss:0.326511\tvalidation_1-logloss:0.518222\n",
      "[238]\tvalidation_0-logloss:0.326375\tvalidation_1-logloss:0.517159\n",
      "[239]\tvalidation_0-logloss:0.326132\tvalidation_1-logloss:0.517677\n",
      "[240]\tvalidation_0-logloss:0.325925\tvalidation_1-logloss:0.518751\n",
      "[241]\tvalidation_0-logloss:0.325767\tvalidation_1-logloss:0.518269\n",
      "[242]\tvalidation_0-logloss:0.325657\tvalidation_1-logloss:0.518185\n",
      "[243]\tvalidation_0-logloss:0.325447\tvalidation_1-logloss:0.518285\n",
      "[244]\tvalidation_0-logloss:0.325233\tvalidation_1-logloss:0.518177\n",
      "[245]\tvalidation_0-logloss:0.325023\tvalidation_1-logloss:0.518139\n",
      "[246]\tvalidation_0-logloss:0.324909\tvalidation_1-logloss:0.518948\n",
      "[247]\tvalidation_0-logloss:0.324753\tvalidation_1-logloss:0.518437\n",
      "[248]\tvalidation_0-logloss:0.324504\tvalidation_1-logloss:0.518726\n",
      "[249]\tvalidation_0-logloss:0.324251\tvalidation_1-logloss:0.518441\n",
      "[250]\tvalidation_0-logloss:0.324143\tvalidation_1-logloss:0.518284\n",
      "[251]\tvalidation_0-logloss:0.324002\tvalidation_1-logloss:0.518448\n",
      "[252]\tvalidation_0-logloss:0.323807\tvalidation_1-logloss:0.518425\n",
      "[253]\tvalidation_0-logloss:0.323595\tvalidation_1-logloss:0.518919\n",
      "[254]\tvalidation_0-logloss:0.32341\tvalidation_1-logloss:0.520205\n",
      "[255]\tvalidation_0-logloss:0.323217\tvalidation_1-logloss:0.520145\n",
      "[256]\tvalidation_0-logloss:0.322967\tvalidation_1-logloss:0.518392\n",
      "[257]\tvalidation_0-logloss:0.322864\tvalidation_1-logloss:0.518796\n",
      "[258]\tvalidation_0-logloss:0.322628\tvalidation_1-logloss:0.5199\n",
      "[259]\tvalidation_0-logloss:0.32249\tvalidation_1-logloss:0.520636\n",
      "[260]\tvalidation_0-logloss:0.322307\tvalidation_1-logloss:0.520878\n",
      "[261]\tvalidation_0-logloss:0.322119\tvalidation_1-logloss:0.522077\n",
      "[262]\tvalidation_0-logloss:0.322056\tvalidation_1-logloss:0.522594\n",
      "[263]\tvalidation_0-logloss:0.321983\tvalidation_1-logloss:0.522439\n",
      "[264]\tvalidation_0-logloss:0.321763\tvalidation_1-logloss:0.521501\n",
      "[265]\tvalidation_0-logloss:0.32163\tvalidation_1-logloss:0.521244\n",
      "[266]\tvalidation_0-logloss:0.321457\tvalidation_1-logloss:0.521484\n",
      "[267]\tvalidation_0-logloss:0.32138\tvalidation_1-logloss:0.52201\n",
      "[268]\tvalidation_0-logloss:0.321196\tvalidation_1-logloss:0.522292\n",
      "[269]\tvalidation_0-logloss:0.321067\tvalidation_1-logloss:0.522717\n",
      "[270]\tvalidation_0-logloss:0.320858\tvalidation_1-logloss:0.521957\n",
      "[271]\tvalidation_0-logloss:0.320699\tvalidation_1-logloss:0.521717\n",
      "[272]\tvalidation_0-logloss:0.320595\tvalidation_1-logloss:0.520866\n",
      "[273]\tvalidation_0-logloss:0.320471\tvalidation_1-logloss:0.520672\n",
      "[274]\tvalidation_0-logloss:0.320232\tvalidation_1-logloss:0.521388\n",
      "[275]\tvalidation_0-logloss:0.320045\tvalidation_1-logloss:0.521854\n",
      "[276]\tvalidation_0-logloss:0.31987\tvalidation_1-logloss:0.522579\n",
      "[277]\tvalidation_0-logloss:0.319659\tvalidation_1-logloss:0.522054\n",
      "[278]\tvalidation_0-logloss:0.319505\tvalidation_1-logloss:0.522921\n",
      "[279]\tvalidation_0-logloss:0.319323\tvalidation_1-logloss:0.523756\n",
      "[280]\tvalidation_0-logloss:0.31923\tvalidation_1-logloss:0.523642\n",
      "[281]\tvalidation_0-logloss:0.319162\tvalidation_1-logloss:0.523873\n",
      "[282]\tvalidation_0-logloss:0.319059\tvalidation_1-logloss:0.523814\n",
      "[283]\tvalidation_0-logloss:0.318913\tvalidation_1-logloss:0.523582\n",
      "[284]\tvalidation_0-logloss:0.318754\tvalidation_1-logloss:0.523046\n",
      "[285]\tvalidation_0-logloss:0.318705\tvalidation_1-logloss:0.522808\n",
      "[286]\tvalidation_0-logloss:0.318558\tvalidation_1-logloss:0.522862\n",
      "[287]\tvalidation_0-logloss:0.318378\tvalidation_1-logloss:0.522506\n",
      "[288]\tvalidation_0-logloss:0.31826\tvalidation_1-logloss:0.522831\n",
      "[289]\tvalidation_0-logloss:0.318073\tvalidation_1-logloss:0.523923\n",
      "[290]\tvalidation_0-logloss:0.317867\tvalidation_1-logloss:0.52407\n",
      "[291]\tvalidation_0-logloss:0.317715\tvalidation_1-logloss:0.525169\n",
      "[292]\tvalidation_0-logloss:0.317627\tvalidation_1-logloss:0.524613\n",
      "[293]\tvalidation_0-logloss:0.317499\tvalidation_1-logloss:0.524064\n",
      "[294]\tvalidation_0-logloss:0.317405\tvalidation_1-logloss:0.52401\n",
      "[295]\tvalidation_0-logloss:0.317331\tvalidation_1-logloss:0.523639\n",
      "[296]\tvalidation_0-logloss:0.317147\tvalidation_1-logloss:0.523363\n",
      "[297]\tvalidation_0-logloss:0.317063\tvalidation_1-logloss:0.522399\n",
      "[298]\tvalidation_0-logloss:0.316897\tvalidation_1-logloss:0.521771\n",
      "[299]\tvalidation_0-logloss:0.316725\tvalidation_1-logloss:0.521409\n",
      "[300]\tvalidation_0-logloss:0.31657\tvalidation_1-logloss:0.521221\n",
      "[301]\tvalidation_0-logloss:0.316423\tvalidation_1-logloss:0.520419\n",
      "[302]\tvalidation_0-logloss:0.316284\tvalidation_1-logloss:0.52123\n",
      "[303]\tvalidation_0-logloss:0.316107\tvalidation_1-logloss:0.520903\n",
      "[304]\tvalidation_0-logloss:0.315959\tvalidation_1-logloss:0.520092\n",
      "[305]\tvalidation_0-logloss:0.315881\tvalidation_1-logloss:0.520324\n",
      "[306]\tvalidation_0-logloss:0.315764\tvalidation_1-logloss:0.520152\n",
      "[307]\tvalidation_0-logloss:0.315623\tvalidation_1-logloss:0.520408\n",
      "[308]\tvalidation_0-logloss:0.315546\tvalidation_1-logloss:0.519736\n",
      "[309]\tvalidation_0-logloss:0.315394\tvalidation_1-logloss:0.519782\n",
      "[310]\tvalidation_0-logloss:0.315217\tvalidation_1-logloss:0.520272\n",
      "[311]\tvalidation_0-logloss:0.315055\tvalidation_1-logloss:0.520081\n",
      "[312]\tvalidation_0-logloss:0.314937\tvalidation_1-logloss:0.520412\n",
      "[313]\tvalidation_0-logloss:0.31487\tvalidation_1-logloss:0.520296\n",
      "[314]\tvalidation_0-logloss:0.314763\tvalidation_1-logloss:0.520344\n",
      "[315]\tvalidation_0-logloss:0.31468\tvalidation_1-logloss:0.519801\n",
      "[316]\tvalidation_0-logloss:0.314519\tvalidation_1-logloss:0.518397\n",
      "[317]\tvalidation_0-logloss:0.314416\tvalidation_1-logloss:0.518743\n",
      "[318]\tvalidation_0-logloss:0.314288\tvalidation_1-logloss:0.518515\n",
      "[319]\tvalidation_0-logloss:0.314143\tvalidation_1-logloss:0.518949\n",
      "[320]\tvalidation_0-logloss:0.313988\tvalidation_1-logloss:0.518822\n",
      "[321]\tvalidation_0-logloss:0.313884\tvalidation_1-logloss:0.518677\n",
      "[322]\tvalidation_0-logloss:0.313771\tvalidation_1-logloss:0.517824\n",
      "[323]\tvalidation_0-logloss:0.313628\tvalidation_1-logloss:0.517638\n",
      "[324]\tvalidation_0-logloss:0.313494\tvalidation_1-logloss:0.517649\n",
      "[325]\tvalidation_0-logloss:0.313407\tvalidation_1-logloss:0.517016\n",
      "[326]\tvalidation_0-logloss:0.313321\tvalidation_1-logloss:0.516654\n",
      "[327]\tvalidation_0-logloss:0.313273\tvalidation_1-logloss:0.517079\n",
      "[328]\tvalidation_0-logloss:0.31317\tvalidation_1-logloss:0.517373\n",
      "[329]\tvalidation_0-logloss:0.313134\tvalidation_1-logloss:0.517665\n",
      "[330]\tvalidation_0-logloss:0.313008\tvalidation_1-logloss:0.518068\n",
      "[331]\tvalidation_0-logloss:0.312917\tvalidation_1-logloss:0.517485\n",
      "[332]\tvalidation_0-logloss:0.312781\tvalidation_1-logloss:0.517137\n",
      "[333]\tvalidation_0-logloss:0.312728\tvalidation_1-logloss:0.517059\n",
      "[334]\tvalidation_0-logloss:0.312666\tvalidation_1-logloss:0.516682\n",
      "[335]\tvalidation_0-logloss:0.312619\tvalidation_1-logloss:0.516343\n",
      "[336]\tvalidation_0-logloss:0.31252\tvalidation_1-logloss:0.515342\n",
      "[337]\tvalidation_0-logloss:0.312461\tvalidation_1-logloss:0.515341\n",
      "[338]\tvalidation_0-logloss:0.312357\tvalidation_1-logloss:0.51491\n",
      "[339]\tvalidation_0-logloss:0.312238\tvalidation_1-logloss:0.515121\n",
      "[340]\tvalidation_0-logloss:0.312205\tvalidation_1-logloss:0.514808\n",
      "[341]\tvalidation_0-logloss:0.312161\tvalidation_1-logloss:0.514614\n",
      "[342]\tvalidation_0-logloss:0.312054\tvalidation_1-logloss:0.515106\n",
      "[343]\tvalidation_0-logloss:0.311971\tvalidation_1-logloss:0.515065\n",
      "[344]\tvalidation_0-logloss:0.311847\tvalidation_1-logloss:0.516216\n",
      "[345]\tvalidation_0-logloss:0.311726\tvalidation_1-logloss:0.51637\n",
      "[346]\tvalidation_0-logloss:0.311642\tvalidation_1-logloss:0.515546\n",
      "[347]\tvalidation_0-logloss:0.31152\tvalidation_1-logloss:0.516007\n",
      "[348]\tvalidation_0-logloss:0.311411\tvalidation_1-logloss:0.515357\n",
      "[349]\tvalidation_0-logloss:0.311299\tvalidation_1-logloss:0.516324\n",
      "[350]\tvalidation_0-logloss:0.311211\tvalidation_1-logloss:0.516394\n",
      "[351]\tvalidation_0-logloss:0.311106\tvalidation_1-logloss:0.517766\n",
      "[352]\tvalidation_0-logloss:0.310987\tvalidation_1-logloss:0.517137\n",
      "[353]\tvalidation_0-logloss:0.310943\tvalidation_1-logloss:0.517314\n",
      "[354]\tvalidation_0-logloss:0.310857\tvalidation_1-logloss:0.516745\n",
      "[355]\tvalidation_0-logloss:0.310783\tvalidation_1-logloss:0.516384\n",
      "[356]\tvalidation_0-logloss:0.310719\tvalidation_1-logloss:0.516692\n",
      "[357]\tvalidation_0-logloss:0.310658\tvalidation_1-logloss:0.516221\n",
      "[358]\tvalidation_0-logloss:0.310546\tvalidation_1-logloss:0.516838\n",
      "[359]\tvalidation_0-logloss:0.310465\tvalidation_1-logloss:0.517282\n",
      "[360]\tvalidation_0-logloss:0.310387\tvalidation_1-logloss:0.517417\n",
      "[361]\tvalidation_0-logloss:0.310299\tvalidation_1-logloss:0.517835\n",
      "[362]\tvalidation_0-logloss:0.310206\tvalidation_1-logloss:0.518684\n",
      "[363]\tvalidation_0-logloss:0.310141\tvalidation_1-logloss:0.518555\n",
      "[364]\tvalidation_0-logloss:0.31004\tvalidation_1-logloss:0.518742\n",
      "[365]\tvalidation_0-logloss:0.309972\tvalidation_1-logloss:0.519688\n",
      "[366]\tvalidation_0-logloss:0.30993\tvalidation_1-logloss:0.519235\n",
      "[367]\tvalidation_0-logloss:0.309904\tvalidation_1-logloss:0.519187\n",
      "[368]\tvalidation_0-logloss:0.309788\tvalidation_1-logloss:0.519296\n",
      "[369]\tvalidation_0-logloss:0.309709\tvalidation_1-logloss:0.519507\n",
      "[370]\tvalidation_0-logloss:0.309621\tvalidation_1-logloss:0.520058\n",
      "[371]\tvalidation_0-logloss:0.309526\tvalidation_1-logloss:0.520462\n",
      "[372]\tvalidation_0-logloss:0.309489\tvalidation_1-logloss:0.520619\n",
      "[373]\tvalidation_0-logloss:0.309425\tvalidation_1-logloss:0.520526\n",
      "[374]\tvalidation_0-logloss:0.309368\tvalidation_1-logloss:0.520897\n",
      "[375]\tvalidation_0-logloss:0.309281\tvalidation_1-logloss:0.520109\n",
      "[376]\tvalidation_0-logloss:0.309216\tvalidation_1-logloss:0.520182\n",
      "[377]\tvalidation_0-logloss:0.309179\tvalidation_1-logloss:0.520031\n",
      "[378]\tvalidation_0-logloss:0.309084\tvalidation_1-logloss:0.519506\n",
      "[379]\tvalidation_0-logloss:0.308995\tvalidation_1-logloss:0.518592\n",
      "[380]\tvalidation_0-logloss:0.308929\tvalidation_1-logloss:0.51805\n",
      "[381]\tvalidation_0-logloss:0.308868\tvalidation_1-logloss:0.518719\n",
      "[382]\tvalidation_0-logloss:0.30878\tvalidation_1-logloss:0.519163\n",
      "[383]\tvalidation_0-logloss:0.308747\tvalidation_1-logloss:0.519204\n",
      "[384]\tvalidation_0-logloss:0.308694\tvalidation_1-logloss:0.519572\n",
      "[385]\tvalidation_0-logloss:0.308605\tvalidation_1-logloss:0.519721\n",
      "[386]\tvalidation_0-logloss:0.308559\tvalidation_1-logloss:0.519768\n",
      "[387]\tvalidation_0-logloss:0.308522\tvalidation_1-logloss:0.519661\n",
      "[388]\tvalidation_0-logloss:0.308425\tvalidation_1-logloss:0.519884\n",
      "[389]\tvalidation_0-logloss:0.308352\tvalidation_1-logloss:0.519516\n",
      "[390]\tvalidation_0-logloss:0.308323\tvalidation_1-logloss:0.519607\n",
      "[391]\tvalidation_0-logloss:0.308203\tvalidation_1-logloss:0.518593\n",
      "[392]\tvalidation_0-logloss:0.308121\tvalidation_1-logloss:0.517726\n",
      "[393]\tvalidation_0-logloss:0.308072\tvalidation_1-logloss:0.517383\n",
      "[394]\tvalidation_0-logloss:0.308009\tvalidation_1-logloss:0.517332\n",
      "[395]\tvalidation_0-logloss:0.307945\tvalidation_1-logloss:0.517191\n",
      "[396]\tvalidation_0-logloss:0.307892\tvalidation_1-logloss:0.517601\n",
      "[397]\tvalidation_0-logloss:0.307805\tvalidation_1-logloss:0.516493\n",
      "[398]\tvalidation_0-logloss:0.307731\tvalidation_1-logloss:0.515995\n",
      "[399]\tvalidation_0-logloss:0.307638\tvalidation_1-logloss:0.516059\n",
      "[400]\tvalidation_0-logloss:0.307581\tvalidation_1-logloss:0.515792\n",
      "[401]\tvalidation_0-logloss:0.307516\tvalidation_1-logloss:0.516041\n",
      "[402]\tvalidation_0-logloss:0.307441\tvalidation_1-logloss:0.516454\n",
      "[403]\tvalidation_0-logloss:0.307376\tvalidation_1-logloss:0.516478\n",
      "[404]\tvalidation_0-logloss:0.307325\tvalidation_1-logloss:0.517168\n",
      "[405]\tvalidation_0-logloss:0.307299\tvalidation_1-logloss:0.517235\n",
      "[406]\tvalidation_0-logloss:0.307243\tvalidation_1-logloss:0.516832\n",
      "[407]\tvalidation_0-logloss:0.307154\tvalidation_1-logloss:0.51699\n",
      "[408]\tvalidation_0-logloss:0.3071\tvalidation_1-logloss:0.517397\n",
      "[409]\tvalidation_0-logloss:0.307046\tvalidation_1-logloss:0.518322\n",
      "[410]\tvalidation_0-logloss:0.307007\tvalidation_1-logloss:0.518684\n",
      "[411]\tvalidation_0-logloss:0.306965\tvalidation_1-logloss:0.518583\n",
      "[412]\tvalidation_0-logloss:0.306924\tvalidation_1-logloss:0.518712\n",
      "[413]\tvalidation_0-logloss:0.306848\tvalidation_1-logloss:0.518093\n",
      "[414]\tvalidation_0-logloss:0.306774\tvalidation_1-logloss:0.518244\n",
      "[415]\tvalidation_0-logloss:0.306729\tvalidation_1-logloss:0.518432\n",
      "[416]\tvalidation_0-logloss:0.306673\tvalidation_1-logloss:0.518497\n",
      "[417]\tvalidation_0-logloss:0.306644\tvalidation_1-logloss:0.518657\n",
      "[418]\tvalidation_0-logloss:0.306585\tvalidation_1-logloss:0.519169\n",
      "[419]\tvalidation_0-logloss:0.306519\tvalidation_1-logloss:0.519099\n",
      "[420]\tvalidation_0-logloss:0.306426\tvalidation_1-logloss:0.519008\n",
      "[421]\tvalidation_0-logloss:0.306344\tvalidation_1-logloss:0.518416\n",
      "[422]\tvalidation_0-logloss:0.306298\tvalidation_1-logloss:0.519245\n",
      "[423]\tvalidation_0-logloss:0.306242\tvalidation_1-logloss:0.519352\n",
      "[424]\tvalidation_0-logloss:0.306198\tvalidation_1-logloss:0.519503\n",
      "[425]\tvalidation_0-logloss:0.306142\tvalidation_1-logloss:0.518968\n",
      "[426]\tvalidation_0-logloss:0.306078\tvalidation_1-logloss:0.518623\n",
      "[427]\tvalidation_0-logloss:0.306041\tvalidation_1-logloss:0.518637\n",
      "[428]\tvalidation_0-logloss:0.305981\tvalidation_1-logloss:0.518892\n",
      "[429]\tvalidation_0-logloss:0.305931\tvalidation_1-logloss:0.519274\n",
      "[430]\tvalidation_0-logloss:0.305859\tvalidation_1-logloss:0.519342\n",
      "[431]\tvalidation_0-logloss:0.305829\tvalidation_1-logloss:0.518741\n",
      "[432]\tvalidation_0-logloss:0.305761\tvalidation_1-logloss:0.51865\n",
      "[433]\tvalidation_0-logloss:0.305733\tvalidation_1-logloss:0.519009\n",
      "[434]\tvalidation_0-logloss:0.3057\tvalidation_1-logloss:0.518856\n",
      "[435]\tvalidation_0-logloss:0.305645\tvalidation_1-logloss:0.518704\n",
      "[436]\tvalidation_0-logloss:0.305628\tvalidation_1-logloss:0.518601\n",
      "[437]\tvalidation_0-logloss:0.305579\tvalidation_1-logloss:0.519088\n",
      "[438]\tvalidation_0-logloss:0.305552\tvalidation_1-logloss:0.518785\n",
      "[439]\tvalidation_0-logloss:0.305519\tvalidation_1-logloss:0.518924\n",
      "[440]\tvalidation_0-logloss:0.305479\tvalidation_1-logloss:0.518725\n",
      "[441]\tvalidation_0-logloss:0.305433\tvalidation_1-logloss:0.518208\n",
      "[442]\tvalidation_0-logloss:0.305366\tvalidation_1-logloss:0.518721\n",
      "[443]\tvalidation_0-logloss:0.305333\tvalidation_1-logloss:0.518989\n",
      "[444]\tvalidation_0-logloss:0.305306\tvalidation_1-logloss:0.519242\n",
      "[445]\tvalidation_0-logloss:0.305245\tvalidation_1-logloss:0.518956\n",
      "[446]\tvalidation_0-logloss:0.305201\tvalidation_1-logloss:0.518687\n",
      "[447]\tvalidation_0-logloss:0.305157\tvalidation_1-logloss:0.519112\n",
      "[448]\tvalidation_0-logloss:0.305088\tvalidation_1-logloss:0.519145\n",
      "[449]\tvalidation_0-logloss:0.305058\tvalidation_1-logloss:0.519103\n",
      "[450]\tvalidation_0-logloss:0.305039\tvalidation_1-logloss:0.519325\n",
      "[451]\tvalidation_0-logloss:0.305011\tvalidation_1-logloss:0.519461\n",
      "[452]\tvalidation_0-logloss:0.304993\tvalidation_1-logloss:0.519563\n",
      "[453]\tvalidation_0-logloss:0.304967\tvalidation_1-logloss:0.519763\n",
      "[454]\tvalidation_0-logloss:0.30491\tvalidation_1-logloss:0.519982\n",
      "[455]\tvalidation_0-logloss:0.304853\tvalidation_1-logloss:0.520576\n",
      "[456]\tvalidation_0-logloss:0.304808\tvalidation_1-logloss:0.520466\n",
      "[457]\tvalidation_0-logloss:0.304752\tvalidation_1-logloss:0.520671\n",
      "[458]\tvalidation_0-logloss:0.304711\tvalidation_1-logloss:0.520787\n",
      "[459]\tvalidation_0-logloss:0.304649\tvalidation_1-logloss:0.521089\n",
      "[460]\tvalidation_0-logloss:0.304594\tvalidation_1-logloss:0.520494\n",
      "[461]\tvalidation_0-logloss:0.304552\tvalidation_1-logloss:0.520933\n",
      "[462]\tvalidation_0-logloss:0.304494\tvalidation_1-logloss:0.52068\n",
      "[463]\tvalidation_0-logloss:0.304459\tvalidation_1-logloss:0.520863\n",
      "[464]\tvalidation_0-logloss:0.30443\tvalidation_1-logloss:0.521236\n",
      "[465]\tvalidation_0-logloss:0.304363\tvalidation_1-logloss:0.520592\n",
      "[466]\tvalidation_0-logloss:0.304301\tvalidation_1-logloss:0.52005\n",
      "[467]\tvalidation_0-logloss:0.304269\tvalidation_1-logloss:0.519528\n",
      "[468]\tvalidation_0-logloss:0.304249\tvalidation_1-logloss:0.51949\n",
      "[469]\tvalidation_0-logloss:0.304187\tvalidation_1-logloss:0.518582\n",
      "[470]\tvalidation_0-logloss:0.304137\tvalidation_1-logloss:0.518088\n",
      "[471]\tvalidation_0-logloss:0.304108\tvalidation_1-logloss:0.518203\n",
      "[472]\tvalidation_0-logloss:0.304042\tvalidation_1-logloss:0.518645\n",
      "[473]\tvalidation_0-logloss:0.303971\tvalidation_1-logloss:0.518479\n",
      "[474]\tvalidation_0-logloss:0.303907\tvalidation_1-logloss:0.518884\n",
      "[475]\tvalidation_0-logloss:0.303859\tvalidation_1-logloss:0.51855\n",
      "[476]\tvalidation_0-logloss:0.303805\tvalidation_1-logloss:0.518869\n",
      "[477]\tvalidation_0-logloss:0.30376\tvalidation_1-logloss:0.518848\n",
      "[478]\tvalidation_0-logloss:0.303716\tvalidation_1-logloss:0.519068\n",
      "[479]\tvalidation_0-logloss:0.303689\tvalidation_1-logloss:0.519233\n",
      "[480]\tvalidation_0-logloss:0.303656\tvalidation_1-logloss:0.519663\n",
      "[481]\tvalidation_0-logloss:0.303594\tvalidation_1-logloss:0.519069\n",
      "[482]\tvalidation_0-logloss:0.303571\tvalidation_1-logloss:0.518901\n",
      "[483]\tvalidation_0-logloss:0.303544\tvalidation_1-logloss:0.518556\n",
      "[484]\tvalidation_0-logloss:0.303503\tvalidation_1-logloss:0.518681\n",
      "[485]\tvalidation_0-logloss:0.303467\tvalidation_1-logloss:0.51898\n",
      "[486]\tvalidation_0-logloss:0.303422\tvalidation_1-logloss:0.518612\n",
      "[487]\tvalidation_0-logloss:0.303397\tvalidation_1-logloss:0.518702\n",
      "[488]\tvalidation_0-logloss:0.30334\tvalidation_1-logloss:0.518345\n",
      "[489]\tvalidation_0-logloss:0.303308\tvalidation_1-logloss:0.518949\n",
      "[490]\tvalidation_0-logloss:0.303252\tvalidation_1-logloss:0.519141\n",
      "[491]\tvalidation_0-logloss:0.303197\tvalidation_1-logloss:0.519568\n",
      "[492]\tvalidation_0-logloss:0.303151\tvalidation_1-logloss:0.52008\n",
      "[493]\tvalidation_0-logloss:0.303121\tvalidation_1-logloss:0.52009\n",
      "[494]\tvalidation_0-logloss:0.303068\tvalidation_1-logloss:0.520196\n",
      "[495]\tvalidation_0-logloss:0.303025\tvalidation_1-logloss:0.520457\n",
      "[496]\tvalidation_0-logloss:0.302995\tvalidation_1-logloss:0.5204\n",
      "[497]\tvalidation_0-logloss:0.302978\tvalidation_1-logloss:0.520144\n",
      "[498]\tvalidation_0-logloss:0.302938\tvalidation_1-logloss:0.52027\n",
      "[499]\tvalidation_0-logloss:0.302903\tvalidation_1-logloss:0.520488\n",
      "[500]\tvalidation_0-logloss:0.302866\tvalidation_1-logloss:0.520733\n",
      "[501]\tvalidation_0-logloss:0.302818\tvalidation_1-logloss:0.520748\n",
      "[502]\tvalidation_0-logloss:0.302743\tvalidation_1-logloss:0.520014\n",
      "[503]\tvalidation_0-logloss:0.302697\tvalidation_1-logloss:0.519961\n",
      "[504]\tvalidation_0-logloss:0.302647\tvalidation_1-logloss:0.520151\n",
      "[505]\tvalidation_0-logloss:0.302624\tvalidation_1-logloss:0.519965\n",
      "[506]\tvalidation_0-logloss:0.302584\tvalidation_1-logloss:0.519547\n",
      "[507]\tvalidation_0-logloss:0.302566\tvalidation_1-logloss:0.519433\n",
      "[508]\tvalidation_0-logloss:0.302526\tvalidation_1-logloss:0.51898\n",
      "[509]\tvalidation_0-logloss:0.302499\tvalidation_1-logloss:0.518461\n",
      "[510]\tvalidation_0-logloss:0.30245\tvalidation_1-logloss:0.51861\n",
      "[511]\tvalidation_0-logloss:0.302403\tvalidation_1-logloss:0.518799\n",
      "[512]\tvalidation_0-logloss:0.302364\tvalidation_1-logloss:0.519062\n",
      "[513]\tvalidation_0-logloss:0.302353\tvalidation_1-logloss:0.519058\n",
      "[514]\tvalidation_0-logloss:0.30234\tvalidation_1-logloss:0.519244\n",
      "[515]\tvalidation_0-logloss:0.302275\tvalidation_1-logloss:0.51878\n",
      "[516]\tvalidation_0-logloss:0.302263\tvalidation_1-logloss:0.518848\n",
      "[517]\tvalidation_0-logloss:0.302215\tvalidation_1-logloss:0.519211\n",
      "[518]\tvalidation_0-logloss:0.302179\tvalidation_1-logloss:0.519136\n",
      "[519]\tvalidation_0-logloss:0.302151\tvalidation_1-logloss:0.518931\n",
      "[520]\tvalidation_0-logloss:0.30213\tvalidation_1-logloss:0.518991\n",
      "[521]\tvalidation_0-logloss:0.302081\tvalidation_1-logloss:0.518964\n",
      "[522]\tvalidation_0-logloss:0.302024\tvalidation_1-logloss:0.518151\n",
      "[523]\tvalidation_0-logloss:0.301993\tvalidation_1-logloss:0.51795\n",
      "[524]\tvalidation_0-logloss:0.301951\tvalidation_1-logloss:0.518722\n",
      "[525]\tvalidation_0-logloss:0.30192\tvalidation_1-logloss:0.518659\n",
      "[526]\tvalidation_0-logloss:0.301879\tvalidation_1-logloss:0.518538\n",
      "[527]\tvalidation_0-logloss:0.301845\tvalidation_1-logloss:0.51891\n",
      "[528]\tvalidation_0-logloss:0.301825\tvalidation_1-logloss:0.518751\n",
      "[529]\tvalidation_0-logloss:0.301792\tvalidation_1-logloss:0.519054\n",
      "[530]\tvalidation_0-logloss:0.30177\tvalidation_1-logloss:0.519147\n",
      "[531]\tvalidation_0-logloss:0.301728\tvalidation_1-logloss:0.519249\n",
      "[532]\tvalidation_0-logloss:0.30168\tvalidation_1-logloss:0.51888\n",
      "[533]\tvalidation_0-logloss:0.301635\tvalidation_1-logloss:0.519267\n",
      "[534]\tvalidation_0-logloss:0.301599\tvalidation_1-logloss:0.519444\n",
      "[535]\tvalidation_0-logloss:0.301562\tvalidation_1-logloss:0.51978\n",
      "[536]\tvalidation_0-logloss:0.301542\tvalidation_1-logloss:0.519874\n",
      "[537]\tvalidation_0-logloss:0.301484\tvalidation_1-logloss:0.519407\n",
      "[538]\tvalidation_0-logloss:0.301456\tvalidation_1-logloss:0.519305\n",
      "[539]\tvalidation_0-logloss:0.301436\tvalidation_1-logloss:0.519273\n",
      "[540]\tvalidation_0-logloss:0.301409\tvalidation_1-logloss:0.519463\n",
      "[541]\tvalidation_0-logloss:0.301399\tvalidation_1-logloss:0.519304\n",
      "[542]\tvalidation_0-logloss:0.301381\tvalidation_1-logloss:0.519483\n",
      "[543]\tvalidation_0-logloss:0.301345\tvalidation_1-logloss:0.519414\n",
      "[544]\tvalidation_0-logloss:0.301301\tvalidation_1-logloss:0.519633\n",
      "[545]\tvalidation_0-logloss:0.301271\tvalidation_1-logloss:0.519501\n",
      "[546]\tvalidation_0-logloss:0.301225\tvalidation_1-logloss:0.520433\n",
      "[547]\tvalidation_0-logloss:0.301195\tvalidation_1-logloss:0.520506\n",
      "[548]\tvalidation_0-logloss:0.301161\tvalidation_1-logloss:0.52044\n",
      "[549]\tvalidation_0-logloss:0.301149\tvalidation_1-logloss:0.520384\n",
      "[550]\tvalidation_0-logloss:0.301118\tvalidation_1-logloss:0.520343\n",
      "[551]\tvalidation_0-logloss:0.301104\tvalidation_1-logloss:0.520347\n",
      "[552]\tvalidation_0-logloss:0.301061\tvalidation_1-logloss:0.519925\n",
      "[553]\tvalidation_0-logloss:0.301018\tvalidation_1-logloss:0.519715\n",
      "[554]\tvalidation_0-logloss:0.30099\tvalidation_1-logloss:0.519843\n",
      "[555]\tvalidation_0-logloss:0.300958\tvalidation_1-logloss:0.52005\n",
      "[556]\tvalidation_0-logloss:0.300917\tvalidation_1-logloss:0.520436\n",
      "[557]\tvalidation_0-logloss:0.300875\tvalidation_1-logloss:0.519843\n",
      "[558]\tvalidation_0-logloss:0.300836\tvalidation_1-logloss:0.519357\n",
      "[559]\tvalidation_0-logloss:0.300808\tvalidation_1-logloss:0.519475\n",
      "[560]\tvalidation_0-logloss:0.300768\tvalidation_1-logloss:0.519204\n",
      "[561]\tvalidation_0-logloss:0.300728\tvalidation_1-logloss:0.518973\n",
      "[562]\tvalidation_0-logloss:0.300697\tvalidation_1-logloss:0.519067\n",
      "[563]\tvalidation_0-logloss:0.300664\tvalidation_1-logloss:0.519007\n",
      "[564]\tvalidation_0-logloss:0.30063\tvalidation_1-logloss:0.518727\n",
      "[565]\tvalidation_0-logloss:0.30061\tvalidation_1-logloss:0.518858\n",
      "[566]\tvalidation_0-logloss:0.300592\tvalidation_1-logloss:0.518376\n",
      "[567]\tvalidation_0-logloss:0.30056\tvalidation_1-logloss:0.518113\n",
      "[568]\tvalidation_0-logloss:0.300531\tvalidation_1-logloss:0.518149\n",
      "[569]\tvalidation_0-logloss:0.300496\tvalidation_1-logloss:0.518641\n",
      "[570]\tvalidation_0-logloss:0.300469\tvalidation_1-logloss:0.518623\n",
      "[571]\tvalidation_0-logloss:0.300441\tvalidation_1-logloss:0.518826\n",
      "[572]\tvalidation_0-logloss:0.300425\tvalidation_1-logloss:0.518495\n",
      "[573]\tvalidation_0-logloss:0.300411\tvalidation_1-logloss:0.518656\n",
      "[574]\tvalidation_0-logloss:0.300376\tvalidation_1-logloss:0.518607\n",
      "[575]\tvalidation_0-logloss:0.300338\tvalidation_1-logloss:0.519394\n",
      "[576]\tvalidation_0-logloss:0.300296\tvalidation_1-logloss:0.51954\n",
      "[577]\tvalidation_0-logloss:0.300286\tvalidation_1-logloss:0.519724\n",
      "[578]\tvalidation_0-logloss:0.300251\tvalidation_1-logloss:0.519729\n",
      "[579]\tvalidation_0-logloss:0.300213\tvalidation_1-logloss:0.519957\n",
      "[580]\tvalidation_0-logloss:0.300196\tvalidation_1-logloss:0.519807\n",
      "[581]\tvalidation_0-logloss:0.300169\tvalidation_1-logloss:0.519979\n",
      "[582]\tvalidation_0-logloss:0.300151\tvalidation_1-logloss:0.520259\n",
      "[583]\tvalidation_0-logloss:0.300117\tvalidation_1-logloss:0.520605\n",
      "[584]\tvalidation_0-logloss:0.300095\tvalidation_1-logloss:0.520894\n",
      "[585]\tvalidation_0-logloss:0.300065\tvalidation_1-logloss:0.520971\n",
      "[586]\tvalidation_0-logloss:0.300047\tvalidation_1-logloss:0.520667\n",
      "[587]\tvalidation_0-logloss:0.300038\tvalidation_1-logloss:0.520763\n",
      "[588]\tvalidation_0-logloss:0.30003\tvalidation_1-logloss:0.520718\n",
      "[589]\tvalidation_0-logloss:0.300008\tvalidation_1-logloss:0.520785\n",
      "[590]\tvalidation_0-logloss:0.299987\tvalidation_1-logloss:0.520857\n",
      "[591]\tvalidation_0-logloss:0.299963\tvalidation_1-logloss:0.520577\n",
      "[592]\tvalidation_0-logloss:0.299934\tvalidation_1-logloss:0.520819\n",
      "[593]\tvalidation_0-logloss:0.299896\tvalidation_1-logloss:0.521271\n",
      "[594]\tvalidation_0-logloss:0.29988\tvalidation_1-logloss:0.521515\n",
      "[595]\tvalidation_0-logloss:0.29985\tvalidation_1-logloss:0.52111\n",
      "[596]\tvalidation_0-logloss:0.299817\tvalidation_1-logloss:0.52145\n",
      "[597]\tvalidation_0-logloss:0.299784\tvalidation_1-logloss:0.521744\n",
      "[598]\tvalidation_0-logloss:0.299751\tvalidation_1-logloss:0.521888\n",
      "[599]\tvalidation_0-logloss:0.299723\tvalidation_1-logloss:0.522229\n"
     ]
    }
   ],
   "source": [
    "\n",
    "for i in range(len(left_train_features)):\n",
    "    hand_nodes_left_train_features[i] = list(hand_nodes_left_train_features[i]) + left_train_handfeatures[i]\n",
    "for i in range(len(left_test_features)):\n",
    "    hand_nodes_left_test_features[i] = list(hand_nodes_left_test_features[i]) + left_test_handfeatures[i]\n",
    "    \n",
    "for i in range(len(hand_nodes_right_train_features)):\n",
    "    hand_nodes_right_train_features[i] = list(hand_nodes_right_train_features[i]) + right_train_handfeatures[i]\n",
    "for i in range(len(hand_nodes_right_test_features)):\n",
    "    hand_nodes_right_test_features[i] = list(hand_nodes_right_test_features[i]) + right_test_handfeatures[i]\n",
    "\n",
    "\n",
    "hand_nodes_train_input, hand_nodes_train_output = createEvalSet(hand_nodes_right_train_features, hand_nodes_left_train_features)\n",
    "hand_nodes_test_input, hand_nodes_test_output = createEvalSet(hand_nodes_right_test_features, hand_nodes_left_test_features)\n",
    "\n",
    "hand_nodes_clf = XGBClassifier(n_estimators=600) \n",
    "\n",
    "hand_nodes_full = hand_nodes_clf.fit(hand_nodes_train_input, hand_nodes_train_output,\n",
    "        eval_set=[(hand_nodes_train_input, hand_nodes_train_output), (hand_nodes_test_input, hand_nodes_test_output)],\n",
    "        eval_metric='logloss',\n",
    "        verbose=True)"
   ]
  },
  {
   "cell_type": "code",
   "execution_count": 641,
   "metadata": {
    "collapsed": false
   },
   "outputs": [
    {
     "data": {
      "image/png": "[encoded data removed]",
      "text/plain": [
       "<matplotlib.figure.Figure at 0x10c3968d0>"
      ]
     },
     "metadata": {},
     "output_type": "display_data"
    }
   ],
   "source": [
    "import matplotlib.pyplot as plt\n",
    "\n",
    "hand_nodes_results_full = hand_nodes_full.evals_result()\n",
    "\n",
    "plt.plot(range(len(hand_nodes_results_full['validation_0']['logloss'])), hand_nodes_results_full['validation_0']['logloss'], label='Graph Features Train')\n",
    "plt.plot(range(len(hand_nodes_results_full['validation_1']['logloss'])), hand_nodes_results_full['validation_1']['logloss'], label='Graph Features Test')\n",
    "\n",
    "plt.xlabel('Iteration')\n",
    "plt.ylabel('Log Loss')\n",
    "plt.title('Log Loss for All Features')\n",
    "plt.legend()\n",
    "plt.savefig('logloss_all.png')\n"
   ]
  },
  {
   "cell_type": "code",
   "execution_count": 590,
   "metadata": {
    "collapsed": false
   },
   "outputs": [
    {
     "name": "stdout",
     "output_type": "stream",
     "text": [
      "Train f1:  0.809160305344\n",
      "Train AUC:  0.924679824377\n",
      "Train Accuracy:  0.812734082397\n",
      "Test f1:  0.707317073171\n",
      "Test AUC:  0.7995951417\n",
      "Test Accuracy:  0.688311688312\n"
     ]
    }
   ],
   "source": [
    "from sklearn.metrics import f1_score, roc_auc_score, accuracy_score\n",
    "\n",
    "Y_pred = hand_nodes_clf.predict(hand_nodes_train_input) #prediksi data cross validation menggunakan model tadi\n",
    "Y_pred_margin = hand_nodes_clf.predict(hand_nodes_train_input, output_margin=True) \n",
    "train_f1score = f1_score(hand_nodes_train_output, Y_pred)\n",
    "train_rocscore = roc_auc_score(hand_nodes_train_output, Y_pred_margin)\n",
    "train_accuracy_score = accuracy_score(hand_nodes_train_output, Y_pred)\n",
    "\n",
    "Y_pred = hand_nodes_clf.predict(hand_nodes_test_input) #prediksi data cross validation menggunakan model tadi\n",
    "Y_pred_margin = hand_nodes_clf.predict(hand_nodes_test_input, output_margin=True) \n",
    "test_f1score = f1_score(hand_nodes_test_output, Y_pred)\n",
    "test_rocscore = roc_auc_score(hand_nodes_test_output, Y_pred_margin)\n",
    "test_accuracy_score = accuracy_score(hand_nodes_test_output, Y_pred)\n",
    "\n",
    "print \"Train f1: \", train_f1score\n",
    "print \"Train AUC: \", train_rocscore\n",
    "print \"Train Accuracy: \", train_accuracy_score\n",
    "\n",
    "print \"Test f1: \", test_f1score\n",
    "print \"Test AUC: \", test_rocscore\n",
    "print \"Test Accuracy: \", test_accuracy_score\n",
    "\n"
   ]
  },
  {
   "cell_type": "code",
   "execution_count": 743,
   "metadata": {
    "collapsed": false
   },
   "outputs": [
    {
     "data": {
      "text/plain": [
       "<Container object of 154 artists>"
      ]
     },
     "execution_count": 743,
     "metadata": {},
     "output_type": "execute_result"
    },
    {
     "data": {
      "image/png": "[encoded data removed]",
      "text/plain": [
       "<matplotlib.figure.Figure at 0x1197cec10>"
      ]
     },
     "metadata": {},
     "output_type": "display_data"
    }
   ],
   "source": [
    "plt.title(\"Importance of Various Features\")\n",
    "plt.xlabel(\"Feature Number\")\n",
    "plt.ylabel(\"Relative Feature Importance\")\n",
    "plt.bar(range(len(hand_nodes_clf.feature_importances_)), hand_nodes_clf.feature_importances_)"
   ]
  },
  {
   "cell_type": "code",
   "execution_count": 668,
   "metadata": {
    "collapsed": false
   },
   "outputs": [
    {
     "data": {
      "text/plain": [
       "0.004669047"
      ]
     },
     "execution_count": 668,
     "metadata": {},
     "output_type": "execute_result"
    }
   ],
   "source": [
    "hand_nodes_clf.feature_importances_[131]"
   ]
  },
  {
   "cell_type": "code",
   "execution_count": 583,
   "metadata": {
    "collapsed": false
   },
   "outputs": [
    {
     "data": {
      "text/plain": [
       "<Container object of 128 artists>"
      ]
     },
     "execution_count": 583,
     "metadata": {},
     "output_type": "execute_result"
    },
    {
     "data": {
      "image/png": "[encoded data removed]",
      "text/plain": [
       "<matplotlib.figure.Figure at 0x1101cce90>"
      ]
     },
     "metadata": {},
     "output_type": "display_data"
    }
   ],
   "source": [
    "plt.title(\"Importance of Various Features\")\n",
    "plt.xlabel(\"Feature Number\")\n",
    "plt.ylabel(\"Relative Feature Importance\")\n",
    "plt.bar(range(len(breadth_depth_clf.feature_importances_)), breadth_depth_clf.feature_importances_)"
   ]
  },
  {
   "cell_type": "code",
   "execution_count": 594,
   "metadata": {
    "collapsed": false
   },
   "outputs": [
    {
     "data": {
      "text/plain": [
       "<Container object of 13 artists>"
      ]
     },
     "execution_count": 594,
     "metadata": {},
     "output_type": "execute_result"
    },
    {
     "data": {
      "image/png": "[encoded data removed]",
      "text/plain": [
       "<matplotlib.figure.Figure at 0x10cefad90>"
      ]
     },
     "metadata": {},
     "output_type": "display_data"
    }
   ],
   "source": [
    "plt.title(\"Importance of Various Features\")\n",
    "plt.xlabel(\"Feature Number\")\n",
    "plt.ylabel(\"Relative Feature Importance\")\n",
    "plt.bar(range(len(hand_clf.feature_importances_)),hand_clf.feature_importances_)"
   ]
  },
  {
   "cell_type": "code",
   "execution_count": 578,
   "metadata": {
    "collapsed": false
   },
   "outputs": [
    {
     "name": "stdout",
     "output_type": "stream",
     "text": [
      "77 77\n"
     ]
    },
    {
     "data": {
      "image/png": "[encoded data removed]",
      "text/plain": [
       "<matplotlib.figure.Figure at 0x10c9ca290>"
      ]
     },
     "metadata": {},
     "output_type": "display_data"
    }
   ],
   "source": [
    "from sklearn import metrics\n",
    "from matplotlib.font_manager import FontProperties\n",
    "\n",
    "Y_pred = hand_nodes_clf.predict(hand_nodes_test_input)\n",
    "print len(hand_nodes_test_output), len(Y_pred)\n",
    "\n",
    "Y_pred_margin = hand_nodes_clf.predict(hand_nodes_test_input, output_margin=True) \n",
    "fpr, tpr, _ = metrics.roc_curve(hand_nodes_test_output,  Y_pred_margin)\n",
    "auc = metrics.roc_auc_score(hand_nodes_test_output, Y_pred_margin)\n",
    "plt.plot(fpr,tpr,label=\"all features\")\n",
    "plt.legend(loc=4)\n",
    "\n",
    "Y_pred_margin = hand_clf.predict(hand_test_input, output_margin=True) \n",
    "fpr, tpr, _ = metrics.roc_curve(hand_test_output,  Y_pred_margin)\n",
    "auc = metrics.roc_auc_score(breadth_test_output, Y_pred)\n",
    "plt.plot(fpr,tpr,label=\"hand features\")\n",
    "plt.legend(loc=4)\n",
    "\n",
    "Y_pred_margin = breadth_depth_clf.predict(breadth_depth_test_input, output_margin=True) \n",
    "fpr, tpr, _ = metrics.roc_curve(breadth_depth_test_output,  Y_pred_margin)\n",
    "auc = metrics.roc_auc_score(breadth_depth_test_output, Y_pred)\n",
    "plt.plot(fpr,tpr,label=\"breadth and depth features\")\n",
    "plt.legend(loc=4)\n",
    "\n",
    "ax = plt.subplot(111)\n",
    "\n",
    "ax.legend(bbox_to_anchor=(1.1, 0.5))\n",
    "plt.ylabel('True Positive Rate')\n",
    "plt.xlabel('False Positive Rate')\n",
    "\n",
    "plt.show()"
   ]
  },
  {
   "cell_type": "code",
   "execution_count": 579,
   "metadata": {
    "collapsed": false
   },
   "outputs": [
    {
     "name": "stdout",
     "output_type": "stream",
     "text": [
      "77 77\n"
     ]
    },
    {
     "data": {
      "image/png": "[encoded data removed]",
      "text/plain": [
       "<matplotlib.figure.Figure at 0x112082e10>"
      ]
     },
     "metadata": {},
     "output_type": "display_data"
    }
   ],
   "source": [
    "from sklearn import metrics\n",
    "from matplotlib.font_manager import FontProperties\n",
    "\n",
    "Y_pred = hand_nodes_clf.predict(hand_nodes_test_input)\n",
    "print len(hand_nodes_test_output), len(Y_pred)\n",
    "\n",
    "Y_pred_margin = breadth_clf.predict(breadth_test_input, output_margin=True) \n",
    "fpr, tpr, _ = metrics.roc_curve(breadth_test_output,  Y_pred_margin)\n",
    "auc = metrics.roc_auc_score(breadth_test_output, Y_pred)\n",
    "plt.plot(fpr,tpr,label=\"breadth features\")\n",
    "plt.legend(loc=4)\n",
    "\n",
    "Y_pred_margin = breadth_clf.predict(depth_test_input, output_margin=True) \n",
    "fpr, tpr, _ = metrics.roc_curve(depth_test_output,  Y_pred_margin)\n",
    "auc = metrics.roc_auc_score(depth_test_output, Y_pred)\n",
    "plt.plot(fpr,tpr,label=\"depth features\")\n",
    "plt.legend(loc=4)\n",
    "\n",
    "Y_pred_margin = breadth_depth_clf.predict(breadth_depth_test_input, output_margin=True) \n",
    "fpr, tpr, _ = metrics.roc_curve(breadth_depth_test_output,  Y_pred_margin)\n",
    "auc = metrics.roc_auc_score(breadth_depth_test_output, Y_pred)\n",
    "plt.plot(fpr,tpr,label=\"breadth and depth features\")\n",
    "plt.legend(loc=4)\n",
    "\n",
    "ax = plt.subplot(111)\n",
    "\n",
    "# Shrink current axis's height by 10% on the bottom\n",
    "ax = plt.subplot(111)\n",
    "\n",
    "ax.legend(bbox_to_anchor=(1.1, 0.5))\n",
    "plt.ylabel('True Positive Rate')\n",
    "plt.xlabel('False Positive Rate')\n",
    "plt.show()"
   ]
  },
  {
   "cell_type": "code",
   "execution_count": 556,
   "metadata": {
    "collapsed": false
   },
   "outputs": [
    {
     "name": "stdout",
     "output_type": "stream",
     "text": [
      "Left Train Accuracy 0.831460674157\n",
      "Right Train Accuracy 0.794007490637\n"
     ]
    }
   ],
   "source": [
    "Y_pred = hand_nodes_clf.predict(hand_nodes_left_train_features) #prediksi data cross validation menggunakan model tadi\n",
    "left_accuracy = accuracy_score(Y_pred, len(Y_pred) * [0])\n",
    "print \"Left Train Accuracy\", left_accuracy \n",
    "\n",
    "Y_pred = hand_nodes_clf.predict(hand_nodes_right_train_features) #prediksi data cross validation menggunakan model tadi\n",
    "right_accuracy = accuracy_score(Y_pred, len(Y_pred) * [1])\n",
    "print \"Right Train Accuracy\", right_accuracy \n"
   ]
  },
  {
   "cell_type": "code",
   "execution_count": 557,
   "metadata": {
    "collapsed": false
   },
   "outputs": [
    {
     "name": "stdout",
     "output_type": "stream",
     "text": [
      "Left Test Accuracy 0.631578947368\n",
      "Right Test Accuracy 0.74358974359\n"
     ]
    }
   ],
   "source": [
    "Y_pred = hand_nodes_clf.predict(hand_nodes_left_test_features) #prediksi data cross validation menggunakan model tadi\n",
    "left_accuracy = accuracy_score(Y_pred, len(Y_pred) * [0])\n",
    "print \"Left Test Accuracy\", left_accuracy \n",
    "\n",
    "Y_pred = hand_nodes_clf.predict(hand_nodes_right_test_features) #prediksi data cross validation menggunakan model tadi\n",
    "right_accuracy = accuracy_score(Y_pred, len(Y_pred) * [1])\n",
    "print \"Right Test Accuracy\", right_accuracy \n"
   ]
  },
  {
   "cell_type": "code",
   "execution_count": 510,
   "metadata": {
    "collapsed": false
   },
   "outputs": [
    {
     "name": "stdout",
     "output_type": "stream",
     "text": [
      "[  1.20716095e+00   2.40437523e-01   1.40725410e+00   9.58906651e-01\n",
      "   9.83156860e-01   7.13991761e-01  -6.22464359e-01   6.92086279e-01\n",
      "  -5.44222556e-02   2.47105360e+00   3.84137154e-01  -6.17718883e-02\n",
      "   1.04251146e+00   2.38233805e+00  -5.14507294e-04  -5.05939484e-01\n",
      "   8.10590148e-01   9.83693600e-01  -4.07813340e-01   1.52066076e+00\n",
      "   7.99308181e-01   4.19880688e-01   1.68067906e-02  -4.83315974e-01\n",
      "  -1.07892966e+00   1.60074925e+00  -2.00365320e-01  -7.26552665e-01\n",
      "   8.46937224e-02   8.48907113e-01   6.03643537e-01   1.56176698e+00\n",
      "  -1.02868184e-01   1.19468093e+00   1.72721648e+00   2.34716940e+00\n",
      "   2.74583530e+00   3.27228165e+00   2.92594396e-02]\n"
     ]
    }
   ],
   "source": [
    "Y_pred = hand_nodes_clf.predict(right_test_features, output_margin=True) #prediksi data cross validation menggunakan model tadi\n",
    "#right_accuracy = accuracy_score(Y_pred, len(Y_pred) * [1])\n",
    "#print \"Right Test Accuracy\", right_accuracy \n",
    "print Y_pred"
   ]
  },
  {
   "cell_type": "code",
   "execution_count": 511,
   "metadata": {
    "collapsed": false
   },
   "outputs": [
    {
     "name": "stdout",
     "output_type": "stream",
     "text": [
      "[1 1 1 1 1 1 0 1 0 1 1 0 1 1 0 0 1 1 0 1 1 1 1 0 0 1 0 0 1 1 1 1 0 1 1 1 1\n",
      " 1 1]\n"
     ]
    }
   ],
   "source": [
    "Y_pred = hand_nodes_clf.predict(right_test_features) #prediksi data cross validation menggunakan model tadi\n",
    "#right_accuracy = accuracy_score(Y_pred, len(Y_pred) * [1])\n",
    "#print \"Right Test Accuracy\", right_accuracy \n",
    "print Y_pred"
   ]
  },
  {
   "cell_type": "code",
   "execution_count": 512,
   "metadata": {
    "collapsed": false
   },
   "outputs": [],
   "source": [
    "embeddings = {}\n",
    "\n",
    "for k, v in prunedNodeIDToDomain.iteritems(): \n",
    "    embeddings[k] = urlToEmbedding(v, \"breadth\") + urlToEmbedding(v, \"depth\")"
   ]
  },
  {
   "cell_type": "code",
   "execution_count": null,
   "metadata": {
    "collapsed": false
   },
   "outputs": [],
   "source": [
    "len(embeddings)"
   ]
  },
  {
   "cell_type": "code",
   "execution_count": null,
   "metadata": {
    "collapsed": false
   },
   "outputs": [],
   "source": [
    "embeddings.keys()"
   ]
  },
  {
   "cell_type": "code",
   "execution_count": 513,
   "metadata": {
    "collapsed": false
   },
   "outputs": [],
   "source": [
    "scores = {}\n",
    "for k, v in embeddings.iteritems():\n",
    "    scores[k] = clf.predict([v], output_margin=True)[0]"
   ]
  },
  {
   "cell_type": "code",
   "execution_count": null,
   "metadata": {
    "collapsed": false
   },
   "outputs": [],
   "source": [
    "scores"
   ]
  },
  {
   "cell_type": "code",
   "execution_count": 697,
   "metadata": {
    "collapsed": true
   },
   "outputs": [],
   "source": [
    "x = []\n",
    "y = []\n",
    "\n",
    "for k, v in scores.iteritems():\n",
    "    x.append(v)\n",
    "    y.append(NIdCCfH[k])"
   ]
  },
  {
   "cell_type": "code",
   "execution_count": 698,
   "metadata": {
    "collapsed": false
   },
   "outputs": [
    {
     "data": {
      "text/plain": [
       "array([[ 1.        , -0.02530809],\n",
       "       [-0.02530809,  1.        ]])"
      ]
     },
     "execution_count": 698,
     "metadata": {},
     "output_type": "execute_result"
    }
   ],
   "source": [
    "np.corrcoef(x, y)"
   ]
  },
  {
   "cell_type": "code",
   "execution_count": 522,
   "metadata": {
    "collapsed": false
   },
   "outputs": [
    {
     "data": {
      "text/plain": [
       "<matplotlib.collections.PathCollection at 0x1121f2750>"
      ]
     },
     "execution_count": 522,
     "metadata": {},
     "output_type": "execute_result"
    },
    {
     "data": {
      "image/png": "[encoded data removed]",
      "text/plain": [
       "<matplotlib.figure.Figure at 0x111256a50>"
      ]
     },
     "metadata": {},
     "output_type": "display_data"
    }
   ],
   "source": [
    "sample = random.sample(range(len(x)), 1000)\n",
    "x = [x[i] for i in sample]\n",
    "y = [y[i] for i in sample]\n",
    "\n",
    "plt.xlabel(\"Margin\")\n",
    "plt.ylabel('Clustering Coefficient')\n",
    "plt.scatter(x, y)"
   ]
  },
  {
   "cell_type": "code",
   "execution_count": null,
   "metadata": {
    "collapsed": true
   },
   "outputs": [],
   "source": []
  },
  {
   "cell_type": "code",
   "execution_count": null,
   "metadata": {
    "collapsed": false
   },
   "outputs": [],
   "source": [
    "plt.scatter(x, y)"
   ]
  },
  {
   "cell_type": "code",
   "execution_count": 695,
   "metadata": {
    "collapsed": false
   },
   "outputs": [],
   "source": [
    "x = []\n",
    "y = []\n",
    "for k, v in scores.iteritems(): \n",
    "    neighbors_sum = 0\n",
    "    \n",
    "    node = dirLinkGraph.GetNI(k)\n",
    "    \n",
    "    for i in range(node.GetDeg()): \n",
    "        nbr_node = node.GetNbrNId(i)\n",
    "        neighbors_sum += scores[nbr_node]\n",
    "    mean = float(neighbors_sum) / node.GetDeg()\n",
    "    x.append(v)\n",
    "    y.append(mean)"
   ]
  },
  {
   "cell_type": "code",
   "execution_count": null,
   "metadata": {
    "collapsed": false
   },
   "outputs": [],
   "source": [
    "from scipy.stats.stats import pearsonr   \n",
    " \n",
    "print pearsonr(x,y)"
   ]
  },
  {
   "cell_type": "code",
   "execution_count": 696,
   "metadata": {
    "collapsed": false
   },
   "outputs": [
    {
     "data": {
      "text/plain": [
       "array([[ 1.        ,  0.67921777],\n",
       "       [ 0.67921777,  1.        ]])"
      ]
     },
     "execution_count": 696,
     "metadata": {},
     "output_type": "execute_result"
    }
   ],
   "source": [
    "np.corrcoef(x, y)"
   ]
  },
  {
   "cell_type": "code",
   "execution_count": 520,
   "metadata": {
    "collapsed": false
   },
   "outputs": [
    {
     "data": {
      "text/plain": [
       "<matplotlib.collections.PathCollection at 0x111249250>"
      ]
     },
     "execution_count": 520,
     "metadata": {},
     "output_type": "execute_result"
    },
    {
     "data": {
      "image/png": "[encoded data removed]",
      "text/plain": [
       "<matplotlib.figure.Figure at 0x11076c210>"
      ]
     },
     "metadata": {},
     "output_type": "display_data"
    }
   ],
   "source": [
    "sample = random.sample(range(len(x)), 1000)\n",
    "x = [x[i] for i in sample]\n",
    "y = [y[i] for i in sample]\n",
    "\n",
    "plt.xlabel('Margin')\n",
    "plt.ylabel('Average Margin')\n",
    "plt.scatter(x, y)"
   ]
  },
  {
   "cell_type": "code",
   "execution_count": 692,
   "metadata": {
    "collapsed": true
   },
   "outputs": [],
   "source": [
    "x = []\n",
    "y = []\n",
    "\n",
    "for k, v in scores.iteritems():\n",
    "    x.append(v)\n",
    "    y.append(PRankH[k])"
   ]
  },
  {
   "cell_type": "code",
   "execution_count": 693,
   "metadata": {
    "collapsed": false
   },
   "outputs": [
    {
     "data": {
      "text/plain": [
       "<matplotlib.collections.PathCollection at 0x123ed2e90>"
      ]
     },
     "execution_count": 693,
     "metadata": {},
     "output_type": "execute_result"
    },
    {
     "data": {
      "image/png": "[encoded data removed]",
      "text/plain": [
       "<matplotlib.figure.Figure at 0x107971950>"
      ]
     },
     "metadata": {},
     "output_type": "display_data"
    }
   ],
   "source": [
    "sample = random.sample(range(len(x)), 1000)\n",
    "x = [x[i] for i in sample]\n",
    "y = [y[i] for i in sample]\n",
    "\n",
    "plt.xlabel('Margin')\n",
    "plt.ylabel('Page Rank')\n",
    "plt.yscale('log')\n",
    "plt.scatter(x, y)"
   ]
  },
  {
   "cell_type": "code",
   "execution_count": 694,
   "metadata": {
    "collapsed": false
   },
   "outputs": [
    {
     "data": {
      "text/plain": [
       "array([[ 1.        , -0.00102329],\n",
       "       [-0.00102329,  1.        ]])"
      ]
     },
     "execution_count": 694,
     "metadata": {},
     "output_type": "execute_result"
    }
   ],
   "source": [
    "np.corrcoef(x, y)"
   ]
  },
  {
   "cell_type": "code",
   "execution_count": 675,
   "metadata": {
    "collapsed": false
   },
   "outputs": [],
   "source": [
    "neither = 0\n",
    "conservative = 0\n",
    "liberal = 0\n",
    "for k, v in scores.iteritems():\n",
    "    if v == 0:\n",
    "        neither += 1\n",
    "    elif v > 0:\n",
    "        conservative += 1\n",
    "    else:\n",
    "        liberal += 1"
   ]
  },
  {
   "cell_type": "code",
   "execution_count": 676,
   "metadata": {
    "collapsed": false
   },
   "outputs": [
    {
     "name": "stdout",
     "output_type": "stream",
     "text": [
      "0 2945 5572\n"
     ]
    }
   ],
   "source": [
    "print neither, conservative, liberal"
   ]
  },
  {
   "cell_type": "code",
   "execution_count": 679,
   "metadata": {
    "collapsed": false
   },
   "outputs": [
    {
     "data": {
      "text/plain": [
       "<matplotlib.collections.PathCollection at 0x10ad117d0>"
      ]
     },
     "execution_count": 679,
     "metadata": {},
     "output_type": "execute_result"
    },
    {
     "data": {
      "image/png": "[encoded data removed]",
      "text/plain": [
       "<matplotlib.figure.Figure at 0x10aedeb10>"
      ]
     },
     "metadata": {},
     "output_type": "display_data"
    }
   ],
   "source": [
    "x = []\n",
    "y = []\n",
    "\n",
    "for k, v in scores.iteritems():\n",
    "    x.append(v)\n",
    "    y.append(PRankH[k])\n",
    "    \n",
    "sample = random.sample(range(len(x)), 1000)\n",
    "x = [x[i] for i in sample]\n",
    "y = [y[i] for i in sample]\n",
    "\n",
    "plt.xlabel('Page Rank')\n",
    "plt.ylabel('Margin')\n",
    "plt.scatter(y, x)"
   ]
  },
  {
   "cell_type": "code",
   "execution_count": 750,
   "metadata": {
    "collapsed": false
   },
   "outputs": [],
   "source": [
    "x = []\n",
    "y = []\n",
    "for k, v in scores.iteritems(): \n",
    "    alpha = 1\n",
    "    beta = 1\n",
    "    \n",
    "    node = dirLinkGraph.GetNI(k)\n",
    "    \n",
    "    for i in range(node.GetDeg()): \n",
    "        nbr_node = node.GetNbrNId(i)\n",
    "        if dirLinkGraph.IsEdge(k, nbr_node):\n",
    "            if scores[nbr_node] > 0: \n",
    "                beta += 1\n",
    "            else:\n",
    "                alpha += 1\n",
    "    if alpha == 1 and beta == 1:\n",
    "        continue\n",
    "    l = float(alpha)/(alpha + beta)\n",
    "    p = 2 * abs(0.5 - l)\n",
    "    x.append(v)\n",
    "    y.append(p)\n",
    "sample = random.sample(range(len(x)), 1000)\n",
    "x = [x[i] for i in sample]\n",
    "y = [y[i] for i in sample]"
   ]
  },
  {
   "cell_type": "code",
   "execution_count": 751,
   "metadata": {
    "collapsed": false
   },
   "outputs": [
    {
     "data": {
      "text/plain": [
       "<matplotlib.collections.PathCollection at 0x11e3eef50>"
      ]
     },
     "execution_count": 751,
     "metadata": {},
     "output_type": "execute_result"
    },
    {
     "data": {
      "image/png": "[encoded data removed]",
      "text/plain": [
       "<matplotlib.figure.Figure at 0x11e1bc9d0>"
      ]
     },
     "metadata": {},
     "output_type": "display_data"
    }
   ],
   "source": [
    "plt.xlabel(\"Margin\")\n",
    "plt.ylabel('Polarity')\n",
    "plt.scatter(x, y)"
   ]
  },
  {
   "cell_type": "code",
   "execution_count": 686,
   "metadata": {
    "collapsed": false
   },
   "outputs": [
    {
     "data": {
      "text/plain": [
       "array([[ 1.        , -0.34726444],\n",
       "       [-0.34726444,  1.        ]])"
      ]
     },
     "execution_count": 686,
     "metadata": {},
     "output_type": "execute_result"
    }
   ],
   "source": [
    "np.corrcoef(x, y)"
   ]
  },
  {
   "cell_type": "code",
   "execution_count": 691,
   "metadata": {
    "collapsed": false
   },
   "outputs": [
    {
     "name": "stdout",
     "output_type": "stream",
     "text": [
      "0.5\n",
      "0.474975096601\n",
      "0.201641183096\n",
      "0.305507246377\n",
      "0.318901673934\n",
      "0.200670844002\n"
     ]
    }
   ],
   "source": [
    "left = []\n",
    "right = []\n",
    "\n",
    "for idx in range(len(x)):\n",
    "    if x[idx] < 0: \n",
    "        left.append(y[idx])\n",
    "    else:\n",
    "        right.append(y[idx])\n",
    "\n",
    "print np.median(left)\n",
    "print np.mean(left)\n",
    "print np.std(left)\n",
    "\n",
    "print np.median(right)\n",
    "print np.mean(right)\n",
    "print np.std(right)"
   ]
  },
  {
   "cell_type": "code",
   "execution_count": 699,
   "metadata": {
    "collapsed": true
   },
   "outputs": [],
   "source": [
    "NIdHubH = snap.TIntFltH()\n",
    "NIdAuthH = snap.TIntFltH()\n",
    "snap.GetHits(dirLinkGraph, NIdHubH, NIdAuthH)"
   ]
  },
  {
   "cell_type": "code",
   "execution_count": 701,
   "metadata": {
    "collapsed": false
   },
   "outputs": [
    {
     "name": "stdout",
     "output_type": "stream",
     "text": [
      "[[ 1.         -0.01629277]\n",
      " [-0.01629277  1.        ]]\n"
     ]
    },
    {
     "data": {
      "text/plain": [
       "<matplotlib.collections.PathCollection at 0x10ade0c50>"
      ]
     },
     "execution_count": 701,
     "metadata": {},
     "output_type": "execute_result"
    },
    {
     "data": {
      "image/png": "[encoded data removed]",
      "text/plain": [
       "<matplotlib.figure.Figure at 0x10acde190>"
      ]
     },
     "metadata": {},
     "output_type": "display_data"
    }
   ],
   "source": [
    "x = []\n",
    "y = []\n",
    "\n",
    "for k, v in scores.iteritems():\n",
    "    x.append(v)\n",
    "    y.append(NIdHubH[k])\n",
    "print np.corrcoef(x, y)\n",
    "\n",
    "\n",
    "    \n",
    "sample = random.sample(range(len(x)), 1000)\n",
    "x = [x[i] for i in sample]\n",
    "y = [y[i] for i in sample]\n",
    "\n",
    "plt.xlabel('Margin')\n",
    "plt.ylabel('Hub Score')\n",
    "plt.scatter(x, y)"
   ]
  },
  {
   "cell_type": "code",
   "execution_count": 749,
   "metadata": {
    "collapsed": false
   },
   "outputs": [
    {
     "name": "stdout",
     "output_type": "stream",
     "text": [
      "[[ 1.         -0.03520692]\n",
      " [-0.03520692  1.        ]]\n"
     ]
    },
    {
     "data": {
      "text/plain": [
       "<matplotlib.collections.PathCollection at 0x11e1d08d0>"
      ]
     },
     "execution_count": 749,
     "metadata": {},
     "output_type": "execute_result"
    },
    {
     "data": {
      "image/png": "[encoded data removed]",
      "text/plain": [
       "<matplotlib.figure.Figure at 0x11e188c50>"
      ]
     },
     "metadata": {},
     "output_type": "display_data"
    }
   ],
   "source": [
    "x = []\n",
    "y = []\n",
    "\n",
    "for k, v in scores.iteritems():\n",
    "    x.append(v)\n",
    "    y.append(NIdAuthH[k])\n",
    "print np.corrcoef(x, y)\n",
    "    \n",
    "sample = random.sample(range(len(x)), 1000)\n",
    "x = [x[i] for i in sample]\n",
    "y = [y[i] for i in sample]\n",
    "\n",
    "plt.xlabel('Margin')\n",
    "plt.ylabel('Auth Score')\n",
    "plt.yscale('log')\n",
    "plt.scatter(x, y)"
   ]
  },
  {
   "cell_type": "code",
   "execution_count": 705,
   "metadata": {
    "collapsed": false
   },
   "outputs": [
    {
     "data": {
      "text/plain": [
       "-2.6000767"
      ]
     },
     "execution_count": 705,
     "metadata": {},
     "output_type": "execute_result"
    }
   ],
   "source": [
    "len(prunedDomainToNodeID)\n",
    "scores[prunedDomainToNodeID[\"nytimes.com\"]]"
   ]
  },
  {
   "cell_type": "code",
   "execution_count": 706,
   "metadata": {
    "collapsed": false
   },
   "outputs": [
    {
     "name": "stdout",
     "output_type": "stream",
     "text": [
      "nytimes.com -2.60008\n",
      "cbsnews.com -0.489039\n",
      "abcnews.go.com -1.61127\n",
      "wsj.com 0.943018\n",
      "cnn.com -1.73159\n",
      "usatoday.com -0.0181002\n",
      "latimes.com -1.69177\n",
      "bloomberg.com 0.402597\n",
      "washingtonpost.com -1.28548\n",
      "npr.org -1.762\n",
      "foxnews.com 1.7097\n",
      "vice.com 0.568224\n",
      "huffingtonpost.com -0.7288\n"
     ]
    }
   ],
   "source": [
    "print \"nytimes.com\", scores[prunedDomainToNodeID[\"nytimes.com\"]]\n",
    "print \"cbsnews.com\", scores[prunedDomainToNodeID[\"cbsnews.com\"]]\n",
    "print \"abcnews.go.com\", scores[prunedDomainToNodeID[\"abcnews.go.com\"]]\n",
    "print \"wsj.com\", scores[prunedDomainToNodeID[\"wsj.com\"]]\n",
    "print \"cnn.com\", scores[prunedDomainToNodeID[\"cnn.com\"]]\n",
    "print \"usatoday.com\", scores[prunedDomainToNodeID[\"usatoday.com\"]]\n",
    "print \"latimes.com\", scores[prunedDomainToNodeID[\"latimes.com\"]]\n",
    "print \"bloomberg.com\", scores[prunedDomainToNodeID[\"bloomberg.com\"]]\n",
    "print \"washingtonpost.com\", scores[prunedDomainToNodeID[\"washingtonpost.com\"]]\n",
    "print \"npr.org\", scores[prunedDomainToNodeID[\"npr.org\"]]\n",
    "print \"foxnews.com\", scores[prunedDomainToNodeID[\"foxnews.com\"]]\n",
    "print \"vice.com\", scores[prunedDomainToNodeID[\"vice.com\"]]\n",
    "print \"huffingtonpost.com\", scores[prunedDomainToNodeID[\"huffingtonpost.com\"]]"
   ]
  },
  {
   "cell_type": "code",
   "execution_count": 725,
   "metadata": {
    "collapsed": false
   },
   "outputs": [
    {
     "name": "stdout",
     "output_type": "stream",
     "text": [
      "-0.183147 -0.294242 0.589914\n"
     ]
    }
   ],
   "source": [
    "left_far_urls = set(['drudge.com', 'washingtonsources.org', 'akkadiantimes.com', 'deadstate.org', 'thelasource.com', 'americablog.com', 'meduza.io', 'thenewcivilrightsmovement.com', 'newstatesman.com', 'wonkette.com', 'mirror.co.uk', 'libcom.org', 'deepleftfield.info', 'intrepidreport.com', 'rawprogressive.com', 'viraltitle.com', 'worldcantwait.net', 'happy-foxie.com', 'newint.org', 'revcom.us', 'lavendermagazine.com', 'newrepublic.com', 'washingtonpress.com', 'theimproper.com', 'nationofchange.org', 'projectcensored.org', 'peacock-panache.com', 'newpol.org', 'democracyguardian.com', 'dallasvoice.com', 'uproxx.com', 'jezebel.com', 'bluedotdaily.com', 'content.news', 'boingboing.net', 'blacklivesmatter.com', 'reverepress.com', 'whatmattersnews.com', 'au.org', 'hrc.org', 'impeachdjtnow.com', 'leftoverrights.com', 'progressivefrontier.com', 'putintrump.org', 'progressive.org', 'newshounds.us', 'liberationnews.org', 'certifiedpolitics.com', 'angrywhitemen.org', 'forwardprogressives.com', 'theintellectualist.co', 'smirkingchimp.com', 'elitedaily.com', 'leftwingnation.org', 'daily49er.com', 'itsgoingdown.org', 'jacobinmag.com', 'tribunemagazine.org', 'leftscoop.com', 'democraticunderground.com', 'yesmagazine.org', 'newyorker.com', 'theroot.com', 'fifthestate.org', 'electronicintifada.net', 'allthatsfab.com', 'upworthy.com', 'moonofalabama.org', 'themaven.net', 'freepress.org', 'salon.com', 'carbonated.tv', 'mondoweiss.net', 'austinchronicle.com', 'globalvoices.org', 'thedailyvox.co.za', 'yourblackworld.net', 'meanlefthook.com', 'backedbyfact.com', 'gizmodo.com', 'liberalexaminer.com', 'care2.com', 'dctribune.org', 'leftfootforward.org', 'workers.org', 'newslogue.com', 'rewire.news', 'pravdareport.com', 'gq.com', 'foreignpolicyjournal.com', 'redpepper.org.uk', 'act.tv', 'leftsideofhistory.com', 'redyouth.org', 'politicaldig.com', 'crooksandliars.com', 'americanbridgepac.org', 'commondreams.org', 'chicagoreader.com', 'marxist.com', 'dailydot.com', 'nymag.com', 'guardianlv.com', 'telesurtv.net', 'pinknews.co.uk', 'filmingcops.com', 'photographyisnotacrime.com', 'washingtonmonthly.com', 'republicanssucks.org', 'theuspoliticalpost.com', 'ebar.com', 'politicususa.com', 'iowastartingline.com', 'lgbtqnation.com', 'blackagendareport.com', 'foreignpolicynews.org', 'opednews.com', 'thenation.com', 'pastemagazine.com', 'proudemocrat.com', 'thedailybanter.com', 'washingtonjournal.com', 'loveknowledge.org', 'codepink.org', 'worldsocialism.org', 'breitbartunmasked.com', 'samuel-warde.com', 'dailydems.com', 'advocate.com', 'internationalviewpoint.org', 'progressivearmy.com', 'aidc.org.za', 'samefacts.com', 'thefloridasqueeze.com', 'freedomnews.org.uk', 'people.com', 'elisabethparker.com', 'politicalupdater.com', 'earthfirstjournal.org', 'nowthisnews.com', 'wearyourvoicemag.com', 'chroniclesofdemocracy.com', 'thefrisky.com', 'modernliberals.com', 'blue-route.org', 'resilience.org', 'afj.org', 'gopocalypse.org', 'north99.org', 'curvemag.com', 'esquire.com', 'citizencritics.org', 'shadowproof.com', 'readingthepictures.org', 'ir.net', 'leftvoice.org', 'takepart.com', 'democracynow.org', 'other98.com', 'inthesetimes.com', 'scarymommy.com', 'dailykos.com', 'deepstatenation.com', 'feministcurrent.com', 'verrit.com', 'morningstaronline.co.uk', 'currentaffairs.org', 'bust.com', 'dieharddemocrat.com', 'rantt.com', 'littlegreenfootballs.com', 'citypaper.com', 'usuncut.com', 'extranewsfeed.com', 'evonomics.com', 'mashable.com', 'americanprogress.org', 'towleroad.com', 'verifiedpolitics.com', 'syriana-analysis.com', 'nap-sack.org', 'nova-magazine.net', 'tytnetwork.com', 'truth-out.org', 'dissentmagazine.org', 'theguardiansofdemocracy.com', 'redstatedisaster.com', 'nationalmemo.com', 'truthagainstthemachine.com', 'thinkprogress.org', 'countercurrents.org', 'frnewsreport.com', 'zcomm.org', 'mediamatters.org', 'theoswatch.com', 'thegrio.com', 'splinternews.com', 'the-daily.buzz', 'economyincrisis.org', 'texasobserver.org', 'electoral-vote.com', 'antifascistnews.net', 'truthdig.com', 'desmogblog.com', 'liberalamerica.org', 'motherjones.com', 'talkingpointsmemo.com', 'pressprogress.ca', 'ourvoiceny.com', 'addictinginfo.com', 'vox.com', 'everydayfeminism.com', 'merryjane.com', 'vanityfair.com', 'change.org', 'deadspin.com', 'inequalitymedia.org', 'queerty.com', 'rightwingwatch.org', 'front.moveon.org', 'theestablishment.co', 'cnntimes.online', 'pfaw.org', 'revolution-news.com', 'onegreenplanet.org', 'vermontindependent.org', 'prwatch.org', 'slate.com', 'bluenationreview.com', 'greenleft.org.au', 'themilitant.com', 'popularresistance.org', 'ips-dc.org', 'thelily.com', 'whowhatwhy.org', 'readersupportednews.org', 'news.groopspeak.com', 'thesternfacts.com', 'canadiandimension.com', 'rawstory.com', 'vote.us.org', 'molad.org', 'newscorpse.com', 'nowtoronto.com', 'dailynewsbin.com', 'bradford-delong.com', 'dailyrecord.co.uk', 'rabble.ca', 'progressiveliberal.net', 'theburningspear.com', 'bitchmedia.org', 'good.is', 'cnn.com', 'americanindependent.com', 'feministing.com', 'counterpunch.org', 'crimethinc.com', 'middleeastmonitor.com', 'crooked.com', 'huffingtonpost.com', 'freespeech.org', 'climaterealityproject.org', 'firstpost.com', 'egbertowillies.com', 'theoutline.com', 'stpete4peace.org', 'bluestatedaily.com', 'prospect.org', 'msmagazine.com', 'cosmopolitan.com', 'mediaite.com', 'rappler.com', 'villagevoice.com', 'thedailybeast.com', 'socialistworker.org', 'autostraddle.com', 'alternet.org', 'latest.com', 'shareblue.com', 'trofire.com', 'newsweek.com', 'palmerreport.com', 'sourcewatch.org', 'americannewsx.com', 'globetoday.com', 'miaminewtimes.com', 'themarysue.com', 'thewalrus.ca', 'this.org', 'thelondoneconomic.com', 'democratichub.com', 'thecanary.co', 'juancole.com', 'greenvillegazette.com'])\n",
    "left_center_urls = set(['helsinkitimes.fi', 'indystar.com', 'news.trust.org', 'canadalandshow.com', 'lapresse.ca', 'timescolonist.com', 'ahtribune.com', 'rudaw.net', 'berkshireeagle.com', 'almasdarnews.com', 'theatlantic.com', 'wgntv.com', 'thenewstribune.com', 'ozy.com', 'politico.com', 'syriahr.com', 'billmoyers.com', 'denverpost.com', 'thelocal.no', 'populationconnection.org', 'elpasotimes.com', 'nakedcapitalism.com', 'buffalonews.com', 'thecitizen.org.au', 'ynetnews.com', 'timesofisrael.com', 'glamour.com', 'windsorstar.com', 'sfgate.com', 'stltoday.com', 'politicsthatwork.com', 'newsandgutsmedia.com', 'jointcenter.org', 'ydr.com', 'democratandchronicle.com', 'credoaction.com', 'vancouversun.com', 'outsidethebeltway.com', 'twincities.com', 'thenewtropic.com', 'scroll.in', 'phoenixnewtimes.com', 'taxjustice.net', 'mediafiledc.com', 'thefifthcolumnnews.com', 'freep.com', 'emirates247.com', 'wnyc.org', 'spiegel.de', 'thetab.com', 'al-monitor.com', 'saudigazette.com.sa', 'lethbridgeherald.com', 'atlantablackstar.com', 'urban.org', 'revealnews.org', 'bustle.com', 'legitgov.org', 'mwcnews.net', 'thewire.in', 'hindustantimes.com', 'themoscowtimes.com', 'humanium.org', 'cbsnews.com', 'fair.org', 'insidehighered.com', 'rfa.org', 'deccanherald.com', 'youthradio.org', 'qz.com', 'resourcegovernance.org', 'wingsoverscotland.com', 'dutchdailynews.com', 'sojo.net', 'lawfareblog.com', 'jihadica.com', 'panampost.com', 'economictimes.indiatimes.com', 'tomdispatch.com', 'greensboro.com', 'nj.com', 'caribbeanlifenews.com', 'insideclimatenews.org', 'inquirer.net', 'ohio.com', 'capitalgazette.com', 'diversityinc.com', 'therealnews.com', 'newsite.thehindu.com', 'shameproject.com', 'themonthly.com.au', 'abcnews.go.com', 'citizen.org', 'votevets.org', 'dawn.com', 'sandiegofreepress.org', 'kmov.com', 'newsy.com', 'heavy.com', 'staradvertiser.com', 'tucson.com', 'dailyclimate.org', 'bbc.com', 'neweurope.eu', 'alhayat.com', 'birminghammail.co.uk', 'commoncause.org', 'roanoke.com', 'cleantechnica.com', 'ajc.com', 'monthlyreview.org', 'bluestemprairie.com', 'courant.com', 'emptywheel.net', 'rooseveltinstitute.org', 'citizensforethics.org', 'silive.com', 'earthjustice.org', 'sootoday.com', 'necn.com', 'engadget.com', 'newser.com', 'morningconsult.com', 'ndtv.com', 'economicshelp.org', 'annistonstar.com', 'kotaku.com', 'nbcnews.com', 'berkeleyside.com', 'insidephilanthropy.com', 'opendemocracy.net', 'fpif.org', 'abc11.com', 'worldpolicy.org', 'gaystarnews.com', 'nationinstitute.org', 'news.cn', 'koreatimes.co.kr', 'newsday.com', 'independent.com', 'courier-journal.com', 'ncpolicywatch.com', 'propublica.org', 'time.com', 'positive.news', 'fresnobee.com', 'globalcitizen.org', 'sbs.com.au', 'inverse.com', 'prospectmagazine.co.uk', 'sfexaminer.com', 'news.sky.com', 'indymedia.org', 'news.mongabay.com', 'kurdistan24.net', 'msn.com', 'vice.com', 'icenews.is', 'carolinapublicpress.org', 'irrawaddy.com', 'fightforthefuture.org', 'euractiv.com', 'theneed2know.com', 'cctv-america.com', 'presstv.com', 'digg.com', 'inquisitr.com', 'fusion.net', 'factmyth.com', 'affinitymagazine.us', 'uawire.org', 'alliedprogress.org', 'miamiherald.com', 'tabletmag.com', 'statesman.com', 'seattletimes.com', 'taxpolicycenter.org', 'nydailynews.com', 'ctvnews.ca', 'greentechmedia.com', 'fastcompany.com', 'ctj.org', 'thestranger.com', 'chicago.suntimes.com', 'ciponline.org', 'theautomaticearth.com', 'calgaryherald.com', 'cnbc.com', 'wvgazettemail.com', 'republicworld.com', 'al-sura.com', 'thisisthezerohour.com', 'metro.co.uk', 'politicalcritique.org', 'hurriyetdailynews.com', 'feministfrequency.com', 'inews.co.uk', 'startribune.com', 'tampabay.com', 'eff.org', 'macleans.ca', 'lawnewz.com', 'psmag.com', 'adn.com', 'nrdc.org', 'freakonomics.com', 'metro.us', 'liberalmountain.com', 'natmonitor.com', 'newstimes.com', 'globalriskinsights.com', 'baltimoresun.com', 'nature.org', 'rationalwiki.org', 'sfglobe.com', 'timesheadline.com', 'delawareonline.com', 'swissinfo.ch', 'freepress.net', 'wilderness.org', 'sltrib.com', 'guttmacher.org', 'baptistnews.com', 'ibtimes.com', 'geopoliticsalert.com', 'budapestbeacon.com', 'pilotonline.com', 'euobserver.com', 'muncievoice.com', 'thetyee.ca', 'thechristianleft.org', 'stopfake.org', 'cjr.org', 'koco.com', 'bangordailynews.com', 'pluralist.com', 'minnpost.com', 'nytimes.com', 'newmatilda.com', 'bostonglobe.com', 'citizentruth.org', 'demos.org', 'populardemocracy.org', 'colombiareports.com', 'ifamericaknew.org', 'healthyway.com', 'attn.com', 'thebaffler.com', 'mprnews.org', 'theringer.com', 'thestar.com', 'worldaffairsjournal.org', 'theguardian.com', 'imeu.org', 'globaltimes.cn', 'citizen-times.com', 'sacbee.com', 'migrationpolicy.org', 'hollywoodreporter.com', 'mysanantonio.com', 'northjersey.com', 'yahoo.com', 'corporatepresidency.org', 'irinnews.org', 'hcn.org', 'backchannel.com', 'upr.org', 'fivethirtyeight.com', 'businessinsider.com', 'tcf.org', 'atlanticmedia.com', 'thehill.com', 'charlotteobserver.com', 'knightfoundation.org', 'medium.com', 'thevarsity.ca', 'santafenewmexican.com', 'oilandwaterdontmix.org', 'wired.com', 'pressdemocrat.com', 'pbs.org', 'canadians.org', 'pressherald.com', 'philly.com', 'ocweekly.com', 'thesaturdaypaper.com.au', 'lifehacker.com', 'theoslotimes.com', 'aol.com', 'npr.org', 'commonwealmagazine.org', 'ips.org', 'leftjustified.com', 'nationalobserver.com', 'interpretermag.com', 'adl.org', 'sentencingproject.org', 'bloomberg.com', 'hrw.org', 'investigaterussia.org', 'chicagoreporter.com', 'rollingstone.com', 'theintercept.com', 'nationalnewswatch.com', 'pri.org', 'oneindia.com', 'dailytarheel.com', 'theweek.com', 'uft.org', 'cleveland.com', 'councilforthenationalinterest.org', 'theage.com.au', 'theolympian.com', 'africanarguments.org', 'ourworldindata.org', 'magazine.atavist.com', 'newsdeeply.com', 'dutchreview.com', 'dw.com', 'stocksnewsdaily.com', 'deadline.com', 'aljazeera.com', 'mainebeacon.com', 'abovethelaw.com', 'aclu.org', 'forward.com', 'thestate.com', 'liveleak.com', 'providencejournal.com', 'mic.com', 'kuow.org', 'mtdemocrat.com', 'ecfr.eu', 'irishtimes.com', 'elpais.com', 'thetrace.org', 'commonwealthfund.org', 'newsone.com', 'france24.com', 'newsobserver.com', 'wallstreetonparade.com', 'aranews.net', 'mintpressnews.com', 'fairvote.org', 'thesunmagazine.org', 'eastbaytimes.com', 'independentaustralia.net', 'usatoday.com', 'calwatchdog.com', 'zeit.de', 'exposingtruth.com', 'latimes.com', 'cbc.ca', 'news.com.au', 'toinformistoinfluence.com', 'thenextweb.com', 'universitybusiness.com', 'kentucky.com', 'smh.com.au', 'texasmonthly.com', 'worldcrunch.com', 'buzzfeed.com', 'newmoderate.com', 'dailyhive.com', 'amny.com', 'heraldnet.com', 'haaretz.com', 'timesunion.com', 'jsonline.com', 'washingtonblade.com', 'itep.org', 'newsgru.com', 'sfchronicle.com', 'brookings.edu', 'alaraby.co.uk', 'axios.com', 'lohud.com', 'youthrights.org', 'independent.co.uk', 'egyptianstreets.com', 'stepfeed.com', 'harpers.org', 'americamagazine.org', 'vulture.com', 'seattlepi.com', 'patrioticmillionaires.org', 'newleftreview.org', 'scoopwhoop.com', 'fwweekly.com', 'nola.com', 'pennlive.com', 'mexiconewsdaily.com', 'ipolitics.ca', 'jpost.com', 'kfor.com', 'rightweb.irc-online.org', 'usnews.com', 'crosscut.com', 'washingtonpost.com', 'icrw.org', 'historynewsnetwork.org', 'thenevadaindependent.com', 'sandiegoreader.com', 'bjreview.com', 'techdirt.com', 'crisisgroup.org', 'techcrunch.com', 'religionnews.com', 'latintimes.com', 'stuff.co.nz', 'epi.org', 'montrealgazette.com', 'globalnews.ca', 'unicornriot.ninja', 'opposingviews.com', 'democracy21.org', 'grist.org', 'naacp.org', 'azdailysun.com', 'pulsegulfcoast.com', 'us.blastingnews.com', 'governing.com', 'edmontonjournal.com', 'highline.huffingtonpost.com', 'secondnexus.com', 'theverge.com', 'kansascity.com', 'mercurynews.com', 'aeon.co', 'apmreports.org', 'dcreport.org', 'cbpp.org', 'theodysseyonline.com', 'transequality.org', 'factbox.tv', 'timeline.com', 'mnn.com', 'splcenter.org', 'brennancenter.org'])\n",
    "right_center_urls = set(['newsheist.com', 'theobjectivestandard.com', 'washingtontimes.com', 'hpenews.com', 'gazette.com', 'cfr.org', 'al.com', 'richmond.com', 'pe.com', 'lexingtoninstitute.org', 'realcleardefense.com', 'policyed.org', 'theihs.org', 'newsrescue.com', 'thesmokinggun.com', 'financialpost.com', 'thegazette.com', 'hoover.org', 'cjnews.com', 'duluthnewstribune.com', 'manhattan-institute.org', 'cincinnati.com', 'studentnewsdaily.com', 'jamestown.org', 'columbiadailyherald.com', 'lbc.co.uk', 'breakingdefense.com', 'thefiscaltimes.com', 'militarytimes.com', 'lfpress.com', 'checkyourfact.com', 'desertsun.com', 'watchdog.org', 'nationalaffairs.com', 'taxpayer.com', 'heraldsun.com.au', 'thenewatlantis.com', 'nationalpost.com', 'postbulletin.com', 'cjonline.com', 'thereaganbattalion.com', 'dallasnews.com', 'post-gazette.com', 'jewishpress.com', 'christianitytoday.com', 'fortnightlyreview.co.uk', 'chicagotribune.com', '9news.com.au', 'realclearreligion.org', 'washingtonbabylon.com', 'srnnews.com', 'volkskrant.nl', 'lynx.media', 'thenational.ae', 'commdiginews.com', 'thebreakthrough.org', 'rstreet.org', 'algemeiner.com', 'honestreporting.com', 'circa.com', 'news-gazette.com', 'arkansasonline.com', 'theamericanconservative.com', 'tennessean.com', 'eppc.org', 'the-japan-news.com', 'savannahnow.com', 'tbo.com', 'americanfirearms.org', 'fpri.org', 'israelnationalnews.com', 'acsh.org', 'thelibertarianrepublic.com', 'valuewalk.com', 'manilatimes.net', 'realclearpolitics.com', 'rep-am.com', 'thechronicleherald.ca', 'deseretnews.com', 'spectator.co.uk', 'justfacts.com', 'heterodoxacademy.org', 'thetimes.co.uk', 'couriermail.com.au', 'ottawacitizen.com', 'guns.com', 'nation.com.pk', 'westmonster.com', 'antiwar.com', 'swarajyamag.com', 'sungazette.com', 'remingtonresearchgroup.com', 'americanactionforum.org', 'tulsaworld.com', 'theaustralian.com.au', 'thehindubusinessline.com', 'straitstimes.com', 'peninsuladailynews.com', 'japantoday.com', 'foreignpolicyi.org', 'deccanchronicle.com', 'statesmanjournal.com', 'fbherald.com', 'independent.ie', 'standard.co.uk', 'independent.org', 'nypost.com', '71republic.com', 'downsizinggovernment.org', 'sofrep.com', 'cato.org', 'reviewjournal.com', 'gulfnews.com', 'orlandosentinel.com', 'thetimesherald.com', 'forbes.com', 'dispatch.com', 'spokesman.com', 'oklahoman.com', 'freedomhouse.org', 'the-american-interest.com', 'thestarphoenix.com', 'cei.org', 'afpc.org', 'sbsun.com', 'israelhayom.com', 'itv.com', 'mises.org', 'tharawat-magazine.com', 'thequint.com', 'rasmussenreports.com', 'justfactsdaily.com', 'telegraph.co.uk', 'billingsgazette.com', 'azcentral.com', 'mackinac.org', 'tass.com', 'learnliberty.org', 'taxfoundation.org', 'omaha.com', 'oilprice.com', 'jewishbreakingnews.com', 'jns.org', 'capoliticalreview.com', 'campaignforliberty.org', 'reason.com', 'triblive.com', 'punchingbagpost.com', 'franklincenterhq.org', 'sputniknews.com', 'inhomelandsecurity.com', 'realclearinvestigations.com', 'tnonline.com', 'insidesources.com', 'oaoa.com', 'ocregister.com', 'group30.org', 'koreaherald.com', 'realclearpolicy.com', 'arabnews.com', 'fortune.com', 'russia-insider.com', 'theepochtimes.com', 'daltondailycitizen.com', 'dailynews.com', 'wsj.com', 'nationalinterest.org', 'fraserinstitute.org', 'sun-sentinel.com', 'calgarysun.com', 'fee.org', 'c4ss.org', 'jacksonville.com', 'thewest.com.au', 'bostonherald.com', 'nos.nl', 'pacificresearch.org', 'edmontonsun.com', 'theglobeandmail.com', 'newsline.com', 'theecjournal.com', 'timeslive.co.za', 'mynorthwest.com', 'kutv.com', 'detroitnews.com', 'ntd.tv', 'journalnow.com', 'humanprogress.org', 'tallahassee.com', 'oregonlive.com', 'mlive.com', 'star-telegram.com', 'international.thenewslens.com', 'toledoblade.com', 'chronicle.augusta.com', 'dailyherald.com', 'valleynewslive.com', 'libertyviral.com', 'faithfamilyamerica.com', 'wikileaks.org', 'dailypress.com', 'armstrongeconomics.com', 'kansas.com', 'thejacknews.com', 'strategic-culture.org', 'quillette.com', 'bipartisanpolicy.org', 'americasquarterly.org'])\n",
    "right_far_urls = set(['twitchy.com', 'hermancain.com', 'politifeed.net', 'capitalresearch.org', 'politicsnote.com', 'powerlineblog.com', 'clear-politics.com', 'thecitizenpress.com', 'redflagnews.com', 'lifenews.com', 'bluelivesmatter.blue', 'mrc.org', 'commentarymagazine.com', 'nccivitas.org', 'gopusa.com', 'controversialtimes.com', 'thesun.co.uk', 'tennesseestar.com', 'unbiasedamerica.com', 'thenewamerican.com', 'aa.com.tr', 'redalertpolitics.com', 'cowgernation.com', 'opslens.com', 'therightscoop.com', 'hoover.org', 'onenewsnow.com', 'teapartytribune.com', 'therealstrategy.com', 'faithwire.com', 'ronpaullibertyreport.com', 'theblaze.com', 'westernjournal.com', 'crimeresearch.org', 'christiannewsalerts.com', 'beinglibertarian.com', 'unitynewsnetwork.co.uk', 'fedsoc.org', 'vesselnews.io', 'unionleader.com', 'notliberal.com', 'adelaidenow.com.au', 'erlc.com', 'alphanewsmn.com', 'factsandlogic.org', 'campaignlifecoalition.com', 'drudgereport.com', 'firstinfreedomdaily.com', 'libertyhangout.org', 'conservativedailynews.com', 'offgridsurvival.com', 'ibleedredwhiteblue.com', 'ac2news.com', 'whatfinger.com', 'thedailyliberator.com', 'dcstatesman.com', 'acculturated.com', 'politichicks.com', 'order-order.com', 'freedomworks.org', 'theblacksphere.net', 'dailysignal.com', 'express.co.uk', 'ronpaulinstitute.org', 'americanthinker.com', 'mediaequalizer.com', 'jewishworldreview.com', 'gop.com', 'nationalreview.com', 'ipatriot.com', 'newrevolutionnow.org', 'kansaspolicy.org', 'libertynation.com', 'economicpolicyjournal.com', 'renewedright.com', 'thefederalist.com', 'lyincomey.com', 'freerepublic.com', 'freewestmedia.com', 'altnewsmedia.net', 'conservativetoday.com', 'sbgi.net', 'chicksontheright.com', 'debatepost.com', 'restoreamericanglory.com', 'farleftwatch.com', 'ussanews.com', 'futureinamerica.com', 'colddeadhands.us', 'unwatch.org', 'en.mehrnews.com', 'illinoispolicy.org', 'uspoliticsinfo.com', 'americanmilitarynews.com', 'defenddemocracy.org', 'home.nra.org', 'projectveritas.com', 'americanewshub.com', 'dangerous.com', 'conservativewoman.co.uk', 'theconservativenut.gop', 'theamericancause.org', 'biggovernment.news', 'whitehouse.gov', 'tasnimnews.com', 'observer.com', 'humanevents.com', 'bigleaguepolitics.com', 'publicinterestlegal.org', 'nextnewsnetwork.com', 'ammoland.com', 'spectator.org', 'patriotpost.us', 'numbersusa.com', 'ijr.com', 'legalinsurrection.com', 'loneconservative.com', 'therebel.media', 'quadrant.org.au', 'wnd.com', 'dailytelegraph.com.au', 'brexitcentral.com', 'newbostonpost.com', 'regated.com', 'thedailydefender.com', 'townhall.com', 'dcwhispers.com', 'silenceisconsent.net', 'worldtribune.com', 'conservativebase.com', 'newlypress.com', 'foxnews.com', 'iwf.org', 'rd.com', 'westernfreepress.com', 'ca-political.com', 'citizensunited.org', 'keepandbear.com', 'judicialnetwork.com', 'youngcons.com', 'freebeacon.com', 'jewishpolicycenter.org', 'citizenfreepress.com', 'lifesitenews.com', 'aclj.org', 'academia.org', 'conservativereview.com', 'sonorannews.com', 'teapartypatriots.org', 'beliefnet.com', 'nationalcenter.org', 'firstthings.com', 'dailymail.co.uk', 'tpusa.com', '2ndvote.com', 'awm.com', 'newsbusters.org', 'dailycaller.com', 'weaselzippers.us', 'heritage.org', 'americandailynews.org', 'mercatornet.com', 'ontarioproud.ca', 'federalistpress.com', 'ntknetwork.com', 'acting-man.com', 'conservativeshere.com', 'politi.site', 'weeklystandard.com', 'ricochet.com', 'mediacircus.com', 'libertyheadlines.com', 'g-a-i.org', 'investors.com', 'hillarydaily.com', 'imprimis.hillsdale.edu', 'bearingarms.com', 'chroniclesmagazine.org', 'guerrilla.news', 'knoxreport.com', 'westernjournalism.com', 'louderwithcrowder.com', 'allenbwest.com', 'tehrantimes.com', 'standpointmag.co.uk', 'oann.com', 'getreligion.org', 'deplorablesreport.com', 'energycitizens.org', 'crisismagazine.com', 'fightpp.org', 'tribunist.com', 'themilreview.com', 'alec.org', 'churchmilitant.com', 'hudson.org', 'ifstudies.org', 'gatestoneinstitute.org', 'aei.org', 'campusreform.org', 'patriotretort.com', 'populistwire.com', 'world.wng.org', 'amgreatness.com', 'city-journal.org', 'washingtonexaminer.com', 'intellectualtakeout.org', 'thehayride.com', 'arizonadailyindependent.com', 'therantidote.com', 'theresurgent.com', 'americanlibertyreport.com', 'dailysurge.com', 'disobedientmedia.com', 'libertytalk.fm', 'theconservativetreehouse.com', 'conservativeoutfitters.com', 'americanconsequences.com', 'libertynews.com', 'bizpacreview.com', 'thetruthaboutguns.com', 'newsmax.com', 'torontosun.com', 'lifezette.com', 'heartland.org', 'secureamericanow.org', 'thepostemail.com', 'ff.org', 'cscmediagroupus.com', 'thecollegefix.com', 'carepublican.com', 'heatst.com', 'trtworld.com', 'conservativesus.party', 'independentsentinel.com', 'vivaliberty.com', 'aim.org', 'familysecuritymatters.org', 'yellowhammernews.com', 'lifeandabout.com', 'offendedamerica.com', 'sentinelksmo.org', 'savejersey.com', 'resistancemedia.org', 'christianpost.com', 'thepostmillennial.com', 'conservativeinstitute.org', 'thepoliticalinsider.com', 'yaf.org', 'dailysabah.com', 'pjmedia.com', 'spiked-online.com', 'freedomcrossroads.com', 'dailywire.com', 'patriotnewsdaily.com', 'usapoliticstoday.com', 'conservativehq.com'])\n",
    "\n",
    "left_scores = []\n",
    "for url in left_far_urls: \n",
    "    if url not in prunedDomainToNodeID or url not in left_test:\n",
    "        continue\n",
    "    left_scores.append(scores[prunedDomainToNodeID[url]])\n",
    "print np.median(left_scores), np.mean(left_scores), np.std(left_scores)"
   ]
  },
  {
   "cell_type": "code",
   "execution_count": 724,
   "metadata": {
    "collapsed": false
   },
   "outputs": [
    {
     "name": "stdout",
     "output_type": "stream",
     "text": [
      "-0.0245736 -0.148907 0.61121\n"
     ]
    }
   ],
   "source": [
    "left_center_scores = []\n",
    "for url in left_center_urls: \n",
    "    if url not in prunedDomainToNodeID or url not in left_test:\n",
    "        continue\n",
    "    left_center_scores.append(scores[prunedDomainToNodeID[url]])\n",
    "print np.median(left_center_scores), np.mean(left_center_scores), np.std(left_center_scores)"
   ]
  },
  {
   "cell_type": "code",
   "execution_count": 723,
   "metadata": {
    "collapsed": false
   },
   "outputs": [
    {
     "name": "stdout",
     "output_type": "stream",
     "text": [
      "0.511019 0.364598 0.545948\n"
     ]
    }
   ],
   "source": [
    "right_center_scores = []\n",
    "for url in right_center_urls: \n",
    "    if url not in prunedDomainToNodeID or url not in right_test:\n",
    "        continue\n",
    "    right_center_scores.append(scores[prunedDomainToNodeID[url]])\n",
    "print np.median(right_center_scores), np.mean(right_center_scores), np.std(right_center_scores)"
   ]
  },
  {
   "cell_type": "code",
   "execution_count": 722,
   "metadata": {
    "collapsed": false
   },
   "outputs": [
    {
     "name": "stdout",
     "output_type": "stream",
     "text": [
      "0.695455 0.837169 0.965632\n"
     ]
    }
   ],
   "source": [
    "right_far_scores = []\n",
    "for url in right_far_urls: \n",
    "    if url not in prunedDomainToNodeID or url not in right_test:\n",
    "        continue\n",
    "    right_far_scores.append(scores[prunedDomainToNodeID[url]])\n",
    "\n",
    "print np.median(right_far_scores), np.mean(right_far_scores), np.std(right_far_scores)"
   ]
  },
  {
   "cell_type": "code",
   "execution_count": 719,
   "metadata": {
    "collapsed": false
   },
   "outputs": [
    {
     "data": {
      "text/plain": [
       "39"
      ]
     },
     "execution_count": 719,
     "metadata": {},
     "output_type": "execute_result"
    }
   ],
   "source": [
    "len(right_test)"
   ]
  },
  {
   "cell_type": "code",
   "execution_count": 720,
   "metadata": {
    "collapsed": false
   },
   "outputs": [
    {
     "name": "stdout",
     "output_type": "stream",
     "text": [
      "74\n"
     ]
    }
   ],
   "source": [
    "print len(right_far_scores)"
   ]
  },
  {
   "cell_type": "code",
   "execution_count": 726,
   "metadata": {
    "collapsed": true
   },
   "outputs": [],
   "source": [
    "polarity = {} \n",
    "\n",
    "x = []\n",
    "y = []\n",
    "for k, v in scores.iteritems(): \n",
    "    alpha = 1\n",
    "    beta = 1\n",
    "    \n",
    "    node = dirLinkGraph.GetNI(k)\n",
    "    \n",
    "    for i in range(node.GetDeg()): \n",
    "        nbr_node = node.GetNbrNId(i)\n",
    "        if dirLinkGraph.IsEdge(k, nbr_node):\n",
    "            if scores[nbr_node] > 0: \n",
    "                beta += 1\n",
    "            else:\n",
    "                alpha += 1\n",
    "    l = float(alpha)/(alpha + beta)\n",
    "    p = 2 * abs(0.5 - l)\n",
    "    polarity[k] = p"
   ]
  },
  {
   "cell_type": "code",
   "execution_count": 747,
   "metadata": {
    "collapsed": false,
    "scrolled": true
   },
   "outputs": [
    {
     "name": "stdout",
     "output_type": "stream",
     "text": [
      "[[ 1.          0.09097679]\n",
      " [ 0.09097679  1.        ]]\n"
     ]
    },
    {
     "data": {
      "text/plain": [
       "<matplotlib.collections.PathCollection at 0x11deeebd0>"
      ]
     },
     "execution_count": 747,
     "metadata": {},
     "output_type": "execute_result"
    },
    {
     "data": {
      "image/png": "[encoded data removed]",
      "text/plain": [
       "<matplotlib.figure.Figure at 0x119feafd0>"
      ]
     },
     "metadata": {},
     "output_type": "display_data"
    }
   ],
   "source": [
    "x = []\n",
    "y = []\n",
    "\n",
    "for k, v in polarity.iteritems():\n",
    "    x.append(v)\n",
    "    y.append(NIdAuthH[k])\n",
    "print np.corrcoef(x, y)\n",
    "    \n",
    "sample = random.sample(range(len(x)), 1000)\n",
    "x = [x[i] for i in sample]\n",
    "y = [y[i] for i in sample]\n",
    "\n",
    "plt.xlabel('Polarity')\n",
    "plt.ylabel('Auth Score')\n",
    "plt.yscale('log')\n",
    "plt.scatter(x, y)"
   ]
  },
  {
   "cell_type": "code",
   "execution_count": 748,
   "metadata": {
    "collapsed": false
   },
   "outputs": [
    {
     "name": "stdout",
     "output_type": "stream",
     "text": [
      "[[ 1.          0.22532362]\n",
      " [ 0.22532362  1.        ]]\n"
     ]
    },
    {
     "data": {
      "text/plain": [
       "<matplotlib.collections.PathCollection at 0x11e107c90>"
      ]
     },
     "execution_count": 748,
     "metadata": {},
     "output_type": "execute_result"
    },
    {
     "data": {
      "image/png": "[encoded data removed]",
      "text/plain": [
       "<matplotlib.figure.Figure at 0x11df6d0d0>"
      ]
     },
     "metadata": {},
     "output_type": "display_data"
    }
   ],
   "source": [
    "x = []\n",
    "y = []\n",
    "\n",
    "for k, v in polarity.iteritems():\n",
    "    x.append(v)\n",
    "    y.append(NIdHubH[k])\n",
    "print np.corrcoef(x, y)\n",
    "    \n",
    "sample = random.sample(range(len(x)), 1000)\n",
    "x = [x[i] for i in sample]\n",
    "y = [y[i] for i in sample]\n",
    "\n",
    "plt.xlabel('Polarity')\n",
    "plt.ylabel('Hub Score')\n",
    "plt.yscale('log')\n",
    "plt.scatter(x, y)"
   ]
  },
  {
   "cell_type": "code",
   "execution_count": 744,
   "metadata": {
    "collapsed": false
   },
   "outputs": [
    {
     "name": "stdout",
     "output_type": "stream",
     "text": [
      "[[ 1.          0.19076747]\n",
      " [ 0.19076747  1.        ]]\n"
     ]
    },
    {
     "data": {
      "text/plain": [
       "<matplotlib.collections.PathCollection at 0x11a1afa10>"
      ]
     },
     "execution_count": 744,
     "metadata": {},
     "output_type": "execute_result"
    },
    {
     "data": {
      "image/png": "[encoded data removed]",
      "text/plain": [
       "<matplotlib.figure.Figure at 0x119a1dc10>"
      ]
     },
     "metadata": {},
     "output_type": "display_data"
    }
   ],
   "source": [
    "x = []\n",
    "y = []\n",
    "\n",
    "for k, v in polarity.iteritems():\n",
    "    x.append(v)\n",
    "    y.append(PRankH[k])\n",
    "print np.corrcoef(x, y)\n",
    "    \n",
    "sample = random.sample(range(len(x)), 1000)\n",
    "x = [x[i] for i in sample]\n",
    "y = [y[i] for i in sample]\n",
    "\n",
    "plt.xlabel('Polarity')\n",
    "plt.yscale('log')\n",
    "plt.ylabel('Page Rank Score')\n",
    "plt.scatter(x, y)"
   ]
  },
  {
   "cell_type": "code",
   "execution_count": 735,
   "metadata": {
    "collapsed": false
   },
   "outputs": [
    {
     "name": "stdout",
     "output_type": "stream",
     "text": [
      "[[ 1.          0.05237066]\n",
      " [ 0.05237066  1.        ]]\n"
     ]
    }
   ],
   "source": [
    "x = []\n",
    "y = []\n",
    "for k, v in polarity.iteritems(): \n",
    "    neighbors_sum = 0\n",
    "    \n",
    "    node = dirLinkGraph.GetNI(k)\n",
    "    \n",
    "    for i in range(node.GetDeg()): \n",
    "        nbr_node = node.GetNbrNId(i)\n",
    "        neighbors_sum += polarity[nbr_node]\n",
    "    mean = float(neighbors_sum) / node.GetDeg()\n",
    "    x.append(v)\n",
    "    y.append(mean)\n",
    "print np.corrcoef(x, y)"
   ]
  },
  {
   "cell_type": "code",
   "execution_count": 734,
   "metadata": {
    "collapsed": false
   },
   "outputs": [
    {
     "data": {
      "text/plain": [
       "<matplotlib.collections.PathCollection at 0x1193b72d0>"
      ]
     },
     "execution_count": 734,
     "metadata": {},
     "output_type": "execute_result"
    },
    {
     "data": {
      "image/png": "[encoded data removed]",
      "text/plain": [
       "<matplotlib.figure.Figure at 0x1192e7810>"
      ]
     },
     "metadata": {},
     "output_type": "display_data"
    }
   ],
   "source": [
    "sample = random.sample(range(len(x)), 1000)\n",
    "x = [x[i] for i in sample]\n",
    "y = [y[i] for i in sample]\n",
    "\n",
    "\n",
    "\n",
    "plt.xlabel('Polarity')\n",
    "plt.ylabel('Average Polarity of Neighbors')\n",
    "plt.scatter(x, y)"
   ]
  },
  {
   "cell_type": "code",
   "execution_count": 737,
   "metadata": {
    "collapsed": false
   },
   "outputs": [
    {
     "data": {
      "text/plain": [
       "(array([ 5009.,   333.,   459.,   446.,   408.,   909.,   571.,   221.,\n",
       "          124.,    37.]),\n",
       " array([ 0.        ,  0.09642857,  0.19285714,  0.28928571,  0.38571429,\n",
       "         0.48214286,  0.57857143,  0.675     ,  0.77142857,  0.86785714,\n",
       "         0.96428571]),\n",
       " <a list of 10 Patch objects>)"
      ]
     },
     "execution_count": 737,
     "metadata": {},
     "output_type": "execute_result"
    },
    {
     "data": {
      "image/png": "[encoded data removed]",
      "text/plain": [
       "<matplotlib.figure.Figure at 0x11917a8d0>"
      ]
     },
     "metadata": {},
     "output_type": "display_data"
    }
   ],
   "source": [
    "plt.xlabel('Polarity')\n",
    "plt.ylabel('Count')\n",
    "plt.hist(polarity.values())"
   ]
  },
  {
   "cell_type": "code",
   "execution_count": 742,
   "metadata": {
    "collapsed": false
   },
   "outputs": [
    {
     "name": "stdout",
     "output_type": "stream",
     "text": [
      "[[ 1.         0.1394431]\n",
      " [ 0.1394431  1.       ]]\n"
     ]
    },
    {
     "data": {
      "text/plain": [
       "<matplotlib.collections.PathCollection at 0x119c0cf50>"
      ]
     },
     "execution_count": 742,
     "metadata": {},
     "output_type": "execute_result"
    },
    {
     "data": {
      "image/png": "[encoded data removed]",
      "text/plain": [
       "<matplotlib.figure.Figure at 0x1197ebb10>"
      ]
     },
     "metadata": {},
     "output_type": "display_data"
    }
   ],
   "source": [
    "x = []\n",
    "y = []\n",
    "\n",
    "for k, v in polarity.iteritems():\n",
    "    x.append(v)\n",
    "    y.append(NIdCCfH[k])\n",
    "print np.corrcoef(x, y)\n",
    "sample = random.sample(range(len(x)), 1000)\n",
    "x = [x[i] for i in sample]\n",
    "y = [y[i] for i in sample]\n",
    "\n",
    "plt.xlabel(\"Polarity\")\n",
    "plt.ylabel('Clustering Coefficient')\n",
    "plt.scatter(x, y)"
   ]
  },
  {
   "cell_type": "code",
   "execution_count": null,
   "metadata": {
    "collapsed": true
   },
   "outputs": [],
   "source": []
  }
 ],
 "metadata": {
  "kernelspec": {
   "display_name": "Python 2",
   "language": "python",
   "name": "python2"
  },
  "language_info": {
   "codemirror_mode": {
    "name": "ipython",
    "version": 2
   },
   "file_extension": ".py",
   "mimetype": "text/x-python",
   "name": "python",
   "nbconvert_exporter": "python",
   "pygments_lexer": "ipython2",
   "version": "2.7.10"
  }
 },
 "nbformat": 4,
 "nbformat_minor": 2
}
