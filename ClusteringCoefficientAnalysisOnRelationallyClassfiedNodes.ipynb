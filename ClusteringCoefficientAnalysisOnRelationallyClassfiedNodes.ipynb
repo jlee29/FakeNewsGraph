{
 "cells": [
  {
   "cell_type": "code",
   "execution_count": 17,
   "metadata": {
    "collapsed": true
   },
   "outputs": [],
   "source": [
    "%matplotlib inline\n",
    "import csv\n",
    "from datetime import datetime\n",
    "from urlparse import urlparse\n",
    "import json\n",
    "import snap"
   ]
  },
  {
   "cell_type": "code",
   "execution_count": 18,
   "metadata": {
    "collapsed": true
   },
   "outputs": [],
   "source": [
    "domainToNodeID = json.load(open(\"domainToNodeID_ALL.txt\"))\n",
    "nodeIDToDomain = {v: k for k, v in domainToNodeID.iteritems()}\n",
    "\n",
    "LinkGraph = snap.LoadEdgeList(snap.PNGraph, \"LinkGraph_ALL_pruned.txt\", 0, 1)"
   ]
  },
  {
   "cell_type": "code",
   "execution_count": 19,
   "metadata": {
    "collapsed": true
   },
   "outputs": [],
   "source": [
    "leftSet = set(['drudge.com', 'washingtonsources.org', 'akkadiantimes.com', 'deadstate.org', 'thelasource.com', 'americablog.com', 'meduza.io', 'thenewcivilrightsmovement.com', 'newstatesman.com', 'wonkette.com', 'mirror.co.uk', 'libcom.org', 'deepleftfield.info', 'intrepidreport.com', 'rawprogressive.com', 'viraltitle.com', 'worldcantwait.net', 'happy-foxie.com', 'newint.org', 'revcom.us', 'lavendermagazine.com', 'newrepublic.com', 'washingtonpress.com', 'theimproper.com', 'nationofchange.org', 'projectcensored.org', 'peacock-panache.com', 'newpol.org', 'democracyguardian.com', 'dallasvoice.com', 'uproxx.com', 'jezebel.com', 'bluedotdaily.com', 'content.news', 'boingboing.net', 'blacklivesmatter.com', 'reverepress.com', 'whatmattersnews.com', 'au.org', 'hrc.org', 'impeachdjtnow.com', 'leftoverrights.com', 'progressivefrontier.com', 'putintrump.org', 'progressive.org', 'newshounds.us', 'liberationnews.org', 'certifiedpolitics.com', 'angrywhitemen.org', 'forwardprogressives.com', 'theintellectualist.co', 'smirkingchimp.com', 'elitedaily.com', 'leftwingnation.org', 'daily49er.com', 'itsgoingdown.org', 'jacobinmag.com', 'tribunemagazine.org', 'leftscoop.com', 'democraticunderground.com', 'yesmagazine.org', 'newyorker.com', 'theroot.com', 'fifthestate.org', 'electronicintifada.net', 'allthatsfab.com', 'upworthy.com', 'moonofalabama.org', 'themaven.net', 'freepress.org', 'salon.com', 'carbonated.tv', 'mondoweiss.net', 'austinchronicle.com', 'globalvoices.org', 'thedailyvox.co.za', 'yourblackworld.net', 'meanlefthook.com', 'backedbyfact.com', 'gizmodo.com', 'liberalexaminer.com', 'care2.com', 'dctribune.org', 'leftfootforward.org', 'workers.org', 'newslogue.com', 'rewire.news', 'pravdareport.com', 'gq.com', 'foreignpolicyjournal.com', 'redpepper.org.uk', 'act.tv', 'leftsideofhistory.com', 'redyouth.org', 'politicaldig.com', 'crooksandliars.com', 'americanbridgepac.org', 'commondreams.org', 'chicagoreader.com', 'marxist.com', 'dailydot.com', 'nymag.com', 'guardianlv.com', 'telesurtv.net', 'pinknews.co.uk', 'filmingcops.com', 'photographyisnotacrime.com', 'washingtonmonthly.com', 'republicanssucks.org', 'theuspoliticalpost.com', 'ebar.com', 'politicususa.com', 'iowastartingline.com', 'lgbtqnation.com', 'blackagendareport.com', 'foreignpolicynews.org', 'opednews.com', 'thenation.com', 'pastemagazine.com', 'proudemocrat.com', 'thedailybanter.com', 'washingtonjournal.com', 'loveknowledge.org', 'codepink.org', 'worldsocialism.org', 'breitbartunmasked.com', 'samuel-warde.com', 'dailydems.com', 'advocate.com', 'internationalviewpoint.org', 'progressivearmy.com', 'aidc.org.za', 'samefacts.com', 'thefloridasqueeze.com', 'freedomnews.org.uk', 'people.com', 'elisabethparker.com', 'politicalupdater.com', 'earthfirstjournal.org', 'nowthisnews.com', 'wearyourvoicemag.com', 'chroniclesofdemocracy.com', 'thefrisky.com', 'modernliberals.com', 'blue-route.org', 'resilience.org', 'afj.org', 'gopocalypse.org', 'north99.org', 'curvemag.com', 'esquire.com', 'citizencritics.org', 'shadowproof.com', 'readingthepictures.org', 'ir.net', 'leftvoice.org', 'takepart.com', 'democracynow.org', 'other98.com', 'inthesetimes.com', 'scarymommy.com', 'dailykos.com', 'deepstatenation.com', 'feministcurrent.com', 'verrit.com', 'morningstaronline.co.uk', 'currentaffairs.org', 'bust.com', 'dieharddemocrat.com', 'rantt.com', 'littlegreenfootballs.com', 'citypaper.com', 'usuncut.com', 'extranewsfeed.com', 'evonomics.com', 'mashable.com', 'americanprogress.org', 'towleroad.com', 'verifiedpolitics.com', 'syriana-analysis.com', 'nap-sack.org', 'nova-magazine.net', 'tytnetwork.com', 'truth-out.org', 'dissentmagazine.org', 'theguardiansofdemocracy.com', 'redstatedisaster.com', 'nationalmemo.com', 'truthagainstthemachine.com', 'thinkprogress.org', 'countercurrents.org', 'frnewsreport.com', 'zcomm.org', 'mediamatters.org', 'theoswatch.com', 'thegrio.com', 'splinternews.com', 'the-daily.buzz', 'economyincrisis.org', 'texasobserver.org', 'electoral-vote.com', 'antifascistnews.net', 'truthdig.com', 'desmogblog.com', 'liberalamerica.org', 'motherjones.com', 'talkingpointsmemo.com', 'pressprogress.ca', 'ourvoiceny.com', 'addictinginfo.com', 'vox.com', 'everydayfeminism.com', 'merryjane.com', 'vanityfair.com', 'change.org', 'deadspin.com', 'inequalitymedia.org', 'queerty.com', 'rightwingwatch.org', 'front.moveon.org', 'theestablishment.co', 'cnntimes.online', 'pfaw.org', 'revolution-news.com', 'onegreenplanet.org', 'vermontindependent.org', 'prwatch.org', 'slate.com', 'bluenationreview.com', 'greenleft.org.au', 'themilitant.com', 'popularresistance.org', 'ips-dc.org', 'thelily.com', 'whowhatwhy.org', 'readersupportednews.org', 'news.groopspeak.com', 'thesternfacts.com', 'canadiandimension.com', 'rawstory.com', 'vote.us.org', 'molad.org', 'newscorpse.com', 'nowtoronto.com', 'dailynewsbin.com', 'bradford-delong.com', 'dailyrecord.co.uk', 'rabble.ca', 'progressiveliberal.net', 'theburningspear.com', 'bitchmedia.org', 'good.is', 'cnn.com', 'americanindependent.com', 'feministing.com', 'counterpunch.org', 'crimethinc.com', 'middleeastmonitor.com', 'crooked.com', 'huffingtonpost.com', 'freespeech.org', 'climaterealityproject.org', 'firstpost.com', 'egbertowillies.com', 'theoutline.com', 'stpete4peace.org', 'bluestatedaily.com', 'prospect.org', 'msmagazine.com', 'cosmopolitan.com', 'mediaite.com', 'rappler.com', 'villagevoice.com', 'thedailybeast.com', 'socialistworker.org', 'autostraddle.com', 'alternet.org', 'latest.com', 'shareblue.com', 'trofire.com', 'newsweek.com', 'palmerreport.com', 'sourcewatch.org', 'americannewsx.com', 'globetoday.com', 'miaminewtimes.com', 'themarysue.com', 'thewalrus.ca', 'this.org', 'thelondoneconomic.com', 'democratichub.com', 'thecanary.co', 'juancole.com', 'greenvillegazette.com'])"
   ]
  },
  {
   "cell_type": "code",
   "execution_count": 20,
   "metadata": {
    "collapsed": true
   },
   "outputs": [],
   "source": [
    "leftCenterSet = set(['helsinkitimes.fi', 'indystar.com', 'news.trust.org', 'canadalandshow.com', 'lapresse.ca', 'timescolonist.com', 'ahtribune.com', 'rudaw.net', 'berkshireeagle.com', 'almasdarnews.com', 'theatlantic.com', 'wgntv.com', 'thenewstribune.com', 'ozy.com', 'politico.com', 'syriahr.com', 'billmoyers.com', 'denverpost.com', 'thelocal.no', 'populationconnection.org', 'elpasotimes.com', 'nakedcapitalism.com', 'buffalonews.com', 'thecitizen.org.au', 'ynetnews.com', 'timesofisrael.com', 'glamour.com', 'windsorstar.com', 'sfgate.com', 'stltoday.com', 'politicsthatwork.com', 'newsandgutsmedia.com', 'jointcenter.org', 'ydr.com', 'democratandchronicle.com', 'credoaction.com', 'vancouversun.com', 'outsidethebeltway.com', 'twincities.com', 'thenewtropic.com', 'scroll.in', 'phoenixnewtimes.com', 'taxjustice.net', 'mediafiledc.com', 'thefifthcolumnnews.com', 'freep.com', 'emirates247.com', 'wnyc.org', 'spiegel.de', 'thetab.com', 'al-monitor.com', 'saudigazette.com.sa', 'lethbridgeherald.com', 'atlantablackstar.com', 'urban.org', 'revealnews.org', 'bustle.com', 'legitgov.org', 'mwcnews.net', 'thewire.in', 'hindustantimes.com', 'themoscowtimes.com', 'humanium.org', 'cbsnews.com', 'fair.org', 'insidehighered.com', 'rfa.org', 'deccanherald.com', 'youthradio.org', 'qz.com', 'resourcegovernance.org', 'wingsoverscotland.com', 'dutchdailynews.com', 'sojo.net', 'lawfareblog.com', 'jihadica.com', 'panampost.com', 'economictimes.indiatimes.com', 'tomdispatch.com', 'greensboro.com', 'nj.com', 'caribbeanlifenews.com', 'insideclimatenews.org', 'inquirer.net', 'ohio.com', 'capitalgazette.com', 'diversityinc.com', 'therealnews.com', 'newsite.thehindu.com', 'shameproject.com', 'themonthly.com.au', 'abcnews.go.com', 'citizen.org', 'votevets.org', 'dawn.com', 'sandiegofreepress.org', 'kmov.com', 'newsy.com', 'heavy.com', 'staradvertiser.com', 'tucson.com', 'dailyclimate.org', 'bbc.com', 'neweurope.eu', 'alhayat.com', 'birminghammail.co.uk', 'commoncause.org', 'roanoke.com', 'cleantechnica.com', 'ajc.com', 'monthlyreview.org', 'bluestemprairie.com', 'courant.com', 'emptywheel.net', 'rooseveltinstitute.org', 'citizensforethics.org', 'silive.com', 'earthjustice.org', 'sootoday.com', 'necn.com', 'engadget.com', 'newser.com', 'morningconsult.com', 'ndtv.com', 'economicshelp.org', 'annistonstar.com', 'kotaku.com', 'nbcnews.com', 'berkeleyside.com', 'insidephilanthropy.com', 'opendemocracy.net', 'fpif.org', 'abc11.com', 'worldpolicy.org', 'gaystarnews.com', 'nationinstitute.org', 'news.cn', 'koreatimes.co.kr', 'newsday.com', 'independent.com', 'courier-journal.com', 'ncpolicywatch.com', 'propublica.org', 'time.com', 'positive.news', 'fresnobee.com', 'globalcitizen.org', 'sbs.com.au', 'inverse.com', 'prospectmagazine.co.uk', 'sfexaminer.com', 'news.sky.com', 'indymedia.org', 'news.mongabay.com', 'kurdistan24.net', 'msn.com', 'vice.com', 'icenews.is', 'carolinapublicpress.org', 'irrawaddy.com', 'fightforthefuture.org', 'euractiv.com', 'theneed2know.com', 'cctv-america.com', 'presstv.com', 'digg.com', 'inquisitr.com', 'fusion.net', 'factmyth.com', 'affinitymagazine.us', 'uawire.org', 'alliedprogress.org', 'miamiherald.com', 'tabletmag.com', 'statesman.com', 'seattletimes.com', 'taxpolicycenter.org', 'nydailynews.com', 'ctvnews.ca', 'greentechmedia.com', 'fastcompany.com', 'ctj.org', 'thestranger.com', 'chicago.suntimes.com', 'ciponline.org', 'theautomaticearth.com', 'calgaryherald.com', 'cnbc.com', 'wvgazettemail.com', 'republicworld.com', 'al-sura.com', 'thisisthezerohour.com', 'metro.co.uk', 'politicalcritique.org', 'hurriyetdailynews.com', 'feministfrequency.com', 'inews.co.uk', 'startribune.com', 'tampabay.com', 'eff.org', 'macleans.ca', 'lawnewz.com', 'psmag.com', 'adn.com', 'nrdc.org', 'freakonomics.com', 'metro.us', 'liberalmountain.com', 'natmonitor.com', 'newstimes.com', 'globalriskinsights.com', 'baltimoresun.com', 'nature.org', 'rationalwiki.org', 'sfglobe.com', 'timesheadline.com', 'delawareonline.com', 'swissinfo.ch', 'freepress.net', 'wilderness.org', 'sltrib.com', 'guttmacher.org', 'baptistnews.com', 'ibtimes.com', 'geopoliticsalert.com', 'budapestbeacon.com', 'pilotonline.com', 'euobserver.com', 'muncievoice.com', 'thetyee.ca', 'thechristianleft.org', 'stopfake.org', 'cjr.org', 'koco.com', 'bangordailynews.com', 'pluralist.com', 'minnpost.com', 'nytimes.com', 'newmatilda.com', 'bostonglobe.com', 'citizentruth.org', 'demos.org', 'populardemocracy.org', 'colombiareports.com', 'ifamericaknew.org', 'healthyway.com', 'attn.com', 'thebaffler.com', 'mprnews.org', 'theringer.com', 'thestar.com', 'worldaffairsjournal.org', 'theguardian.com', 'imeu.org', 'globaltimes.cn', 'citizen-times.com', 'sacbee.com', 'migrationpolicy.org', 'hollywoodreporter.com', 'mysanantonio.com', 'northjersey.com', 'yahoo.com', 'corporatepresidency.org', 'irinnews.org', 'hcn.org', 'backchannel.com', 'upr.org', 'fivethirtyeight.com', 'businessinsider.com', 'tcf.org', 'atlanticmedia.com', 'thehill.com', 'charlotteobserver.com', 'knightfoundation.org', 'medium.com', 'thevarsity.ca', 'santafenewmexican.com', 'oilandwaterdontmix.org', 'wired.com', 'pressdemocrat.com', 'pbs.org', 'canadians.org', 'pressherald.com', 'philly.com', 'ocweekly.com', 'thesaturdaypaper.com.au', 'lifehacker.com', 'theoslotimes.com', 'aol.com', 'npr.org', 'commonwealmagazine.org', 'ips.org', 'leftjustified.com', 'nationalobserver.com', 'interpretermag.com', 'adl.org', 'sentencingproject.org', 'bloomberg.com', 'hrw.org', 'investigaterussia.org', 'chicagoreporter.com', 'rollingstone.com', 'theintercept.com', 'nationalnewswatch.com', 'pri.org', 'oneindia.com', 'dailytarheel.com', 'theweek.com', 'uft.org', 'cleveland.com', 'councilforthenationalinterest.org', 'theage.com.au', 'theolympian.com', 'africanarguments.org', 'ourworldindata.org', 'magazine.atavist.com', 'newsdeeply.com', 'dutchreview.com', 'dw.com', 'stocksnewsdaily.com', 'deadline.com', 'aljazeera.com', 'mainebeacon.com', 'abovethelaw.com', 'aclu.org', 'forward.com', 'thestate.com', 'liveleak.com', 'providencejournal.com', 'mic.com', 'kuow.org', 'mtdemocrat.com', 'ecfr.eu', 'irishtimes.com', 'elpais.com', 'thetrace.org', 'commonwealthfund.org', 'newsone.com', 'france24.com', 'newsobserver.com', 'wallstreetonparade.com', 'aranews.net', 'mintpressnews.com', 'fairvote.org', 'thesunmagazine.org', 'eastbaytimes.com', 'independentaustralia.net', 'usatoday.com', 'calwatchdog.com', 'zeit.de', 'exposingtruth.com', 'latimes.com', 'cbc.ca', 'news.com.au', 'toinformistoinfluence.com', 'thenextweb.com', 'universitybusiness.com', 'kentucky.com', 'smh.com.au', 'texasmonthly.com', 'worldcrunch.com', 'buzzfeed.com', 'newmoderate.com', 'dailyhive.com', 'amny.com', 'heraldnet.com', 'haaretz.com', 'timesunion.com', 'jsonline.com', 'washingtonblade.com', 'itep.org', 'newsgru.com', 'sfchronicle.com', 'brookings.edu', 'alaraby.co.uk', 'axios.com', 'lohud.com', 'youthrights.org', 'independent.co.uk', 'egyptianstreets.com', 'stepfeed.com', 'harpers.org', 'americamagazine.org', 'vulture.com', 'seattlepi.com', 'patrioticmillionaires.org', 'newleftreview.org', 'scoopwhoop.com', 'fwweekly.com', 'nola.com', 'pennlive.com', 'mexiconewsdaily.com', 'ipolitics.ca', 'jpost.com', 'kfor.com', 'rightweb.irc-online.org', 'usnews.com', 'crosscut.com', 'washingtonpost.com', 'icrw.org', 'historynewsnetwork.org', 'thenevadaindependent.com', 'sandiegoreader.com', 'bjreview.com', 'techdirt.com', 'crisisgroup.org', 'techcrunch.com', 'religionnews.com', 'latintimes.com', 'stuff.co.nz', 'epi.org', 'montrealgazette.com', 'globalnews.ca', 'unicornriot.ninja', 'opposingviews.com', 'democracy21.org', 'grist.org', 'naacp.org', 'azdailysun.com', 'pulsegulfcoast.com', 'us.blastingnews.com', 'governing.com', 'edmontonjournal.com', 'highline.huffingtonpost.com', 'secondnexus.com', 'theverge.com', 'kansascity.com', 'mercurynews.com', 'aeon.co', 'apmreports.org', 'dcreport.org', 'cbpp.org', 'theodysseyonline.com', 'transequality.org', 'factbox.tv', 'timeline.com', 'mnn.com', 'splcenter.org', 'brennancenter.org'])"
   ]
  },
  {
   "cell_type": "code",
   "execution_count": 21,
   "metadata": {
    "collapsed": true
   },
   "outputs": [],
   "source": [
    "rightCenterSet = set(['newsheist.com', 'theobjectivestandard.com', 'washingtontimes.com', 'hpenews.com', 'gazette.com', 'cfr.org', 'al.com', 'richmond.com', 'pe.com', 'lexingtoninstitute.org', 'realcleardefense.com', 'policyed.org', 'theihs.org', 'newsrescue.com', 'thesmokinggun.com', 'financialpost.com', 'thegazette.com', 'hoover.org', 'cjnews.com', 'duluthnewstribune.com', 'manhattan-institute.org', 'cincinnati.com', 'studentnewsdaily.com', 'jamestown.org', 'columbiadailyherald.com', 'lbc.co.uk', 'breakingdefense.com', 'thefiscaltimes.com', 'militarytimes.com', 'lfpress.com', 'checkyourfact.com', 'desertsun.com', 'watchdog.org', 'nationalaffairs.com', 'taxpayer.com', 'heraldsun.com.au', 'thenewatlantis.com', 'nationalpost.com', 'postbulletin.com', 'cjonline.com', 'thereaganbattalion.com', 'dallasnews.com', 'post-gazette.com', 'jewishpress.com', 'christianitytoday.com', 'fortnightlyreview.co.uk', 'chicagotribune.com', '9news.com.au', 'realclearreligion.org', 'washingtonbabylon.com', 'srnnews.com', 'volkskrant.nl', 'lynx.media', 'thenational.ae', 'commdiginews.com', 'thebreakthrough.org', 'rstreet.org', 'algemeiner.com', 'honestreporting.com', 'circa.com', 'news-gazette.com', 'arkansasonline.com', 'theamericanconservative.com', 'tennessean.com', 'eppc.org', 'the-japan-news.com', 'savannahnow.com', 'tbo.com', 'americanfirearms.org', 'fpri.org', 'israelnationalnews.com', 'acsh.org', 'thelibertarianrepublic.com', 'valuewalk.com', 'manilatimes.net', 'realclearpolitics.com', 'rep-am.com', 'thechronicleherald.ca', 'deseretnews.com', 'spectator.co.uk', 'justfacts.com', 'heterodoxacademy.org', 'thetimes.co.uk', 'couriermail.com.au', 'ottawacitizen.com', 'guns.com', 'nation.com.pk', 'westmonster.com', 'antiwar.com', 'swarajyamag.com', 'sungazette.com', 'remingtonresearchgroup.com', 'americanactionforum.org', 'tulsaworld.com', 'theaustralian.com.au', 'thehindubusinessline.com', 'straitstimes.com', 'peninsuladailynews.com', 'japantoday.com', 'foreignpolicyi.org', 'deccanchronicle.com', 'statesmanjournal.com', 'fbherald.com', 'independent.ie', 'standard.co.uk', 'independent.org', 'nypost.com', '71republic.com', 'downsizinggovernment.org', 'sofrep.com', 'cato.org', 'reviewjournal.com', 'gulfnews.com', 'orlandosentinel.com', 'thetimesherald.com', 'forbes.com', 'dispatch.com', 'spokesman.com', 'oklahoman.com', 'freedomhouse.org', 'the-american-interest.com', 'thestarphoenix.com', 'cei.org', 'afpc.org', 'sbsun.com', 'israelhayom.com', 'itv.com', 'mises.org', 'tharawat-magazine.com', 'thequint.com', 'rasmussenreports.com', 'justfactsdaily.com', 'telegraph.co.uk', 'billingsgazette.com', 'azcentral.com', 'mackinac.org', 'tass.com', 'learnliberty.org', 'taxfoundation.org', 'omaha.com', 'oilprice.com', 'jewishbreakingnews.com', 'jns.org', 'capoliticalreview.com', 'campaignforliberty.org', 'reason.com', 'triblive.com', 'punchingbagpost.com', 'franklincenterhq.org', 'sputniknews.com', 'inhomelandsecurity.com', 'realclearinvestigations.com', 'tnonline.com', 'insidesources.com', 'oaoa.com', 'ocregister.com', 'group30.org', 'koreaherald.com', 'realclearpolicy.com', 'arabnews.com', 'fortune.com', 'russia-insider.com', 'theepochtimes.com', 'daltondailycitizen.com', 'dailynews.com', 'wsj.com', 'nationalinterest.org', 'fraserinstitute.org', 'sun-sentinel.com', 'calgarysun.com', 'fee.org', 'c4ss.org', 'jacksonville.com', 'thewest.com.au', 'bostonherald.com', 'nos.nl', 'pacificresearch.org', 'edmontonsun.com', 'theglobeandmail.com', 'newsline.com', 'theecjournal.com', 'timeslive.co.za', 'mynorthwest.com', 'kutv.com', 'detroitnews.com', 'ntd.tv', 'journalnow.com', 'humanprogress.org', 'tallahassee.com', 'oregonlive.com', 'mlive.com', 'star-telegram.com', 'international.thenewslens.com', 'toledoblade.com', 'chronicle.augusta.com', 'dailyherald.com', 'valleynewslive.com', 'libertyviral.com', 'faithfamilyamerica.com', 'wikileaks.org', 'dailypress.com', 'armstrongeconomics.com', 'kansas.com', 'thejacknews.com', 'strategic-culture.org', 'quillette.com', 'bipartisanpolicy.org', 'americasquarterly.org'])"
   ]
  },
  {
   "cell_type": "code",
   "execution_count": 22,
   "metadata": {
    "collapsed": true
   },
   "outputs": [],
   "source": [
    "rightSet = set(['twitchy.com', 'hermancain.com', 'politifeed.net', 'capitalresearch.org', 'politicsnote.com', 'powerlineblog.com', 'clear-politics.com', 'thecitizenpress.com', 'redflagnews.com', 'lifenews.com', 'bluelivesmatter.blue', 'mrc.org', 'commentarymagazine.com', 'nccivitas.org', 'gopusa.com', 'controversialtimes.com', 'thesun.co.uk', 'tennesseestar.com', 'unbiasedamerica.com', 'thenewamerican.com', 'aa.com.tr', 'redalertpolitics.com', 'cowgernation.com', 'opslens.com', 'therightscoop.com', 'hoover.org', 'onenewsnow.com', 'teapartytribune.com', 'therealstrategy.com', 'faithwire.com', 'ronpaullibertyreport.com', 'theblaze.com', 'westernjournal.com', 'crimeresearch.org', 'christiannewsalerts.com', 'beinglibertarian.com', 'unitynewsnetwork.co.uk', 'fedsoc.org', 'vesselnews.io', 'unionleader.com', 'notliberal.com', 'adelaidenow.com.au', 'erlc.com', 'alphanewsmn.com', 'factsandlogic.org', 'campaignlifecoalition.com', 'drudgereport.com', 'firstinfreedomdaily.com', 'libertyhangout.org', 'conservativedailynews.com', 'offgridsurvival.com', 'ibleedredwhiteblue.com', 'ac2news.com', 'whatfinger.com', 'thedailyliberator.com', 'dcstatesman.com', 'acculturated.com', 'politichicks.com', 'order-order.com', 'freedomworks.org', 'theblacksphere.net', 'dailysignal.com', 'express.co.uk', 'ronpaulinstitute.org', 'americanthinker.com', 'mediaequalizer.com', 'jewishworldreview.com', 'gop.com', 'nationalreview.com', 'ipatriot.com', 'newrevolutionnow.org', 'kansaspolicy.org', 'libertynation.com', 'economicpolicyjournal.com', 'renewedright.com', 'thefederalist.com', 'lyincomey.com', 'freerepublic.com', 'freewestmedia.com', 'altnewsmedia.net', 'conservativetoday.com', 'sbgi.net', 'chicksontheright.com', 'debatepost.com', 'restoreamericanglory.com', 'farleftwatch.com', 'ussanews.com', 'futureinamerica.com', 'colddeadhands.us', 'unwatch.org', 'en.mehrnews.com', 'illinoispolicy.org', 'uspoliticsinfo.com', 'americanmilitarynews.com', 'defenddemocracy.org', 'home.nra.org', 'projectveritas.com', 'americanewshub.com', 'dangerous.com', 'conservativewoman.co.uk', 'theconservativenut.gop', 'theamericancause.org', 'biggovernment.news', 'whitehouse.gov', 'tasnimnews.com', 'observer.com', 'humanevents.com', 'bigleaguepolitics.com', 'publicinterestlegal.org', 'nextnewsnetwork.com', 'ammoland.com', 'spectator.org', 'patriotpost.us', 'numbersusa.com', 'ijr.com', 'legalinsurrection.com', 'loneconservative.com', 'therebel.media', 'quadrant.org.au', 'wnd.com', 'dailytelegraph.com.au', 'brexitcentral.com', 'newbostonpost.com', 'regated.com', 'thedailydefender.com', 'townhall.com', 'dcwhispers.com', 'silenceisconsent.net', 'worldtribune.com', 'conservativebase.com', 'newlypress.com', 'foxnews.com', 'iwf.org', 'rd.com', 'westernfreepress.com', 'ca-political.com', 'citizensunited.org', 'keepandbear.com', 'judicialnetwork.com', 'youngcons.com', 'freebeacon.com', 'jewishpolicycenter.org', 'citizenfreepress.com', 'lifesitenews.com', 'aclj.org', 'academia.org', 'conservativereview.com', 'sonorannews.com', 'teapartypatriots.org', 'beliefnet.com', 'nationalcenter.org', 'firstthings.com', 'dailymail.co.uk', 'tpusa.com', '2ndvote.com', 'awm.com', 'newsbusters.org', 'dailycaller.com', 'weaselzippers.us', 'heritage.org', 'americandailynews.org', 'mercatornet.com', 'ontarioproud.ca', 'federalistpress.com', 'ntknetwork.com', 'acting-man.com', 'conservativeshere.com', 'politi.site', 'weeklystandard.com', 'ricochet.com', 'mediacircus.com', 'libertyheadlines.com', 'g-a-i.org', 'investors.com', 'hillarydaily.com', 'imprimis.hillsdale.edu', 'bearingarms.com', 'chroniclesmagazine.org', 'guerrilla.news', 'knoxreport.com', 'westernjournalism.com', 'louderwithcrowder.com', 'allenbwest.com', 'tehrantimes.com', 'standpointmag.co.uk', 'oann.com', 'getreligion.org', 'deplorablesreport.com', 'energycitizens.org', 'crisismagazine.com', 'fightpp.org', 'tribunist.com', 'themilreview.com', 'alec.org', 'churchmilitant.com', 'hudson.org', 'ifstudies.org', 'gatestoneinstitute.org', 'aei.org', 'campusreform.org', 'patriotretort.com', 'populistwire.com', 'world.wng.org', 'amgreatness.com', 'city-journal.org', 'washingtonexaminer.com', 'intellectualtakeout.org', 'thehayride.com', 'arizonadailyindependent.com', 'therantidote.com', 'theresurgent.com', 'americanlibertyreport.com', 'dailysurge.com', 'disobedientmedia.com', 'libertytalk.fm', 'theconservativetreehouse.com', 'conservativeoutfitters.com', 'americanconsequences.com', 'libertynews.com', 'bizpacreview.com', 'thetruthaboutguns.com', 'newsmax.com', 'torontosun.com', 'lifezette.com', 'heartland.org', 'secureamericanow.org', 'thepostemail.com', 'ff.org', 'cscmediagroupus.com', 'thecollegefix.com', 'carepublican.com', 'heatst.com', 'trtworld.com', 'conservativesus.party', 'independentsentinel.com', 'vivaliberty.com', 'aim.org', 'familysecuritymatters.org', 'yellowhammernews.com', 'lifeandabout.com', 'offendedamerica.com', 'sentinelksmo.org', 'savejersey.com', 'resistancemedia.org', 'christianpost.com', 'thepostmillennial.com', 'conservativeinstitute.org', 'thepoliticalinsider.com', 'yaf.org', 'dailysabah.com', 'pjmedia.com', 'spiked-online.com', 'freedomcrossroads.com', 'dailywire.com', 'patriotnewsdaily.com', 'usapoliticstoday.com', 'conservativehq.com'])"
   ]
  },
  {
   "cell_type": "code",
   "execution_count": 37,
   "metadata": {
    "collapsed": true
   },
   "outputs": [],
   "source": [
    "predictions = json.load(open(\"relationalClassificationResult.txt\"))\n",
    "predictions = {int(k): v for k, v in predictions.iteritems()}"
   ]
  },
  {
   "cell_type": "code",
   "execution_count": 38,
   "metadata": {},
   "outputs": [],
   "source": [
    "prunedNodeIDs = set()\n",
    "for Node in LinkGraph.Nodes():\n",
    "    prunedNodeIDs.add(Node.GetId())\n",
    "    \n",
    "prunedDomainToNodeID = {k: v for k, v in domainToNodeID.iteritems() if v in prunedNodeIDs}\n",
    "prunedNodeIDToDomain = {v: k for k, v in prunedDomainToNodeID.iteritems()}"
   ]
  },
  {
   "cell_type": "code",
   "execution_count": 39,
   "metadata": {},
   "outputs": [],
   "source": [
    "nodesToChange = set()\n",
    "for Node in LinkGraph.Nodes():\n",
    "    domain = prunedNodeIDToDomain[Node.GetId()]\n",
    "    if domain in leftSet or domain in leftCenterSet:\n",
    "        pass\n",
    "    elif domain in rightSet or domain in rightCenterSet:\n",
    "        pass\n",
    "    else:\n",
    "        nodesToChange.add(Node.GetId())\n",
    "        \n",
    "inNeighborDict = {}\n",
    "for currNode in nodesToChange:\n",
    "    allNeighbors = snap.TIntV()\n",
    "    snap.GetNodesAtHop(LinkGraph, currNode, 1, allNeighbors, False)\n",
    "    outNeighbors = snap.TIntV()\n",
    "    snap.GetNodesAtHop(LinkGraph, currNode, 1, outNeighbors, True)\n",
    "\n",
    "    inNeighbors = set()\n",
    "    for nodeID in allNeighbors:\n",
    "        if nodeID not in outNeighbors:\n",
    "            inNeighbors.add(nodeID)\n",
    "    inNeighborDict[currNode] = inNeighbors"
   ]
  },
  {
   "cell_type": "code",
   "execution_count": 41,
   "metadata": {},
   "outputs": [],
   "source": [
    "xPoints = list()\n",
    "yPoints = list()\n",
    "for Node in LinkGraph.Nodes():\n",
    "    if Node.GetId() in predictions:\n",
    "        allNeighbors = snap.TIntV()\n",
    "        snap.GetNodesAtHop(LinkGraph, Node.GetId(), 1, allNeighbors, False)\n",
    "        if len(allNeighbors) > 0:\n",
    "            xPoints.append(predictions[Node.GetId()])\n",
    "            totalPolarity = 0\n",
    "            for neighborID in allNeighbors:\n",
    "                totalPolarity += predictions[neighborID]\n",
    "            avgPolarity = totalPolarity*1.0/len(allNeighbors)\n",
    "            yPoints.append(avgPolarity)"
   ]
  },
  {
   "cell_type": "code",
   "execution_count": 42,
   "metadata": {},
   "outputs": [
    {
     "name": "stdout",
     "output_type": "stream",
     "text": [
      "[0.4331005543373943, 0.5, 0.5, 0.5, 0.3628038905441504, 0.5, 0.5, 0.2869707477416499, 0.32986517152387157, 0.5, 0.5, 0.49301673183332306, 0.5, 0.5, 0.5, 0.49815308749364545, 0.4981170484034371, 0.34291983566327694, 0.35414321027807866, 0.3391049294960931, 0.5, 0.4713156369819028, 0.49851050149876, 0.5, 0.34120184465369524, 0.38802519147379305, 0.5, 0.5, 0.30235744860131336, 0.3951195153458126, 0.5, 0.5, 0.5, 0.24702648042738662, 0.44900023962242946, 0.5332557403346869, 0.4657150780126073, 0.5, 0.5, 0.48757600450123356, 0.5, 0.5, 0.5, 0.5, 0.5, 0.5, 0.5, 0.3973521346942487, 0.5, 0.5, 0.4310314205680296, 0.5, 0.5, 0.5, 0.5, 0.5, 0.5, 0.4995845984398541, 0.5, 0.39407019172028984, 0.30235118182920334, 0.5, 0.4586932573694242, 0.5, 0.5, 0.494920990607525, 0.48646959986176697, 0.32523772263208206, 0.362033767118454, 0.3412510078898402, 0.3881282014955727, 0.37823581394192873, 0.36875635977378507, 0.29030752667824045, 0.3219476648943986, 0, 0.335185034770452, 0.43008907534254387, 0.3332354028773969, 0.3846542653270059, 0.29980193499056346, 0.35579785311624773, 0.4130358184004858, 0.42815738827380817, 0.33014051226089, 0, 0.3786901642409188, 0.32727937816229785, 0.2724161048822227, 0.38065395212948594, 0.28216617267263455, 0.37783838829648947, 0, 0.3049066330472667, 0.3611373996861509, 0.5, 0.5, 0.5, 0.4713288090017404, 0.5, 0.4219237014912046, 0.4090426718898167, 0.3474242566275422, 0.5, 0.5, 0.5, 0.5, 0.5, 0.5, 0.5, 0.5, 0.5, 0.5, 0.5, 0.5, 0.5, 0.5, 0.5, 0.5, 0.5, 0.5, 0.5, 0.5, 0.5, 0.5, 0.5, 0.5, 0.5, 0.5, 0.5, 0.5, 0.5, 0.5, 0.5, 0.5, 0.5, 0.5, 0.5, 0.5, 0.5, 0.5, 0.5, 0.5, 0.5, 0.5, 0.5, 0.5, 0.5, 0.5, 0.5, 0.5, 0.5, 0.5, 0.5, 0.5, 0.3836303407715198, 0.5, 0.5, 0.48217538846238944, 0.3031857690312532, 0.5, 0.4525741318203442, 0.5, 0.3865201185856808, 0.37375413734181107, 0.4779588517113894, 0.5, 0.5, 0.3775525395972888, 0.5, 0.5, 0.5, 0.5, 0.5, 0.3520591380779329, 0.5, 0.5, 0.29834639111405, 0.5, 0.5, 0.5, 0.5, 0.5, 0.3204582430056255, 0.27430711678425906, 0.5, 0.5, 0.3205799210850631, 0.5, 0, 0.29592772299915665, 0.456136309965206, 0.5, 0.32094992104574266, 0.5, 0.3237859695419649, 0, 0.4180775824317975, 0.5, 0.3744229098480667, 0.37146443295686854, 0.3004069691943616, 0.5, 0.5, 0.5, 0.5, 0.5, 0.5, 0.5, 0.5, 0.5, 0.5, 0.5, 0.5, 0.37728208588788265, 0.5, 0.5, 0.5, 0.5, 0.5, 0.5, 0.5, 0.5, 0.5, 0.5, 0.5, 0.5, 0.5, 0.5, 0.4910809053784934, 0.5, 0.5, 0.5, 0.5, 0.486294038313988, 0.5, 0.5, 0.5, 0.5, 0.5, 0.5, 0.5, 0.5, 0.5, 0.5, 0.5, 0.5, 0.5, 0.4216353324376617, 0.4791483227353433, 0.5, 0.5, 0.4897747308271777, 0.5, 0.5, 0.37521877596790804, 0.5, 0.5, 0.3132636403565728, 0.5, 0.5, 0.5, 0.5, 0.5, 0.5, 0.5, 0.5, 0.5, 0.5, 0.5, 0.5, 0.5, 0.4808012225192002, 0.5, 0.5, 0.5, 0.5, 0.5, 0.5, 0.5, 0.5, 0.5, 0.5, 0.5, 0.5, 0.5, 0.5, 0.5, 0.5, 0.5, 0.5, 0.5, 0.5, 0.5, 0.5, 0.5, 0.5, 0.5, 0.5, 0.5, 0.4377640820022366, 0.5, 0.5, 0.5, 0.5, 0.5, 0.5, 0.3333333333333333, 0.36295666958431416, 0.5, 0.5, 0.5, 0.5, 0.5, 0.5, 0.5, 0.5, 0.5, 0.5, 0.5, 0.5, 0.5, 0.5, 0.5, 0.5, 0.5, 0.5, 0.5, 0.5, 0.5, 0.5, 0.5, 0.5, 0.30560708902698197, 0.5, 0.3617069981997025, 0.5, 0.5, 0.3694445422610985, 0.31515571983521334, 0.2941771292938844, 0.3339649625198487, 0.5, 0.5, 0.29683898281985815, 0.5, 0.5, 0.5, 0.5, 0.5, 0.5, 0.5, 0.5, 0.5, 0.5, 0.5, 0.5, 0.47509725121116114, 0.5, 0.5, 0.5, 0.4778452501255516, 0.5, 0.5, 0.5, 0.5, 0.5, 0.5, 0.5, 0.4837057076110871, 0.4176871620656229, 0.5, 0.5, 0.3715758368516005, 0.4468727171827155, 0.2783950115901506, 0.47943850120392434, 0.5, 0.5, 0.5, 0.5, 0.5, 0.5, 0.5, 0.5, 0.5, 0.5, 0.5, 0.5, 0.5, 0.5, 0.5, 0.5, 0.5, 0.5, 0.5, 0.5, 0.5, 0.5, 0.5, 0.5, 0.5, 0.5, 0.5, 0.5, 0.5, 0.5, 0.5, 0.5, 0.5, 0.5, 0.5, 0.5, 0.5, 0.5, 0.5, 0.5, 0.5, 0.5, 0.5, 0.5, 0.5, 0.5, 0.5, 0.5, 0.5, 0.5, 0.5, 0.5, 0.5, 0.4949000239622429, 0.5, 0.5, 0.5, 0.5, 0.5, 0.5, 0.5, 0.5, 0.5, 0.5, 0.5, 0.5, 0.5, 0.5, 0.5, 0.5, 0.5, 0.5, 0.5, 0.5, 0.5, 0.5, 0.5, 0.5, 0.5, 0.5, 0.5, 0.5, 0.5, 0.6666666666666666, 0.4833839375941637, 0.5, 0.5, 0.5, 0.5, 0.5, 0.5, 0.5, 0.5, 0.5, 0.4556905002511032, 0.5, 0.5, 0.5, 0.5, 0.5, 0.5, 0.5, 0.5, 0.5, 0.5, 0.5, 0.2473111353316633, 0.5, 0.5, 0.5, 0.5, 0.5, 0.5, 0.5, 0.5, 0.5, 0.5, 0.5, 0.5, 0.5, 0.5, 0.5, 0.433239912292391, 0.45111712283326144, 0.46539679820327323, 0.5, 0.5, 0.5, 0.5, 0.5, 0.5, 0.5, 0.5, 0.43696829734789566, 0.5, 0.5, 0.5, 0.5, 0.5, 0.5, 0.5, 0.5, 0.5, 0.41759251738522596, 0.5, 0.5, 0.5, 0.5, 0.5, 0.5, 0.5, 0.5, 0.5, 0.5, 0.5, 0.5, 0.4730902139837067, 0.5, 0.5, 0.5, 0.5, 0.5, 0.5, 0.5, 0.5, 0.5, 0.5, 0.5, 0.5, 0.5, 0.5, 0.5, 0.5, 0.5, 0.5, 0.5, 0.5, 0.5, 0.5, 0.5, 0.5, 0.49022342456665224, 0.39629338872543907, 0.4763181003913243, 0.5, 0.5, 0.5, 0.5, 0.5, 0.4966767875188328, 0.5, 0.5, 0.5, 0.5, 0.5, 0.5, 0.5, 0.5, 0.5, 0.5, 0.5, 0.5, 0.5, 0.5, 0.5, 0.5, 0.5, 0.5, 0.5, 0.5, 0.45986033260243653, 0.5, 0.4183510385285115, 0.5, 0.5, 0.5, 0.3533024107804486, 0.5, 0.5, 0.5, 0.5, 0.5189698258983447, 0.5, 0.5, 0.5, 0.5, 0.40103426774764767, 0.5, 0.5, 0.5, 0.406119140679062, 0.4166666666666667, 0.5, 0.5, 0.5, 0.5, 0.2984102029361812, 0.5, 0.5, 0.5, 0.5, 0.5, 0.4142058814929934, 0.5, 0.5, 0.5, 0.39935009949840355, 0.5, 0.37487400952645056, 0.5, 0.28508740038522873, 0.5, 0.5, 0.5, 0.5, 0.5, 0.5, 0.5, 0.5, 0.5, 0.5, 0.5, 0.5, 0.5, 0.5, 0.5, 0.5, 0.5, 0.37661892191889634, 0.5, 0.5, 0.5, 0.5, 0.5, 0.5, 0.5, 0.5, 0.5, 0.5, 0.5, 0.5, 0.5, 0.5, 0.5, 0.5, 0.5, 0.5, 0.5, 0.5, 0.3869785167984743, 0.5, 0.5, 0.5, 0.5, 0.49256709456444503, 0.5, 0.5, 0.521508269339692, 0.27444636386329313, 0.28882660819492734, 0.35927686605791465, 0.49950055608919436, 0.5, 0.5, 0.548597243845231, 0.4830869998272087, 0.46959949123634054, 0.455493274861594, 0.39637554644163076, 0.4247478617142119, 0.5, 0.5, 0.5, 0.2911547212457892, 0.5, 0.1336164146613449, 0.23027491804057262, 0.3161307785356183, 0.32112385619028166, 0, 0, 0.3198280849907266, 0, 0.28855684878112886, 0.3506934114241535, 0.31530621241581197, 0, 0.34500420446358626, 0.27946664377300034, 0.28474855380238084, 0, 0.2657151945923214, 0.38490114818633847, 0.2402411075184179, 0.29060097602448914, 0.43438585377561834, 0.34379153991848377, 0.3004521550205583, 0.3340362518082059, 0.18040422096280517, 0.21885650357190847, 0.28721350212069824, 0.3755287631282536, 0.3052912583017566, 0.29708697603356315, 0.4328215098820243, 0.2770637813390008, 0.3288382905645139, 0.24282539356299057, 0.31727995786143015, 0.4172640793945166, 0.23611303198589864, 0.34053897472961836, 0.3228653279456641, 0.2792334585658448, 0.2052809640475704, 0.2737079520634272, 0.497998349992242, 0.3432767962663854, 0.13786696263214254, 0.21154094137831897, 0.3519677406995195, 1, 0.48305236024327075, 0.3706249344947732, 0.36647982458478195, 0.4015826391799007, 0, 1, 0.3997324470698396, 0, 0.26775023576551055, 0, 0.3253814012323045, 0.45308838889818104, 1, 0.275138545913786, 0, 0, 0.31703404776961047, 0.3847031308348307, 0.3006090978529424, 1, 0.4824945551952559, 0.6107722609703583, 0.3470868716312212, 0.33547842365846176, 0.37959027492055153, 0.41775172032138874, 0.6280416412578549, 0.4553214582200425, 0.3333333333333333, 0.5206187766826791, 0.368438895794523, 0.4526726877497493, 0.417014505696492, 0.53901127180086, 0.3725541162826092, 0.28392042918707183, 0.46103153653149387, 0.5490114814879771, 0.38362260118686414, 0.34504704826043325, 0.47233674801140124, 0.49645277000786736, 0.27015544307045114, 0.5380748524242676, 0.7625840931205087, 0.2519103471656462, 0.2676054512081642, 1, 0.33552845976785584, 0.3404072205984104, 0.2662148964061146, 0.28971907239695155, 0, 0, 0.34071339776287796, 0, 0, 0, 0, 0, 1, 0.2581215733284208, 0.3333729092454341, 0.3199837288501703, 0.3123595940602868, 0.2696536874053199, 0.32451473223586186, 0.2577217139759399, 0.36481224652381383, 0.23127908635671987, 1, 1, 0.2602503548314599, 0, 1, 0, 1, 0, 0.3635565602543581, 0.34748120728253507, 0.2978498896335715, 0.32508709337455743, 0.2955093238885661, 0.3552798878663832, 1, 0.3460397827242313, 0.3105069839937154, 0.3045230418956077, 0.36327740112950097, 0.33626264444663717, 0.28171566363901696, 0.2966055604110909, 0.2529520668837706, 0, 0.2871658058277163, 0.3036816288125172, 0.30619036944940176, 0.5, 0.2710818825596635, 0.25957158824416804, 0.20464803809470009, 0.3747140554940372, 0, 0.28146393472364517, 0.20328277865059396, 0.29854471374504754, 0, 0.32879773696377457, 1, 0, 0.302874828465245, 0, 0, 0.33505421897196735, 0.30682008013620843, 1, 1, 0, 0.29318331323369756, 0.3105620674313559, 0.35199765669398464, 0, 0.41460751954680836, 1, 0, 0.30943215736895263, 0.2545581872586617, 0, 0.3394982534567608, 0.2644887299164464, 0.2793572857493423, 0.2489019920166391, 0.37293518730877095, 1, 0.2947382296061077, 0.27444441142346004, 0.32993420359291137, 1, 0.19290011639888238, 1, 0.34442689848663016, 0.31226654017410327, 0.3202757797219273, 0.25849952786020347, 0.30715123080370527, 0.2950923441763018, 0.38327707278468454, 0.15587711653264175, 0.4416956977915191, 0.2553530031334852, 0.5939335042914957, 0.35228726427454776, 0.37802124922550745, 0.22887867029191528, 0.43085397974797746, 0.24739452575784043, 0.12688385000637492, 0.21139455433048399, 0.19060118963993425, 0.0, 1, 0.1496508315060915, 0.3033678633738033, 0.3490951336814178, 0.23695426535215047, 0.19605472145517705, 0.28495438978816384, 0, 0, 0.16109247290832127, 0.0, 0.3204239426831582, 0.13640094589069002, 0.11000942268370736, 0.2915336823991065, 0.29337937338729325, 0.0, 0.2846519404330957, 0.2927495282530318, 0.31048559544686966, 0.2908185812831463, 0.3852602268345072, 0.28567876833161776, 0.2666793463243096, 0.265967482236634, 0.28319702726890883, 0, 0.2706269390051946, 0.33258024126698654, 0.3267937641331346, 0.37530291447977465, 0, 0, 0, 0.1973411580239389, 0.22694314372835506, 0, 0, 0.3288875700647445, 0.2890329413963399, 0, 0, 0.2662097873307522, 0.23905252558334592, 0.17307689839270224, 0.30237763655570044, 0.3226701861668872, 0.34122188522379343, 0.3342650469608141, 0.2620470253422959, 0.28868075816506517, 0.2845111302872884, 0.2816771126867996, 0.29426435470515966, 0.3093217304299272, 0.2499646748367746, 0.23428745873692097, 0.28023966907603887, 0.3274754337820162, 0.10759831443343486, 0, 0.2668847283038053, 0.2877522793615261, 0.39068556850755154, 0.2568279501875718, 0.2799344186379265, 0.3050762530093619, 0.3341608648682651, 0.29393229265604753, 0, 0.20377488549913006, 0.3772970795761264, 0.26693761518425746, 0.1772666126624137, 0.29067497993288616, 0.17657870727715005, 0, 0.3037948875831807, 0.2284459811296633, 0.2517710550441039, 0.2687646185843732, 0.33235142883026025, 0.2997452147050449, 0.34508206834085875, 0.24571996191787107, 0.18527239534568776, 0.4002887198591034, 0.11659575430217628, 0.1910038368428451, 0.31753598555310786, 0.3245927178209752, 0.4678399113914258, 0.1990381676879959, 0.27820304795299844, 0, 0.22886049024544242, 0, 0.28600790788483493, 0.1266060192691618, 0.28323261611648676, 0.20649892444314408, 0.24518670742174237, 0.22337690959362158, 0.1259035713789541, 1, 0.22840295647838182, 0.3103616081465411, 0.34035649780177046, 0.5, 0.08657631261455626, 0.1686883707832391, 0.0873158022276797, 0.20080917874232618, 0.3835673220584332, 0.2997103422786475, 0.13863957065096005, 0, 0.38732541575304574, 0.10327777047672362, 0.2341361200452679, 0.18583649925588627, 0.20429059215433004, 0.23200850337039916, 0.09691605912011673, 0.25, 0.21518866863938022, 0, 0.0, 0.25677929941338373, 0.3180473715521789, 0.0, 0.27813617998584084, 0.30038163882632013, 0.0, 0.2009784235119875, 0.30406345584142996, 0.2360987599982712, 0.3084789567649628, 0.2732760283302422, 0, 1, 0.31157487018297225, 0.25437044265645936, 0.33624848115919914, 0.3392712035755009, 0.33258462194915844, 0, 1, 0, 0.3198171607466221, 0.3551809723154371, 0.2783212202567701, 0.29398031412803605, 1, 0, 0, 0.3615226922736102, 0.3231654901585213, 0, 0, 0.4025124340017447, 0.21086570536764748, 0.34488583860742034, 0.2774748488025605, 0.3209461343881664, 0.25836800140398414, 0.33168363275591506, 0, 0, 0.45505360971026804, 1, 0.31120393426789666, 0.36591253433383764, 0.2831348159792447, 0.2621299162651752, 0.33199799383944867, 0.2741444637257602, 0.20858860095026624, 0.29777295932936665, 0.2533289004534126, 0.28711202111756, 0, 0.3884676001113448, 0.36184627531994956, 0.25583922272289966, 0.38535870775120634, 0, 0.27059756787852113, 0.4067451797442113, 0.20603158173406486, 0.4181201634404254, 0.29850963399877634, 0.3397233192257054, 0.2789485104921654, 1, 0.32425999702559116, 0.25582244851687463, 0.3276606098317038, 0, 0.27674339901690803, 0.2826024569172048, 0.35977086914353607, 0.2798826657004697, 0.25864485824641265, 0.3044065155702045, 0, 0.32067101133065073, 0.2248927775239729, 0.3670715007533097, 0.3337873017109064, 0.3510002097887904, 0.3872673878861244, 0.3722421071252426, 0.2780270848578065, 0.24217672103877824, 0.29245041053501025, 0.28622939949720105, 1, 0.2908660780118176, 0.2782352670846846, 0.2785685722658245, 0.29243737451544277, 0, 0.3354120603975072, 0.2614363213727388, 0.3861189027065661, 0, 0.3822433041106106, 0.26499701801297876, 0.39595564179178006, 0.34388355201980575, 0, 0.2129051345785593, 0.22582627772169148, 0.3524341614762927, 0.3095506979421123, 0.31564078205051793, 0.3046317657646855, 0.28722070175650605, 0.09393915382514628, 0.3580520102149688, 0.4025450106929784, 0.3472579745129809, 0.2483528208654086, 0.2489179938562362, 0.3198280849907266, 0.3006762345297649, 0.28857060401462, 0.3424285962163863, 0.2661386437520969, 0.21711629707019783, 0.24821614659674227, 0.40352279471580577, 0, 0, 0.34929048011223585, 0, 0.30657837023301565, 0.44079100548264033, 0.38041899983379485, 0.2679174816787047, 0.3102713774235663, 0.17979318115275414, 0.24207992905379727, 0.28086078746853765, 0.25989556473587844, 0.5, 0, 0.3053363525380438, 0, 0, 0.29417531530830143, 0.22767139002994025, 0.3340691639475272, 0.36297667765539543, 0.31726533128351203, 0.3036360355505344, 0.40991404249536334, 0.32430785490963215, 0.36935443699624476, 0, 0.13141774974855552, 0, 0.15507534925397967, 0.2713392127741264, 0, 0, 0.32660049711808037, 0.21692432541674256, 0.26465344620361053, 0.3219098301928427, 0.35938847370058113, 0.2775594280110123, 0.24516206398828042, 0.25110441939674516, 0.15044426655843385, 0.2947824993107618, 0.31868316255610535, 0, 0.29096982515415487, 0.5135403327707587, 0.42167466478858495, 0.42262139239503577, 0.3906301930908676, 0.31007232207050384, 0.29614776704035733, 0.34042146755127795, 1, 0.22260558881319284, 0.29622218025264685, 0, 0.36254746031924184, 0.3448130060185746, 0.33136046093386545, 0.3310014279881808, 0.3414959180108211, 0.3364550266503032, 0.31280619802897214, 0.2833796045529217, 0.26537242700968156, 0.27330430678120865, 0.35622001066090997, 0.34554577523118435, 1, 0.236706505801223, 0.5, 0.2814743907057987, 0.17924419010096157, 0.2889289238968638, 0, 0.3220965327362529, 0.21518905573633393, 0.3716195361178141, 0.30153388584708035, 0.2885822857563085, 0.20770590618025211, 0.19900497258742308, 0.25154615008415787, 0.35939088008681125, 0.23297883424417812, 0.47248278580934516, 0.16941703791749357, 0.40327418656830993, 0.4079696113373133, 1, 0.370056364327928, 0.2437543964125216, 0.33190305219866306, 0.33188989801579744, 0.2936574373411108, 0.4177534320264809, 0.34951600258256876, 0.2899045921932521, 0.2503844745267337, 0.27992318244077746, 0.283933325400642, 1, 0.42375349302136744, 0.4333684151332564, 0.227437098706531, 0.4341587149242259, 1, 0.23402379636711243, 0, 0.3098507142617119, 0.20882025398340817, 0.2315129328202418, 0.3092137944439549, 0.3012923768668732, 0.28177497186754724, 0.2986676875225479, 0.26208324485244555, 0.2479449495355605, 0.3122466769057401, 0.28748883795346186, 0, 0.3339085779086829, 0.3582242693330249, 0.3726257252460811, 0.3839466678516942, 1, 0.31796549597256724, 0, 0.7732760283302422, 0.42162427481427267, 0.46225058178996753, 0.2719860084530658, 0.26619514643512276, 0.2501415201636139, 0.22217994627739984, 0.2526069208079613, 0.3083493638709229, 0.25941332359892577, 0.23032154636241278, 0.3711249604170417, 0.36392518242541316, 0.4411216520553053, 0.1958741919185268, 0.20844197996504404, 0.25594125116108907, 0.3155541703686507, 0.29621371782501826, 0.29873318575292995, 0.41841482762602816, 0.32530602418936694, 0.40991404249536334, 0.35291212548858797, 0.33701505567572776, 0.31241085373102073, 0.41468901905822897, 0.26326705024059693, 0.1579635209666063, 0.2419305568308276, 0.3163938320860745, 0.24826030356387302, 0.34666707872298397, 0.3572412601979796, 0.18134164021071852, 0.39483941700725206, 0.2826890006448133, 0.3550352125488339, 0.3198280849907266, 0.3001620318553253, 0.2951128857616673, 0.10660936166357554, 0.42967234180585984, 0.22042122337384334, 0.19700289390382839, 0.22416986275611167, 0.28533447665563416, 0.2530166140553206, 0.17551784727533432, 0.7732760283302422, 0.26865620854189115, 0.32762381478608243, 0.1881495050087454, 0.2558356437438415, 0.25514768595699916, 0.30263895338761454, 0.1607532772650016, 0.2507174304948237, 0.2651393368111128, 0.22960785275377316, 0.23178406775335583, 0.3173734865864393, 0.3981129453385071, 0, 0.29995068404340314, 0, 0.2732760283302422, 0.35525682674913905, 0, 0.38219592113443346, 0.19691329310309724, 0.28280445998682774, 0.06396561699814532, 0.20495702124768167, 0.3457707427816851, 0.3198280849907266, 0.40781958279590796, 0.28935238514025907, 0.17551784727533432, 0.22711692575477893, 0.3694339630782823, 0.2938885451109507, 0.32810048263945535, 0.2102214342694893, 0.27173873822256767, 0.17415620061618853, 0.31442681110557463, 0.3403672033009302, 0.1599140424953633, 0, 0.13100262395223572, 0.39454712964364036, 0.3306598502490256, 0.232095815798491, 0.18477326720727394, 0.19515683712470225, 0.40091338216219813, 0.3723076935298602, 0.2940534486445635, 0.3033046808317878, 0.37870275934855985, 0.3513955953654124, 0.4429127816730841, 0, 0.1756207536782808, 0.26666678468520466, 0, 0.3562032875499964, 0.34697447248251484, 0.19486619344580036, 1, 0.2835304409619705, 0.288512773870753, 1, 0.3946277988269694, 0, 0.33892499053213887, 0.26385483100969864, 0, 0, 0.19648867408526638, 0.29980725277368814, 0, 0.3641523132625533, 1, 0.25132597008748114, 0, 0.3207420078500121, 0.5280032392988313, 0.3268796867176414, 0.2934020616693314, 0.3309173815265579, 0.27865944300253964, 0.20471801854257823, 0.38086283557665773, 0.2950494032841931, 0.2991406550516821, 0.3072598125313046, 0.30955933418243825, 0.2296349611562163, 0.32278031878490254, 0.20258772424851249, 0.20902392798648395, 0.2095646448359756, 0.2461720353202781, 0.25822452969155374, 0.2672804916348026, 0, 0.41019126990468996, 0.2877248618025944, 0, 0, 1, 0, 0.21123911617627106, 0.3333333333333333, 0.3701010261165311, 0.25935243999952445, 0.3089537369575465, 1, 0.24404369826912456, 1, 0.19663534445918066, 0.4576445426978568, 0.39533470017747335, 0.2718318990474064, 0.3597107226762639, 0.13588168923630942, 0.14441330409746367, 0.290868886382012, 0.25327807379170897, 0.402653417919585, 0.27414206559697607, 0.17833242740381913, 0, 0.33189175884574, 0.366669014266364, 0.36404561802397106, 0.4268760267373186, 0, 0, 0.2652865283609358, 0.26462104245139856, 0.32598972942188176, 0.2897830544191192, 1, 1, 0.37441013404363505, 0.0, 0.32957308839317745, 0.3369242319471371, 0, 0, 0.24192572936664627, 0.28903306631319475, 0, 0.2327795363092275, 0.3663177552674839, 0.20377593948742778, 0.18588248398177107, 0.40604508720343974, 0.1929541697564423, 0.24694313275674684, 0.24676826268982158, 0.3054213348649827, 0.32580039511348136, 0.45986033260243653, 0.21869620185083552, 0, 0, 0.2058585664543521, 0.19230759357080895, 0.23896297143046907, 0.2179449209331042, 0.3551517335088225, 0.1694505408323153, 0.29556072076961004, 0.2694044879274895, 0.37222702640548205, 0.42432852994500986, 0.2927701179973093, 0.2964421294427019, 0.22749033606573937, 0.2570293177738659, 0.2573923659846208, 0.35993921042884824, 0.4213064836135794, 0.5193115928079928, 0.24074074074074073, 0.29702800897689857, 0.28375175563034166, 0.2661665164651915, 0.3934374551035964, 0.31142513115537707, 0.28785577693893777, 0.25059069932400607, 0, 0.22172730828069093, 0.29220602900813425, 0.0, 0.3046206945478602, 0.2914301851923826, 0.33688732856773285, 0.3259014362037708, 0.3348224632247063, 0.0, 0.3180065945218606, 0, 0.17531194981655493, 0.2604761484475433, 0.3174076937339461, 0.1556300887334862, 0.25879519217215446, 0.18461204102349654, 0.1951572278069397, 0.33611862771598494, 0.23047397974240472, 0.26878223932051737, 0.25, 0.21619647833104239, 0.24216154080851937, 1, 0.29554206759900625, 0.5, 0.27165845550199375, 0.3081422487451345, 0.23005929732411548, 0.2990504976815934, 0.28963169376512116, 0.25, 0.12336700870551037, 0.16666666666666666, 0.3015858216975872, 0.2991532365831674, 1, 1, 0.3920938937539963, 0.12421098268108717, 0.37392154882479095, 0.203267642647816, 0.17667168953729814, 0.0, 0.29439986740960933, 0.4431081542243683, 0, 0.224767221004061, 0.2209441527741153, 0.29094694752946615, 0.0, 0.18353330536838605, 0.6674119096253064, 0.34235584850326567, 0.20227186349191664, 0.3039984659354339, 0.5, 0.22524898661270862, 0.3060683568703491, 0.20300433349528949, 0.4491401102883233, 0.30221452379971064, 0.2754724069294637, 0.2166199561461955, 0.0, 0.3285637535150936, 0.15629556093108601, 0.0, 0.2841123279315353, 0.2327416442561984, 0.2749304492938222, 0.0, 0.19988438579762127, 0.07517902298684118, 0.2166666666666667, 0.11159657303696324, 0.04926012012826834, 0.3295878958099615, 0.24966868901966782, 0.03405314831023968, 0.26518068919966875, 0.16666666666666666, 0.08429445127401343, 0.083796258692613, 0.29637285247656875, 0.3273973148686681, 0.3651230964614536, 0, 0.2962972171925532, 0, 0.3852948633694185, 0.2540281142784482, 0.3493839864436892, 0.3593352425337263, 0.24659250929511226, 0.3775351296919707, 0.2237350311712664, 0.3742701307012515, 0.4036807045677728, 0.32887716200075184, 0.2808088366976911, 0.27723775301162995, 0, 0.32980329367898037, 0.24193340599498994, 0.2960263879272589, 0, 0.41091923069485936, 0.28605038359718216, 0.3395811234379522, 0.3354481407782159, 0.35154885606274, 0.2722701553206301, 0.14493200502489476, 0.34630774839922857, 0.23231134874808385, 0.21380124557269606, 0.2497256635476207, 0.32013392342209873, 0.5138713026299948, 0.36745610977608756, 0.38613199566156003, 0.5168586754042763, 0.3403442397736877, 0.2599023354552641, 0, 0.3276946957248802, 0.32131576331455475, 0.37029482939192016, 0, 0.2196384237076364, 0.6874481385793151, 0.3632898363347035, 0.3248495968292569, 0.3844678652301119, 0.30783193471749604, 0.27070819552104786, 0.3007456445160485, 0.41526186274452875, 1, 0.24065457422261094, 0.4397903481040954, 0.3297731545153072, 0.3274910533797259, 0.3678071843960333, 0, 0.3743243482273237, 0.28684735464561206, 0.38961988738402425, 1, 0.29759644494919757, 1, 0.335185034770452, 0.27988200603493557, 0.3551996617714188, 0, 0.35002114450342253, 0.362712226051361, 0.36342902696650603, 0, 0.26176210935075356, 0.35051519553534, 0.3706571365121467, 0.31796533964325024, 0.31992146116848424, 0.32655653724334466, 0.2871304718904596, 0.42868415125842824, 0.23509535362899436, 0, 0.3130774299623034, 0.3151038891046988, 0.39907514554640183, 0.3934963790543642, 0.26143544490047554, 0.2502585663145911, 1, 0.6728711937864444, 0.4331005543373943, 0.27511435008740753, 0.3299264566797909, 0.3357418741334305, 0.2946629294703545, 0.47601610165469327, 0.24956195337303497, 0.3343777141483483, 0.083796258692613, 0.2567537384396016, 0.2736293037075621, 0.34713924219326464, 0.39923265812177927, 0.27076250493851106, 0.46688313672965026, 0.15862167444565872, 0, 0.17592265913373434, 0, 0.16408398439893104, 0.335185034770452, 0, 0.32619329054345303, 0.23921571326060467, 0.083796258692613, 0.335185034770452, 0.22697580744778026, 0.36076895298685274, 0.2807694487747317, 0, 0.30848415057367357, 0.27473163878292844, 0.083796258692613, 0.35945634587185443, 0.3694993545177691, 0.167592517385226, 0.23051236514714374, 0.29732680523326765, 0.4609752357839846, 0.2861779374801789, 0.2869586616275596, 0.3948004878619818, 0.3743872700839505, 0.4038386538400335, 0.305981558382077, 0.19839744942364512, 0.25209294144419114, 0.3906940862860185, 0.19022706925464947, 0.31724334889131744, 0.0670370069540904, 0.28142423962224455, 0.2829307352315922, 0.3047143099565438, 0.24860398805962386, 0.28889935012208534, 0.2820919967756637, 0.335185034770452, 0.4739043646758384, 0.33705501265129545, 0.19930483109588532, 0.24228363516790463, 0.36382540196787544, 0.2732747251927458, 0.22441088034136028, 0.317777287067076, 0.3980004233169742, 0.37223181931646554, 0.2677147740880864, 0.1429309302655915, 0.08866591013659424, 0.0, 0.4449950179166766, 0.0, 0.19179380041076818, 0.17746795233029067, 0.22481674746588337, 0.0, 0.3082179991490032, 0.28865399774048944, 0.3856043354096971, 0.2940639347312013, 0.3284117629859869, 0.31539209472106583, 0.3417263855221453, 0.35582021526718355, 0.29459295526807805, 0.35081484052404216, 1, 0.4270459815773362, 0.20491090544665674, 0.2551176950176684, 0.4389458057306074, 0.37663100722354603, 0.40386848652175683, 0.38973237946600875, 0.30156034622562294, 0.35258123604586095, 0.26910148678004986, 0.21425285932084803, 0.4000196855639212, 0.3608924778050963, 0.3686831178665549, 0.18204443239183724, 0.1978876909499924, 0.41958368777975064, 1, 0.38995048491498435, 0.3813230183228143, 0.38296310574009823, 0.4608524426350814, 0.27841041273016315, 0.1692643115644859, 0.23601853305838288, 1, 0.3425639121073891, 0.20053600473939168, 0.3349705328130586, 0.3358969666972204, 1, 0.27037638048527973, 0.5107421222452199, 0.36332830066020005, 0.3033176927966732, 0.29320263471360775, 0.2676249428217483, 0.31339294363742143, 0.302874828465245, 0.4267253357126628, 0.1564435491857174, 0.2992880956395298, 0.07571870711631125, 0.41733866326250674, 0.08637103609071817, 0.18321218082063517, 0.2263407415658797, 1, 0.2698221480173198, 0.2598753712156052, 0.2769114935380731, 1, 0.30099279698876114, 0.2966892827681277, 1, 0.32289936827762467, 0.36530763130718313, 0.39878033049041395, 0.14296648886420033, 0, 0.31635062675322223, 0.15467036986298366, 0, 0.5, 0.28292029439598904, 0.2662994511276512, 0, 0, 0.4141051577350196, 1, 0.32568091704709834, 0.17770773780318008, 0.09976722100406099, 0.30994451017680374, 1, 1, 0.38821557091162234, 0.26484376186537884, 0.14063893624809357, 0.27120356450467015, 0.2185230284539737, 0.3333333333333333, 0.3337838783622943, 0.21494663322242388, 0.3333333333333333, 0.35940807072046216, 0.16275695498615042, 0.23159098465998076, 0.3991996813676874, 0.14160798782718445, 0, 0.0, 0.0, 0.15623202996540478, 0.3123978783473251, 0.5, 0.3202995651941034, 0.08251165492727178, 0.2166199561461955, 0.2872524465061739, 0.19477410747677784, 0.2875243097513355, 0.2969379104543349, 0.31009457097534876, 0.2574654026050157, 0.1, 0.21779317041510765, 0, 0.14990096749528173, 0.3175525707285201, 0.20190725660257336, 0.3716569109943409, 0.19760696329507824, 0.1888149984203954, 0.09511941071172086, 0.1891729394748415, 0.26619797877571105, 0.1923007417775604, 0.2644679895706514, 0.17975954388563942, 0.17245051330695305, 0.2696709352254284, 0.5807248420694062, 0.1790446433119778, 0.3205967163593918, 0.2853582321351626, 0.287591000838078, 0.3025753520910276, 0.12253398461327528, 0.3057143624316718, 0.07678133144609617, 0.06295178568947705, 0, 0.17732422131538036, 0.25769497811245207, 0.26092874431238455, 0.21317998525000795, 0.2752287157926783, 0.3460825809626911, 0.20724384594288647, 0.2590527765495216, 0.2687018662588676, 0.1953605827532683, 0.16176333184435102, 0.2805947486875355, 0.14287313123543932, 0.3222274665697296, 0.3116225279114967, 0.20178065366177764, 0.34946835518230424, 0.27240842262901316, 0.33293975142118826, 0.4510656991037655, 0.23633600093687612, 0.2769493653411535, 0.2737296059736415, 0.29564549671368207, 0.19766385519592589, 0.17870846732359982, 0.23163792299780922, 0.16037100392500606, 0.23882476103827627, 0.38309460959448155, 0.2303439943382885, 0.36365820987930586, 0.2663888523836181, 0.5, 0.2503498681118395, 0.2620733426007896, 0.3405178952789447, 1, 0.4672444548233597, 0.0, 0.2774608057361784, 0.31080919299078685, 0.21312195962850683, 0.2015817152061132, 0.34609172706468705, 0.19492723752677935, 0.3020758360338691, 0.27698142320687663, 1, 0.3381737713870294, 0.2727820285746818, 0.2, 0.24835008921088947, 0.26966908049462246, 0.34342668406178456, 0.11447556135392818, 0.34342668406178456, 0.20219858761460105, 0.12797793959814197, 0.3252587437194238, 0.27709289201791343, 0.37371614232170275, 0.10215944493071903, 0, 0.3528565512272905, 0.28828466941423353, 0.18045829726928053, 0.23548646170432896, 0.2476009460812433, 0.3762309654306583, 0.23224393332073787, 0.172249728952524, 0.38894114017370174, 0.2858251013373943, 0.1426791160675813, 0.2831761466359674, 0.22811273033770071, 0.12892555661836277, 0.4427607478899851, 0.2723059104519876, 0.1891268053352258, 0.3776996698051454, 0.310738482957562, 0.08483151233326325, 0.0, 0.1862705468455106, 0, 0.0, 0, 0.2220920392562948, 0.33582835771812436, 0.35079400252024157, 0.3733817973413693, 0.13091023675887195, 0.10662929825028973, 0, 0.22668006599632448, 0.16666666666666666, 0, 0.17464425950439372, 0.18323991229239098, 0.19137403535976974, 0.08270242576091315, 0.41068498594582226, 0.24521919550130813, 0, 0.06754683895261299, 0.266568943644685, 0.3250015201945633, 0.17829613354816956, 0.27520584858299824, 0.16419617946045426, 0.0, 0.0, 0.3416199561461955, 0.34829758964648727, 0.25, 0.15089890739995795, 0.09572193527590543, 0.20633997510657012, 0, 0.2268403103787879, 0.2243815877001376, 0.33841802703506163, 0.2911407153984492, 1, 0.0, 0.15965552832136892, 0.17483618216843108, 0.2409847596573164, 0.2019317483643807, 0.34648044346991547, 0.11614278160215208, 0.1496508315060915, 0.2861935699749379, 0.2916368409564841, 0.0825050262200172, 0.12550240391496034, 0.11764685675226576, 0.0, 0.15857766624142966, 0.16933260389490584, 0.1336164146613449, 0.15149308052100313, 0.23501709088374162, 0.25737981639328666, 0.21524895199220626, 0.12044696056604057, 0.30109561361949394, 0.11486061881640768, 0.16025477477351138, 0.0, 0.11092268066779062, 0.5776024454759912, 0.12446059911378976, 0.0, 0.07165000885267771, 0.10747501327901655, 0.1992224646542326, 0.2442842960270361, 0.2303165797670132, 0.05373750663950828, 0.32482541575304574, 0.17516284223686077, 0.08840334701958212, 0.14311756331318065, 0.08995002655803311, 0.1150065569146316, 0.14043496066707534, 0.10540264261838278, 0.25, 0.2149500265580331, 0.20701698326935922, 0.3920411022142608, 0.3243200467588347, 0.225247088252503, 0.25961985600794235, 0.3154320041863361, 0.2366626659916824, 0.2623872585069092, 0.3885386890159004, 0.3112766957333869, 0.29415359476988384, 0.25150879609158694, 0.33767836097105186, 0.2590527765495216, 0.23979852323922424, 0.31317310289513706, 0.25755845735586685, 0.31189895569398257, 0.28864772918820364, 0.3678897420422266, 0.2650821630350672, 0.3036115125826443, 0.3879565540266303, 0.2539867048656932, 0.3918765432309677, 0.19633088378771407, 0, 0.16242380132528025, 1, 0.36178199310518233, 0.3233733743388373, 0, 0.31429662638010547, 0.23947268375408565, 0.1935736344931718, 0, 0.1609904866463043, 0.375089871552225, 0.1814701447525872, 0.26436744564872705, 0.311684488329861, 0.2722175428661377, 0.08334180336464493, 0.2237769606954831, 0.22865663248517865, 0.22640184324958232, 0.24977512801478716, 0.32231636704849975, 0.24689519414705838, 0.3849702859018074, 0, 0.3631778434214213, 0.34194453690048643, 0.33945297521009216, 0.19227464535287198, 0.3897353837702718, 0.2981823765478801, 0.0, 0.18323991229239098, 0.5223328910597256, 0.6103172318921607, 0.3781420993730934, 0.31203103134347515, 1, 0.3469041640202051, 0.6666666666666666, 0.336919081561597, 0.5083339202332576, 0.38114363663175826, 0.2234819845317613, 0.31068236222710494, 0.3762649684417309, 1, 0.3839269257219832, 0.3389045830073875, 0.28892743923503433, 0.3418544489955567, 0.2672328293226898, 0.4233912712057248, 0, 0.29196796144290615, 0.3384426244648931, 0.35920687193383816, 0.27674253078149436, 0.4227575857436937, 0.33847582202219834, 0.33793891301939105, 0.3281148598918791, 0.3698933412410224, 0.13064157724396935, 0.4165738557561127, 0.34349029043896007, 0.2979347073941644, 0.35526144014673744, 0.5020229034988033, 0.38375596532737255, 0.4054198447170559, 0.299301663012183, 0.22369813649058087, 0.4037639673551135, 0.38977940878270934, 0.25917167184713097, 0.2532917904052017, 0.27345339321935036, 0.38265613219610506, 0.2795885171138941, 0.20398561566186696, 0.3799376856078026, 0.3786306284273356, 0.3874062726260232, 0.3131775979001936, 0.38843173864422037, 0.29890714211749814, 0.18776726582075648, 0.11451971879690145, 0.40064682579041044, 0.1442058144656805, 0.2598753712156052, 0.26473277721207406, 0.3821364315079939, 0.26081198212707346, 0.34364513687904163, 0.34781722031351736, 0.3905987148666749, 0.3208927427613295, 0, 0.29782131102997955, 0.3063231521698985, 0.25634833718229777, 0.3728337949973004, 0.33107486943169195, 0, 0.3419390735565612, 0.3062187019476362, 0.3261660043202407, 0.2303592255208036, 0.44597963767313037, 0.2805593003795796, 0.45819230288596613, 0.3405592334511568, 0.33793891301939105, 0.2933163952861087, 0.3217197773041868, 0.29093811849546036, 0.33793891301939105, 0.3075319035349484, 0.2840314288158374, 0.343860527892165, 0.33793891301939105, 0.2195862750653137, 0.31597044396165114, 0.35220936880208653, 0.34380897786384246, 0.21241352534385802, 0.35209834682245106, 0.364631597405225, 0.37480006699608326, 0.269086976636576, 0.3234463249884688, 0.27713825228882133, 0.33793891301939105, 0.4105714764257738, 0.4144529192454823, 0.5, 0.2793129710064637, 0.25703959393733683, 0.372431021058078, 0.16664104705090416, 0.39821119942127814, 0.06532078862198468, 0.5, 0.31532078862198465, 0.3517664292272381, 0.3263335887892993, 0, 0.27875861200733787, 0.32189590075269175, 0.34770333818194404, 0.25746192710513555, 0.36713140839606523, 0.362033767118454, 0.21690490519279293, 0.3746496327538071, 0.29441043425776164, 0.2608843677381898, 0.2754145355884131, 0.3462561220190928, 0.33316762282845974, 0, 1, 0.3347707178131791, 0.3854670234791921, 0.30135660874939, 0.3644270924945215, 0, 0.3351073211455275, 0.41990804399466014, 0.536081038050701, 0.37508359748796477, 1, 0.43821705965134594, 1, 0.2625388668149429, 0.5023483798256617, 0.2359123677209764, 0, 0.3558296653257549, 0.26540640010492694, 0.2954994078245983, 0.25094672927203227, 0.2618958832700747, 0.23933587341607046, 1, 0.2725912460210264, 0.2634898604069888, 1, 0.3924217845430774, 0.24105800080680787, 0.23648294518229857, 0.29008583452482284, 0.4568749781649244, 0.30149333384507626, 0.22803403581769868, 0.2293515382704146, 0.292709787105697, 0.2707132403289815, 0.4676562336236933, 0.4123682530265184, 0.2562753831646778, 0.3347966989399463, 0.2176562336236933, 0.38623823855493544, 0.39495675239868666, 0.37342142271289513, 0.33715336554331665, 0.5258392701002195, 0.3168719951628413, 0.2969731167148897, 0.19677848833859013, 1, 0.4235039301257961, 0.3101658853987655, 0.2232390692582331, 0, 0.4353124672473866, 0.19884351712104462, 0.342958456576749, 0.3171243601873472, 0.31495381469671, 0.3339745353682017, 0.16643774913120502, 0.328379259522043, 0.20433762424690102, 0.1853124672473866, 0.2880578870370213, 0.5104602741628701, 1, 0.4734864137846033, 0.2835402397357241, 0.1853124672473866, 0.1853124672473866, 0.47013285138303323, 0.2622191320224372, 0.18746666512797372, 0.35338811034412354, 0.3096584012073281, 0.3096584012073281, 0.3685523795397776, 0.1853124672473866, 0.2104627874382849, 0.1853124672473866, 0.35982767656453857, 0.1853124672473866, 0.15553343264659003, 0.1853124672473866, 0.28157236263101304, 0.29163314138033186, 0.27769357388908167, 0.38198559110305585, 0.29441043425776164, 0.22345630554112364, 0.2879323660466625, 0.29912019669418066, 0.29460415161703873, 0.23447459549250715, 0.6472052171288808, 0.34197104375505466, 0.5736026085644403, 0.24198574422156505, 0.13497624530671104, 0.42049967520842396, 0.32496781891793225, 0.4141114409351135, 0.24482486283133684, 0.4542762748401746, 0.2639398348694496, 0.19747680141333307, 0.42103028846344964, 0.19908063587333982, 0.28743162699927804, 0.29441043425776164, 0.2927573390441645, 0.2659409842937656, 0.3412510078898402, 0.5369119821522825, 0.3050273531296388, 0.3072163792528705, 0.2314328489873027, 0.2273339405785445, 0.455873532587357, 0.2901696643308861, 0.26318781803709107, 0.3384528892823242, 0.1611193384270997, 0.43017233958180623, 0.33430233589651714, 0.38491567855069303, 0.31599241708302883, 0.4080124986407026, 0.2788888399379753, 0.278630693475874, 0.4109145095257498, 0.34956744820450714, 0.3401620555876473, 0.6481864262382844, 0.2540373399575491, 0.3324058741355459, 0, 0.34653154367322064, 1, 0.4761059811106677, 0, 0.376445147062328, 0.3753698232200009, 1, 0.3283577391141678, 0.23994292846985793, 0.0, 0.3036308609985073, 1, 0.44608238051522076, 0.3884893302219631, 0.3051622416016756, 0.5, 0.38981875848162145, 0.3981864262382844, 0.41991248131531334, 0.18768491161000045, 0.33985312240958554, 0.3475875652895407, 0, 0.2908557154918972, 0.23236173319537928, 0.2625810615677313, 0.153655294170156, 0.33515904514281103, 0.23675522709879457, 0.37211048620618625, 0.34722647151594127, 0.32675775024928716, 0.28537982968165027, 0.3051699103862799, 0.3572722453150142, 0.21959563733354637, 0, 0.31566059570569005, 0.316573438564005, 0.41493751501431575, 0.3385286231289718, 0.3372626277338034, 0.27879694770471264, 0.41735402599691473, 0.32274119924722156, 0.34719832716604304, 0.33350198171236395, 0, 0.291612579933936, 0.3177342587419343, 0.41474742010160515, 0.35541765515549917, 0.17975093821816288, 0.37933751651990116, 0.5999127078765228, 0.32840700942417517, 0.5, 0.48998716765681655, 1.0, 0.3132922460067097, 1, 0.5, 0.6259263171925421, 0.6895028875621504, 0.6128428743763239, 0.5846321557822429, 0.9112967667130859, 0.5232496423593157, 0.29673683266720896, 0.37684332567770656, 0.24405261926870425, 0.5692754433132292, 0.32506791404568247, 0.6527474100049914, 0.3282625106185511, 0.35671228203280786, 0.3565598754403775, 0.3040101837205723, 0.3946277988269694, 0.37634864497509746, 0.43732026143343206, 0.32744033639899794, 0.313086152651987, 0.03959674105784645, 0.16584747237667824, 0.3885386890159004, 1, 0, 0, 0.34258116863398236, 1, 0.1401281378906094, 0.23733244023882252, 0.22988926418266337, 0.30268679963382644, 0.20970417185846352, 0.09204445670771035, 0, 0, 0.39337809470394075, 0.06666666666666667, 0.18358752136339693, 0.20975460033895496, 0.1, 0.125, 0.3, 0.2526137884417282, 0.2718583744256285, 0, 0.0, 0.11024587808533526, 0.13710185683734558, 0.1803076373281539, 0.1502964866205774, 0.18096645538693606, 0.09179376068169846, 0.1579077673224026, 0.17076167541035847, 0.2012058243117701, 0.1736877791589046, 0.0, 0.27662090769699604, 0.3962620076739515, 0, 0.44395683557910925, 0.3527944566984897, 0.44199694501010967, 0.3201850274280286, 0.27819839497841437, 0.4161489773568945, 0.2931776038203086, 0.38319442619180905, 0.3015993875578953, 0.3522925675297035, 0.35249171016459996, 0.5878888757455624, 0.5538093304688655, 0.4749402408994265, 0.46385608871479855, 0.3314387231736943, 0, 0.42829130986534014, 0.5334271370876978, 0.5494211921009653, 0.30071069471160317, 0.2692772256197031, 0.344751054795852, 0.3263552946565451, 0.2901957291393131, 0.46385608871479855, 0.2596071777533114, 0.2736150833903774, 0.2796547671608463, 0.3179373263830609, 0.041168582800699106, 0.27714257156053723, 0.24126646128791662, 0.33542070348364417, 0.3116835043527552, 0.24026586974128714, 0.2628727447234496, 0.43022763807075864, 0.0, 0.465297828640944, 0.2598603326024366, 0.23042873133452155, 0.4396748501068759, 0.40673626792277273, 0.14790498903654886, 0.18068875435424606, 0.24403198243391114, 0.1536929040170356, 0.1496508315060915, 0.27942588584075817, 0.1050786227551852, 0.31382912969691035, 0.2428897120048569, 0.36951455389957294, 0.2648188470250499, 0.32179558432108635, 0.21695017302497432, 0.1496508315060915, 0.3057683086149111, 0.0, 0.2874483771198856, 0.32602404967082227, 0.17865393009125433, 0.18802716338642048, 0.5160490121261327, 0.5225832596038202, 0.375, 0.38286081096095964, 0.5334187080577462, 0.4755899254426118, 0.567936322355463, 0.31647673668684495, 0.419423469567179, 0.31308457097078474, 0.3630147822131323, 1.0, 0.39740602762939015, 0.38935064576884104, 0.6173364253296888, 0.5857650162632285, 0.5135522699160034, 0.5815245568403908, 0.4852462396793406, 0.4467327143715204, 0.31292813680916926, 0.5372143983781422, 0.3295613737161207, 1.0, 0.5311127411504993, 0.4091266488848239, 0, 0.33209721343279297, 0.20522880024968657, 0.21825697847746459, 0.4431474073545054, 0.2935039323924238, 0.4022403017011903, 0, 0.18632345874678083, 0.4080494515203745, 0.364809372241351, 0.22165892659413722, 0.595728125228881, 0.2101783494407195, 1, 0.3490459995588461, 0.28654202151373276, 0.3876976348718145, 0.3890231929447496, 1, 0.44501698035344406, 0.41026319731134464, 0.19137681932972175, 0.21190222343828355, 0.3767053444703536, 0.4111204666200116, 0.28671965645153025, 0.3471446138292636, 0.11228502757208082, 0.36183481163601205, 0.23091174691359054, 0.22420468011508582, 0.24821810035742203, 0.2506853749629984, 0.17446237689233746, 0, 0.2646240710868394, 0.25595467310550346, 0.2333861464617508, 0.6082233627688294, 0.3950605847281441, 0.27835140632398914, 0.3298975919261993, 0.2914976067155763, 0.3030666326448898, 0.36481389981375656, 0.25435695342470993, 0.2189611650837328, 0.4106368620509032, 0.32444912520216124, 0.34578492913304737, 0.2581695187390677, 0.2769754326906314, 0.26258020931054943, 0.22126124025826086, 0.32000848269326315, 0.3052528200865034, 0.34689834332621905, 0.3333333333333333, 0.27567089137403217, 0.2664338876707277, 0.2423523526059472, 0.10282805019122453, 0.3372134496561227, 0.26768972738245667, 0.1911216520553053, 0.15480494033368786, 0.1690805790594505, 0.21858822853040735, 0.22757095511198225, 0.26620465375101265, 0.15656257683163477, 0.16666666666666666, 0.14078618131550652, 0.40349101507884827, 0.3215098216318101, 0.13324591210878653, 0.2146920700591637, 0.0, 0.3125085350359361, 0.27311527550877623, 0.0, 0.3377503573927169, 0.23007508106392188, 0.3026910368007009, 0.15037282225802426, 0, 0.2619236218234257, 0.2295035813452671, 0.16676353561825025, 0.2001507450546504, 0.31395125421861847, 0.2746100386382612, 0.3458507236497437, 0.2191179169642008, 0.09976722100406099, 0.0, 0.24417597454185466, 0.14425514426643452, 0.25, 0.23383361459794552, 0.35354337715459594, 0.3572392559648019, 0.0, 0.19264743168470924, 0.1542567930414147, 0.32151676030410886, 0.3336145733343759, 0.3740978924704408, 0.12948920003711492, 0.3430841666561082, 0.32630553697131176, 0.3402677173532065, 0.39749677104186976, 0.33235926661635834, 0.3412096522310775, 0.3855885318313544, 0.3884676001113448, 0.3304418524967837, 0.34206560829881505, 0.4080064023475673, 0.3972777956034493, 0.3664545168443551, 0.29022092624839185, 0.4235023069702477, 0.30493828246953913, 0.3342650469608141, 0.19500803700897348, 0.23235580646262954, 0.23956941859540296, 0.3790088526196347, 0.5710181738996377, 0.41463851378689764, 0.3105671391312629, 0.4857457154173504, 0.29833894589536286, 0.45443751663176774, 0.3404895111612206, 0.43075504011791776, 0.14971337009610777, 0.3299827176548739, 0, 0.2652747658019738, 0.10568939643592343, 0.22566517767242472, 0.28659482810136533, 0.298598389115437, 0.3852245326648204, 0.31910957428924774, 0.3987307980778693, 0.2538362099355979, 0.2686111851756872, 0.11228502757208082, 1, 0.34314300490130034, 0.1496191787333401, 0.0, 0.4872322932359884, 0.38507672339678595, 0.31592775263186, 0.0, 0.2388145240920463, 0.27875861200733787, 0.425760440473266, 1, 0.33312857303873034, 0.2401443005753174, 0.32305027057947644, 0.27244051709321215, 0, 0.2646210969304296, 0.2788888399379753, 0.4720356951027541, 0.3188540285445418, 0.3649689155015695, 0.32537751958869693, 0.36295666958431416, 1, 0.35456779586443066, 0.32776392471753635, 0.24813720500624822, 0.463740674155488, 0.36651440993598644, 0.5402069658426897, 0.625, 0.34816478941487417, 0.2876522231947714, 0.2876522231947714, 0, 0.36080498680557366, 0.2298563878015815, 0.5759379746069024, 0.2649326926640228, 0.2867191005541803, 0.37050637096867545, 0.36295666958431416, 0.46573916739607857, 0.3662006059227063, 0.30590281063530006, 0.4959855565281048, 0.41172949630025996, 0.2942944950430792, 0.4314783347921571, 0.21573916739607854, 0.3382457390335547, 0.3631532568301639, 0.22586848378869062, 0.3612603395695344, 0.31760684979196063, 0.42077000991995095, 0.4596705278975112, 0.35347168269639717, 0.38144128819803397, 0.25237824356504424, 0.09848411249506002, 0.2874008915103345, 0.45741060643882187, 0.36783696855772846, 0.3953876651906447, 0.46909636133761246, 0.3387751236240495, 0.32823650245676095, 0.2373244105588519, 0.3486594563455115, 0.30633370727769665, 0.3758977843133998, 0.32432619779138344, 0.3781697383347335, 0.31181240361349777, 0.45741060643882187, 0.33510164411808746, 0.37258851769496376, 0.40171773101080005, 0.34424455067040155, 0.45502069035778536, 0.2775188630811957, 0.32379523561430906, 0.4623513805267773, 0.39899612989486577, 0.36933165511309424, 0.32032010630335217, 0.28171160577345883, 0.5044807011809476, 0.2790781640890841, 0.44863562014588354, 0.30162397892845855, 0.3384422472019303, 0.37223181931646554, 0.22401125143567632, 0.34218103790197707, 0.393779727270851, 0.2021467020144289, 0.20574647790274267, 0.16805122173579318, 0.16805122173579318, 0.16805122173579318, 0.16805122173579318, 0.16805122173579318, 0.3008507632059469, 0.14139092724079627, 0.36713140839606523, 0.3565171207919607, 0.1518408144062586, 0.15330242982541875, 0.5, 0.2786181834741496, 0.3235631586500714, 0.3008203270264764, 0.25197626679549695, 0.3346292252475772, 0.3395198568775573, 0.35205570085114324, 0.3536323724533802, 0.3353481665066637, 0, 0.31670310461057843, 1, 0.3476218660759105, 0.3630775494802075, 0.5016609872804819, 0.45556712406369454, 1, 0.32053997257149514, 0.3622950842300616, 0.42369516603378204, 0.2297025414991097, 0.40521743259822757, 0.3581168928913845, 0.27661817868783983, 0.18538922307787306, 0.3245395580093847, 0.34118146452960074, 0.2675939948917566, 0.25709124262996164, 0.19841342332659648, 0.4124784790949618, 0.32659835317297764, 0.3877921239113738, 0.32834732131380473, 0.19361456883753148, 0.2139565599895896, 0.23995447741403314, 0.3555552638403007, 1, 0.2874333261470153, 0.2639194508407383, 1, 0.33981125753066854, 0.45406330122266286, 0.31744791001284983, 1, 0.3462669864936066, 0.36875635977378507, 0.4699512975477336, 0.23449171663109514, 0.5151522581520691, 0.36875635977378507, 0.37118925059540725, 0.18100838360726423, 0.3733051164907572, 0.3855777117517282, 0.2158129558876199, 0.2738228893979113, 0.3000618991061297, 0.4129001975567407, 0.2710437877833328, 0.3899801088495346, 0.32509055324180336, 0.2310645927897991, 0.5201656315951473, 0.41131867865698796, 0.21891104508506154, 0.4477815960137932, 0.357305637396236, 0.346489987921743, 0.40198947475626573, 0.4202643212436746, 0, 0.4204371149314448, 0.3501727650910121, 0.37093925364211877, 0.324642945004149, 0.4002215031470488, 0.35875518114574684, 0.18155350706885184, 0.3474471659047905, 0.2718415115783815, 0.31137098094427706, 0.3947243506150626, 0.357237896464418, 0.3677113036586734, 0, 0.31655372410152866, 0.3231765082839972, 0.19364163858050873, 0.39247093511783976, 1, 0.2636214992729536, 0.2692907260962334, 0.29653473214451864, 0.24808167479520876, 0.172277804325775, 0.21615530919455056, 0.08303611408364328, 1, 0.3539171717739571, 0.21047791426720414, 0.23781046553811633, 0.14349567000136065, 0.18875576165855112, 0.2539218865902152, 0.30647159907121535, 0, 0.48203834399478596, 0.39507776791315263, 0.19367278746942682, 0.2444977337075559, 0.22988855174743253, 0.16269070061615226, 0.3550024835697861, 0.31550258522272656, 0.304652675087395, 0.3855244091196928, 0.19994738716485072, 0.2761345361643955, 0, 0.30772955473382935, 0.183334507133182, 0.2853949786902772, 0.4178868323030415, 0.31806809800953434, 0.10622772085203512, 0.0, 0.23010480766135585, 0.22311773377945993, 0.34105019800486264, 0.36087687064987756, 0.28032454021487857, 0.5, 0.04751726502023497, 0.3249299342192932, 0.20386433848760488, 0.12544342415402576, 0.25, 0, 0.24831894081990108, 0.2911134248127389, 0.21785234836075767, 0.2437080333203165, 0.2907622784201954, 0.35483276576328665, 0.398336229404656, 0.31482033438342105, 0.4194614264055959, 0.24208519749444085, 0.38412641711793727, 0.29813047269623577, 0.14432386459410182, 0.3188615409669862, 0.12215994152826065, 0.3579237816938794, 0.08308785720756506, 0.26127643557178776, 0.19993309743498414, 0.3234901391371908, 0.16927571212668857, 0.3321780131171057, 0.16269070061615226, 0.08333333333333333, 0, 0.3672769662170391, 0.3764726792131738, 0.28764489557838757, 0.3569909724149247, 0.40769456475949895, 0.2934245870654664, 0.3142011258103438, 0.3320572923078352, 0.38910165531021385, 0.3731362265079514, 0.4256408693117644, 0.21255499468527353, 0.0, 0.38066934064688124, 0.2530300940105429, 0.26325086632539857, 0.3846133026280208, 0.5095231923485475, 0.4361890288509073, 0.40335953353694926, 0.33553708566399104, 0.38309460959448155, 0.45039127775764126, 0.2876709474730711, 0.3589627944246553, 0, 0.25468714728757, 0.32043015924559126, 0.3426765108450715, 0.30167889112197027, 0.3710165126466909, 0.21890810088381701, 0.39282478202950943, 0.2526514390256294, 0.25, 0, 0.3342341741199362, 0.10405406255032174, 0.30589757295267744, 0.07918543933259918, 0.30194311811456565, 0.09556082602765265, 0.19165483196265712, 0, 0.23275947184361384, 0.31728647711325164, 0.33045956982789193, 0.18692955043137513, 0.34003541635439644, 0.14683448456208564, 0.3163871771502565, 0, 0.20264051685783896, 0.23027904617257536, 0.31851268528866167, 0.14085783181950848, 1, 0.22023407034071973, 0.20510013888384285, 0.26163774170856513, 0.0, 0.2991606145651191, 0.23124982678451705, 0.3333333333333333, 0.15342407135338573, 0.20672302159337913, 0.37659340757417425, 0.4635618561691839, 0.3886418939166021, 0.3050881400399447, 0.3484772193020828, 0.33348461393025347, 0.2871762487095375, 0.2825786026048884, 0.25289628564651206, 0.3686712700643872, 0.1602129039443424, 0.34742033086496993, 0.3780560723530368, 0.3282948601140907, 0.3105721991549296, 0.39198296844640185, 0.3582055811053247, 0.2961692022833435, 0.3291290880351315, 0.4894592863593955, 0.4192289654615469, 0.4478704946494396, 0.6016692038820811, 1, 0.4154915928669961, 0.3652149666137301, 0.25803478137931196, 0.15936441068497198, 0.2974774245325779, 0.0527585471820293, 0.26034596634925505, 0.24841405043160103, 0.4210231949883246, 0.32396676466882557, 0.25223287640304737, 0.27734406686713503, 0.0, 0.2922632485760395, 0.26429130309538534, 0.27848158181159754, 0.23596351133887855, 0.23801381201618796, 0.2626573233533378, 0.19628559270432666, 0.3333333333333333, 0.235043524548704, 0.12823437694494358, 1, 0.20584291400349553, 0.3314683954112089, 0.2277376003420751, 0.28650294260522885, 0.15608108705683094, 0.0, 0.4351800247976627, 0.3333333333333333, 0.20861460017752842, 0.1747859397193153, 0.36610303431129226, 0.20191853427010215, 0.29183964376522914, 0.10336151079668957, 0.24510302426902578, 0.25029992189220784, 0.1875, 0.19153881413195506, 1, 0.0, 0.3470093029832445, 0.48512300312784823, 0.19779304077992702, 0.18713537588825158, 0.13214565154769267, 0.0889367825371969, 0.19465958630403143, 0.32358337737324283, 0.34472949344353865, 1, 0.7822780318784902, 0.4495852970666272, 0.09435433914762274, 0, 0.3499039714300773, 0, 0.2338833731091153, 0.29548033509862476, 0, 0.18124516944632166, 0.1437437468975415, 0.13132879823673774, 0.300535217941519, 0.13300129531405544, 0, 0.1346988381196448, 0.5807248420694062, 0.23359281611868443, 0, 0.16947880596489168, 0, 0.22842784482379108, 0.2804788346645401, 0.2836785705775821, 0.20991143968930653, 0.2714551064683617, 0.3333333333333333, 0.22097042884431514, 0.41328598913500675, 0.3871498947129375, 0.18646166432156452, 0.25, 0.5, 0.3327300898012021, 0.21858108705683094, 0.3466897191984609, 0.03059792022723282, 1, 0.16666666666666666, 0.3356956434752674, 0.24613203514478973, 0.24632764784521077, 0.2539652944233582, 0.20403493802528475, 1, 0.5484427683501529, 0.4249726379176392, 0.3850665328024506, 0.27659592859965776, 0.31276381558164157, 0.13655763775438812, 0, 0.1939500366305678, 0.28259032977404436, 0.36384536856372396, 0.18207070455845417, 0.25778681971424766, 0.36738887762870914, 0.2122955521116446, 0.21173358267478437, 0.31375414221165326, 0.2736162314104779, 0.3416199561461955, 0.0, 0.25036584140165324, 0.19914896460219403, 0.28476226878389765, 0.2682979953827184, 0.32971307142805295, 0.2546466116231499, 0.25, 0, 0.34482816643438957, 0.05315252384509623, 0.14434047422996243, 1, 0.375, 0.18323991229239098, 0.31993326982917836, 0.290049671705655, 0.0, 0, 0.27837269552142485, 0.36835581470413775, 0.056476404217090145, 0.4128044238829726, 0.38313583448310856, 0.2598991852644616, 0.19329479481096368, 0.1677228865601874, 0.21871113627536717, 0.29592530613883494, 0.3378758385724813, 0.05165433303533582, 0.30418340930801796, 0.2515132625700084, 0.27883543303360037, 1, 0.5, 0.2759431863257628, 0.17672532303401497, 0.25810740176216473, 0.2529588652261901, 0.3246332307977154, 0.4957440977453295, 0, 0.23753670907299568, 0.35402732327311626, 0.21251114899847484, 0.0, 0.0, 0.25, 0, 0.2742997894258749, 0.0, 0.0, 0.46441482100106357, 0.2718733116243684, 0.28127787249618713, 0.29144537189924125, 0.2222222222222222, 0, 0.1861332535252561, 0.22082228350280575, 0.2251129560786898, 0, 0, 0.2626589251604665, 0.22990941120270714, 0.19556826855236292, 0.33504740260236343, 0.2665701140928825, 0.13587264471092594, 0.16666666666666666, 0.2051626071934146, 0.0751522744632356, 0.29940020974149967, 0.25, 0.3304611878135019, 0.125, 0.12529096618597949, 0.0, 0.2921810682141809, 0.356474076697573, 0.17285715625846657, 0.19617713641583487, 0.29227022228487737, 0.2539652944233582, 0.29331544094884726, 0, 0.2527212738527728, 0.2753574072972688, 0.2633096606685467, 0.24840587999330732, 0.13776296399675242, 0.3582364240969143, 0.20860787456302993, 0.0572221641303523, 0.12420293999665366, 0.12547336463601613, 0.0, 0.16291839086314877, 0.26084632106603056, 0, 0.09437827199308157, 0.20670034203884372, 0.24785625992490795, 0.24613775721630596, 0.25714861199346256, 0.12215994152826065, 0.2672328293226898, 0.42140791052636006, 0.49500318100997365, 0.0, 0.0, 0.2975336204373124, 0.0, 0.1219379270964348, 0.1443647637846141, 0.3333333333333333, 0.0, 0.27474489537672253, 0.20933041709726433, 0.1397763208270141, 0.4511021227208483, 0.14786130202484335, 0.21237289328247835, 0.2617865208832361, 0.3536603466498273, 0.3116796159805491, 0.10630504769019246, 0.20924792253036498, 0.22590561686836058, 0.24768264730940684, 0.25974723612369793, 0.20044008614297315, 0.19619063807219403, 0.44452256748046876, 0.3928176067092003, 0.18834522321825478, 0.30612380665329525, 0.18976130306635997, 0.13343484964215704, 0.0, 0.5, 0.0, 0.39956280558333074, 0.40241207261665407, 0.30408342244961956, 0.3230757173124698, 0.30973276115039583, 0.25, 0.1900460934534624, 0.08672812460461654, 0.28417075383833634, 0.19750751125564803, 0.28797677548139955, 0.37907736699160144, 0.3039885195457589, 0, 0, 0, 0.23071951744087268, 0.29775494211213366, 0.26933127405277674, 0.2497012372590737, 0.20773846470327942, 0.3104097819039644, 0.256524834682529, 0.14197351672411454, 0.28500164703701936, 0.21020709308336133, 0.33497866537006976, 0.3151042919657533, 0.23330997807309775, 0.44049539460669895, 0.3446322591987373, 0.20594237107088087, 0.419752618589115, 0.20851729098688182, 0.377582421241107, 0.2974903117059466, 0.15525328339522942, 0.27179736490702194, 0.18456977915118747, 0.1857293131972806, 0.20958791105378505, 0.3333333333333333, 0.32663813178052953, 0.38277586142206566, 0.30936478971992026, 0.22240407057850622, 0.2668362653374925, 0, 0.33424478541516345, 0.08724126248576898, 0.21195754823697532, 0.25524884955100985, 0.41614215599567517, 0.373366415184768, 0.3690531451512682, 0.23250457757637263, 1, 0.3067988347655762, 0.3242954908642492, 0.36535889922330556, 0.2310421607420398, 0.22527516460919206, 0.27830614219300925, 0.21711219277989524, 0.0, 0.29724703830495847, 0.2210556922166782, 0.36912125463602613, 0.29149266931963674, 0.28355101985199965, 0.30694332173260575, 0.4316165559231345, 0.17580177052392693, 0.07932161927831291, 0.2546053885647521, 0.19551636462699626, 0.0723375436495809, 0.16876388317442662, 0.2705438326286489, 0.5, 0.27851720231045235, 0.2681775103412533, 0.3754153917085071, 0.12197084477794588, 0.3163247454922526, 0.3790348190474929, 0.4543262173254621, 0.3236674201110908, 0.3490427200998853, 0.1929843765511742, 0.40229247497220266, 0.1982035039720006, 0.0770930287855733, 0.12023799326227458, 0.0, 0.2549396156750166, 0.40594833455321855, 0.3758428059582143, 0.5868066178789854, 0.5488427115093747, 1.0, 0.3323932717027157, 0.4210492955892661, 0.2496153351271613, 0.5063814192358812, 0.3388608895958259, 0.4241688676354183, 0.3341898372594922, 0.3333729092454341, 0.3684154069566008, 0.2082864993833348, 0.26435304410082155, 0.3504273938186546, 0.39421946431093263, 0.4860410275037309, 0.3520475045953468, 0.45861094189928847, 0.34769050643289445, 0.741019171997393, 0.6037348293996881, 0.37235401930334544, 0.5167427110662053, 0.3863771236111055, 0.3120519010763574, 0.405961043718947, 0.41339419268417776, 0.38208645692910675, 0.24758824265999607, 0.5774641196395399, 0.29336766534704356, 0.3710887513877843, 0.4326275533959116, 0.307033633433283, 0.38475813080683985, 0.37661745640109573, 0.42011125507207553, 0.27526890685569383, 0.3661961794593098, 0.3778273707333069, 0.4731825068667675, 0.31493302731864264, 0.35292072104547717, 0.38153257878395713, 0.5, 0.338387238717216, 0.4139608773667439, 0.3293318136085496, 0.3603009831843873, 0.2288886565214092, 0.31950784615381744, 0.4507397704195535, 0.3000781103493561, 0.3461356376983535, 0.3629699288033645, 0.36314919962944303, 0.36591253433383764, 0.36591253433383764, 0.3917865368952422, 0.3566251263805433, 0.4087648387878806, 0.3149261846016436, 0.22651778586720134, 0, 0.3458729406001119, 0.2774940926081077, 0, 0.3984622825011299, 0.24933692582741454, 0.27814758188362515, 0.3195836664912392, 0.41388772922802075, 0.2824232974378856, 0.4300078960369936, 0.446502841085709, 0.1710058793286402, 0.30544868195382685, 0.23618522962539798, 0.25376316631295626, 0.0, 0.31222719608843236, 0.4272271135168562, 0.3051325905722127, 1, 1, 0, 0.5, 0.4542906406475976, 0.33302550107662154, 0.3217462874756787, 0.30472716983910114, 0.25511217380520984, 0.24768211978642232, 0.2902553480283798, 0.267053062001629, 0.4193434751963509, 0.3187587757982734, 0.3122876630528105, 0.2030082317189006, 0.1602983581796959, 0.4223300588911953, 0.36691175944660737, 0.27994791676204633, 0.36925129050147915, 0.38967284221744647, 0.27640956928353144, 0.22894211256675964, 0.4389350076387567, 0.4427335117395961, 0.31907428165582, 0.2927883707612351, 0.34677178619670074, 0.3854670234791921, 0.42142176593877273, 0.3250916863299476, 0.3152358682655556, 0.46855704790995284, 0.5480814579923599, 0.33917906603050213, 0.33590171598746776, 0.35779671353057313, 0.35365711257257426, 0.35111112590489674, 0.41737867924851874, 0.3626699640801762, 0.25064894935465803, 0.36937788287217027, 0.18879464177343008, 0, 0.3105620674313559, 0.3679560978317249, 0.3105620674313559, 0.15528103371567795, 0.4388999955377845, 0.24635829748686366, 0.28673609800637684, 0.39415624371296976, 0.32583193653064346, 0.3166276038857033, 0.3681389121660047, 0, 0.4739269459605142, 0.3893340984832973, 0.30973583816662287, 0.40733977479196304, 0.39243210371298315, 0.41030230569310117, 0.19497524245749218, 0.35435213874251154, 0.4596931421363299, 0.25827485269609235, 1, 0.3333333333333333, 0.34574238757288883, 0.27532990980729394, 0.34775010855523986, 0.32345702501592566, 0.18323991229239098, 0.22730444158016205, 0.5193919785690332, 0.3674829643712436, 0.3800740268499447, 0.40639076277161645, 0.3274671947882208, 0.3722750532709512, 1.0, 0.3781058026781573, 0.5699572697737209, 0.28093339675207607, 0.2595295830382815, 1, 0.44098495871736243, 0.6210209998169548, 0.40227054855743544, 0.5461711676802565, 0.4334972381730582, 0.3890631211751529, 0.359578556170822, 0.6237575393300258, 0, 0.23281961617585553, 0, 0.34411388920068275, 0.24529830880537365, 0.3798984185792751, 0.46767786395683664, 0.23358090404004125, 0.19335449394202664, 0.397390934870031, 0.25658657192339995, 0.42033365191284583, 0.38024706113679657, 1.0, 0.20853396194547064, 0.3361055207974734, 0.2508719049296043, 0.27369775631071724, 0.3146104147171286, 0.2520266634175382, 0.21390917575597887, 0.35505681671519806, 0.05555555555555555, 0.22153773761607268, 0.21833736676851853, 0.21343443875427237, 0.22169661821600417, 0.4239577705414561, 0.3891789191100817, 0.24625715708615115, 0.32011595138346405, 0.13170251866827104, 0.22303629481883558, 0.24103442244688722, 0.31515858334881486, 0.2668696992843141, 0.2276533008503708, 0.40030454892647116, 0.3370164680261101, 0.29995538043256265, 0.37152564507683444, 0.3356568684532237, 0.4675404718159881, 0.27764510871434733, 0.2151605680924671, 0.2563227161367818, 0.29148228580470426, 0, 0.32747739266864856, 0.1858287085582439, 0.3026256012364151, 0.31715112113569227, 0.267807521444796, 1, 0.3371943044864965, 0.2916271360312067, 0.3888361813749423, 0.3888361813749423, 0.38658956588713084, 0.4576445426978568, 0.36007313115224737, 0.35800154252980576, 0.3500970487254897, 0.4208462889383143, 0.29623800942663997, 0.38060272941591045, 0.1847228972083162, 1, 0.3524341614762927, 0.4239369293351472, 0.4033921567501923, 0.2951935509092471, 0.32936089914063327, 0.39232111750954707, 0.4490289572104071, 0.335530503329607, 0.34082447324963194, 0.38105027787820606, 0.23001344587917244, 0.30527897291484474, 0.2841517462411402, 0.20865823795559058, 0.26712035676692875, 0.2686612866938286, 0.3734678428403323, 0.41447336649931965, 0.455493274861594, 0.21737942987617886, 0.25859708628817474, 0.30080064297858383, 0.20131167441129957, 0.33842059440269545, 0.3914535251844027, 0, 0.21870594269005195, 0.34828915224474405, 0.3161578227167325, 0.5605650059533516, 0.4777680323938677, 0.5364195505082661, 0.25, 0.6857196890976046, 0.4859580295600584, 0.5427784443809694, 0.4040295158439244, 0.5085135014073199, 0.6436715861048619, 0.19383211824023347, 0.5646107060800779, 1, 1.0, 0, 1.0, 0.33223975935414674, 0.5364225344740783, 0.4577025547741506, 0.7431183963698134, 0.5, 0.5135522699160034, 0.28332289969914376, 0.5021773639868103, 0.4974930467254874, 1, 0.5745905190700585, 0.4489239287322336, 0.2675360801275487, 0.34352083871524947, 0.24874369770266244, 0.30455762335269604, 0, 0.3809479416350373, 0.28367551980591205, 0.3462335574051881, 0.1876300823212549, 0.2618958832700747, 0.3625759399335727, 0.28466477493533426, 0.22068703708199128, 0.11461362291197323, 0.270696211480996, 0.25605096538589184, 0.1818230801530033, 0.2669976577336061, 0.24105800080680787, 0.47303190873045536, 1, 0.31032726704677577, 0.29545233748518007, 0.16174680421571716, 0.2752791801506492, 0.2805476480544911, 0.2770567699635555, 0.2680597073666255, 0.3009937082154285, 0.27460142435508345, 0.2860659975602922, 0.3264903626214998, 0.2284374890824622, 0.23401736923341968, 0.379469272532604, 0.22062751774945566, 0.1936296527964086, 0.24136971593873782, 0.304979072173557, 0.32988987305998346, 0.3039728276856263, 0.7417074027658301, 0.5122850262310754, 0.3863224675447313, 0.75, 0.4585370138291506, 0.5738901801924026, 0.4441431485656887, 0.2846442077855207, 0.4887866622729935, 0.2718182937983763, 0.3501907955607853, 0.5173221038927603, 0.31349944543099373, 0.35353253168043647, 0.25176545804945677, 0.18976280519034713, 0.24055619257481714, 0.21865926590058649, 0.18976280519034713, 0.3283792488014719, 0.11159889964664876, 0.2697058979077287, 0.2852985408098468, 0.16739834946997315, 0.34014042165140945, 0.3674060875501616, 0.2820507301472225, 0.3043159639798312, 0.3025731697193762, 0.467529809193776, 0.38823882794360276, 0.19311911927746772, 0.3172814075160569, 0.3041875207051574, 0.35551966117012995, 0.501518324451094, 0.32806793307743687, 0.38023807422377165, 0.25308923828828056, 0.33498552566217965, 0.35865043642630745, 0.30807256363869756, 0.26566315754448583, 0, 0.3456981126645131, 0.34288691392242554, 0.3524009725343388, 0.28502666676262667, 0.3125319671043379, 0.33635931200913594, 0.23987058799714497, 0.3093302035558413, 0.3509841681081203, 0.3378292427580626, 0.2991195493019348, 0.3365113916693388, 0.3066440874884339, 0.297325036200873, 0.4050666356840244, 0.25788705289420005, 0, 0.75, 1.0, 0.35108266425529355, 0.3518833338407797, 0.29053209752839837, 0.2948320697293099, 0.40597864808684136, 0.16430435029124082, 0.3304045823130999, 0.5504756487130089, 1, 0.2802092482227008, 0.623068878608153, 1.0, 0.33462665022514354, 0.3472524654178651, 0.16502330985454355, 0.41311058243852833, 0.14838586710107315, 0.32639175607794807, 0.3398797719428197, 0.2918140152036981, 0.3426562336236933, 0.1853124672473866, 0.1853124672473866, 0.2284374890824622, 0.39692282605191387, 0.3122880509402771, 0.47013285138303323, 0.37262091343180154, 0.46549107668948303, 0.2805280960900776, 0.3257981197172774, 0.355348450226053, 0.27918177697948965, 1, 0.3332491819429377, 0.45626122808978403, 0, 0.34959839118328756, 0.3337960441814198, 0.37486753402630263, 0.3962676195460517, 0, 0.4090819328266773, 0.4015400075045598, 0.40829628318616684, 0.4328235447234771, 0.21402868603528874, 0.3648572542363931, 0.34548414436287267, 0.34102791631884577, 0.410986549723188, 0.37487844868473325, 0.36647982458478195, 0.3663404666297853, 0.5999065789590576, 0.3423416061893113, 0.3332777502287074, 0.3876285849590898, 0.35955673669236315, 0.3898860741366118, 0.433239912292391, 0.43234799930883494, 0.36240564209911286, 1, 0.36647982458478195, 0.433239912292391, 0.40448581896619107, 0.39631931746395366, 1, 0.36647982458478195, 0.36647982458478195, 0, 0.3879953047945593, 0.3715685786597718, 0.45530715951655426, 0.15966874984619095, 0.4654964939206531, 0, 0.5125827063642202, 0.33900793169459925, 0.1741465691392383, 0.21080528523676556, 0.3762929480595469, 0.36647982458478195, 0.3501969679595052, 0.26583324059850627, 0.3760938798395402, 0.1961776934617394, 0.3561111060788354, 0.34468959643120334, 0.2697228066060087, 0.13574530029810442, 0.4707385075061257, 0.18323991229239098, 0.3282826846665241, 0.39642004778989487, 0.24438294628371535, 0.37478419819409836, 0.36647982458478195, 0.45530715951655426, 0.43802804250829, 0.44098862379704984, 0.683239912292391, 0.29689318406070025, 0, 0.1993007581083561, 0.4191465335768166, 0.5001154669569071, 0, 0, 0.3450147329446999, 0.45438426516998875, 0.39243219601071977, 0.33759973613316857, 0.4197405931101713, 0.1826662184798087, 0, 0.2705818371094436, 0.32969691500097914, 0.29083699314802025, 0.27233957156896976, 0.30909467324212075, 0.38261079862553143, 0.3631392220993804, 0.28882660819492734, 0.3104720736032759, 0.32272966944740566, 0.42567092873754814, 0.35120882092399947, 0.42396655643394593, 0.3328907437984825, 0.43209076383398903, 0, 0.3907086697995489, 0.433239912292391, 0.3121831696397481, 0.3637247958561924, 0.37821515474988315, 0.455493274861594, 0, 0.23210415532935383, 0, 0.5, 0.2712298463657379, 0.3682783426033136, 0.33921006397994397, 0.3951090961435929, 0.4165856324564888, 0, 0, 0.3721766526343031, 0.30263995659073156, 0.2977710427718084, 0.18323991229239098, 0.36647982458478195, 0.4282009551638657, 0.2633441484817773, 0.36647982458478195, 0.41733616976358373, 0.29619272072657127, 0.39193316966181513, 0.37097824693029596, 0.42555035747684683, 0.455493274861594, 0.385072358059288, 0.3328907437984825, 0.410986549723188, 0, 0.33009924480745195, 0.31708129167047044, 0.5110488304171495, 0.47350022461329133, 0, 0.3812475588925512, 0.3656685394105875, 0.433239912292391, 0.4073776654625453, 0.3278632156691722, 0.0, 0.3721702139686474, 0.4040740707192236, 0, 0.5, 0.35849350717600487, 0.36647982458478195, 0.3359873222973823, 0.3562174688263181, 0, 0.38163124878937443, 0.3996104178050141, 0.36647982458478195, 0.2884597571435566, 0, 0.36647982458478195, 0.5637580257930556, 0.3329400171631408, 1, 0.36647982458478195, 0.38013812016187976, 0.4926113097020062, 0.39203496929194154, 0.683239912292391, 0.2166199561461955, 0.18323991229239098, 0.2906638055463713, 0.2475916699622291, 0.3812795064963886, 0.3228408183375228, 0.24492168469407702, 1, 0.10830997807309775, 0, 0.3370462575288328, 0.5, 0.3202981765155209, 0.3247228697142069, 0, 1, 0.2964670360700622, 0.4820280105160999, 0.36647982458478195, 0.3328907437984825, 0.4189064139723507, 0.36647982458478195, 0.3082872097127865, 0.37751461770624933, 0.410986549723188, 0.30913673265345476, 0, 0.1531097417202052, 0.24474277860009164, 0.33821216738079285, 0.36647982458478195, 0.19925297031383393, 0.4301863305181276, 0.315971463053543, 0.36647982458478195, 0.36647982458478195, 0.28882660819492734, 0.611764747024701, 0.433239912292391, 0.3183361492379179, 0.29144537189924125, 0.24887264824888722, 0.4069230108221464, 0.2774253738627451, 0.433239912292391, 0.36647982458478195, 1, 0.14308068464706936, 0.4167858530270787, 0.3912017009089002, 0.433239912292391, 0.36647982458478195, 0.3733089723733308, 0.2568531441146526, 0.683239912292391, 0.34615830315553975, 0.36647982458478195, 0.36647982458478195, 0.3457008653084787, 0.34529417123783207, 0.32238354203904485, 0.3515289254691554, 0.4408418842243001, 0.5, 0.22970293523079643, 0.4666199561461955, 0, 0.5668802298176824, 0.23768180656339877, 0.34732086607774393, 0.39860387939777714, 0.39376456008702404, 0.20711558808448835, 0.2387053023151411, 0.42333420643352926, 0.36856917149958635, 1, 0.33563062254888937, 0.349562308385736, 0.6534100400681042, 0.2410660149763817, 0.34537350292909585, 0.3590703117836239, 0.12194645931598495, 0.281914129190963, 0.3451685083830872, 0.28355589327943975, 0.25983738191058275, 0.19411941397180138, 0.14362148223838, 0.0, 0.39674015832367204, 0.3616038100061129, 0.38880888449230344, 0.39223913142308203, 0.29955402502570466, 0.15504711870855273, 0.06793632235546297, 0.30614590379610823, 0.3205568075439525, 0.3054948200099827, 0.40487206336917453, 0.13552980756927258, 0.0992064829755477, 0.37746937752760756, 0.2589233734039954, 0, 0.27076821526358313, 0.195234122523193, 0.368156331923604, 0.525690292420948, 0.37398201903075967, 0.14722882260629505, 0.2717232403100834, 0.34518022198382736, 0.3147014371322683, 0.24459266352838935, 0.25668065782219474, 0.23424931745606872, 0.19669611313195845, 0.24583282734990913, 0.2553475433893709, 0.40273934251749377, 0.21104959062573067, 0.21722151599177417, 0.0, 0.21412100573486845, 0.2698440414783174, 0.2604500929245512, 0.21587086781410467, 0.0, 0.29772056343706066, 0.436489475969145, 0.3701010261165311, 0.4827871973562498, 0, 0.30924417319959024, 0.42325009859853896, 0.5691784254225344, 0.19411699441467134, 0.3335766497093284, 0.24890878435372937, 0.3838529643291424, 0.2944576452125901, 0.30730020968815125, 0.4902294141923426, 0.2560832825157098, 1, 0.37027300707583477, 0.33774985820830233, 0.38980089637623805, 1, 1, 1, 0.28965617035333985, 0.46248952548355077, 0.35601787474545143, 0.5321088872973398, 0.43858504724774683, 0.3038791135587729, 0.2816398748513171, 0.38013812016187976, 0.37638957190669897, 0.45670034203884374, 0.25579572417488367, 0.29003367537217706, 1, 0.3757340171659828, 0.29863262290688325, 0.32007307400530527, 0.3701010261165311, 0.35966923487016084, 0.25316832741288964, 0.45670034203884374, 0.2599189240511372, 0.19046711429269764, 0.18505051305826556, 0.4221131523390943, 0.45604582808811844, 1, 0.3701010261165311, 0.3467466980197283, 0.19424936813899554, 0.310432288856999, 1, 0.26411446205651173, 0.5424636085862599, 0.2650075343059472, 0.29003367537217706, 0.4087063002873275, 0.3723224315748374, 0.22846907951078102, 0.5011535459905736, 0, 0.3425252565291328, 1, 0.2995699848170522, 0.509458889220873, 0.3751195731392054, 0.18161848935426134, 0.1476989426848655, 0.3797495108809833, 0.3630833858307588, 0.24100863260200672, 0.38980089637623805, 0, 0.5440799320160419, 0.6805555555555556, 0.3105835789062854, 0.44556485515146377, 0.37762959240112787, 0.19298637377179126, 0.4675252565291328, 0.3178064131462081, 0.3126270664931434, 0.3518020574748494, 0.4382130670077359, 0.28157236263101304, 0.5, 0.3365348861438247, 0.3253423300602987, 0.2643514604209257, 0.29441043425776164, 0.30750943479924076, 0.29441043425776164, 0.329465721838851, 0.31722175250511087, 0.37472871711650313, 0.31722175250511087, 0.4185138963473234, 0.38106018788488727, 0.35064576562731986, 0.3084951984013804, 0.3188015683582652, 0.2740623027348161, 0.3519195155516348, 0.2621013799066096, 0.2741836589649975, 0.2741836589649975, 0.18408100888354312, 0.28570160087321306, 0.3796844324825999, 0.32461038316932883, 0.38598993822257616, 0.4713950623954591, 1, 0.2639398348694496, 0.33381026971861116, 0.24922006561052779, 0.2425683618306483, 0.2639398348694496, 0.3207230172852678, 0.4067537013953889, 0.1319699174347248, 0.2639398348694496, 0.35468035817583105, 0.3504327137673224, 0.3580194142230901, 0.234500296351606, 0.31443914181410765, 0.2639398348694496, 0.3819699174347248, 0.2639398348694496, 0.2639398348694496, 0.27353732542434717, 0.27648080669739206, 0.27435105182667363, 0.2569699174347248, 0.3819699174347248, 0.21840551432794703, 0.37318396016536254, 0.36510009860110504, 0.27987490647127367, 0.2639398348694496, 0.23275518232470047, 0.47711272811314087, 0.3819699174347248, 0.2639398348694496, 0.2639398348694496, 0.29590310243338164, 0.2639398348694496, 0.2639398348694496, 0.3047072901705317, 0.2639398348694496, 0.299301663012183, 0.32778571585248945, 0.6582867192820026, 0.29685954493406075, 0.1988195607315305, 0.5179073705740709, 0.6997791893118119, 0.375, 0.2575953550962799, 0.5595513271108853, 0.3634652162638311, 0.4908736185687789, 0.5997894222731996, 0.22694314372835506, 0.0, 0.18871962586365898, 0.5, 0.3333333333333333, 0.25, 0.16350103358402937, 0.2853582321351626, 0.2079622850880448, 0.2079622850880448, 0.3347396849207682, 0.3181816974451657, 0.38333339234260233, 0.18611351320274103, 0.3256444876898584, 0.2763090850533261, 0.3590017901087856, 0.31960220681528834, 0.5, 0, 0.0, 0.3033562033378502, 0.3072885557060156, 0.2668127828468729, 0.5, 0.125, 0.3021745289421852, 0.40163617081179026, 0.4378281683757327, 0.3766043662996581, 0.35038099046044785, 0.4909602379019687, 0.33785480619714825, 0.31537823670406295, 0.41491141975048285, 0.3847031308348307, 0.3847031308348307, 0.45690249844242004, 0.3461757827087077, 0.28384032479153953, 0.2576985847418698, 0.20525278914545675, 0.37176456463322377, 0.4753954672767362, 0.4534043339952966, 0.35411381230548966, 0.43962040578480827, 0.38536201713931034, 0.40588643967353033, 0.46500345521117503, 0.2849364728229446, 0.29742195211935996, 0.0847917054290287, 0.39503389712942866, 0.20026828049127676, 0.12566552360798025, 0.06636704886928455, 0.2222747993723018, 0.1818325704860523, 0.5, 0.5, 0.49716879101849176, 0.34665465827260594, 0.44451132563758644, 0, 0.14118533015296708, 0.15815874908637909, 0.07355786615004752, 0.41144968413881233, 0.225325406555146, 0.0, 0.13287578360983138, 0.29801519980711605, 0.21845352001729634, 0.32196273627028116, 0.19456155355457724, 0.4323930180761952, 0.38661507640976606, 0.3766794934164057, 0.2787521761443077, 0.28936096772018227, 0.43296564317887015, 0.3428935681892576, 0.3275947503296799, 0.3626213728490798, 0.251190316981495, 0.24955919570335958, 0.24222798491014014, 0.2679498811329304, 0.3051899410365273, 0.356304443196617, 0.437566337649454, 0.1694256909282282, 0.38327707278468454, 0.3361551648635949, 0.38271261525272215, 0.45328870623517675, 0.44479561813772867, 0.4483694751281961, 0.38327707278468454, 0.4520120284326626, 0.28807634861126097, 0.41272174719036897, 0.3668969020940936, 0.38327707278468454, 0.32229432135023167, 0.38327707278468454, 0.41420291309313867, 0.20869325736942418, 0.4347249969477219, 0.2537777150459071, 0.3933183031608169, 0.3489680528167465, 0.29295879482126175, 0.5, 0.2893937855262031, 0.3922441256274592, 0.19456904320278584, 0.5060299091002048, 1.0, 0.6206332306439584, 1.0, 1.0, 0.4900584361383671, 0.4983976962006064, 0.4453512808634831, 0.4595145973432481, 0.2940507577537753, 0.45790335301352386, 0.7202776017354576, 1.0, 0.2744326623655733, 0.4832493408363175, 0.3182770710641838, 0.3279489139050012, 0, 0.5031263985389465, 0.5093132024566502, 0.24910834225092984, 0.4782920977898879, 0.4656311867923577, 0.48877738884074795, 0.2497020601337328, 0.4011881971784601, 0.2507650377473702, 0.3626419196259031, 0.0, 0.16087759592432008, 0.23509003632362155, 0.5149648260254024, 0.5, 0.4365714789259282, 0.3651230964614536, 0.22800274480990512, 0.44838317627346697, 0.25897534583971243, 0.3623207208251798, 0.3183515832398461, 0.3263237031063946, 0.3188998813762936, 0.45446841344575506, 0.4063028441969207, 0.15507252304880215, 0.2615627311011654, 0.0, 0.5110200334537464, 0.4020910781375761, 0.25, 0.431409187830664, 0.3476045694852537, 0.3542840295376372, 0.2500198075194538, 1, 0.09364643359870119, 0.370757024468141, 0.3477128638262505, 0.2605254888227252, 0.3540642406096326, 0.07495048374764086, 0.3836799923866729, 0.40716955919168, 0.23633656438850392, 0.26776842356423786, 0.2666006449968545, 0.31396783737756095, 0.28301290903800363, 0.10553444133251076, 0.16896048142070058, 0.30830858791369853, 0.33243980172182347, 0.5, 0.0, 0.0, 0.2806546776339968, 0.17287119378644442, 0, 0.15994804578164099, 0.1710984389916077, 0.13442099885196568, 0.2848098020065081, 0.25, 0.38394570541551115, 0.19770651033553752, 0.2950227434389456, 0.3693102445347408, 0.47410283700843775, 0.3429921190337243, 0.3945795153907049, 0, 0.14701792950225226, 0.25037719902289673, 0.25, 0.3304266110349765, 0.0, 0.41290468301920036, 0.23421350561927964, 0.2531022635598889, 0.14485953619847577, 0.3933922262639169, 0.22098173143049582, 0.2673141737806755, 0.3090676350325073, 0.2335732708470996, 0.26722849456252074, 0.18025947236554302, 0, 0.37334438748190335, 0.25106613169603964, 0.3359240589039645, 0.29612328369920526, 0.2706551473208966, 0.31760870777439215, 0.21566608027085465, 0.0, 0.0, 0.0, 0.37665733273476165, 0.30003510683198414, 0.37138644075056276, 0.3426110041276147, 0.25, 0.3268676742530294, 0.09478052709268421, 0.031077932275730913, 0.3601276573627135, 1, 0.5, 0.16666666666666666, 0.23508309209783593, 0.2297350211616266, 0.37928545946470615, 0.2223176054194838, 0.15290345940629338, 0.2715118105104906, 0.14377420253568352, 0.20580349642743656, 0.1496508315060915, 0.34598102078106824, 0.1692643115644859, 0.2898254860980092, 0.4671081361686951, 0.3053041719434476, 0.26519402102978595, 0.3769755986934751, 0.25, 0.2939214850408494, 0.24483057221036506, 0.18182910493965293, 0.21591455246982647, 0.3273130382482105, 0.13849071160343832, 0.23805862676603376, 0.2894728400508132, 0.20452415158072976, 0.19982541575304574, 0.19631927778850758, 0.3921906976092576, 0.20638705723464099, 0.19006906008093988, 0.2071355155343471, 0.25, 0.2627729508147686, 0.16342333167637005, 0.2664338876707277, 0.2922191109115872, 0.24039101618635356, 0.24506180646690448, 0.0, 0.3389459537264943, 0.41805589791384473, 0.0, 0.28501259139313007, 0.1496508315060915, 0.22069474462293084, 0.24575473534716788, 0.10337313405795519, 0.2650316870488059, 0.20070629529384046, 0.28013154190888434, 0.3170744988456796, 0.2701131807237026, 0.26544733885286753, 0.3187074849187128, 0.29732234874361363, 0.0, 0.0, 0.22818110021021248, 0.1945495987446036, 0.22751034517889268, 0.0, 0.0, 0.463132119141138, 0.24822070993776726, 0.25291240198157366, 0.2252339578412302, 0.3274239322120731, 0.0, 0.23538675150637878, 0.2552816209374446, 0.21582701937954227, 0.21752066275780133, 0.3323895075898536, 0.21195754823697532, 0.23072092447364448, 0.20356066510314563, 0.14790498903654886, 0.0, 0.0, 0.2173274681490519, 0.28851028853286903, 0.0, 0.250502932030529, 0.12098457533357035, 0.25, 0.46503020580179333, 0.0, 0.05517368615573271, 0.23533483640300495, 0.2613621723491242, 0.2985097560589798, 0.2673764391523489, 0.39081712392383716, 0.22400584868309203, 0.21492860245835188, 0.3492584306715259, 0.33071337818773366, 0.03318352443464227, 0.281899370888171, 0.016591762217321136, 0.2602345544660192, 0.26873530809623375, 0.09179376068169846, 0.25, 0.31056558045491317, 0.0, 0.24366243488567366, 0.2540348190474929, 0.39421044230391405, 0.3629357566059272, 0.3565370252751064, 0.407571933776472, 0.36360485688948185, 0.33655389010937214, 0.44647097792376506, 0.3746757050641393, 0.07088261024049262, 0.5465341102500588, 0.35417447584061396, 0.14289692872582857, 0.45670608819239417, 0.2835304409619705, 0.1589681611777315, 0.45098921359606164, 0.45207016943330863, 0, 0.09990418542077571, 0.07731791317742617, 0.19540856196191858, 0.12973975276430605, 0.06513618732063953, 0.28868094845992487, 0.39452917378779895, 0.0, 0.23973561030052482, 0.3819741359096342, 0.40428850543690104, 0.25, 0.25, 0.06132457720134341, 0.3939883877406998, 0.16884187447066815, 0.2411174229302433, 0.5, 0.18700056138869864, 0.20010811348564292, 0.38840525702337264, 0.23843725182928618, 0.19975312029800316, 0.18649770775834712, 0.1969857057245419, 0.0, 0.22518135338608516, 0.28882660819492734, 0.24628186655557505, 0.2382462081478459, 0.33249579846789235, 0.0, 0.021712062440213176, 0.15783029785284503, 0.5, 0.11799738828203214, 0.5, 0.0, 0.0, 0.0, 0.24786875607162948, 0.3486477230737683, 0.26369958802406335, 0.5, 0.06793632235546297, 0.14116820100294555, 0.0, 0.0, 0.25, 0.0, 0.0, 0.0, 0.0, 0.0, 0.0, 0.0, 0.17008102779382364, 0.14924217594388947, 0.19536471015649004, 0.18787830765029256, 0.516715430785678, 0.43167408241349065, 0.5738901801924026, 0.4527505573215666, 0.4371022353277809, 0.5964770848782212, 0.5462406523117488, 0.4109085738759593, 0.4749523343308541, 0.309091546311337, 1, 0.4520606045528049, 0.0, 0, 0.11375517258944634, 0, 0.25, 0.28379564371366406, 0.2405491143125098, 0.16666666666666666, 1, 0.34963843900266334, 0.5685313349328344, 0.3739429402973789, 0.5351660787192878, 0.3130692463264185, 0.5624408096475996, 0.2803632609725956, 0.3769312527732273, 0.4411640057883863, 0.28782364429721985, 0.25056709638494046, 0.2675958799653921, 0.3702600219217498, 0.30051684859734923, 0.4524986440819587, 0.3332634257017107, 0.14398838774069977, 0.40390799982980186, 0.4384226036193172, 0.26117911375618713, 0.3335270712365005, 0, 0.18999642478667014, 0.30234950774106206, 0.19127225812737741, 0.3252615119068962, 0.31366637420755455, 0.09599225849379985, 0.24370349511609746, 0.2544347096448353, 0.14398838774069977, 0.2752305700475001, 0.40513742758941895, 0.22479205548477493, 0.3404128547344715, 0.24065336439134483, 0.28797677548139955, 0.34599225849379983, 0.21821526324925453, 0.28797677548139955, 0.30787035009946795, 0.28826338346698543, 0.2636961571893045, 0.31234153212224375, 0.24609182325341308, 0.2751271337441015, 0.1604889812090651, 0.6875, 0, 0.2869352162935684, 0.36456366899782333, 0.5845793123220184, 0.329734013630347, 0.242995317861297, 0.2682515483484368, 0.36456366899782333, 0, 0.16570380633892842, 0.1411685828006991, 0.32271948229098335, 0.22972123763281535, 0.10292145700174776, 0.5220215545285265, 0.37998689758421256, 0.3429140940937067, 0, 0.06861430466783185, 0.5, 0.20681681118343462, 0.10292145700174776, 0.2333012702722756, 0.18579725668874517, 0.31163149788594663, 0, 0, 0.2919698948909881, 0.1993522289720565, 0.26286851974195663, 0.07913782077304395, 0.4800127240398947, 0.0527585471820293, 0, 0.0825050262200172, 0, 0.24383926666822395, 0.19978016880419638, 0.2127619302159658, 0.25, 0.2770790932954144, 0.0, 0.12754749055505119, 0.2253957483339036, 0.0, 0.28193419507593687, 0.28689001433744926, 0.4597205908245279, 0.3800827378017989, 0.30050366162424524, 0.20119609538660282, 0.0, 0.0, 0.27426010626163416, 0.15917011505963088, 0.1656037908541758, 0.32875299706654904, 0, 0.34242390534220424, 0.4127778893023965, 0.30514275552521297, 0.5659666721542284, 0.32662471855209085, 0.4055962893089568, 0.34765386798657866, 0.4142058814929934, 0.3584118077241871, 0.2695056592701581, 0.35727187932377347, 0, 0.3284117629859869, 0.23529371350453152, 0.28824396925491746, 0.3164231353568852, 0.36060307455177265, 0.32684581288323133, 0.2768211890088057, 0.17783919902999074, 0.20707937549949343, 0, 0.4922744169736027, 0.22851787401620893, 0.19746355881799585, 0.3209461343881664, 0.2839745245343159, 0.22627380980293954, 0.5828331818451068, 0.2875243097513355, 0.3796511219276602, 0.1803774999844549, 0.35814366069693604, 0.3212068368513739, 0.20024863261909243, 0.20950373034508535, 0.2807273766413652, 0.39156740798962236, 0.2892237072189667, 0, 0.12138410442085111, 0.27244972164439907, 0.11563954317835994, 1, 0.36218429129246793, 0.3069313404387904, 0.36563954317835995, 0.42256720694359934, 0.3401576114608269, 0.3738107428066916, 0.15546241474005915, 0.05610272008534007, 0.07480362678045342, 1.0, 0.34414906634079034, 0.75, 0.4809519730490983, 0.25, 0.524824558088277, 0.4648389514699091, 0.5492262425213503, 0.4007567420197584, 0.536249943919174, 0.6657402874813015, 0.5270892642572388, 0.6697689302265555, 0.5814029889765803, 0.599767221004061, 0.3585608921195453, 0.3519143206741169, 0.3828582133589287, 0.3462066020252549, 0.30199329134751757, 0.4373633690979781, 0.2386151731095733, 0.15783029785284503, 0.2664338876707277, 0, 0.28373627364133314, 0.19556231402176982, 0.4244068701181325, 0.3229432137788992, 0.35021094476135484, 0.42558887339202, 0.31333636532018916, 0.31970529697275235, 0.23023180601890872, 0.19928289809357147, 0.43177715029167757, 0.41460751954680836, 0.43163202180532323, 0.45030925662589344, 0.1860082834262249, 0.34361049099242935, 0.26169254608121045, 0.3289883412330611, 0.2773509590087537, 0.41139015939245127, 0.32278031878490254, 0.32278031878490254, 0.34339198473638066, 0.5, 0.2427261492531827, 0.468252472329264, 0.29229551527746633, 0.44813380977302586, 0.0, 0.32567111363837237, 0.27777777777777773, 0.5, 0.30655575813917474, 0.08333333333333333, 0.18472227113054926, 0.32434303691306743, 0.6337217948371477, 0.15447686847877326, 0.30592039461085313, 0.2900304364174212, 0.32602762403237595, 0.1657402874813016, 0.1523263375436975, 0.10835805277217903, 0.32478140279166534, 0.3725234749731017, 0.39653025339308723, 0.37350498574406066, 0.3902027743200914, 0.39956280558333074, 0.32832702410664616, 0.4498258423270648, 0.4328235447234771, 0.20675035112606835, 0.21020709308336133, 0.31202599887569854, 0.347696577800381, 0.1496508315060915, 0.2659977304097827, 0.30900861301654936, 0.3333333333333333, 0.3098972309794119, 0.29059164744930177, 0.11494427587371626, 0.19435113954750824, 0.1530946202637924, 0.2521350005864465, 0.17274207218143633, 0.0, 0.3412360298590218, 0.4617026987958393, 0.3500572230671284, 0.40263953940657654, 0.346462593656915, 0, 0.4442668498890592, 0.3648572542363931, 0.28828575141213103, 0.3125612489820383, 0.4248754102826144, 0.40934503255260474, 0.43841365138183896, 0.39247053367406937, 0.5084898276957478, 0.6824286271181965, 0.31926051701825237, 0, 0.33543573149507505, 0.45855849859327136, 0.4334322110887161, 0.5192144841428391, 0.30581742058900735, 0.07712839652070735, 0.0, 0.2959602161494474, 0.33834854590522345, 0.34548414436287267, 0.32095890774527375, 0.42274207218143633, 0.2962614943188865, 0.2299945964963579, 0.23831153447321207, 0.34548414436287267, 0.3223929036875278, 0.41560514393348935, 0.5129560298673608, 0.36993651841813424, 0.38531873932204946, 0.4076866218507953, 0.3678617808475714, 0.1749489584154595, 0.14639515236374992, 0.5, 0.2913093004958216, 0.4255275587432411, 0.3469319509776221, 0.5267967079297684, 0.3557177984466111, 0.45833443474062713, 0.0, 0.2992874240917694, 1, 0.2314810871775206, 0.1496508315060915, 0.07216193229705091, 0.1504212870694991, 0.1811052531208841, 0.39788421288728254, 0.3570813254010578, 0.23330997807309775, 0.10065583720564979, 0.2785586725827064, 0.23124276163346355, 0.4733338028532728, 0.29909694129585757, 0.20686409199951009, 0.0, 0.0, 1, 0.3333333333333333, 0, 0.1582756415460879, 0.4116000071878132, 0.5010550798702147, 0.6841779073520688, 1.0, 0.5017405499636861, 0.30999929221352446, 0.43179781702206277, 0.3613384955143809, 0.5674655599299188, 0.36978759002968964, 0.664568910386522, 0.5, 0.3089537369575465, 0.41429953599288655, 0.4044768684787733, 0.26068019308546014, 0.5, 1, 0.75, 0.5833333333333334, 0.25940854398914726, 0.20930538198584026, 0.22019046486553134, 0.36526634135517566, 0.3513091462444217, 0.4530794884274361, 0.3846260253596068, 0.2541022920312802, 0.1768410993364383, 0.3301626336756944, 0, 0.6133404253196287, 0.2595295830382815, 0.33650986101276054, 0.3797647915191408, 0.22733325114959294, 0.34971835115868316, 0.26186634322437174, 0.4607477680368702, 0.3822433041106106, 0.40030736203524814, 0.23190347794354993, 0.329078482644507, 0.4411216520553053, 0.4474035409460829, 0, 0.2616943789735099, 0.46205213828264885, 0.3234794880807965, 0.3549879634958561, 0.36121324608799793, 0.24746236915850406, 0.36875864006331377, 0.3476713921268879, 0.380065055384325, 0.4587096192220145, 0.3065907874749207, 0.3097177932171409, 0.4100669617110494, 0.3877564875302397, 0.3062187019476362, 0.4167196916760511, 0.43851284948455455, 0.4040295158439244, 0.30182462203220334, 0.3598620077970199, 0.24197758785034756, 0.2839310701674997, 0.43078764292276694, 0.45966493925236174, 0.43126155808744954, 0.477746637430797, 0.3662757097158254, 0.4591829984856519, 0.4666199561461955, 0.3987830555019201, 0.4256990791383708, 0.4210492955892661, 0.3593524488856614, 0.4210492955892661, 0.429177139409648, 0.17274207218143633, 0.3638322812447487, 0.4374788543149132, 0.4210492955892661, 0.4266026529073842, 0.3884051191213464, 0.29091610155614195, 0.413234570153161, 0.4936412435788682, 0.4605246477946331, 0.4605246477946331, 0.4605246477946331, 0.4380420548611732, 0.4210492955892661, 0.4018009636020904, 0.4210492955892661, 0.43167549063276056, 0.44538825010178434, 0.3539411119457831, 0.3885757877017764, 0.39764965496370136, 0.3458430400580161, 0.4210492955892661, 0.3774476176486355, 0.21052464779463306, 0.4605246477946331, 0.4210492955892661, 0.4210492955892661, 0.4048125416455213, 0.4210492955892661, 0.4210492955892661, 0.39376456008702404, 0.4210492955892661, 0.4192179051640572, 0.3941172850765805, 0.5, 0.35265238308135244, 0.5984359290938277, 0.39514455289124767, 0.4325270921534283, 1.0, 0, 0.40537742052029185, 0.18425280088224272, 0.45571596410141557, 0.4208752347350562, 0.43255238113153743, 0.42558756945086174, 0.4521599225384238, 0.350977540465884, 0.4283975366145512, 0.45908238731250056, 0.4243325341181691, 0.4093875797627048, 0.6028995017076749, 0.4183714199598857, 0.4163356463595595, 0.40352279471580577, 0.3879994441840385, 0.2530818266690456, 0.26606212461036793, 0.2974774245325779, 0.3879953047945593, 0.46111241642562784, 0.41707149744014305, 0.39878033049041395, 0.43918545709124973, 0, 0.28888967142212135, 0.09994914348027668, 0, 0.2958099780730977, 0.2734440707520191, 0.2166199561461955, 0.22239368940472695, 0.2437816201767634, 0.12431172910292365, 0.35388602189640567, 0, 0.19982541575304574, 0.23557393401039262, 0.26680889893313864, 0.21364555359184326, 0.13860776173238282, 0.0, 0, 0.18956105418536842, 0.07913782077304395, 0.3019707819190401, 1, 0.08891959951499537, 0.0, 0.3333333333333333, 0.183334507133182, 0.366669014266364, 0.4077558392398028, 0.366669014266364, 0.3201161646758595, 0.433334507133182, 0, 0.366669014266364, 0.46769989089349756, 0.42482595099934717, 0.42087631066765563, 0.366669014266364, 0.366669014266364, 0.22199022575951566, 0.366669014266364, 0.3999544632793775, 0.32330846551420517, 0.28888967142212135, 0.433334507133182, 0.3150668017496057, 0.35491507187122934, 0.34936142688564875, 0.598603326024366, 0.38210383755744276, 0.5, 1, 0.433334507133182, 0.3777789515776264, 0.28038752131589784, 0.4733338028532728, 0.433334507133182, 0.477778169044394, 0.3711104321524357, 0, 0.2958099780730977, 0.41914378092637056, 0.35620570091962644, 0.683334507133182, 0.3065920674514924, 0.591667253566591, 0.366669014266364, 0.366669014266364, 0.5, 0.35620570091962644, 0.366669014266364, 0.183334507133182, 0.366669014266364, 0.36614429136171545, 0.287215613443138, 0.33783162210436735, 0.30360617473383394, 0.2972313356012768, 0.3062187019476362, 1, 0.4693933758615973, 0.1787937247537219, 0.20569507969622564, 0, 0.20306166922643504, 0, 0.4278863575002858, 0.17903535134847218, 0.11638976815461376, 0.035825004426338854, 0.26637564630568167, 0.25, 0.5, 0.21929247902624532, 0, 0.16666666666666666, 0.4346628398485863, 0.18192393755195493, 0.23841327164891787, 0.0, 0.14778036038480502, 0.375, 0.40240894611365846, 0.4224380579268918, 0.0, 0.16666666666666666, 0.2338833731091153, 0.18472227113054926, 0.28272141290935554, 1, 0.0, 0.38874786391428096, 0.425495072082569, 0.4669705003911684, 0.37266399542194295, 0.4632046697201443, 0.356165537350966, 0.3749334772591693, 0.27532990980729394, 0.3997888960300082, 0.37672997221151183, 0.37168812208036506, 0.23437229543623456, 0.3972885781606529, 0.29777685851950564, 0.20193424326087842, 0.45871037821888017, 0.30881825325016005, 0.28129668196967106, 0, 0.46650991064783254, 0.46650991064783254, 1, 0.33585772103571143, 0.27961998833778967, 0.3373658873678796, 0.2475150786600516, 0.31566439911836885, 0.29183840560901003, 0.2903777328279218, 0.3760938798395402, 0.45869795994651336, 0.2941105394890022, 0.33462161438327964, 0.37805489509424056, 0.5646107060800779, 1, 0.28683292830230006, 0.3238052640093624, 0.34691605912011675, 0.09691605912011673, 0, 0.3013350688920143, 0.47153583984893616, 0.0, 0.30332281818791273, 0.35165048143944383, 0.13583126418328734, 1.0, 0.2833721155342796, 0.2941319912150661, 0.31080854697814886, 0.20758295626541293, 0.41144600961764943, 0.25492301136791123, 0.0, 0.1496508315060915, 0.19616055875477353, 0.32097010306794205, 0.0, 0.3333333333333333, 0.2284715078280624, 0.3926008613119373, 0.2701683153800484, 0.29002571242060915, 0.4237730245071713, 0.41553573017390405, 0.16568023046693273, 0.43733802310107867, 0.4278283599969653, 0.4543429727666417, 0.4833050465783957, 0.4958565480146102, 0.40604508720343974, 0.31029477747075646, 0.20591351671664734, 0.5, 0.4014733757042629, 0.1371630832011014, 0.1371630832011014, 0.24676826268982158, 0.1575579598527274, 0.2867577622105875, 0.2814743907057987, 0.384676168996136, 0.43024704407684694, 0.4191465335768166, 0.3726098335280099, 0.407436252714473, 0.30638217785893884, 0.3414307679451318, 0.2095732667884083, 0.10569727716524199, 0.24764992184337994, 1, 0.1755504204614697, 0.29466082122735715, 0.28570927255768036, 0.09928329654452384, 0.0, 0.32381568603681027, 0.2689897363092827, 0.19980032381346086, 0.833274922274406, 0.3475013800554892, 0.17287119378644442, 0.15596106823956937, 0.216667253566591, 0.16485969185367474, 0.1692643115644859, 1.0, 0.370056364327928, 0.4293775905728734, 0.29275109288326145, 0.41671160726501905, 0.4471301878359979, 0.446574468955924, 0.22323548896188253, 0.15017963004070914, 0.17596793548021206, 0.21774089204875308, 0.2288512773870753, 0.12365452273167078, 0.12365452273167078, 0.12365452273167078, 0.32080383555799197, 0.683239912292391, 0.3550202569484559, 0.6692894905564065, 1.0, 0.625, 0.5, 0.3874350260521539, 0.2755698087076132, 0.3074811293589365, 0.26394041020035325, 0.407830297852845, 0.3948667341250343, 0.3790659459868836, 0.31566059570569005, 0.08914806677408478, 0.2970670281313193, 0.32602404967082227, 0.33450726961767313, 0.25486040900568246, 0.3725738368187742, 0.40949297240766647, 0.4045038436953922, 0.18193402978139064, 0.32708089556025965, 0, 0.23005394481259578, 0.2578475707590364, 0.16349199550818305, 0.1815696110496902, 0.32710608946349773, 0.4109335655243791, 0.3300552563029696, 0, 0.2623872879851105, 0.45447634232216866, 0.3798394908177972, 0.3280900599248837, 0.4294063753837912, 0.39298595596096775, 0.4622274399075146, 0.4592144123229514, 0.4642138097095722, 0.47524774341291254, 0.31213941293691966, 0.39992446722583136, 0, 0.35120882092399947, 0, 0.29152670932126235, 0.42051688969703743, 0.06119584045446564, 0.12418962307146764, 0, 0.1574228232744406, 0.2762655943452216, 0.17808581215805117, 0.1284265720573263, 0.5, 0.6133215775060493, 0.44635264597199403, 0.31493302731864264, 0.4074665136593213, 0.4074665136593213, 0.5, 0.25809568235580055, 0.5, 0.40278661527934184, 0.5, 0.5, 0.33575456364604905, 0.1862770581413046, 0.2928669538367474, 0, 0.38414899769135924, 0.37742815081740855, 0.3124173777919715, 0.3839269257219832, 0.3909249901450353, 0.5, 0.4611751202975585, 0.3839269257219832, 0.31266555838108506, 0.3333333333333333, 0.0, 0.3955932611384646, 0.25, 0.17935672296476712, 0.27939868618446423, 0.4214435603048754, 0.2676600980352829, 0.23601853305838288, 0.25513105910050926, 0.2626824056214533, 0.29776553258627186, 0.354284001880569, 0.3385286231289718, 0.3697574410688265, 0.25671505968403546, 0.47943194804434425, 0.3385286231289718, 0.30756589822010577, 0.21261009538038492, 0.44388233983292835, 0, 0.37310717986421477, 0.38201742586835624, 0.4192643115644859, 0.33251180678082326, 0.25449453699978974, 0.21261009538038492, 0.7086680848817919, 0.3643809582873576, 0.37913150580942845, 0.3773974689368885, 0.5, 0.15145100886190893, 0.3913366601141186, 1, 0.38633568825631454, 0.3404314166863605, 0.35473319619506605, 0.41426085966459425, 0.3452000848921643, 0.31107997076413035, 0.2516532298655259, 0.35798066260087325, 0.3833017401840678, 1, 0.433239912292391, 0.4666199561461955, 0.5775138584348579, 0.433239912292391, 0.433239912292391, 0.433239912292391, 0.14441330409746367, 0.3648023107396143, 0.45220235018733934, 0.18015049159219365, 0.48818381495028706, 0.3350698974326189, 0.2781603012183834, 0.4543926144738071, 0.4081799100805645, 0.27511406659930787, 0.3490951336814178, 0.37009607045445986, 0.32118109876181317, 0.34634829400382616, 0.24673071363630658, 0.38022691247607276, 0.27006814279905245, 0.3374875114930812, 0.2470749570789577, 0.37452368907158123, 0.36647982458478195, 0.2166199561461955, 0.2426174436121016, 0.36647982458478195, 1, 0, 0.2178977755684934, 0.36966997954412445, 0.33062731635856973, 0.34234782847757583, 0.3482670724235015, 0.3900504101313367, 0.20885809519884266, 0.31077676111734465, 0.2742435851426357, 0.4333649734391603, 0.37269800239131773, 0.3870245838144535, 0.20632660320747212, 0.32179558432108635, 0.3949835942926466, 0.32179558432108635, 0.427147750143029, 0.3269839910163661, 0.5, 0.5, 0.466309558577508, 0.3141750682439894, 0, 0.299301663012183, 0.19006906008093988, 0.32583678172629754, 1, 0.25, 0.23434653745306655, 0.0, 1, 0.0, 0.31103351811246477, 0.27478344144323763, 0.19006906008093988, 0.21942521384869595, 0.0, 0.3333333333333333, 0.25, 0.2139899830469387, 0.25150977701340976, 0.0, 0.10543916605758606, 0.25, 0.29337937338729325, 0.28049863933694036, 0, 0.3333333333333333, 0.2898148474203662, 0.0, 0.0, 0.21735162298860639, 0.28200371696724447, 0.402452497911366, 0.3803029109215633, 0.21163020054829323, 0.433239912292391, 0.3743762917460459, 0.2656022766654555, 0.27674253078149436, 0.11854525001552987, 0.0, 0.25, 0.2709110350134038, 0.5, 0.32915862371111587, 0.32169438353638263, 0.32915862371111587, 0.3328907437984825, 0.36647982458478195, 0.36647982458478195, 0.433239912292391, 0.2306404129163068, 0.496175757468293, 0.4482952795358068, 0.1542567930414147, 0.3790306496388666, 0.4014954961184568, 0.433239912292391, 0.36647982458478195, 0.3257054978227722, 0.413381182412161, 0.4322976886228338, 0.39454712964364036, 0.3677242127958362, 0.409175791619923, 0.44511970866613504, 0.5, 0.4725598543330675, 0.5, 0.3079178310071225, 0.4251054723806774, 0.3593352425337263, 0.4585144352123634, 0.4023439401113691, 0.4164285758162369, 0.49883883250525207, 0.4987189160146068, 0.4997752345845468, 0.4990927547181347, 0.0, 0.42158620895697085, 0.41275761074048223, 0.32104669122011814, 0.2854374785205149, 0.43987521089073733, 0.4745624000700407, 0.43721045406545656, 0.43721045406545656, 0.43721045406545656, 0.4228450345245934, 0.3691852606419274, 0.25, 0.11295280843418029, 0.3748998745311917, 0.269847909607748, 0.24987745719303497, 0.45798244669642335, 0.2892320322861603, 0.44511970866613504, 0.3748998745311917, 0.47814842827165666, 0.2498880738267585, 0.3998958988027451, 0.32106524807238385, 0.49790066676648276, 0.40171020362049464, 0.1694505408323153, 0.4157622784201954, 0.4430132118334808, 0.4678290977035573, 0.31292813680916926, 0.3406835163018461, 0.5372143983781422, 0.5372143983781422, 0.3295613737161207, 0.3086086616703543, 0.3295613737161207, 0.5311127411504993, 0.0, 0.1796236938691953, 0.4610785806942617, 0.3797806982112193, 0.2797346919342023, 0.20060929458641277, 0.39164777357052427, 0.3508606825310224, 0.4429625233549148, 0.33731497881881667, 0.364269200785418, 0.34005193302747005, 0, 0.24418241184034356, 0.30951883692450455, 0.23318500761663596, 0.23495670646684574, 0.2790442260987529, 0.2303439943382885, 0.2453217371591588, 0.32276593547939403, 0.1414052457543138, 0.32294917785047145, 0.5, 0.5083558871866917, 0.3585094691240792, 0.6240686025031241, 0.27967726378601054, 0.3932710107568664, 0.29260774148365826, 0.2761512357052208, 0.2716001764081355, 0.27706375987442244, 0.47920807033698454, 0.2884111276727977, 0.25, 0.17460815640527394, 0.4927532360426378, 0.32212982041382093, 0.3306748689105973, 0, 0.25, 0.23841327164891787, 0.4998054171060211, 0.5822517479953043, 0.8326783445469335, 0.7992140134563201, 0.6653566890938668, 0.39915157877451296, 0.500830493640241, 0.2577050918362587, 0.27311527550877623, 0.5, 0.5, 0.4661615961520955, 0.4729292769216764, 0.5, 0.47744106410139703, 0.39848478845628654, 0.5, 0.43232319230419103, 0.446593776206043, 0.3660351175562466, 0.3304442737935378, 0.3524005110482109, 0.27849104989993156, 0.3658937734287622, 0.15495726678057659, 0.2909456505138404, 0.2909456505138404, 0.33000841593545266, 0.278630693475874, 0.3638854018820986, 0.2868103136945025, 0.3384708054706344, 0.23340926216456712, 0.259543564491958, 0.30720481467648436, 0.17512046903739353, 0.3555118557760346, 0.2593874970255957, 0.509543564491958, 0.23899346927376616, 0.33786658089960664, 0.05131319728636419, 0.139315346737937, 0.2830318891818265, 0.2936200685147321, 1, 0.7345481806688062, 0.34142594588700703, 0.38235080469817, 0.3649362783337722, 0.5204937045690899, 0.6661953991464907, 0.321728967065739, 0.4443181603509289, 0.4723711839700619, 0.45491777753169216, 0.3245395580093847, 0.4657326795932695, 0.42633743375485783, 0.3795742829625574, 0.5135066991648937, 0.4850410341704294, 0.4275758667544113, 0.33515792171665076, 0.41642595914397695, 0.5, 0.3939723978764363, 0.32760558530276046, 0.47283835410674757, 0.6690304142099871, 0.25709124262996164, 0.35339465055547975, 0.25709124262996164, 0.25709124262996164, 0.3480185241802845, 0.2873104550165589, 0.2730807430234477, 0.17021672149234832, 0.33981125753066854, 0.33981125753066854, 0.11327041917688951, 0.3797043068476172, 0.33981125753066854, 0.29657596274284964, 0.2410544358848016, 0.3988344897226285, 0.3329260900328809, 0.36724585831554757, 0.35321735369960117, 0.3901636378691968, 0.37358510356740604, 0.21997084313247173, 0.33524545680379514, 0.3901636378691968, 0.3848597570841051, 0.28168708828584854, 0.3401919114202056, 0.33932721642203756, 0.3309114038650132, 0.28208415308132384, 0.3855777117517282, 0.348475964170879, 0.2165900136656663, 0.23236173319537928, 0.31620471175626247, 0.43215290729212236, 0.31024893191226005, 0.25353341504634497, 0.4129001975567407, 0.4549044671245352, 0.3996272706031642, 0.33989470370133595, 0.3903143189363054, 0.23804595381156812, 0.34628992826392413, 0.17717320353986224, 0.3498825451350942, 0.40492903460335755, 0.4628488381938305, 0.0, 0.3783791616091242, 0.3278859756672249, 0.3712530658240678, 0.4204371149314448, 0.4354696268210594, 0.3890991974892072, 0, 0.2158174313141851, 0.21132772934901314, 0.25, 0.0, 0.3565743891185289, 0.2583369698475273, 0.36515555651492915, 0.42325009859853896, 0.6945495987446035, 0.5, 0.3309624602012046, 0.5, 0.4093394501185456, 0.36645475019039253, 0.253414361127157, 0.4200810277938236, 0.3637234926671527, 0.3239858180900589, 0.3401620555876473, 0.2761192463713893, 0.29554206759900625, 1.0, 0.37130497616314434, 0.3263112101488772, 0.33626264444663717, 0.3049402802344711, 0.37310610828849455, 0.4368580711608514, 0.36732999810852673, 0.4368580711608514, 0.30938604633497396, 0.41249596635055247, 0.39927104666052493, 0.3253074034540222, 0.42539928486128337, 0.24000989926256522, 0.2920319658980403, 0.42287119378644444, 0.17287119378644442, 0.34574238757288883, 0.27717849387520865, 0.5563502843623647, 0.334525426543547, 0.38708165759853846, 0.34574238757288883, 0.3270763884792527, 0.3976548666240407, 0.37775395811011764, 0.34574238757288883, 0.6152474625242963, 0.1671604389626284, 0.42287119378644444, 0.31952891426086805, 0.37458982414356506, 0.20700493098656025, 0.299301663012183, 0.5, 0.5, 0.2539701041072245, 0.2539701041072245, 0.3460997779526821, 0.20953507901374815, 0.2847741256793716, 0.23129911966961963, 0.5, 0.3385083851329754, 0.3020636090398324, 0.25150879609158694, 0.4246919932218446, 0.3800158283691624, 0.3333333333333333, 0.3231765082839972, 0.39247093511783976, 0.46221416854536446, 0.3935304359487714, 0.44451132563758644, 0.3493839864436892, 0.20301864576104323, 0.19630043065596864, 0.25150879609158694, 0.33433919739439133, 0.25150879609158694, 0.5, 0.25150879609158694, 0.3800158283691624, 0.5, 0.5, 0.5, 0.5, 0.5, 0.5, 0.5, 0.32913782077304393, 0.409870679548171, 0.4985891546280381, 0.264390380320301, 0.2867789330750238, 0.5, 0.5, 0.5, 0.5, 0.5, 0.5, 0.5066511480669373, 0.4166666666666667, 0.5, 0.5, 0.5, 0.5, 0.5, 0.5, 0.5066511480669373, 0.5, 0.5, 0.4516806102880608, 0.5, 0.5, 0.5, 0.5, 0.5, 0.5, 0.5, 0.5, 0.5, 0.4575366111760033, 0.5, 0.5, 0.5, 0.5, 0.5, 0.38121969128528427, 0.5, 0.5, 0.5, 0.5, 0.4796839624301, 0.5, 0.5, 0.5, 0.0, 0.39713217735257983, 0.0, 0.4056409730634511, 0.4795804324341325, 0.24331747787677607, 0.235154702318104, 0.1259035713789541, 0.292408000181292, 0.274019617764227, 0.0, 0.38062251101735556, 0.43695257618148653, 0.3490353117228006, 0.33309536413250107, 0.37088732141271585, 0.20890845406742478, 0.30064992657695905, 0.25984030883750575, 0.5635259025455909, 0.5845968096793039, 0, 0, 0.48129411327764277, 0.3996508315060915, 1.0, 0.0, 0.28933992711347273, 0.18308895161565739, 0.0, 0.18937068673173785, 0.2989098055575919, 0.29621396463886734, 0.25, 0.5695295336500887, 0.4614712805566627, 0.22467410126899034, 0.3206944319445841, 0.169193619358608, 0.2826024569172048, 0.3913012284586024, 0.07800649971892464, 0.15601299943784927, 0.23888272237244176, 0.5308778073051698, 0.3526520795843765, 0.531219343802652, 0.2780270848578065, 0.34539980556996125, 0.3252423734531348, 0.3232229120858552, 0.354368644544279, 0.23949439676348802, 0.36464638460838206, 0.42800986328001134, 0.29635416106534046, 0.30652776135908366, 0.3021139298612889, 0.28721350212069824, 0.3630796539256528, 0.35038444566338267, 0.28721350212069824, 0.28721350212069824, 0.5, 0.5, 0.4901012496146502, 0.289568910386522, 0.4370544165306192, 0.5, 0.32077055718913416, 0.29096982515415487, 0.29096982515415487, 0.5080464915534244, 0.43013994891435153, 0.5, 0.35058586166561606, 0.5, 0.3333333333333333, 0.5, 0.3996508315060915, 0.4086352056227869, 0.4782407570435165, 0.4400690600809399, 0.5, 0.3425879650075953, 0.4406074976879008, 0.5, 0.41716959869719566, 1, 0.43516494000332756, 1, 0.3996508315060915, 0.3996508315060915, 0.5, 0.251633930829826, 0.251633930829826, 0.1806832706984847, 0.5, 0.33730569337437377, 0.22490391298970092, 0.5548246809193067, 0.10569727716524199, 0.3011058391271606, 0.22042122337384334, 0.49522985122470004, 0.4146014672261493, 0.46269855214446826, 0.25, 0.2724161048822227, 0.459040742873625, 0.7161147571498986, 0.6440765047665991, 0.0, 0.08087340210785858, 0.15780689850947072, 0.3700721502876587, 0.31779819697532685, 0.23062840219476566, 0.27965308563347835, 0.34012305308668656, 0.1970149547463934, 0.10350246549328013, 0.37988633208708683, 0.32580039511348136, 0.2685562925081519, 0.2566986292091421, 0.43222951429979717, 0.4787484098317481, 0.3539921648460964, 0.2661665164651915, 0.32204906586867227, 0.32969478925858753, 0.37431880164549797, 0.4484658354068381, 0.38013812016187976, 0.26878223932051737, 0.26878223932051737, 0.2040311168970607, 0.3013600297194094, 0.4291916183062175, 0.3927307102766158, 0.3971753484552201, 0.2209441527741153, 0.3063496261177006, 0.2474851837457235, 0.24577143557522313, 0.4486296485612747, 0.47647387912626415, 0.43395037757693555, 0.42521383142768765, 0.5131130706290608, 0.47800127255572117, 0.34165355433862415, 0.4495796777171033, 0.45052344525780086, 0.4743090831721097, 0.49583416415439285, 0.4348818780854899, 0.44996258814891377, 0.4694585925832146, 0.472639086719488, 0.4886166029923245, 0.2134496540324463, 0.24193340599498994, 0.427776557290027, 0.4197905617189761, 0.47800891389634953, 0.42577442803137, 0.41004315139386854, 0.24047598652454916, 0.25, 0.25, 0.25, 0.4444677586868317, 0.34858081984465744, 0.41007381543711824, 0.4542628025508159, 0.24047598652454916, 0.4100781811841377, 0.43697767624485406, 0.24047598652454916, 0.3283129681053911, 0.374580153066717, 0.3852315549535589, 0.3007456445160485, 0.20025643276005475, 0.3743243482273237, 0.28392042918707183, 0.49072428559954245, 0.6728711937864444, 0.4242128049301685, 0.4330491072148726, 0.47974801648873644, 0.477527358065964, 0.25880138101908806, 0.15189354224098328, 0.26635474411147325, 0.30389290679292824, 0.3550154737282084, 0.31160700398258223, 0.2984239402474553, 0.4371936350419753, 0.35540365677255453, 0, 0.18004739386682647, 0.0, 0.3402254683468226, 0.41692167924912343, 0.5, 0.4519064830177796, 0.4374134261099541, 0.48751556817516106, 0.4686290650429925, 0.44293938283254825, 0.2663033697421467, 0.2755720412631214, 0.2611696977639802, 0.11707607964793103, 0.39312586352429113, 0.21376801997856326, 0.32948408058886575, 0.05276722066625538, 0.4020679276449444, 0.36009478773365294, 0.3751454383041223, 0.7493594580073034, 1.0, 0.6666666666666666, 1.0, 0.5611115023777273, 0.4952379932622746, 1.0, 0.6444448357110607, 0.6018316066699942, 0.47972435733213725, 0.2708226016808101, 0.17582524071972191, 0.4862367927396267, 0.4800127240398947, 1.0, 0.41853601134386165, 0.426770256856454, 0.40914598408641056, 0.26442209185249466, 0.38534714288350713, 0.3852155520103313, 0.3886344034416244, 0.3124821821523287, 0.25299212422072376, 0.30817189166377335, 0.10132025842891948, 0.15286423169685256, 0.0, 0.413619597777918, 0.3273961848680235, 0.5, 0.4732354889618825, 0.44647097792376506, 0.44647097792376506, 0.3924566125628477, 0.44647097792376506, 0.38513310676903706, 0.44647097792376506, 0.4732354889618825, 0.4732354889618825, 0.4339448710211133, 0.4009173065316699, 0.43506683494413473, 0.30412963999936593, 0.3862239317345732, 0.3185782346046656, 0.24693390281749877, 0.3695752062637798, 0.2513204291649218, 0.0, 0.0, 0.4853728061887359, 0.3462531241277624, 0.47598615411565304, 0.35102826664930165, 0.524824558088277, 0.3829670297862345, 0.21195754823697532, 0.28361871805167926, 0.21195754823697532, 0.21195754823697532, 0.42674999895860255, 1.0, 0.28864772918820364, 0.28864772918820364, 0.28864772918820364, 0.28864772918820364, 0.20046637838014222, 0.28864772918820364, 0.32064990438629004, 0.2835660997403329, 0.44550347575882177, 0.1853891224683364, 0.20885809519884266, 0.38995048491498435, 0.38995048491498435, 0.4449752424574922, 0.3835116422825594, 0.3915091629083182, 0.35789363332064095, 0.38995048491498435, 0.3040611922913481, 0.38995048491498435, 0.30780958059247054, 0.4725598543330675, 0.4261344290910176, 0.5433371227556021, 0.46710155840136214, 0.5, 0.2099077136988707, 0.4090450380002949, 0.22873492525655043, 0.22873492525655043, 0.21432216295473347, 0.5, 0.375, 0.4063936598927052, 0.4333649734391603, 0.30848787509848064, 0.5, 0.2958099780730977, 1, 1, 0.20047174350221886, 0.13587264471092594, 0.5, 0.38534671512665597, 0.4224380579268918, 0.35853873323893076, 0.14790498903654886, 0, 0.25060943482357323, 0.5909115400765017, 0.2582937314236837, 0.75, 0.25, 0.3680632209804944, 0.3734566381537593, 0.3909837403032648, 0.32622199998232504, 0.471507734150336, 0.31550258522272656, 0, 0.31550258522272656, 0.3284950835263514, 0.5026408583298436, 0.38509051823474216, 0.3480217597968842, 0.358142621082162, 0.0, 0.4038647773669147, 0.30049628765286746, 0.40012540540052255, 0.43222951429979717, 0.4719409574949295, 0.4270258390496481, 0.4839615459367667, 0.48946507084179014, 0.3249299342192932, 0.40234344666246424, 0.4012881128292016, 0.43816091896587467, 0.4090285585577652, 0.20386433848760488, 0.25, 0.25, 0.372157350734237, 0.23938290303211546, 0.23938290303211546, 0.24312295529730324, 0.2318872137543273, 0.5430036341204086, 0.4243349121538541, 0.44838317627346697, 0.38314596302200277, 0.25011662270394647, 0, 0.41449640614012057, 1, 0.32289936827762467, 0.45918570997994285, 0.5, 0.5, 0.3902394173322701, 0.5, 0.25, 0.5, 0.2018361424376443, 0.2629511706935473, 0.1833923399164875, 0.4150994362684579, 0.4929429514552288, 0.4389458057306074, 0.4389458057306074, 0.4694729028653037, 0.4694729028653037, 0.4389458057306074, 0.4389458057306074, 0.4389458057306074, 0.4694729028653037, 0.44098495871736243, 0.2953109283705882, 0.32631190362630114, 0.40335953353694926, 0.5, 0.4203864798234517, 0.4374134261099541, 0.20985915196310498, 0.4996759228947997, 0.25, 0.3851399482390186, 0.45541215129073354, 0.381296651675336, 0.3898582233626726, 0.5, 0.38155951833475127, 0.3105107201581849, 0.3637535687482635, 0.43205971711156377, 0.0, 0, 0.19953444200812198, 0.4366481700589346, 0.4160194316175933, 0.30439753157670396, 0.4575366111760033, 0.30589757295267744, 0.4029103033033817, 0.2795312376941617, 0.24854908103521453, 0.20264051685783896, 0.20468176922560904, 0.20264051685783896, 0.299301663012183, 0.31631749817275817, 0.2452359653380145, 0.32436533097289283, 0.27835140632398914, 0.17831816117474775, 0.75, 0.6666666666666666, 1.0, 0.16896048142070058, 0.16896048142070058, 0.08448024071035029, 0, 0.0, 0.25, 0.47125924795824686, 0.6283353331429085, 0.2739570335969485, 0.43092614812698987, 0.6238179098375739, 0.3836382265070403, 0.375, 0.4718425449383944, 0.5, 0.5, 0.4331038923978739, 0.0, 0.0, 0.17287119378644442, 0.42442046700740194, 0.17287119378644442, 0.2491037117772211, 0.4196892672315833, 0.44923114125056496, 0.45017824072301627, 0.5406504932536342, 0.37729334618144533, 0.35659527149698056, 0.2608842110421457, 0.14197351672411454, 0.5592194478972615, 0.32248237043374123, 0.2819237288782208, 0.2332400341557892, 0.381422516462896, 0.3555796625118754, 0.3301064519721712, 0.40793281997530856, 0.29612328369920526, 0.29289110858181217, 0.2673141737806755, 0.3555386122642861, 0.2673141737806755, 0.3221701777218212, 0.2673141737806755, 0.2833079183964292, 0.3516208596173475, 0.28218791785163494, 0.23875555609965002, 0.30985757315750717, 0.23618522962539798, 0.32181074116993547, 0.5652927905872426, 0.3292380265880328, 0.29203500013297934, 0.28754840507136703, 0.31684150570343794, 0.26722849456252074, 0.20155056963672335, 0.4222539228540261, 0.26722849456252074, 0.35305042367683115, 0.264032586024708, 0.27047875101245555, 0.0, 0.1496508315060915, 0.5, 0.5, 0.14482808517666992, 0.15842075285171897, 0.2664338876707277, 0.20288220070557053, 0.0, 0.0, 0.25, 0.5, 0.2544765922951199, 0.3377783178214691, 0.40772867697520976, 0.31929461062316267, 0.3784978364107518, 0.3456981126645131, 0.32249988783834804, 0.24890878435372937, 0.2741052236829562, 0.29830268107705515, 0.42413499343753713, 0.2757058212899788, 0.2574838716415188, 0.34688202071159385, 0.5026408583298436, 0.19497524245749218, 0.19497524245749218, 0.19497524245749218, 0.19497524245749218, 0.19497524245749218, 0.0, 0.4593634017423416, 0.37665733273476165, 0.3992399591710854, 0.33639030821698346, 0.37665733273476165, 0.4383286663673808, 0.30003510683198414, 0.36485139581518156, 0.5, 0.5, 0.40623704542512235, 1.0, 0.6666666666666666, 0.4992144623915795, 0.28929327388862386, 0.3016600623645163, 0.28965617035333985, 0.14377420253568352, 0.24728120103336218, 0.1496508315060915, 0.317197784282706, 0.30459464150621773, 0.19729926164822356, 0.22590561686836058, 0.2386130230166412, 0.19631927778850758, 0.2539753878372271, 0.3057808695392361, 0.30382759851086366, 0.29003367537217706, 0.33991728587420755, 0.3389459537264943, 0.3389459537264943, 0.4775103451788927, 0.48500689678592845, 0.3066481659519366, 0.33888700364161767, 0.12999910190877845, 0.11034737231146542, 0.11034737231146542, 0.13757577236673188, 0.3103341214424509, 0.3834645680627054, 0.35111266104539063, 0.2886644708085017, 0.3216553311438583, 0.43562803002592304, 0.4076179341327778, 0.06636704886928455, 0.23918795679157934, 0.28233332500577724, 0.23533483640300495, 0.3247198741397403, 0.23533483640300495, 0.23533483640300495, 0.23533483640300495, 0.23533483640300495, 0.23533483640300495, 0.23533483640300495, 0.23533483640300495, 0.2673764391523489, 0.31407363530475063, 0.3081960534982072, 0.31691303637743523, 0.31395125421861847, 0.43909468377002797, 0.42677168857729797, 0.30981327197495623, 0.41339419268417776, 0.25376316631295626, 0.25376316631295626, 0.41792105543765207, 0.12688158315647813, 0.25376316631295626, 0.23905557351228474, 0.25376316631295626, 0.25376316631295626, 0.23005157070976318, 0.2666619830614681, 0.20633997510657012, 0.28880959992818894, 0.25634833718229777, 0.21869307490613307, 0.13027237464127905, 0.16564060333642228, 0.27709373555761485, 0.16564060333642228, 0.16564060333642228, 0.16564060333642228, 0.06513618732063953, 0.5582952682477333, 0.2645774767556843, 0.14081993742565854, 0.14790498903654886, 0.0, 0.4166666666666667, 0.39166144984957185, 0.3550228620690913, 0.384018289655273, 0.5, 0.23135877475255107, 0.18787830765029256, 0.18787830765029256, 0.18787830765029256, 0.3439391538251463, 0.3694882534766981, 0.42092722449777836, 1, 0.13587264471092594, 0.13587264471092594, 0.21758715386155447, 0.3010348618139565, 0.28239706269254283, 0.22806483941879002, 0.5833333333333334, 0.75, 0.4563404919397784, 0.4967418276629081, 0.4973760266361041, 0.4973760266361041, 0.4978406810857391, 0.49247860446120884, 0.5290736916090025, 0.5830874441717694, 0.6411390159392452, 0.9274260106261635, 0.4495852970666272, 0.26553022789440733, 0.5, 0.24613203514478973, 0.3593555681376836, 0.23311310746770939, 0.26101750478958796, 0.2876224246689729, 0.36719050168995615, 0.14177550992599983, 0.4441952551332099, 0.0, 0.18477130447520926, 0, 0.0, 0.3113452312735757, 0.25, 0.09976722100406099, 0.27834913420078783, 0.4053698642209126, 0.29331544094884726, 0.3546239612651825, 0.42482595099934717, 0.42482595099934717, 0.6496508315060915, 0.5947805270926843, 0.5947805270926843, 0.6666666666666666, 0.0976170612615965, 0.3391876924011624, 0.3728451987572235, 0.2628625003484332, 0.34963843900266334, 0.6283353331429085, 0.30569910835297515, 0.299301663012183, 0.3145185625935638, 0.30825406914348874, 0.42575847838591824, 0.3682654943407219, 0.3515748433170117, 0.28214810051453537, 0.20525278914545675, 0.3350695339713269, 0.34506603321239815, 0.16942172833636543, 0.4089599541864666, 0.5026408583298436, 0.4957933981342348, 0.48290413898078366, 0.4838114649821876, 0.48610496399310615, 0.4241688676354183, 0.3237859695419649, 0.34010021418440467, 0.5334187080577462, 0.3090480583621285, 0.3090480583621285, 0.31163149788594663, 0.31163149788594663, 0.4800127240398947, 0.3279385582663209, 0.5, 0.15917011505963088, 0.17582524071972191, 0.7431183963698134, 0.5182112672370391, 0.29299927185024166, 1.0, 0.5966778917907257, 0.39466996355673634, 0.3849702859018074, 0.463385128428227, 0.5, 0.46538723379892977, 0.34625482851498546, 0.3293318136085496, 0.3293318136085496, 0.3293318136085496, 0.4146659068042748, 0.5, 0.5, 0.3838529643291424, 0.3838529643291424, 0.5, 0.3836382265070403, 0.3836382265070403, 0.4293510845680119, 0.3927307102766158, 0.625, 1.0, 0.40534118111355244, 0.35166772744112407, 0.5327029253878965, 0.4978058975726009, 0.5286279324552423, 0.5540286892874746, 0.5741721357248479, 0.5720382523832995, 0.6440765047665991, 0.4798075505895372, 0.5207664026557413, 0.5232109970885116, 0.6440765047665991, 0.4222070683493676, 0.4545729920432053, 0.22653974421371806, 0.4295672332778, 0.29858948313032607, 0.75, 0.4933999672716077, 0.26068019308546014, 0.4444097886219655, 0.36491659625482675, 0.32745636799804034, 0.38691170821589294, 0.2668328711452331, 0.3217462874756787, 0.3009937082154285, 0.4672965286359991, 0.5, 0.5, 0.5, 0.5, 0.5, 0.5, 0.5, 0.5, 0.5, 0.5, 0.5, 0.5, 0.5, 0.5, 0.5, 0.5, 0.5, 0.5, 0.5, 0.41738651473884836, 0.5, 0.4443181603509289, 0.3964455542909061, 0.32988987305998346, 0.31699159402351973, 0.31699159402351973, 0.31699159402351973, 0.31699159402351973, 0.38365708689033773, 0.5026408583298436, 0.38244114093635573, 0.447092818100407, 0.36850560176448544, 0.40480883616964436, 0.33650204276131357, 0.5, 0.5, 0.5, 0.5, 0.5, 0.5, 0.5, 0.5, 0.4337372802737541, 0.5, 0.5, 0.5, 0.5, 0.47925469400074555, 0.5, 0.35316998755328505, 0.5, 0.4347222711305493, 0.3694445422610985, 0.3694445422610985, 0.3694445422610985, 0.3694445422610985, 0.3694445422610985, 0.3694445422610985, 0.5, 0.3694445422610985, 0.3694445422610985, 0.4380644561676854, 0.4347222711305493, 0.18472227113054926, 0.5, 0.5, 0.5, 0.5, 0.5, 0.5, 0.5, 0.5, 0.5, 0.4825437297988064, 0.4628495395691854, 0.5, 0.5, 0.5, 0.5, 0.5, 0.3333333333333333, 0.5, 0.5, 0.4213367802805028, 0.4616412919992795, 0.4054198447170559, 0.4054198447170559, 0.5, 0.4155594619277133, 0.3996508315060915, 0.299301663012183, 0.2910526648030791, 0.299301663012183, 0.3312397532168021, 0.299301663012183, 0.299301663012183, 0.3996508315060915, 0.4331005543373943, 0.3996508315060915, 0.40322373277241214, 0.299301663012183, 0.299301663012183, 0.3996508315060915, 0.49435402184010363, 0.299301663012183, 0.4475552139432146, 0.299301663012183, 0.299301663012183, 0.35351516999369637, 0.299301663012183, 0.3996508315060915, 0.299301663012183, 0.1496508315060915, 0.4331005543373943, 0.3312397532168021, 0.299301663012183, 0.299301663012183, 0.299301663012183, 0.299301663012183, 0.299301663012183, 0.491415574977556, 0.23870776171910024, 0.299301663012183, 0.3888462363819732, 0.299301663012183, 0.299301663012183, 0.4331005543373943, 0.299301663012183, 0.299301663012183, 0.4434026865460732, 0.3996508315060915, 0.4374180010088141, 0.39843982705619324, 0.3281914942066204, 0.299301663012183, 0.3996508315060915, 0.299301663012183, 0.299301663012183, 0.34305436025445113, 0.4459113898922102, 0.35351516999369637, 0.299301663012183, 0.32640841650293967, 0.299301663012183, 0.299301663012183, 0.299301663012183, 0.299301663012183, 0.299301663012183, 0.3996508315060915, 0.3996508315060915, 0.299301663012183, 0.299301663012183, 0.299301663012183, 0.2024994700887125, 0.299301663012183, 0.299301663012183, 0.299301663012183, 0.4316983537154726, 0.299301663012183, 0.299301663012183, 0.299301663012183, 0.3996508315060915, 0.299301663012183, 0.3662011086747886, 0.3445512796942105, 0.299301663012183, 0.299301663012183, 0.3975475305732089, 0.299301663012183, 0.4331005543373943, 0.24443135859877568, 0.299301663012183, 0.299301663012183, 0.40524254071871996, 0.36576558865599007, 0.4329791390091482, 0.299301663012183, 0.3996508315060915, 0.299301663012183, 0.45150021488056274, 0.3082497236474445, 0.36324270988741403, 0.299301663012183, 0.3631637510309155, 0.41833920903786614, 0.3662011086747886, 0.22206487409442643, 0.299301663012183, 0.1496508315060915, 0.3622577472199353, 0.299301663012183, 0.3996508315060915, 0.36908700790166227, 0.299301663012183, 0.299301663012183, 0.299301663012183, 0.299301663012183, 0.299301663012183, 0.299301663012183, 0.299301663012183, 0.4331005543373943, 0.2606832685533047, 0.299301663012183, 0, 0.2024994700887125, 0.299301663012183, 0.299301663012183, 0.301666313392475, 0.299301663012183, 0.299301663012183, 0.299301663012183, 0.3996508315060915, 0.299301663012183, 0.3445512796942105, 0.39745630054488357, 0.3000877961296274, 0.299301663012183, 0.299301663012183, 0.299301663012183, 0.299301663012183, 0.299301663012183, 0.299301663012183, 0.299301663012183, 0.2893501745983236, 0.299301663012183, 0.3996508315060915, 0.299301663012183, 0.2024994700887125, 0.3744406703646431, 0.299301663012183, 0.299301663012183, 0.299301663012183, 0.299301663012183, 0.3485467963655897, 0.2606832685533047, 0.38532108364850526, 0.299301663012183, 0.25595587919628393, 0.299301663012183, 0.299301663012183, 0.49888603844744156, 0.4998342057945695, 0.49973365969696953, 0.499776147653517, 0.4997672178473605, 0.49974736493422034, 0.487881581916371, 0.4992690842780362, 0.4995981167334544, 0.49964337819112903, 0.49952935263086234, 0.49955153652826234, 0.49940681607080223, 0.4996616304844437, 0.49980172537121564, 0.4995710312060699, 0.4995710312060699, 0.4995710312060699, 0.4995710312060699, 0.4995710312060699, 0.4995710312060699, 0.4995710312060699, 0.49961964561927386, 0.4991588752229495, 0.4994809769123234, 0.4996308084485785, 0.4995391513069373, 0.4995391513069373, 0.4988805515833104, 0.4988805515833104, 0.49983632614950424, 0.4996567530372797, 0.49971099941394265, 0.49951659705017976, 0.49973236540142424, 0.49958682731473303, 0.49960423044276225, 0.4993479861619153, 0.499758727833944, 0.4994973335957777, 0.4995289136910408, 0.49940140177582787, 0.4993594580073034, 0.4993765612125876, 0.4993765612125876, 0.4804325284644014, 0.4997092885634566, 0.4997942115099132, 0.4998015482206921, 0.49926502228050323, 0.49980991686207915, 0.499723326580785, 0.499751039607227, 0.4996434766936429, 0.49959357494607276, 0.4998159011883251, 0.49983164297468274, 0.499797130301154, 0.4997916556997609, 0.4864256561872557, 0.4987530200958314, 0.481581060353144, 0.4997901227366935, 0.4996794315314346, 0.4998183650945756, 0.49845979933172674, 0.499602978344988, 0.499602978344988, 0.4997869900354902, 0.4996004742637177, 0.499684737341889, 0.49975493363072837, 0.4496416159760921, 0.4987826854027366, 0.4998038687977965, 0.4898685370646485, 0.4920302134377835, 0.4901713729723173, 0.4901713729723173, 0.4901173671924954, 0.48881494276304416, 0.3269839910163661, 0.35021094476135484, 0.5, 0.31029477747075646, 0.44388233983292835, 0.5, 0.5, 0.5, 0.3852155520103313, 0.44260777600516565, 0.43092614812698987, 0.4700393223443887, 0.4739269459605142, 0.43459305727199815, 0.3333333333333333, 0.250485697673972, 0.34775010855523986, 0.5, 0.44763118939641916, 0.5843417557471442, 0.4442693445079502, 0.32745636799804034, 0.4785804708890793, 0.4388723527911415, 0.4932549105951506, 0.47674489116010565, 0.4347659958893083, 0.46506138782628054, 0.4647672847686401, 0.4809794513023244, 0.4957933981342348, 0.4712496403032236, 0.4637458759248537, 0.46374587592485367, 0.4740436106296975, 0.37760866662813425, 0.46406481266655825, 0.4426810085696552, 0.4571556603774722, 0.31901154553370586, 0.3658811507593333, 0.4329405753796667, 0.32263991847189877, 0.43222951429979717, 0.43222951429979717, 0.4142710310686942, 0.4087957657195538, 0.5, 0.41787615450780147, 0.5, 0.5, 0.4388723527911415, 0.4847180881977854, 0.4796241175970472, 0.433239912292391, 0.13860776173238282, 0.3376170697227893, 0.3184163831654683, 0.28754840507136703, 0.3937742025356835, 0.28754840507136703, 0.3937742025356835, 0.28754840507136703, 0.5, 0.27047875101245555, 0.38121969128528427, 0.32913782077304393, 1.0, 0.34648044346991547, 0.5, 0.5, 0.45387185956833237, 0.3925064243227009, 0.4719409574949295, 0.5, 0.5, 0.4926670908519071, 0.4650613878262806, 0.47364749901371817, 0.4703787840507587, 0.5, 0.3265110745661717, 0.4627782432494679, 0.4259212021754781, 0.49143636105736993, 0.4828727221147398, 0.5122850262310754, 0.39653025339308723, 0.5, 0.5, 0.5, 0.5, 0.3105835789062854, 0.5, 0.4538643384876049, 0.29424880912406537, 0.5, 0.5, 0.5, 0.32447005100742315, 0.5, 0.5, 0.27939868618446423, 0.2843744303913939, 0.27939868618446423, 0.0, 0.0, 0.25, 0.5, 0.5, 0.2574838716415188, 0.6283353331429085, 0.5, 0.5, 0.45855849859327136, 0.5, 0.299301663012183, 0.5, 0.5, 0.5, 0.5, 0.5, 0.5, 0.4724621715796162, 0.4774851674166475, 0.4586932573694242, 0.4586932573694242, 0.4586932573694242, 0.4586932573694242, 0.4358753106903728, 0.41738651473884836, 0.4586932573694242, 0.4586932573694242, 0.4586932573694242, 0.41738651473884836, 0.5, 0.48885009238956567, 0.5, 0.5, 0.5, 0.5, 0.5, 0.5, 0.2560832825157098, 0.2560832825157098, 0.39927725482580084, 0.5, 0.4400690600809399, 0.5, 0.5, 0.4802024992293003, 0.5, 0.5, 0.5, 0.4400690600809399, 0.467488637017842, 0.40949297240766647, 0.45474648620383323, 0.40949297240766647, 0.40949297240766647, 0.3488759498086787, 0.2659977304097827, 0, 0.49551770504522147, 0.4930007606156326, 0.4930007606156326, 0.4930007606156326, 0.4930007606156326, 0.4930007606156326, 0.4930007606156326, 0.38013812016187976, 0.6900690600809398, 0.5, 0.4635738750715145, 0.2750667521877601, 0.4351365035379174, 0.44579330115814386, 0.0, 0.0, 0.37746937752760756, 0.37746937752760756, 0.3863159472529508, 0.34548414436287267, 0.5129560298673608, 0.5, 0.2475150786600516, 0.3910713859328075, 0.15435545955725863, 0.2475150786600516, 0.3737575393300258, 0.36609197711637825, 0.4256990791383708, 0.4256990791383708, 0.5, 0.5, 0.5, 0.5, 0.4331005543373943, 0.4777001847791314, 0.4331005543373943, 0.5, 0.5, 0.3834949156354232, 0.3252423734531348, 0.40234344666246424, 0.5, 0.5, 0.35468035817583105, 0.5, 0.3832169438353638, 0.5, 0.5, 0.48501966117219436, 0.45474648620383323, 0.5, 0.5, 0.5, 0.5, 0.5, 0.39637554644163076, 0.5, 0.48327513858434856, 0.4331005543373943, 0.4331005543373943, 0.5, 0.4998920696080001, 0.49982969156390233, 0.49975491438606995, 0.4998433526056334, 0.49978046767045964, 0.4999247418773253, 0.499946034804, 0.49974154341041443, 0.49981509423506465, 0.4998606228099288, 0.4997196620248611, 0.49988463067093597, 0.49988463067093597, 0.49988463067093597, 0.49982476682321797, 0.4998231387222373, 0.49890947898425503, 0.49982819546234897, 0.4998023862871015, 0.4998023862871015, 0.4998023862871015, 0.4998023862871015, 0.4998323228442363, 0.4998323228442363, 0.499808812216833, 0.4997877456982436, 0.49979947484302506, 0.48635628761028454, 0.4998438503976893, 0.4995443724077844, 0.49969259467080646, 0.49971062873641997, 0.4998386234851768, 0.4998386234851768, 0.4998386234851768, 0.4998386234851768, 0.4998386234851768, 0.4998386234851768, 0.4998386234851768, 0.4998386234851768, 0.4998386234851768, 0.4997471216328602, 0.49874561482283486, 0.4998006838854771, 0.49909071342527356, 0.4995720752836862, 0.4995720752836862, 0.4998480291647625, 0.4996886498722555, 0.4998100364559531, 0.49979921758534623, 0.49979921758534623, 0.49979921758534623, 0.49979921758534623, 0.49973926720613265, 0.49967634752283985, 0.49946015162970764, 0.4996510629607456, 0.49954114852628084, 0.49946631597063446, 0.4169514948505321, 0.49984170824034774, 0.4996577733257988, 0.49956968175430105, 0.49942624233906807, 0.49970472084238093, 0.49970472084238093, 0.49970472084238093, 0.49970472084238093, 0.49970472084238093, 0.49970472084238093, 0.49970472084238093, 0.49970472084238093, 0.49970472084238093, 0.49970472084238093, 0.49970472084238093, 0.49970472084238093, 0.49970472084238093, 0.49970472084238093, 0.4596241092763414, 0.49970472084238093, 0.49970472084238093, 0.49970472084238093, 0.49970472084238093, 0.49887408365602226, 0.4997338203483625, 0.5, 0.4789052994355766, 0.4999101207266968, 0.5, 0.49977530208324095, 0.49928945603525265, 0.4996953547977253, 0.4996306084734743, 0.49853990717304947, 0.4596497548756363, 0.49959475999270686, 0.49976663699977875, 0.49977293209308876, 0.5, 0.4998790794585715, 0.49977728866642307, 0.4999323767670513, 0.49996083815140835, 0.4983252647810835, 0.4995737604392237, 0.4995737604392237, 0.49955363090108185, 0.49888603844744156, 0.49959389083682176, 0.4997841392160002, 0.49976256932223667, 0.499678402221732, 0.4998757380348639, 0.4997827522529763, 0.4998440754818949, 0.4415575365275313, 0.49966909036052176, 0.49986889693653624, 0.49986889693653624, 0.4997783596134876, 0.4997942115099132, 0.49799240465742306, 0.49799240465742306, 0.49799240465742306, 0.49799240465742306, 0.49799240465742306, 0.49799240465742306, 0.49799240465742306, 0.49799240465742306, 0.49799240465742306, 0.49799240465742306, 0.49799240465742306, 0.49799240465742306, 0.49799240465742306, 0.49799240465742306, 0.49799240465742306, 0.49799240465742306, 0.49799240465742306, 0.49843114472662237, 0.49799240465742306, 0.49799240465742306, 0.49799240465742306, 0.49799240465742306, 0.49799240465742306, 0.49799240465742306, 0.49799240465742306, 0.49799240465742306, 0.499366086249412, 0.4988905011505307, 0.4988905011505307, 0.4988905011505307, 0.4988905011505307, 0.4988905011505307, 0.4988905011505307, 0.4988905011505307, 0.4988905011505307, 0.4988905011505307, 0.4988905011505307, 0.4988905011505307, 0.4988905011505307, 0.4988905011505307, 0.4988905011505307, 0.4988905011505307, 0.4988905011505307, 0.4988905011505307, 0.4988905011505307, 0.4988905011505307, 0.4988905011505307, 0.4988905011505307, 0.49905758748028584, 0.49976874360679013, 0.49846096737069945, 0.49704319362076393, 0.4997127029662029, 0.49983542411990456, 0.4981813501297102, 0.49976650420821556, 0.49980269368356744, 0.49966842887624274, 0.49972595229151695, 0.49984899778079933, 0.49972595229151695, 0.49972595229151695, 0.49972595229151695, 0.49972595229151695, 0.4710939109658979, 0.4710939109658979, 0.49972595229151695, 0.4710939109658979, 0.49972595229151695, 0.49972595229151695, 0.49972595229151695, 0.49972595229151695, 0.49972595229151695, 0.49972595229151695, 0.4710939109658979, 0.4710939109658979, 0.49972595229151695, 0.49963311440842534, 0.49963311440842534, 0.4997366964882552, 0.49963311440842534, 0.4997366964882552, 0.49963311440842534, 0.49963311440842534, 0.49963311440842534, 0.49963311440842534, 0.49963311440842534, 0.49963311440842534, 0.49963311440842534, 0.49963311440842534, 0.49963311440842534, 0.49963311440842534, 0.49963311440842534, 0.49963311440842534, 0.49963311440842534, 0.49963311440842534, 0.49963311440842534, 0.49963311440842534, 0.49963311440842534, 0.49963311440842534, 0.49963311440842534, 0.49963311440842534, 0.49963311440842534, 0.49963311440842534, 0.49963311440842534, 0.49963311440842534, 0.49963311440842534, 0.49963311440842534, 0.4997845978155304, 0.5, 0.499801859472072, 0.4997834064595328, 0.49979333278644505, 0.49948436385497513, 0.4997841392160002, 0.49978754367185135, 0.4997797426771962, 0.4997841392160002, 0.49979708266964407, 0.4997841392160002, 0.4998045659511072, 0.49980528661485374, 0.49977382601710335, 0.499838787445282, 0.499838787445282, 0.499838787445282, 0.49986169157152077, 0.49984116893548175, 0.49983632614950424, 0.49979292234039335, 0.4997015429313669, 0.4596215669475301, 0.4998421433666604, 0.4997632659853389, 0.4997918259913907, 0.4997918259913907, 0.4997918259913907, 0.4997918259913907, 0.4997918259913907, 0.4997918259913907, 0.4997918259913907, 0.4997918259913907, 0.4997918259913907, 0.4997918259913907, 0.4997918259913907, 0.4998384044352791, 0.4998384044352791, 0.4998766404487666, 0.49967314158763215, 0.49984081693382854, 0.49983486946567346, 0.46333218697417977, 0.4998159011883251, 0.49976104041898756, 0.498347974101333, 0.498347974101333, 0.498347974101333, 0.45958155386580196, 0.49965152657920664, 0.49965152657920664, 0.49984238437826917, 0.49984238437826917, 0.4995409032551389, 0.4997511069149041, 0.4997511069149041, 0.4997511069149041, 0.47111547207165827, 0.4997511069149041, 0.4997566806037312, 0.49982556538850037, 0.49972124231601284, 0.3996508315060915, 0.4997049330061233, 0.499836595211949, 0.499836595211949, 0.499836595211949, 0.499836595211949, 0.499836595211949, 0.3026256012364151, 0.3019974208653054, 0.5, 0.5, 0.5, 0.5, 0.3996508315060915, 0.3996508315060915, 0.299301663012183, 0.299301663012183, 0.299301663012183, 0.3701433108647727, 0.299301663012183, 0.299301663012183, 0.3996508315060915, 0.4426810085696552, 0.4576628372838232, 0.43497122137276134, 0.42306402771194235, 0.22653974421371806, 0.5, 0.5, 0.42854066270052893, 0.5, 0.5, 0.3988636644954237, 0.41347028496148425, 0.5, 0.5, 0.5, 0.5, 0.5, 0.5, 0.5, 0.5, 0.4423130126798034, 0.3846260253596068, 0.5, 0.3996508315060915, 0.299301663012183, 0.5, 0.28754840507136703, 0.5, 0.5, 0.09928329654452384, 0.3371943044864965, 0.5, 0.5, 0.5, 0.5, 0.5, 0.5, 0.5, 0.5, 0.5, 0.5, 0.5, 0.1582756415460879, 0.5, 0.5, 0.43193665935769926, 0.5, 0.5, 0.5, 0.5, 0.41291839086314874, 0.43786700858299143, 0.12431172910292365, 0.75, 1, 0.3446673315136618, 0.6665944688198443, 0.5, 0.509458889220873, 0.5031529630736243, 0.4375597865696027, 1.0, 0.22491270787652287, 0.25, 0.5, 0.5, 0.5, 0.5, 0.5, 0.5, 0.5, 0.5, 0.5, 0.5, 0.5, 0.5, 0.437566337649454, 0.48129411327764277, 0.375, 0.4121155706252825, 0.5, 1, 0.32585025207187707, 0.5, 0.5, 0.5, 0.5, 0.5, 0.5, 0.3564896225508587, 0.384676168996136, 0.3902394173322701, 0.3902394173322701, 0.3902394173322701, 0.3902394173322701, 0.3902394173322701, 0.43261911715501594, 0.5, 0.5, 0.3902394173322701, 0.5, 0.2841766388791438, 0.5, 0.3902394173322701, 0.5, 0.433239912292391, 0.49982044605030573, 0.4997084602931103, 0.49978214734672616, 0.4998035059930347, 0.5, 0.5, 0.5, 0.5, 0.5, 0.5, 0.5, 0.5, 0.5, 0.5, 0.4331005543373943, 0.4777001847791314, 0.4997942115099132, 0.4998013736643886, 0.4995409032551389, 0.49976256932223667, 0.49976256932223667, 0.4993479861619153, 0.2401954297496327, 0.3631778434214213, 0.5, 0.5, 0.19982541575304574, 0.5, 0.4210492955892661, 0.5, 0.5, 0.5, 0.5, 0.299301663012183, 0.5, 0.5, 0.5, 0.5, 0.5, 0.5, 0.5, 0.4634120741709566, 0.4369463238490362, 0.4634120741709566, 0.4520025043312744, 0.45267859582344344, 0.32631190362630114, 0.5, 0.5, 0.499792514646025, 0.5, 0.5, 0.5, 0.5, 0.5, 0.5, 0.299301663012183, 0.5, 0.5, 0.5, 0.5, 0.5, 0.5, 0.5, 0.5, 0.0, 0.5, 0.5, 0.2827911749729226, 0.28888967142212135, 0.2958099780730977, 0.39790498903654886, 0.5, 0.0, 0.0, 0.17811386042601754, 0.6712939825037977, 0.5, 0.45774288719532913, 0.4238054632710747, 0.4347222711305493, 0.3999544632793775, 0.3333333333333333, 0.48888908452219704, 1, 0.2958099780730977, 0.5, 0.3888888888888889, 0.5, 0.0, 0.5, 0.5, 0.5, 1.0, 0.5, 0.5, 0.5, 0.5, 0.5, 0.5, 0.5, 0.5, 0.5, 0.5, 0.5, 0.5, 0.5, 0.5, 0.5, 0.5, 0.5, 0.5, 0.5, 0.5, 0.5, 0.5, 0.5, 0.5, 0.5, 0.5, 0.5, 0.5, 0.5, 0.5, 0.5, 0.5, 0.5, 0.5, 0.5, 0.5, 0.5, 0.5, 0.5, 0.5, 0.3996508315060915, 0.5, 0.5, 0.5, 0.5, 0.5, 0.5, 0.5, 0.5, 0.5, 0.5, 0.5, 0.5, 0.22111823768713995, 0.28554812060392504, 0.433239912292391, 0.4822913232069573, 0.48819421547130487, 0.5, 0.5, 0.5, 0.47638843094260974, 0.4940971077356524, 0.47048553867826215, 0.468026000234784, 0.44982541575304574, 0.5, 0.4690098156121753, 0.3901636378691968, 0.3901636378691968, 0.5, 0.5, 0.5, 0.4387346887638038, 0.44511970866613504, 0.5, 0.44511970866613504, 1.0, 0.5, 0.5, 0.5, 0.5, 0.299301663012183, 0.5, 0.75, 0.41415394401227135, 0.5, 0.27648080669739206, 0.5, 0.5, 0.0, 0.5, 0.3996508315060915, 0.5, 0.5, 0.5, 1, 1.0, 0.5, 0.25, 0.5, 0.5, 0.5, 0.5, 0.3610324370472132, 0.5, 0.17811386042601754, 0.33905693021300876, 0.5, 0.5, 0.5, 0.5, 0.5, 0.5, 0.5, 0.5, 0.623068878608153, 0.5, 0.5, 0.5, 0.5, 0.5, 0.5, 0.5, 0.5, 0.5, 0.44923114125056496, 0.5, 0.5, 0.5, 0.29275109288326145, 0.5, 0.5, 0.5, 0.49000636201994735, 0.5, 0.5, 0.5, 0.5, 0, 0.5, 0.5, 0.5, 0.5, 0, 0.5, 0.5, 0.5, 0.5, 0.5, 0.5, 0.5, 0.5, 0.5, 0.5, 0.24673071363630658, 0.29096982515415487, 0.5, 0.5, 0.5, 0.3631778434214213, 0.5, 0.5, 0.5, 0.5, 0.5, 0.5, 0.5, 0.5, 0.5, 0.5, 0.5, 0.5, 0.5, 0.5, 0.5, 0.5, 0.5, 0.5, 0.5, 0.5, 0.5, 0.5, 0.5, 0.5, 0.5, 0.5, 0.5, 0.5, 0.5, 0.5, 0.4800127240398947, 0.5, 0.5, 0.5, 0.5, 0.299301663012183, 0.299301663012183, 0.299301663012183, 0.2876224246689729, 0.2876224246689729, 0.2876224246689729, 0.299301663012183, 0.3694882534766981, 0.5, 0.5, 0.409175791619923, 0.409175791619923, 0.5, 0.5, 0.5, 0.5, 0.5, 0.5, 0.5, 0.5, 0.5, 0.5, 0.5, 0.5, 0.5, 0.4978966990671174, 0.48187293796242686, 0.5, 0.5, 0.5, 0.5, 0.4713405042848276, 0.49714545368579, 0.5, 0.5, 0.5, 0.5, 0.5, 0.5, 0.5, 0.5, 0.5, 0.5, 0.5, 0.5, 0.5, 0.5, 0.5, 0.5, 0.5, 0.5, 0.5, 0.5, 0.5, 0.7417074027658301, 0.1582756415460879, 0.5, 0.38013812016187976, 0.38013812016187976, 0.5, 0.5, 0.5, 0.5, 0.5, 0.5, 0.5, 0.5, 0.5, 0.5, 0.2623872879851105, 0.5, 0.5, 0.5, 0.5, 0.5, 0.5, 0.5, 0.5, 0.5, 0.5, 0.5, 0.25, 0.5, 0.5, 0.5, 0.5, 0.5, 0.5, 0.5, 0.5, 0.5, 0.5, 0.5, 0.5, 0.5, 0.5, 0.5, 0.5, 0.5, 0.5, 0.5, 0.5, 0.5, 0.5, 0.5, 0.5, 0.5, 0.5, 0.5, 0.5, 0.5, 0.5, 0.5, 0.5, 0.5, 0.5, 0.5, 0.5, 0.5, 0.5, 0.5, 0.5, 0.5, 0.5, 0.5, 0.5, 0.5, 0.5, 0.5, 0.5, 0.5, 0.5, 0.5, 0.5, 0.5, 0.5, 0.5, 0.5, 0.5, 0.5, 0.5, 0.25, 0.5, 0.5, 0.5, 0.5, 0.5, 0.5, 0.5, 0.5, 0.5, 0.5, 0.5, 0.5, 0.5, 0.5, 0.5, 0.5, 0.5, 0.5, 0.5, 0.5, 0.5, 0.5, 0.5, 0.5, 0.5, 0.5, 0.5, 0.5, 0.5, 0.5, 0.5, 0.0, 0.5, 0.5, 0.5, 0.5, 0.5, 0.5, 0.5, 0.5, 0.5, 0.5, 0.5, 0.5, 0.5, 0.5, 0.5, 0.5, 0.5, 0.5, 0.5, 0.5, 0.5, 0.5, 0.5, 0.5, 0.5, 0.5, 0.5, 0.5, 0.5, 0.5, 0.5, 0.5, 0.5, 0.5]\n"
     ]
    }
   ],
   "source": [
    "print xPoints"
   ]
  },
  {
   "cell_type": "code",
   "execution_count": 45,
   "metadata": {
    "collapsed": true
   },
   "outputs": [],
   "source": [
    "def plot_degree_distribution():\n",
    "    \"\"\"\n",
    "    Code for HW1 Q1.1\n",
    "    \"\"\"\n",
    "    global LinkGraph\n",
    "    plt.title(\"Node Degree Distribution\")\n",
    "    plt.xlabel(\"Polarity\")\n",
    "    plt.ylabel(\"Average polarity of neighbors\")\n",
    "    plt.scatter(xPoints,yPoints)\n",
    "    plt.show()\n"
   ]
  },
  {
   "cell_type": "code",
   "execution_count": 46,
   "metadata": {},
   "outputs": [
    {
     "data": {
      "image/png": "[encoded data removed]",
      "text/plain": [
       "<matplotlib.figure.Figure at 0x10e88e610>"
      ]
     },
     "metadata": {},
     "output_type": "display_data"
    }
   ],
   "source": [
    "import matplotlib.pyplot as plt\n",
    "plot_degree_distribution()"
   ]
  },
  {
   "cell_type": "code",
   "execution_count": 55,
   "metadata": {},
   "outputs": [
    {
     "name": "stdout",
     "output_type": "stream",
     "text": [
      "497\n",
      "24147\n"
     ]
    }
   ],
   "source": [
    "from operator import itemgetter\n",
    "import operator \n",
    "def getDataPointsToPlot(Graph):\n",
    "    \"\"\"\n",
    "    :param - Graph: snap.PUNGraph object representing an undirected graph\n",
    "\n",
    "    return values:\n",
    "    X: list of degrees\n",
    "    Y: list of frequencies: Y[i] = fraction of nodes with degree X[i]\n",
    "    \"\"\"\n",
    "    ############################################################################\n",
    "    # TODO: Your code here!\n",
    "    X, Y = [], []\n",
    "\n",
    "    frequencies = {}\n",
    "    for node in Graph.Nodes():\n",
    "        count = node.GetDeg() \n",
    "        if count not in frequencies:\n",
    "            frequencies[count] = 1\n",
    "        else:\n",
    "            frequencies[count] += 1\n",
    "    curr_count = 0\n",
    "    print len(frequencies)\n",
    "    max_number = max(frequencies.iteritems(), key=operator.itemgetter(0))[0]\n",
    "    print max_number\n",
    "    cumulative_counts = []\n",
    "    for i in range(max_number): \n",
    "        if i in frequencies: \n",
    "            curr_count += frequencies[i] * i\n",
    "        cumulative_counts.append(curr_count)\n",
    "    \n",
    "    return cumulative_counts\n",
    "\n",
    "cumulative_counts = getDataPointsToPlot(LinkGraph)\n"
   ]
  },
  {
   "cell_type": "code",
   "execution_count": 59,
   "metadata": {},
   "outputs": [
    {
     "data": {
      "text/plain": [
       "[<matplotlib.lines.Line2D at 0x15520a490>]"
      ]
     },
     "execution_count": 59,
     "metadata": {},
     "output_type": "execute_result"
    },
    {
     "data": {
      "image/png": "[encoded data removed]",
      "text/plain": [
       "<matplotlib.figure.Figure at 0x1547b6590>"
      ]
     },
     "metadata": {},
     "output_type": "display_data"
    }
   ],
   "source": [
    "plt.title(\"Cumulative Node Degree Distribution\")\n",
    "plt.xlabel(\"Node Degree\")\n",
    "plt.ylabel(\"Cumulative Count\")\n",
    "plt.plot(range(len(cumulative_counts)), cumulative_counts)"
   ]
  },
  {
   "cell_type": "code",
   "execution_count": 61,
   "metadata": {},
   "outputs": [
    {
     "data": {
      "text/plain": [
       "344"
      ]
     },
     "execution_count": 61,
     "metadata": {},
     "output_type": "execute_result"
    }
   ],
   "source": [
    "DomainCounts['dailynews.com']"
   ]
  },
  {
   "cell_type": "code",
   "execution_count": 64,
   "metadata": {
    "collapsed": true
   },
   "outputs": [],
   "source": [
    "top_news_sources = ['abcnews.go.com', 'cbsnews.com', 'cnn.com', 'foxnews.com', 'msnbc.com', 'nytimes.com', 'latimes.com',\\\n",
    "                   'usatoday.com', 'wsj.com', 'washingtonpost.com', 'bloomberg.com', 'vice.com', 'huffingtonpost.com', 'npr.org']"
   ]
  },
  {
   "cell_type": "code",
   "execution_count": 96,
   "metadata": {},
   "outputs": [
    {
     "data": {
      "text/plain": [
       "14"
      ]
     },
     "execution_count": 96,
     "metadata": {},
     "output_type": "execute_result"
    }
   ],
   "source": [
    "len(top_news_sources)"
   ]
  },
  {
   "cell_type": "code",
   "execution_count": null,
   "metadata": {
    "collapsed": true
   },
   "outputs": [],
   "source": [
    "conservative = ['foxnews.com', 'washingtonpost.com', 'theguardian.com', 'nypost.com', 'bloomberg.com', '']\n",
    "liberal = ['nytimes.com', 'theatlantic.com', 'washingtonpost.com', 'huffingtonpost.com', 'vice.com', 'sfgate.com', '']\n",
    "neutral = ['usatoday.com', 'cnn.com', 'bbc.com']"
   ]
  },
  {
   "cell_type": "code",
   "execution_count": 48,
   "metadata": {
    "collapsed": true
   },
   "outputs": [],
   "source": [
    "def printNeighborsAtHop(url, hops):\n",
    "    node_id = domainToNodeID[url]\n",
    "    NodeVec = snap.TIntV()\n",
    "    snap.GetNodesAtHop(LinkGraph, node_id, hops, NodeVec, True)\n",
    "    print NodeVec.Len()\n",
    "    for item in NodeVec:\n",
    "        domain = IDtoDomain[item]\n",
    "        if domain in TopDomains:\n",
    "            print domain"
   ]
  },
  {
   "cell_type": "code",
   "execution_count": 70,
   "metadata": {},
   "outputs": [
    {
     "name": "stdout",
     "output_type": "stream",
     "text": [
      "[('abcnews.go.com', 2), ('cbsnews.com', 1), ('cnn.com', 1), ('foxnews.com', 0), ('msnbc.com', 2), ('nytimes.com', 1), ('latimes.com', 1), ('usatoday.com', 1), ('wsj.com', 1), ('washingtonpost.com', 1), ('bloomberg.com', 1), ('vice.com', 2), ('huffingtonpost.com', 1), ('npr.org', 2)]\n"
     ]
    }
   ],
   "source": [
    "start_id = domainToNodeID[\"foxnews.com\"]\n",
    "results = []\n",
    "\n",
    "for news_source in top_news_sources: \n",
    "    node_id = domainToNodeID[news_source]\n",
    "    Length = snap.GetShortPath(LinkGraph, start_id, node_id)\n",
    "    results.append((news_source, Length))\n",
    "print results"
   ]
  },
  {
   "cell_type": "code",
   "execution_count": 71,
   "metadata": {},
   "outputs": [
    {
     "name": "stdout",
     "output_type": "stream",
     "text": [
      "[('abcnews.go.com', 1), ('cbsnews.com', 1), ('cnn.com', 1), ('foxnews.com', 1), ('msnbc.com', 1), ('nytimes.com', 0), ('latimes.com', 1), ('usatoday.com', 1), ('wsj.com', 1), ('washingtonpost.com', 1), ('bloomberg.com', 1), ('vice.com', 1), ('huffingtonpost.com', 1), ('npr.org', 1)]\n"
     ]
    }
   ],
   "source": [
    "start_id = domainToNodeID[\"nytimes.com\"]\n",
    "results = []\n",
    "\n",
    "for news_source in top_news_sources: \n",
    "    node_id = domainToNodeID[news_source]\n",
    "    Length = snap.GetShortPath(LinkGraph, start_id, node_id)\n",
    "    results.append((news_source, Length))\n",
    "print results"
   ]
  },
  {
   "cell_type": "code",
   "execution_count": 99,
   "metadata": {
    "collapsed": true
   },
   "outputs": [],
   "source": [
    "farthest_distance = -1\n",
    "max_pair = ()\n",
    "results = []\n",
    "\n",
    "for news_source1 in top_news_sources:\n",
    "    for news_source2 in top_news_sources: \n",
    "        if news_source1==news_source2:\n",
    "            continue\n",
    "        node_id1 = domainToNodeID[news_source1]\n",
    "        node_id2 = domainToNodeID[news_source2]\n",
    "        Length1 = snap.GetShortPath(LinkGraph, node_id1, node_id2)\n",
    "        Length2 = snap.GetShortPath(LinkGraph, node_id2, node_id1)\n",
    "        distance = max(Length1, Length2)\n",
    "        results.append(((news_source1, news_source2), distance))"
   ]
  },
  {
   "cell_type": "code",
   "execution_count": 107,
   "metadata": {},
   "outputs": [
    {
     "name": "stdout",
     "output_type": "stream",
     "text": [
      "91\n"
     ]
    }
   ],
   "source": [
    "count = 0\n",
    "for i in range(14):\n",
    "    count += i\n",
    "print count"
   ]
  },
  {
   "cell_type": "code",
   "execution_count": 102,
   "metadata": {
    "collapsed": true
   },
   "outputs": [],
   "source": [
    "count1 = 0\n",
    "count2 = 0\n",
    "count3 = 0\n",
    "\n",
    "for result in results:\n",
    "    if result[1] == 1:\n",
    "        count1 += 1\n",
    "    elif result[1] == 2:\n",
    "        count2 += 1\n",
    "    else:\n",
    "        count3 += 1\n",
    "    "
   ]
  },
  {
   "cell_type": "code",
   "execution_count": 104,
   "metadata": {},
   "outputs": [
    {
     "data": {
      "text/plain": [
       "[(('abcnews.go.com', 'cbsnews.com'), 2),\n",
       " (('abcnews.go.com', 'cnn.com'), 1),\n",
       " (('abcnews.go.com', 'foxnews.com'), 2),\n",
       " (('abcnews.go.com', 'msnbc.com'), 2),\n",
       " (('abcnews.go.com', 'nytimes.com'), 1),\n",
       " (('abcnews.go.com', 'latimes.com'), 2),\n",
       " (('abcnews.go.com', 'usatoday.com'), 1),\n",
       " (('abcnews.go.com', 'wsj.com'), 2),\n",
       " (('abcnews.go.com', 'washingtonpost.com'), 1),\n",
       " (('abcnews.go.com', 'bloomberg.com'), 2),\n",
       " (('abcnews.go.com', 'vice.com'), 2),\n",
       " (('abcnews.go.com', 'huffingtonpost.com'), 1),\n",
       " (('abcnews.go.com', 'npr.org'), 1),\n",
       " (('cbsnews.com', 'abcnews.go.com'), 2),\n",
       " (('cbsnews.com', 'cnn.com'), 1),\n",
       " (('cbsnews.com', 'foxnews.com'), 1),\n",
       " (('cbsnews.com', 'msnbc.com'), 2),\n",
       " (('cbsnews.com', 'nytimes.com'), 1),\n",
       " (('cbsnews.com', 'latimes.com'), 1),\n",
       " (('cbsnews.com', 'usatoday.com'), 1),\n",
       " (('cbsnews.com', 'wsj.com'), 1),\n",
       " (('cbsnews.com', 'washingtonpost.com'), 1),\n",
       " (('cbsnews.com', 'bloomberg.com'), 2),\n",
       " (('cbsnews.com', 'vice.com'), 2),\n",
       " (('cbsnews.com', 'huffingtonpost.com'), 1),\n",
       " (('cbsnews.com', 'npr.org'), 1),\n",
       " (('cnn.com', 'abcnews.go.com'), 1),\n",
       " (('cnn.com', 'cbsnews.com'), 1),\n",
       " (('cnn.com', 'foxnews.com'), 1),\n",
       " (('cnn.com', 'msnbc.com'), 1),\n",
       " (('cnn.com', 'nytimes.com'), 1),\n",
       " (('cnn.com', 'latimes.com'), 1),\n",
       " (('cnn.com', 'usatoday.com'), 1),\n",
       " (('cnn.com', 'wsj.com'), 1),\n",
       " (('cnn.com', 'washingtonpost.com'), 1),\n",
       " (('cnn.com', 'bloomberg.com'), 1),\n",
       " (('cnn.com', 'vice.com'), 1),\n",
       " (('cnn.com', 'huffingtonpost.com'), 1),\n",
       " (('cnn.com', 'npr.org'), 1),\n",
       " (('foxnews.com', 'abcnews.go.com'), 2),\n",
       " (('foxnews.com', 'cbsnews.com'), 1),\n",
       " (('foxnews.com', 'cnn.com'), 1),\n",
       " (('foxnews.com', 'msnbc.com'), 2),\n",
       " (('foxnews.com', 'nytimes.com'), 1),\n",
       " (('foxnews.com', 'latimes.com'), 1),\n",
       " (('foxnews.com', 'usatoday.com'), 1),\n",
       " (('foxnews.com', 'wsj.com'), 1),\n",
       " (('foxnews.com', 'washingtonpost.com'), 1),\n",
       " (('foxnews.com', 'bloomberg.com'), 1),\n",
       " (('foxnews.com', 'vice.com'), 2),\n",
       " (('foxnews.com', 'huffingtonpost.com'), 1),\n",
       " (('foxnews.com', 'npr.org'), 2),\n",
       " (('msnbc.com', 'abcnews.go.com'), 2),\n",
       " (('msnbc.com', 'cbsnews.com'), 2),\n",
       " (('msnbc.com', 'cnn.com'), 1),\n",
       " (('msnbc.com', 'foxnews.com'), 2),\n",
       " (('msnbc.com', 'nytimes.com'), 1),\n",
       " (('msnbc.com', 'latimes.com'), 2),\n",
       " (('msnbc.com', 'usatoday.com'), 1),\n",
       " (('msnbc.com', 'wsj.com'), 1),\n",
       " (('msnbc.com', 'washingtonpost.com'), 1),\n",
       " (('msnbc.com', 'bloomberg.com'), 2),\n",
       " (('msnbc.com', 'vice.com'), 2),\n",
       " (('msnbc.com', 'huffingtonpost.com'), 1),\n",
       " (('msnbc.com', 'npr.org'), 1),\n",
       " (('nytimes.com', 'abcnews.go.com'), 1),\n",
       " (('nytimes.com', 'cbsnews.com'), 1),\n",
       " (('nytimes.com', 'cnn.com'), 1),\n",
       " (('nytimes.com', 'foxnews.com'), 1),\n",
       " (('nytimes.com', 'msnbc.com'), 1),\n",
       " (('nytimes.com', 'latimes.com'), 1),\n",
       " (('nytimes.com', 'usatoday.com'), 1),\n",
       " (('nytimes.com', 'wsj.com'), 1),\n",
       " (('nytimes.com', 'washingtonpost.com'), 1),\n",
       " (('nytimes.com', 'bloomberg.com'), 1),\n",
       " (('nytimes.com', 'vice.com'), 1),\n",
       " (('nytimes.com', 'huffingtonpost.com'), 1),\n",
       " (('nytimes.com', 'npr.org'), 1),\n",
       " (('latimes.com', 'abcnews.go.com'), 2),\n",
       " (('latimes.com', 'cbsnews.com'), 1),\n",
       " (('latimes.com', 'cnn.com'), 1),\n",
       " (('latimes.com', 'foxnews.com'), 1),\n",
       " (('latimes.com', 'msnbc.com'), 2),\n",
       " (('latimes.com', 'nytimes.com'), 1),\n",
       " (('latimes.com', 'usatoday.com'), 2),\n",
       " (('latimes.com', 'wsj.com'), 2),\n",
       " (('latimes.com', 'washingtonpost.com'), 1),\n",
       " (('latimes.com', 'bloomberg.com'), 1),\n",
       " (('latimes.com', 'vice.com'), 1),\n",
       " (('latimes.com', 'huffingtonpost.com'), 1),\n",
       " (('latimes.com', 'npr.org'), 1),\n",
       " (('usatoday.com', 'abcnews.go.com'), 1),\n",
       " (('usatoday.com', 'cbsnews.com'), 1),\n",
       " (('usatoday.com', 'cnn.com'), 1),\n",
       " (('usatoday.com', 'foxnews.com'), 1),\n",
       " (('usatoday.com', 'msnbc.com'), 1),\n",
       " (('usatoday.com', 'nytimes.com'), 1),\n",
       " (('usatoday.com', 'latimes.com'), 2),\n",
       " (('usatoday.com', 'wsj.com'), 1),\n",
       " (('usatoday.com', 'washingtonpost.com'), 1),\n",
       " (('usatoday.com', 'bloomberg.com'), 1),\n",
       " (('usatoday.com', 'vice.com'), 1),\n",
       " (('usatoday.com', 'huffingtonpost.com'), 1),\n",
       " (('usatoday.com', 'npr.org'), 1),\n",
       " (('wsj.com', 'abcnews.go.com'), 2),\n",
       " (('wsj.com', 'cbsnews.com'), 1),\n",
       " (('wsj.com', 'cnn.com'), 1),\n",
       " (('wsj.com', 'foxnews.com'), 1),\n",
       " (('wsj.com', 'msnbc.com'), 1),\n",
       " (('wsj.com', 'nytimes.com'), 1),\n",
       " (('wsj.com', 'latimes.com'), 2),\n",
       " (('wsj.com', 'usatoday.com'), 1),\n",
       " (('wsj.com', 'washingtonpost.com'), 1),\n",
       " (('wsj.com', 'bloomberg.com'), 2),\n",
       " (('wsj.com', 'vice.com'), 1),\n",
       " (('wsj.com', 'huffingtonpost.com'), 1),\n",
       " (('wsj.com', 'npr.org'), 2),\n",
       " (('washingtonpost.com', 'abcnews.go.com'), 1),\n",
       " (('washingtonpost.com', 'cbsnews.com'), 1),\n",
       " (('washingtonpost.com', 'cnn.com'), 1),\n",
       " (('washingtonpost.com', 'foxnews.com'), 1),\n",
       " (('washingtonpost.com', 'msnbc.com'), 1),\n",
       " (('washingtonpost.com', 'nytimes.com'), 1),\n",
       " (('washingtonpost.com', 'latimes.com'), 1),\n",
       " (('washingtonpost.com', 'usatoday.com'), 1),\n",
       " (('washingtonpost.com', 'wsj.com'), 1),\n",
       " (('washingtonpost.com', 'bloomberg.com'), 1),\n",
       " (('washingtonpost.com', 'vice.com'), 1),\n",
       " (('washingtonpost.com', 'huffingtonpost.com'), 1),\n",
       " (('washingtonpost.com', 'npr.org'), 1),\n",
       " (('bloomberg.com', 'abcnews.go.com'), 2),\n",
       " (('bloomberg.com', 'cbsnews.com'), 2),\n",
       " (('bloomberg.com', 'cnn.com'), 1),\n",
       " (('bloomberg.com', 'foxnews.com'), 1),\n",
       " (('bloomberg.com', 'msnbc.com'), 2),\n",
       " (('bloomberg.com', 'nytimes.com'), 1),\n",
       " (('bloomberg.com', 'latimes.com'), 1),\n",
       " (('bloomberg.com', 'usatoday.com'), 1),\n",
       " (('bloomberg.com', 'wsj.com'), 2),\n",
       " (('bloomberg.com', 'washingtonpost.com'), 1),\n",
       " (('bloomberg.com', 'vice.com'), 1),\n",
       " (('bloomberg.com', 'huffingtonpost.com'), 1),\n",
       " (('bloomberg.com', 'npr.org'), 1),\n",
       " (('vice.com', 'abcnews.go.com'), 2),\n",
       " (('vice.com', 'cbsnews.com'), 2),\n",
       " (('vice.com', 'cnn.com'), 1),\n",
       " (('vice.com', 'foxnews.com'), 2),\n",
       " (('vice.com', 'msnbc.com'), 2),\n",
       " (('vice.com', 'nytimes.com'), 1),\n",
       " (('vice.com', 'latimes.com'), 1),\n",
       " (('vice.com', 'usatoday.com'), 1),\n",
       " (('vice.com', 'wsj.com'), 1),\n",
       " (('vice.com', 'washingtonpost.com'), 1),\n",
       " (('vice.com', 'bloomberg.com'), 1),\n",
       " (('vice.com', 'huffingtonpost.com'), 1),\n",
       " (('vice.com', 'npr.org'), 2),\n",
       " (('huffingtonpost.com', 'abcnews.go.com'), 1),\n",
       " (('huffingtonpost.com', 'cbsnews.com'), 1),\n",
       " (('huffingtonpost.com', 'cnn.com'), 1),\n",
       " (('huffingtonpost.com', 'foxnews.com'), 1),\n",
       " (('huffingtonpost.com', 'msnbc.com'), 1),\n",
       " (('huffingtonpost.com', 'nytimes.com'), 1),\n",
       " (('huffingtonpost.com', 'latimes.com'), 1),\n",
       " (('huffingtonpost.com', 'usatoday.com'), 1),\n",
       " (('huffingtonpost.com', 'wsj.com'), 1),\n",
       " (('huffingtonpost.com', 'washingtonpost.com'), 1),\n",
       " (('huffingtonpost.com', 'bloomberg.com'), 1),\n",
       " (('huffingtonpost.com', 'vice.com'), 1),\n",
       " (('huffingtonpost.com', 'npr.org'), 1),\n",
       " (('npr.org', 'abcnews.go.com'), 1),\n",
       " (('npr.org', 'cbsnews.com'), 1),\n",
       " (('npr.org', 'cnn.com'), 1),\n",
       " (('npr.org', 'foxnews.com'), 2),\n",
       " (('npr.org', 'msnbc.com'), 1),\n",
       " (('npr.org', 'nytimes.com'), 1),\n",
       " (('npr.org', 'latimes.com'), 1),\n",
       " (('npr.org', 'usatoday.com'), 1),\n",
       " (('npr.org', 'wsj.com'), 2),\n",
       " (('npr.org', 'washingtonpost.com'), 1),\n",
       " (('npr.org', 'bloomberg.com'), 1),\n",
       " (('npr.org', 'vice.com'), 2),\n",
       " (('npr.org', 'huffingtonpost.com'), 1)]"
      ]
     },
     "execution_count": 104,
     "metadata": {},
     "output_type": "execute_result"
    }
   ],
   "source": [
    "results"
   ]
  },
  {
   "cell_type": "code",
   "execution_count": null,
   "metadata": {
    "collapsed": true
   },
   "outputs": [],
   "source": [
    "farthest_distance = -1\n",
    "max_pair = ()\n",
    "common_neighbors = []\n",
    "\n",
    "for news_source1 in top_news_sources:\n",
    "    for news_source2 in top_news_sources: \n",
    "        if news_source1 == news_source2:\n",
    "            continue\n",
    "        node_id1 = domainToNodeID[news_source1]\n",
    "        node_id2 = domainToNodeID[news_source2]\n",
    "        Nbrs = snap.TIntV()\n",
    "        snap.GetCmnNbrs(LinkGraph, node_id1, node_id2, Nbrs)\n",
    "        \n",
    "        distance = Nbrs.Len()\n",
    "        \n",
    "        NodeVec = snap.TIntV()\n",
    "        snap.GetNodesAtHop(LinkGraph, node_id1, 1, NodeVec, False)\n",
    "        count1 = NodeVec.Len() \n",
    "        NodeVec = snap.TIntV()\n",
    "        snap.GetNodesAtHop(LinkGraph, node_id2, 1, NodeVec, False)\n",
    "        count2 = NodeVec.Len()\n",
    "        denominator = min(count1, count2)        \n",
    "        common_neighbors.append(((news_source1, news_source2), distance/float(denominator)))"
   ]
  },
  {
   "cell_type": "code",
   "execution_count": 93,
   "metadata": {},
   "outputs": [
    {
     "data": {
      "text/plain": [
       "[(('abcnews.go.com', 'cbsnews.com'), 0.3514644351464435),\n",
       " (('abcnews.go.com', 'cnn.com'), 0.4726962457337884),\n",
       " (('abcnews.go.com', 'foxnews.com'), 0.2883959044368601),\n",
       " (('abcnews.go.com', 'msnbc.com'), 0.4117647058823529),\n",
       " (('abcnews.go.com', 'nytimes.com'), 0.5665529010238908),\n",
       " (('abcnews.go.com', 'latimes.com'), 0.31399317406143346),\n",
       " (('abcnews.go.com', 'usatoday.com'), 0.3703071672354949),\n",
       " (('abcnews.go.com', 'wsj.com'), 0.3447098976109215),\n",
       " (('abcnews.go.com', 'washingtonpost.com'), 0.5546075085324232),\n",
       " (('abcnews.go.com', 'bloomberg.com'), 0.30204778156996587),\n",
       " (('abcnews.go.com', 'vice.com'), 0.18592964824120603),\n",
       " (('abcnews.go.com', 'huffingtonpost.com'), 0.40955631399317405),\n",
       " (('abcnews.go.com', 'npr.org'), 0.27474402730375425),\n",
       " (('cbsnews.com', 'abcnews.go.com'), 0.3514644351464435),\n",
       " (('cbsnews.com', 'cnn.com'), 0.4560669456066946),\n",
       " (('cbsnews.com', 'foxnews.com'), 0.29916317991631797),\n",
       " (('cbsnews.com', 'msnbc.com'), 0.36764705882352944),\n",
       " (('cbsnews.com', 'nytimes.com'), 0.5774058577405857),\n",
       " (('cbsnews.com', 'latimes.com'), 0.3179916317991632),\n",
       " (('cbsnews.com', 'usatoday.com'), 0.39330543933054396),\n",
       " (('cbsnews.com', 'wsj.com'), 0.34518828451882844),\n",
       " (('cbsnews.com', 'washingtonpost.com'), 0.5271966527196653),\n",
       " (('cbsnews.com', 'bloomberg.com'), 0.3158995815899582),\n",
       " (('cbsnews.com', 'vice.com'), 0.19597989949748743),\n",
       " (('cbsnews.com', 'huffingtonpost.com'), 0.41631799163179917),\n",
       " (('cbsnews.com', 'npr.org'), 0.2824267782426778),\n",
       " (('cnn.com', 'abcnews.go.com'), 0.4726962457337884),\n",
       " (('cnn.com', 'cbsnews.com'), 0.4560669456066946),\n",
       " (('cnn.com', 'foxnews.com'), 0.3294964028776978),\n",
       " (('cnn.com', 'msnbc.com'), 0.5220588235294118),\n",
       " (('cnn.com', 'nytimes.com'), 0.5043936731107206),\n",
       " (('cnn.com', 'latimes.com'), 0.33292831105710813),\n",
       " (('cnn.com', 'usatoday.com'), 0.3673469387755102),\n",
       " (('cnn.com', 'wsj.com'), 0.3090507726269316),\n",
       " (('cnn.com', 'washingtonpost.com'), 0.4806678383128295),\n",
       " (('cnn.com', 'bloomberg.com'), 0.2958380202474691),\n",
       " (('cnn.com', 'vice.com'), 0.2964824120603015),\n",
       " (('cnn.com', 'huffingtonpost.com'), 0.3189806678383128),\n",
       " (('cnn.com', 'npr.org'), 0.26632653061224487),\n",
       " (('foxnews.com', 'abcnews.go.com'), 0.2883959044368601),\n",
       " (('foxnews.com', 'cbsnews.com'), 0.29916317991631797),\n",
       " (('foxnews.com', 'cnn.com'), 0.3294964028776978),\n",
       " (('foxnews.com', 'msnbc.com'), 0.375),\n",
       " (('foxnews.com', 'nytimes.com'), 0.4273381294964029),\n",
       " (('foxnews.com', 'latimes.com'), 0.22877697841726619),\n",
       " (('foxnews.com', 'usatoday.com'), 0.2489208633093525),\n",
       " (('foxnews.com', 'wsj.com'), 0.27050359712230215),\n",
       " (('foxnews.com', 'washingtonpost.com'), 0.40863309352517985),\n",
       " (('foxnews.com', 'bloomberg.com'), 0.22589928057553957),\n",
       " (('foxnews.com', 'vice.com'), 0.23115577889447236),\n",
       " (('foxnews.com', 'huffingtonpost.com'), 0.33237410071942447),\n",
       " (('foxnews.com', 'npr.org'), 0.218705035971223),\n",
       " (('msnbc.com', 'abcnews.go.com'), 0.4117647058823529),\n",
       " (('msnbc.com', 'cbsnews.com'), 0.36764705882352944),\n",
       " (('msnbc.com', 'cnn.com'), 0.5220588235294118),\n",
       " (('msnbc.com', 'foxnews.com'), 0.375),\n",
       " (('msnbc.com', 'nytimes.com'), 0.6985294117647058),\n",
       " (('msnbc.com', 'latimes.com'), 0.4411764705882353),\n",
       " (('msnbc.com', 'usatoday.com'), 0.4485294117647059),\n",
       " (('msnbc.com', 'wsj.com'), 0.36764705882352944),\n",
       " (('msnbc.com', 'washingtonpost.com'), 0.6029411764705882),\n",
       " (('msnbc.com', 'bloomberg.com'), 0.4411764705882353),\n",
       " (('msnbc.com', 'vice.com'), 0.1323529411764706),\n",
       " (('msnbc.com', 'huffingtonpost.com'), 0.6176470588235294),\n",
       " (('msnbc.com', 'npr.org'), 0.4632352941176471),\n",
       " (('nytimes.com', 'abcnews.go.com'), 0.5665529010238908),\n",
       " (('nytimes.com', 'cbsnews.com'), 0.5774058577405857),\n",
       " (('nytimes.com', 'cnn.com'), 0.5043936731107206),\n",
       " (('nytimes.com', 'foxnews.com'), 0.4273381294964029),\n",
       " (('nytimes.com', 'msnbc.com'), 0.6985294117647058),\n",
       " (('nytimes.com', 'latimes.com'), 0.4787363304981774),\n",
       " (('nytimes.com', 'usatoday.com'), 0.4954648526077097),\n",
       " (('nytimes.com', 'wsj.com'), 0.5275938189845475),\n",
       " (('nytimes.com', 'washingtonpost.com'), 0.43922369765066394),\n",
       " (('nytimes.com', 'bloomberg.com'), 0.45219347581552305),\n",
       " (('nytimes.com', 'vice.com'), 0.3869346733668342),\n",
       " (('nytimes.com', 'huffingtonpost.com'), 0.28705533596837945),\n",
       " (('nytimes.com', 'npr.org'), 0.42857142857142855),\n",
       " (('latimes.com', 'abcnews.go.com'), 0.31399317406143346),\n",
       " (('latimes.com', 'cbsnews.com'), 0.3179916317991632),\n",
       " (('latimes.com', 'cnn.com'), 0.33292831105710813),\n",
       " (('latimes.com', 'foxnews.com'), 0.22877697841726619),\n",
       " (('latimes.com', 'msnbc.com'), 0.4411764705882353),\n",
       " (('latimes.com', 'nytimes.com'), 0.4787363304981774),\n",
       " (('latimes.com', 'usatoday.com'), 0.275820170109356),\n",
       " (('latimes.com', 'wsj.com'), 0.29040097205346294),\n",
       " (('latimes.com', 'washingtonpost.com'), 0.4374240583232078),\n",
       " (('latimes.com', 'bloomberg.com'), 0.23815309842041313),\n",
       " (('latimes.com', 'vice.com'), 0.22613065326633167),\n",
       " (('latimes.com', 'huffingtonpost.com'), 0.33171324422843257),\n",
       " (('latimes.com', 'npr.org'), 0.25759416767922233),\n",
       " (('usatoday.com', 'abcnews.go.com'), 0.3703071672354949),\n",
       " (('usatoday.com', 'cbsnews.com'), 0.39330543933054396),\n",
       " (('usatoday.com', 'cnn.com'), 0.3673469387755102),\n",
       " (('usatoday.com', 'foxnews.com'), 0.2489208633093525),\n",
       " (('usatoday.com', 'msnbc.com'), 0.4485294117647059),\n",
       " (('usatoday.com', 'nytimes.com'), 0.4954648526077097),\n",
       " (('usatoday.com', 'latimes.com'), 0.275820170109356),\n",
       " (('usatoday.com', 'wsj.com'), 0.29591836734693877),\n",
       " (('usatoday.com', 'washingtonpost.com'), 0.445578231292517),\n",
       " (('usatoday.com', 'bloomberg.com'), 0.2585034013605442),\n",
       " (('usatoday.com', 'vice.com'), 0.23618090452261306),\n",
       " (('usatoday.com', 'huffingtonpost.com'), 0.31859410430839),\n",
       " (('usatoday.com', 'npr.org'), 0.2256235827664399),\n",
       " (('wsj.com', 'abcnews.go.com'), 0.3447098976109215),\n",
       " (('wsj.com', 'cbsnews.com'), 0.34518828451882844),\n",
       " (('wsj.com', 'cnn.com'), 0.3090507726269316),\n",
       " (('wsj.com', 'foxnews.com'), 0.27050359712230215),\n",
       " (('wsj.com', 'msnbc.com'), 0.36764705882352944),\n",
       " (('wsj.com', 'nytimes.com'), 0.5275938189845475),\n",
       " (('wsj.com', 'latimes.com'), 0.29040097205346294),\n",
       " (('wsj.com', 'usatoday.com'), 0.29591836734693877),\n",
       " (('wsj.com', 'washingtonpost.com'), 0.45253863134657835),\n",
       " (('wsj.com', 'bloomberg.com'), 0.35883014623172105),\n",
       " (('wsj.com', 'vice.com'), 0.2562814070351759),\n",
       " (('wsj.com', 'huffingtonpost.com'), 0.31015452538631344),\n",
       " (('wsj.com', 'npr.org'), 0.2306843267108168),\n",
       " (('washingtonpost.com', 'abcnews.go.com'), 0.5546075085324232),\n",
       " (('washingtonpost.com', 'cbsnews.com'), 0.5271966527196653),\n",
       " (('washingtonpost.com', 'cnn.com'), 0.4806678383128295),\n",
       " (('washingtonpost.com', 'foxnews.com'), 0.40863309352517985),\n",
       " (('washingtonpost.com', 'msnbc.com'), 0.6029411764705882),\n",
       " (('washingtonpost.com', 'nytimes.com'), 0.43922369765066394),\n",
       " (('washingtonpost.com', 'latimes.com'), 0.4374240583232078),\n",
       " (('washingtonpost.com', 'usatoday.com'), 0.445578231292517),\n",
       " (('washingtonpost.com', 'wsj.com'), 0.45253863134657835),\n",
       " (('washingtonpost.com', 'bloomberg.com'), 0.4026996625421822),\n",
       " (('washingtonpost.com', 'vice.com'), 0.39195979899497485),\n",
       " (('washingtonpost.com', 'huffingtonpost.com'), 0.2676200204290092),\n",
       " (('washingtonpost.com', 'npr.org'), 0.3816326530612245),\n",
       " (('bloomberg.com', 'abcnews.go.com'), 0.30204778156996587),\n",
       " (('bloomberg.com', 'cbsnews.com'), 0.3158995815899582),\n",
       " (('bloomberg.com', 'cnn.com'), 0.2958380202474691),\n",
       " (('bloomberg.com', 'foxnews.com'), 0.22589928057553957),\n",
       " (('bloomberg.com', 'msnbc.com'), 0.4411764705882353),\n",
       " (('bloomberg.com', 'nytimes.com'), 0.45219347581552305),\n",
       " (('bloomberg.com', 'latimes.com'), 0.23815309842041313),\n",
       " (('bloomberg.com', 'usatoday.com'), 0.2585034013605442),\n",
       " (('bloomberg.com', 'wsj.com'), 0.35883014623172105),\n",
       " (('bloomberg.com', 'washingtonpost.com'), 0.4026996625421822),\n",
       " (('bloomberg.com', 'vice.com'), 0.19597989949748743),\n",
       " (('bloomberg.com', 'huffingtonpost.com'), 0.2722159730033746),\n",
       " (('bloomberg.com', 'npr.org'), 0.20584926884139482),\n",
       " (('vice.com', 'abcnews.go.com'), 0.18592964824120603),\n",
       " (('vice.com', 'cbsnews.com'), 0.19597989949748743),\n",
       " (('vice.com', 'cnn.com'), 0.2964824120603015),\n",
       " (('vice.com', 'foxnews.com'), 0.23115577889447236),\n",
       " (('vice.com', 'msnbc.com'), 0.1323529411764706),\n",
       " (('vice.com', 'nytimes.com'), 0.3869346733668342),\n",
       " (('vice.com', 'latimes.com'), 0.22613065326633167),\n",
       " (('vice.com', 'usatoday.com'), 0.23618090452261306),\n",
       " (('vice.com', 'wsj.com'), 0.2562814070351759),\n",
       " (('vice.com', 'washingtonpost.com'), 0.39195979899497485),\n",
       " (('vice.com', 'bloomberg.com'), 0.19597989949748743),\n",
       " (('vice.com', 'huffingtonpost.com'), 0.3768844221105528),\n",
       " (('vice.com', 'npr.org'), 0.2663316582914573),\n",
       " (('huffingtonpost.com', 'abcnews.go.com'), 0.40955631399317405),\n",
       " (('huffingtonpost.com', 'cbsnews.com'), 0.41631799163179917),\n",
       " (('huffingtonpost.com', 'cnn.com'), 0.3189806678383128),\n",
       " (('huffingtonpost.com', 'foxnews.com'), 0.33237410071942447),\n",
       " (('huffingtonpost.com', 'msnbc.com'), 0.6176470588235294),\n",
       " (('huffingtonpost.com', 'nytimes.com'), 0.28705533596837945),\n",
       " (('huffingtonpost.com', 'latimes.com'), 0.33171324422843257),\n",
       " (('huffingtonpost.com', 'usatoday.com'), 0.31859410430839),\n",
       " (('huffingtonpost.com', 'wsj.com'), 0.31015452538631344),\n",
       " (('huffingtonpost.com', 'washingtonpost.com'), 0.2676200204290092),\n",
       " (('huffingtonpost.com', 'bloomberg.com'), 0.2722159730033746),\n",
       " (('huffingtonpost.com', 'vice.com'), 0.3768844221105528),\n",
       " (('huffingtonpost.com', 'npr.org'), 0.2979591836734694),\n",
       " (('npr.org', 'abcnews.go.com'), 0.27474402730375425),\n",
       " (('npr.org', 'cbsnews.com'), 0.2824267782426778),\n",
       " (('npr.org', 'cnn.com'), 0.26632653061224487),\n",
       " (('npr.org', 'foxnews.com'), 0.218705035971223),\n",
       " (('npr.org', 'msnbc.com'), 0.4632352941176471),\n",
       " (('npr.org', 'nytimes.com'), 0.42857142857142855),\n",
       " (('npr.org', 'latimes.com'), 0.25759416767922233),\n",
       " (('npr.org', 'usatoday.com'), 0.2256235827664399),\n",
       " (('npr.org', 'wsj.com'), 0.2306843267108168),\n",
       " (('npr.org', 'washingtonpost.com'), 0.3816326530612245),\n",
       " (('npr.org', 'bloomberg.com'), 0.20584926884139482),\n",
       " (('npr.org', 'vice.com'), 0.2663316582914573),\n",
       " (('npr.org', 'huffingtonpost.com'), 0.2979591836734694)]"
      ]
     },
     "execution_count": 93,
     "metadata": {},
     "output_type": "execute_result"
    }
   ],
   "source": [
    "common_neighbors"
   ]
  },
  {
   "cell_type": "code",
   "execution_count": 95,
   "metadata": {},
   "outputs": [
    {
     "name": "stdout",
     "output_type": "stream",
     "text": [
      "(('msnbc.com', 'nytimes.com'), 0.6985294117647058)\n",
      "(('msnbc.com', 'vice.com'), 0.1323529411764706)\n"
     ]
    }
   ],
   "source": [
    "from operator import itemgetter\n",
    "\n",
    "print max(common_neighbors,key=itemgetter(1))\n",
    "print min(common_neighbors,key=itemgetter(1))"
   ]
  },
  {
   "cell_type": "code",
   "execution_count": 113,
   "metadata": {
    "collapsed": true
   },
   "outputs": [],
   "source": [
    "farthest_distance = -1\n",
    "max_pair = ()\n",
    "common_neighbors = []\n",
    "\n",
    "for news_source1 in top_news_sources:\n",
    "    for news_source2 in top_news_sources: \n",
    "        if news_source1 == news_source2:\n",
    "            continue\n",
    "        node_id1 = domainToNodeID[news_source1]\n",
    "        node_id2 = domainToNodeID[news_source2]\n",
    "        \n",
    "        NodeVec1 = snap.TIntV()\n",
    "        snap.GetNodesAtHop(LinkGraph, node_id1, 2, NodeVec1, False)\n",
    "        count1 = NodeVec1.Len() \n",
    "        \n",
    "        NodeVec2 = snap.TIntV()\n",
    "        snap.GetNodesAtHop(LinkGraph, node_id2, 2, NodeVec2, False)\n",
    "        count2 = NodeVec2.Len()\n",
    "        \n",
    "        nodes_1 = []\n",
    "        nodes_2 = []\n",
    "        for item in NodeVec1:\n",
    "            nodes_1.append(item)\n",
    "        for item in NodeVec2: \n",
    "            nodes_2.append(item)\n",
    "            \n",
    "        intersection = len(list(set(nodes_1) & set(nodes_2)))\n",
    "        \n",
    "        denominator = min(len(nodes_1), len(nodes_2))        \n",
    "        common_neighbors.append(((news_source1, news_source2), intersection/float(denominator)))"
   ]
  },
  {
   "cell_type": "code",
   "execution_count": 114,
   "metadata": {},
   "outputs": [
    {
     "name": "stdout",
     "output_type": "stream",
     "text": [
      "(('msnbc.com', 'latimes.com'), 0.9641341980787048)\n",
      "(('wsj.com', 'npr.org'), 0.7527530641448392)\n"
     ]
    }
   ],
   "source": [
    "print max(common_neighbors,key=itemgetter(1))\n",
    "print min(common_neighbors,key=itemgetter(1))"
   ]
  },
  {
   "cell_type": "code",
   "execution_count": 121,
   "metadata": {},
   "outputs": [
    {
     "name": "stdout",
     "output_type": "stream",
     "text": [
      "(('msnbc.com', 'nytimes.com'), 0.9328278148924758)\n",
      "(('cbsnews.com', 'nytimes.com'), 0.9288963860348617)\n",
      "(('cnn.com', 'nytimes.com'), 0.92171736798744)\n",
      "(('abcnews.go.com', 'nytimes.com'), 0.9216555022240976)\n",
      "(('vice.com', 'nytimes.com'), 0.9144191426918875)\n",
      "(('npr.org', 'nytimes.com'), 0.9087911404218254)\n",
      "(('foxnews.com', 'nytimes.com'), 0.8958316457951949)\n",
      "(('latimes.com', 'nytimes.com'), 0.8868552903035661)\n",
      "(('wsj.com', 'nytimes.com'), 0.8832681391723772)\n",
      "(('usatoday.com', 'nytimes.com'), 0.8777611856192945)\n",
      "(('bloomberg.com', 'nytimes.com'), 0.8694601469756925)\n",
      "(('washingtonpost.com', 'nytimes.com'), 0.8577147445738174)\n",
      "(('huffingtonpost.com', 'nytimes.com'), 0.8434992079389393)\n"
     ]
    }
   ],
   "source": [
    "common_neighbors = sorted(common_neighbors, key=itemgetter(1), reverse=True)\n",
    "for result in common_neighbors:\n",
    "    if result[0][1] == 'nytimes.com': \n",
    "        print result"
   ]
  },
  {
   "cell_type": "code",
   "execution_count": 120,
   "metadata": {},
   "outputs": [
    {
     "name": "stdout",
     "output_type": "stream",
     "text": [
      "(('npr.org', 'foxnews.com'), 0.7932347271048326)\n",
      "(('latimes.com', 'foxnews.com'), 0.8052229980397557)\n",
      "(('cnn.com', 'foxnews.com'), 0.813501385131304)\n",
      "(('huffingtonpost.com', 'foxnews.com'), 0.8171950686085505)\n",
      "(('wsj.com', 'foxnews.com'), 0.8183614949697863)\n",
      "(('abcnews.go.com', 'foxnews.com'), 0.8360321395291594)\n",
      "(('cbsnews.com', 'foxnews.com'), 0.8437526623387688)\n",
      "(('usatoday.com', 'foxnews.com'), 0.8507136261279505)\n",
      "(('bloomberg.com', 'foxnews.com'), 0.8537268942278096)\n",
      "(('nytimes.com', 'foxnews.com'), 0.8958316457951949)\n",
      "(('washingtonpost.com', 'foxnews.com'), 0.9007403567320621)\n",
      "(('vice.com', 'foxnews.com'), 0.9025085152417471)\n",
      "(('msnbc.com', 'foxnews.com'), 0.9306578241576047)\n"
     ]
    }
   ],
   "source": [
    "for result in common_neighbors:\n",
    "    if result[0][1] == 'foxnews.com': \n",
    "        print result"
   ]
  },
  {
   "cell_type": "code",
   "execution_count": null,
   "metadata": {
    "collapsed": true
   },
   "outputs": [],
   "source": [
    "keys = IDtoDomain.keys()\n",
    "\n",
    "key_list = []\n",
    "\n",
    "for i in range(len(keys)):\n",
    "    for j in range(i + 1, len(keys)): \n",
    "        node_1 = keys[i]\n",
    "        node_2 = keys[j]\n",
    "        Length1 = snap.GetShortPath(LinkGraph, node_1, node_2)\n",
    "        Length2 = snap.GetShortPath(LinkGraph, node_2, node_1)\n",
    "        min_length = min(Length1, Length2)\n",
    "        max_length = max(Length1, Length2)\n",
    "        key_list.append( ((node_1, node_2), min_length, max_length))"
   ]
  },
  {
   "cell_type": "code",
   "execution_count": 61,
   "metadata": {},
   "outputs": [
    {
     "data": {
      "text/plain": [
       "380807"
      ]
     },
     "execution_count": 61,
     "metadata": {},
     "output_type": "execute_result"
    }
   ],
   "source": [
    "LinkGraph.GetNodes()"
   ]
  },
  {
   "cell_type": "code",
   "execution_count": 62,
   "metadata": {
    "collapsed": true
   },
   "outputs": [],
   "source": [
    "right = set(['https://www.libertynation.com', 'http://brexitcentral.com', 'http://www.oann.com', 'http://dailysignal.com', 'http://www.heritage.org', 'https://www.yaf.org', 'https://americanmilitarynews.com', 'http://controversialtimes.com', 'https://www.americanewshub.com', 'http://www.youngcons.com', 'http://www.jewishworldreview.com', 'https://www.conservativewoman.co.uk', 'http://libertynews.com', 'http://libertytalk.fm', 'http://patriotnewsdaily.com', 'http://knoxreport.com', 'https://acculturated.com', 'https://www.firstthings.com', 'http://disobedientmedia.com', 'http://www.foxnews.com', 'http://www.futureinamerica.com', 'http://www.mrc.org', 'http://www.torontosun.com', 'https://www.ontarioproud.ca', 'http://www.g-a-i.org', 'https://www.conservativeshere.com', 'http://notliberal.com', 'http://www.thenewamerican.com', 'http://humanevents.com', 'https://ca-political.com', 'https://offgridsurvival.com', 'http://www.teapartytribune.com', 'http://spiked-online.com', 'https://www.citizenfreepress.com', 'http://www.opslens.com', 'https://conservativetoday.com', 'https://renewedright.com', 'http://debatepost.com', 'http://redalertpolitics.com', 'https://lifeandabout.com', 'http://www.wnd.com', 'https://www.alec.org', 'https://hillarydaily.com', 'https://theconservativetreehouse.com', 'http://www.ronpaullibertyreport.com', 'http://therightscoop.com', 'https://aclj.org', 'https://www.dangerous.com', 'https://www.westernjournal.com', 'https://www.chroniclesmagazine.org', 'https://www.christiannewsalerts.com', 'https://patriotpost.us', 'https://www.whitehouse.gov', 'https://www.campusreform.org', 'http://www.freerepublic.com', 'http://www.redflagnews.com', 'https://www.thesun.co.uk', 'http://www.newsmax.com', 'https://sentinelksmo.org', 'http://crimeresearch.org', 'http://ipatriot.com', 'http://www.campaignlifecoalition.com', 'http://thedailydefender.com', 'https://altnewsmedia.net', 'http://www.cscmediagroupus.com', 'http://www.therebel.media', 'https://www.conservativereview.com', 'http://www.onenewsnow.com', 'http://silenceisconsent.net', 'http://theresurgent.com', 'http://www.hudson.org', 'http://www.resistancemedia.org', 'http://newlypress.com', 'http://www.weeklystandard.com', 'https://ifstudies.org', 'https://ricochet.com', 'https://uspoliticsinfo.com', 'http://www.westernjournalism.com', 'http://www.independentsentinel.com', 'http://www.dcstatesman.com', 'http://observer.com', 'https://www.americandailynews.org', 'https://www.mercatornet.com', 'https://loneconservative.com', 'http://www.standpointmag.co.uk', 'http://libertyhangout.org', 'https://mediaequalizer.com', 'http://www.americanlibertyreport.com', 'http://www.colddeadhands.us', 'http://biggovernment.news', 'https://themilreview.com', 'http://townhall.com', 'https://www.aei.org', 'https://keepandbear.com', 'https://www.commentarymagazine.com', 'http://thehayride.com', 'http://erlc.com', 'http://www.dailytelegraph.com.au', 'https://www.hermancain.com', 'http://www.dailywire.com', 'http://www.christianpost.com', 'http://www.defenddemocracy.org', 'https://www.nccivitas.org', 'https://conservativebase.com', 'http://www.allenbwest.com', 'https://www.lifesitenews.com', 'http://iwf.org', 'http://www.thepostemail.com', 'http://tennesseestar.com', 'https://kansaspolicy.org', 'http://www.conservativehq.com', 'https://farleftwatch.com', 'http://cowgernation.com', 'https://www.conservativeoutfitters.com', 'http://twitchy.com', 'http://www.adelaidenow.com.au', 'http://politi.site', 'https://www.churchmilitant.com', 'https://www.illinoispolicy.org', 'http://www.teapartypatriots.org', 'https://2ndvote.com', 'http://www.familysecuritymatters.org', 'https://americanconsequences.com', 'http://www.acting-man.com', 'http://dailycaller.com', 'https://pjmedia.com', 'http://www.usapoliticstoday.com', 'http://www.newsbusters.org', 'http://politichicks.com', 'https://home.nra.org', 'http://politifeed.net', 'https://bearingarms.com', 'http://projectveritas.com', 'http://www.drudgereport.com', 'http://firstinfreedomdaily.com', 'http://www.newrevolutionnow.org', 'https://order-order.com', 'http://sonorannews.com', 'http://www.lifezette.com', 'https://www.ac2news.com', 'https://www.tpusa.com', 'http://freedomcrossroads.com', 'http://www.americanthinker.com', 'https://deplorablesreport.com', 'http://thefederalist.com', 'http://awm.com', 'http://conservativesus.party', 'https://www.populistwire.com', 'http://www.investors.com', 'http://dcwhispers.com', 'http://federalistpress.com', 'http://www.theamericancause.org', 'http://legalinsurrection.com', 'https://regated.com', 'http://www.westernfreepress.com', 'https://ntknetwork.com', 'https://energycitizens.org', 'http://www.aim.org', 'http://www.nationalreview.com', 'https://unitynewsnetwork.co.uk', 'http://www.ronpaulinstitute.org', 'http://www.thecollegefix.com', 'http://www.thepoliticalinsider.com', 'http://tribunist.com', 'https://beinglibertarian.com', 'http://bigleaguepolitics.com', 'http://www.whatfinger.com', 'https://ijr.com', 'http://www.beliefnet.com', 'https://www.guerrilla.news', 'https://www.unwatch.org', 'http://www.weaselzippers.us', 'http://therantidote.com', 'https://world.wng.org', 'http://spectator.org', 'http://offendedamerica.com', 'http://www.gopusa.com', 'http://www.secureamericanow.org', 'http://www.crisismagazine.com', 'http://www.unbiasedamerica.com', 'http://dailysurge.com', 'https://savejersey.com', 'http://www.bizpacreview.com', 'https://www.rd.com', 'https://www.jewishpolicycenter.org', 'http://www.dailysabah.com', 'http://www.thedailyliberator.com', 'https://www.theconservativenut.gop', 'http://www.unionleader.com', 'http://nextnewsnetwork.com', 'http://www.washingtonexaminer.com', 'https://arizonadailyindependent.com', 'https://imprimis.hillsdale.edu', 'https://www.mediacircus.com', 'http://freewestmedia.com', 'http://www.vivaliberty.com', 'https://therealstrategy.com', 'https://www.numbersusa.com', 'http://worldtribune.com', 'http://ibleedredwhiteblue.com', 'http://www.thetruthaboutguns.com', 'http://www.ammoland.com', 'https://fedsoc.org', 'http://fightpp.org', 'https://www.heartland.org', 'http://bluelivesmatter.blue', 'http://www.theblaze.com', 'http://vesselnews.io', 'https://thecitizenpress.com', 'http://theblacksphere.net', 'http://www.intellectualtakeout.org', 'http://www.express.co.uk', 'https://capitalresearch.org', 'https://www.aa.com.tr', 'http://heatst.com', 'http://freebeacon.com', 'https://www.tasnimnews.com', 'http://citizensunited.org', 'https://judicialnetwork.com', 'http://www.lifenews.com', 'http://politicsnote.com', 'https://www.conservativeinstitute.org', 'http://www.powerlineblog.com', 'http://www.conservativedailynews.com', 'https://publicinterestlegal.org', 'http://www.faithwire.com', 'https://www.clear-politics.com', 'https://www.ff.org', 'https://www.getreligion.org', 'http://carepublican.com', 'http://www.restoreamericanglory.com', 'http://www.libertyheadlines.com', 'http://factsandlogic.org', 'http://alphanewsmn.com', 'http://sbgi.net', 'https://www.lyincomey.com', 'http://yellowhammernews.com', 'http://ussanews.com', 'http://www.economicpolicyjournal.com', 'http://www.tehrantimes.com', 'http://patriotretort.com', 'https://www.academia.org', 'https://quadrant.org.au', 'http://www.hoover.org', 'https://www.thepostmillennial.com', 'http://www.freedomworks.org', 'http://www.dailymail.co.uk', 'http://newbostonpost.com', 'https://amgreatness.com', 'https://www.gatestoneinstitute.org', 'http://www.city-journal.org', 'http://www.chicksontheright.com', 'https://en.mehrnews.com', 'https://www.gop.com', 'http://www.nationalcenter.org', 'https://www.trtworld.com', 'http://louderwithcrowder.com'])"
   ]
  },
  {
   "cell_type": "code",
   "execution_count": 63,
   "metadata": {
    "collapsed": true
   },
   "outputs": [],
   "source": [
    "left = set(['drudge.com', 'washingtonsources.org', 'akkadiantimes.com', 'deadstate.org', 'thelasource.com', 'americablog.com', 'meduza.io', 'thenewcivilrightsmovement.com', 'newstatesman.com', 'wonkette.com', 'mirror.co.uk', 'libcom.org', 'deepleftfield.info', 'intrepidreport.com', 'rawprogressive.com', 'viraltitle.com', 'worldcantwait.net', 'happy-foxie.com', 'newint.org', 'revcom.us', 'lavendermagazine.com', 'newrepublic.com', 'washingtonpress.com', 'theimproper.com', 'nationofchange.org', 'projectcensored.org', 'peacock-panache.com', 'newpol.org', 'democracyguardian.com', 'dallasvoice.com', 'uproxx.com', 'jezebel.com', 'bluedotdaily.com', 'content.news', 'boingboing.net', 'blacklivesmatter.com', 'reverepress.com', 'whatmattersnews.com', 'au.org', 'hrc.org', 'impeachdjtnow.com', 'leftoverrights.com', 'progressivefrontier.com', 'putintrump.org', 'progressive.org', 'newshounds.us', 'liberationnews.org', 'certifiedpolitics.com', 'angrywhitemen.org', 'forwardprogressives.com', 'theintellectualist.co', 'smirkingchimp.com', 'elitedaily.com', 'leftwingnation.org', 'daily49er.com', 'itsgoingdown.org', 'jacobinmag.com', 'tribunemagazine.org', 'leftscoop.com', 'democraticunderground.com', 'yesmagazine.org', 'newyorker.com', 'theroot.com', 'fifthestate.org', 'electronicintifada.net', 'allthatsfab.com', 'upworthy.com', 'moonofalabama.org', 'themaven.net', 'freepress.org', 'salon.com', 'carbonated.tv', 'mondoweiss.net', 'austinchronicle.com', 'globalvoices.org', 'thedailyvox.co.za', 'yourblackworld.net', 'meanlefthook.com', 'backedbyfact.com', 'gizmodo.com', 'liberalexaminer.com', 'care2.com', 'dctribune.org', 'leftfootforward.org', 'workers.org', 'newslogue.com', 'rewire.news', 'pravdareport.com', 'gq.com', 'foreignpolicyjournal.com', 'redpepper.org.uk', 'act.tv', 'leftsideofhistory.com', 'redyouth.org', 'politicaldig.com', 'crooksandliars.com', 'americanbridgepac.org', 'commondreams.org', 'chicagoreader.com', 'marxist.com', 'dailydot.com', 'nymag.com', 'guardianlv.com', 'telesurtv.net', 'pinknews.co.uk', 'filmingcops.com', 'photographyisnotacrime.com', 'washingtonmonthly.com', 'republicanssucks.org', 'theuspoliticalpost.com', 'ebar.com', 'politicususa.com', 'iowastartingline.com', 'lgbtqnation.com', 'blackagendareport.com', 'foreignpolicynews.org', 'opednews.com', 'thenation.com', 'pastemagazine.com', 'proudemocrat.com', 'thedailybanter.com', 'washingtonjournal.com', 'loveknowledge.org', 'codepink.org', 'worldsocialism.org', 'breitbartunmasked.com', 'samuel-warde.com', 'dailydems.com', 'advocate.com', 'internationalviewpoint.org', 'progressivearmy.com', 'aidc.org.za', 'samefacts.com', 'thefloridasqueeze.com', 'freedomnews.org.uk', 'people.com', 'elisabethparker.com', 'politicalupdater.com', 'earthfirstjournal.org', 'nowthisnews.com', 'wearyourvoicemag.com', 'chroniclesofdemocracy.com', 'thefrisky.com', 'modernliberals.com', 'blue-route.org', 'resilience.org', 'afj.org', 'gopocalypse.org', 'north99.org', 'curvemag.com', 'esquire.com', 'citizencritics.org', 'shadowproof.com', 'readingthepictures.org', 'ir.net', 'leftvoice.org', 'takepart.com', 'democracynow.org', 'other98.com', 'inthesetimes.com', 'scarymommy.com', 'dailykos.com', 'deepstatenation.com', 'feministcurrent.com', 'verrit.com', 'morningstaronline.co.uk', 'currentaffairs.org', 'bust.com', 'dieharddemocrat.com', 'rantt.com', 'littlegreenfootballs.com', 'citypaper.com', 'usuncut.com', 'extranewsfeed.com', 'evonomics.com', 'mashable.com', 'americanprogress.org', 'towleroad.com', 'verifiedpolitics.com', 'syriana-analysis.com', 'nap-sack.org', 'nova-magazine.net', 'tytnetwork.com', 'truth-out.org', 'dissentmagazine.org', 'theguardiansofdemocracy.com', 'redstatedisaster.com', 'nationalmemo.com', 'truthagainstthemachine.com', 'thinkprogress.org', 'countercurrents.org', 'frnewsreport.com', 'zcomm.org', 'mediamatters.org', 'theoswatch.com', 'thegrio.com', 'splinternews.com', 'the-daily.buzz', 'economyincrisis.org', 'texasobserver.org', 'electoral-vote.com', 'antifascistnews.net', 'truthdig.com', 'desmogblog.com', 'liberalamerica.org', 'motherjones.com', 'talkingpointsmemo.com', 'pressprogress.ca', 'ourvoiceny.com', 'addictinginfo.com', 'vox.com', 'everydayfeminism.com', 'merryjane.com', 'vanityfair.com', 'change.org', 'deadspin.com', 'inequalitymedia.org', 'queerty.com', 'rightwingwatch.org', 'front.moveon.org', 'theestablishment.co', 'cnntimes.online', 'pfaw.org', 'revolution-news.com', 'onegreenplanet.org', 'vermontindependent.org', 'prwatch.org', 'slate.com', 'bluenationreview.com', 'greenleft.org.au', 'themilitant.com', 'popularresistance.org', 'ips-dc.org', 'thelily.com', 'whowhatwhy.org', 'readersupportednews.org', 'news.groopspeak.com', 'thesternfacts.com', 'canadiandimension.com', 'rawstory.com', 'vote.us.org', 'molad.org', 'newscorpse.com', 'nowtoronto.com', 'dailynewsbin.com', 'bradford-delong.com', 'dailyrecord.co.uk', 'rabble.ca', 'progressiveliberal.net', 'theburningspear.com', 'bitchmedia.org', 'good.is', 'cnn.com', 'americanindependent.com', 'feministing.com', 'counterpunch.org', 'crimethinc.com', 'middleeastmonitor.com', 'crooked.com', 'huffingtonpost.com', 'freespeech.org', 'climaterealityproject.org', 'firstpost.com', 'egbertowillies.com', 'theoutline.com', 'stpete4peace.org', 'bluestatedaily.com', 'prospect.org', 'msmagazine.com', 'cosmopolitan.com', 'mediaite.com', 'rappler.com', 'villagevoice.com', 'thedailybeast.com', 'socialistworker.org', 'autostraddle.com', 'alternet.org', 'latest.com', 'shareblue.com', 'trofire.com', 'newsweek.com', 'palmerreport.com', 'sourcewatch.org', 'americannewsx.com', 'globetoday.com', 'miaminewtimes.com', 'themarysue.com', 'thewalrus.ca', 'this.org', 'thelondoneconomic.com', 'democratichub.com', 'thecanary.co', 'juancole.com', 'greenvillegazette.com'])"
   ]
  },
  {
   "cell_type": "code",
   "execution_count": 64,
   "metadata": {},
   "outputs": [
    {
     "data": {
      "text/plain": [
       "257"
      ]
     },
     "execution_count": 64,
     "metadata": {},
     "output_type": "execute_result"
    }
   ],
   "source": [
    "len(right)"
   ]
  },
  {
   "cell_type": "code",
   "execution_count": 65,
   "metadata": {},
   "outputs": [
    {
     "data": {
      "text/plain": [
       "294"
      ]
     },
     "execution_count": 65,
     "metadata": {},
     "output_type": "execute_result"
    }
   ],
   "source": [
    "len(left)"
   ]
  },
  {
   "cell_type": "code",
   "execution_count": 66,
   "metadata": {},
   "outputs": [
    {
     "data": {
      "text/plain": [
       "76"
      ]
     },
     "execution_count": 66,
     "metadata": {},
     "output_type": "execute_result"
    }
   ],
   "source": [
    "domainToNodeID[\"foxnews.com\"]"
   ]
  },
  {
   "cell_type": "code",
   "execution_count": 67,
   "metadata": {},
   "outputs": [
    {
     "data": {
      "text/plain": [
       "191"
      ]
     },
     "execution_count": 67,
     "metadata": {},
     "output_type": "execute_result"
    }
   ],
   "source": [
    "domainToNodeID[\"nytimes.com\"]"
   ]
  },
  {
   "cell_type": "code",
   "execution_count": 99,
   "metadata": {
    "collapsed": true
   },
   "outputs": [],
   "source": [
    "right_mapping = []\n",
    "left_mapping = []\n",
    "fox_news_id =  domainToNodeID[\"foxnews.com\"]\n",
    "ny_times_id = domainToNodeID[\"nytimes.com\"]\n",
    "\n",
    "\n",
    "NIdCCfH = snap.TIntFltH()\n",
    "snap.GetNodeClustCf(LinkGraph, NIdCCfH)\n",
    "\n",
    "def commonNeighbors(node_id1, node_id2):\n",
    "    Nbrs = snap.TIntV()\n",
    "    snap.GetCmnNbrs(LinkGraph, node_id1, node_id2, Nbrs)\n",
    "\n",
    "    distance = Nbrs.Len()\n",
    "    if distance == 0: \n",
    "        return 0\n",
    "\n",
    "    NodeVec = snap.TIntV()\n",
    "    snap.GetNodesAtHop(LinkGraph, node_id1, 1, NodeVec, False)\n",
    "    count1 = NodeVec.Len() \n",
    "    NodeVec = snap.TIntV()\n",
    "    snap.GetNodesAtHop(LinkGraph, node_id2, 1, NodeVec, False)\n",
    "    count2 = NodeVec.Len()\n",
    "    denominator = min(count1, count2) \n",
    "    \n",
    "    return float(distance)/denominator\n",
    "\n",
    "for r_article in right: \n",
    "    if r_article not in domainToNodeID:\n",
    "        continue \n",
    "    node_id = domainToNodeID[r_article]\n",
    "    node = LinkGraph.GetNI(node_id)\n",
    "    node_degree = node.GetDeg() \n",
    "    clustering_coefficient = NIdCCfH[node_id]\n",
    "    Length1 = snap.GetShortPath(LinkGraph, node_id, ny_times_id)\n",
    "    Length2 = snap.GetShortPath(LinkGraph, node_id, fox_news_id)\n",
    "    distance = max(Length1, Length2)\n",
    "    \n",
    "    NYTimesNeighbors = commonNeighbors(node_id, ny_times_id)\n",
    "    FoxNewsNeighbors = commonNeighbors(node_id, fox_news_id)\n",
    "    right_mapping.append([node_degree, clustering_coefficient, Length1, Length2, NYTimesNeighbors, FoxNewsNeighbors])\n",
    "\n",
    "for l_article in left: \n",
    "    if l_article not in domainToNodeID:\n",
    "        continue \n",
    "    node_id = domainToNodeID[l_article]\n",
    "    node = LinkGraph.GetNI(node_id)\n",
    "    node_degree = node.GetDeg() \n",
    "    clustering_coefficient = NIdCCfH[node_id]\n",
    "    Length1 = snap.GetShortPath(LinkGraph, node_id, ny_times_id)\n",
    "    Length2 = snap.GetShortPath(LinkGraph, node_id, fox_news_id)\n",
    "    distance = max(Length1, Length2)\n",
    "    \n",
    "    NYTimesNeighbors = commonNeighbors(node_id, ny_times_id)\n",
    "    FoxNewsNeighbors = commonNeighbors(node_id, fox_news_id)\n",
    "    left_mapping.append([node_degree, clustering_coefficient, Length1, Length2, NYTimesNeighbors, FoxNewsNeighbors])\n",
    "\n",
    "\n",
    "    \n"
   ]
  },
  {
   "cell_type": "code",
   "execution_count": 103,
   "metadata": {},
   "outputs": [
    {
     "data": {
      "text/plain": [
       "[[1, 0.0, 3, 3, 0, 0],\n",
       " [2, 0.0, 2, 3, 1.0, 0],\n",
       " [1, 0.0, 3, 3, 0, 0],\n",
       " [63, 0.18688524590163935, 1, 2, 0.5901639344262295, 0.3442622950819672],\n",
       " [39, 0.06906906906906907, 1, 2, 0.32432432432432434, 0.2702702702702703],\n",
       " [4, 0.0, 2, 2, 0.5, 0.5],\n",
       " [227, 0.09538950715421304, 1, 1, 0.47297297297297297, 0.2702702702702703],\n",
       " [1, 0.0, 2, 2, 1.0, 1.0],\n",
       " [46, 0.049682875264270614, 2, 2, 0.36363636363636365, 0.1590909090909091],\n",
       " [28, 0.16, 2, 2, 0.5384615384615384, 0.3076923076923077],\n",
       " [4, 0.0, 2, 3, 0.25, 0],\n",
       " [106, 0.1498738109105028, 1, 2, 0.5392156862745098, 0.30392156862745096],\n",
       " [3, 0.3333333333333333, 2, 2, 0.6666666666666666, 0.6666666666666666],\n",
       " [3, 0.0, 2, 2, 0.6666666666666666, 0.6666666666666666],\n",
       " [15, 0.10256410256410256, 2, 2, 0.3076923076923077, 0.15384615384615385],\n",
       " [60, 0.05513784461152882, 2, 2, 0.40350877192982454, 0.21052631578947367],\n",
       " [79, 0.08526315789473685, 2, 2, 0.3815789473684211, 0.23684210526315788],\n",
       " [15, 0.15384615384615385, 2, 2, 0.5384615384615384, 0.38461538461538464],\n",
       " [265, 0.1073206044701837, 1, 1, 0.5658914728682171, 0.2713178294573643],\n",
       " [1, 0.0, 2, 2, 1.0, 1.0],\n",
       " [22, 0.08225108225108226, 2, 2, 0.45454545454545453, 0.13636363636363635],\n",
       " [12, 0.015151515151515152, 2, 2, 0.5833333333333334, 0.16666666666666666],\n",
       " [4, 0.16666666666666666, 2, 3, 0.75, 0],\n",
       " [3, 0.0, 2, 3, 0.3333333333333333, 0],\n",
       " [10, 0.06666666666666667, 2, 2, 0.6, 0.1],\n",
       " [2, 0.0, 2, 2, 0.5, 0.5],\n",
       " [2, 0.0, 2, 2, 0.5, 0.5],\n",
       " [5, 0.2, 2, 2, 0.8, 0.6],\n",
       " [8, 0.14285714285714285, 2, 2, 0.625, 0.5],\n",
       " [2, 1.0, 2, 2, 1.0, 0.5],\n",
       " [63, 0.11420765027322405, 2, 2, 0.639344262295082, 0.32786885245901637],\n",
       " [4, 0.16666666666666666, 2, 2, 0.75, 0.5],\n",
       " [5, 0.0, 2, 2, 0.4, 0.2],\n",
       " [56, 0.06988120195667366, 1, 2, 0.35185185185185186, 0.16666666666666666],\n",
       " [12, 0.4888888888888889, 1, 2, 0.7, 0.6],\n",
       " [16, 0.27472527472527475, 1, 2, 0.5, 0.42857142857142855],\n",
       " [3, 0.0, 4, 4, 0, 0],\n",
       " [52, 0.13959183673469389, 1, 2, 0.48, 0.34],\n",
       " [348, 0.10175923367412729, 1, 1, 0.6575757575757576, 0.3303030303030303],\n",
       " [2, 0.0, 3, 3, 0, 0],\n",
       " [116, 0.08170037926675094, 1, 2, 0.45132743362831856, 0.23008849557522124],\n",
       " [1, 0.0, 2, 2, 1.0, 1.0],\n",
       " [27, 0.20666666666666667, 1, 2, 0.48, 0.4],\n",
       " [146, 0.1829048979160055, 1, 1, 0.6739130434782609, 0.3695652173913043],\n",
       " [18, 0.058333333333333334, 2, 2, 0.5, 0.1875],\n",
       " [378, 0.07565769111730114, 1, 2, 0.5972222222222222, 0.2361111111111111],\n",
       " [6, 0.26666666666666666, 2, 2, 0.8333333333333334, 0.6666666666666666],\n",
       " [2, 0.0, 2, 3, 1.0, 0],\n",
       " [2, 0.0, 2, 2, 0.5, 0.5],\n",
       " [32, 0.07816091954022988, 2, 2, 0.36666666666666664, 0.26666666666666666],\n",
       " [271, 0.11464460784313725, 1, 1, 0.609375, 0.2890625],\n",
       " [8, 0.0, 2, 3, 0.3333333333333333, 0],\n",
       " [175, 0.05263157894736842, 1, 2, 0.29651162790697677, 0.1744186046511628],\n",
       " [3, 0.0, 2, 2, 1.0, 1.0],\n",
       " [4, 0.0, 2, 2, 0.5, 0.5],\n",
       " [49, 0.272895467160037, 1, 2, 0.6808510638297872, 0.40425531914893614],\n",
       " [3, 0.3333333333333333, 2, 2, 0.6666666666666666, 0.3333333333333333],\n",
       " [230, 0.07776835131095221, 1, 1, 0.47085201793721976, 0.242152466367713],\n",
       " [75, 0.05835010060362173, 1, 2, 0.30985915492957744, 0.11267605633802817],\n",
       " [22, 0.23529411764705882, 2, 2, 0.6111111111111112, 0.2777777777777778],\n",
       " [3, 0.0, 2, 3, 0.3333333333333333, 0],\n",
       " [1, 0.0, 3, 3, 0, 0],\n",
       " [1, 0.0, 2, 2, 1.0, 1.0],\n",
       " [34, 0.3245967741935484, 1, 1, 0.6875, 0.46875],\n",
       " [115, 0.11695624195624196, 1, 2, 0.4017857142857143, 0.25892857142857145],\n",
       " [39, 0.05398110661268556, 2, 2, 0.10256410256410256, 0.05128205128205128],\n",
       " [31, 0.05172413793103448, 2, 2, 0.3448275862068966, 0.13793103448275862],\n",
       " [18, 0.23333333333333334, 1, 2, 0.625, 0.5625],\n",
       " [146, 0.11367495754669864, 1, 2, 0.6126760563380281, 0.3380281690140845],\n",
       " [319, 0.05324813631522897, 1, 2, 0.3354632587859425, 0.2012779552715655],\n",
       " [190, 0.051348398596975445, 1, 2, 0.37433155080213903, 0.11764705882352941],\n",
       " [3, 0.0, 2, 2, 1.0, 0.3333333333333333],\n",
       " [246, 0.06614999485614348, 1, 2, 0.39669421487603307, 0.16942148760330578],\n",
       " [12, 0.2222222222222222, 2, 2, 0.6, 0.4],\n",
       " [1170, 0.02656452632571454, 1, 1, 0.5043936731107206, 0.3294964028776978],\n",
       " [27, 0.0, 2, 2, 0.04, 0.04],\n",
       " [53, 0.15372549019607842, 1, 2, 0.49019607843137253, 0.37254901960784315],\n",
       " [13, 0.12727272727272726, 2, 2, 0.7272727272727273, 0.2727272727272727],\n",
       " [7, 0.5, 2, 2, 0.8, 0.6],\n",
       " [267, 0.09177309177309177, 1, 2, 0.5769230769230769, 0.3192307692307692],\n",
       " [64, 0.05817028027498678, 2, 2, 0.3225806451612903, 0.14516129032258066],\n",
       " [68, 0.09807692307692308, 1, 2, 0.38461538461538464, 0.26153846153846155],\n",
       " [260, 0.07894820717131475, 1, 2, 0.701195219123506, 0.26693227091633465],\n",
       " [1, 0.0, 2, 3, 1.0, 0],\n",
       " [6, 0.16666666666666666, 2, 2, 0.5, 0.5],\n",
       " [16, 0.08974358974358974, 2, 2, 0.6153846153846154, 0.3076923076923077],\n",
       " [215, 0.09559643255295429, 1, 2, 0.5432692307692307, 0.3125],\n",
       " [7, 0.09523809523809523, 2, 2, 0.5714285714285714, 0.14285714285714285],\n",
       " [1, 0.0, 3, 3, 0, 0],\n",
       " [1, 0.0, 2, 2, 1.0, 1.0],\n",
       " [55, 0.2100340136054422, 1, 2, 0.5918367346938775, 0.2857142857142857],\n",
       " [1, 0.0, 2, 2, 1.0, 1.0],\n",
       " [1, 0.0, 3, 4, 0, 0],\n",
       " [83, 0.0310126582278481, 2, 2, 0.25, 0.1375],\n",
       " [42, 0.13363363363363365, 2, 2, 0.2702702702702703, 0.24324324324324326],\n",
       " [22, 0.09473684210526316, 1, 2, 0.35, 0.2],\n",
       " [136, 0.14750440399295361, 1, 2, 0.7786259541984732, 0.366412213740458],\n",
       " [34, 0.15524193548387097, 2, 2, 0.59375, 0.375],\n",
       " [216, 0.11645299145299146, 1, 2, 0.7163461538461539, 0.35096153846153844],\n",
       " [18, 0.008333333333333333, 2, 2, 0.1875, 0.125],\n",
       " [437, 0.07181645078633725, 1, 1, 0.5811138014527845, 0.25181598062953997],\n",
       " [2, 0.0, 2, 2, 1.0, 1.0],\n",
       " [2115, 0.011580265679859482, 1, 1, 0.28705533596837945, 0.33237410071942447],\n",
       " [5, 0.0, 2, 2, 0.3333333333333333, 0.6666666666666666],\n",
       " [3, 0.6666666666666666, 2, 2, 0.6666666666666666, 0.3333333333333333],\n",
       " [5, 0.5, 2, 2, 0.8, 0.4],\n",
       " [147, 0.11946858455698732, 1, 2, 0.676056338028169, 0.2605633802816901],\n",
       " [39, 0.1816816816816817, 2, 2, 0.6216216216216216, 0.40540540540540543],\n",
       " [374, 0.03424636335499845, 2, 2, 0.28888888888888886, 0.1527777777777778],\n",
       " [3, 0.0, 2, 2, 1.0, 0.6666666666666666],\n",
       " [2, 1.0, 2, 2, 1.0, 1.0],\n",
       " [237, 0.022404073467903254, 2, 2, 0.34893617021276596, 0.13191489361702127],\n",
       " [3, 0.0, 2, 3, 0.6666666666666666, 0],\n",
       " [75, 0.06690140845070422, 2, 2, 0.3611111111111111, 0.16666666666666666],\n",
       " [288, 0.09248629976884919, 1, 1, 0.5611510791366906, 0.2949640287769784],\n",
       " [8, 0.10714285714285714, 2, 2, 0.875, 0.5],\n",
       " [23, 0.1523809523809524, 2, 2, 0.2857142857142857, 0.23809523809523808],\n",
       " [409, 0.05544887780548628, 1, 2, 0.41895261845386533, 0.18204488778054864],\n",
       " [27, 0.14333333333333334, 2, 2, 0.44, 0.36],\n",
       " [63, 0.06830601092896176, 1, 2, 0.3770491803278688, 0.22950819672131148],\n",
       " [44, 0.06387921022067364, 1, 2, 0.42857142857142855, 0.11904761904761904],\n",
       " [71, 0.060528559249786874, 1, 2, 0.2608695652173913, 0.17391304347826086],\n",
       " [6, 0.26666666666666666, 2, 2, 0.6666666666666666, 0.6666666666666666],\n",
       " [6, 0.0, 2, 2, 0.25, 0.25],\n",
       " [264, 0.05420370536649607, 1, 1, 0.38996138996138996, 0.16216216216216217],\n",
       " [44, 0.16707317073170733, 1, 2, 0.7073170731707317, 0.3902439024390244],\n",
       " [41, 0.20242914979757085, 1, 1, 0.5128205128205128, 0.358974358974359],\n",
       " [19, 0.16911764705882354, 1, 2, 0.47058823529411764, 0.29411764705882354],\n",
       " [1, 0.0, 2, 2, 1.0, 1.0],\n",
       " [6, 0.0, 2, 2, 0.6666666666666666, 0.3333333333333333],\n",
       " [2, 0.0, 2, 3, 0.5, 0],\n",
       " [119, 0.060123784261715295, 1, 2, 0.358974358974359, 0.1452991452991453],\n",
       " [1, 0.0, 2, 2, 1.0, 1.0],\n",
       " [64, 0.013749338974087784, 2, 2, 0.14516129032258066, 0.08064516129032258],\n",
       " [3, 0.0, 2, 3, 0.6666666666666666, 0],\n",
       " [102, 0.12070446735395189, 1, 2, 0.5051546391752577, 0.24742268041237114],\n",
       " [163, 0.17239623121976064, 1, 1, 0.6948051948051948, 0.4805194805194805],\n",
       " [14, 0.0, 2, 2, 0.35714285714285715, 0.14285714285714285],\n",
       " [11, 0.09090909090909091, 2, 2, 0.7272727272727273, 0.09090909090909091],\n",
       " [332, 0.07434162748920231, 1, 2, 0.5185185185185185, 0.2345679012345679],\n",
       " [8, 0.06666666666666667, 2, 2, 0.16666666666666666, 0.16666666666666666],\n",
       " [4, 0.0, 2, 3, 0.25, 0],\n",
       " [144, 0.11479512042539881, 1, 1, 0.5611510791366906, 0.26618705035971224],\n",
       " [13, 0.0, 2, 2, 0.09090909090909091, 0.09090909090909091],\n",
       " [1, 0.0, 3, 2, 0, 1.0],\n",
       " [8, 0.0, 3, 4, 0, 0],\n",
       " [4, 0.0, 3, 3, 0, 0],\n",
       " [89, 0.17572729944166912, 1, 1, 0.5662650602409639, 0.39759036144578314],\n",
       " [251, 0.032520325203252036, 1, 2, 0.26720647773279355, 0.14979757085020243],\n",
       " [7, 0.2, 2, 2, 0.4, 0.4],\n",
       " [21, 0.023391812865497075, 2, 2, 0.21052631578947367, 0.10526315789473684],\n",
       " [1, 0.0, 3, 3, 0, 0],\n",
       " [18, 0.075, 2, 2, 0.4375, 0.3125],\n",
       " [79, 0.12936936936936938, 1, 2, 0.4, 0.28],\n",
       " [229, 0.09991772932949404, 1, 1, 0.5113122171945701, 0.2669683257918552],\n",
       " [7, 0.3, 2, 2, 0.4, 0.6],\n",
       " [74, 0.1267605633802817, 2, 2, 0.5, 0.2916666666666667],\n",
       " [9, 0.027777777777777776, 2, 2, 0.7777777777777778, 0.1111111111111111],\n",
       " [345, 0.05538379530916844, 1, 1, 0.47023809523809523, 0.19940476190476192],\n",
       " [40, 0.044096728307254626, 2, 2, 0.34210526315789475, 0.21052631578947367],\n",
       " [1, 0.0, 2, 2, 1.0, 1.0],\n",
       " [2, 1.0, 2, 2, 1.0, 1.0],\n",
       " [23, 0.06666666666666667, 2, 2, 0.38095238095238093, 0.14285714285714285],\n",
       " [686, 0.031062053350314867, 1, 1, 0.3476968796433878, 0.1515601783060921],\n",
       " [5, 0.3333333333333333, 2, 2, 0.6666666666666666, 0.3333333333333333],\n",
       " [52, 0.35374149659863946, 1, 2, 0.8367346938775511, 0.4897959183673469],\n",
       " [26, 0.08923076923076922, 2, 2, 0.6923076923076923, 0.38461538461538464],\n",
       " [1, 0.0, 2, 2, 1.0, 1.0],\n",
       " [201, 0.08775087260034904, 1, 2, 0.4635416666666667, 0.265625],\n",
       " [11, 0.08333333333333333, 2, 2, 1.0, 0.4444444444444444],\n",
       " [64, 0.15917503966155475, 1, 2, 0.5483870967741935, 0.25806451612903225],\n",
       " [2, 0.0, 3, 3, 0, 0],\n",
       " [10, 0.35555555555555557, 2, 2, 0.7, 0.2],\n",
       " [35, 0.3162878787878788, 2, 2, 0.696969696969697, 0.6666666666666666],\n",
       " [3, 0.0, 2, 2, 0.3333333333333333, 0.3333333333333333],\n",
       " [9, 0.19047619047619047, 2, 2, 0.5714285714285714, 0.2857142857142857],\n",
       " [13, 0.21794871794871795, 2, 2, 0.6923076923076923, 0.38461538461538464],\n",
       " [27, 0.21333333333333335, 1, 2, 0.76, 0.44],\n",
       " [35, 0.33669354838709675, 1, 2, 0.6875, 0.5625],\n",
       " [12, 0.022222222222222223, 2, 2, 0.1, 0.1],\n",
       " [394, 0.060989086890454486, 1, 1, 0.47506561679790027, 0.2572178477690289],\n",
       " [6, 0.06666666666666667, 2, 2, 0.6666666666666666, 0.5],\n",
       " [19, 0.04411764705882353, 2, 2, 0.29411764705882354, 0.17647058823529413],\n",
       " [1, 0.0, 3, 4, 0, 0],\n",
       " [1, 0.0, 2, 3, 1.0, 0],\n",
       " [74, 0.07120500782472614, 1, 2, 0.20833333333333334, 0.1388888888888889],\n",
       " [3, 0.0, 2, 2, 1.0, 0.6666666666666666],\n",
       " [63, 0.16229508196721312, 1, 2, 0.5901639344262295, 0.2786885245901639],\n",
       " [24, 0.05714285714285714, 2, 2, 0.38095238095238093, 0.23809523809523808],\n",
       " [15, 0.05714285714285714, 2, 2, 0.3333333333333333, 0.26666666666666666],\n",
       " [379, 0.09460862996884147, 1, 1, 0.6330532212885154, 0.2801120448179272],\n",
       " [264, 0.0692848309353603, 1, 2, 0.43023255813953487, 0.16666666666666666]]"
      ]
     },
     "execution_count": 103,
     "metadata": {},
     "output_type": "execute_result"
    }
   ],
   "source": [
    "left_mapping"
   ]
  },
  {
   "cell_type": "code",
   "execution_count": 86,
   "metadata": {
    "collapsed": true
   },
   "outputs": [],
   "source": [
    "node = LinkGraph.GetNI(277784)"
   ]
  },
  {
   "cell_type": "code",
   "execution_count": 87,
   "metadata": {},
   "outputs": [
    {
     "data": {
      "text/plain": [
       "2"
      ]
     },
     "execution_count": 87,
     "metadata": {},
     "output_type": "execute_result"
    }
   ],
   "source": [
    "node.GetDeg()"
   ]
  },
  {
   "cell_type": "code",
   "execution_count": 72,
   "metadata": {},
   "outputs": [
    {
     "name": "stdout",
     "output_type": "stream",
     "text": [
      "192\n"
     ]
    }
   ],
   "source": [
    "print len(left_mapping)"
   ]
  },
  {
   "cell_type": "code",
   "execution_count": 92,
   "metadata": {},
   "outputs": [
    {
     "name": "stdout",
     "output_type": "stream",
     "text": [
      "156\n"
     ]
    }
   ],
   "source": [
    "print len(right_mapping)"
   ]
  },
  {
   "cell_type": "code",
   "execution_count": 80,
   "metadata": {},
   "outputs": [
    {
     "name": "stdout",
     "output_type": "stream",
     "text": [
      "www.libertynation.com\n"
     ]
    }
   ],
   "source": [
    "a = 'https://www.libertynation.com'\n",
    "print a[len(\"https://\"):]"
   ]
  },
  {
   "cell_type": "code",
   "execution_count": 83,
   "metadata": {
    "collapsed": true
   },
   "outputs": [],
   "source": [
    "new_right = []\n",
    "for right_domain in right:\n",
    "    def extractDomain(rawURL):\n",
    "        parsedUrl = urlparse(rawURL)\n",
    "        if parsedUrl.netloc.startswith('www.'):\n",
    "            return parsedUrl.netloc[4:]\n",
    "        return parsedUrl.netloc\n",
    "    domain = extractDomain(right_domain)\n",
    "    new_right.append(domain)\n",
    "right = new_right"
   ]
  },
  {
   "cell_type": "code",
   "execution_count": 94,
   "metadata": {},
   "outputs": [
    {
     "data": {
      "text/plain": [
       "[12, 0.4888888888888889, 1, 2, 0.7, 0.6]"
      ]
     },
     "execution_count": 94,
     "metadata": {},
     "output_type": "execute_result"
    }
   ],
   "source": [
    "left_mapping[\"drudge.com\"]"
   ]
  },
  {
   "cell_type": "code",
   "execution_count": 98,
   "metadata": {
    "collapsed": true
   },
   "outputs": [],
   "source": [
    "from sklearn import ensemble\n",
    "\n",
    "clf = ensemble.GradientBoostingClassifier()"
   ]
  },
  {
   "cell_type": "code",
   "execution_count": 107,
   "metadata": {
    "collapsed": true
   },
   "outputs": [],
   "source": [
    "from random import shuffle\n",
    "\n",
    "left = shuffle(left_mapping)\n",
    "right = shuffle(right_mapping) \n",
    "\n",
    "idx = int(len(left_mapping) * 0.8)\n",
    "left_train = left_mapping[:idx]\n",
    "left_test = left_mapping[idx:]\n",
    "\n",
    "idx = int(len(right_mapping) * 0.8)\n",
    "right_train = right_mapping[:idx]\n",
    "right_test = right_mapping[idx:]\n"
   ]
  },
  {
   "cell_type": "code",
   "execution_count": 110,
   "metadata": {
    "collapsed": true
   },
   "outputs": [],
   "source": [
    "import numpy as np\n",
    "left_numpy =np.array([np.array(xi) for xi in left_train])\n",
    "right_numpy = np.array([np.array(xi) for xi in right_train])\n",
    "total_array = np.vstack([left_numpy, right_numpy])"
   ]
  },
  {
   "cell_type": "code",
   "execution_count": 112,
   "metadata": {
    "collapsed": true
   },
   "outputs": [],
   "source": [
    "y = [0] * len(left_train) + [1] * len(right_train)"
   ]
  },
  {
   "cell_type": "code",
   "execution_count": 114,
   "metadata": {},
   "outputs": [
    {
     "data": {
      "text/plain": [
       "277"
      ]
     },
     "execution_count": 114,
     "metadata": {},
     "output_type": "execute_result"
    }
   ],
   "source": [
    "len(y)\n"
   ]
  },
  {
   "cell_type": "code",
   "execution_count": 115,
   "metadata": {},
   "outputs": [
    {
     "data": {
      "text/plain": [
       "GradientBoostingClassifier(criterion='friedman_mse', init=None,\n",
       "              learning_rate=0.1, loss='deviance', max_depth=3,\n",
       "              max_features=None, max_leaf_nodes=None,\n",
       "              min_impurity_decrease=0.0, min_impurity_split=None,\n",
       "              min_samples_leaf=1, min_samples_split=2,\n",
       "              min_weight_fraction_leaf=0.0, n_estimators=100,\n",
       "              n_iter_no_change=None, presort='auto', random_state=None,\n",
       "              subsample=1.0, tol=0.0001, validation_fraction=0.1,\n",
       "              verbose=0, warm_start=False)"
      ]
     },
     "execution_count": 115,
     "metadata": {},
     "output_type": "execute_result"
    }
   ],
   "source": [
    "clf.fit(total_array, y)"
   ]
  },
  {
   "cell_type": "code",
   "execution_count": 117,
   "metadata": {},
   "outputs": [
    {
     "name": "stdout",
     "output_type": "stream",
     "text": [
      "[0 0 1 0 0 0 0 0 1 0 0 0 0 1 0 0 1 0 1 0 0 0 0 1 0 0 0 0 0 0 0 0 1 0 0 0 0\n",
      " 1 0 0 0 1 1 0 0 0 0 0 0 0 1 0 0 0 0 1 0 0 0 0 0 0 0 0 0 1 0 1 0 0 0 0 0 0\n",
      " 0 0 0 0 0 0 0 1 0 1 0 0 0 1 0 0 1 0 0 0 0 1 1 0 1 0 0 0 0 0 1 0 0 0 0 0 0\n",
      " 0 0 0 1 0 0 0 0 1 0 0 0 0 0 0 0 1 0 0 0 0 0 0 0 0 0 0 0 0 0 0 0 1 1 0 0 0\n",
      " 0 0 0 0 0 1 1 1 1 1 1 1 1 1 1 1 1 1 1 1 1 1 1 1 1 1 1 1 0 1 1 1 1 1 1 1 1\n",
      " 0 1 1 1 1 1 0 1 1 1 1 1 1 1 1 1 1 1 1 1 1 1 1 1 1 1 1 1 1 0 1 1 1 1 1 1 1\n",
      " 1 1 1 1 1 1 1 1 1 1 1 1 1 1 1 1 1 1 1 1 1 1 1 1 1 1 1 1 1 1 1 1 1 1 0 0 1\n",
      " 1 1 1 0 1 1 1 1 1 1 1 1 0 1 1 1 1 1]\n",
      "Gradient Boosting Tree F1-score: 0.873646209386\n"
     ]
    }
   ],
   "source": [
    "#mau lihat F1-Score\n",
    "from sklearn.metrics import f1_score\n",
    "\n",
    "Y_pred = clf.predict(total_array) #prediksi data cross validation menggunakan model tadi\n",
    "print Y_pred\n",
    "score = f1_score(y, Y_pred, average=\"micro\") \n",
    "\n",
    "print(\"Gradient Boosting Tree F1-score: \"+str(score)) # I got 0.86 F1-Score"
   ]
  },
  {
   "cell_type": "code",
   "execution_count": 118,
   "metadata": {
    "collapsed": true
   },
   "outputs": [],
   "source": [
    "import numpy as np\n",
    "left_numpy =np.array([np.array(xi) for xi in left_test])\n",
    "right_numpy = np.array([np.array(xi) for xi in right_test])\n",
    "total_array = np.vstack([left_numpy, right_numpy])\n",
    "\n",
    "y = [0] * len(left_test) + [1] * len(right_test)"
   ]
  },
  {
   "cell_type": "code",
   "execution_count": 120,
   "metadata": {},
   "outputs": [
    {
     "name": "stdout",
     "output_type": "stream",
     "text": [
      "0.661971830986\n"
     ]
    }
   ],
   "source": [
    "Y_pred = clf.predict(total_array)\n",
    "score = f1_score(y, Y_pred, average=\"micro\") \n",
    "print score"
   ]
  },
  {
   "cell_type": "code",
   "execution_count": 123,
   "metadata": {},
   "outputs": [
    {
     "name": "stdout",
     "output_type": "stream",
     "text": [
      "[0]\tvalidation_0-logloss:0.676134\tvalidation_1-logloss:0.675901\n",
      "[1]\tvalidation_0-logloss:0.662501\tvalidation_1-logloss:0.664279\n",
      "[2]\tvalidation_0-logloss:0.649726\tvalidation_1-logloss:0.653522\n",
      "[3]\tvalidation_0-logloss:0.639399\tvalidation_1-logloss:0.643212\n",
      "[4]\tvalidation_0-logloss:0.628305\tvalidation_1-logloss:0.63858\n",
      "[5]\tvalidation_0-logloss:0.619998\tvalidation_1-logloss:0.629545\n",
      "[6]\tvalidation_0-logloss:0.610921\tvalidation_1-logloss:0.622544\n",
      "[7]\tvalidation_0-logloss:0.600986\tvalidation_1-logloss:0.617111\n",
      "[8]\tvalidation_0-logloss:0.594104\tvalidation_1-logloss:0.611735\n",
      "[9]\tvalidation_0-logloss:0.586839\tvalidation_1-logloss:0.606247\n",
      "[10]\tvalidation_0-logloss:0.580611\tvalidation_1-logloss:0.601603\n",
      "[11]\tvalidation_0-logloss:0.575816\tvalidation_1-logloss:0.59613\n",
      "[12]\tvalidation_0-logloss:0.571297\tvalidation_1-logloss:0.592755\n",
      "[13]\tvalidation_0-logloss:0.565437\tvalidation_1-logloss:0.589025\n",
      "[14]\tvalidation_0-logloss:0.560733\tvalidation_1-logloss:0.58702\n",
      "[15]\tvalidation_0-logloss:0.555576\tvalidation_1-logloss:0.585086\n",
      "[16]\tvalidation_0-logloss:0.552079\tvalidation_1-logloss:0.583306\n",
      "[17]\tvalidation_0-logloss:0.547528\tvalidation_1-logloss:0.581271\n",
      "[18]\tvalidation_0-logloss:0.54288\tvalidation_1-logloss:0.580537\n",
      "[19]\tvalidation_0-logloss:0.539241\tvalidation_1-logloss:0.580976\n",
      "[20]\tvalidation_0-logloss:0.535139\tvalidation_1-logloss:0.578792\n",
      "[21]\tvalidation_0-logloss:0.53074\tvalidation_1-logloss:0.579093\n",
      "[22]\tvalidation_0-logloss:0.525339\tvalidation_1-logloss:0.57857\n",
      "[23]\tvalidation_0-logloss:0.521584\tvalidation_1-logloss:0.578989\n",
      "[24]\tvalidation_0-logloss:0.519035\tvalidation_1-logloss:0.577669\n",
      "[25]\tvalidation_0-logloss:0.515018\tvalidation_1-logloss:0.575961\n",
      "[26]\tvalidation_0-logloss:0.512489\tvalidation_1-logloss:0.573755\n",
      "[27]\tvalidation_0-logloss:0.510397\tvalidation_1-logloss:0.573509\n",
      "[28]\tvalidation_0-logloss:0.505916\tvalidation_1-logloss:0.571921\n",
      "[29]\tvalidation_0-logloss:0.504145\tvalidation_1-logloss:0.571687\n",
      "[30]\tvalidation_0-logloss:0.501566\tvalidation_1-logloss:0.570923\n",
      "[31]\tvalidation_0-logloss:0.500078\tvalidation_1-logloss:0.570808\n",
      "[32]\tvalidation_0-logloss:0.497295\tvalidation_1-logloss:0.570169\n",
      "[33]\tvalidation_0-logloss:0.495052\tvalidation_1-logloss:0.57032\n",
      "[34]\tvalidation_0-logloss:0.491721\tvalidation_1-logloss:0.568986\n",
      "[35]\tvalidation_0-logloss:0.488538\tvalidation_1-logloss:0.567832\n",
      "[36]\tvalidation_0-logloss:0.487254\tvalidation_1-logloss:0.568036\n",
      "[37]\tvalidation_0-logloss:0.483641\tvalidation_1-logloss:0.566816\n",
      "[38]\tvalidation_0-logloss:0.482484\tvalidation_1-logloss:0.567072\n",
      "[39]\tvalidation_0-logloss:0.479693\tvalidation_1-logloss:0.566612\n",
      "[40]\tvalidation_0-logloss:0.476847\tvalidation_1-logloss:0.565591\n",
      "[41]\tvalidation_0-logloss:0.475844\tvalidation_1-logloss:0.56578\n",
      "[42]\tvalidation_0-logloss:0.472768\tvalidation_1-logloss:0.564606\n",
      "[43]\tvalidation_0-logloss:0.470928\tvalidation_1-logloss:0.566677\n",
      "[44]\tvalidation_0-logloss:0.468437\tvalidation_1-logloss:0.565996\n",
      "[45]\tvalidation_0-logloss:0.467557\tvalidation_1-logloss:0.566904\n",
      "[46]\tvalidation_0-logloss:0.465347\tvalidation_1-logloss:0.566517\n",
      "[47]\tvalidation_0-logloss:0.463673\tvalidation_1-logloss:0.567205\n",
      "[48]\tvalidation_0-logloss:0.462897\tvalidation_1-logloss:0.567341\n",
      "[49]\tvalidation_0-logloss:0.46067\tvalidation_1-logloss:0.566962\n",
      "[50]\tvalidation_0-logloss:0.459075\tvalidation_1-logloss:0.568131\n",
      "[51]\tvalidation_0-logloss:0.457494\tvalidation_1-logloss:0.566644\n",
      "[52]\tvalidation_0-logloss:0.455017\tvalidation_1-logloss:0.565563\n",
      "[53]\tvalidation_0-logloss:0.453211\tvalidation_1-logloss:0.565566\n",
      "[54]\tvalidation_0-logloss:0.450696\tvalidation_1-logloss:0.564907\n",
      "[55]\tvalidation_0-logloss:0.448855\tvalidation_1-logloss:0.564256\n",
      "[56]\tvalidation_0-logloss:0.44773\tvalidation_1-logloss:0.563277\n",
      "[57]\tvalidation_0-logloss:0.445309\tvalidation_1-logloss:0.563141\n",
      "[58]\tvalidation_0-logloss:0.443763\tvalidation_1-logloss:0.563528\n",
      "[59]\tvalidation_0-logloss:0.441222\tvalidation_1-logloss:0.561708\n",
      "[60]\tvalidation_0-logloss:0.439829\tvalidation_1-logloss:0.56277\n",
      "[61]\tvalidation_0-logloss:0.438818\tvalidation_1-logloss:0.561278\n",
      "[62]\tvalidation_0-logloss:0.436277\tvalidation_1-logloss:0.560838\n",
      "[63]\tvalidation_0-logloss:0.434282\tvalidation_1-logloss:0.560614\n",
      "[64]\tvalidation_0-logloss:0.432178\tvalidation_1-logloss:0.563067\n",
      "[65]\tvalidation_0-logloss:0.430388\tvalidation_1-logloss:0.5637\n",
      "[66]\tvalidation_0-logloss:0.428417\tvalidation_1-logloss:0.563261\n",
      "[67]\tvalidation_0-logloss:0.427579\tvalidation_1-logloss:0.562282\n",
      "[68]\tvalidation_0-logloss:0.425756\tvalidation_1-logloss:0.564792\n",
      "[69]\tvalidation_0-logloss:0.424394\tvalidation_1-logloss:0.5661\n",
      "[70]\tvalidation_0-logloss:0.422336\tvalidation_1-logloss:0.565079\n",
      "[71]\tvalidation_0-logloss:0.421789\tvalidation_1-logloss:0.565929\n",
      "[72]\tvalidation_0-logloss:0.420296\tvalidation_1-logloss:0.567321\n",
      "[73]\tvalidation_0-logloss:0.419808\tvalidation_1-logloss:0.567267\n",
      "[74]\tvalidation_0-logloss:0.418793\tvalidation_1-logloss:0.56837\n",
      "[75]\tvalidation_0-logloss:0.416853\tvalidation_1-logloss:0.568512\n",
      "[76]\tvalidation_0-logloss:0.416069\tvalidation_1-logloss:0.567165\n",
      "[77]\tvalidation_0-logloss:0.414597\tvalidation_1-logloss:0.567588\n",
      "[78]\tvalidation_0-logloss:0.412544\tvalidation_1-logloss:0.570657\n",
      "[79]\tvalidation_0-logloss:0.410615\tvalidation_1-logloss:0.570496\n",
      "[80]\tvalidation_0-logloss:0.408811\tvalidation_1-logloss:0.572693\n",
      "[81]\tvalidation_0-logloss:0.407235\tvalidation_1-logloss:0.572112\n",
      "[82]\tvalidation_0-logloss:0.40632\tvalidation_1-logloss:0.57341\n",
      "[83]\tvalidation_0-logloss:0.404816\tvalidation_1-logloss:0.57357\n",
      "[84]\tvalidation_0-logloss:0.403093\tvalidation_1-logloss:0.574874\n",
      "[85]\tvalidation_0-logloss:0.401477\tvalidation_1-logloss:0.57698\n",
      "[86]\tvalidation_0-logloss:0.400243\tvalidation_1-logloss:0.576741\n",
      "[87]\tvalidation_0-logloss:0.39847\tvalidation_1-logloss:0.579697\n",
      "[88]\tvalidation_0-logloss:0.397026\tvalidation_1-logloss:0.581115\n",
      "[89]\tvalidation_0-logloss:0.396145\tvalidation_1-logloss:0.581603\n",
      "[90]\tvalidation_0-logloss:0.394964\tvalidation_1-logloss:0.582128\n",
      "[91]\tvalidation_0-logloss:0.393661\tvalidation_1-logloss:0.584\n",
      "[92]\tvalidation_0-logloss:0.393175\tvalidation_1-logloss:0.584301\n",
      "[93]\tvalidation_0-logloss:0.392206\tvalidation_1-logloss:0.584859\n",
      "[94]\tvalidation_0-logloss:0.391003\tvalidation_1-logloss:0.586238\n",
      "[95]\tvalidation_0-logloss:0.389605\tvalidation_1-logloss:0.586851\n",
      "[96]\tvalidation_0-logloss:0.388625\tvalidation_1-logloss:0.587449\n",
      "[97]\tvalidation_0-logloss:0.387588\tvalidation_1-logloss:0.588195\n",
      "[98]\tvalidation_0-logloss:0.38649\tvalidation_1-logloss:0.589441\n",
      "[99]\tvalidation_0-logloss:0.385797\tvalidation_1-logloss:0.59065\n"
     ]
    },
    {
     "ename": "AttributeError",
     "evalue": "'GradientBoostingClassifier' object has no attribute 'evals_result'",
     "output_type": "error",
     "traceback": [
      "\u001b[0;31m---------------------------------------------------------------------------\u001b[0m",
      "\u001b[0;31mAttributeError\u001b[0m                            Traceback (most recent call last)",
      "\u001b[0;32m<ipython-input-123-e6a9beea0c80>\u001b[0m in \u001b[0;36m<module>\u001b[0;34m()\u001b[0m\n\u001b[1;32m     20\u001b[0m         verbose=True)\n\u001b[1;32m     21\u001b[0m \u001b[0;34m\u001b[0m\u001b[0m\n\u001b[0;32m---> 22\u001b[0;31m \u001b[0mevals_result\u001b[0m \u001b[0;34m=\u001b[0m \u001b[0mclf\u001b[0m\u001b[0;34m.\u001b[0m\u001b[0mevals_result\u001b[0m\u001b[0;34m(\u001b[0m\u001b[0;34m)\u001b[0m\u001b[0;34m\u001b[0m\u001b[0m\n\u001b[0m",
      "\u001b[0;31mAttributeError\u001b[0m: 'GradientBoostingClassifier' object has no attribute 'evals_result'"
     ]
    }
   ],
   "source": [
    "from xgboost import XGBClassifier \n",
    "model = XGBClassifier() \n",
    "\n",
    "import numpy as np\n",
    "left_numpy =np.array([np.array(xi) for xi in left_train])\n",
    "right_numpy = np.array([np.array(xi) for xi in right_train])\n",
    "x_train_array = np.vstack([left_numpy, right_numpy])\n",
    "y_train = [0] * len(left_train) + [1] * len(right_train)\n",
    "\n",
    "left_numpy =np.array([np.array(xi) for xi in left_test])\n",
    "right_numpy = np.array([np.array(xi) for xi in right_test])\n",
    "x_test_array = np.vstack([left_numpy, right_numpy])\n",
    "\n",
    "y_test = [0] * len(left_test) + [1] * len(right_test)\n",
    "\n",
    "\n",
    "model.fit(x_train_array, y_train,\n",
    "        eval_set=[(x_train_array, y_train), (x_test_array, y_test)],\n",
    "        eval_metric='logloss',\n",
    "        verbose=True)\n",
    "\n",
    "evals_result = clf.evals_result()"
   ]
  },
  {
   "cell_type": "code",
   "execution_count": 124,
   "metadata": {
    "collapsed": true
   },
   "outputs": [],
   "source": [
    "Y_pred = clf.predict(x_train_array) #prediksi data cross validation menggunakan model tadi\n",
    "score = f1_score(y_train, Y_pred, average=\"micro\") "
   ]
  },
  {
   "cell_type": "code",
   "execution_count": 125,
   "metadata": {},
   "outputs": [
    {
     "data": {
      "text/plain": [
       "0.87364620938628157"
      ]
     },
     "execution_count": 125,
     "metadata": {},
     "output_type": "execute_result"
    }
   ],
   "source": [
    "score"
   ]
  },
  {
   "cell_type": "code",
   "execution_count": 126,
   "metadata": {
    "collapsed": true
   },
   "outputs": [],
   "source": [
    "Y_pred = clf.predict(x_test_array) #prediksi data cross validation menggunakan model tadi\n",
    "score = f1_score(y_test, Y_pred, average=\"micro\") "
   ]
  },
  {
   "cell_type": "code",
   "execution_count": 127,
   "metadata": {},
   "outputs": [
    {
     "data": {
      "text/plain": [
       "0.6619718309859155"
      ]
     },
     "execution_count": 127,
     "metadata": {},
     "output_type": "execute_result"
    }
   ],
   "source": [
    "score"
   ]
  },
  {
   "cell_type": "code",
   "execution_count": 130,
   "metadata": {},
   "outputs": [
    {
     "data": {
      "text/plain": [
       "<Container object of 6 artists>"
      ]
     },
     "execution_count": 130,
     "metadata": {},
     "output_type": "execute_result"
    },
    {
     "data": {
      "image/png": "[encoded data removed]",
      "text/plain": [
       "<matplotlib.figure.Figure at 0x1551dfc10>"
      ]
     },
     "metadata": {},
     "output_type": "display_data"
    }
   ],
   "source": [
    "plt.title(\"Importance of Various Features\")\n",
    "plt.xlabel(\"Feature Number\")\n",
    "plt.ylabel(\"Relative Feature Importance\")\n",
    "plt.bar(range(len(model.feature_importances_)), model.feature_importances_)\n"
   ]
  },
  {
   "cell_type": "code",
   "execution_count": null,
   "metadata": {
    "collapsed": true
   },
   "outputs": [],
   "source": []
  }
 ],
 "metadata": {
  "kernelspec": {
   "display_name": "Python 2",
   "language": "python",
   "name": "python2"
  },
  "language_info": {
   "codemirror_mode": {
    "name": "ipython",
    "version": 2
   },
   "file_extension": ".py",
   "mimetype": "text/x-python",
   "name": "python",
   "nbconvert_exporter": "python",
   "pygments_lexer": "ipython2",
   "version": "2.7.13"
  }
 },
 "nbformat": 4,
 "nbformat_minor": 2
}
