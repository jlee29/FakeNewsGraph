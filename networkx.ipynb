{
 "cells": [
  {
   "cell_type": "code",
   "execution_count": 1,
   "metadata": {
    "collapsed": true
   },
   "outputs": [],
   "source": [
    "%matplotlib inline\n",
    "import csv\n",
    "from datetime import datetime\n",
    "from urlparse import urlparse\n",
    "import json\n",
    "import snap\n",
    "import networkx as nx\n",
    "import numpy as np\n",
    "import pandas as pd\n",
    "from networkx.algorithms import node_classification"
   ]
  },
  {
   "cell_type": "code",
   "execution_count": 2,
   "metadata": {
    "collapsed": true
   },
   "outputs": [],
   "source": [
    "edges = pd.read_csv(\"edgeCounts_ALL.csv\",delimiter=',')\n",
    "G = nx.from_pandas_edgelist(edges, 'id1', 'id2', ['weight'])"
   ]
  },
  {
   "cell_type": "code",
   "execution_count": 5,
   "metadata": {},
   "outputs": [],
   "source": [
    "G.node[9509]['label'] = 'C'\n",
    "G.node[4913]['label'] = 'C'\n",
    "G.node[23431]['label'] = 'C'\n",
    "G.node[3347]['label'] = 'C'\n",
    "G.node[76]['label'] = 'C'\n",
    "G.node[143988]['label'] = 'L'\n",
    "G.node[350]['label'] = 'L'\n",
    "G.node[2404]['label'] = 'L'\n",
    "G.node[14217]['label'] = 'L'\n",
    "G.node[121918]['label'] = 'L'"
   ]
  },
  {
   "cell_type": "code",
   "execution_count": 6,
   "metadata": {},
   "outputs": [],
   "source": [
    "test = node_classification.harmonic_function(G)"
   ]
  },
  {
   "cell_type": "code",
   "execution_count": 12,
   "metadata": {},
   "outputs": [
    {
     "name": "stdout",
     "output_type": "stream",
     "text": [
      "L\n",
      "L\n",
      "L\n",
      "L\n",
      "C\n",
      "C\n",
      "L\n",
      "C\n"
     ]
    }
   ],
   "source": [
    "print test[235341]\n",
    "print test[346815]\n",
    "print test[4937]\n",
    "print test[21434]\n",
    "print test[35444]\n",
    "print test[66253]\n",
    "print test[285090]\n",
    "print test[35443]"
   ]
  },
  {
   "cell_type": "code",
   "execution_count": null,
   "metadata": {
    "collapsed": true
   },
   "outputs": [],
   "source": []
  }
 ],
 "metadata": {
  "kernelspec": {
   "display_name": "Python 2",
   "language": "python",
   "name": "python2"
  },
  "language_info": {
   "codemirror_mode": {
    "name": "ipython",
    "version": 2
   },
   "file_extension": ".py",
   "mimetype": "text/x-python",
   "name": "python",
   "nbconvert_exporter": "python",
   "pygments_lexer": "ipython2",
   "version": "2.7.13"
  }
 },
 "nbformat": 4,
 "nbformat_minor": 2
}
